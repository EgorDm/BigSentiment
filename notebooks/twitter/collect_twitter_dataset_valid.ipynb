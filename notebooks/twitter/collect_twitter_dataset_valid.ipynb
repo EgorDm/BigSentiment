{
 "cells": [
  {
   "cell_type": "code",
   "execution_count": 6,
   "metadata": {
    "collapsed": true
   },
   "outputs": [],
   "source": [
    "import logging\n",
    "import pymongo\n",
    "from config import mongodb\n",
    "from utils.datasets import batched_dataset\n",
    "import pandas as pd\n",
    "import numpy as np\n",
    "import datetime as dt\n",
    "\n",
    "logger = logging.getLogger()\n",
    "logger.setLevel(logging.WARNING)"
   ]
  },
  {
   "cell_type": "code",
   "execution_count": 8,
   "outputs": [],
   "source": [
    "SAMPLE_SIZE = 1_000_000"
   ],
   "metadata": {
    "collapsed": false,
    "pycharm": {
     "name": "#%%\n"
    }
   }
  },
  {
   "cell_type": "code",
   "execution_count": 9,
   "outputs": [],
   "source": [
    "client = mongodb()\n",
    "scrapperdb = client['scrapper']\n",
    "collection = scrapperdb['tweets']"
   ],
   "metadata": {
    "collapsed": false,
    "pycharm": {
     "name": "#%%\n"
    }
   }
  },
  {
   "cell_type": "code",
   "execution_count": 15,
   "outputs": [],
   "source": [
    "query = collection.aggregate([\n",
    "    {'$match': {\n",
    "        'created_at': {'$gt': dt.datetime(year=2021, month=2, day=1)},\n",
    "    }},\n",
    "    {'$sample': {'size': SAMPLE_SIZE}},\n",
    "    {'$sort': {'created_at': 1}}\n",
    "], allowDiskUse=True)"
   ],
   "metadata": {
    "collapsed": false,
    "pycharm": {
     "name": "#%%\n"
    }
   }
  },
  {
   "cell_type": "code",
   "execution_count": 16,
   "outputs": [],
   "source": [
    "def callback(df):\n",
    "    df['_id'] = df['_id'].astype(np.int64)\n",
    "    df['user_id'] = df['user_id'].astype(str)\n",
    "    return df\n"
   ],
   "metadata": {
    "collapsed": false,
    "pycharm": {
     "name": "#%%\n"
    }
   }
  },
  {
   "cell_type": "code",
   "execution_count": 17,
   "outputs": [
    {
     "name": "stdout",
     "output_type": "stream",
     "text": [
      "Writing part 0\n",
      "Writing part 1\n",
      "Writing part 2\n",
      "Writing part 3\n"
     ]
    }
   ],
   "source": [
    "BATCH_SIZE = 10000\n",
    "DATASET_SIZE = BATCH_SIZE * 30\n",
    "batched_dataset(query, '../../data/bitcoin_twitter_test_raw', DATASET_SIZE, BATCH_SIZE, callback)\n"
   ],
   "metadata": {
    "collapsed": false,
    "pycharm": {
     "name": "#%%\n"
    }
   }
  },
  {
   "cell_type": "code",
   "execution_count": null,
   "outputs": [],
   "source": [],
   "metadata": {
    "collapsed": false,
    "pycharm": {
     "name": "#%%\n"
    }
   }
  }
 ],
 "metadata": {
  "kernelspec": {
   "display_name": "Python 3",
   "language": "python",
   "name": "python3"
  },
  "language_info": {
   "codemirror_mode": {
    "name": "ipython",
    "version": 2
   },
   "file_extension": ".py",
   "mimetype": "text/x-python",
   "name": "python",
   "nbconvert_exporter": "python",
   "pygments_lexer": "ipython2",
   "version": "2.7.6"
  }
 },
 "nbformat": 4,
 "nbformat_minor": 0
}