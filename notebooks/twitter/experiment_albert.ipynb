{
 "cells": [
  {
   "cell_type": "code",
   "execution_count": 1,
   "metadata": {
    "collapsed": true
   },
   "outputs": [],
   "source": [
    "from transformers import AlbertTokenizer, AlbertModel\n",
    "import torch"
   ]
  },
  {
   "cell_type": "code",
   "execution_count": 2,
   "outputs": [
    {
     "data": {
      "text/plain": "Downloading:   0%|          | 0.00/760k [00:00<?, ?B/s]",
      "application/vnd.jupyter.widget-view+json": {
       "version_major": 2,
       "version_minor": 0,
       "model_id": "ca73314302b04995b02cfe3180e339d9"
      }
     },
     "metadata": {},
     "output_type": "display_data"
    }
   ],
   "source": [
    "model = AlbertModel.from_pretrained('albert-base-v2')\n",
    "tokenizer = AlbertTokenizer.from_pretrained('albert-base-v1')"
   ],
   "metadata": {
    "collapsed": false,
    "pycharm": {
     "name": "#%%\n"
    }
   }
  },
  {
   "cell_type": "code",
   "execution_count": 8,
   "outputs": [
    {
     "name": "stdout",
     "output_type": "stream",
     "text": [
      "bitcoin’s 2016 fractal shows ##ethereum may see 6000% rally by 2023: a prominent analyst within the... https://t.co/hqvcee6ubo #blockchain\n"
     ]
    },
    {
     "data": {
      "text/plain": "{'input_ids': tensor([[    2,  1142,   716,   108,     1,    18,   690,    13, 15891,  3663,\n          1285,  6926,  5910,    62,  1887,   723,   123,   196,  7316,  3621,\n          6950,    34,   434,  2001,    45,    21,  2357, 13943,   363,    14,\n             9,     9,     9,  7775,    18,  6903,    38,     9,   716,   118,\n         13405,   710, 21553,   379,   291,  1192,  6926, 12048, 17317,     3]]), 'token_type_ids': tensor([[0, 0, 0, 0, 0, 0, 0, 0, 0, 0, 0, 0, 0, 0, 0, 0, 0, 0, 0, 0, 0, 0, 0, 0,\n         0, 0, 0, 0, 0, 0, 0, 0, 0, 0, 0, 0, 0, 0, 0, 0, 0, 0, 0, 0, 0, 0, 0, 0,\n         0, 0]]), 'attention_mask': tensor([[1, 1, 1, 1, 1, 1, 1, 1, 1, 1, 1, 1, 1, 1, 1, 1, 1, 1, 1, 1, 1, 1, 1, 1,\n         1, 1, 1, 1, 1, 1, 1, 1, 1, 1, 1, 1, 1, 1, 1, 1, 1, 1, 1, 1, 1, 1, 1, 1,\n         1, 1]])}"
     },
     "execution_count": 8,
     "metadata": {},
     "output_type": "execute_result"
    }
   ],
   "source": [
    "text = \"Bitcoin’s 2016 Fractal Shows ##Ethereum May See 6000% Rally by 2023: A prominent analyst within the… https://t.co/HqVcEE6ubo #Blockchain\"\n",
    "print(tokenizer.preprocess_text(text))\n",
    "\n",
    "inputs = tokenizer(text, return_tensors=\"pt\")\n",
    "inputs"
   ],
   "metadata": {
    "collapsed": false,
    "pycharm": {
     "name": "#%%\n"
    }
   }
  },
  {
   "cell_type": "code",
   "execution_count": 32,
   "outputs": [],
   "source": [
    "rev_vocab = {i: s for s, i in tokenizer.get_vocab().items()}"
   ],
   "metadata": {
    "collapsed": false,
    "pycharm": {
     "name": "#%%\n"
    }
   }
  },
  {
   "cell_type": "code",
   "execution_count": 26,
   "outputs": [
    {
     "data": {
      "text/plain": "'[CLS] ▁bit co in <unk> s ▁2016 ▁ frac tal ▁shows ▁# # e there um ▁may ▁see ▁600 0% ▁rally ▁by ▁20 23 : ▁a ▁prominent ▁analyst ▁within ▁the . . . ▁http s :// t . co / hq v cee 6 u bo ▁# block chain [SEP]'"
     },
     "execution_count": 26,
     "metadata": {},
     "output_type": "execute_result"
    }
   ],
   "source": [
    "' '.join([rev_vocab[int(i)] for i in inputs.data['input_ids'][0]])"
   ],
   "metadata": {
    "collapsed": false,
    "pycharm": {
     "name": "#%%\n"
    }
   }
  },
  {
   "cell_type": "code",
   "execution_count": 31,
   "outputs": [
    {
     "name": "stdout",
     "output_type": "stream",
     "text": [
      "torch.Size([1, 50, 768])\n"
     ]
    },
    {
     "data": {
      "text/plain": "tensor([[[ 1.2771, -0.0977,  1.0798,  ..., -1.5459,  0.6006, -0.4138],\n         [ 0.5669, -0.4483, -0.8369,  ..., -0.0664,  0.5266, -0.6285],\n         [ 0.0709,  0.1593,  0.8308,  ...,  0.1810, -0.1801, -1.0989],\n         ...,\n         [ 0.5537, -0.8314,  0.6511,  ..., -0.1879,  0.8955, -1.5443],\n         [ 1.0356, -1.2146,  0.4929,  ..., -0.3561,  0.5259, -2.1565],\n         [ 0.0819,  0.1058, -0.0719,  ..., -0.1187,  0.1487,  0.1710]]],\n       grad_fn=<NativeLayerNormBackward>)"
     },
     "execution_count": 31,
     "metadata": {},
     "output_type": "execute_result"
    }
   ],
   "source": [
    "outputs = model(**inputs)\n",
    "print(outputs.last_hidden_state.shape)\n",
    "outputs.last_hidden_state"
   ],
   "metadata": {
    "collapsed": false,
    "pycharm": {
     "name": "#%%\n"
    }
   }
  },
  {
   "cell_type": "code",
   "execution_count": null,
   "outputs": [],
   "source": [],
   "metadata": {
    "collapsed": false,
    "pycharm": {
     "name": "#%%\n"
    }
   }
  }
 ],
 "metadata": {
  "kernelspec": {
   "display_name": "Python 3",
   "language": "python",
   "name": "python3"
  },
  "language_info": {
   "codemirror_mode": {
    "name": "ipython",
    "version": 2
   },
   "file_extension": ".py",
   "mimetype": "text/x-python",
   "name": "python",
   "nbconvert_exporter": "python",
   "pygments_lexer": "ipython2",
   "version": "2.7.6"
  }
 },
 "nbformat": 4,
 "nbformat_minor": 0
}