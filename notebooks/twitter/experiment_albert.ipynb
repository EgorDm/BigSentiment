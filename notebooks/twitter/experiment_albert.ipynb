{
 "cells": [
  {
   "cell_type": "code",
   "execution_count": 3,
   "metadata": {
    "collapsed": true
   },
   "outputs": [],
   "source": [
    "from transformers import AlbertTokenizer\n",
    "from utils.datasets import load_helper_file"
   ]
  },
  {
   "cell_type": "code",
   "execution_count": 9,
   "outputs": [],
   "source": [
    "tokenizer = AlbertTokenizer.from_pretrained('albert-base-v2')"
   ],
   "metadata": {
    "collapsed": false,
    "pycharm": {
     "name": "#%%\n"
    }
   }
  },
  {
   "cell_type": "code",
   "execution_count": 10,
   "outputs": [
    {
     "data": {
      "text/plain": "377"
     },
     "execution_count": 10,
     "metadata": {},
     "output_type": "execute_result"
    }
   ],
   "source": [
    "custom_vocabulary_extra     = load_helper_file('custom_vocabulary_extra')\n",
    "tokenizer.add_tokens(list(custom_vocabulary_extra))"
   ],
   "metadata": {
    "collapsed": false,
    "pycharm": {
     "name": "#%%\n"
    }
   }
  },
  {
   "cell_type": "code",
   "execution_count": 13,
   "outputs": [
    {
     "name": "stdout",
     "output_type": "stream",
     "text": [
      "new antminer s9j - 14 . @num[5.0] t from @usr[bitmain] mining sha256 ( @htag[btc] @curr[bitcoin_cash] ) with hashrate @num[1.45] th / @num[1650.0] w added to tracking list s9j\n"
     ]
    },
    {
     "data": {
      "text/plain": "{'input_ids': tensor([[    2,    78, 30142, 30146,   487,    13,     8,   513,    13,     9,\n         30219,   636,   264,     9,   387,   500,    13,    38,    37, 30303,\n          4243,  4116, 16910,    13,     5, 30300, 30155,    13,     6,    29,\n         30366, 30219,   636,   165,     9,  2520,   500,    13,    96,    13,\n           118, 30219,   636,  1091,  2290,     9,   387,   500,   619,   905,\n            20, 10353,   968, 30146,   487,     3]]), 'token_type_ids': tensor([[0, 0, 0, 0, 0, 0, 0, 0, 0, 0, 0, 0, 0, 0, 0, 0, 0, 0, 0, 0, 0, 0, 0, 0,\n         0, 0, 0, 0, 0, 0, 0, 0, 0, 0, 0, 0, 0, 0, 0, 0, 0, 0, 0, 0, 0, 0, 0, 0,\n         0, 0, 0, 0, 0, 0, 0, 0]]), 'attention_mask': tensor([[1, 1, 1, 1, 1, 1, 1, 1, 1, 1, 1, 1, 1, 1, 1, 1, 1, 1, 1, 1, 1, 1, 1, 1,\n         1, 1, 1, 1, 1, 1, 1, 1, 1, 1, 1, 1, 1, 1, 1, 1, 1, 1, 1, 1, 1, 1, 1, 1,\n         1, 1, 1, 1, 1, 1, 1, 1]])}"
     },
     "execution_count": 13,
     "metadata": {},
     "output_type": "execute_result"
    }
   ],
   "source": [
    "#text = \"dump alert ! hot / @CURR[bitcoin] decreased by @NUM[-5.55] percent in a minute on @USR[binance] @HTAG[hydro_protocol] @CURR[bitcoin] @CURR[bitcoin] @HTAG[altcoins] @HTAG[currency] @HTAG[trading] @HTAG[money] @HTAG[cryptocurrency] @HTAG[blockchain] @HTAG[cryptocurrency]\"\n",
    "text = r\"new antminer s9j - 14 . @NUM[5.0] t from @USR[bitmain] mining sha256 ( @HTAG[btc] @CURR[bitcoin_cash] ) with hashrate @NUM[1.45] th / @NUM[1650.0] w added to tracking list s9j\"\n",
    "print(tokenizer.preprocess_text(text))\n",
    "\n",
    "inputs = tokenizer(text, return_tensors=\"pt\")\n",
    "inputs"
   ],
   "metadata": {
    "collapsed": false,
    "pycharm": {
     "name": "#%%\n"
    }
   }
  },
  {
   "cell_type": "code",
   "execution_count": 14,
   "outputs": [],
   "source": [
    "rev_vocab = {i: s for s, i in tokenizer.get_vocab().items()}"
   ],
   "metadata": {
    "collapsed": false,
    "pycharm": {
     "name": "#%%\n"
    }
   }
  },
  {
   "cell_type": "code",
   "execution_count": 15,
   "outputs": [
    {
     "data": {
      "text/plain": "'[CLS] ▁new antminer s9 ▁j ▁ - ▁14 ▁ . @num ▁[ 5 . 0 ] ▁ t ▁from @usr[bitmain] ▁mining ▁sha 256 ▁ ( @htag[btc] @curr[bitcoin_cash] ▁ ) ▁with hashrate @num ▁[ 1 . 45 ] ▁ th ▁ / @num ▁[ 16 50 . 0 ] ▁w ▁added ▁to ▁tracking ▁list s9 ▁j [SEP]'"
     },
     "execution_count": 15,
     "metadata": {},
     "output_type": "execute_result"
    }
   ],
   "source": [
    "' '.join([rev_vocab[int(i)] for i in inputs.data['input_ids'][0]])\n"
   ],
   "metadata": {
    "collapsed": false,
    "pycharm": {
     "name": "#%%\n"
    }
   }
  },
  {
   "cell_type": "code",
   "execution_count": null,
   "outputs": [],
   "source": [],
   "metadata": {
    "collapsed": false,
    "pycharm": {
     "name": "#%%\n"
    }
   }
  }
 ],
 "metadata": {
  "kernelspec": {
   "display_name": "Python 3",
   "language": "python",
   "name": "python3"
  },
  "language_info": {
   "codemirror_mode": {
    "name": "ipython",
    "version": 2
   },
   "file_extension": ".py",
   "mimetype": "text/x-python",
   "name": "python",
   "nbconvert_exporter": "python",
   "pygments_lexer": "ipython2",
   "version": "2.7.6"
  }
 },
 "nbformat": 4,
 "nbformat_minor": 0
}