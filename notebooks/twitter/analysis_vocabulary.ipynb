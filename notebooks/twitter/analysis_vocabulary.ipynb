{
 "cells": [
  {
   "cell_type": "code",
   "execution_count": 1,
   "metadata": {
    "collapsed": true
   },
   "outputs": [],
   "source": [
    "import pathlib\n",
    "import emoji\n",
    "import numpy as np\n",
    "import pandas as pd\n",
    "#For displaying complete rows info\n",
    "from utils.datasets import load_helper_file\n",
    "pd.options.display.max_colwidth=500\n",
    "import nltk\n",
    "from nltk.corpus import stopwords\n",
    "from collections import Counter"
   ]
  },
  {
   "cell_type": "code",
   "execution_count": 2,
   "outputs": [
    {
     "name": "stderr",
     "output_type": "stream",
     "text": [
      "[nltk_data] Downloading package stopwords to /home/egordm/nltk_data...\n",
      "[nltk_data]   Package stopwords is already up-to-date!\n"
     ]
    }
   ],
   "source": [
    "nltk.download('stopwords')\n",
    "all_stopwords = stopwords.words('english')\n",
    "emoji_dict = set(e for lang in emoji.UNICODE_EMOJI.values() for e in lang)\n",
    "bert_uncased_vocabulary = set(load_helper_file('helper_bert_uncased_vocabulary'))"
   ],
   "metadata": {
    "collapsed": false,
    "pycharm": {
     "name": "#%%\n"
    }
   }
  },
  {
   "cell_type": "code",
   "execution_count": 3,
   "outputs": [
    {
     "name": "stdout",
     "output_type": "stream",
     "text": [
      "Processing chunk: 0\n",
      "Processing chunk: 1\n",
      "Processing chunk: 2\n",
      "Processing chunk: 3\n",
      "Processing chunk: 4\n",
      "Processing chunk: 5\n",
      "Processing chunk: 6\n",
      "Processing chunk: 7\n",
      "Processing chunk: 8\n",
      "Processing chunk: 9\n",
      "Processing chunk: 10\n",
      "Processing chunk: 11\n",
      "Processing chunk: 12\n",
      "Processing chunk: 13\n",
      "Processing chunk: 14\n",
      "Processing chunk: 15\n",
      "Processing chunk: 16\n",
      "Processing chunk: 17\n",
      "Processing chunk: 18\n",
      "Processing chunk: 19\n",
      "Processing chunk: 20\n",
      "Processing chunk: 21\n",
      "Processing chunk: 22\n",
      "Processing chunk: 23\n",
      "Processing chunk: 24\n",
      "Processing chunk: 25\n",
      "Processing chunk: 26\n",
      "Processing chunk: 27\n",
      "Processing chunk: 28\n"
     ]
    }
   ],
   "source": [
    "counter = nltk.FreqDist()\n",
    "files = pathlib.Path(\"../../data/bitcoin_twitter_processed/\").glob(\"part_*.parquet\")\n",
    "for chunk, file in enumerate(files):\n",
    "    print(f'Processing chunk: {chunk}')\n",
    "    data = pd.read_parquet(file)\n",
    "    for i, row in data.iterrows():\n",
    "        for w in row['text'].split():\n",
    "            if w not in all_stopwords:\n",
    "                counter[w] += 1"
   ],
   "metadata": {
    "collapsed": false,
    "pycharm": {
     "name": "#%%\n"
    }
   }
  },
  {
   "cell_type": "code",
   "execution_count": 4,
   "outputs": [
    {
     "name": "stdout",
     "output_type": "stream",
     "text": [
      "#words 2167396\n",
      "Most common overall words\n"
     ]
    },
    {
     "data": {
      "text/plain": "[('@CURR[bitcoin]', 11974954),\n ('.', 5698238),\n ('@HTAG[cryptocurrency]', 5091204),\n (':', 2857194),\n (',', 2817052),\n ('-', 2734337),\n ('usd', 2694688),\n ('@CURR[ethereum]', 2446279),\n ('!', 1921115),\n ('@HTAG[blockchain]', 1887974),\n ('(', 1454720),\n (')', 1306028),\n ('percent', 1014426),\n ('@CURR[xrp]', 925564),\n ('@CURR[litecoin]', 825832),\n ('@HTAG[altcoins]', 752548),\n ('price', 721093),\n ('?', 704258),\n ('/', 681763),\n ('\"', 620558),\n ('|', 596574),\n ('buy', 550188),\n ('#', 472014),\n ('get', 437889),\n ('market', 421334),\n ('@USR[binance]', 418264),\n ('free', 411959),\n ('@HTAG[ico]', 403617),\n ('new', 374979),\n ('@HTAG[airdrop]', 372870),\n ('@CURR[tron]', 372191),\n ('[', 367357),\n (']', 365830),\n ('1', 358583),\n ('@CURR[bitcoin_cash]', 352643),\n ('sell', 352517),\n (\"'\", 338116),\n ('@HTAG[trading]', 330430),\n ('$', 317455),\n ('💰', 291550),\n ('via', 288251),\n ('last', 285195),\n ('exchange', 284439),\n ('@', 278729),\n ('=', 271228),\n ('one', 267979),\n ('join', 248373),\n ('time', 236226),\n ('@HTAG[fintech]', 233930),\n ('@HTAG[stellar]', 233560)]"
     },
     "execution_count": 4,
     "metadata": {},
     "output_type": "execute_result"
    }
   ],
   "source": [
    "print(f'#words {len(counter)}')\n",
    "print(f'Most common overall words')\n",
    "counter.most_common(50)"
   ],
   "metadata": {
    "collapsed": false,
    "pycharm": {
     "name": "#%%\n"
    }
   }
  },
  {
   "cell_type": "code",
   "execution_count": 5,
   "outputs": [
    {
     "name": "stdout",
     "output_type": "stream",
     "text": [
      "Most common overall excluding symbols and existing vocab\n"
     ]
    },
    {
     "data": {
      "text/plain": "[('@CURR[bitcoin]', 11974954),\n ('@HTAG[cryptocurrency]', 5091204),\n ('@CURR[ethereum]', 2446279),\n ('@HTAG[blockchain]', 1887974),\n ('@CURR[xrp]', 925564),\n ('@CURR[litecoin]', 825832),\n ('@HTAG[altcoins]', 752548),\n ('@USR[binance]', 418264),\n ('@HTAG[ico]', 403617),\n ('@HTAG[airdrop]', 372870),\n ('@CURR[tron]', 372191),\n ('@CURR[bitcoin_cash]', 352643),\n ('@HTAG[trading]', 330430),\n ('💰', 291550),\n ('@HTAG[fintech]', 233930),\n ('@HTAG[stellar]', 233560),\n ('@CURR[eos]', 229879),\n ('@CURR[cardano]', 223476),\n ('@CURR[dogecoin]', 219238),\n ('@URL[twitter.com]', 208265),\n ('🚀', 198358),\n ('@HTAG[money]', 194465),\n ('@HTAG[news]', 193707),\n ('@NUM[1.0]', 193019),\n ('@HTAG[cryptonews]', 179999),\n ('@HTAG[cryptotrading]', 174403),\n ('@CURR[binance_coin]', 168038),\n ('@HTAG[jobs]', 166553),\n ('@HTAG[hiring]', 164813),\n ('@HTAG[careers]', 163525),\n ('@HTAG[btcusd]', 163488),\n ('@HTAG[tokensale]', 163262),\n ('@NUM[0.0]', 162947),\n ('@CURR[inr]', 158074),\n ('@USR[coinbase]', 151781),\n ('😵', 150707),\n ('@CURR[monero]', 150512),\n ('@URL[url]', 149010),\n ('@CURR[gbp]', 141366),\n ('@CURR[tether]', 139628),\n ('@CURR[neo]', 138132),\n ('@CURR[dash]', 135301),\n ('@HTAG[forex]', 125821),\n ('@HTAG[business]', 124970),\n ('@HTAG[ai]', 124025),\n ('@HTAG[ether]', 120830),\n ('@HTAG[investing]', 117417),\n ('@NUM[24.0]', 116206),\n ('📋', 113533),\n ('🔥', 111696)]"
     },
     "execution_count": 5,
     "metadata": {},
     "output_type": "execute_result"
    }
   ],
   "source": [
    "print(f'Most common overall excluding symbols and existing vocab')\n",
    "cleaned_counter = counter.copy()\n",
    "SYMBOLS = '{}()[].,:;?#!+-*/&|<>@%\"\\'=~$1234567890'\n",
    "for k in SYMBOLS:\n",
    "    if k in cleaned_counter:\n",
    "        cleaned_counter.pop(k)\n",
    "\n",
    "used_words = set(k for k in cleaned_counter.keys() if k in bert_uncased_vocabulary)\n",
    "for k in bert_uncased_vocabulary:\n",
    "    if k in cleaned_counter:\n",
    "        cleaned_counter.pop(k)\n",
    "cleaned_counter.most_common(50)"
   ],
   "metadata": {
    "collapsed": false,
    "pycharm": {
     "name": "#%%\n"
    }
   }
  },
  {
   "cell_type": "code",
   "execution_count": 6,
   "outputs": [
    {
     "name": "stdout",
     "output_type": "stream",
     "text": [
      "Vocab size: 30522, Vocab used: 22315, Words unknown: 2145043\n"
     ]
    }
   ],
   "source": [
    "print(f'Vocab size: {len(bert_uncased_vocabulary)}, Vocab used: {len(used_words)}, Words unknown: {len(cleaned_counter)}')"
   ],
   "metadata": {
    "collapsed": false,
    "pycharm": {
     "name": "#%%\n"
    }
   }
  },
  {
   "cell_type": "code",
   "execution_count": 7,
   "outputs": [
    {
     "name": "stdout",
     "output_type": "stream",
     "text": [
      "Most common words\n"
     ]
    },
    {
     "data": {
      "text/plain": "[('mins', 75894),\n ('arb', 74187),\n ('retweet', 52951),\n ('ico', 52515),\n ('bullish', 51796),\n ('buysellbitco', 51064),\n ('satoshi', 50868),\n ('gmt', 47162),\n ('decentralized', 35943),\n ('referral', 32912),\n ('tweet', 32074),\n ('faucet', 29256),\n ('libra', 28510),\n ('currencies', 28129),\n ('avg', 26188),\n ('cryptsy', 25639),\n ('etf', 25512),\n ('giveaway', 25366),\n ('gh', 25001),\n ('antminer', 24662),\n ('bitfinex', 23452),\n ('bearish', 23373),\n ('dm', 23230),\n ('scam', 20691),\n ('bpi', 20509),\n ('trending', 20497),\n ('forex', 19755),\n ('coindesk', 19065),\n ('bitcome', 17542),\n ('mercadobitcoin', 17125),\n ('halving', 16854),\n ('alts', 16606),\n ('cryptos', 16438),\n ('volatility', 16380),\n ('rsi', 15835),\n ('edt', 14897),\n ('dont', 14553),\n ('sats', 14515),\n ('lol', 14066),\n ('timeframe', 13677),\n ('ath', 13348),\n ('bakkt', 13137),\n ('dapp', 13105),\n ('fintech', 13057),\n ('tradingview', 12713),\n ('nakamoto', 11977),\n ('satoshis', 11811),\n ('bst', 11311),\n ('btcusd', 11274),\n ('tokenized', 11266)]"
     },
     "execution_count": 7,
     "metadata": {},
     "output_type": "execute_result"
    }
   ],
   "source": [
    "print('Most common words')\n",
    "word_counter = cleaned_counter.copy()\n",
    "for k in list(word_counter.keys()):\n",
    "    if k.startswith('@') or k in emoji_dict:\n",
    "        word_counter.pop(k)\n",
    "word_counter.most_common(50)"
   ],
   "metadata": {
    "collapsed": false,
    "pycharm": {
     "name": "#%%\n"
    }
   }
  },
  {
   "cell_type": "code",
   "execution_count": 8,
   "outputs": [
    {
     "name": "stdout",
     "output_type": "stream",
     "text": [
      "Most common emojis\n"
     ]
    },
    {
     "data": {
      "text/plain": "[('💰', 291550),\n ('🚀', 198358),\n ('😵', 150707),\n ('📋', 113533),\n ('🔥', 111696),\n ('✅', 97926),\n ('➡', 78096),\n ('📈', 65907),\n ('👉', 62023),\n ('⏰', 59211),\n ('🎁', 55332),\n ('▶', 49456),\n ('👇', 48867),\n ('☠', 46014),\n ('⬇', 34140),\n ('💶', 33369),\n ('😁', 33122),\n ('😂', 32227),\n ('❤', 32053),\n ('⚡', 31352),\n ('🤑', 31142),\n ('💥', 31110),\n ('🔄', 29996),\n ('📉', 29963),\n ('📢', 29887),\n ('⭐', 29116),\n ('👍', 25927),\n ('😎', 25292),\n ('✔', 24230),\n ('💯', 22651),\n ('🗺', 21459),\n ('🏆', 20000),\n ('💸', 19986),\n ('😍', 19311),\n ('💵', 18614),\n ('🚨', 18382),\n ('🤔', 18237),\n ('👀', 16388),\n ('🏻', 15144),\n ('😉', 14457),\n ('🤣', 14391),\n ('💪', 13147),\n ('🏼', 12918),\n ('🙏', 12873),\n ('🎉', 12331),\n ('🔹', 12204),\n ('🌧', 11002),\n ('💎', 10970),\n ('🍀', 10858),\n ('♂', 10668)]"
     },
     "execution_count": 8,
     "metadata": {},
     "output_type": "execute_result"
    }
   ],
   "source": [
    "print('Most common emojis')\n",
    "emoji_counter = cleaned_counter.copy()\n",
    "for k in list(emoji_counter.keys()):\n",
    "    if k not in emoji_dict:\n",
    "        emoji_counter.pop(k)\n",
    "emoji_counter.most_common(50)"
   ],
   "metadata": {
    "collapsed": false,
    "pycharm": {
     "name": "#%%\n"
    }
   }
  },
  {
   "cell_type": "code",
   "execution_count": 9,
   "outputs": [
    {
     "name": "stdout",
     "output_type": "stream",
     "text": [
      "Most common currencies\n"
     ]
    },
    {
     "data": {
      "text/plain": "[('@CURR[bitcoin]', 11974954),\n ('@CURR[ethereum]', 2446279),\n ('@CURR[xrp]', 925564),\n ('@CURR[litecoin]', 825832),\n ('@CURR[tron]', 372191),\n ('@CURR[bitcoin_cash]', 352643),\n ('@CURR[eos]', 229879),\n ('@CURR[cardano]', 223476),\n ('@CURR[dogecoin]', 219238),\n ('@CURR[binance_coin]', 168038),\n ('@CURR[inr]', 158074),\n ('@CURR[monero]', 150512),\n ('@CURR[gbp]', 141366),\n ('@CURR[tether]', 139628),\n ('@CURR[neo]', 138132),\n ('@CURR[dash]', 135301),\n ('@CURR[eur]', 106999),\n ('@CURR[usd]', 102758),\n ('@CURR[iota]', 71388),\n ('@CURR[zcash]', 71284),\n ('@CURR[nem]', 64833),\n ('@CURR[chainlink]', 64130),\n ('@CURR[bitcoin_sv]', 63085),\n ('@CURR[digibyte]', 56976),\n ('@CURR[ethereum_classic]', 54463),\n ('@CURR[tezos]', 47392),\n ('@CURR[link]', 46401),\n ('@CURR[omg]', 39918),\n ('@CURR[bittorrent]', 33351),\n ('@CURR[vechain]', 32677),\n ('@CURR[zilliqa]', 29769),\n ('@CURR[bitcoin_gold]', 27572),\n ('@CURR[qtum]', 27084),\n ('@CURR[ontology]', 24523),\n ('@CURR[jpy]', 22616),\n ('@CURR[polygon]', 20420),\n ('@CURR[ravencoin]', 19607),\n ('@CURR[basic_attention_token]', 17964),\n ('@CURR[decred]', 17575),\n ('@CURR[mxn]', 17419),\n ('@CURR[enjin_coin]', 14816),\n ('@CURR[bancor]', 14171),\n ('@CURR[uniswap]', 13987),\n ('@CURR[iostoken]', 13810),\n ('@CURR[siacoin]', 13418),\n ('@CURR[algorand]', 12965),\n ('@CURR[usd_coin]', 9679),\n ('@CURR[quant]', 9337),\n ('@CURR[huobi_token]', 8981),\n ('@CURR[cny]', 8657)]"
     },
     "execution_count": 9,
     "metadata": {},
     "output_type": "execute_result"
    }
   ],
   "source": [
    "print('Most common currencies')\n",
    "currency_counter = cleaned_counter.copy()\n",
    "for k in list(currency_counter.keys()):\n",
    "    if not k.startswith('@CURR'):\n",
    "        currency_counter.pop(k)\n",
    "currency_counter.most_common(50)"
   ],
   "metadata": {
    "collapsed": false,
    "pycharm": {
     "name": "#%%\n"
    }
   }
  },
  {
   "cell_type": "code",
   "execution_count": 10,
   "outputs": [
    {
     "name": "stdout",
     "output_type": "stream",
     "text": [
      "Most common hashtags\n"
     ]
    },
    {
     "data": {
      "text/plain": "[('@HTAG[cryptocurrency]', 5091204),\n ('@HTAG[blockchain]', 1887974),\n ('@HTAG[altcoins]', 752548),\n ('@HTAG[ico]', 403617),\n ('@HTAG[airdrop]', 372870),\n ('@HTAG[trading]', 330430),\n ('@HTAG[fintech]', 233930),\n ('@HTAG[stellar]', 233560),\n ('@HTAG[money]', 194465),\n ('@HTAG[news]', 193707),\n ('@HTAG[cryptonews]', 179999),\n ('@HTAG[cryptotrading]', 174403),\n ('@HTAG[jobs]', 166553),\n ('@HTAG[hiring]', 164813),\n ('@HTAG[careers]', 163525),\n ('@HTAG[btcusd]', 163488),\n ('@HTAG[tokensale]', 163262),\n ('@HTAG[forex]', 125821),\n ('@HTAG[business]', 124970),\n ('@HTAG[ai]', 124025),\n ('@HTAG[ether]', 120830),\n ('@HTAG[investing]', 117417),\n ('@HTAG[bounty]', 106162),\n ('@HTAG[hodl]', 97115),\n ('@HTAG[exchange]', 95707),\n ('@HTAG[bitcoinnews]', 94260),\n ('@HTAG[investment]', 93955),\n ('@HTAG[token]', 92127),\n ('@HTAG[airdrops]', 90608),\n ('@HTAG[bitfinex]', 86175),\n ('@HTAG[coin]', 82776),\n ('@HTAG[mining]', 81040),\n ('@HTAG[ieo]', 79904),\n ('@HTAG[price]', 77403),\n ('@HTAG[finance]', 76436),\n ('@HTAG[etc]', 74786),\n ('@HTAG[stocks]', 70185),\n ('@HTAG[startup]', 69670),\n ('@HTAG[india]', 69395),\n ('@HTAG[gold]', 68560),\n ('@HTAG[tech]', 67300),\n ('@HTAG[newyork]', 65290),\n ('@HTAG[market]', 63079),\n ('@HTAG[giveaway]', 61906),\n ('@HTAG[free]', 61313),\n ('@HTAG[iot]', 59723),\n ('@HTAG[bitcoinmining]', 58461),\n ('@HTAG[invest]', 57793),\n ('@HTAG[btc]', 57024),\n ('@HTAG[cryptocurrencynews]', 55250)]"
     },
     "execution_count": 10,
     "metadata": {},
     "output_type": "execute_result"
    }
   ],
   "source": [
    "print('Most common hashtags')\n",
    "htag_counter = cleaned_counter.copy()\n",
    "for k in list(htag_counter.keys()):\n",
    "    if not k.startswith('@HTAG'):\n",
    "        htag_counter.pop(k)\n",
    "htag_counter.most_common(50)"
   ],
   "metadata": {
    "collapsed": false,
    "pycharm": {
     "name": "#%%\n"
    }
   }
  },
  {
   "cell_type": "code",
   "execution_count": 11,
   "outputs": [
    {
     "name": "stdout",
     "output_type": "stream",
     "text": [
      "Most common users\n"
     ]
    },
    {
     "data": {
      "text/plain": "[('@USR[binance]', 418264),\n ('@USR[coinbase]', 151781),\n ('@USR[bitstamp]', 110915),\n ('@USR[bittrex]', 101042),\n ('@USR[bitmex]', 74383),\n ('@USR[bitmain]', 38031),\n ('@USR[cointelegraph]', 37525),\n ('@USR[poloniex]', 35655),\n ('@USR[paypal]', 34678),\n ('@USR[kraken]', 33195),\n ('@USR[dapp_com]', 27044),\n ('@USR[bot_strategy]', 25365),\n ('@USR[coindesk]', 24237),\n ('@USR[apompliano]', 20729),\n ('@USR[youtube]', 17564),\n ('@USR[cz_binance]', 15037),\n ('@USR[quark_chain]', 14413),\n ('@USR[bitpay]', 10985),\n ('@USR[realdonaldtrump]', 9793),\n ('@USR[listia!]', 9278),\n ('@USR[tradesatoshi]', 9274),\n ('@USR[btctn]', 8339),\n ('@USR[pynk_io]', 8054),\n ('@USR[xcardbymobilum]', 8028),\n ('@USR[cryptoadventura]', 7820),\n ('@USR[forbes]', 7658),\n ('@USR[peterschiff]', 7343),\n ('@USR[justinsuntron]', 7166),\n ('@USR[ripple]', 7074),\n ('@USR[officialmcafee]', 6275),\n ('@USR[thecollectivego]', 5993),\n ('@USR[bizpaye]', 5947),\n ('@USR[digitexfutures]', 5886),\n ('@USR[murthaburke]', 5447),\n ('@USR[cnbc]', 5176),\n ('@USR[aantonop]', 5004),\n ('@USR[hepays]', 4924),\n ('@USR[mtgox]', 4778),\n ('@USR[business]', 4766),\n ('@USR[p2psf]', 4729),\n ('@USR[securypto]', 4559),\n ('@USR[bitcoinmagazine]', 4516),\n ('@USR[pngmemobile]', 4516),\n ('@USR[whitebit6]', 4473),\n ('@USR[elonmusk]', 4363),\n ('@USR[reuters]', 4311),\n ('@USR[bittrexexchange]', 4212),\n ('@USR[bitfinex]', 4174),\n ('@USR[tron_squad]', 4084),\n ('@USR[bitrueofficial]', 3985)]"
     },
     "execution_count": 11,
     "metadata": {},
     "output_type": "execute_result"
    }
   ],
   "source": [
    "print('Most common users')\n",
    "usr_counter = cleaned_counter.copy()\n",
    "for k in list(usr_counter.keys()):\n",
    "    if not k.startswith('@USR'):\n",
    "        usr_counter.pop(k)\n",
    "usr_counter.most_common(50)"
   ],
   "metadata": {
    "collapsed": false,
    "pycharm": {
     "name": "#%%\n"
    }
   }
  },
  {
   "cell_type": "code",
   "execution_count": 12,
   "outputs": [
    {
     "name": "stdout",
     "output_type": "stream",
     "text": [
      "Most common numbers\n"
     ]
    },
    {
     "data": {
      "text/plain": "[('@NUM[1.0]', 193019),\n ('@NUM[0.0]', 162947),\n ('@NUM[24.0]', 116206),\n ('@NUM[100.0]', 78759),\n ('@NUM[10.0]', 75763),\n ('@NUM[5.0]', 63889),\n ('@NUM[10000.0]', 56932),\n ('@NUM[100000.0]', 51997),\n ('@NUM[3.0]', 50358),\n ('@NUM[2.0]', 41925),\n ('@NUM[7.0]', 41056),\n ('@NUM[50.0]', 40635),\n ('@NUM[1000.0]', 39543),\n ('@NUM[4.0]', 37608),\n ('@NUM[1000000.0]', 34608),\n ('@NUM[20.0]', 34557),\n ('@NUM[30.0]', 32069),\n ('@NUM[6.0]', 27342),\n ('@NUM[2.48]', 25856),\n ('@NUM[15.0]', 25681),\n ('@NUM[200.0]', 22995),\n ('@NUM[0.01]', 22006),\n ('@NUM[25.0]', 20208),\n ('@NUM[8000.0]', 19563),\n ('@NUM[50000.0]', 19455),\n ('@NUM[0.15]', 19175),\n ('@NUM[0.05]', 18956),\n ('@NUM[500.0]', 18837),\n ('@NUM[20000.0]', 18353),\n ('@NUM[5000.0]', 17946),\n ('@NUM[2000.0]', 17923),\n ('@NUM[0.2]', 17801),\n ('@NUM[8.0]', 17570),\n ('@NUM[300.0]', 15488),\n ('@NUM[400.0]', 14907),\n ('@NUM[9000.0]', 14736),\n ('@NUM[40.0]', 13701),\n ('@NUM[0.25]', 13253),\n ('@NUM[420.0]', 12659),\n ('@NUM[12.0]', 12294),\n ('@NUM[9.0]', 12153),\n ('@NUM[0.02]', 11462),\n ('@NUM[7000.0]', 11408),\n ('@NUM[600.0]', 11008),\n ('@NUM[6000.0]', 10918),\n ('@NUM[11.0]', 10878),\n ('@NUM[0.03]', 10624),\n ('@NUM[11000.0]', 10611),\n ('@NUM[0.04]', 10402),\n ('@NUM[12000.0]', 10295)]"
     },
     "execution_count": 12,
     "metadata": {},
     "output_type": "execute_result"
    }
   ],
   "source": [
    "print('Most common numbers')\n",
    "num_counter = cleaned_counter.copy()\n",
    "for k in list(num_counter.keys()):\n",
    "    if not k.startswith('@NUM'):\n",
    "        num_counter.pop(k)\n",
    "num_counter.most_common(50)"
   ],
   "metadata": {
    "collapsed": false,
    "pycharm": {
     "name": "#%%\n"
    }
   }
  },
  {
   "cell_type": "code",
   "execution_count": null,
   "outputs": [],
   "source": [],
   "metadata": {
    "collapsed": false,
    "pycharm": {
     "name": "#%%\n"
    }
   }
  }
 ],
 "metadata": {
  "kernelspec": {
   "display_name": "Python 3",
   "language": "python",
   "name": "python3"
  },
  "language_info": {
   "codemirror_mode": {
    "name": "ipython",
    "version": 2
   },
   "file_extension": ".py",
   "mimetype": "text/x-python",
   "name": "python",
   "nbconvert_exporter": "python",
   "pygments_lexer": "ipython2",
   "version": "2.7.6"
  }
 },
 "nbformat": 4,
 "nbformat_minor": 0
}