{
 "cells": [
  {
   "cell_type": "code",
   "execution_count": 21,
   "metadata": {
    "collapsed": true
   },
   "outputs": [],
   "source": [
    "import pathlib\n",
    "import emoji\n",
    "import numpy as np\n",
    "import pandas as pd\n",
    "#For displaying complete rows info\n",
    "from utils.datasets import load_helper_file\n",
    "pd.options.display.max_colwidth=500\n",
    "import nltk\n",
    "from nltk.corpus import stopwords\n",
    "from collections import Counter"
   ]
  },
  {
   "cell_type": "code",
   "execution_count": 2,
   "outputs": [
    {
     "name": "stderr",
     "output_type": "stream",
     "text": [
      "[nltk_data] Downloading package stopwords to /home/egordm/nltk_data...\n",
      "[nltk_data]   Package stopwords is already up-to-date!\n"
     ]
    }
   ],
   "source": [
    "nltk.download('stopwords')\n",
    "all_stopwords = stopwords.words('english')\n",
    "emoji_dict = set(e for lang in emoji.UNICODE_EMOJI.values() for e in lang)\n",
    "bert_uncased_vocabulary = set(load_helper_file('helper_bert_uncased_vocabulary'))"
   ],
   "metadata": {
    "collapsed": false,
    "pycharm": {
     "name": "#%%\n"
    }
   }
  },
  {
   "cell_type": "code",
   "execution_count": 5,
   "outputs": [
    {
     "name": "stdout",
     "output_type": "stream",
     "text": [
      "Processing chunk: 0\n",
      "Processing chunk: 1\n",
      "Processing chunk: 2\n",
      "Processing chunk: 3\n",
      "Processing chunk: 4\n",
      "Processing chunk: 5\n",
      "Processing chunk: 6\n",
      "Processing chunk: 7\n",
      "Processing chunk: 8\n",
      "Processing chunk: 9\n",
      "Processing chunk: 10\n",
      "Processing chunk: 11\n",
      "Processing chunk: 12\n",
      "Processing chunk: 13\n",
      "Processing chunk: 14\n",
      "Processing chunk: 15\n",
      "Processing chunk: 16\n",
      "Processing chunk: 17\n",
      "Processing chunk: 18\n",
      "Processing chunk: 19\n",
      "Processing chunk: 20\n",
      "Processing chunk: 21\n",
      "Processing chunk: 22\n",
      "Processing chunk: 23\n",
      "Processing chunk: 24\n",
      "Processing chunk: 25\n",
      "Processing chunk: 26\n",
      "Processing chunk: 27\n",
      "Processing chunk: 28\n"
     ]
    }
   ],
   "source": [
    "counter = nltk.FreqDist()\n",
    "files = pathlib.Path(\"../../data/bitcoin_twitter_processed/\").glob(\"part_*.parquet\")\n",
    "for chunk, file in enumerate(files):\n",
    "    print(f'Processing chunk: {chunk}')\n",
    "    data = pd.read_parquet(file)\n",
    "    for i, row in data.iterrows():\n",
    "        for w in row['text'].split():\n",
    "            if w not in all_stopwords:\n",
    "                counter[w] += 1"
   ],
   "metadata": {
    "collapsed": false,
    "pycharm": {
     "name": "#%%\n"
    }
   }
  },
  {
   "cell_type": "code",
   "execution_count": 6,
   "outputs": [
    {
     "name": "stdout",
     "output_type": "stream",
     "text": [
      "#words 2156984\n"
     ]
    },
    {
     "data": {
      "text/plain": "[('@CURR[bitcoin]', 8964451),\n ('.', 5779768),\n ('@CURR[cryptocurrency]', 3370100),\n ('@CURR[btc]', 2990085),\n (':', 2871535),\n (',', 2841101),\n ('-', 2709122),\n ('dollar', 2432028),\n ('!', 1921510),\n ('@CURR[eth]', 1474647),\n ('(', 1438136),\n (')', 1289784),\n ('@CURR[blockchain]', 1025807),\n ('percent', 1011898),\n ('/', 869664),\n ('@CURR[ethereum]', 820267),\n ('@HTAG[cryptocurrency]', 795400),\n ('price', 719586),\n ('?', 704271),\n ('@CURR[xrp]', 689087),\n ('@HTAG[blockchain]', 634036),\n ('\"', 620573),\n ('|', 598093),\n ('buy', 550162),\n ('#', 492701),\n ('@CURR[ltc]', 482159),\n ('@CURR[crypto]', 468896),\n ('get', 436244),\n ('@CURR[binance]', 416885),\n ('market', 413562),\n ('free', 411801),\n ('@CURR[altcoins]', 386451),\n ('new', 374121),\n ('[', 367414),\n ('1', 366343),\n (']', 365886),\n ('@HTAG[cryptocurrencies]', 362066),\n ('@CURR[ico]', 357804),\n ('sell', 352504),\n (\"'\", 328919),\n ('$', 307309),\n ('💰', 291540),\n ('via', 288346),\n ('exchange', 284597),\n ('@CURR[bch]', 284131),\n ('@', 282505),\n ('=', 278630),\n ('last', 276226),\n ('@CURR[ripple]', 273187),\n ('one', 267950)]"
     },
     "execution_count": 6,
     "metadata": {},
     "output_type": "execute_result"
    }
   ],
   "source": [
    "print(f'#words {len(counter)}')\n",
    "print(f'Most common overall words')\n",
    "counter.most_common(50)"
   ],
   "metadata": {
    "collapsed": false,
    "pycharm": {
     "name": "#%%\n"
    }
   }
  },
  {
   "cell_type": "code",
   "execution_count": 29,
   "outputs": [
    {
     "name": "stdout",
     "output_type": "stream",
     "text": [
      "Most common overall excluding symbols and existing vocab\n"
     ]
    },
    {
     "data": {
      "text/plain": "[('@CURR[bitcoin]', 8964451),\n ('@CURR[cryptocurrency]', 3370100),\n ('@CURR[btc]', 2990085),\n ('@CURR[eth]', 1474647),\n ('@CURR[blockchain]', 1025807),\n ('@CURR[ethereum]', 820267),\n ('@HTAG[cryptocurrency]', 795400),\n ('@CURR[xrp]', 689087),\n ('@HTAG[blockchain]', 634036),\n ('@CURR[ltc]', 482159),\n ('@CURR[crypto]', 468896),\n ('@CURR[binance]', 416885),\n ('@CURR[altcoins]', 386451),\n ('@HTAG[cryptocurrencies]', 362066),\n ('@CURR[ico]', 357804),\n ('💰', 291540),\n ('@CURR[bch]', 284131),\n ('@CURR[ripple]', 273187),\n ('@CURR[trx]', 255310),\n ('@CURR[airdrop]', 247287),\n ('@CURR[litecoin]', 241693),\n ('blockchain', 228694),\n ('@HTAG[fintech]', 221343),\n ('@CURR[eos]', 211575),\n ('@URL[twitter.com]', 208157),\n ('@CURR[money]', 194425),\n ('🚀', 193953),\n ('@NUM[1.0]', 192699),\n ('@CURR[trading]', 192043),\n ('@HTAG[ethereum]', 179781),\n ('@CURR[altcoin]', 178858),\n ('@CURR[ada]', 168048),\n ('@HTAG[jobs]', 166556),\n ('@HTAG[hiring]', 164815),\n ('@HTAG[careers]', 163528),\n ('@CURR[btcusd]', 163270),\n ('@CURR[xlm]', 162536),\n ('inr', 157558),\n ('@HTAG[cryptotrading]', 157370),\n ('@CURR[news]', 152982),\n ('@CURR[bnb]', 151401),\n ('@HTAG[cryptonews]', 150929),\n ('😵', 150367),\n ('@URL[url]', 149198),\n ('@NUM[0.0]', 138908),\n ('@CURR[neo]', 137556),\n ('@HTAG[trading]', 137519),\n ('@CURR[dash]', 135840),\n ('@HTAG[tokensale]', 135327),\n ('@HTAG[airdrop]', 125440)]"
     },
     "execution_count": 29,
     "metadata": {},
     "output_type": "execute_result"
    }
   ],
   "source": [
    "print(f'Most common overall excluding symbols and existing vocab')\n",
    "cleaned_counter = counter.copy()\n",
    "SYMBOLS = '{}()[].,:;?#!+-*/&|<>@%\"\\'=~$1234567890'\n",
    "for k in SYMBOLS:\n",
    "    if k in cleaned_counter:\n",
    "        cleaned_counter.pop(k)\n",
    "\n",
    "used_words = set(k for k in cleaned_counter.keys() if k in bert_uncased_vocabulary)\n",
    "for k in bert_uncased_vocabulary:\n",
    "    if k in cleaned_counter:\n",
    "        cleaned_counter.pop(k)\n",
    "cleaned_counter.most_common(50)"
   ],
   "metadata": {
    "collapsed": false,
    "pycharm": {
     "name": "#%%\n"
    }
   }
  },
  {
   "cell_type": "code",
   "execution_count": 30,
   "outputs": [
    {
     "name": "stdout",
     "output_type": "stream",
     "text": [
      "Vocab size: 30522, Vocab used: 22324, Words unknown: 2134622\n"
     ]
    }
   ],
   "source": [
    "print(f'Vocab size: {len(bert_uncased_vocabulary)}, Vocab used: {len(used_words)}, Words unknown: {len(cleaned_counter)}')"
   ],
   "metadata": {
    "collapsed": false,
    "pycharm": {
     "name": "#%%\n"
    }
   }
  },
  {
   "cell_type": "code",
   "execution_count": 31,
   "outputs": [
    {
     "name": "stdout",
     "output_type": "stream",
     "text": [
      "Most common words\n"
     ]
    },
    {
     "data": {
      "text/plain": "[('blockchain', 228694),\n ('inr', 157558),\n ('mins', 75892),\n ('arb', 74187),\n ('eur', 53393),\n ('retweet', 52923),\n ('ico', 52531),\n ('bullish', 51783),\n ('buysellbitco', 51064),\n ('satoshi', 50897),\n ('gmt', 47253),\n ('usdt', 37539),\n ('decentralized', 35942),\n ('bittrex', 34871),\n ('ltc', 33233),\n ('referral', 32906),\n ('tweet', 32113),\n ('faucet', 29257),\n ('libra', 28533),\n ('currencies', 28141),\n ('bitmex', 27112),\n ('gbp', 26316),\n ('avg', 26181),\n ('cryptsy', 25640),\n ('giveaway', 25353),\n ('gh', 25006),\n ('antminer', 24731),\n ('bitfinex', 23452),\n ('bearish', 23368),\n ('dm', 23202),\n ('bitmain', 21390),\n ('scam', 20687),\n ('bpi', 20509),\n ('trending', 20499),\n ('paypal', 19915),\n ('forex', 19742),\n ('coindesk', 19079),\n ('xem', 18753),\n ('lsk', 18055),\n ('bitcome', 17542),\n ('mercadobitcoin', 17125),\n ('mxn', 17035),\n ('halving', 16863),\n ('tron', 16828),\n ('eos', 16789),\n ('alts', 16602),\n ('cryptos', 16439),\n ('volatility', 16379),\n ('etf', 16351),\n ('rsi', 15822)]"
     },
     "execution_count": 31,
     "metadata": {},
     "output_type": "execute_result"
    }
   ],
   "source": [
    "print('Most common words')\n",
    "word_counter = cleaned_counter.copy()\n",
    "for k in list(word_counter.keys()):\n",
    "    if k.startswith('@') or k in emoji_dict:\n",
    "        word_counter.pop(k)\n",
    "word_counter.most_common(50)"
   ],
   "metadata": {
    "collapsed": false,
    "pycharm": {
     "name": "#%%\n"
    }
   }
  },
  {
   "cell_type": "code",
   "execution_count": 32,
   "outputs": [
    {
     "name": "stdout",
     "output_type": "stream",
     "text": [
      "Most common emojis\n"
     ]
    },
    {
     "data": {
      "text/plain": "[('💰', 291540),\n ('🚀', 193953),\n ('😵', 150367),\n ('📋', 113537),\n ('🔥', 111688),\n ('✅', 97939),\n ('➡', 78104),\n ('📈', 65593),\n ('👉', 61971),\n ('⏰', 59210),\n ('🎁', 55331),\n ('▶', 49518),\n ('👇', 48864),\n ('☠', 45996),\n ('⬇', 34136),\n ('💶', 33369),\n ('😁', 33124),\n ('😂', 32210),\n ('❤', 32052),\n ('⚡', 31330),\n ('🤑', 31148),\n ('💥', 31129),\n ('🔄', 29995),\n ('📢', 29865),\n ('📉', 29611),\n ('⭐', 28476),\n ('👍', 25980),\n ('😎', 25296),\n ('✔', 24233),\n ('💯', 22646),\n ('🗺', 21458),\n ('💸', 19999),\n ('🏆', 19935),\n ('😍', 19311),\n ('💵', 18615),\n ('🚨', 18377),\n ('🤔', 18235),\n ('👀', 16373),\n ('🏻', 15186),\n ('😉', 14460),\n ('🤣', 14365),\n ('🔹', 13806),\n ('💪', 13156),\n ('🏼', 12919),\n ('🙏', 12870),\n ('🎉', 12331),\n ('💎', 10971),\n ('🍀', 10854),\n ('♂', 10668),\n ('👌', 9598)]"
     },
     "execution_count": 32,
     "metadata": {},
     "output_type": "execute_result"
    }
   ],
   "source": [
    "print('Most common emojis')\n",
    "emoji_counter = cleaned_counter.copy()\n",
    "for k in list(emoji_counter.keys()):\n",
    "    if k not in emoji_dict:\n",
    "        emoji_counter.pop(k)\n",
    "emoji_counter.most_common(50)"
   ],
   "metadata": {
    "collapsed": false,
    "pycharm": {
     "name": "#%%\n"
    }
   }
  },
  {
   "cell_type": "code",
   "execution_count": 25,
   "outputs": [
    {
     "name": "stdout",
     "output_type": "stream",
     "text": [
      "Most common currencies\n"
     ]
    },
    {
     "data": {
      "text/plain": "[('@CURR[bitcoin]', 8964451),\n ('@CURR[cryptocurrency]', 3370100),\n ('@CURR[btc]', 2990085),\n ('@CURR[eth]', 1474647),\n ('@CURR[blockchain]', 1025807),\n ('@CURR[ethereum]', 820267),\n ('@CURR[xrp]', 689087),\n ('@CURR[ltc]', 482159),\n ('@CURR[crypto]', 468896),\n ('@CURR[binance]', 416885),\n ('@CURR[altcoins]', 386451),\n ('@CURR[ico]', 357804),\n ('@CURR[bch]', 284131),\n ('@CURR[ripple]', 273187),\n ('@CURR[trx]', 255310),\n ('@CURR[airdrop]', 247287),\n ('@CURR[litecoin]', 241693),\n ('@CURR[eos]', 211575),\n ('@CURR[money]', 194425),\n ('@CURR[trading]', 192043),\n ('@CURR[altcoin]', 178858),\n ('@CURR[ada]', 168048),\n ('@CURR[btcusd]', 163270),\n ('@CURR[xlm]', 162536),\n ('@CURR[news]', 152982),\n ('@CURR[bnb]', 151401),\n ('@CURR[neo]', 137556),\n ('@CURR[dash]', 135840),\n ('@CURR[etc]', 115325),\n ('@CURR[doge]', 103940),\n ('@CURR[usd]', 103767),\n ('@CURR[ether]', 102099),\n ('@CURR[tron]', 101576),\n ('@CURR[forex]', 100520),\n ('@CURR[hodl]', 97000),\n ('@CURR[cryptocurrencies]', 95473),\n ('@CURR[xmr]', 90267),\n ('@CURR[usdt]', 82208),\n ('@CURR[gold]', 77604),\n ('@CURR[link]', 74409),\n ('@CURR[coin]', 68196),\n ('@CURR[token]', 65994),\n ('@CURR[xvg]', 64223),\n ('@CURR[ai]', 64150),\n ('@CURR[mining]', 63750),\n ('@CURR[dogecoin]', 62300),\n ('@CURR[bounty]', 62175),\n ('@CURR[iot]', 56942),\n ('@CURR[xbt]', 54523),\n ('@CURR[iota]', 53648)]"
     },
     "execution_count": 25,
     "metadata": {},
     "output_type": "execute_result"
    }
   ],
   "source": [
    "print('Most common currencies')\n",
    "currency_counter = cleaned_counter.copy()\n",
    "for k in list(currency_counter.keys()):\n",
    "    if not k.startswith('@CURR'):\n",
    "        currency_counter.pop(k)\n",
    "currency_counter.most_common(50)"
   ],
   "metadata": {
    "collapsed": false,
    "pycharm": {
     "name": "#%%\n"
    }
   }
  },
  {
   "cell_type": "code",
   "execution_count": 26,
   "outputs": [
    {
     "name": "stdout",
     "output_type": "stream",
     "text": [
      "Most common hashtags\n"
     ]
    },
    {
     "data": {
      "text/plain": "[('@HTAG[cryptocurrency]', 795400),\n ('@HTAG[blockchain]', 634036),\n ('@HTAG[cryptocurrencies]', 362066),\n ('@HTAG[fintech]', 221343),\n ('@HTAG[ethereum]', 179781),\n ('@HTAG[jobs]', 166556),\n ('@HTAG[hiring]', 164815),\n ('@HTAG[careers]', 163528),\n ('@HTAG[cryptotrading]', 157370),\n ('@HTAG[cryptonews]', 150929),\n ('@HTAG[trading]', 137519),\n ('@HTAG[tokensale]', 135327),\n ('@HTAG[airdrop]', 125440),\n ('@HTAG[altcoins]', 125185),\n ('@HTAG[investing]', 108102),\n ('@HTAG[business]', 106736),\n ('@HTAG[investment]', 93954),\n ('@HTAG[airdrops]', 90604),\n ('@HTAG[bitcoinnews]', 90057),\n ('@HTAG[exchange]', 85979),\n ('@HTAG[finance]', 76330),\n ('@HTAG[litecoin]', 74637),\n ('@HTAG[bitfinex]', 74494),\n ('@HTAG[startup]', 69593),\n ('@HTAG[bitcoins]', 67754),\n ('@HTAG[india]', 65872),\n ('@HTAG[newyork]', 65290),\n ('@HTAG[bitcoincash]', 64087),\n ('@HTAG[tech]', 63090),\n ('@HTAG[altcoin]', 62011),\n ('@HTAG[bittrex]', 59779),\n ('@HTAG[giveaway]', 59011),\n ('@HTAG[ai]', 58821),\n ('@HTAG[bitcoinmining]', 58431),\n ('@HTAG[blockchaintechnology]', 54169),\n ('@HTAG[united]', 54104),\n ('@HTAG[dogecoin]', 52391),\n ('@HTAG[reuters]', 52193),\n ('@HTAG[cannabis]', 48950),\n ('@HTAG[technology]', 48699),\n ('@HTAG[payments]', 47253),\n ('@HTAG[invest]', 47008),\n ('@HTAG[ecommerce]', 46672),\n ('@HTAG[ico]', 45702),\n ('@HTAG[buysellbitcoin]', 45473),\n ('@HTAG[news]', 45144),\n ('@HTAG[market]', 44096),\n ('@HTAG[bounty]', 43987),\n ('@HTAG[cybersecurity]', 43658),\n ('@HTAG[vircurex]', 43281)]"
     },
     "execution_count": 26,
     "metadata": {},
     "output_type": "execute_result"
    }
   ],
   "source": [
    "print('Most common hashtags')\n",
    "htag_counter = cleaned_counter.copy()\n",
    "for k in list(htag_counter.keys()):\n",
    "    if not k.startswith('@HTAG'):\n",
    "        htag_counter.pop(k)\n",
    "htag_counter.most_common(50)"
   ],
   "metadata": {
    "collapsed": false,
    "pycharm": {
     "name": "#%%\n"
    }
   }
  },
  {
   "cell_type": "code",
   "execution_count": 27,
   "outputs": [
    {
     "name": "stdout",
     "output_type": "stream",
     "text": [
      "Most common users\n"
     ]
    },
    {
     "data": {
      "text/plain": "[('@USR[coinbase]', 124558),\n ('@USR[bitstamp]', 110260),\n ('@USR[binance]', 34466),\n ('@USR[dapp_com]', 27044),\n ('@USR[bot_strategy]', 25365),\n ('@USR[coindesk]', 23796),\n ('@USR[apompliano]', 20724),\n ('@USR[youtube]', 17569),\n ('@USR[cointelegraph]', 16216),\n ('@USR[cz_binance]', 14954),\n ('@USR[quark_chain]', 14410),\n ('@USR[bitpay]', 10987),\n ('@USR[realdonaldtrump]', 9785),\n ('@USR[listia!]', 9278),\n ('@USR[tradesatoshi]', 9274),\n ('@USR[btctn]', 8339),\n ('@USR[pynk_io]', 8051),\n ('@USR[xcardbymobilum]', 8028),\n ('@USR[cryptoadventura]', 7820),\n ('@USR[peterschiff]', 7336),\n ('@USR[justinsuntron]', 7165),\n ('@USR[forbes]', 7060),\n ('@USR[officialmcafee]', 6272),\n ('@USR[thecollectivego]', 5991),\n ('@USR[bizpaye]', 5947),\n ('@USR[digitexfutures]', 5889),\n ('@USR[murthaburke]', 5445),\n ('@USR[aantonop]', 4994),\n ('@USR[hepays]', 4924),\n ('@USR[p2psf]', 4732),\n ('@USR[securypto]', 4559),\n ('@USR[pngmemobile]', 4516),\n ('@USR[bitcoinmagazine]', 4514),\n ('@USR[whitebit6]', 4473),\n ('@USR[elonmusk]', 4351),\n ('@USR[reuters]', 4307),\n ('@USR[bittrexexchange]', 4223),\n ('@USR[tron_squad]', 4084),\n ('@USR[bitrueofficial]', 3985),\n ('@USR[rogerkver]', 3966),\n ('@USR[maxkeiser]', 3799),\n ('@USR[coinmarketcap]', 3755),\n ('@USR[tronfoundation]', 3734),\n ('@USR[btcecom]', 3731),\n ('@USR[bitcoinist]', 3655),\n ('@USR[vitalikbuterin]', 3630),\n ('@USR[satoshilite]', 3594),\n ('@USR[cnbc]', 3549),\n ('@USR[cryptocoinsnews]', 3518),\n ('@USR[business]', 3512)]"
     },
     "execution_count": 27,
     "metadata": {},
     "output_type": "execute_result"
    }
   ],
   "source": [
    "print('Most common users')\n",
    "usr_counter = cleaned_counter.copy()\n",
    "for k in list(usr_counter.keys()):\n",
    "    if not k.startswith('@USR'):\n",
    "        usr_counter.pop(k)\n",
    "usr_counter.most_common(50)"
   ],
   "metadata": {
    "collapsed": false,
    "pycharm": {
     "name": "#%%\n"
    }
   }
  },
  {
   "cell_type": "code",
   "execution_count": 28,
   "outputs": [
    {
     "name": "stdout",
     "output_type": "stream",
     "text": [
      "Most common numbers\n"
     ]
    },
    {
     "data": {
      "text/plain": "[('@NUM[1.0]', 192699),\n ('@NUM[0.0]', 138908),\n ('@NUM[24.0]', 116065),\n ('@NUM[100.0]', 79355),\n ('@NUM[10.0]', 75777),\n ('@NUM[5.0]', 64251),\n ('@NUM[10000.0]', 57678),\n ('@NUM[100000.0]', 52738),\n ('@NUM[3.0]', 50523),\n ('@NUM[2.0]', 42143),\n ('@NUM[7.0]', 41165),\n ('@NUM[50.0]', 40642),\n ('@NUM[1000.0]', 39933),\n ('@NUM[4.0]', 37864),\n ('@NUM[1000000.0]', 34611),\n ('@NUM[20.0]', 34568),\n ('@NUM[30.0]', 32560),\n ('@NUM[6.0]', 27586),\n ('@NUM[2.48]', 25851),\n ('@NUM[15.0]', 25683),\n ('@NUM[200.0]', 23445),\n ('@NUM[0.01]', 21967),\n ('@NUM[25.0]', 20242),\n ('@NUM[50000.0]', 20182),\n ('@NUM[8000.0]', 19569),\n ('@NUM[0.15]', 19175),\n ('@NUM[500.0]', 19172),\n ('@NUM[20000.0]', 19122),\n ('@NUM[0.05]', 18921),\n ('@NUM[2000.0]', 18446),\n ('@NUM[5000.0]', 17973),\n ('@NUM[0.2]', 17796),\n ('@NUM[8.0]', 17620),\n ('@NUM[300.0]', 15888),\n ('@NUM[400.0]', 15286),\n ('@NUM[9000.0]', 14737),\n ('@NUM[40.0]', 13718),\n ('@NUM[0.25]', 13238),\n ('@NUM[420.0]', 12656),\n ('@NUM[12.0]', 12240),\n ('@NUM[9.0]', 12189),\n ('@NUM[7000.0]', 11408),\n ('@NUM[0.02]', 11352),\n ('@NUM[600.0]', 11156),\n ('@NUM[6000.0]', 10915),\n ('@NUM[11.0]', 10903),\n ('@NUM[11000.0]', 10637),\n ('@NUM[0.03]', 10582),\n ('@NUM[12000.0]', 10433),\n ('@NUM[0.04]', 10387)]"
     },
     "execution_count": 28,
     "metadata": {},
     "output_type": "execute_result"
    }
   ],
   "source": [
    "print('Most common numbers')\n",
    "num_counter = cleaned_counter.copy()\n",
    "for k in list(num_counter.keys()):\n",
    "    if not k.startswith('@NUM'):\n",
    "        num_counter.pop(k)\n",
    "num_counter.most_common(50)"
   ],
   "metadata": {
    "collapsed": false,
    "pycharm": {
     "name": "#%%\n"
    }
   }
  },
  {
   "cell_type": "code",
   "execution_count": null,
   "outputs": [],
   "source": [],
   "metadata": {
    "collapsed": false,
    "pycharm": {
     "name": "#%%\n"
    }
   }
  }
 ],
 "metadata": {
  "kernelspec": {
   "display_name": "Python 3",
   "language": "python",
   "name": "python3"
  },
  "language_info": {
   "codemirror_mode": {
    "name": "ipython",
    "version": 2
   },
   "file_extension": ".py",
   "mimetype": "text/x-python",
   "name": "python",
   "nbconvert_exporter": "python",
   "pygments_lexer": "ipython2",
   "version": "2.7.6"
  }
 },
 "nbformat": 4,
 "nbformat_minor": 0
}