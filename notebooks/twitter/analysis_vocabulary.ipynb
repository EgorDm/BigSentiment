{
 "cells": [
  {
   "cell_type": "code",
   "execution_count": 1,
   "metadata": {
    "collapsed": true
   },
   "outputs": [],
   "source": [
    "import pathlib\n",
    "import emoji\n",
    "import numpy as np\n",
    "import pandas as pd\n",
    "#For displaying complete rows info\n",
    "from utils.datasets import load_helper_file\n",
    "pd.options.display.max_colwidth=500\n",
    "import nltk\n",
    "from nltk.corpus import stopwords\n",
    "from collections import Counter"
   ]
  },
  {
   "cell_type": "code",
   "execution_count": 2,
   "outputs": [
    {
     "name": "stderr",
     "output_type": "stream",
     "text": [
      "[nltk_data] Downloading package stopwords to /home/egordm/nltk_data...\n",
      "[nltk_data]   Package stopwords is already up-to-date!\n"
     ]
    }
   ],
   "source": [
    "nltk.download('stopwords')\n",
    "all_stopwords = stopwords.words('english')\n",
    "emoji_dict = set(e for lang in emoji.UNICODE_EMOJI.values() for e in lang)\n",
    "bert_uncased_vocabulary = set(load_helper_file('helper_bert_uncased_vocabulary'))"
   ],
   "metadata": {
    "collapsed": false,
    "pycharm": {
     "name": "#%%\n"
    }
   }
  },
  {
   "cell_type": "code",
   "execution_count": 3,
   "outputs": [
    {
     "name": "stdout",
     "output_type": "stream",
     "text": [
      "Processing chunk: 0\n"
     ]
    }
   ],
   "source": [
    "counter = nltk.FreqDist()\n",
    "files = pathlib.Path(\"../../data/bitcoin_twitter_processed/\").glob(\"part_*.parquet\")\n",
    "for chunk, file in enumerate(files):\n",
    "    print(f'Processing chunk: {chunk}')\n",
    "    data = pd.read_parquet(file)\n",
    "    for i, row in data.iterrows():\n",
    "        for w in row['text'].split():\n",
    "            if w not in all_stopwords:\n",
    "                counter[w] += 1"
   ],
   "metadata": {
    "collapsed": false,
    "pycharm": {
     "name": "#%%\n"
    }
   }
  },
  {
   "cell_type": "code",
   "execution_count": 4,
   "outputs": [
    {
     "name": "stdout",
     "output_type": "stream",
     "text": [
      "#words 161643\n",
      "Most common overall words\n"
     ]
    },
    {
     "data": {
      "text/plain": "[('@CURR[bitcoin]', 362464),\n ('.', 297816),\n ('@HTAG[cryptocurrency]', 198832),\n ('@CURR[ethereum]', 129427),\n (',', 118596),\n ('!', 102430),\n (':', 71365),\n ('usd', 64277),\n ('-', 64120),\n ('@HTAG[altcoins]', 62375),\n ('@CURR[xrp]', 41815),\n ('?', 41640),\n ('percent', 40668),\n ('@HTAG[blockchain]', 36764),\n ('(', 31686),\n (')', 29458),\n ('@CURR[binance_coin]', 28654),\n ('🚀', 26996),\n ('@HTAG[defi]', 26770),\n ('@CURR[litecoin]', 26182),\n ('@USR[binance]', 25761),\n ('\"', 24251),\n ('@CURR[chainlink]', 22751),\n ('get', 19903),\n ('@CURR[dogecoin]', 19713),\n ('/', 18594),\n ('price', 18423),\n ('@CURR[cardano]', 17280),\n ('buy', 17241),\n ('new', 15637),\n ('time', 15417),\n ('market', 14154),\n ('@HTAG[airdrop]', 13887),\n ('like', 13675),\n ('@CURR[tron]', 13459),\n ('$', 13213),\n ('us', 12846),\n ('🔥', 12790),\n ('1', 12783),\n ('@CURR[link]', 12692),\n ('@CURR[bitcoin_cash]', 12561),\n ('@HTAG[trading]', 12137),\n ('@HTAG[stellar]', 12108),\n ('one', 11286),\n ('free', 10547),\n ('@CURR[tether]', 10516),\n ('today', 10319),\n ('@HTAG[polkadot_new]', 10267),\n (\"'\", 10112),\n ('see', 10078)]"
     },
     "execution_count": 4,
     "metadata": {},
     "output_type": "execute_result"
    }
   ],
   "source": [
    "print(f'#words {len(counter)}')\n",
    "print(f'Most common overall words')\n",
    "counter.most_common(50)"
   ],
   "metadata": {
    "collapsed": false,
    "pycharm": {
     "name": "#%%\n"
    }
   }
  },
  {
   "cell_type": "code",
   "execution_count": 5,
   "outputs": [
    {
     "name": "stdout",
     "output_type": "stream",
     "text": [
      "Most common overall excluding symbols and existing vocab\n"
     ]
    },
    {
     "data": {
      "text/plain": "[('@CURR[bitcoin]', 362464),\n ('@HTAG[cryptocurrency]', 198832),\n ('@CURR[ethereum]', 129427),\n ('@HTAG[altcoins]', 62375),\n ('@CURR[xrp]', 41815),\n ('@HTAG[blockchain]', 36764),\n ('@CURR[binance_coin]', 28654),\n ('🚀', 26996),\n ('@HTAG[defi]', 26770),\n ('@CURR[litecoin]', 26182),\n ('@USR[binance]', 25761),\n ('@CURR[chainlink]', 22751),\n ('@CURR[dogecoin]', 19713),\n ('@CURR[cardano]', 17280),\n ('@HTAG[airdrop]', 13887),\n ('@CURR[tron]', 13459),\n ('🔥', 12790),\n ('@CURR[link]', 12692),\n ('@CURR[bitcoin_cash]', 12561),\n ('@HTAG[trading]', 12137),\n ('@HTAG[stellar]', 12108),\n ('@CURR[tether]', 10516),\n ('@HTAG[polkadot_new]', 10267),\n ('@CURR[eos]', 8300),\n ('@CURR[uniswap]', 8236),\n ('💰', 8176),\n ('@HTAG[cryptonews]', 7928),\n ('@HTAG[altseason]', 7617),\n ('@HTAG[money]', 7530),\n ('@NUM[1.0]', 7413),\n ('@CURR[tezos]', 6502),\n ('@USR[coinbase]', 6320),\n ('🎁', 6162),\n ('@HTAG[hodl]', 6072),\n ('@HTAG[ico]', 6065),\n ('👇', 5669),\n ('@HTAG[investing]', 5465),\n ('@HTAG[yearn_finance]', 5464),\n ('@HTAG[cryptotrading]', 5370),\n ('bullish', 5340),\n ('@CURR[vechain]', 5219),\n ('@CURR[monero]', 5127),\n ('📈', 5014),\n ('@CURR[neo]', 4918),\n ('@CURR[dash]', 4767),\n ('@HTAG[alts]', 4500),\n ('✅', 4494),\n ('@HTAG[ether]', 4405),\n ('@HTAG[giveaway]', 4387),\n ('@NUM[0.0]', 4241)]"
     },
     "execution_count": 5,
     "metadata": {},
     "output_type": "execute_result"
    }
   ],
   "source": [
    "print(f'Most common overall excluding symbols and existing vocab')\n",
    "cleaned_counter = counter.copy()\n",
    "SYMBOLS = '{}()[].,:;?#!+-*/&|<>@%\"\\'=~$1234567890'\n",
    "for k in SYMBOLS:\n",
    "    if k in cleaned_counter:\n",
    "        cleaned_counter.pop(k)\n",
    "\n",
    "used_words = set(k for k in cleaned_counter.keys() if k in bert_uncased_vocabulary)\n",
    "for k in bert_uncased_vocabulary:\n",
    "    if k in cleaned_counter:\n",
    "        cleaned_counter.pop(k)\n",
    "cleaned_counter.most_common(50)"
   ],
   "metadata": {
    "collapsed": false,
    "pycharm": {
     "name": "#%%\n"
    }
   }
  },
  {
   "cell_type": "code",
   "execution_count": 6,
   "outputs": [
    {
     "name": "stdout",
     "output_type": "stream",
     "text": [
      "Vocab size: 30522, Vocab used: 17555, Words unknown: 144053\n"
     ]
    }
   ],
   "source": [
    "print(f'Vocab size: {len(bert_uncased_vocabulary)}, Vocab used: {len(used_words)}, Words unknown: {len(cleaned_counter)}')"
   ],
   "metadata": {
    "collapsed": false,
    "pycharm": {
     "name": "#%%\n"
    }
   }
  },
  {
   "cell_type": "code",
   "execution_count": 7,
   "outputs": [
    {
     "name": "stdout",
     "output_type": "stream",
     "text": [
      "Most common words\n"
     ]
    },
    {
     "data": {
      "text/plain": "[('bullish', 5340),\n ('referral', 4145),\n ('defi', 3666),\n ('ath', 3444),\n ('retweet', 2300),\n ('alts', 1934),\n ('decentralized', 1760),\n ('sats', 1705),\n ('staking', 1691),\n ('tweet', 1504),\n ('multiply', 1446),\n ('giveaway', 1348),\n ('liquidity', 1331),\n ('bearish', 1308),\n ('satoshi', 1216),\n ('dm', 1196),\n ('lol', 1153),\n ('discord', 1067),\n ('username', 1033),\n ('dips', 970),\n ('currencies', 962),\n ('dont', 939),\n ('scam', 932),\n ('volatility', 885),\n ('fomo', 875),\n ('erc20', 862),\n ('etf', 809),\n ('imo', 800),\n ('faucet', 791),\n ('retest', 770),\n ('elon', 768),\n ('subscribe', 762),\n ('cryptos', 753),\n ('ftx', 743),\n ('tokenized', 732),\n ('markaccy', 731),\n ('nft', 706),\n ('rsi', 643),\n ('martkist', 618),\n ('pullback', 595),\n ('microstrategy', 588),\n ('dividends', 585),\n ('halving', 576),\n ('ico', 573),\n ('spdr', 569),\n ('dyor', 561),\n ('parabolic', 555),\n ('grayscale', 550),\n ('gmt', 550),\n ('cme', 545)]"
     },
     "execution_count": 7,
     "metadata": {},
     "output_type": "execute_result"
    }
   ],
   "source": [
    "print('Most common words')\n",
    "word_counter = cleaned_counter.copy()\n",
    "for k in list(word_counter.keys()):\n",
    "    if k.startswith('@') or k in emoji_dict:\n",
    "        word_counter.pop(k)\n",
    "word_counter.most_common(50)"
   ],
   "metadata": {
    "collapsed": false,
    "pycharm": {
     "name": "#%%\n"
    }
   }
  },
  {
   "cell_type": "code",
   "execution_count": 8,
   "outputs": [
    {
     "name": "stdout",
     "output_type": "stream",
     "text": [
      "Most common emojis\n"
     ]
    },
    {
     "data": {
      "text/plain": "[('🚀', 26996),\n ('🔥', 12790),\n ('💰', 8176),\n ('🎁', 6162),\n ('👇', 5669),\n ('📈', 5014),\n ('✅', 4494),\n ('🤑', 3516),\n ('💥', 3509),\n ('😂', 3120),\n ('😵', 3026),\n ('👉', 2969),\n ('👀', 2958),\n ('💸', 2612),\n ('💎', 2443),\n ('😎', 2362),\n ('🚨', 2267),\n ('🏆', 2236),\n ('😁', 1908),\n ('❤', 1843),\n ('🏻', 1800),\n ('🤔', 1788),\n ('🔸', 1741),\n ('⚡', 1685),\n ('🤣', 1674),\n ('😍', 1662),\n ('🙏', 1644),\n ('👥', 1636),\n ('💯', 1623),\n ('💪', 1523),\n ('💵', 1462),\n ('📦', 1390),\n ('⬇', 1388),\n ('▶', 1338),\n ('👍', 1323),\n ('😉', 1223),\n ('📉', 1189),\n ('🎉', 1188),\n ('🥳', 1176),\n ('➡', 1173),\n ('⭐', 1141),\n ('🌐', 1120),\n ('♂', 1088),\n ('☑', 1051),\n ('🏼', 996),\n ('🤩', 870),\n ('👏', 866),\n ('🔹', 827),\n ('⏰', 804),\n ('👌', 802)]"
     },
     "execution_count": 8,
     "metadata": {},
     "output_type": "execute_result"
    }
   ],
   "source": [
    "print('Most common emojis')\n",
    "emoji_counter = cleaned_counter.copy()\n",
    "for k in list(emoji_counter.keys()):\n",
    "    if k not in emoji_dict:\n",
    "        emoji_counter.pop(k)\n",
    "emoji_counter.most_common(50)"
   ],
   "metadata": {
    "collapsed": false,
    "pycharm": {
     "name": "#%%\n"
    }
   }
  },
  {
   "cell_type": "code",
   "execution_count": 9,
   "outputs": [
    {
     "name": "stdout",
     "output_type": "stream",
     "text": [
      "Most common currencies\n"
     ]
    },
    {
     "data": {
      "text/plain": "[('@CURR[bitcoin]', 362464),\n ('@CURR[ethereum]', 129427),\n ('@CURR[xrp]', 41815),\n ('@CURR[binance_coin]', 28654),\n ('@CURR[litecoin]', 26182),\n ('@CURR[chainlink]', 22751),\n ('@CURR[dogecoin]', 19713),\n ('@CURR[cardano]', 17280),\n ('@CURR[tron]', 13459),\n ('@CURR[link]', 12692),\n ('@CURR[bitcoin_cash]', 12561),\n ('@CURR[tether]', 10516),\n ('@CURR[eos]', 8300),\n ('@CURR[uniswap]', 8236),\n ('@CURR[tezos]', 6502),\n ('@CURR[vechain]', 5219),\n ('@CURR[monero]', 5127),\n ('@CURR[neo]', 4918),\n ('@CURR[dash]', 4767),\n ('@CURR[zilliqa]', 4032),\n ('@CURR[bitcoin_sv]', 3523),\n ('@CURR[algorand]', 3340),\n ('@CURR[iota]', 3107),\n ('@CURR[zcash]', 3106),\n ('@CURR[digibyte]', 2988),\n ('@CURR[reserve_rights]', 2928),\n ('@CURR[aave]', 2661),\n ('@CURR[usd]', 2641),\n ('@CURR[sushiswap]', 2598),\n ('@CURR[ocean_protocol]', 2510),\n ('@CURR[omg]', 2259),\n ('@CURR[elrond_egld]', 2055),\n ('@CURR[polygon]', 2009),\n ('@CURR[quant]', 1852),\n ('@CURR[nem]', 1743),\n ('@CURR[ethereum_classic]', 1684),\n ('@CURR[kusama]', 1357),\n ('@CURR[usd_coin]', 1235),\n ('@CURR[bittorrent]', 1165),\n ('@CURR[eur]', 1164),\n ('@CURR[ontology]', 1163),\n ('@CURR[hedera_hashgraph]', 1102),\n ('@CURR[filecoin]', 1097),\n ('@CURR[binance_usd]', 1074),\n ('@CURR[loopring]', 1071),\n ('@CURR[celsius]', 1055),\n ('@CURR[fantom]', 1051),\n ('@CURR[curve_dao_token]', 1049),\n ('@CURR[enjin_coin]', 1033),\n ('@CURR[uma]', 933)]"
     },
     "execution_count": 9,
     "metadata": {},
     "output_type": "execute_result"
    }
   ],
   "source": [
    "print('Most common currencies')\n",
    "currency_counter = cleaned_counter.copy()\n",
    "for k in list(currency_counter.keys()):\n",
    "    if not k.startswith('@CURR'):\n",
    "        currency_counter.pop(k)\n",
    "currency_counter.most_common(50)"
   ],
   "metadata": {
    "collapsed": false,
    "pycharm": {
     "name": "#%%\n"
    }
   }
  },
  {
   "cell_type": "code",
   "execution_count": 10,
   "outputs": [
    {
     "name": "stdout",
     "output_type": "stream",
     "text": [
      "Most common hashtags\n"
     ]
    },
    {
     "data": {
      "text/plain": "[('@HTAG[cryptocurrency]', 198832),\n ('@HTAG[altcoins]', 62375),\n ('@HTAG[blockchain]', 36764),\n ('@HTAG[defi]', 26770),\n ('@HTAG[airdrop]', 13887),\n ('@HTAG[trading]', 12137),\n ('@HTAG[stellar]', 12108),\n ('@HTAG[polkadot_new]', 10267),\n ('@HTAG[cryptonews]', 7928),\n ('@HTAG[altseason]', 7617),\n ('@HTAG[money]', 7530),\n ('@HTAG[hodl]', 6072),\n ('@HTAG[ico]', 6065),\n ('@HTAG[investing]', 5465),\n ('@HTAG[yearn_finance]', 5464),\n ('@HTAG[cryptotrading]', 5370),\n ('@HTAG[alts]', 4500),\n ('@HTAG[ether]', 4405),\n ('@HTAG[giveaway]', 4387),\n ('@HTAG[fintech]', 4172),\n ('@HTAG[forex]', 4108),\n ('@HTAG[airdrops]', 4016),\n ('@HTAG[nft]', 3997),\n ('@HTAG[investment]', 3702),\n ('@HTAG[etc]', 3679),\n ('@HTAG[btcusd]', 3527),\n ('@HTAG[crypto_com_coin]', 2904),\n ('@HTAG[unicorn_token]', 2836),\n ('@HTAG[gold]', 2800),\n ('@HTAG[finance]', 2798),\n ('@HTAG[news]', 2797),\n ('@HTAG[stocks]', 2691),\n ('@HTAG[exchange]', 2678),\n ('@HTAG[btc]', 2673),\n ('@HTAG[bitcoinnews]', 2645),\n ('@HTAG[vet]', 2589),\n ('@HTAG[cryptoart]', 2469),\n ('@HTAG[cryptotwitter]', 2439),\n ('@HTAG[xrpcommunity]', 2317),\n ('@HTAG[swipe]', 2280),\n ('@HTAG[invest]', 2277),\n ('@HTAG[synthetix_network_token]', 2090),\n ('@HTAG[cryptocurrencynews]', 2026),\n ('@HTAG[bsc]', 1985),\n ('@HTAG[bounty]', 1966),\n ('@HTAG[staking]', 1953),\n ('@HTAG[betfurysuccess]', 1914),\n ('@HTAG[tokensale]', 1906),\n ('@HTAG[icon]', 1895),\n ('@HTAG[theta]', 1823)]"
     },
     "execution_count": 10,
     "metadata": {},
     "output_type": "execute_result"
    }
   ],
   "source": [
    "print('Most common hashtags')\n",
    "htag_counter = cleaned_counter.copy()\n",
    "for k in list(htag_counter.keys()):\n",
    "    if not k.startswith('@HTAG'):\n",
    "        htag_counter.pop(k)\n",
    "htag_counter.most_common(50)"
   ],
   "metadata": {
    "collapsed": false,
    "pycharm": {
     "name": "#%%\n"
    }
   }
  },
  {
   "cell_type": "code",
   "execution_count": 11,
   "outputs": [
    {
     "name": "stdout",
     "output_type": "stream",
     "text": [
      "Most common users\n"
     ]
    },
    {
     "data": {
      "text/plain": "[('@USR[binance]', 25761),\n ('@USR[coinbase]', 6320),\n ('@USR[paypal]', 2384),\n ('@USR[betfury_io]', 2289),\n ('@USR[elonmusk]', 1910),\n ('@USR[cz_binance]', 1868),\n ('@USR[youtube]', 1569),\n ('@USR[bitmex]', 1510),\n ('@USR[cctip_io]', 1309),\n ('@USR[rariblecom]', 921),\n ('@USR[cointelegraph]', 916),\n ('@USR[markaccy]', 898),\n ('@USR[michael_saylor]', 871),\n ('@USR[bittrex]', 858),\n ('@USR[kraken]', 662),\n ('@USR[coindesk]', 611),\n ('@USR[coinkit_]', 515),\n ('@USR[apompliano]', 474),\n ('@USR[poloniex]', 424),\n ('@USR[uniswapprotocol]', 357),\n ('@USR[bitstamp]', 352),\n ('@USR[coingecko]', 331),\n ('@USR[ripple]', 320),\n ('@USR[decryptmedia]', 313),\n ('@USR[coinmarketcap]', 309),\n ('@USR[vitalikbuterin]', 309),\n ('@USR[ivanontech]', 299),\n ('@USR[blockfolio]', 295),\n ('@USR[opensea]', 275),\n ('@USR[peterschiff]', 275),\n ('@USR[tesla]', 273),\n ('@USR[btczofficial]', 273),\n ('@USR[bitcoinzteam]', 269),\n ('@USR[raoulgmi]', 255),\n ('@USR[visioncryptoapp]', 254),\n ('@USR[grayscale]', 248),\n ('@USR[bluzellehq]', 248),\n ('@USR[jack]', 245),\n ('@USR[myidentitycoin]', 242),\n ('@USR[maxkeiser]', 241),\n ('@USR[microstrategy]', 234),\n ('@USR[bitmain]', 230),\n ('@USR[cryptocom]', 226),\n ('@USR[btctn]', 226),\n ('@USR[justinsuntron]', 208),\n ('@USR[celsiusnetwork]', 198),\n ('@USR[huobiglobal]', 188),\n ('@USR[electroneum]', 188),\n ('@USR[ledger]', 183),\n ('@USR[kardiachain]', 182)]"
     },
     "execution_count": 11,
     "metadata": {},
     "output_type": "execute_result"
    }
   ],
   "source": [
    "print('Most common users')\n",
    "usr_counter = cleaned_counter.copy()\n",
    "for k in list(usr_counter.keys()):\n",
    "    if not k.startswith('@USR'):\n",
    "        usr_counter.pop(k)\n",
    "usr_counter.most_common(50)"
   ],
   "metadata": {
    "collapsed": false,
    "pycharm": {
     "name": "#%%\n"
    }
   }
  },
  {
   "cell_type": "code",
   "execution_count": 12,
   "outputs": [
    {
     "name": "stdout",
     "output_type": "stream",
     "text": [
      "Most common numbers\n"
     ]
    },
    {
     "data": {
      "text/plain": "[('@NUM[1.0]', 7413),\n ('@NUM[0.0]', 4241),\n ('@NUM[10.0]', 3866),\n ('@NUM[100.0]', 3512),\n ('@NUM[50.0]', 2864),\n ('@NUM[24.0]', 2568),\n ('@NUM[20000.0]', 2354),\n ('@NUM[10000.0]', 2135),\n ('@NUM[20.0]', 2118),\n ('@NUM[5.0]', 2034),\n ('@NUM[15.0]', 2026),\n ('@NUM[3.0]', 1893),\n ('@NUM[2.0]', 1876),\n ('@NUM[35.0]', 1809),\n ('@NUM[1000.0]', 1806),\n ('@NUM[4.0]', 1698),\n ('@NUM[100000.0]', 1425),\n ('@NUM[25.0]', 1220),\n ('@NUM[40000.0]', 1220),\n ('@NUM[30.0]', 1174),\n ('@NUM[50000.0]', 1105),\n ('@NUM[30000.0]', 1053),\n ('@NUM[0.01]', 1029),\n ('@NUM[40.0]', 956),\n ('@NUM[0.2]', 956),\n ('@NUM[500.0]', 908),\n ('@NUM[200.0]', 887),\n ('@NUM[0.05]', 860),\n ('@NUM[0.15]', 793),\n ('@NUM[1000000.0]', 785),\n ('@NUM[7.0]', 719),\n ('@NUM[8.0]', 666),\n ('@NUM[14000.0]', 666),\n ('@NUM[12000.0]', 658),\n ('@NUM[6.0]', 629),\n ('@NUM[9.0]', 620),\n ('@NUM[0.25]', 602),\n ('@NUM[2000.0]', 578),\n ('@NUM[5000.0]', 570),\n ('@NUM[0.02]', 551),\n ('@NUM[80.0]', 539),\n ('@NUM[300.0]', 538),\n ('@NUM[16000.0]', 538),\n ('@NUM[25000.0]', 525),\n ('@NUM[12.0]', 515),\n ('@NUM[60.0]', 459),\n ('@NUM[11000.0]', 454),\n ('@NUM[15000.0]', 442),\n ('@NUM[19000.0]', 434),\n ('@NUM[13000.0]', 422)]"
     },
     "execution_count": 12,
     "metadata": {},
     "output_type": "execute_result"
    }
   ],
   "source": [
    "print('Most common numbers')\n",
    "num_counter = cleaned_counter.copy()\n",
    "for k in list(num_counter.keys()):\n",
    "    if not k.startswith('@NUM'):\n",
    "        num_counter.pop(k)\n",
    "num_counter.most_common(50)"
   ],
   "metadata": {
    "collapsed": false,
    "pycharm": {
     "name": "#%%\n"
    }
   }
  },
  {
   "cell_type": "code",
   "execution_count": null,
   "outputs": [],
   "source": [],
   "metadata": {
    "collapsed": false,
    "pycharm": {
     "name": "#%%\n"
    }
   }
  }
 ],
 "metadata": {
  "kernelspec": {
   "display_name": "Python 3",
   "language": "python",
   "name": "python3"
  },
  "language_info": {
   "codemirror_mode": {
    "name": "ipython",
    "version": 2
   },
   "file_extension": ".py",
   "mimetype": "text/x-python",
   "name": "python",
   "nbconvert_exporter": "python",
   "pygments_lexer": "ipython2",
   "version": "2.7.6"
  }
 },
 "nbformat": 4,
 "nbformat_minor": 0
}