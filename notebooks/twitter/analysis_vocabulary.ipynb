{
 "cells": [
  {
   "cell_type": "code",
   "execution_count": 1,
   "metadata": {
    "collapsed": true
   },
   "outputs": [],
   "source": [
    "import pathlib\n",
    "import numpy as np\n",
    "import pandas as pd\n",
    "#For displaying complete rows info\n",
    "from utils.datasets import load_helper_file\n",
    "pd.options.display.max_colwidth=500\n",
    "import nltk\n",
    "from nltk.corpus import stopwords\n",
    "from collections import Counter"
   ]
  },
  {
   "cell_type": "code",
   "execution_count": 4,
   "outputs": [
    {
     "name": "stderr",
     "output_type": "stream",
     "text": [
      "[nltk_data] Downloading package stopwords to /home/egordm/nltk_data...\n",
      "[nltk_data]   Package stopwords is already up-to-date!\n"
     ]
    }
   ],
   "source": [
    "nltk.download('stopwords')\n",
    "all_stopwords = stopwords.words('english')"
   ],
   "metadata": {
    "collapsed": false,
    "pycharm": {
     "name": "#%%\n"
    }
   }
  },
  {
   "cell_type": "code",
   "execution_count": 5,
   "outputs": [
    {
     "name": "stdout",
     "output_type": "stream",
     "text": [
      "Processing chunk: 0\n",
      "Processing chunk: 1\n",
      "Processing chunk: 2\n",
      "Processing chunk: 3\n",
      "Processing chunk: 4\n",
      "Processing chunk: 5\n",
      "Processing chunk: 6\n",
      "Processing chunk: 7\n",
      "Processing chunk: 8\n",
      "Processing chunk: 9\n",
      "Processing chunk: 10\n",
      "Processing chunk: 11\n",
      "Processing chunk: 12\n"
     ]
    }
   ],
   "source": [
    "counter = nltk.FreqDist()\n",
    "files = pathlib.Path(\"../../data/bitcoin_twitter_labeled/\").glob(\"part_*.parquet\")\n",
    "for chunk, file in enumerate(files):\n",
    "    print(f'Processing chunk: {chunk}')\n",
    "    data = pd.read_parquet(file)\n",
    "    for i, row in data.iterrows():\n",
    "        for w in row['text'].split():\n",
    "            if w not in all_stopwords:\n",
    "                counter[w] += 1"
   ],
   "metadata": {
    "collapsed": false,
    "pycharm": {
     "name": "#%%\n"
    }
   }
  },
  {
   "cell_type": "code",
   "execution_count": 6,
   "outputs": [
    {
     "data": {
      "text/plain": "[('.', 2470299),\n ('#bitcoin', 2023088),\n ('#btc', 1175659),\n (',', 986565),\n (':', 829146),\n ('-', 790412),\n ('!', 660153),\n ('#crypto', 543418),\n ('bitcoin', 534323),\n ('$', 532188),\n ('#cryptocurrency', 514838),\n ('#eth', 403194),\n ('#blockchain', 393863),\n ('#ethereum', 332338),\n ('#', 290881),\n ('?', 289975),\n ('(', 242684),\n ('%', 231298),\n ('\"', 230656),\n (')', 228900),\n ('/', 217360),\n ('#altcoins', 196779),\n ('0', 196000),\n ('1', 184940),\n ('#xrp', 172261),\n ('#ltc', 160163),\n (';', 158103),\n ('btc', 151414),\n ('price', 150865),\n ('new', 136892),\n ('crypto', 136638),\n (\"'\", 130968),\n ('&', 126308),\n ('amp', 125962),\n ('get', 124667),\n ('via', 121782),\n ('#litecoin', 121723),\n ('free', 117143),\n ('#ico', 111569),\n ('buy', 100579),\n ('2', 95117),\n ('#altcoin', 91862),\n ('#dogecoin', 90125),\n ('|', 87441),\n ('us', 87023),\n ('market', 86074),\n ('#fintech', 85534),\n ('blockchain', 82585),\n ('+', 82252),\n ('3', 80082)]"
     },
     "execution_count": 6,
     "metadata": {},
     "output_type": "execute_result"
    }
   ],
   "source": [
    "counter.most_common(50)"
   ],
   "metadata": {
    "collapsed": false,
    "pycharm": {
     "name": "#%%\n"
    }
   }
  },
  {
   "cell_type": "code",
   "execution_count": 7,
   "outputs": [],
   "source": [
    "cleaned_counter = counter.copy()"
   ],
   "metadata": {
    "collapsed": false,
    "pycharm": {
     "name": "#%%\n"
    }
   }
  },
  {
   "cell_type": "code",
   "execution_count": 8,
   "outputs": [],
   "source": [
    "custom_synonyms = {\n",
    " \"#btc\": '#bitcoin',\n",
    " \"btc\": '#bitcoin',\n",
    " \"bitcoins\": '#bitcoin',\n",
    " \"bitcoin\": '#bitcoin',\n",
    " \"@bitcoin\": '#bitcoin',\n",
    " \"#crypto\": '#cryptocurrency',\n",
    " \"#eth\": '#ethereum',\n",
    " \"ethereum\": '#ethereum',\n",
    " \"eth\": '#ethereum',\n",
    " \"#bch\": '#bitcoincash',\n",
    " \"bch\": '#bitcoincash',\n",
    " \"hodl\": '#hold',\n",
    " \"bitcoincash\": '#bitcoincash',\n",
    " \"#ltc\": '#litecoin',\n",
    " \"litecoin\": '#litecoin',\n",
    " \"#doge\": '#dogecoin',\n",
    " \"doge\": '#dogecoin',\n",
    " \"airdrop\": '#airdrop',\n",
    " \"cryptocurrencies\": '#cryptocurrencies',\n",
    " \"crypto\": '#crypto',\n",
    " \"xrp\": '#xrp',\n",
    " \"altcoin\": '#altcoins',\n",
    " \"altcoins\": '#altcoins',\n",
    " \"#trx\": '#tron',\n",
    " \"trx\": '#tron',\n",
    " \"fb\": '#facebook',\n",
    "}\n",
    "\n",
    "for k, v in custom_synonyms.items():\n",
    "    if k in cleaned_counter:\n",
    "        cleaned_counter[v] += cleaned_counter[k]\n",
    "    cleaned_counter.pop(k)"
   ],
   "metadata": {
    "collapsed": false,
    "pycharm": {
     "name": "#%%\n"
    }
   }
  },
  {
   "cell_type": "code",
   "execution_count": 9,
   "outputs": [],
   "source": [
    "SYMBOLS = '{}()[].,:;?#!+-*/&|<>@%\"\\'=~$1234567890'\n",
    "for k in SYMBOLS:\n",
    "    if k in cleaned_counter:\n",
    "        cleaned_counter.pop(k)"
   ],
   "metadata": {
    "collapsed": false,
    "pycharm": {
     "name": "#%%\n"
    }
   }
  },
  {
   "cell_type": "code",
   "execution_count": 10,
   "outputs": [
    {
     "data": {
      "text/plain": "[('#bitcoin', 3884484),\n ('#cryptocurrency', 1058256),\n ('#ethereum', 797136),\n ('#blockchain', 393863),\n ('#litecoin', 281886),\n ('#altcoins', 196779),\n ('#xrp', 172261),\n ('price', 150865),\n ('new', 136892),\n ('crypto', 136638),\n ('#dogecoin', 132817),\n ('amp', 125962),\n ('get', 124667),\n ('via', 121782),\n ('free', 117143),\n ('#ico', 111569),\n ('#bitcoincash', 104133),\n ('buy', 100579),\n ('#altcoin', 91862),\n ('us', 87023),\n ('market', 86074),\n ('#fintech', 85534),\n ('blockchain', 82585),\n ('#trading', 75810),\n ('#ripple', 75657),\n ('time', 73849),\n ('10', 72676),\n ('join', 71169),\n ('one', 69867),\n ('#cryptocurrencies', 69273),\n ('like', 67861),\n ('#news', 67193),\n ('#etc', 65900),\n ('exchange', 65465),\n ('today', 65404),\n ('#trx', 64429),\n ('trading', 63899),\n ('money', 63424),\n ('cryptocurrency', 62098),\n ('usd', 61108),\n ('000', 60605),\n ('news', 57204),\n ('first', 56884),\n ('token', 56761),\n ('#eos', 56459),\n ('#dash', 56429),\n ('#money', 55143),\n ('mining', 54979),\n ('wallet', 54189),\n ('#airdrop', 52101),\n ('#cryptonews', 51699),\n ('currency', 50435),\n ('world', 49619),\n ('#binance', 49606),\n ('see', 48768),\n ('good', 47762),\n ('day', 47311),\n ('#xlm', 47056),\n ('project', 46943),\n ('#ada', 45868),\n ('#neo', 45398),\n ('use', 45199),\n ('last', 44849),\n ('volume', 43480),\n ('check', 43072),\n ('going', 41970),\n ('people', 41687),\n ('top', 41601),\n ('next', 41459),\n ('earn', 41404),\n ('great', 41377),\n ('100', 41315),\n ('best', 40992),\n ('sell', 40177),\n ('make', 39245),\n ('go', 39230),\n ('trade', 37907),\n ('digital', 37759),\n ('coin', 37179),\n ('could', 37147),\n ('bitcoins', 36650),\n ('future', 36561),\n ('would', 35547),\n ('20', 35465),\n ('platform', 35225),\n ('know', 34750),\n ('#xmr', 34374),\n ('want', 34205),\n ('high', 34153),\n ('50', 33956),\n ('read', 33736),\n ('still', 33612),\n ('start', 33389),\n ('every', 33346),\n ('week', 33197),\n ('#bitcoinnews', 33107),\n ('value', 32997),\n ('back', 32894),\n ('coins', 32666),\n ('daily', 32562)]"
     },
     "execution_count": 10,
     "metadata": {},
     "output_type": "execute_result"
    }
   ],
   "source": [
    "cleaned_counter.most_common(100)"
   ],
   "metadata": {
    "collapsed": false,
    "pycharm": {
     "name": "#%%\n"
    }
   }
  },
  {
   "cell_type": "code",
   "execution_count": 3,
   "outputs": [],
   "source": [
    "bert_uncased_vocabulary = set(load_helper_file('helper_bert_uncased_vocabulary'))"
   ],
   "metadata": {
    "collapsed": false,
    "pycharm": {
     "name": "#%%\n"
    }
   }
  },
  {
   "cell_type": "code",
   "execution_count": 11,
   "outputs": [],
   "source": [
    "used_words = set(k for k in cleaned_counter.keys() if k in bert_uncased_vocabulary)\n",
    "for k in bert_uncased_vocabulary:\n",
    "    if k in cleaned_counter:\n",
    "        cleaned_counter.pop(k)"
   ],
   "metadata": {
    "collapsed": false,
    "pycharm": {
     "name": "#%%\n"
    }
   }
  },
  {
   "cell_type": "code",
   "execution_count": 12,
   "outputs": [
    {
     "name": "stdout",
     "output_type": "stream",
     "text": [
      "21704\n",
      "728687\n"
     ]
    }
   ],
   "source": [
    "print(len(used_words))\n",
    "print(len(cleaned_counter))"
   ],
   "metadata": {
    "collapsed": false,
    "pycharm": {
     "name": "#%%\n"
    }
   }
  },
  {
   "cell_type": "code",
   "execution_count": 23,
   "outputs": [
    {
     "data": {
      "text/plain": "[('#bitcoin', 3884484),\n ('#cryptocurrency', 1058256),\n ('#ethereum', 797136),\n ('#blockchain', 393863),\n ('#litecoin', 281886),\n ('#altcoins', 196779),\n ('#xrp', 172261),\n ('crypto', 136638),\n ('#dogecoin', 132817),\n ('#ico', 111569),\n ('#bitcoincash', 104133),\n ('#altcoin', 91862),\n ('#fintech', 85534),\n ('blockchain', 82585),\n ('#trading', 75810),\n ('#ripple', 75657),\n ('#cryptocurrencies', 69273),\n ('#news', 67193),\n ('#etc', 65900),\n ('#trx', 64429),\n ('cryptocurrency', 62098),\n ('#eos', 56459),\n ('#dash', 56429),\n ('#money', 55143),\n ('#airdrop', 52101),\n ('#cryptonews', 51699),\n ('#binance', 49606),\n ('#xlm', 47056),\n ('#ada', 45868),\n ('#neo', 45398),\n ('bitcoins', 36650),\n ('#xmr', 34374),\n ('#bitcoinnews', 33107),\n ('#bitcoin,', 32356),\n ('#investing', 32248),\n ('#btcusd', 31384),\n ('#mining', 30445),\n ('#xvg', 29520),\n ('#bnb', 28977),\n ('#forex', 28731),\n ('#tron', 27652),\n ('#tokensale', 27622),\n ('airdrop', 26928),\n ('#cryptotrading', 26760),\n ('#exchange', 26621),\n ('#coinbase', 26340),\n ('#bitcoins', 25798),\n ('#token', 25140),\n ('#free', 24453),\n ('#link', 24197),\n ('ico', 23580),\n ('#hodl', 23309),\n ('#usd', 23179),\n ('#finance', 23140),\n ('#bounty', 22393),\n ('#iota', 21787),\n ('#business', 21171),\n ('cryptocurrencies', 20853),\n ('satoshi', 20165),\n ('#investment', 20143),\n ('#monero', 19972),\n ('#gold', 19784),\n ('#usdt', 19704),\n ('#tech', 19618),\n ('coinbase', 19592),\n ('#airdrops', 19050),\n ('#giveaway', 18608),\n ('#currency', 18601),\n ('#technology', 18595),\n ('#bitcoin.', 18527),\n ('#cryptocurrencynews', 17680),\n ('#defi', 17637),\n ('bullish', 16713),\n ('#dgb', 16498),\n ('#cardano', 16137),\n ('#xbt', 15817),\n ('#bittrex', 15754),\n ('binance', 15363),\n ('#invest', 15226),\n ('😵', 15172),\n ('#ether', 15073),\n ('#freebitcoin', 14941),\n ('#zec', 14888),\n ('😁', 14548),\n ('#iot', 14380),\n ('currencies', 14011),\n ('litecoin', 13805),\n ('#bitcoin:', 13779),\n ('#startup', 13737),\n ('decentralized', 13626),\n ('faucet', 13594),\n ('#stellar', 13583),\n ('retweet', 13532),\n ('#xem', 13095),\n ('#omg', 13057),\n ('xrp', 13043),\n ('#stocks', 13040),\n ('#nem', 12800),\n ('#market', 12580),\n ('bitstamp', 12565),\n ('#alts', 12382),\n ('#bitcoin?', 12368),\n ('@coindesk', 12257),\n ('#bsv', 11899),\n ('eur', 11654),\n ('#icx', 11623),\n ('#bitcoinmining', 11541),\n ('#coin', 11434),\n ('#faucet', 11434),\n ('#vet', 11408),\n ('#crowdsale', 11352),\n ('#tokens', 11204),\n ('#trade', 11138),\n ('#satoshi', 11122),\n ('#xtz', 10830),\n ('referral', 10683),\n ('#qtum', 10281),\n ('#waves', 10139),\n ('#zcash', 10024),\n ('#bat', 9584),\n ('#bitcoinprice', 9521),\n ('#price', 9501),\n ('#btg', 9455),\n ('#ieo', 9347),\n ('24h', 9317),\n ('altcoin', 9269),\n ('#digital', 9184),\n ('#coins', 9141),\n ('altcoins', 9138),\n ('#digitalcurrency', 9015),\n ('#btc,', 8975),\n ('#steem', 8958),\n ('#payments', 8753),\n ('#cryptotwitter', 8746),\n ('#erc20', 8711),\n ('coindesk', 8660),\n ('#altseason', 8631),\n ('#freetoken', 8626),\n ('#nano', 8602),\n ('#bitfinex', 8551),\n ('tweet', 8483),\n ('#blockchaintechnology', 8470),\n ('ltc', 8420),\n ('#entrepreneur', 8363),\n ('paypal', 8331),\n ('@youtube', 8125),\n ('dogecoin', 8062),\n ('#zil', 8056),\n ('#zrx', 8048),\n ('#strat', 7982),\n ('#casino', 7972),\n ('#banking', 7919),\n ('#decentralized', 7847),\n ('#lsk', 7826),\n ('#bcc', 7816),\n ('#ethereumclassic', 7598),\n ('#cybersecurity', 7591),\n ('#bigdata', 7561),\n ('scam', 7523),\n ('bitfinex', 7474),\n ('halving', 7447),\n ('#verge', 7419),\n ('giveaway', 7396),\n ('#gambling', 7346),\n ('url', 7333),\n ('#markets', 7074),\n ('#security', 7038),\n ('@cointelegraph', 7021),\n ('gox', 6950),\n ('#china', 6946),\n ('satoshis', 6877),\n ('etf', 6820),\n ('bch', 6809),\n ('#trader', 6743),\n ('doge', 6659),\n ('bearish', 6637),\n ('#bitcointalk', 6609),\n ('#ethereum,', 6524),\n ('#ont', 6380),\n ('#nxt', 6340),\n ('#innovation', 6330),\n ('#bitstamp', 6133),\n ('#cryptos', 6131),\n ('debit', 6093),\n ('10k', 6020),\n ('#icos', 5986),\n ('hodl', 5968),\n ('volatility', 5959),\n ('#bitcoin!', 5928),\n ('#cryptomining', 5858),\n ('#marketing', 5818),\n ('#startups', 5797),\n ('#xrpcommunity', 5791),\n ('#digibyte', 5777),\n ('#rdd', 5766),\n ('#stockmarket', 5722),\n ('alts', 5717),\n ('#usa', 5707),\n ('#reddit', 5659),\n ('#bitmex', 5560),\n ('#chainlink', 5559),\n ('#poloniex', 5529),\n ('#coindesk', 5484),\n ('#new', 5462),\n ('#privacy', 5450),\n ('#cash', 5446),\n ('#nasdaq', 5439),\n ('dont', 5433),\n ('#investor', 5416),\n ('#miota', 5410),\n ('lol', 5392),\n ('@coinbase', 5367),\n ('inr', 5363),\n ('gbp', 5354),\n ('#hot', 5328),\n ('1h', 5324),\n ('#win', 5320),\n ('rsi', 5318),\n ('fintech', 5278),\n ('#crowdfunding', 5176),\n ('usdt', 5152),\n ('#lisk', 5146),\n ('#profit', 5098),\n ('#buy', 5081),\n ('#btt', 5049),\n ('#silver', 5043),\n ('#ark', 5040),\n ('#smartcontracts', 5035),\n ('#wallet', 5014),\n ('ath', 5004),\n ('#matic', 4985),\n ('#cryptoexchange', 4927),\n ('newsbtc', 4915),\n ('#wallstreet', 4879),\n ('#telegram', 4870),\n ('#news,', 4857),\n ('#newyork', 4856),\n ('#eur', 4845),\n ('#stock', 4828),\n ('cryptos', 4800),\n ('#etn', 4793),\n ('#tether', 4770),\n ('#kmd', 4749),\n ('#poker', 4738),\n ('#chf', 4733),\n ('#paypal', 4730),\n ('fb', 4686),\n ('#india', 4685),\n ('#coinmarketcap', 4684),\n ('#robotcoingame', 4648),\n ('#kraken', 4640),\n ('#game', 4617),\n ('@bitcoin', 4601),\n ('#bcn', 4599),\n ('#cryptocoin', 4579),\n ('#cannabis', 4578),\n ('#rvn', 4576),\n ('#bagile', 4546),\n ('sats', 4515),\n ('#enj', 4474),\n ('#kucoin', 4474),\n ('#criptomonedas', 4472),\n ('#channel', 4431),\n ('eos', 4420),\n ('#music', 4401),\n ('#btc.', 4392),\n ('nakamoto', 4380),\n ('#ven', 4372),\n ('#future', 4354),\n ('#bts', 4351),\n ('#tezos', 4350),\n ('#income', 4311),\n ('#vechain', 4295),\n ('#gas', 4253),\n ('#wsj', 4232),\n ('#mkr', 4230),\n ('#dcr', 4216),\n ('#theta', 4214),\n ('#pay', 4213),\n ('#wtc', 4206),\n ('#iost', 4200),\n ('#bet', 4196),\n ('#btce', 4192),\n ('#p2p', 4186),\n ('#gaming', 4148),\n ('#love,', 4119),\n ('#cro', 4101),\n ('#mtgox', 4098),\n ('#cryptotrader', 4097),\n ('#blockchainnews', 4075),\n ('#retweet', 4073),\n ('#rep', 4060),\n ('#etf', 4046),\n ('#facebook', 4039),\n ('#atom', 4033),\n ('#data', 4032),\n ('tron', 4027),\n ('hype', 4007),\n ('cryptsy', 4000),\n ('#dollar', 3996),\n ('dm', 3971),\n ('#reddcoin', 3953),\n ('forex', 3948),\n ('bit.ly', 3944),\n ('#earn', 3933),\n ('#bitcointrading', 3933),\n ('#youtube', 3923),\n ('#love', 3919),\n ('#etherium', 3895),\n ('#banks', 3885),\n ('#investors', 3879),\n ('bittrex', 3844),\n ('#cryptolife', 3844),\n ('#economy', 3838),\n ('bitpay', 3838),\n ('mins', 3823),\n ('macd', 3801),\n ('subscribe', 3796),\n ('#tweet4btc', 3790),\n ('cointelegraph', 3764),\n ('#pivx', 3716),\n ('#dlt', 3705),\n ('#nytimes', 3704),\n ('#makemoney', 3685),\n ('#follow', 3674),\n ('#decentralization', 3661),\n ('#reuters', 3648),\n ('#algo', 3644),\n ('#passiveincome', 3640),\n ('#bloomberg', 3627),\n ('#mlm', 3622),\n ('#followme', 3619),\n ('ht', 3617),\n ('#moon', 3615),\n ('oversold', 3608),\n ('#vtc', 3582),\n ('#btc:', 3571),\n ('bpi', 3562),\n ('gmt', 3534),\n ('#npxs', 3534),\n ('#games', 3534),\n ('#investments', 3522),\n ('#mco', 3514),\n ('#cryptoinvestor', 3495),\n ('#update', 3490),\n ('#darkcoin', 3486),\n ('#forextrading', 3484),\n ('#daytrading', 3484),\n ('5k', 3475),\n ('#blockchain,', 3473),\n ('#mona', 3464),\n ('trx', 3454),\n ('#startcoin', 3444),\n ('#cloud', 3439),\n ('#eth,', 3437),\n ('#fiat', 3433),\n ('#arbitrage', 3421),\n ('winklevoss', 3399),\n ('#btcnews', 3397),\n ('#read', 3392),\n ('#xrpthestandard', 3388),\n ('#infosec', 3378),\n ('#ecommerce', 3368),\n ('#cbd', 3368),\n ('#steemit', 3366),\n ('discord', 3356),\n ('#bullish', 3349),\n ('#spy', 3346),\n ('#knc', 3334),\n ('#cryptomarket', 3320),\n ('#futures', 3296),\n ('#forbes', 3295),\n ('#airdropalert', 3282),\n ('#dot', 3277),\n ('20k', 3272),\n ('#success', 3268),\n ('#cnn', 3261),\n ('icos', 3252),\n ('#bank', 3233),\n ('#mana', 3231),\n ('#dai', 3223),\n ('#wealth', 3210),\n ('#ingles', 3210),\n ('mtgox', 3201),\n ('#contest', 3199),\n ('#exchanges', 3198),\n ('atms', 3197),\n ('#art', 3183),\n ('#sto', 3174),\n ('bitmain', 3170),\n ('p2p', 3163),\n ('asic', 3160),\n ('#gbtc', 3152),\n ('#freecoin', 3152),\n ('#scam', 3148),\n ('#bitshares', 3147),\n ('arbitrage', 3138),\n ('meetup', 3130),\n ('#litecoin,', 3127),\n ('#marijuana', 3115),\n ('#gnt', 3110),\n ('#xeraexchange', 3102),\n ('#tothemoon', 3064),\n ('#hitbtc', 3052),\n ('#followback', 3049),\n ('cex', 3028),\n ('defi', 3027),\n ('😜', 3012),\n ('#masternodes', 3003),\n ('kraken', 2988),\n ('#kcs', 2978),\n ('avg', 2972),\n ('faucets', 2969),\n ('#wan', 2969),\n ('blockchains', 2958),\n ('#fomo', 2958),\n ('#lend', 2950),\n ('#ren', 2947),\n ('nasdaq', 2943),\n ('precio', 2943),\n ('reddit', 2940),\n ('#lightningnetwork', 2936),\n ('#freedom', 2932),\n ('#realestate', 2931),\n ('#amazon', 2928),\n ('#uniswap', 2928),\n ('liquidity', 2927),\n ('#sec', 2922),\n ('cryptocoinsnews', 2921),\n ('#forexsignals', 2914),\n ('#venezuela', 2906),\n ('#snx', 2898),\n ('#cryptocoins', 2895),\n ('#ethereum:', 2891),\n ('#makemoneyonline', 2886),\n ('bitmex', 2863),\n ('#huobi', 2855),\n ('coinpayments', 2840),\n ('checkout', 2838),\n ('#dashcoin', 2833),\n ('#coinpayments', 2830),\n ('#blackcoin', 2821),\n ('#dapps', 2818),\n ('#euro', 2810),\n ('#stratis', 2807),\n ('#zen', 2805),\n ('#bcd', 2801),\n ('ghs', 2793),\n ('#cryptocurrencymarket', 2788),\n ('#bitcoingold', 2783),\n ('#qnt', 2781),\n ('#live', 2778),\n ('#socialmedia', 2777),\n ('#toqqn', 2768),\n ('#education', 2767),\n ('@forbes', 2764),\n ('payout', 2753),\n ('#freebtc', 2751),\n ('100k', 2743),\n ('#fct', 2731),\n ('#nexo', 2729),\n ('#twitter', 2727),\n ('cardano', 2726),\n ('#yfi', 2724),\n ('trezor', 2724),\n ('tweets', 2723),\n ('gh', 2721),\n ('#nft', 2712),\n ('#libra', 2709),\n ('#cryptoart', 2708),\n ('#alt', 2678),\n ('#domains', 2674),\n ('tl', 2673),\n ('#aion', 2668),\n ('#kriptopara', 2662),\n ('antminer', 2661),\n ('#okex', 2658),\n ('#cryptoassets', 2655),\n ('#anonymous', 2653),\n ('@binance', 2648),\n ('@btctn', 2645),\n ('monero', 2644),\n ('fomo', 2642),\n ('#vegas', 2638),\n ('#xrb', 2621),\n ('signup', 2612),\n ('#traders', 2608),\n ('imo', 2601),\n ('#yabtcl', 2597),\n ('segwit', 2593),\n ('#yobit', 2591),\n ('#trump', 2587),\n ('#cryptocurrency,', 2586),\n ('lows', 2584),\n ('#betting', 2581),\n ('#oil', 2577),\n ('#usdc', 2574),\n ('#dapp', 2572),\n ('@cryptocoinsnews', 2564),\n ('#snt', 2562),\n ('chf', 2554),\n ('#london', 2547),\n ('#freemoney', 2544),\n ('btcusd', 2542),\n ('#segwit', 2541),\n ('#virtualcurrency', 2529),\n ('#foxnews', 2517),\n ('#canada', 2495),\n ('#regulation', 2490),\n ('libra', 2487),\n ('#obx', 2483),\n ('#ocn', 2477),\n ('#covid19', 2475),\n ('8k', 2473),\n ('ponzi', 2473),\n ('pinkmona', 2470),\n ('#analysis', 2462),\n ('#currencies', 2449),\n ('#spx', 2446),\n ('#tomo', 2445),\n ('infographic', 2426),\n ('#japan', 2425),\n ('dips', 2419),\n ('#weed', 2409),\n ('#zilliqa', 2405),\n ('#aapl', 2398),\n ('005', 2393),\n ('tether', 2379),\n ('#masternode', 2374),\n ('#litecoinfam', 2373),\n ('staking', 2371),\n ('#maid', 2369),\n ('cme', 2366),\n ('#pump', 2360),\n ('username', 2356),\n ('#apple', 2354),\n ('#android', 2349),\n ('congrats', 2348),\n ('#ardr', 2337),\n ('#fun', 2331),\n ('1m', 2330),\n ('#arbitraj', 2330),\n ('#wax', 2324),\n ('#arbingtool', 2323),\n ('#staking', 2320),\n ('oi', 2317),\n ('#ethusd', 2314),\n ('ebay', 2314),\n ('#lottery.', 2306),\n ('#cloudmining', 2299),\n ('#bitcoinsv', 2294),\n ('4h', 2288),\n ('whitepaper', 2287),\n ('#presale', 2286),\n ('#tradingcrypto', 2285),\n ('#lrc', 2284),\n ('#elf', 2278),\n ('#social', 2277),\n ('10x', 2275),\n ('#tusd', 2274),\n ('#marinecoin', 2267),\n ('#vergecurrency', 2264),\n ('**', 2261),\n ('#russia', 2258),\n ('#online', 2252),\n ('#google', 2251),\n ('#vertcoin', 2250),\n ('#dent', 2248),\n ('#economics', 2248),\n ('#earnmoney', 2246),\n ('#ooobtc', 2242),\n ('#venturecapital', 2236),\n ('@bitcoinmagazine', 2236),\n ('#sxp', 2235),\n ('#cryptogiveaway', 2234),\n ('kyc', 2233),\n ('#digitalassets', 2231),\n ('fud', 2223),\n ('#dex', 2222),\n ('#uni', 2210),\n ('#bcoin', 2210),\n ('7d', 2208),\n ('#travel', 2205),\n ('#hyip', 2202),\n ('#defstar5', 2198),\n ('#technews', 2185),\n ('#ioi', 2185),\n ('#science', 2180),\n ('#ocean', 2174),\n ('#decred', 2173),\n ('#play', 2173),\n ('6k', 2170),\n ('advertise', 2170),\n ('#freecoins', 2168),\n ('#bytecoin', 2162),\n ('#cryptocurrency.', 2156),\n ('hashrate', 2153),\n ('10000', 2150),\n ('@apompliano', 2146),\n ('1k', 2143),\n ('#digitalmoney', 2142),\n ('legit', 2141),\n ('#aoa', 2135),\n ('#xrparmy', 2133),\n ('#blockchains', 2133),\n ('dao', 2132),\n ('#forextrader', 2128),\n ('#electroneum', 2125),\n ('#ledger', 2124),\n ('#ihub_stockposts', 2122),\n ('steemit', 2120),\n ('#zcl', 2113),\n ('#powr', 2110),\n ('#tsla', 2105),\n ('#domain', 2097),\n ('#poe', 2095),\n ('#eurusd', 2094),\n ('#australia', 2093),\n ('#spon', 2091),\n ('#hex', 2090),\n ('#community', 2089),\n ('#internet', 2089),\n ('pos', 2086),\n ('#freetokens', 2079),\n ('#adoption', 2077),\n ('#makeyourownlane', 2074),\n ('#bcash', 2070),\n ('#altcoinnews', 2070),\n ('#livecoin', 2070),\n ('#programming', 2067),\n ('#btcp', 2062),\n ('#dyor', 2061),\n ('#dice', 2060),\n ('#mobile', 2058),\n ('#machinelearning', 2057),\n ('ransomware', 2052),\n ('#alerts', 2051),\n ('#cryptopia', 2050),\n ('#halving', 2050),\n ('#ltc,', 2049),\n ('#sportsbook', 2045),\n ('#rsr', 2035),\n ('overstock', 2033),\n ('#qqq', 2031),\n ('ultima', 2029),\n ('iam', 2027),\n ('#hive', 2023),\n ('#silkroad', 2022),\n ('#sys', 2021),\n ('ora', 2018),\n ('uptrend', 2011),\n ('#dgd', 2010),\n ('#faucets', 2010),\n ('#peercoin', 2007),\n ('#insurtech', 2004),\n ('xera', 1997),\n ('#xzc', 1995),\n ('roadmap', 1994),\n ('#qkc', 1994),\n ('@bitstamp', 1990),\n ('#bitcoinexchange', 1989),\n ('@aantonop', 1985),\n ('#africa', 1983),\n ('retest', 1972),\n ('roundup', 1970),\n ('#app', 1960),\n ('#coronavirus', 1946),\n ('#pos', 1945),\n ('@xapo', 1943),\n ('airdrops', 1939),\n ('scams', 1932),\n ('#crypto.', 1928),\n ('#btm', 1925),\n ('ver', 1921),\n ('#bitsmart', 1918),\n ('#artificialintelligence', 1918),\n ('#icon', 1918),\n ('#mpgvip', 1915),\n ('#financial', 1913),\n ('#payment', 1911),\n ('#banktrans', 1900),\n ('#xbtusd', 1897),\n ('bakkt', 1897),\n ('#pax', 1895),\n ('#band', 1892),\n ('#bakkt', 1891),\n ('pullback', 1889),\n ('#crypto,', 1887),\n ('4k', 1886),\n ('7k', 1885),\n ('#giveaways', 1881),\n ('#binaryoptions', 1880),\n ('#assets', 1876),\n ('9k', 1874),\n ('#entrepreneurs', 1873),\n ('#rich', 1871),\n ('#memes', 1870),\n ('#monacoin', 1867),\n ('beginners', 1866),\n ('#hbar', 1865),\n ('skrill', 1859),\n ('#namecoin', 1851),\n ('#bullrun', 1850),\n ('3k', 1847),\n ('#askastoreaday', 1840),\n ('@justinsuntron', 1837),\n ('#topinfluence', 1836),\n ('dogecoins', 1834),\n ('cnbc', 1833),\n ('#podcast', 1831),\n ('#financialfreedom', 1828),\n ('#motivation', 1823),\n ('bitcoiners', 1816),\n ('#tradingview', 1815),\n ('huobi', 1812),\n ('@askcoinnet', 1805),\n ('@cz_binance', 1804),\n ('coupon', 1800),\n ('scryptsy', 1798),\n ('#cryptowallet', 1795),\n ('#altcoins,', 1785),\n ('#iamplatform', 1782),\n ('5m', 1781),\n ('#kin', 1780),\n ('#nyc', 1776),\n ('#wonderlandcoin', 1774),\n ('#xrp,', 1771),\n ('#potcoin', 1769),\n ('hrs', 1768),\n ('zcash', 1765),\n ('#swapzilla', 1764),\n ('#cryptocurreny', 1759),\n ('24hrs', 1757),\n ('#coti', 1750),\n ('tweeted', 1748),\n ('esta', 1747),\n ('payouts', 1746),\n ('#seo', 1737),\n ('#freecrypto', 1736),\n ('100x', 1734),\n ('#asia', 1732),\n ('okpay', 1732),\n ('#affiliate', 1728),\n ('#xrp:', 1723),\n ('#ppc', 1723),\n ('paysafecard', 1723),\n ('dapps', 1722),\n ('#hodlers', 1722),\n ('#altcoins.', 1718),\n ('2k', 1717),\n ('#workfromhome', 1716),\n ('crowdfunding', 1715),\n ('#energy', 1715),\n ('#leo', 1713),\n ('poloniex', 1711),\n ('#vrc', 1702),\n ('#valuable', 1696),\n ('bitlicense', 1695),\n ('#drk', 1694),\n ('cftc', 1693),\n ('#ppt', 1691),\n ('xlm', 1689),\n ('ipo', 1683),\n ('#mmmextra', 1682),\n ('#buybitcoin', 1680),\n ('#signals', 1680),\n ('#centrality', 1679),\n ('#retweet4bitcoin', 1676),\n ('iota', 1675),\n ('#newsoftheweek', 1675),\n ('#miner', 1672),\n ('#gem', 1662),\n ('#revolution', 1661),\n ('#cvc', 1654),\n ('#dogecoin,', 1652),\n ('#ncash', 1648),\n ('#okcash', 1645),\n ('decentralization', 1643),\n ('#disruption', 1642),\n ('ieo', 1637),\n ('#bonus', 1636),\n ('mastercard', 1636),\n ('#bleutrade', 1635),\n ('#blog', 1634),\n ('@techcrunch', 1633),\n ('@cctip_io', 1632),\n ('#amzn', 1632),\n ('#atm', 1632),\n ('#noticias', 1632),\n ('#bitstamp;', 1631),\n ('#omisego', 1630),\n ('#blockchain.', 1628),\n ('#1bitcoindice', 1627),\n ('woof', 1626),\n ('jpy', 1625),\n ('trending', 1624),\n ('#btcusdt', 1620),\n ('#dao', 1616),\n ('malware', 1615),\n ('#etp', 1615),\n ('#gbp', 1614),\n ('offline', 1614),\n ('#hedg', 1613),\n ('#video', 1611),\n ('beware', 1609),\n ('#ftm', 1608),\n ('#technicalanalysis', 1608),\n ('@bitfinex', 1603),\n ('cny', 1602),\n ('#btc!', 1600),\n ('#elliottwave', 1594),\n ('#sale', 1592),\n ('#chart', 1592),\n ('@blockchain', 1592),\n ('#eca', 1590),\n ('#drgn', 1589),\n ('@ripple', 1585),\n ('#gld', 1584),\n ('@bitpay', 1581),\n ('#tor', 1579),\n ('#btce;', 1578),\n ('#htmlcoin', 1577),\n ('#sxc', 1576),\n ('#ela', 1573),\n ('#marketcap', 1573),\n ('#profits', 1572),\n ('#abbc', 1569),\n ('gpu', 1568),\n ('#bitcoinhalving', 1567),\n ('#p2ps', 1558),\n ('#rlc', 1556),\n ('#cointelegraph', 1556),\n ('@newsbtc', 1553),\n ('#satoshinakamoto', 1551),\n ('#news:', 1547),\n ('#breaking', 1546),\n ('#dubai', 1544),\n ('#lifestyle', 1543),\n ('antonopoulos', 1539),\n ('#personalfinance', 1537),\n ('#bot', 1535),\n ('@bittrexexchange', 1533),\n ('#dnt', 1532),\n ('#savings', 1531),\n ('unveils', 1531),\n ('#litecoin:', 1529),\n ('#share2steem', 1527),\n ('#luxury', 1526),\n ('#sharding', 1521),\n ('#linux', 1513),\n ('vitalik', 1512),\n ('#feathercoin', 1512),\n ('winkdex', 1512),\n ('ema', 1509),\n ('#cenz', 1508),\n ('#gvt', 1502),\n ('#charts', 1500),\n ('#mintpal', 1498),\n ('#digitalasset', 1495),\n ('#ain', 1492),\n ('#inspiration', 1488),\n ('#launchpad', 1488),\n ('hodling', 1487),\n ('#cnbc', 1486),\n ('#bitmain', 1483),\n ('#fzb', 1482),\n ('#one', 1480),\n ('#ransomware', 1480),\n ('#advertising', 1480),\n ('#siacoin', 1479),\n ('#iohk', 1479),\n ('#pot', 1477),\n ('#infographic', 1475),\n ('#retirement', 1469),\n ('downtrend', 1467),\n ('#djia', 1467),\n ('diff', 1467),\n ('#microsoft', 1466),\n ('#daps', 1465),\n ('mcafee', 1463),\n ('#hacking', 1462),\n ('#datascience', 1461),\n ('#smartcontract', 1460),\n ('#debitcard.', 1459),\n ('#initialcoinoffering', 1458),\n ('#qash', 1458),\n ('capitalization', 1453),\n ('arb', 1451),\n ('@elonmusk', 1449),\n ('#cryptocurency', 1447),\n ('#poly', 1447),\n ('premined', 1446),\n ('#chicago', 1445),\n ('#cryptoworld', 1443),\n ('#preico', 1440),\n ('@c0nvey', 1437),\n ('bots', 1433),\n ('marketcap', 1431),\n ('crowdsale', 1428),\n ('#xrpusd', 1424),\n ('#twitch', 1424),\n ('bnb', 1423),\n ('00000000', 1423),\n ('#charity', 1420),\n ('coronavirus', 1419),\n ('provably', 1419),\n ('#commodities', 1417),\n ('jpmorgan', 1415),\n ('mainnet', 1414),\n ('#loom', 1411),\n ('#sexcoin:', 1409),\n ('#cryptomemes', 1405),\n ('ooobtc', 1404),\n ('beginner', 1394),\n ('#bit', 1392),\n ('#lottery', 1391),\n ('stablecoin', 1390),\n ('#slots', 1389),\n ('pb', 1386),\n ('#giveawayalert', 1384),\n ('undervalued', 1383),\n ('remittance', 1381),\n ('recap', 1380),\n ('0075', 1379),\n ('fib', 1378),\n ('lvl', 1378),\n ('#nrg', 1378),\n ('#segwit2x', 1377),\n ('coinmarketcap', 1375),\n ('kucoin', 1371),\n ('#branding', 1370),\n ('#tradebitcoin', 1369),\n ('parabolic', 1367),\n ('#bitconnect', 1367),\n ('#etherum', 1362),\n ('#wordpress', 1362),\n ('#analytics', 1361),\n ('#cryptoupdate', 1361),\n ('techcrunch', 1361),\n ('#malware', 1358),\n ('btce', 1358),\n ('buterin', 1357),\n ('#hackers', 1357),\n ('aggregated', 1354),\n ('#digitaltransformation', 1351),\n ('tutorial', 1350),\n ('downside', 1349),\n ('3m', 1348),\n ('#bitcoincash:', 1348),\n ('#fud', 1347),\n ('campbx', 1347),\n ('#bitcoiner', 1345),\n ('#stellarlumens', 1344),\n ('presale', 1344),\n ('exec', 1341),\n ('divergence', 1340),\n ('q1', 1340),\n ('#aml', 1340),\n ('#ira', 1339),\n ('1d', 1337),\n ('#rewards', 1337),\n ('#gamecredits', 1337),\n ('#trending', 1336),\n ('sobre', 1332),\n ('#401k', 1332),\n ('#reality', 1329),\n ('buysellbitco', 1329),\n ('devs', 1328),\n ('#xin', 1325),\n ('#dgtx', 1324),\n ('#sports', 1321),\n ('#mith', 1321),\n ('#risk', 1319),\n ('#network', 1319),\n ('#fire', 1319),\n ('039', 1318),\n ('#exmo', 1316),\n ('#competition', 1313),\n ('#nba', 1313),\n ('temp', 1308),\n ('#stablecoin', 1308),\n ('#qrk', 1308),\n ('ticker', 1307),\n ('jackpot', 1306),\n ('#retail', 1305),\n ('#nuls', 1304),\n ('#like', 1304),\n ('#germany', 1303),\n ('#rimbit', 1303),\n ('referrals', 1302),\n ('#mtc', 1302),\n ('multiply', 1301),\n ('#thestreet', 1300),\n ('#18b', 1300),\n ('#btcb0t', 1293),\n ('#nav', 1292),\n ('#millionaire', 1290),\n ('#apl', 1290),\n ('#today', 1289),\n ('blockstream', 1288)]"
     },
     "execution_count": 23,
     "metadata": {},
     "output_type": "execute_result"
    }
   ],
   "source": [
    "cleaned_counter.most_common(1000)"
   ],
   "metadata": {
    "collapsed": false,
    "pycharm": {
     "name": "#%%\n"
    }
   }
  },
  {
   "cell_type": "code",
   "execution_count": 22,
   "outputs": [
    {
     "name": "stdout",
     "output_type": "stream",
     "text": [
      "2993\n"
     ]
    }
   ],
   "source": [
    "unused_words = set(w for w in bert_uncased_vocabulary if not w.startswith('#') and not w.endswith('#')) - used_words\n",
    "print(len(unused_words))"
   ],
   "metadata": {
    "collapsed": false,
    "pycharm": {
     "name": "#%%\n"
    }
   }
  },
  {
   "cell_type": "markdown",
   "source": [
    "Exchanges\n",
    "* coinbase\n",
    "* binance\n",
    "* bitstamp\n",
    "* bitpay\n",
    "\n",
    "hashtags should not end with symbol\n",
    "\n",
    "Currency symbol normalization\n",
    "\n",
    "country/time hashtag expansion"
   ],
   "metadata": {
    "collapsed": false,
    "pycharm": {
     "name": "#%% md\n"
    }
   }
  }
 ],
 "metadata": {
  "kernelspec": {
   "display_name": "Python 3",
   "language": "python",
   "name": "python3"
  },
  "language_info": {
   "codemirror_mode": {
    "name": "ipython",
    "version": 2
   },
   "file_extension": ".py",
   "mimetype": "text/x-python",
   "name": "python",
   "nbconvert_exporter": "python",
   "pygments_lexer": "ipython2",
   "version": "2.7.6"
  }
 },
 "nbformat": 4,
 "nbformat_minor": 0
}