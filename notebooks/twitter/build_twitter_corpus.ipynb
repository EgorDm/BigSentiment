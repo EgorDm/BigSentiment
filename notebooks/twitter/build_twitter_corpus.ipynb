{
 "cells": [
  {
   "cell_type": "code",
   "execution_count": 1,
   "metadata": {
    "collapsed": true
   },
   "outputs": [],
   "source": [
    "import os\n",
    "import pathlib\n",
    "import pickle\n",
    "import re\n",
    "import emoji\n",
    "import pandas as pd\n",
    "from tokenizers import BertWordPieceTokenizer\n",
    "from transformers import AlbertTokenizerFast, ElectraTokenizerFast, ElectraConfig, ElectraForMaskedLM, \\\n",
    "    BertTokenizerFast, ElectraTokenizer\n",
    "from utils.datasets import load_helper_file, ensure_dataset"
   ]
  },
  {
   "cell_type": "code",
   "execution_count": 2,
   "outputs": [
    {
     "name": "stdout",
     "output_type": "stream",
     "text": [
      "30918\n"
     ]
    }
   ],
   "source": [
    "vocabulary_bert = set(load_helper_file('helper_bert_uncased_vocabulary'))\n",
    "vocabulary_words = load_helper_file('custom_vocabulary_words')\n",
    "vocabulary_extra = load_helper_file('custom_vocabulary_extra')\n",
    "vocabulary = vocabulary_bert.union(set(vocabulary_words)).union(set(vocabulary_extra))\n",
    "emoji_dict = set(e for lang in emoji.UNICODE_EMOJI.values() for e in lang)\n",
    "\n",
    "tokenizer_custom = {\n",
    "    '@HTAG': '[HTAG]',\n",
    "    '@USR': '[USR]',\n",
    "    '@CURR': '[CURR]',\n",
    "    '@EMOJI': '[EMOJI]',\n",
    "    '@URL': '[URL]',\n",
    "    '@TIME': '[TIME]',\n",
    "    '@DATE': '[DATE]',\n",
    "    '@NUM': '[NUM]'\n",
    "}\n",
    "\n",
    "OUTPUT_PATH = '../../data/bitcoin_twitter_corpus'\n",
    "print(len(vocabulary))"
   ],
   "metadata": {
    "collapsed": false,
    "pycharm": {
     "name": "#%%\n"
    }
   }
  },
  {
   "cell_type": "code",
   "execution_count": 4,
   "outputs": [
    {
     "name": "stdout",
     "output_type": "stream",
     "text": [
      "Processing chunk: 0\n",
      "Processing chunk: 1\n",
      "Processing chunk: 2\n",
      "Processing chunk: 3\n",
      "Processing chunk: 4\n",
      "Processing chunk: 5\n",
      "Processing chunk: 6\n",
      "Processing chunk: 7\n",
      "Processing chunk: 8\n",
      "Processing chunk: 9\n",
      "Processing chunk: 10\n",
      "Processing chunk: 11\n",
      "Processing chunk: 12\n",
      "Processing chunk: 13\n",
      "Processing chunk: 14\n",
      "Processing chunk: 15\n",
      "Processing chunk: 16\n",
      "Processing chunk: 17\n",
      "Processing chunk: 18\n",
      "Processing chunk: 19\n",
      "Processing chunk: 20\n",
      "Processing chunk: 21\n",
      "Processing chunk: 22\n",
      "Processing chunk: 23\n",
      "Processing chunk: 24\n",
      "Processing chunk: 25\n",
      "Processing chunk: 26\n",
      "Processing chunk: 27\n",
      "Processing chunk: 28\n"
     ]
    }
   ],
   "source": [
    "re_num = re.compile('(@NUM|\\[|\\])')\n",
    "\n",
    "def process_row(text):\n",
    "    words = text.split()\n",
    "    for i, word in enumerate(words):\n",
    "        if word in vocabulary and not word.startswith('@'):\n",
    "            continue\n",
    "        if word.startswith('@NUM'):\n",
    "            value = round(float(re_num.sub('', word)), 3)\n",
    "            words[i] = '[NUM] ' + ('%f' % value).rstrip('0').rstrip('.')\n",
    "            continue\n",
    "        if prefix := next(filter(words[i].startswith, tokenizer_custom.keys()), None):\n",
    "            value = words[i].replace(prefix, '').replace(']', '').replace('[', '')\n",
    "            words[i] = f'{tokenizer_custom[prefix]} {value}'\n",
    "            continue\n",
    "        if word in emoji_dict:\n",
    "            words[i] = '[EMOJI]'\n",
    "            continue\n",
    "    return ' '.join(words)\n",
    "\n",
    "ensure_dataset(OUTPUT_PATH, delete=True)\n",
    "u = 0\n",
    "with open(os.path.join(OUTPUT_PATH, 'train.tokens'), 'w') as f_train,\\\n",
    "    open(os.path.join(OUTPUT_PATH, 'test.tokens'), 'w') as f_test, \\\n",
    "    open(os.path.join(OUTPUT_PATH, 'validate.tokens'), 'w') as f_validate:\n",
    "    files = pathlib.Path(\"../../data/bitcoin_twitter_processed/\").glob(\"part_*.parquet\")\n",
    "    for chunk, file in enumerate(files):\n",
    "        print(f'Processing chunk: {chunk}')\n",
    "        data = pd.read_parquet(file)\n",
    "        for i, row in data.iterrows():\n",
    "            words = row['text'].split()\n",
    "            text = process_row(row['text'])\n",
    "            if i != 0:  text = '\\n' + text\n",
    "            if u < 14: f_train.write(text)\n",
    "            elif u < 17: f_test.write(text)\n",
    "            else: f_validate.write(text)\n",
    "            u = (u + 1) % 20"
   ],
   "metadata": {
    "collapsed": false,
    "pycharm": {
     "name": "#%%\n"
    }
   }
  },
  {
   "cell_type": "code",
   "execution_count": 53,
   "outputs": [],
   "source": [
    "# https://github.com/German-NLP-Group/german-transformer-training/blob/master/src/02_train_01.py#L10\n",
    "\n",
    "paths = [str(x) for x in pathlib.Path(OUTPUT_PATH).glob(\"**/*.tokens\")]\n",
    "tokenizer = BertWordPieceTokenizer(strip_accents=True)"
   ],
   "metadata": {
    "collapsed": false,
    "pycharm": {
     "name": "#%%\n"
    }
   }
  },
  {
   "cell_type": "code",
   "execution_count": 54,
   "outputs": [],
   "source": [
    "tokenizer.train(files=paths, vocab_size=30_000, min_frequency=1000, special_tokens=[\n",
    "    \"[CLS]\",\n",
    "    \"[PAD]\",\n",
    "    \"[SEP]\",\n",
    "    \"[UNK]\",\n",
    "    \"[MASK]\",\n",
    "     *list(tokenizer_custom.values())\n",
    "])\n",
    "tokenizer.add_special_tokens({\n",
    "    'additional_special_tokens': list(tokenizer_custom.values())\n",
    "})"
   ],
   "metadata": {
    "collapsed": false,
    "pycharm": {
     "name": "#%%\n"
    }
   }
  },
  {
   "cell_type": "code",
   "execution_count": 55,
   "outputs": [
    {
     "data": {
      "text/plain": "['../../data/vocab/bitcoin_twitter/bitcoin_twitter-vocab.txt']"
     },
     "execution_count": 55,
     "metadata": {},
     "output_type": "execute_result"
    }
   ],
   "source": [
    "tokenizer.save_model(\"../../data/vocab/bitcoin_twitter\", \"bitcoin_twitter\")"
   ],
   "metadata": {
    "collapsed": false,
    "pycharm": {
     "name": "#%%\n"
    }
   }
  },
  {
   "cell_type": "code",
   "execution_count": 57,
   "outputs": [
    {
     "name": "stdout",
     "output_type": "stream",
     "text": [
      "my [HTAG] cryptocurrency portfolio was [NUM] 80 percent [CURR] bitcoin until [USR] elonmusk [HTAG] tesla bought [NUM] 15000000 ##0 usd worth of [CURR] bitcoin this morning . my portfolio is [NUM] 9 . 87 percent [CURR] bitcoin now\n"
     ]
    }
   ],
   "source": [
    "text = r\"new antminer s9j - 14 . @NUM 5.0 t from @USR[bitmain] mining sha256 ( @HTAG[btc] @CURR[chainlink] @CURR[dogecoin] @CURR[bitcoin_cash] ) with hashrate @NUM 1.45 th / @NUM 1650 w added to tracking list s9j\"\n",
    "text = r\"my [HTAG] cryptocurrency portfolio was [NUM] 80 percent [CURR] bitcoin until [USR] elonmusk [HTAG] tesla bought [NUM] 150000000 usd worth of [CURR] bitcoin this morning . my portfolio is [NUM] 9.87 percent [CURR] bitcoin now\"\n",
    "print(' '.join(tokenizer.encode(text).tokens))\n",
    "aa = ' '.join(tokenizer.encode(text).tokens)"
   ],
   "metadata": {
    "collapsed": false,
    "pycharm": {
     "name": "#%%\n"
    }
   }
  },
  {
   "cell_type": "code",
   "execution_count": 58,
   "outputs": [
    {
     "data": {
      "text/plain": "{'[CLS]': 0,\n '[PAD]': 1,\n '[SEP]': 2,\n '[UNK]': 3,\n '[MASK]': 4,\n '[HTAG]': 5,\n '[USR]': 6,\n '[CURR]': 7,\n '[EMOJI]': 8,\n '[URL]': 9,\n '[TIME]': 10,\n '[DATE]': 11,\n '[NUM]': 12,\n '!': 13,\n '\"': 14,\n '#': 15,\n '$': 16,\n '%': 17,\n '&': 18,\n \"'\": 19,\n '(': 20,\n ')': 21,\n '*': 22,\n '+': 23,\n ',': 24,\n '-': 25,\n '.': 26,\n '/': 27,\n '0': 28,\n '1': 29,\n '2': 30,\n '3': 31,\n '4': 32,\n '5': 33,\n '6': 34,\n '7': 35,\n '8': 36,\n '9': 37,\n ':': 38,\n ';': 39,\n '<': 40,\n '=': 41,\n '>': 42,\n '?': 43,\n '@': 44,\n '[': 45,\n '\\\\': 46,\n ']': 47,\n '^': 48,\n '_': 49,\n 'a': 50,\n 'b': 51,\n 'c': 52,\n 'd': 53,\n 'e': 54,\n 'f': 55,\n 'g': 56,\n 'h': 57,\n 'i': 58,\n 'j': 59,\n 'k': 60,\n 'l': 61,\n 'm': 62,\n 'n': 63,\n 'o': 64,\n 'p': 65,\n 'q': 66,\n 'r': 67,\n 's': 68,\n 't': 69,\n 'u': 70,\n 'v': 71,\n 'w': 72,\n 'x': 73,\n 'y': 74,\n 'z': 75,\n '{': 76,\n '|': 77,\n '}': 78,\n '~': 79,\n '¡': 80,\n '¢': 81,\n '£': 82,\n '¤': 83,\n '¥': 84,\n '¦': 85,\n '§': 86,\n '©': 87,\n 'ª': 88,\n '¬': 89,\n '®': 90,\n '°': 91,\n '±': 92,\n '²': 93,\n '³': 94,\n 'µ': 95,\n '¶': 96,\n '¹': 97,\n 'º': 98,\n '¼': 99,\n '½': 100,\n '¾': 101,\n '¿': 102,\n '×': 103,\n 'ß': 104,\n 'æ': 105,\n 'ð': 106,\n '÷': 107,\n 'ø': 108,\n 'þ': 109,\n 'đ': 110,\n 'ħ': 111,\n 'ı': 112,\n 'ĸ': 113,\n 'ŀ': 114,\n 'ł': 115,\n 'ŋ': 116,\n 'œ': 117,\n 'ŧ': 118,\n 'ſ': 119,\n 'ƴ': 120,\n 'ƿ': 121,\n 'ǝ': 122,\n 'ɓ': 123,\n 'ɗ': 124,\n 'ə': 125,\n 'ɛ': 126,\n 'ɣ': 127,\n 'ʼ': 128,\n '™': 129,\n '↔': 130,\n '⏰': 131,\n '▪': 132,\n '▶': 133,\n '☠': 134,\n '♠': 135,\n '♣': 136,\n '♥': 137,\n '♦': 138,\n '⚡': 139,\n '✅': 140,\n '✔': 141,\n '❤': 142,\n '➡': 143,\n '⬇': 144,\n '⭐': 145,\n '🎁': 146,\n '🏆': 147,\n '🏻': 148,\n '👀': 149,\n '👇': 150,\n '👉': 151,\n '👍': 152,\n '💥': 153,\n '💯': 154,\n '💰': 155,\n '💵': 156,\n '💶': 157,\n '💸': 158,\n '📈': 159,\n '📉': 160,\n '📋': 161,\n '📢': 162,\n '🔄': 163,\n '🔥': 164,\n '🗺': 165,\n '😁': 166,\n '😂': 167,\n '😉': 168,\n '😍': 169,\n '😎': 170,\n '😵': 171,\n '🚀': 172,\n '🚨': 173,\n '🤑': 174,\n '🤔': 175,\n '##a': 176,\n '##m': 177,\n '##u': 178,\n '##t': 179,\n '##o': 180,\n '##0': 181,\n '##6': 182,\n '##8': 183,\n '##9': 184,\n '##3': 185,\n '##g': 186,\n '##4': 187,\n '##7': 188,\n '##1': 189,\n '##s': 190,\n '##w': 191,\n '##e': 192,\n '##l': 193,\n '##v': 194,\n '##d': 195,\n '##r': 196,\n '##h': 197,\n '##f': 198,\n '##i': 199,\n '##y': 200,\n '##n': 201,\n '##j': 202,\n '##z': 203,\n '##c': 204,\n '##p': 205,\n '##k': 206,\n '##2': 207,\n '##5': 208,\n '##b': 209,\n '##x': 210,\n '##q': 211,\n '##ı': 212,\n '##ø': 213,\n '##¢': 214,\n '##²': 215,\n '##ß': 216,\n '##đ': 217,\n '##ʼ': 218,\n '##ł': 219,\n '##ə': 220,\n '##œ': 221,\n '##æ': 222,\n '##£': 223,\n '##³': 224,\n '##°': 225,\n '##¦': 226,\n '##ð': 227,\n '##º': 228,\n '##×': 229,\n '##ſ': 230,\n '##þ': 231,\n '##ǝ': 232,\n '##ta': 233,\n '##tag': 234,\n 'htag': 235,\n '##in': 236,\n '##ur': 237,\n '##urr': 238,\n 'curr': 239,\n '##it': 240,\n '##co': 241,\n '##coin': 242,\n 'bit': 243,\n 'bitcoin': 244,\n '##er': 245,\n '##en': 246,\n '##um': 247,\n '##to': 248,\n 'us': 249,\n '##ry': 250,\n 'num': 251,\n '##ryp': 252,\n '##rypto': 253,\n 'crypto': 254,\n '##an': 255,\n 'th': 256,\n '##ing': 257,\n '##enc': 258,\n '##es': 259,\n '##on': 260,\n '##ency': 261,\n '##or': 262,\n '##curr': 263,\n '##currency': 264,\n 'cryptocurrency': 265,\n '##ar': 266,\n '##ch': 267,\n '##th': 268,\n '##ll': 269,\n 'in': 270,\n 'to': 271,\n '##at': 272,\n 'the': 273,\n '##et': 274,\n '##as': 275,\n '##ck': 276,\n '##al': 277,\n 'usr': 278,\n '##lo': 279,\n '##ed': 280,\n 'an': 281,\n '##ere': 282,\n '##ro': 283,\n '##00': 284,\n '##ce': 285,\n '##is': 286,\n '##ent': 287,\n 'usd': 288,\n '##re': 289,\n '##ain': 290,\n 'eth': 291,\n '##ra': 292,\n 'co': 293,\n '##ereum': 294,\n 'ethereum': 295,\n '##ou': 296,\n 'and': 297,\n 'blo': 298,\n '##chain': 299,\n 'block': 300,\n '##ion': 301,\n 'is': 302,\n 'blockchain': 303,\n '##ay': 304,\n '##ri': 305,\n 'for': 306,\n '##ew': 307,\n 'on': 308,\n '##us': 309,\n '##ow': 310,\n '##le': 311,\n 'of': 312,\n '##ve': 313,\n '##ig': 314,\n 're': 315,\n '##ir': 316,\n '##rad': 317,\n '##me': 318,\n '##ic': 319,\n '##ot': 320,\n '##ge': 321,\n '##te': 322,\n '##est': 323,\n 'per': 324,\n '##un': 325,\n 'al': 326,\n 'bu': 327,\n '##ec': 328,\n '##ol': 329,\n '##os': 330,\n '##ter': 331,\n 'be': 332,\n '##ill': 333,\n '##mo': 334,\n 'pro': 335,\n '##rl': 336,\n '##ite': 337,\n 'url': 338,\n '##cent': 339,\n '##ash': 340,\n 'trad': 341,\n '##ver': 342,\n '##ly': 343,\n 'pri': 344,\n '##rp': 345,\n 'ch': 346,\n 'com': 347,\n 'percent': 348,\n 'coin': 349,\n 'xrp': 350,\n '##ts': 351,\n 'wh': 352,\n '##ex': 353,\n '##ark': 354,\n '##ance': 355,\n 'you': 356,\n '##ews': 357,\n '##ken': 358,\n '##ad': 359,\n 'ex': 360,\n '##ji': 361,\n 'emo': 362,\n 'emoji': 363,\n '##our': 364,\n '##ap': 365,\n '##ith': 366,\n 'at': 367,\n '##ers': 368,\n '##id': 369,\n '##ut': 370,\n '##ia': 371,\n '##tcoin': 372,\n '##tc': 373,\n 'se': 374,\n '##arket': 375,\n '##itecoin': 376,\n 'with': 377,\n 'litecoin': 378,\n 'do': 379,\n 'we': 380,\n 'tr': 381,\n '##inance': 382,\n '##ore': 383,\n 'price': 384,\n 'te': 385,\n 'altcoin': 386,\n 'buy': 387,\n '##one': 388,\n 'altcoins': 389,\n '##ld': 390,\n '##am': 391,\n '##ess': 392,\n 'it': 393,\n '##ment': 394,\n '##ard': 395,\n '##ak': 396,\n '20': 397,\n '##oo': 398,\n '##ate': 399,\n '##all': 400,\n 'ti': 401,\n 'li': 402,\n 'token': 403,\n '##il': 404,\n '##ree': 405,\n '##ation': 406,\n 'sta': 407,\n 'market': 408,\n 'inv': 409,\n 'binance': 410,\n '##ity': 411,\n 'this': 412,\n '##pp': 413,\n 'de': 414,\n '##ange': 415,\n '##ct': 416,\n 'as': 417,\n 'free': 418,\n 'min': 419,\n 'trading': 420,\n 'up': 421,\n 'sh': 422,\n 'ico': 423,\n 'your': 424,\n 'so': 425,\n '##rop': 426,\n 'now': 427,\n '##0000': 428,\n 'will': 429,\n 'more': 430,\n 'wor': 431,\n 'not': 432,\n '##ust': 433,\n '##igh': 434,\n '##ird': 435,\n '##ul': 436,\n 'new': 437,\n '##ank': 438,\n '##eo': 439,\n '##news': 440,\n '201': 441,\n '##ob': 442,\n 'are': 443,\n 'time': 444,\n 'get': 445,\n '##irdrop': 446,\n 'con': 447,\n '10': 448,\n 'cash': 449,\n '##ast': 450,\n 'en': 451,\n '##el': 452,\n '##oney': 453,\n '##ive': 454,\n 'exch': 455,\n 'airdrop': 456,\n 'fin': 457,\n 'un': 458,\n '##st': 459,\n 'invest': 460,\n 'can': 461,\n 'su': 462,\n 'sto': 463,\n '##om': 464,\n 'sp': 465,\n 'st': 466,\n '##od': 467,\n 'or': 468,\n 'ha': 469,\n 'by': 470,\n '##rt': 471,\n 'that': 472,\n '##day': 473,\n '##tal': 474,\n '##art': 475,\n 'sell': 476,\n '##im': 477,\n '##if': 478,\n '##ys': 479,\n '##arn': 480,\n '##are': 481,\n '##ect': 482,\n 'news': 483,\n '##ink': 484,\n 'le': 485,\n '##ase': 486,\n 'me': 487,\n '##and': 488,\n '##ort': 489,\n 'all': 490,\n '##ign': 491,\n 'tw': 492,\n '##ab': 493,\n '##old': 494,\n '##rom': 495,\n 'money': 496,\n 'ad': 497,\n '##oun': 498,\n 'exchange': 499,\n 'tron': 500,\n '##etw': 501,\n '##ther': 502,\n '##ial': 503,\n '##end': 504,\n '##trad': 505,\n '##bit': 506,\n 'pl': 507,\n '##oin': 508,\n '##ale': 509,\n '##ip': 510,\n 'btc': 511,\n '##up': 512,\n 'ste': 513,\n '##sta': 514,\n 'am': 515,\n '##ke': 516,\n 'from': 517,\n 'tech': 518,\n 'ab': 519,\n '##iz': 520,\n '##tech': 521,\n 'prof': 522,\n 'ne': 523,\n '##ure': 524,\n 'go': 525,\n 'mon': 526,\n '##ist': 527,\n '##20': 528,\n 'have': 529,\n '##for': 530,\n '##000': 531,\n 'ac': 532,\n '##ans': 533,\n '##llar': 534,\n '##tor': 535,\n '##se': 536,\n 'da': 537,\n '##out': 538,\n '##qu': 539,\n '11': 540,\n '##und': 541,\n '##ang': 542,\n '##mp': 543,\n '##gy': 544,\n 'dig': 545,\n '##ork': 546,\n '##itter': 547,\n 'ar': 548,\n 'pay': 549,\n '##ber': 550,\n 'proj': 551,\n 'profit': 552,\n '##ital': 553,\n 'my': 554,\n 'fo': 555,\n 'last': 556,\n '##ook': 557,\n '##ack': 558,\n 'card': 559,\n 'via': 560,\n '##ag': 561,\n 'cl': 562,\n 'sa': 563,\n '##iv': 564,\n '##ine': 565,\n '##gh': 566,\n 'start': 567,\n 'out': 568,\n 'fa': 569,\n '##ano': 570,\n 'has': 571,\n '##ub': 572,\n '##ie': 573,\n '##ake': 574,\n '##trading': 575,\n 'one': 576,\n 'just': 577,\n '##pl': 578,\n 'if': 579,\n 'ever': 580,\n 'join': 581,\n '##op': 582,\n 'twitter': 583,\n 'ind': 584,\n 'he': 585,\n '##ies': 586,\n '##illion': 587,\n '24': 588,\n 'day': 589,\n '##min': 590,\n 'mo': 591,\n '##usd': 592,\n 'earn': 593,\n 'what': 594,\n '##sh': 595,\n 'here': 596,\n '##no': 597,\n 'op': 598,\n '##ral': 599,\n '##ost': 600,\n '##form': 601,\n 'fintech': 602,\n 'stock': 603,\n '2019': 604,\n '15': 605,\n 'goo': 606,\n '##ant': 607,\n 'stellar': 608,\n '##ight': 609,\n '##iness': 610,\n '##fer': 611,\n 'au': 612,\n 'trade': 613,\n 'high': 614,\n '##ue': 615,\n '##usiness': 616,\n '##app': 617,\n '##ong': 618,\n '12': 619,\n '##ish': 620,\n 'current': 621,\n 'our': 622,\n '##ass': 623,\n '##ib': 624,\n 'sign': 625,\n 'forex': 626,\n 'eos': 627,\n 'business': 628,\n 'every': 629,\n 'doge': 630,\n '##tion': 631,\n 'how': 632,\n 'about': 633,\n 'inf': 634,\n 'mining': 635,\n 'no': 636,\n '##ear': 637,\n '##row': 638,\n 'pa': 639,\n '##ump': 640,\n 'cardano': 641,\n '##llow': 642,\n '##ction': 643,\n 'dogecoin': 644,\n '##ty': 645,\n '##allet': 646,\n '##per': 647,\n '##ek': 648,\n 'over': 649,\n 'like': 650,\n '##ud': 651,\n 'qu': 652,\n '##ick': 653,\n 'tokens': 654,\n '##ence': 655,\n '##tre': 656,\n 'hour': 657,\n 'ag': 658,\n 'project': 659,\n 'vol': 660,\n 'bank': 661,\n '##io': 662,\n '##gra': 663,\n 'sec': 664,\n 'digital': 665,\n '##con': 666,\n '##ero': 667,\n '##own': 668,\n 'world': 669,\n 'follow': 670,\n '##ire': 671,\n '##logy': 672,\n '##base': 673,\n '##ally': 674,\n 'app': 675,\n 'investment': 676,\n '##tom': 677,\n 'dec': 678,\n 'gold': 679,\n 'man': 680,\n 'comp': 681,\n 'ver': 682,\n 'job': 683,\n '##ile': 684,\n 'str': 685,\n '##ning': 686,\n 'cont': 687,\n 'cap': 688,\n '##vi': 689,\n '##ated': 690,\n 'read': 691,\n 'inter': 692,\n 'fir': 693,\n 'sc': 694,\n 'fut': 695,\n '##unt': 696,\n 'but': 697,\n 'la': 698,\n '##fe': 699,\n 'there': 700,\n 'some': 701,\n 'today': 702,\n '##way': 703,\n '14': 704,\n '##pr': 705,\n '##com': 706,\n 'pr': 707,\n 'win': 708,\n '##etwork': 709,\n '##market': 710,\n '##uc': 711,\n 'live': 712,\n 'care': 713,\n 'cryptonews': 714,\n 'link': 715,\n '13': 716,\n 'big': 717,\n '##ould': 718,\n 'res': 719,\n 'lo': 720,\n 'eur': 721,\n 'btcusd': 722,\n 'gre': 723,\n '##ited': 724,\n '##ep': 725,\n '##ton': 726,\n 'worth': 727,\n '##etwe': 728,\n 'top': 729,\n 'sm': 730,\n '##age': 731,\n '##ac': 732,\n '##bp': 733,\n '##ach': 734,\n '00': 735,\n '##tan': 736,\n '##bitcoin': 737,\n '25': 738,\n 'che': 739,\n 'fe': 740,\n 'cryptotrading': 741,\n '##ina': 742,\n 'part': 743,\n 'hir': 744,\n 'see': 745,\n '##ume': 746,\n 'jobs': 747,\n '##alys': 748,\n '##ff': 749,\n '##ven': 750,\n '##nology': 751,\n '##atform': 752,\n 'bull': 753,\n '##ets': 754,\n '##ix': 755,\n '##token': 756,\n 'hiring': 757,\n '##ble': 758,\n '##unch': 759,\n '##ily': 760,\n 'its': 761,\n '##ph': 762,\n '##der': 763,\n '##ments': 764,\n 'bt': 765,\n '100': 766,\n 'make': 767,\n 'info': 768,\n 'careers': 769,\n 'volume': 770,\n '18': 771,\n 'tokensale': 772,\n '##cial': 773,\n '19': 774,\n '##ide': 775,\n 'ai': 776,\n '##ple': 777,\n 'supp': 778,\n 'wallet': 779,\n 'boun': 780,\n 'reg': 781,\n '##ame': 782,\n 'dash': 783,\n '16': 784,\n '##alysis': 785,\n '##ough': 786,\n '##als': 787,\n 'week': 788,\n '##ces': 789,\n '##fin': 790,\n 'trans': 791,\n 'inr': 792,\n 'coinbase': 793,\n '17': 794,\n 'real': 795,\n 'good': 796,\n '##de': 797,\n 'io': 798,\n 'neo': 799,\n 'ether': 800,\n 'first': 801,\n '##cess': 802,\n 'bet': 803,\n 'look': 804,\n '##ting': 805,\n '##btc': 806,\n '10000': 807,\n '##da': 808,\n 'down': 809,\n 'any': 810,\n 'monero': 811,\n 'currency': 812,\n 'upd': 813,\n 'gbp': 814,\n '##ace': 815,\n 'low': 816,\n '23': 817,\n '30': 818,\n 'acco': 819,\n '##19': 820,\n '##mes': 821,\n '##ized': 822,\n 'insta': 823,\n 'check': 824,\n 'best': 825,\n '##ous': 826,\n 'off': 827,\n 'year': 828,\n 'dis': 829,\n '##velo': 830,\n '##ings': 831,\n 'investing': 832,\n 'only': 833,\n 'network': 834,\n 'platform': 835,\n '##entral': 836,\n 'give': 837,\n 'ph': 838,\n '##av': 839,\n 'hod': 840,\n 'tether': 841,\n '##tosh': 842,\n '##10': 843,\n '##now': 844,\n '22': 845,\n '##ds': 846,\n 'nex': 847,\n '##ene': 848,\n '##ical': 849,\n 'develo': 850,\n 'av': 851,\n 'af': 852,\n 'was': 853,\n '##mer': 854,\n '##unity': 855,\n '##atch': 856,\n '##ma': 857,\n '##ich': 858,\n 'when': 859,\n 'lat': 860,\n 'val': 861,\n 'they': 862,\n 'coins': 863,\n 'bre': 864,\n 'great': 865,\n 'fund': 866,\n 'billion': 867,\n 'inc': 868,\n '##estor': 869,\n 'clo': 870,\n '##ft': 871,\n 'utc': 872,\n 'united': 873,\n 'art': 874,\n 'startup': 875,\n 'hodl': 876,\n '##go': 877,\n '##pay': 878,\n 'ma': 879,\n 'ke': 880,\n '##ual': 881,\n 'data': 882,\n '##low': 883,\n 'bounty': 884,\n '##az': 885,\n 'ser': 886,\n 'work': 887,\n 'back': 888,\n '21': 889,\n '##tem': 890,\n 'chain': 891,\n '##ise': 892,\n 'using': 893,\n '##ution': 894,\n 'pos': 895,\n 'why': 896,\n 'bitsta': 897,\n 'future': 898,\n '##ert': 899,\n 'daily': 900,\n 'rob': 901,\n '##ens': 902,\n 'bitstamp': 903,\n 'rank': 904,\n '##ipp': 905,\n '##eople': 906,\n '##tra': 907,\n 'list': 908,\n 'thank': 909,\n 'use': 910,\n 'bot': 911,\n 'cr': 912,\n 'ass': 913,\n 'pol': 914,\n 'people': 915,\n 'pre': 916,\n 'million': 917,\n 'sw': 918,\n '##urity': 919,\n 'launch': 920,\n 'who': 921,\n 'want': 922,\n '##gram': 923,\n '##anges': 924,\n 'bas': 925,\n '##ays': 926,\n '##main': 927,\n 'pair': 928,\n 'analysis': 929,\n '##trex': 930,\n '##line': 931,\n 'bittrex': 932,\n 'investor': 933,\n '##finex': 934,\n 'know': 935,\n '##ice': 936,\n 'update': 937,\n 'times': 938,\n '##cash': 939,\n '##iss': 940,\n 'need': 941,\n 'next': 942,\n '##arg': 943,\n 'comm': 944,\n '##come': 945,\n '##ps': 946,\n '##mining': 947,\n 'gu': 948,\n '##50': 949,\n 'may': 950,\n 'their': 951,\n '27': 952,\n '##crypto': 953,\n '##ving': 954,\n '##ific': 955,\n 'add': 956,\n 'bitfinex': 957,\n '##vel': 958,\n 'into': 959,\n '##away': 960,\n '##ound': 961,\n '##able': 962,\n '##ger': 963,\n 'than': 964,\n '##of': 965,\n 'rep': 966,\n '##bs': 967,\n 'satosh': 968,\n '28': 969,\n '26': 970,\n '##book': 971,\n 'finance': 972,\n 'technology': 973,\n '01': 974,\n '50': 975,\n 'po': 976,\n 'bo': 977,\n 'support': 978,\n '##ics': 979,\n 'been': 980,\n 'long': 981,\n '##lob': 982,\n 'cy': 983,\n '##em': 984,\n '##ull': 985,\n 'account': 986,\n 'stat': 987,\n '29': 988,\n 'arb': 989,\n 'most': 990,\n 'vir': 991,\n 'br': 992,\n 'ly': 993,\n '##bt': 994,\n 'hit': 995,\n 'would': 996,\n 'fri': 997,\n 'cann': 998,\n 'break': 999,\n ...}"
     },
     "execution_count": 58,
     "metadata": {},
     "output_type": "execute_result"
    }
   ],
   "source": [
    "tokenizer = ElectraTokenizer(vocab_file='../../data/vocab/bitcoin_twitter/bitcoin_twitter-vocab.txt')\n",
    "tokenizer.get_vocab()"
   ],
   "metadata": {
    "collapsed": false,
    "pycharm": {
     "name": "#%%\n"
    }
   }
  },
  {
   "cell_type": "code",
   "execution_count": 66,
   "outputs": [
    {
     "data": {
      "text/plain": "'[CLS] my [HTAG] cryptocurrency portfolio was [NUM] 80 percent [CURR] bitcoin until [USR] elonmusk [HTAG] tesla bought [NUM] 15000000 ##0 usd worth of [CURR] bitcoin this morning . my portfolio is [NUM] 9 . 87 percent [CURR] bitcoin now [SEP]'"
     },
     "execution_count": 66,
     "metadata": {},
     "output_type": "execute_result"
    }
   ],
   "source": [
    "rev_vocab = {i: s for s, i in tokenizer.get_vocab().items()}\n",
    "text = r\"  [CURR]  new antminer s9j - 14 . @num 5.0 t from @USR[bitmain] mining sha256 (@CURR[chainlink] @CURR[dogecoin] @CURR[bitcoin_cash] ) with hashrate @NUM 1.45 th / @NUM 1650 w added to tracking list s9j\"\n",
    "text = r\"my [HTAG] cryptocurrency portfolio was [NUM] 80 percent [CURR] bitcoin until [USR] elonmusk [HTAG] tesla bought [NUM] 150000000 usd worth of [CURR] bitcoin this morning . my portfolio is [NUM] 9.87 percent [CURR] bitcoin now\"\n",
    "' '.join([rev_vocab[int(i)] for i in tokenizer.encode(text)])"
   ],
   "metadata": {
    "collapsed": false,
    "pycharm": {
     "name": "#%%\n"
    }
   }
  },
  {
   "cell_type": "code",
   "execution_count": 64,
   "outputs": [
    {
     "data": {
      "text/plain": "0"
     },
     "execution_count": 64,
     "metadata": {},
     "output_type": "execute_result"
    }
   ],
   "source": [
    "tokenizer.add_special_tokens({\n",
    "    'additional_special_tokens': list(tokenizer_custom.values())\n",
    "})"
   ],
   "metadata": {
    "collapsed": false,
    "pycharm": {
     "name": "#%%\n"
    }
   }
  },
  {
   "cell_type": "code",
   "execution_count": null,
   "outputs": [],
   "source": [],
   "metadata": {
    "collapsed": false,
    "pycharm": {
     "name": "#%%\n"
    }
   }
  }
 ],
 "metadata": {
  "kernelspec": {
   "display_name": "Python 3",
   "language": "python",
   "name": "python3"
  },
  "language_info": {
   "codemirror_mode": {
    "name": "ipython",
    "version": 2
   },
   "file_extension": ".py",
   "mimetype": "text/x-python",
   "name": "python",
   "nbconvert_exporter": "python",
   "pygments_lexer": "ipython2",
   "version": "2.7.6"
  }
 },
 "nbformat": 4,
 "nbformat_minor": 0
}