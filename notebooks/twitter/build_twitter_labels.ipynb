{
 "cells": [
  {
   "cell_type": "code",
   "execution_count": 1,
   "metadata": {
    "collapsed": true
   },
   "outputs": [],
   "source": [
    "import pandas as pd\n",
    "import pymongo\n",
    "from config import mongodb\n",
    "import pendulum\n",
    "import numpy as np"
   ]
  },
  {
   "cell_type": "code",
   "execution_count": 2,
   "outputs": [],
   "source": [
    "HOUR = 3600\n",
    "DAY = HOUR * 24\n",
    "CURRENCIES=[\n",
    "    'USD-BTC',\n",
    "    'USD-ETH',\n",
    "    'USD-XRP',\n",
    "]\n",
    "\n",
    "TIMEFRAMES = {\n",
    "    '-12h': -HOUR * 8,\n",
    "    '12h': HOUR * 12,\n",
    "    '1d': DAY,\n",
    "    '2d': DAY * 2,\n",
    "    '7d': DAY * 7,\n",
    "    '14d': DAY * 14,\n",
    "}"
   ],
   "metadata": {
    "collapsed": false,
    "pycharm": {
     "name": "#%%\n"
    }
   }
  },
  {
   "cell_type": "code",
   "execution_count": 3,
   "outputs": [],
   "source": [
    "client = mongodb()\n",
    "collection = client['market']['coinmarketcap']"
   ],
   "metadata": {
    "collapsed": false,
    "pycharm": {
     "name": "#%%\n"
    }
   }
  },
  {
   "cell_type": "code",
   "execution_count": 4,
   "outputs": [],
   "source": [
    "datasets = []\n",
    "CURRENCY = CURRENCIES[0]"
   ],
   "metadata": {
    "collapsed": false,
    "pycharm": {
     "name": "#%%\n"
    }
   }
  },
  {
   "cell_type": "code",
   "execution_count": null,
   "outputs": [],
   "source": [
    "query = collection[CURRENCY]['1h']\\\n",
    "    .find({}, {'_id': 0, 'timestamp': 1, 'close': 1})\\\n",
    "    .sort([('timestamp', pymongo.ASCENDING)])\n",
    "market = pd.DataFrame(list(query))\n",
    "max_date = pendulum.from_timestamp(market.iloc[-1].timestamp)\n",
    "min_date = pendulum.from_timestamp(market.iloc[0].timestamp)"
   ],
   "metadata": {
    "collapsed": false,
    "pycharm": {
     "name": "#%%\n"
    }
   }
  },
  {
   "cell_type": "code",
   "execution_count": null,
   "outputs": [],
   "source": [
    "data = pd.read_parquet('../../data/bitcoin_twitter_raw/part_5.parquet')\n",
    "data = data.iloc[:10000][['created_at']]\n",
    "data = data[data['created_at'] < np.datetime64(max_date.subtract(seconds=TIMEFRAMES['14d']))]\n",
    "data = data[data['created_at'] > np.datetime64(min_date.subtract(seconds=TIMEFRAMES['-12h']))]\n",
    "datasets.append(data)"
   ],
   "metadata": {
    "collapsed": false,
    "pycharm": {
     "name": "#%%\n"
    }
   }
  },
  {
   "cell_type": "code",
   "execution_count": null,
   "outputs": [],
   "source": [
    "row_timestamps = data['created_at'].astype('int64') // 10**9\n",
    "current_value = np.array(market['close'].iloc[market['timestamp'].searchsorted(row_timestamps)])\n",
    "\n",
    "labels = {}\n",
    "for label, delta in TIMEFRAMES.items():\n",
    "    print(f'Creating labels: {label}')\n",
    "    new_value = market['close'].iloc[market['timestamp'].searchsorted(row_timestamps + delta)]\n",
    "    labels[f'{CURRENCY}-change-{label}'] = np.array(new_value - current_value) / current_value\n",
    "\n",
    "labels = pd.DataFrame(labels)\n",
    "datasets.append(labels)"
   ],
   "metadata": {
    "collapsed": false,
    "pycharm": {
     "name": "#%%\n"
    }
   }
  },
  {
   "cell_type": "code",
   "execution_count": null,
   "outputs": [],
   "source": [
    "data = pd.concat(datasets, axis=1)"
   ],
   "metadata": {
    "collapsed": false,
    "pycharm": {
     "name": "#%%\n"
    }
   }
  },
  {
   "cell_type": "code",
   "execution_count": 9,
   "outputs": [
    {
     "data": {
      "text/plain": "        change--12h    change-12h     change-1d     change-2d     change-7d  \\\ncount  10000.000000  10000.000000  10000.000000  10000.000000  10000.000000   \nmean      -0.000548      0.000011     -0.000794     -0.000028     -0.024366   \nstd        0.023778      0.015950      0.028994      0.030907      0.048262   \nmin       -0.042448     -0.046056     -0.069669     -0.080646     -0.106304   \n25%       -0.017250     -0.010952     -0.026258     -0.011708     -0.062167   \n50%        0.000139     -0.002329      0.000627      0.004040     -0.044692   \n75%        0.012422      0.007509      0.014943      0.024559      0.013391   \nmax        0.073684      0.044453      0.063548      0.048383      0.078625   \n\n         change-14d  \ncount  10000.000000  \nmean      -0.052870  \nstd        0.032849  \nmin       -0.116021  \n25%       -0.084019  \n50%       -0.036021  \n75%       -0.022828  \nmax        0.026692  ",
      "text/html": "<div>\n<style scoped>\n    .dataframe tbody tr th:only-of-type {\n        vertical-align: middle;\n    }\n\n    .dataframe tbody tr th {\n        vertical-align: top;\n    }\n\n    .dataframe thead th {\n        text-align: right;\n    }\n</style>\n<table border=\"1\" class=\"dataframe\">\n  <thead>\n    <tr style=\"text-align: right;\">\n      <th></th>\n      <th>change--12h</th>\n      <th>change-12h</th>\n      <th>change-1d</th>\n      <th>change-2d</th>\n      <th>change-7d</th>\n      <th>change-14d</th>\n    </tr>\n  </thead>\n  <tbody>\n    <tr>\n      <th>count</th>\n      <td>10000.000000</td>\n      <td>10000.000000</td>\n      <td>10000.000000</td>\n      <td>10000.000000</td>\n      <td>10000.000000</td>\n      <td>10000.000000</td>\n    </tr>\n    <tr>\n      <th>mean</th>\n      <td>-0.000548</td>\n      <td>0.000011</td>\n      <td>-0.000794</td>\n      <td>-0.000028</td>\n      <td>-0.024366</td>\n      <td>-0.052870</td>\n    </tr>\n    <tr>\n      <th>std</th>\n      <td>0.023778</td>\n      <td>0.015950</td>\n      <td>0.028994</td>\n      <td>0.030907</td>\n      <td>0.048262</td>\n      <td>0.032849</td>\n    </tr>\n    <tr>\n      <th>min</th>\n      <td>-0.042448</td>\n      <td>-0.046056</td>\n      <td>-0.069669</td>\n      <td>-0.080646</td>\n      <td>-0.106304</td>\n      <td>-0.116021</td>\n    </tr>\n    <tr>\n      <th>25%</th>\n      <td>-0.017250</td>\n      <td>-0.010952</td>\n      <td>-0.026258</td>\n      <td>-0.011708</td>\n      <td>-0.062167</td>\n      <td>-0.084019</td>\n    </tr>\n    <tr>\n      <th>50%</th>\n      <td>0.000139</td>\n      <td>-0.002329</td>\n      <td>0.000627</td>\n      <td>0.004040</td>\n      <td>-0.044692</td>\n      <td>-0.036021</td>\n    </tr>\n    <tr>\n      <th>75%</th>\n      <td>0.012422</td>\n      <td>0.007509</td>\n      <td>0.014943</td>\n      <td>0.024559</td>\n      <td>0.013391</td>\n      <td>-0.022828</td>\n    </tr>\n    <tr>\n      <th>max</th>\n      <td>0.073684</td>\n      <td>0.044453</td>\n      <td>0.063548</td>\n      <td>0.048383</td>\n      <td>0.078625</td>\n      <td>0.026692</td>\n    </tr>\n  </tbody>\n</table>\n</div>"
     },
     "execution_count": 9,
     "metadata": {},
     "output_type": "execute_result"
    }
   ],
   "source": [
    "labels.describe()"
   ],
   "metadata": {
    "collapsed": false,
    "pycharm": {
     "name": "#%%\n"
    }
   }
  },
  {
   "cell_type": "code",
   "execution_count": null,
   "outputs": [],
   "source": [],
   "metadata": {
    "collapsed": false,
    "pycharm": {
     "name": "#%%\n"
    }
   }
  }
 ],
 "metadata": {
  "kernelspec": {
   "display_name": "Python 3",
   "language": "python",
   "name": "python3"
  },
  "language_info": {
   "codemirror_mode": {
    "name": "ipython",
    "version": 2
   },
   "file_extension": ".py",
   "mimetype": "text/x-python",
   "name": "python",
   "nbconvert_exporter": "python",
   "pygments_lexer": "ipython2",
   "version": "2.7.6"
  }
 },
 "nbformat": 4,
 "nbformat_minor": 0
}