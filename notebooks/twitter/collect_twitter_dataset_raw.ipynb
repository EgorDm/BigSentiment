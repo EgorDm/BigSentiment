{
 "cells": [
  {
   "cell_type": "code",
   "execution_count": null,
   "metadata": {
    "collapsed": true,
    "pycharm": {
     "is_executing": true
    }
   },
   "outputs": [],
   "source": [
    "import logging\n",
    "import pymongo\n",
    "from config import mongodb\n",
    "from utils.datasets import batched_dataset\n",
    "import pandas as pd\n",
    "import numpy as np\n",
    "\n",
    "logger = logging.getLogger()\n",
    "logger.setLevel(logging.WARNING)"
   ]
  },
  {
   "cell_type": "code",
   "execution_count": 2,
   "outputs": [],
   "source": [
    "client = mongodb()\n",
    "scrapperdb = client['scrapper']\n",
    "collection = scrapperdb['tweets']\n",
    "\n",
    "query = collection\\\n",
    "    .find({'topics': {'$in': [\n",
    "        'bitcoin', 'btc', 'cryptocurrency', 'altcoins',\n",
    "        'airdrop', 'binance'\n",
    "    ]}})\\\n",
    "    .sort([('created_at', pymongo.DESCENDING)])"
   ],
   "metadata": {
    "collapsed": false,
    "pycharm": {
     "name": "#%%\n"
    }
   }
  },
  {
   "cell_type": "code",
   "execution_count": 3,
   "outputs": [],
   "source": [
    "def callback(df):\n",
    "    df['_id'] = df['_id'].astype(np.int64)\n",
    "    df['user_id'] = df['user_id'].astype(str)\n",
    "    return df\n"
   ],
   "metadata": {
    "collapsed": false,
    "pycharm": {
     "name": "#%%\n"
    }
   }
  },
  {
   "cell_type": "code",
   "execution_count": 4,
   "outputs": [
    {
     "name": "stdout",
     "output_type": "stream",
     "text": [
      "Writing part 0\n",
      "Writing part 1\n",
      "Writing part 2\n",
      "Writing part 3\n",
      "Writing part 4\n",
      "Writing part 5\n",
      "Writing part 6\n",
      "Writing part 7\n",
      "Writing part 8\n",
      "Writing part 9\n",
      "Writing part 10\n",
      "Writing part 11\n",
      "Writing part 12\n",
      "Writing part 13\n",
      "Writing part 14\n",
      "Writing part 15\n",
      "Writing part 16\n",
      "Writing part 17\n",
      "Writing part 18\n",
      "Writing part 19\n",
      "Writing part 20\n",
      "Writing part 21\n",
      "Writing part 22\n",
      "Writing part 23\n",
      "Writing part 24\n",
      "Writing part 25\n",
      "Writing part 26\n",
      "Writing part 27\n",
      "Writing part 28\n"
     ]
    }
   ],
   "source": [
    "BATCH_SIZE = 10000\n",
    "DATASET_SIZE = BATCH_SIZE * 30\n",
    "batched_dataset(query, '../../data/bitcoin_twitter_raw', DATASET_SIZE, BATCH_SIZE, callback)"
   ],
   "metadata": {
    "collapsed": false,
    "pycharm": {
     "name": "#%%\n"
    }
   }
  },
  {
   "cell_type": "code",
   "execution_count": null,
   "outputs": [],
   "source": [],
   "metadata": {
    "collapsed": false,
    "pycharm": {
     "name": "#%%\n"
    }
   }
  }
 ],
 "metadata": {
  "kernelspec": {
   "display_name": "Python 3",
   "language": "python",
   "name": "python3"
  },
  "language_info": {
   "codemirror_mode": {
    "name": "ipython",
    "version": 2
   },
   "file_extension": ".py",
   "mimetype": "text/x-python",
   "name": "python",
   "nbconvert_exporter": "python",
   "pygments_lexer": "ipython2",
   "version": "2.7.6"
  }
 },
 "nbformat": 4,
 "nbformat_minor": 0
}