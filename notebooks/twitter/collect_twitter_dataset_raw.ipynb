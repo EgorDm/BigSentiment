{
 "cells": [
  {
   "cell_type": "code",
   "execution_count": 1,
   "metadata": {
    "collapsed": true
   },
   "outputs": [
    {
     "ename": "KeyboardInterrupt",
     "evalue": "",
     "output_type": "error",
     "traceback": [
      "\u001B[0;31m---------------------------------------------------------------------------\u001B[0m",
      "\u001B[0;31mKeyboardInterrupt\u001B[0m                         Traceback (most recent call last)",
      "\u001B[0;32m<ipython-input-1-0cb4f62d9ff1>\u001B[0m in \u001B[0;36m<module>\u001B[0;34m\u001B[0m\n\u001B[1;32m      1\u001B[0m \u001B[0;32mimport\u001B[0m \u001B[0mlogging\u001B[0m\u001B[0;34m\u001B[0m\u001B[0;34m\u001B[0m\u001B[0m\n\u001B[0;32m----> 2\u001B[0;31m \u001B[0;32mimport\u001B[0m \u001B[0mpymongo\u001B[0m\u001B[0;34m\u001B[0m\u001B[0;34m\u001B[0m\u001B[0m\n\u001B[0m\u001B[1;32m      3\u001B[0m \u001B[0;32mfrom\u001B[0m \u001B[0mconfig\u001B[0m \u001B[0;32mimport\u001B[0m \u001B[0mmongodb\u001B[0m\u001B[0;34m\u001B[0m\u001B[0;34m\u001B[0m\u001B[0m\n\u001B[1;32m      4\u001B[0m \u001B[0;32mfrom\u001B[0m \u001B[0mutils\u001B[0m\u001B[0;34m.\u001B[0m\u001B[0mdatasets\u001B[0m \u001B[0;32mimport\u001B[0m \u001B[0mbatched_dataset\u001B[0m\u001B[0;34m\u001B[0m\u001B[0;34m\u001B[0m\u001B[0m\n\u001B[1;32m      5\u001B[0m \u001B[0;32mimport\u001B[0m \u001B[0mpandas\u001B[0m \u001B[0;32mas\u001B[0m \u001B[0mpd\u001B[0m\u001B[0;34m\u001B[0m\u001B[0;34m\u001B[0m\u001B[0m\n",
      "\u001B[0;32m/dd_volume/Development/Python/BigHead/venv/lib/python3.8/site-packages/pymongo/__init__.py\u001B[0m in \u001B[0;36m<module>\u001B[0;34m\u001B[0m\n\u001B[1;32m     85\u001B[0m \u001B[0;34m\"\"\"Current version of PyMongo.\"\"\"\u001B[0m\u001B[0;34m\u001B[0m\u001B[0;34m\u001B[0m\u001B[0m\n\u001B[1;32m     86\u001B[0m \u001B[0;34m\u001B[0m\u001B[0m\n\u001B[0;32m---> 87\u001B[0;31m \u001B[0;32mfrom\u001B[0m \u001B[0mpymongo\u001B[0m\u001B[0;34m.\u001B[0m\u001B[0mcollection\u001B[0m \u001B[0;32mimport\u001B[0m \u001B[0mReturnDocument\u001B[0m\u001B[0;34m\u001B[0m\u001B[0;34m\u001B[0m\u001B[0m\n\u001B[0m\u001B[1;32m     88\u001B[0m from pymongo.common import (MIN_SUPPORTED_WIRE_VERSION,\n\u001B[1;32m     89\u001B[0m                             MAX_SUPPORTED_WIRE_VERSION)\n",
      "\u001B[0;32m/dd_volume/Development/Python/BigHead/venv/lib/python3.8/site-packages/pymongo/collection.py\u001B[0m in \u001B[0;36m<module>\u001B[0;34m\u001B[0m\n\u001B[1;32m     27\u001B[0m \u001B[0;32mfrom\u001B[0m \u001B[0mbson\u001B[0m\u001B[0;34m.\u001B[0m\u001B[0mcodec_options\u001B[0m \u001B[0;32mimport\u001B[0m \u001B[0mCodecOptions\u001B[0m\u001B[0;34m\u001B[0m\u001B[0;34m\u001B[0m\u001B[0m\n\u001B[1;32m     28\u001B[0m \u001B[0;32mfrom\u001B[0m \u001B[0mbson\u001B[0m\u001B[0;34m.\u001B[0m\u001B[0mson\u001B[0m \u001B[0;32mimport\u001B[0m \u001B[0mSON\u001B[0m\u001B[0;34m\u001B[0m\u001B[0;34m\u001B[0m\u001B[0m\n\u001B[0;32m---> 29\u001B[0;31m from pymongo import (common,\n\u001B[0m\u001B[1;32m     30\u001B[0m                      \u001B[0mhelpers\u001B[0m\u001B[0;34m,\u001B[0m\u001B[0;34m\u001B[0m\u001B[0;34m\u001B[0m\u001B[0m\n\u001B[1;32m     31\u001B[0m                      message)\n",
      "\u001B[0;32m/dd_volume/Development/Python/BigHead/venv/lib/python3.8/site-packages/pymongo/common.py\u001B[0m in \u001B[0;36m<module>\u001B[0;34m\u001B[0m\n\u001B[1;32m     33\u001B[0m \u001B[0;32mfrom\u001B[0m \u001B[0mpymongo\u001B[0m\u001B[0;34m.\u001B[0m\u001B[0mread_concern\u001B[0m \u001B[0;32mimport\u001B[0m \u001B[0mReadConcern\u001B[0m\u001B[0;34m\u001B[0m\u001B[0;34m\u001B[0m\u001B[0m\n\u001B[1;32m     34\u001B[0m \u001B[0;32mfrom\u001B[0m \u001B[0mpymongo\u001B[0m\u001B[0;34m.\u001B[0m\u001B[0mread_preferences\u001B[0m \u001B[0;32mimport\u001B[0m \u001B[0m_MONGOS_MODES\u001B[0m\u001B[0;34m,\u001B[0m \u001B[0m_ServerMode\u001B[0m\u001B[0;34m\u001B[0m\u001B[0;34m\u001B[0m\u001B[0m\n\u001B[0;32m---> 35\u001B[0;31m from pymongo.ssl_support import (validate_cert_reqs,\n\u001B[0m\u001B[1;32m     36\u001B[0m                                  validate_allow_invalid_certs)\n\u001B[1;32m     37\u001B[0m \u001B[0;32mfrom\u001B[0m \u001B[0mpymongo\u001B[0m\u001B[0;34m.\u001B[0m\u001B[0mwrite_concern\u001B[0m \u001B[0;32mimport\u001B[0m \u001B[0mDEFAULT_WRITE_CONCERN\u001B[0m\u001B[0;34m,\u001B[0m \u001B[0mWriteConcern\u001B[0m\u001B[0;34m\u001B[0m\u001B[0;34m\u001B[0m\u001B[0m\n",
      "\u001B[0;32m/dd_volume/Development/Python/BigHead/venv/lib/python3.8/site-packages/pymongo/ssl_support.py\u001B[0m in \u001B[0;36m<module>\u001B[0;34m\u001B[0m\n\u001B[1;32m     25\u001B[0m \u001B[0;34m\u001B[0m\u001B[0m\n\u001B[1;32m     26\u001B[0m \u001B[0;32mtry\u001B[0m\u001B[0;34m:\u001B[0m\u001B[0;34m\u001B[0m\u001B[0;34m\u001B[0m\u001B[0m\n\u001B[0;32m---> 27\u001B[0;31m     \u001B[0;32mimport\u001B[0m \u001B[0mpymongo\u001B[0m\u001B[0;34m.\u001B[0m\u001B[0mpyopenssl_context\u001B[0m \u001B[0;32mas\u001B[0m \u001B[0m_ssl\u001B[0m\u001B[0;34m\u001B[0m\u001B[0;34m\u001B[0m\u001B[0m\n\u001B[0m\u001B[1;32m     28\u001B[0m \u001B[0;32mexcept\u001B[0m \u001B[0mImportError\u001B[0m\u001B[0;34m:\u001B[0m\u001B[0;34m\u001B[0m\u001B[0;34m\u001B[0m\u001B[0m\n\u001B[1;32m     29\u001B[0m     \u001B[0;32mtry\u001B[0m\u001B[0;34m:\u001B[0m\u001B[0;34m\u001B[0m\u001B[0;34m\u001B[0m\u001B[0m\n",
      "\u001B[0;32m/dd_volume/Development/Python/BigHead/venv/lib/python3.8/site-packages/pymongo/pyopenssl_context.py\u001B[0m in \u001B[0;36m<module>\u001B[0;34m\u001B[0m\n\u001B[1;32m     26\u001B[0m \u001B[0;34m\u001B[0m\u001B[0m\n\u001B[1;32m     27\u001B[0m \u001B[0;32mfrom\u001B[0m \u001B[0mOpenSSL\u001B[0m \u001B[0;32mimport\u001B[0m \u001B[0mSSL\u001B[0m \u001B[0;32mas\u001B[0m \u001B[0m_SSL\u001B[0m\u001B[0;34m\u001B[0m\u001B[0;34m\u001B[0m\u001B[0m\n\u001B[0;32m---> 28\u001B[0;31m from service_identity.pyopenssl import (\n\u001B[0m\u001B[1;32m     29\u001B[0m     \u001B[0mverify_hostname\u001B[0m \u001B[0;32mas\u001B[0m \u001B[0m_verify_hostname\u001B[0m\u001B[0;34m,\u001B[0m\u001B[0;34m\u001B[0m\u001B[0;34m\u001B[0m\u001B[0m\n\u001B[1;32m     30\u001B[0m     verify_ip_address as _verify_ip_address)\n",
      "\u001B[0;32m/dd_volume/Development/Python/BigHead/venv/lib/python3.8/site-packages/service_identity/__init__.py\u001B[0m in \u001B[0;36m<module>\u001B[0;34m\u001B[0m\n\u001B[1;32m      5\u001B[0m \u001B[0;32mfrom\u001B[0m \u001B[0m__future__\u001B[0m \u001B[0;32mimport\u001B[0m \u001B[0mabsolute_import\u001B[0m\u001B[0;34m,\u001B[0m \u001B[0mdivision\u001B[0m\u001B[0;34m,\u001B[0m \u001B[0mprint_function\u001B[0m\u001B[0;34m\u001B[0m\u001B[0;34m\u001B[0m\u001B[0m\n\u001B[1;32m      6\u001B[0m \u001B[0;34m\u001B[0m\u001B[0m\n\u001B[0;32m----> 7\u001B[0;31m \u001B[0;32mfrom\u001B[0m \u001B[0;34m.\u001B[0m \u001B[0;32mimport\u001B[0m \u001B[0mcryptography\u001B[0m\u001B[0;34m,\u001B[0m \u001B[0mpyopenssl\u001B[0m\u001B[0;34m\u001B[0m\u001B[0;34m\u001B[0m\u001B[0m\n\u001B[0m\u001B[1;32m      8\u001B[0m from .exceptions import (\n\u001B[1;32m      9\u001B[0m     \u001B[0mCertificateError\u001B[0m\u001B[0;34m,\u001B[0m\u001B[0;34m\u001B[0m\u001B[0;34m\u001B[0m\u001B[0m\n",
      "\u001B[0;32m/dd_volume/Development/Python/BigHead/venv/lib/python3.8/site-packages/service_identity/cryptography.py\u001B[0m in \u001B[0;36m<module>\u001B[0;34m\u001B[0m\n\u001B[1;32m     17\u001B[0m )\n\u001B[1;32m     18\u001B[0m \u001B[0;32mfrom\u001B[0m \u001B[0mcryptography\u001B[0m\u001B[0;34m.\u001B[0m\u001B[0mx509\u001B[0m\u001B[0;34m.\u001B[0m\u001B[0mextensions\u001B[0m \u001B[0;32mimport\u001B[0m \u001B[0mExtensionNotFound\u001B[0m\u001B[0;34m\u001B[0m\u001B[0;34m\u001B[0m\u001B[0m\n\u001B[0;32m---> 19\u001B[0;31m \u001B[0;32mfrom\u001B[0m \u001B[0mpyasn1\u001B[0m\u001B[0;34m.\u001B[0m\u001B[0mcodec\u001B[0m\u001B[0;34m.\u001B[0m\u001B[0mder\u001B[0m\u001B[0;34m.\u001B[0m\u001B[0mdecoder\u001B[0m \u001B[0;32mimport\u001B[0m \u001B[0mdecode\u001B[0m\u001B[0;34m\u001B[0m\u001B[0;34m\u001B[0m\u001B[0m\n\u001B[0m\u001B[1;32m     20\u001B[0m \u001B[0;32mfrom\u001B[0m \u001B[0mpyasn1\u001B[0m\u001B[0;34m.\u001B[0m\u001B[0mtype\u001B[0m\u001B[0;34m.\u001B[0m\u001B[0mchar\u001B[0m \u001B[0;32mimport\u001B[0m \u001B[0mIA5String\u001B[0m\u001B[0;34m\u001B[0m\u001B[0;34m\u001B[0m\u001B[0m\n\u001B[1;32m     21\u001B[0m \u001B[0;34m\u001B[0m\u001B[0m\n",
      "\u001B[0;32m/dd_volume/Development/Python/BigHead/venv/lib/python3.8/site-packages/pyasn1/codec/der/decoder.py\u001B[0m in \u001B[0;36m<module>\u001B[0;34m\u001B[0m\n\u001B[1;32m      5\u001B[0m \u001B[0;31m# License: http://snmplabs.com/pyasn1/license.html\u001B[0m\u001B[0;34m\u001B[0m\u001B[0;34m\u001B[0m\u001B[0;34m\u001B[0m\u001B[0m\n\u001B[1;32m      6\u001B[0m \u001B[0;31m#\u001B[0m\u001B[0;34m\u001B[0m\u001B[0;34m\u001B[0m\u001B[0;34m\u001B[0m\u001B[0m\n\u001B[0;32m----> 7\u001B[0;31m \u001B[0;32mfrom\u001B[0m \u001B[0mpyasn1\u001B[0m\u001B[0;34m.\u001B[0m\u001B[0mcodec\u001B[0m\u001B[0;34m.\u001B[0m\u001B[0mcer\u001B[0m \u001B[0;32mimport\u001B[0m \u001B[0mdecoder\u001B[0m\u001B[0;34m\u001B[0m\u001B[0;34m\u001B[0m\u001B[0m\n\u001B[0m\u001B[1;32m      8\u001B[0m \u001B[0;32mfrom\u001B[0m \u001B[0mpyasn1\u001B[0m\u001B[0;34m.\u001B[0m\u001B[0mtype\u001B[0m \u001B[0;32mimport\u001B[0m \u001B[0muniv\u001B[0m\u001B[0;34m\u001B[0m\u001B[0;34m\u001B[0m\u001B[0m\n\u001B[1;32m      9\u001B[0m \u001B[0;34m\u001B[0m\u001B[0m\n",
      "\u001B[0;32m/dd_volume/Development/Python/BigHead/venv/lib/python3.8/site-packages/pyasn1/codec/cer/decoder.py\u001B[0m in \u001B[0;36m<module>\u001B[0;34m\u001B[0m\n\u001B[1;32m      6\u001B[0m \u001B[0;31m#\u001B[0m\u001B[0;34m\u001B[0m\u001B[0;34m\u001B[0m\u001B[0;34m\u001B[0m\u001B[0m\n\u001B[1;32m      7\u001B[0m \u001B[0;32mfrom\u001B[0m \u001B[0mpyasn1\u001B[0m \u001B[0;32mimport\u001B[0m \u001B[0merror\u001B[0m\u001B[0;34m\u001B[0m\u001B[0;34m\u001B[0m\u001B[0m\n\u001B[0;32m----> 8\u001B[0;31m \u001B[0;32mfrom\u001B[0m \u001B[0mpyasn1\u001B[0m\u001B[0;34m.\u001B[0m\u001B[0mcodec\u001B[0m\u001B[0;34m.\u001B[0m\u001B[0mber\u001B[0m \u001B[0;32mimport\u001B[0m \u001B[0mdecoder\u001B[0m\u001B[0;34m\u001B[0m\u001B[0;34m\u001B[0m\u001B[0m\n\u001B[0m\u001B[1;32m      9\u001B[0m \u001B[0;32mfrom\u001B[0m \u001B[0mpyasn1\u001B[0m\u001B[0;34m.\u001B[0m\u001B[0mcompat\u001B[0m\u001B[0;34m.\u001B[0m\u001B[0moctets\u001B[0m \u001B[0;32mimport\u001B[0m \u001B[0moct2int\u001B[0m\u001B[0;34m\u001B[0m\u001B[0;34m\u001B[0m\u001B[0m\n\u001B[1;32m     10\u001B[0m \u001B[0;32mfrom\u001B[0m \u001B[0mpyasn1\u001B[0m\u001B[0;34m.\u001B[0m\u001B[0mtype\u001B[0m \u001B[0;32mimport\u001B[0m \u001B[0muniv\u001B[0m\u001B[0;34m\u001B[0m\u001B[0;34m\u001B[0m\u001B[0m\n",
      "\u001B[0;32m~/programs/anaconda/lib/python3.8/importlib/_bootstrap.py\u001B[0m in \u001B[0;36m_find_and_load\u001B[0;34m(name, import_)\u001B[0m\n",
      "\u001B[0;32m~/programs/anaconda/lib/python3.8/importlib/_bootstrap.py\u001B[0m in \u001B[0;36m_find_and_load_unlocked\u001B[0;34m(name, import_)\u001B[0m\n",
      "\u001B[0;32m~/programs/anaconda/lib/python3.8/importlib/_bootstrap.py\u001B[0m in \u001B[0;36m_find_spec\u001B[0;34m(name, path, target)\u001B[0m\n",
      "\u001B[0;32m~/programs/anaconda/lib/python3.8/importlib/_bootstrap_external.py\u001B[0m in \u001B[0;36mfind_spec\u001B[0;34m(cls, fullname, path, target)\u001B[0m\n",
      "\u001B[0;32m~/programs/anaconda/lib/python3.8/importlib/_bootstrap_external.py\u001B[0m in \u001B[0;36m_get_spec\u001B[0;34m(cls, fullname, path, target)\u001B[0m\n",
      "\u001B[0;32m~/programs/anaconda/lib/python3.8/importlib/_bootstrap_external.py\u001B[0m in \u001B[0;36mfind_spec\u001B[0;34m(self, fullname, target)\u001B[0m\n",
      "\u001B[0;32m~/programs/anaconda/lib/python3.8/importlib/_bootstrap_external.py\u001B[0m in \u001B[0;36m_path_stat\u001B[0;34m(path)\u001B[0m\n",
      "\u001B[0;31mKeyboardInterrupt\u001B[0m: "
     ]
    }
   ],
   "source": [
    "import logging\n",
    "import pymongo\n",
    "from config import mongodb\n",
    "from utils.datasets import batched_dataset\n",
    "import pandas as pd\n",
    "import numpy as np\n",
    "\n",
    "logger = logging.getLogger()\n",
    "logger.setLevel(logging.WARNING)"
   ]
  },
  {
   "cell_type": "code",
   "execution_count": null,
   "outputs": [],
   "source": [
    "client = mongodb()\n",
    "scrapperdb = client['scrapper']\n",
    "collection = scrapperdb['tweets']\n",
    "\n",
    "query = collection\\\n",
    "    .find({'topics': {'$in': [\n",
    "        'bitcoin', 'btc', 'cryptocurrency', 'altcoins',\n",
    "        'airdrop', 'binance'\n",
    "    ]}})\\\n",
    "    .sort([('created_at', pymongo.DESCENDING)])"
   ],
   "metadata": {
    "collapsed": false,
    "pycharm": {
     "name": "#%%\n"
    }
   }
  },
  {
   "cell_type": "code",
   "execution_count": null,
   "outputs": [],
   "source": [
    "def callback(df):\n",
    "    df['_id'] = df['_id'].astype(np.int64)\n",
    "    df['user_id'] = df['user_id'].astype(str)\n",
    "    return df\n"
   ],
   "metadata": {
    "collapsed": false,
    "pycharm": {
     "name": "#%%\n",
     "is_executing": true
    }
   }
  },
  {
   "cell_type": "code",
   "execution_count": null,
   "outputs": [],
   "source": [
    "BATCH_SIZE = 10000\n",
    "DATASET_SIZE = BATCH_SIZE * 30\n",
    "batched_dataset(query, '../../data/bitcoin_twitter_raw', DATASET_SIZE, BATCH_SIZE, callback)"
   ],
   "metadata": {
    "collapsed": false,
    "pycharm": {
     "name": "#%%\n",
     "is_executing": true
    }
   }
  },
  {
   "cell_type": "code",
   "execution_count": null,
   "outputs": [],
   "source": [],
   "metadata": {
    "collapsed": false,
    "pycharm": {
     "name": "#%%\n"
    }
   }
  }
 ],
 "metadata": {
  "kernelspec": {
   "display_name": "Python 3",
   "language": "python",
   "name": "python3"
  },
  "language_info": {
   "codemirror_mode": {
    "name": "ipython",
    "version": 2
   },
   "file_extension": ".py",
   "mimetype": "text/x-python",
   "name": "python",
   "nbconvert_exporter": "python",
   "pygments_lexer": "ipython2",
   "version": "2.7.6"
  }
 },
 "nbformat": 4,
 "nbformat_minor": 0
}