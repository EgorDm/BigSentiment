{
 "cells": [
  {
   "cell_type": "code",
   "execution_count": 37,
   "metadata": {
    "collapsed": true
   },
   "outputs": [],
   "source": [
    "from twython import Twython\n",
    "from datetime import datetime\n",
    "import re"
   ]
  },
  {
   "cell_type": "code",
   "execution_count": 3,
   "outputs": [
    {
     "data": {
      "text/plain": "{'/search/tweets': {'limit': 450, 'remaining': 450, 'reset': 1612557999}}"
     },
     "execution_count": 3,
     "metadata": {},
     "output_type": "execute_result"
    }
   ],
   "source": [
    "APP_KEY = 'mPQKoRwd2Pb9qpQyQmyG5s8KR'\n",
    "APP_SECRET = 'HLvIhusvfzDLKaRXY8CnZGP143kp3E3f2KqQBIEMfVL5mOxZjq'\n",
    "twitter = Twython(APP_KEY, APP_SECRET, oauth_version=2)\n",
    "ACCESS_TOKEN = twitter.obtain_access_token()\n",
    "twitter = Twython(APP_KEY, access_token=ACCESS_TOKEN)\n",
    "twitter.get_application_rate_limit_status()['resources']['search']\n"
   ],
   "metadata": {
    "collapsed": false,
    "pycharm": {
     "name": "#%%\n"
    }
   }
  },
  {
   "cell_type": "code",
   "execution_count": 34,
   "outputs": [
    {
     "data": {
      "text/plain": "{'statuses': [{'created_at': 'Fri Feb 05 07:15:55 +0000 2021',\n   'id': 1357588751757627393,\n   'id_str': '1357588751757627393',\n   'full_text': 'Running #bitcoin https://t.co/W51ga3yrKb',\n   'truncated': False,\n   'display_text_range': [0, 16],\n   'entities': {'hashtags': [{'text': 'bitcoin', 'indices': [8, 16]}],\n    'symbols': [],\n    'user_mentions': [],\n    'urls': [],\n    'media': [{'id': 1357588748041506817,\n      'id_str': '1357588748041506817',\n      'indices': [17, 40],\n      'media_url': 'http://pbs.twimg.com/media/EtcfxgYU0AEBD1r.jpg',\n      'media_url_https': 'https://pbs.twimg.com/media/EtcfxgYU0AEBD1r.jpg',\n      'url': 'https://t.co/W51ga3yrKb',\n      'display_url': 'pic.twitter.com/W51ga3yrKb',\n      'expanded_url': 'https://twitter.com/jack/status/1357588751757627393/photo/1',\n      'type': 'photo',\n      'sizes': {'thumb': {'w': 150, 'h': 150, 'resize': 'crop'},\n       'small': {'w': 680, 'h': 531, 'resize': 'fit'},\n       'medium': {'w': 816, 'h': 637, 'resize': 'fit'},\n       'large': {'w': 816, 'h': 637, 'resize': 'fit'}}}]},\n   'extended_entities': {'media': [{'id': 1357588748041506817,\n      'id_str': '1357588748041506817',\n      'indices': [17, 40],\n      'media_url': 'http://pbs.twimg.com/media/EtcfxgYU0AEBD1r.jpg',\n      'media_url_https': 'https://pbs.twimg.com/media/EtcfxgYU0AEBD1r.jpg',\n      'url': 'https://t.co/W51ga3yrKb',\n      'display_url': 'pic.twitter.com/W51ga3yrKb',\n      'expanded_url': 'https://twitter.com/jack/status/1357588751757627393/photo/1',\n      'type': 'photo',\n      'sizes': {'thumb': {'w': 150, 'h': 150, 'resize': 'crop'},\n       'small': {'w': 680, 'h': 531, 'resize': 'fit'},\n       'medium': {'w': 816, 'h': 637, 'resize': 'fit'},\n       'large': {'w': 816, 'h': 637, 'resize': 'fit'}}}]},\n   'metadata': {'result_type': 'popular', 'iso_language_code': 'en'},\n   'source': '<a href=\"http://itunes.apple.com/us/app/twitter/id409789998?mt=12\" rel=\"nofollow\">Twitter for Mac</a>',\n   'in_reply_to_status_id': None,\n   'in_reply_to_status_id_str': None,\n   'in_reply_to_user_id': None,\n   'in_reply_to_user_id_str': None,\n   'in_reply_to_screen_name': None,\n   'user': {'id': 12,\n    'id_str': '12',\n    'name': 'jack',\n    'screen_name': 'jack',\n    'location': '',\n    'description': '#bitcoin',\n    'url': None,\n    'entities': {'description': {'urls': []}},\n    'protected': False,\n    'followers_count': 5220238,\n    'friends_count': 4550,\n    'listed_count': 28542,\n    'created_at': 'Tue Mar 21 20:50:14 +0000 2006',\n    'favourites_count': 31920,\n    'utc_offset': None,\n    'time_zone': None,\n    'geo_enabled': True,\n    'verified': True,\n    'statuses_count': 27376,\n    'lang': None,\n    'contributors_enabled': False,\n    'is_translator': False,\n    'is_translation_enabled': False,\n    'profile_background_color': 'EBEBEB',\n    'profile_background_image_url': 'http://abs.twimg.com/images/themes/theme7/bg.gif',\n    'profile_background_image_url_https': 'https://abs.twimg.com/images/themes/theme7/bg.gif',\n    'profile_background_tile': False,\n    'profile_image_url': 'http://pbs.twimg.com/profile_images/1115644092329758721/AFjOr-K8_normal.jpg',\n    'profile_image_url_https': 'https://pbs.twimg.com/profile_images/1115644092329758721/AFjOr-K8_normal.jpg',\n    'profile_banner_url': 'https://pbs.twimg.com/profile_banners/12/1584998840',\n    'profile_link_color': '990000',\n    'profile_sidebar_border_color': 'DFDFDF',\n    'profile_sidebar_fill_color': 'F3F3F3',\n    'profile_text_color': '333333',\n    'profile_use_background_image': True,\n    'has_extended_profile': False,\n    'default_profile': False,\n    'default_profile_image': False,\n    'following': None,\n    'follow_request_sent': None,\n    'notifications': None,\n    'translator_type': 'regular'},\n   'geo': None,\n   'coordinates': None,\n   'place': None,\n   'contributors': None,\n   'is_quote_status': False,\n   'retweet_count': 4133,\n   'favorite_count': 28719,\n   'favorited': False,\n   'retweeted': False,\n   'possibly_sensitive': False,\n   'lang': 'en'},\n  {'created_at': 'Fri Feb 05 13:59:08 +0000 2021',\n   'id': 1357690223187161088,\n   'id_str': '1357690223187161088',\n   'full_text': 'German prosecutors have confiscated more than $60 million worth of #bitcoin from a fraudster. There’s only one problem: they can’t unlock the money because he won’t give them the password. @johnodonnell21 reports https://t.co/weuOUzqL62 1/4 https://t.co/Erd8fJhtID',\n   'truncated': False,\n   'display_text_range': [0, 240],\n   'entities': {'hashtags': [{'text': 'bitcoin', 'indices': [67, 75]}],\n    'symbols': [],\n    'user_mentions': [{'screen_name': 'johnodonnell21',\n      'name': \"John O'Donnell\",\n      'id': 175029793,\n      'id_str': '175029793',\n      'indices': [189, 204]}],\n    'urls': [{'url': 'https://t.co/weuOUzqL62',\n      'expanded_url': 'https://reut.rs/39QG265',\n      'display_url': 'reut.rs/39QG265',\n      'indices': [213, 236]}],\n    'media': [{'id': 1357690127405973504,\n      'id_str': '1357690127405973504',\n      'indices': [241, 264],\n      'media_url': 'http://pbs.twimg.com/media/Etd7-j8WgAAoDmG.jpg',\n      'media_url_https': 'https://pbs.twimg.com/media/Etd7-j8WgAAoDmG.jpg',\n      'url': 'https://t.co/Erd8fJhtID',\n      'display_url': 'pic.twitter.com/Erd8fJhtID',\n      'expanded_url': 'https://twitter.com/Reuters/status/1357690223187161088/photo/1',\n      'type': 'photo',\n      'sizes': {'thumb': {'w': 150, 'h': 150, 'resize': 'crop'},\n       'small': {'w': 680, 'h': 458, 'resize': 'fit'},\n       'medium': {'w': 800, 'h': 539, 'resize': 'fit'},\n       'large': {'w': 800, 'h': 539, 'resize': 'fit'}}}]},\n   'extended_entities': {'media': [{'id': 1357690127405973504,\n      'id_str': '1357690127405973504',\n      'indices': [241, 264],\n      'media_url': 'http://pbs.twimg.com/media/Etd7-j8WgAAoDmG.jpg',\n      'media_url_https': 'https://pbs.twimg.com/media/Etd7-j8WgAAoDmG.jpg',\n      'url': 'https://t.co/Erd8fJhtID',\n      'display_url': 'pic.twitter.com/Erd8fJhtID',\n      'expanded_url': 'https://twitter.com/Reuters/status/1357690223187161088/photo/1',\n      'type': 'photo',\n      'sizes': {'thumb': {'w': 150, 'h': 150, 'resize': 'crop'},\n       'small': {'w': 680, 'h': 458, 'resize': 'fit'},\n       'medium': {'w': 800, 'h': 539, 'resize': 'fit'},\n       'large': {'w': 800, 'h': 539, 'resize': 'fit'}}}]},\n   'metadata': {'result_type': 'popular', 'iso_language_code': 'en'},\n   'source': '<a href=\"https://mobile.twitter.com\" rel=\"nofollow\">Twitter Web App</a>',\n   'in_reply_to_status_id': None,\n   'in_reply_to_status_id_str': None,\n   'in_reply_to_user_id': None,\n   'in_reply_to_user_id_str': None,\n   'in_reply_to_screen_name': None,\n   'user': {'id': 1652541,\n    'id_str': '1652541',\n    'name': 'Reuters',\n    'screen_name': 'Reuters',\n    'location': 'Around the world',\n    'description': 'Top and breaking news, pictures and videos from Reuters. For more breaking business news, follow @ReutersBiz.',\n    'url': 'http://t.co/BmHxhkm3Mh',\n    'entities': {'url': {'urls': [{'url': 'http://t.co/BmHxhkm3Mh',\n        'expanded_url': 'http://www.reuters.com',\n        'display_url': 'reuters.com',\n        'indices': [0, 22]}]},\n     'description': {'urls': []}},\n    'protected': False,\n    'followers_count': 23060368,\n    'friends_count': 1142,\n    'listed_count': 125471,\n    'created_at': 'Tue Mar 20 17:46:05 +0000 2007',\n    'favourites_count': 765,\n    'utc_offset': None,\n    'time_zone': None,\n    'geo_enabled': False,\n    'verified': True,\n    'statuses_count': 649366,\n    'lang': None,\n    'contributors_enabled': False,\n    'is_translator': False,\n    'is_translation_enabled': True,\n    'profile_background_color': '444444',\n    'profile_background_image_url': 'http://abs.twimg.com/images/themes/theme1/bg.png',\n    'profile_background_image_url_https': 'https://abs.twimg.com/images/themes/theme1/bg.png',\n    'profile_background_tile': False,\n    'profile_image_url': 'http://pbs.twimg.com/profile_images/1194751949821939712/3VBu4_Sa_normal.jpg',\n    'profile_image_url_https': 'https://pbs.twimg.com/profile_images/1194751949821939712/3VBu4_Sa_normal.jpg',\n    'profile_banner_url': 'https://pbs.twimg.com/profile_banners/1652541/1573687397',\n    'profile_link_color': '006F97',\n    'profile_sidebar_border_color': '000000',\n    'profile_sidebar_fill_color': 'F5F5F5',\n    'profile_text_color': '000000',\n    'profile_use_background_image': True,\n    'has_extended_profile': False,\n    'default_profile': False,\n    'default_profile_image': False,\n    'following': None,\n    'follow_request_sent': None,\n    'notifications': None,\n    'translator_type': 'regular'},\n   'geo': None,\n   'coordinates': None,\n   'place': None,\n   'contributors': None,\n   'is_quote_status': False,\n   'retweet_count': 2580,\n   'favorite_count': 6320,\n   'favorited': False,\n   'retweeted': False,\n   'possibly_sensitive': False,\n   'lang': 'en'},\n  {'created_at': 'Thu Feb 04 13:53:58 +0000 2021',\n   'id': 1357326535003410437,\n   'id_str': '1357326535003410437',\n   'full_text': 'We had a surge of late registrations yesterday that maxed out our online event service provider for awhile. 20,653 official registered for #WorldNow with 5656 joining our #Bitcoin for Corporations track. If you missed it, session videos are uploaded now:\\n\\nhttps://t.co/BKcZUGDMvi',\n   'truncated': False,\n   'display_text_range': [0, 279],\n   'entities': {'hashtags': [{'text': 'WorldNow', 'indices': [139, 148]},\n     {'text': 'Bitcoin', 'indices': [171, 179]}],\n    'symbols': [],\n    'user_mentions': [],\n    'urls': [{'url': 'https://t.co/BKcZUGDMvi',\n      'expanded_url': 'https://www.microstrategy.com/en/resources/events/world-2021/bitcoin-summit',\n      'display_url': 'microstrategy.com/en/resources/e…',\n      'indices': [256, 279]}]},\n   'metadata': {'result_type': 'popular', 'iso_language_code': 'en'},\n   'source': '<a href=\"https://mobile.twitter.com\" rel=\"nofollow\">Twitter Web App</a>',\n   'in_reply_to_status_id': None,\n   'in_reply_to_status_id_str': None,\n   'in_reply_to_user_id': None,\n   'in_reply_to_user_id_str': None,\n   'in_reply_to_screen_name': None,\n   'user': {'id': 244647486,\n    'id_str': '244647486',\n    'name': 'Michael Saylor',\n    'screen_name': 'michael_saylor',\n    'location': 'Miami Beach, FL',\n    'description': '$MSTR Founder & CEO | @MIT Aerospace | bio @ https://t.co/ujOwMF6F7F | free education @ https://t.co/f30dcxd8Xv | #Bitcoin is https://t.co/47dA8aiixk & https://t.co/uSXhfX0Jm6. | All tweets are my own.',\n    'url': 'https://t.co/lz9bT9Kvoy',\n    'entities': {'url': {'urls': [{'url': 'https://t.co/lz9bT9Kvoy',\n        'expanded_url': 'https://microstrategy.com',\n        'display_url': 'microstrategy.com',\n        'indices': [0, 23]}]},\n     'description': {'urls': [{'url': 'https://t.co/ujOwMF6F7F',\n        'expanded_url': 'http://michael.com',\n        'display_url': 'michael.com',\n        'indices': [45, 68]},\n       {'url': 'https://t.co/f30dcxd8Xv',\n        'expanded_url': 'http://saylor.org',\n        'display_url': 'saylor.org',\n        'indices': [88, 111]},\n       {'url': 'https://t.co/47dA8aiixk',\n        'expanded_url': 'http://hope.com',\n        'display_url': 'hope.com',\n        'indices': [126, 149]},\n       {'url': 'https://t.co/uSXhfX0Jm6',\n        'expanded_url': 'http://strategy.com',\n        'display_url': 'strategy.com',\n        'indices': [152, 175]}]}},\n    'protected': False,\n    'followers_count': 408974,\n    'friends_count': 320,\n    'listed_count': 2806,\n    'created_at': 'Sat Jan 29 20:11:04 +0000 2011',\n    'favourites_count': 486,\n    'utc_offset': None,\n    'time_zone': None,\n    'geo_enabled': True,\n    'verified': True,\n    'statuses_count': 1420,\n    'lang': None,\n    'contributors_enabled': False,\n    'is_translator': False,\n    'is_translation_enabled': False,\n    'profile_background_color': 'C0DEED',\n    'profile_background_image_url': 'http://abs.twimg.com/images/themes/theme1/bg.png',\n    'profile_background_image_url_https': 'https://abs.twimg.com/images/themes/theme1/bg.png',\n    'profile_background_tile': False,\n    'profile_image_url': 'http://pbs.twimg.com/profile_images/1292849403989037065/3IKaJgh6_normal.jpg',\n    'profile_image_url_https': 'https://pbs.twimg.com/profile_images/1292849403989037065/3IKaJgh6_normal.jpg',\n    'profile_banner_url': 'https://pbs.twimg.com/profile_banners/244647486/1606261344',\n    'profile_link_color': '1DA1F2',\n    'profile_sidebar_border_color': 'C0DEED',\n    'profile_sidebar_fill_color': 'DDEEF6',\n    'profile_text_color': '333333',\n    'profile_use_background_image': True,\n    'has_extended_profile': False,\n    'default_profile': True,\n    'default_profile_image': False,\n    'following': None,\n    'follow_request_sent': None,\n    'notifications': None,\n    'translator_type': 'none'},\n   'geo': None,\n   'coordinates': None,\n   'place': None,\n   'contributors': None,\n   'is_quote_status': False,\n   'retweet_count': 970,\n   'favorite_count': 4995,\n   'favorited': False,\n   'retweeted': False,\n   'possibly_sensitive': False,\n   'lang': 'en'},\n  {'created_at': 'Thu Feb 04 14:13:16 +0000 2021',\n   'id': 1357331390858203136,\n   'id_str': '1357331390858203136',\n   'full_text': \"Today we will be interviewing 10 of the most influential leaders in the #Bitcoin marketplace live.  Yesterday I was shocked by @NYDIG Ross Stevens' estimate of $25 billion in institutional $BTC assets by year end.  Now I am wondering if anyone might beat that? Join us &amp; find out.\",\n   'truncated': False,\n   'display_text_range': [0, 284],\n   'entities': {'hashtags': [{'text': 'Bitcoin', 'indices': [72, 80]}],\n    'symbols': [{'text': 'BTC', 'indices': [189, 193]}],\n    'user_mentions': [{'screen_name': 'Nydig',\n      'name': 'Nidia Gonzalez',\n      'id': 221118849,\n      'id_str': '221118849',\n      'indices': [127, 133]}],\n    'urls': []},\n   'metadata': {'result_type': 'popular', 'iso_language_code': 'en'},\n   'source': '<a href=\"https://mobile.twitter.com\" rel=\"nofollow\">Twitter Web App</a>',\n   'in_reply_to_status_id': None,\n   'in_reply_to_status_id_str': None,\n   'in_reply_to_user_id': None,\n   'in_reply_to_user_id_str': None,\n   'in_reply_to_screen_name': None,\n   'user': {'id': 244647486,\n    'id_str': '244647486',\n    'name': 'Michael Saylor',\n    'screen_name': 'michael_saylor',\n    'location': 'Miami Beach, FL',\n    'description': '$MSTR Founder & CEO | @MIT Aerospace | bio @ https://t.co/ujOwMF6F7F | free education @ https://t.co/f30dcxd8Xv | #Bitcoin is https://t.co/47dA8aiixk & https://t.co/uSXhfX0Jm6. | All tweets are my own.',\n    'url': 'https://t.co/lz9bT9Kvoy',\n    'entities': {'url': {'urls': [{'url': 'https://t.co/lz9bT9Kvoy',\n        'expanded_url': 'https://microstrategy.com',\n        'display_url': 'microstrategy.com',\n        'indices': [0, 23]}]},\n     'description': {'urls': [{'url': 'https://t.co/ujOwMF6F7F',\n        'expanded_url': 'http://michael.com',\n        'display_url': 'michael.com',\n        'indices': [45, 68]},\n       {'url': 'https://t.co/f30dcxd8Xv',\n        'expanded_url': 'http://saylor.org',\n        'display_url': 'saylor.org',\n        'indices': [88, 111]},\n       {'url': 'https://t.co/47dA8aiixk',\n        'expanded_url': 'http://hope.com',\n        'display_url': 'hope.com',\n        'indices': [126, 149]},\n       {'url': 'https://t.co/uSXhfX0Jm6',\n        'expanded_url': 'http://strategy.com',\n        'display_url': 'strategy.com',\n        'indices': [152, 175]}]}},\n    'protected': False,\n    'followers_count': 408974,\n    'friends_count': 320,\n    'listed_count': 2806,\n    'created_at': 'Sat Jan 29 20:11:04 +0000 2011',\n    'favourites_count': 486,\n    'utc_offset': None,\n    'time_zone': None,\n    'geo_enabled': True,\n    'verified': True,\n    'statuses_count': 1420,\n    'lang': None,\n    'contributors_enabled': False,\n    'is_translator': False,\n    'is_translation_enabled': False,\n    'profile_background_color': 'C0DEED',\n    'profile_background_image_url': 'http://abs.twimg.com/images/themes/theme1/bg.png',\n    'profile_background_image_url_https': 'https://abs.twimg.com/images/themes/theme1/bg.png',\n    'profile_background_tile': False,\n    'profile_image_url': 'http://pbs.twimg.com/profile_images/1292849403989037065/3IKaJgh6_normal.jpg',\n    'profile_image_url_https': 'https://pbs.twimg.com/profile_images/1292849403989037065/3IKaJgh6_normal.jpg',\n    'profile_banner_url': 'https://pbs.twimg.com/profile_banners/244647486/1606261344',\n    'profile_link_color': '1DA1F2',\n    'profile_sidebar_border_color': 'C0DEED',\n    'profile_sidebar_fill_color': 'DDEEF6',\n    'profile_text_color': '333333',\n    'profile_use_background_image': True,\n    'has_extended_profile': False,\n    'default_profile': True,\n    'default_profile_image': False,\n    'following': None,\n    'follow_request_sent': None,\n    'notifications': None,\n    'translator_type': 'none'},\n   'geo': None,\n   'coordinates': None,\n   'place': None,\n   'contributors': None,\n   'is_quote_status': False,\n   'retweet_count': 1119,\n   'favorite_count': 7536,\n   'favorited': False,\n   'retweeted': False,\n   'lang': 'en'},\n  {'created_at': 'Thu Feb 04 16:46:26 +0000 2021',\n   'id': 1357369938818830337,\n   'id_str': '1357369938818830337',\n   'full_text': 'The most important digital transformation is the digital transformation of your balance sheet.   #Bitcoin',\n   'truncated': False,\n   'display_text_range': [0, 105],\n   'entities': {'hashtags': [{'text': 'Bitcoin', 'indices': [97, 105]}],\n    'symbols': [],\n    'user_mentions': [],\n    'urls': []},\n   'metadata': {'result_type': 'popular', 'iso_language_code': 'en'},\n   'source': '<a href=\"https://mobile.twitter.com\" rel=\"nofollow\">Twitter Web App</a>',\n   'in_reply_to_status_id': None,\n   'in_reply_to_status_id_str': None,\n   'in_reply_to_user_id': None,\n   'in_reply_to_user_id_str': None,\n   'in_reply_to_screen_name': None,\n   'user': {'id': 244647486,\n    'id_str': '244647486',\n    'name': 'Michael Saylor',\n    'screen_name': 'michael_saylor',\n    'location': 'Miami Beach, FL',\n    'description': '$MSTR Founder & CEO | @MIT Aerospace | bio @ https://t.co/ujOwMF6F7F | free education @ https://t.co/f30dcxd8Xv | #Bitcoin is https://t.co/47dA8aiixk & https://t.co/uSXhfX0Jm6. | All tweets are my own.',\n    'url': 'https://t.co/lz9bT9Kvoy',\n    'entities': {'url': {'urls': [{'url': 'https://t.co/lz9bT9Kvoy',\n        'expanded_url': 'https://microstrategy.com',\n        'display_url': 'microstrategy.com',\n        'indices': [0, 23]}]},\n     'description': {'urls': [{'url': 'https://t.co/ujOwMF6F7F',\n        'expanded_url': 'http://michael.com',\n        'display_url': 'michael.com',\n        'indices': [45, 68]},\n       {'url': 'https://t.co/f30dcxd8Xv',\n        'expanded_url': 'http://saylor.org',\n        'display_url': 'saylor.org',\n        'indices': [88, 111]},\n       {'url': 'https://t.co/47dA8aiixk',\n        'expanded_url': 'http://hope.com',\n        'display_url': 'hope.com',\n        'indices': [126, 149]},\n       {'url': 'https://t.co/uSXhfX0Jm6',\n        'expanded_url': 'http://strategy.com',\n        'display_url': 'strategy.com',\n        'indices': [152, 175]}]}},\n    'protected': False,\n    'followers_count': 408974,\n    'friends_count': 320,\n    'listed_count': 2806,\n    'created_at': 'Sat Jan 29 20:11:04 +0000 2011',\n    'favourites_count': 486,\n    'utc_offset': None,\n    'time_zone': None,\n    'geo_enabled': True,\n    'verified': True,\n    'statuses_count': 1420,\n    'lang': None,\n    'contributors_enabled': False,\n    'is_translator': False,\n    'is_translation_enabled': False,\n    'profile_background_color': 'C0DEED',\n    'profile_background_image_url': 'http://abs.twimg.com/images/themes/theme1/bg.png',\n    'profile_background_image_url_https': 'https://abs.twimg.com/images/themes/theme1/bg.png',\n    'profile_background_tile': False,\n    'profile_image_url': 'http://pbs.twimg.com/profile_images/1292849403989037065/3IKaJgh6_normal.jpg',\n    'profile_image_url_https': 'https://pbs.twimg.com/profile_images/1292849403989037065/3IKaJgh6_normal.jpg',\n    'profile_banner_url': 'https://pbs.twimg.com/profile_banners/244647486/1606261344',\n    'profile_link_color': '1DA1F2',\n    'profile_sidebar_border_color': 'C0DEED',\n    'profile_sidebar_fill_color': 'DDEEF6',\n    'profile_text_color': '333333',\n    'profile_use_background_image': True,\n    'has_extended_profile': False,\n    'default_profile': True,\n    'default_profile_image': False,\n    'following': None,\n    'follow_request_sent': None,\n    'notifications': None,\n    'translator_type': 'none'},\n   'geo': None,\n   'coordinates': None,\n   'place': None,\n   'contributors': None,\n   'is_quote_status': False,\n   'retweet_count': 1078,\n   'favorite_count': 8254,\n   'favorited': False,\n   'retweeted': False,\n   'lang': 'en'},\n  {'created_at': 'Fri Feb 05 17:57:04 +0000 2021',\n   'id': 1357750102157373440,\n   'id_str': '1357750102157373440',\n   'full_text': 'In 2012, I realised the relationship between government &amp; business. My business had been adversely affected by government policy. It dawned on me then that even when you mind your business and just focus on growing, government can destroy all you worked for with a policy\\n#Bitcoin https://t.co/ViMw2Tybtb',\n   'truncated': False,\n   'display_text_range': [0, 284],\n   'entities': {'hashtags': [{'text': 'Bitcoin', 'indices': [276, 284]}],\n    'symbols': [],\n    'user_mentions': [],\n    'urls': [],\n    'media': [{'id': 1357750094695694341,\n      'id_str': '1357750094695694341',\n      'indices': [285, 308],\n      'media_url': 'http://pbs.twimg.com/media/EteyhHgXAAUE3w0.jpg',\n      'media_url_https': 'https://pbs.twimg.com/media/EteyhHgXAAUE3w0.jpg',\n      'url': 'https://t.co/ViMw2Tybtb',\n      'display_url': 'pic.twitter.com/ViMw2Tybtb',\n      'expanded_url': 'https://twitter.com/AishaYesufu/status/1357750102157373440/photo/1',\n      'type': 'photo',\n      'sizes': {'thumb': {'w': 150, 'h': 150, 'resize': 'crop'},\n       'large': {'w': 910, 'h': 1024, 'resize': 'fit'},\n       'medium': {'w': 910, 'h': 1024, 'resize': 'fit'},\n       'small': {'w': 604, 'h': 680, 'resize': 'fit'}}}]},\n   'extended_entities': {'media': [{'id': 1357750094695694341,\n      'id_str': '1357750094695694341',\n      'indices': [285, 308],\n      'media_url': 'http://pbs.twimg.com/media/EteyhHgXAAUE3w0.jpg',\n      'media_url_https': 'https://pbs.twimg.com/media/EteyhHgXAAUE3w0.jpg',\n      'url': 'https://t.co/ViMw2Tybtb',\n      'display_url': 'pic.twitter.com/ViMw2Tybtb',\n      'expanded_url': 'https://twitter.com/AishaYesufu/status/1357750102157373440/photo/1',\n      'type': 'photo',\n      'sizes': {'thumb': {'w': 150, 'h': 150, 'resize': 'crop'},\n       'large': {'w': 910, 'h': 1024, 'resize': 'fit'},\n       'medium': {'w': 910, 'h': 1024, 'resize': 'fit'},\n       'small': {'w': 604, 'h': 680, 'resize': 'fit'}}}]},\n   'metadata': {'result_type': 'popular', 'iso_language_code': 'en'},\n   'source': '<a href=\"http://twitter.com/download/android\" rel=\"nofollow\">Twitter for Android</a>',\n   'in_reply_to_status_id': None,\n   'in_reply_to_status_id_str': None,\n   'in_reply_to_user_id': None,\n   'in_reply_to_user_id_str': None,\n   'in_reply_to_screen_name': None,\n   'user': {'id': 2531005222,\n    'id_str': '2531005222',\n    'name': 'Aisha Yesufu',\n    'screen_name': 'AishaYesufu',\n    'location': '',\n    'description': 'I do not do Labels. I am ME. I say it as it is. My mum says in my court nobody wins.\\nYou would either love me or hate me and either one is perfectly okay!',\n    'url': None,\n    'entities': {'description': {'urls': []}},\n    'protected': False,\n    'followers_count': 766975,\n    'friends_count': 507,\n    'listed_count': 460,\n    'created_at': 'Mon May 05 13:01:40 +0000 2014',\n    'favourites_count': 14566,\n    'utc_offset': None,\n    'time_zone': None,\n    'geo_enabled': True,\n    'verified': True,\n    'statuses_count': 297553,\n    'lang': None,\n    'contributors_enabled': False,\n    'is_translator': False,\n    'is_translation_enabled': False,\n    'profile_background_color': 'C0DEED',\n    'profile_background_image_url': 'http://abs.twimg.com/images/themes/theme1/bg.png',\n    'profile_background_image_url_https': 'https://abs.twimg.com/images/themes/theme1/bg.png',\n    'profile_background_tile': False,\n    'profile_image_url': 'http://pbs.twimg.com/profile_images/1330076526432411648/O0-jHAR__normal.jpg',\n    'profile_image_url_https': 'https://pbs.twimg.com/profile_images/1330076526432411648/O0-jHAR__normal.jpg',\n    'profile_banner_url': 'https://pbs.twimg.com/profile_banners/2531005222/1481078449',\n    'profile_link_color': '1DA1F2',\n    'profile_sidebar_border_color': 'C0DEED',\n    'profile_sidebar_fill_color': 'DDEEF6',\n    'profile_text_color': '333333',\n    'profile_use_background_image': True,\n    'has_extended_profile': False,\n    'default_profile': True,\n    'default_profile_image': False,\n    'following': None,\n    'follow_request_sent': None,\n    'notifications': None,\n    'translator_type': 'none'},\n   'geo': None,\n   'coordinates': None,\n   'place': None,\n   'contributors': None,\n   'is_quote_status': False,\n   'retweet_count': 551,\n   'favorite_count': 1545,\n   'favorited': False,\n   'retweeted': False,\n   'possibly_sensitive': False,\n   'lang': 'en'},\n  {'created_at': 'Fri Feb 05 18:05:30 +0000 2021',\n   'id': 1357752223774765060,\n   'id_str': '1357752223774765060',\n   'full_text': 'In 2015, General @MBuhari promised to create 3 million jobs annually. And In 2021, #Buhari’s CBN bans cryptocurrency, rendering thousands of Nigerians unemployed. Joblessness and poverty sparked #EndSARS. Creating more joblessness is creating more EndSARS! \\n\\n#Bitcoin #TableShaker',\n   'truncated': False,\n   'display_text_range': [0, 280],\n   'entities': {'hashtags': [{'text': 'Buhari', 'indices': [83, 90]},\n     {'text': 'EndSARS', 'indices': [195, 203]},\n     {'text': 'Bitcoin', 'indices': [259, 267]},\n     {'text': 'TableShaker', 'indices': [268, 280]}],\n    'symbols': [],\n    'user_mentions': [{'screen_name': 'MBuhari',\n      'name': 'Muhammadu Buhari',\n      'id': 2936714848,\n      'id_str': '2936714848',\n      'indices': [17, 25]}],\n    'urls': []},\n   'metadata': {'result_type': 'popular', 'iso_language_code': 'en'},\n   'source': '<a href=\"http://twitter.com/download/iphone\" rel=\"nofollow\">Twitter for iPhone</a>',\n   'in_reply_to_status_id': None,\n   'in_reply_to_status_id_str': None,\n   'in_reply_to_user_id': None,\n   'in_reply_to_user_id_str': None,\n   'in_reply_to_screen_name': None,\n   'user': {'id': 264248576,\n    'id_str': '264248576',\n    'name': 'Reno Omokri',\n    'screen_name': 'renoomokri',\n    'location': 'Currently on exile.',\n    'description': 'Gospeller. #FreeLeahSharibu activist. #BuhariTormentor. Deep thinker. #1 Bestselling Author. Avid Traveler. Hollywood Mag Film Festival Humanitarian of 2019',\n    'url': 'https://t.co/uI3mAsfifG',\n    'entities': {'url': {'urls': [{'url': 'https://t.co/uI3mAsfifG',\n        'expanded_url': 'http://www.renoomokri.org',\n        'display_url': 'renoomokri.org',\n        'indices': [0, 23]}]},\n     'description': {'urls': []}},\n    'protected': False,\n    'followers_count': 888146,\n    'friends_count': 23,\n    'listed_count': 633,\n    'created_at': 'Fri Mar 11 15:53:54 +0000 2011',\n    'favourites_count': 1987,\n    'utc_offset': None,\n    'time_zone': None,\n    'geo_enabled': True,\n    'verified': True,\n    'statuses_count': 57995,\n    'lang': None,\n    'contributors_enabled': False,\n    'is_translator': False,\n    'is_translation_enabled': False,\n    'profile_background_color': 'C0DEED',\n    'profile_background_image_url': 'http://abs.twimg.com/images/themes/theme1/bg.png',\n    'profile_background_image_url_https': 'https://abs.twimg.com/images/themes/theme1/bg.png',\n    'profile_background_tile': True,\n    'profile_image_url': 'http://pbs.twimg.com/profile_images/1357648630656749568/iUqpYdJ-_normal.jpg',\n    'profile_image_url_https': 'https://pbs.twimg.com/profile_images/1357648630656749568/iUqpYdJ-_normal.jpg',\n    'profile_banner_url': 'https://pbs.twimg.com/profile_banners/264248576/1596215233',\n    'profile_link_color': '0084B4',\n    'profile_sidebar_border_color': 'FFFFFF',\n    'profile_sidebar_fill_color': 'DDEEF6',\n    'profile_text_color': '333333',\n    'profile_use_background_image': True,\n    'has_extended_profile': False,\n    'default_profile': False,\n    'default_profile_image': False,\n    'following': None,\n    'follow_request_sent': None,\n    'notifications': None,\n    'translator_type': 'none'},\n   'geo': None,\n   'coordinates': None,\n   'place': None,\n   'contributors': None,\n   'is_quote_status': False,\n   'retweet_count': 686,\n   'favorite_count': 1463,\n   'favorited': False,\n   'retweeted': False,\n   'lang': 'en'},\n  {'created_at': 'Fri Feb 05 18:40:57 +0000 2021',\n   'id': 1357761143222198274,\n   'id_str': '1357761143222198274',\n   'full_text': 'Buhari closed Nigeria’s border and ruined thousands of businesses\\n\\nBuhari closed Kano film village, costing us millions\\n\\nNow, Buhari has shutdown #Crypto #BitCoin, making thousands jobless\\n\\nDoes @MBuhari want our economy to be like his cows that dont increase in number?\\n\\n#EndSARS',\n   'truncated': False,\n   'display_text_range': [0, 280],\n   'entities': {'hashtags': [{'text': 'Crypto', 'indices': [146, 153]},\n     {'text': 'BitCoin', 'indices': [154, 162]},\n     {'text': 'EndSARS', 'indices': [272, 280]}],\n    'symbols': [],\n    'user_mentions': [{'screen_name': 'MBuhari',\n      'name': 'Muhammadu Buhari',\n      'id': 2936714848,\n      'id_str': '2936714848',\n      'indices': [195, 203]}],\n    'urls': []},\n   'metadata': {'result_type': 'popular', 'iso_language_code': 'en'},\n   'source': '<a href=\"http://twitter.com/download/iphone\" rel=\"nofollow\">Twitter for iPhone</a>',\n   'in_reply_to_status_id': None,\n   'in_reply_to_status_id_str': None,\n   'in_reply_to_user_id': None,\n   'in_reply_to_user_id_str': None,\n   'in_reply_to_screen_name': None,\n   'user': {'id': 264248576,\n    'id_str': '264248576',\n    'name': 'Reno Omokri',\n    'screen_name': 'renoomokri',\n    'location': 'Currently on exile.',\n    'description': 'Gospeller. #FreeLeahSharibu activist. #BuhariTormentor. Deep thinker. #1 Bestselling Author. Avid Traveler. Hollywood Mag Film Festival Humanitarian of 2019',\n    'url': 'https://t.co/uI3mAsfifG',\n    'entities': {'url': {'urls': [{'url': 'https://t.co/uI3mAsfifG',\n        'expanded_url': 'http://www.renoomokri.org',\n        'display_url': 'renoomokri.org',\n        'indices': [0, 23]}]},\n     'description': {'urls': []}},\n    'protected': False,\n    'followers_count': 888146,\n    'friends_count': 23,\n    'listed_count': 633,\n    'created_at': 'Fri Mar 11 15:53:54 +0000 2011',\n    'favourites_count': 1987,\n    'utc_offset': None,\n    'time_zone': None,\n    'geo_enabled': True,\n    'verified': True,\n    'statuses_count': 57995,\n    'lang': None,\n    'contributors_enabled': False,\n    'is_translator': False,\n    'is_translation_enabled': False,\n    'profile_background_color': 'C0DEED',\n    'profile_background_image_url': 'http://abs.twimg.com/images/themes/theme1/bg.png',\n    'profile_background_image_url_https': 'https://abs.twimg.com/images/themes/theme1/bg.png',\n    'profile_background_tile': True,\n    'profile_image_url': 'http://pbs.twimg.com/profile_images/1357648630656749568/iUqpYdJ-_normal.jpg',\n    'profile_image_url_https': 'https://pbs.twimg.com/profile_images/1357648630656749568/iUqpYdJ-_normal.jpg',\n    'profile_banner_url': 'https://pbs.twimg.com/profile_banners/264248576/1596215233',\n    'profile_link_color': '0084B4',\n    'profile_sidebar_border_color': 'FFFFFF',\n    'profile_sidebar_fill_color': 'DDEEF6',\n    'profile_text_color': '333333',\n    'profile_use_background_image': True,\n    'has_extended_profile': False,\n    'default_profile': False,\n    'default_profile_image': False,\n    'following': None,\n    'follow_request_sent': None,\n    'notifications': None,\n    'translator_type': 'none'},\n   'geo': None,\n   'coordinates': None,\n   'place': None,\n   'contributors': None,\n   'is_quote_status': False,\n   'retweet_count': 932,\n   'favorite_count': 2058,\n   'favorited': False,\n   'retweeted': False,\n   'lang': 'en'},\n  {'created_at': 'Fri Feb 05 19:02:17 +0000 2021',\n   'id': 1357766511377711105,\n   'id_str': '1357766511377711105',\n   'full_text': 'You can’t create jobs for youths, so they created jobs for themselves via #Crypto #BitCoin. And now you have shut that down\\n\\nWe can’t farm because of your kinsmen herdsmen. We can’t manufacture because you gave us no electricity. @MBuhari, what do you want us to do?\\n\\n#TableShaker',\n   'truncated': False,\n   'display_text_range': [0, 280],\n   'entities': {'hashtags': [{'text': 'Crypto', 'indices': [74, 81]},\n     {'text': 'BitCoin', 'indices': [82, 90]},\n     {'text': 'TableShaker', 'indices': [268, 280]}],\n    'symbols': [],\n    'user_mentions': [{'screen_name': 'MBuhari',\n      'name': 'Muhammadu Buhari',\n      'id': 2936714848,\n      'id_str': '2936714848',\n      'indices': [230, 238]}],\n    'urls': []},\n   'metadata': {'result_type': 'popular', 'iso_language_code': 'en'},\n   'source': '<a href=\"http://twitter.com/download/iphone\" rel=\"nofollow\">Twitter for iPhone</a>',\n   'in_reply_to_status_id': None,\n   'in_reply_to_status_id_str': None,\n   'in_reply_to_user_id': None,\n   'in_reply_to_user_id_str': None,\n   'in_reply_to_screen_name': None,\n   'user': {'id': 264248576,\n    'id_str': '264248576',\n    'name': 'Reno Omokri',\n    'screen_name': 'renoomokri',\n    'location': 'Currently on exile.',\n    'description': 'Gospeller. #FreeLeahSharibu activist. #BuhariTormentor. Deep thinker. #1 Bestselling Author. Avid Traveler. Hollywood Mag Film Festival Humanitarian of 2019',\n    'url': 'https://t.co/uI3mAsfifG',\n    'entities': {'url': {'urls': [{'url': 'https://t.co/uI3mAsfifG',\n        'expanded_url': 'http://www.renoomokri.org',\n        'display_url': 'renoomokri.org',\n        'indices': [0, 23]}]},\n     'description': {'urls': []}},\n    'protected': False,\n    'followers_count': 888146,\n    'friends_count': 23,\n    'listed_count': 633,\n    'created_at': 'Fri Mar 11 15:53:54 +0000 2011',\n    'favourites_count': 1987,\n    'utc_offset': None,\n    'time_zone': None,\n    'geo_enabled': True,\n    'verified': True,\n    'statuses_count': 57995,\n    'lang': None,\n    'contributors_enabled': False,\n    'is_translator': False,\n    'is_translation_enabled': False,\n    'profile_background_color': 'C0DEED',\n    'profile_background_image_url': 'http://abs.twimg.com/images/themes/theme1/bg.png',\n    'profile_background_image_url_https': 'https://abs.twimg.com/images/themes/theme1/bg.png',\n    'profile_background_tile': True,\n    'profile_image_url': 'http://pbs.twimg.com/profile_images/1357648630656749568/iUqpYdJ-_normal.jpg',\n    'profile_image_url_https': 'https://pbs.twimg.com/profile_images/1357648630656749568/iUqpYdJ-_normal.jpg',\n    'profile_banner_url': 'https://pbs.twimg.com/profile_banners/264248576/1596215233',\n    'profile_link_color': '0084B4',\n    'profile_sidebar_border_color': 'FFFFFF',\n    'profile_sidebar_fill_color': 'DDEEF6',\n    'profile_text_color': '333333',\n    'profile_use_background_image': True,\n    'has_extended_profile': False,\n    'default_profile': False,\n    'default_profile_image': False,\n    'following': None,\n    'follow_request_sent': None,\n    'notifications': None,\n    'translator_type': 'none'},\n   'geo': None,\n   'coordinates': None,\n   'place': None,\n   'contributors': None,\n   'is_quote_status': False,\n   'retweet_count': 1303,\n   'favorite_count': 2674,\n   'favorited': False,\n   'retweeted': False,\n   'lang': 'en'},\n  {'created_at': 'Fri Feb 05 13:49:11 +0000 2021',\n   'id': 1357687717392506882,\n   'id_str': '1357687717392506882',\n   'full_text': \"84% of the Unites States' entire monetary base has been created in just the 12 full years since 2008.\\n\\n84%. No wonder people are screaming #Bitcoin and other alternatives.\\n\\nThis entire financial/market &amp; economic construct is an artificial mirage held up by printed money. https://t.co/xmcAqAa4j2\",\n   'truncated': False,\n   'display_text_range': [0, 276],\n   'entities': {'hashtags': [{'text': 'Bitcoin', 'indices': [139, 147]}],\n    'symbols': [],\n    'user_mentions': [],\n    'urls': [],\n    'media': [{'id': 1357686940695412742,\n      'id_str': '1357686940695412742',\n      'indices': [277, 300],\n      'media_url': 'http://pbs.twimg.com/media/Etd5FEhWQAY0i-2.jpg',\n      'media_url_https': 'https://pbs.twimg.com/media/Etd5FEhWQAY0i-2.jpg',\n      'url': 'https://t.co/xmcAqAa4j2',\n      'display_url': 'pic.twitter.com/xmcAqAa4j2',\n      'expanded_url': 'https://twitter.com/NorthmanTrader/status/1357687717392506882/photo/1',\n      'type': 'photo',\n      'sizes': {'thumb': {'w': 150, 'h': 150, 'resize': 'crop'},\n       'small': {'w': 680, 'h': 331, 'resize': 'fit'},\n       'medium': {'w': 1200, 'h': 584, 'resize': 'fit'},\n       'large': {'w': 1678, 'h': 816, 'resize': 'fit'}}}]},\n   'extended_entities': {'media': [{'id': 1357686940695412742,\n      'id_str': '1357686940695412742',\n      'indices': [277, 300],\n      'media_url': 'http://pbs.twimg.com/media/Etd5FEhWQAY0i-2.jpg',\n      'media_url_https': 'https://pbs.twimg.com/media/Etd5FEhWQAY0i-2.jpg',\n      'url': 'https://t.co/xmcAqAa4j2',\n      'display_url': 'pic.twitter.com/xmcAqAa4j2',\n      'expanded_url': 'https://twitter.com/NorthmanTrader/status/1357687717392506882/photo/1',\n      'type': 'photo',\n      'sizes': {'thumb': {'w': 150, 'h': 150, 'resize': 'crop'},\n       'small': {'w': 680, 'h': 331, 'resize': 'fit'},\n       'medium': {'w': 1200, 'h': 584, 'resize': 'fit'},\n       'large': {'w': 1678, 'h': 816, 'resize': 'fit'}}}]},\n   'metadata': {'result_type': 'popular', 'iso_language_code': 'en'},\n   'source': '<a href=\"https://mobile.twitter.com\" rel=\"nofollow\">Twitter Web App</a>',\n   'in_reply_to_status_id': None,\n   'in_reply_to_status_id_str': None,\n   'in_reply_to_user_id': None,\n   'in_reply_to_user_id_str': None,\n   'in_reply_to_screen_name': None,\n   'user': {'id': 714051110,\n    'id_str': '714051110',\n    'name': 'Sven Henrich',\n    'screen_name': 'NorthmanTrader',\n    'location': 'Lockdown, UK',\n    'description': 'Founder: https://t.co/0bWhTefCSd Navigating changing markets. Keeping it real. Occasional sarcasm. To subscribe: https://t.co/ZyyUuwbyMz…',\n    'url': 'https://t.co/Cvl30wc2Jz',\n    'entities': {'url': {'urls': [{'url': 'https://t.co/Cvl30wc2Jz',\n        'expanded_url': 'https://northmantrader.com',\n        'display_url': 'northmantrader.com',\n        'indices': [0, 23]}]},\n     'description': {'urls': [{'url': 'https://t.co/0bWhTefCSd',\n        'expanded_url': 'http://NorthmanTrader.com',\n        'display_url': 'NorthmanTrader.com',\n        'indices': [9, 32]},\n       {'url': 'https://t.co/ZyyUuwbyMz',\n        'expanded_url': 'http://northmantrader.com/market-service',\n        'display_url': 'northmantrader.com/market-service',\n        'indices': [113, 136]}]}},\n    'protected': False,\n    'followers_count': 249660,\n    'friends_count': 55,\n    'listed_count': 4932,\n    'created_at': 'Tue Jul 24 10:12:44 +0000 2012',\n    'favourites_count': 41731,\n    'utc_offset': None,\n    'time_zone': None,\n    'geo_enabled': False,\n    'verified': True,\n    'statuses_count': 20739,\n    'lang': None,\n    'contributors_enabled': False,\n    'is_translator': False,\n    'is_translation_enabled': False,\n    'profile_background_color': '1A1B1F',\n    'profile_background_image_url': 'http://abs.twimg.com/images/themes/theme9/bg.gif',\n    'profile_background_image_url_https': 'https://abs.twimg.com/images/themes/theme9/bg.gif',\n    'profile_background_tile': False,\n    'profile_image_url': 'http://pbs.twimg.com/profile_images/1347605351269601285/tlTSUB8K_normal.jpg',\n    'profile_image_url_https': 'https://pbs.twimg.com/profile_images/1347605351269601285/tlTSUB8K_normal.jpg',\n    'profile_banner_url': 'https://pbs.twimg.com/profile_banners/714051110/1557695427',\n    'profile_link_color': 'E81C4F',\n    'profile_sidebar_border_color': '000000',\n    'profile_sidebar_fill_color': '000000',\n    'profile_text_color': '000000',\n    'profile_use_background_image': True,\n    'has_extended_profile': True,\n    'default_profile': False,\n    'default_profile_image': False,\n    'following': None,\n    'follow_request_sent': None,\n    'notifications': None,\n    'translator_type': 'none'},\n   'geo': None,\n   'coordinates': None,\n   'place': None,\n   'contributors': None,\n   'is_quote_status': False,\n   'retweet_count': 241,\n   'favorite_count': 682,\n   'favorited': False,\n   'retweeted': False,\n   'possibly_sensitive': False,\n   'lang': 'en'}],\n 'search_metadata': {'completed_in': 0.035,\n  'max_id': 0,\n  'max_id_str': '0',\n  'next_results': '?max_id=1357326535003410436&q=%23bitcoin&lang=en&count=10&include_entities=1&result_type=popular',\n  'query': '%23bitcoin',\n  'count': 10,\n  'since_id': 0,\n  'since_id_str': '0'}}"
     },
     "execution_count": 34,
     "metadata": {},
     "output_type": "execute_result"
    }
   ],
   "source": [
    "data = twitter.search(\n",
    "    q='#bitcoin',\n",
    "    lang='en',\n",
    "    result_type='popular',\n",
    "    tweet_mode='extended',\n",
    "    count=\"10\"\n",
    ")"
   ],
   "metadata": {
    "collapsed": false,
    "pycharm": {
     "name": "#%%\n"
    }
   }
  },
  {
   "cell_type": "code",
   "execution_count": 43,
   "outputs": [
    {
     "data": {
      "text/plain": "{'text': 'German prosecutors have confiscated more than $60 million worth of #bitcoin from a fraudster. There’s only one problem: they can’t unlock the money because he won’t give them the password. @johnodonnell21 reports https://t.co/weuOUzqL62 1/4 https://t.co/Erd8fJhtID',\n 'user_id': 1652541,\n 'follower_count': 23060368,\n 'verified': True,\n 'created_at': datetime.datetime(2021, 2, 5, 13, 59, 8),\n 'retweet_count': 2580,\n 'favorite_count': 6320,\n 'topics': ['bitcoin']}"
     },
     "execution_count": 43,
     "metadata": {},
     "output_type": "execute_result"
    }
   ],
   "source": [
    "tweet = data['statuses'][1]\n",
    "result = {\n",
    "    '_id': tweet['id'],\n",
    "    'text': tweet['full_text'],\n",
    "    'user_id': tweet['user']['id'],\n",
    "    'follower_count': tweet['user']['followers_count'],\n",
    "    'verified': tweet['user']['verified'],\n",
    "    'created_at': datetime.strptime(tweet['created_at'],'%a %b %d %H:%M:%S +0000 %Y'),\n",
    "    'retweet_count': tweet['retweet_count'],\n",
    "    'favorite_count': tweet['favorite_count'],\n",
    "    'topics': [\n",
    "        tag.lower()\n",
    "        for tag in re.findall(r\"#(\\w*[0-9a-zA-Z]+\\w*[0-9a-zA-Z])\", tweet['full_text'])\n",
    "    ]\n",
    "}\n",
    "\n",
    "result"
   ],
   "metadata": {
    "collapsed": false,
    "pycharm": {
     "name": "#%%\n"
    }
   }
  },
  {
   "cell_type": "code",
   "execution_count": 46,
   "outputs": [],
   "source": [
    "import pymongo\n",
    "\n",
    "client = pymongo.MongoClient(\n",
    "    \"mongodb://localhost:27017/\",\n",
    "    username='root',\n",
    "    password='bigbrain'\n",
    ")"
   ],
   "metadata": {
    "collapsed": false,
    "pycharm": {
     "name": "#%%\n"
    }
   }
  },
  {
   "cell_type": "code",
   "execution_count": 49,
   "outputs": [],
   "source": [
    "scrapperdb = client['scrapper']\n",
    "tweets = scrapperdb['tweets']"
   ],
   "metadata": {
    "collapsed": false,
    "pycharm": {
     "name": "#%%\n"
    }
   }
  },
  {
   "cell_type": "code",
   "execution_count": 64,
   "outputs": [
    {
     "name": "stderr",
     "output_type": "stream",
     "text": [
      "<ipython-input-64-53a015f559d2>:1: DeprecationWarning: update is deprecated. Use replace_one, update_one or update_many instead.\n",
      "  tweets.update({\n"
     ]
    },
    {
     "data": {
      "text/plain": "{'n': 1, 'nModified': 1, 'ok': 1.0, 'updatedExisting': True}"
     },
     "execution_count": 64,
     "metadata": {},
     "output_type": "execute_result"
    }
   ],
   "source": [
    "tweets.update({\n",
    "    '_id': result['_id']\n",
    "}, result, upsert=True)"
   ],
   "metadata": {
    "collapsed": false,
    "pycharm": {
     "name": "#%%\n"
    }
   }
  },
  {
   "cell_type": "code",
   "execution_count": 54,
   "outputs": [
    {
     "name": "stderr",
     "output_type": "stream",
     "text": [
      "<ipython-input-54-39d8aaf8a241>:1: DeprecationWarning: ensure_index is deprecated. Use create_index instead.\n",
      "  tweets.ensure_index([\n"
     ]
    },
    {
     "data": {
      "text/plain": "'created_at_-1_topics_1'"
     },
     "execution_count": 54,
     "metadata": {},
     "output_type": "execute_result"
    }
   ],
   "source": [
    "tweets.ensure_index([\n",
    "    ('created_at', pymongo.DESCENDING),\n",
    "    ('topics', pymongo.ASCENDING)\n",
    "])"
   ],
   "metadata": {
    "collapsed": false,
    "pycharm": {
     "name": "#%%\n"
    }
   }
  },
  {
   "cell_type": "code",
   "execution_count": 59,
   "outputs": [
    {
     "data": {
      "text/plain": "[{'_id': ObjectId('601db6a49c687ce76749443e'),\n  'text': 'German prosecutors have confiscated more than $60 million worth of #bitcoin from a fraudster. There’s only one problem: they can’t unlock the money because he won’t give them the password. @johnodonnell21 reports https://t.co/weuOUzqL62 1/4 https://t.co/Erd8fJhtID',\n  'user_id': 1652541,\n  'follower_count': 23060368,\n  'verified': True,\n  'created_at': datetime.datetime(2021, 2, 5, 13, 59, 8),\n  'retweet_count': 2580,\n  'favorite_count': 6320,\n  'topics': ['bitcoin']}]"
     },
     "execution_count": 59,
     "metadata": {},
     "output_type": "execute_result"
    }
   ],
   "source": [
    "list(tweets.find(\n",
    "    {'topics': {'$in': ['bitcoin']}}\n",
    "))"
   ],
   "metadata": {
    "collapsed": false,
    "pycharm": {
     "name": "#%%\n"
    }
   }
  },
  {
   "cell_type": "code",
   "execution_count": 60,
   "outputs": [
    {
     "data": {
      "text/plain": "{'created_at': 'Fri Feb 05 13:59:08 +0000 2021',\n 'id': 1357690223187161088,\n 'id_str': '1357690223187161088',\n 'full_text': 'German prosecutors have confiscated more than $60 million worth of #bitcoin from a fraudster. There’s only one problem: they can’t unlock the money because he won’t give them the password. @johnodonnell21 reports https://t.co/weuOUzqL62 1/4 https://t.co/Erd8fJhtID',\n 'truncated': False,\n 'display_text_range': [0, 240],\n 'entities': {'hashtags': [{'text': 'bitcoin', 'indices': [67, 75]}],\n  'symbols': [],\n  'user_mentions': [{'screen_name': 'johnodonnell21',\n    'name': \"John O'Donnell\",\n    'id': 175029793,\n    'id_str': '175029793',\n    'indices': [189, 204]}],\n  'urls': [{'url': 'https://t.co/weuOUzqL62',\n    'expanded_url': 'https://reut.rs/39QG265',\n    'display_url': 'reut.rs/39QG265',\n    'indices': [213, 236]}],\n  'media': [{'id': 1357690127405973504,\n    'id_str': '1357690127405973504',\n    'indices': [241, 264],\n    'media_url': 'http://pbs.twimg.com/media/Etd7-j8WgAAoDmG.jpg',\n    'media_url_https': 'https://pbs.twimg.com/media/Etd7-j8WgAAoDmG.jpg',\n    'url': 'https://t.co/Erd8fJhtID',\n    'display_url': 'pic.twitter.com/Erd8fJhtID',\n    'expanded_url': 'https://twitter.com/Reuters/status/1357690223187161088/photo/1',\n    'type': 'photo',\n    'sizes': {'thumb': {'w': 150, 'h': 150, 'resize': 'crop'},\n     'small': {'w': 680, 'h': 458, 'resize': 'fit'},\n     'medium': {'w': 800, 'h': 539, 'resize': 'fit'},\n     'large': {'w': 800, 'h': 539, 'resize': 'fit'}}}]},\n 'extended_entities': {'media': [{'id': 1357690127405973504,\n    'id_str': '1357690127405973504',\n    'indices': [241, 264],\n    'media_url': 'http://pbs.twimg.com/media/Etd7-j8WgAAoDmG.jpg',\n    'media_url_https': 'https://pbs.twimg.com/media/Etd7-j8WgAAoDmG.jpg',\n    'url': 'https://t.co/Erd8fJhtID',\n    'display_url': 'pic.twitter.com/Erd8fJhtID',\n    'expanded_url': 'https://twitter.com/Reuters/status/1357690223187161088/photo/1',\n    'type': 'photo',\n    'sizes': {'thumb': {'w': 150, 'h': 150, 'resize': 'crop'},\n     'small': {'w': 680, 'h': 458, 'resize': 'fit'},\n     'medium': {'w': 800, 'h': 539, 'resize': 'fit'},\n     'large': {'w': 800, 'h': 539, 'resize': 'fit'}}}]},\n 'metadata': {'result_type': 'popular', 'iso_language_code': 'en'},\n 'source': '<a href=\"https://mobile.twitter.com\" rel=\"nofollow\">Twitter Web App</a>',\n 'in_reply_to_status_id': None,\n 'in_reply_to_status_id_str': None,\n 'in_reply_to_user_id': None,\n 'in_reply_to_user_id_str': None,\n 'in_reply_to_screen_name': None,\n 'user': {'id': 1652541,\n  'id_str': '1652541',\n  'name': 'Reuters',\n  'screen_name': 'Reuters',\n  'location': 'Around the world',\n  'description': 'Top and breaking news, pictures and videos from Reuters. For more breaking business news, follow @ReutersBiz.',\n  'url': 'http://t.co/BmHxhkm3Mh',\n  'entities': {'url': {'urls': [{'url': 'http://t.co/BmHxhkm3Mh',\n      'expanded_url': 'http://www.reuters.com',\n      'display_url': 'reuters.com',\n      'indices': [0, 22]}]},\n   'description': {'urls': []}},\n  'protected': False,\n  'followers_count': 23060368,\n  'friends_count': 1142,\n  'listed_count': 125471,\n  'created_at': 'Tue Mar 20 17:46:05 +0000 2007',\n  'favourites_count': 765,\n  'utc_offset': None,\n  'time_zone': None,\n  'geo_enabled': False,\n  'verified': True,\n  'statuses_count': 649366,\n  'lang': None,\n  'contributors_enabled': False,\n  'is_translator': False,\n  'is_translation_enabled': True,\n  'profile_background_color': '444444',\n  'profile_background_image_url': 'http://abs.twimg.com/images/themes/theme1/bg.png',\n  'profile_background_image_url_https': 'https://abs.twimg.com/images/themes/theme1/bg.png',\n  'profile_background_tile': False,\n  'profile_image_url': 'http://pbs.twimg.com/profile_images/1194751949821939712/3VBu4_Sa_normal.jpg',\n  'profile_image_url_https': 'https://pbs.twimg.com/profile_images/1194751949821939712/3VBu4_Sa_normal.jpg',\n  'profile_banner_url': 'https://pbs.twimg.com/profile_banners/1652541/1573687397',\n  'profile_link_color': '006F97',\n  'profile_sidebar_border_color': '000000',\n  'profile_sidebar_fill_color': 'F5F5F5',\n  'profile_text_color': '000000',\n  'profile_use_background_image': True,\n  'has_extended_profile': False,\n  'default_profile': False,\n  'default_profile_image': False,\n  'following': None,\n  'follow_request_sent': None,\n  'notifications': None,\n  'translator_type': 'regular'},\n 'geo': None,\n 'coordinates': None,\n 'place': None,\n 'contributors': None,\n 'is_quote_status': False,\n 'retweet_count': 2580,\n 'favorite_count': 6320,\n 'favorited': False,\n 'retweeted': False,\n 'possibly_sensitive': False,\n 'lang': 'en'}"
     },
     "execution_count": 60,
     "metadata": {},
     "output_type": "execute_result"
    }
   ],
   "source": [
    "tweet"
   ],
   "metadata": {
    "collapsed": false,
    "pycharm": {
     "name": "#%%\n"
    }
   }
  },
  {
   "cell_type": "code",
   "execution_count": null,
   "outputs": [],
   "source": [],
   "metadata": {
    "collapsed": false,
    "pycharm": {
     "name": "#%%\n"
    }
   }
  }
 ],
 "metadata": {
  "kernelspec": {
   "display_name": "Python 3",
   "language": "python",
   "name": "python3"
  },
  "language_info": {
   "codemirror_mode": {
    "name": "ipython",
    "version": 2
   },
   "file_extension": ".py",
   "mimetype": "text/x-python",
   "name": "python",
   "nbconvert_exporter": "python",
   "pygments_lexer": "ipython2",
   "version": "2.7.6"
  }
 },
 "nbformat": 4,
 "nbformat_minor": 0
}