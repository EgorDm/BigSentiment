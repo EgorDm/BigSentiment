{
 "cells": [
  {
   "cell_type": "code",
   "execution_count": 134,
   "metadata": {
    "collapsed": true
   },
   "outputs": [],
   "source": [
    "import tensorflow as tf\n",
    "import torch\n",
    "from transformers import TFGPT2LMHeadModel, GPT2Tokenizer, ElectraTokenizerFast, ElectraForMaskedLM, \\\n",
    "    ElectraForPreTraining\n",
    "import numpy as np"
   ]
  },
  {
   "cell_type": "code",
   "execution_count": 80,
   "outputs": [
    {
     "data": {
      "text/plain": "0"
     },
     "execution_count": 80,
     "metadata": {},
     "output_type": "execute_result"
    }
   ],
   "source": [
    "VOCAB_FILE = '../../data/bitcoin_twitter-vocab.txt'\n",
    "tokenizer_custom = {\n",
    "    '@HTAG': '[HTAG]',\n",
    "    '@USR': '[USR]',\n",
    "    '@CURR': '[CURR]',\n",
    "    '@EMOJI': '[EMOJI]',\n",
    "    '@URL': '[URL]',\n",
    "    '@TIME': '[TIME]',\n",
    "    '@DATE': '[DATE]',\n",
    "    '@NUM': '[NUM]',\n",
    "    '@MASK': '[MASK]'\n",
    "}\n",
    "additional_tokens = list(tokenizer_custom.values())\n",
    "\n",
    "tokenizer = ElectraTokenizerFast(vocab_file=VOCAB_FILE)\n",
    "tokenizer.add_special_tokens({\n",
    "    'additional_special_tokens': additional_tokens\n",
    "})"
   ],
   "metadata": {
    "collapsed": false,
    "pycharm": {
     "name": "#%%\n"
    }
   }
  },
  {
   "cell_type": "code",
   "execution_count": 139,
   "outputs": [
    {
     "name": "stderr",
     "output_type": "stream",
     "text": [
      "Some weights of the model checkpoint at ../../data/models/discriminator were not used when initializing ElectraForMaskedLM: ['discriminator_predictions.dense.weight', 'discriminator_predictions.dense.bias', 'discriminator_predictions.dense_prediction.weight', 'discriminator_predictions.dense_prediction.bias']\n",
      "- This IS expected if you are initializing ElectraForMaskedLM from the checkpoint of a model trained on another task or with another architecture (e.g. initializing a BertForSequenceClassification model from a BertForPreTraining model).\n",
      "- This IS NOT expected if you are initializing ElectraForMaskedLM from the checkpoint of a model that you expect to be exactly identical (initializing a BertForSequenceClassification model from a BertForSequenceClassification model).\n",
      "Some weights of ElectraForMaskedLM were not initialized from the model checkpoint at ../../data/models/discriminator and are newly initialized: ['generator_predictions.LayerNorm.weight', 'generator_predictions.LayerNorm.bias', 'generator_predictions.dense.weight', 'generator_predictions.dense.bias', 'generator_lm_head.weight', 'generator_lm_head.bias']\n",
      "You should probably TRAIN this model on a down-stream task to be able to use it for predictions and inference.\n"
     ]
    }
   ],
   "source": [
    "MODEL_DIR = '../../data/models/discriminator'\n",
    "model = ElectraForMaskedLM.from_pretrained(MODEL_DIR)"
   ],
   "metadata": {
    "collapsed": false,
    "pycharm": {
     "name": "#%%\n"
    }
   }
  },
  {
   "cell_type": "code",
   "execution_count": 141,
   "outputs": [
    {
     "name": "stdout",
     "output_type": "stream",
     "text": [
      "tensor([5])\n",
      "Are you a real parabol .\n",
      "Are you a real psychological .\n",
      "Are you a real ##late .\n",
      "Are you a real ##nal .\n",
      "Are you a real bron .\n"
     ]
    }
   ],
   "source": [
    "sequence = f'Just bought [CURR] {tokenizer.mask_token}. Can not wait until it gets to [NUM] {tokenizer.mask_token}'\n",
    "sequence = f'well [HTAG] {tokenizer.mask_token} is taking over . go get [CURR] ethereum [CURR] chainlink [CURR] bitcoin and your good .'\n",
    "sequence = f'Are you a real {tokenizer.mask_token} .'\n",
    "\n",
    "input_ids = tokenizer(sequence, return_tensors='pt')['input_ids']\n",
    "mask_token_index = torch.where(input_ids == tokenizer.mask_token_id)[1]\n",
    "print(mask_token_index)\n",
    "\n",
    "token_logits = model(input_ids)[0]\n",
    "mask_token_logits = token_logits[0, mask_token_index, :]\n",
    "\n",
    "top_5_tokens = torch.topk(mask_token_logits, 5, dim=1).indices[0].tolist()\n",
    "for token in top_5_tokens:\n",
    "    print(sequence.replace(tokenizer.mask_token, tokenizer.decode([token])))"
   ],
   "metadata": {
    "collapsed": false,
    "pycharm": {
     "name": "#%%\n"
    }
   }
  },
  {
   "cell_type": "code",
   "execution_count": 138,
   "outputs": [
    {
     "data": {
      "text/plain": "torch.nn.modules.sparse.Embedding"
     },
     "execution_count": 138,
     "metadata": {},
     "output_type": "execute_result"
    }
   ],
   "source": [
    "type(model.get_input_embeddings())"
   ],
   "metadata": {
    "collapsed": false,
    "pycharm": {
     "name": "#%%\n"
    }
   }
  },
  {
   "cell_type": "code",
   "execution_count": 150,
   "outputs": [],
   "source": [
    "emb = model.get_input_embeddings()\n",
    "embeddings=np.zeros((16537,128))\n",
    "words = []\n",
    "i = 0\n",
    "for word,index in tokenizer.get_vocab().items():\n",
    "    words.append(word)\n",
    "    embeddings[i]=emb(torch.tensor(index)).detach().numpy()\n",
    "    i += 1"
   ],
   "metadata": {
    "collapsed": false,
    "pycharm": {
     "name": "#%%\n"
    }
   }
  },
  {
   "cell_type": "code",
   "execution_count": 151,
   "outputs": [],
   "source": [
    "np.savetxt(\"foo.tsv\", embeddings, delimiter=\"\\t\")"
   ],
   "metadata": {
    "collapsed": false,
    "pycharm": {
     "name": "#%%\n"
    }
   }
  },
  {
   "cell_type": "code",
   "execution_count": 155,
   "outputs": [],
   "source": [
    "with open('labels.tsv', 'w') as f:\n",
    "    for w in words:\n",
    "        f.write(f'{w}\\n')"
   ],
   "metadata": {
    "collapsed": false,
    "pycharm": {
     "name": "#%%\n"
    }
   }
  },
  {
   "cell_type": "code",
   "execution_count": null,
   "outputs": [],
   "source": [],
   "metadata": {
    "collapsed": false,
    "pycharm": {
     "name": "#%%\n"
    }
   }
  }
 ],
 "metadata": {
  "kernelspec": {
   "display_name": "Python 3",
   "language": "python",
   "name": "python3"
  },
  "language_info": {
   "codemirror_mode": {
    "name": "ipython",
    "version": 2
   },
   "file_extension": ".py",
   "mimetype": "text/x-python",
   "name": "python",
   "nbconvert_exporter": "python",
   "pygments_lexer": "ipython2",
   "version": "2.7.6"
  }
 },
 "nbformat": 4,
 "nbformat_minor": 0
}