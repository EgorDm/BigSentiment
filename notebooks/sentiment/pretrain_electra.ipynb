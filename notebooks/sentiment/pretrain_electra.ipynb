{
 "cells": [
  {
   "cell_type": "code",
   "execution_count": 1,
   "metadata": {
    "collapsed": true
   },
   "outputs": [],
   "source": [
    "import os, math\n",
    "import torch\n",
    "from torch import nn\n",
    "from transformers import ElectraTokenizer, TextDataset, ElectraConfig, ElectraForMaskedLM, ElectraForPreTraining, \\\n",
    "    set_seed, DataCollatorForLanguageModeling, PreTrainedModel, PreTrainedTokenizer, Trainer"
   ]
  },
  {
   "cell_type": "code",
   "execution_count": 2,
   "outputs": [],
   "source": [
    "tokenizer_custom = {\n",
    "    '@HTAG': '[HTAG]',\n",
    "    '@USR': '[USR]',\n",
    "    '@CURR': '[CURR]',\n",
    "    '@EMOJI': '[EMOJI]',\n",
    "    '@URL': '[URL]',\n",
    "    '@TIME': '[TIME]',\n",
    "    '@DATE': '[DATE]',\n",
    "    '@NUM': '[NUM]'\n",
    "}\n",
    "\n",
    "VOCAB_FILE = '../../data/vocab/bitcoin_twitter/bitcoin_twitter-vocab.txt'\n",
    "TRAIN_DS = '../../data/bitcoin_twitter_corpus/train.tokens'\n",
    "TEST_DS = '../../data/bitcoin_twitter_corpus/test.tokens'\n",
    "VALIDATE_DS = '../../data/bitcoin_twitter_corpus/validate.tokens'\n",
    "\n",
    "model_path = './bitcoin_twitter'\n",
    "seq_length = 256\n",
    "accum_multipler = 1\n",
    "batch_size = 128\n",
    "epochs = 1\n",
    "warmup_ratio = 0.06\n",
    "lr = 5e-4\n",
    "vocab_size = 16537\n",
    "block_size = 200\n",
    "seed = 1337\n",
    "\n",
    "set_seed(seed)"
   ],
   "metadata": {
    "collapsed": false,
    "pycharm": {
     "name": "#%%\n"
    }
   }
  },
  {
   "cell_type": "code",
   "execution_count": 3,
   "outputs": [],
   "source": [
    "tokenizer = ElectraTokenizer(vocab_file=VOCAB_FILE)\n",
    "tokenizer.add_special_tokens({\n",
    "    'additional_special_tokens': list(tokenizer_custom.values())\n",
    "})\n",
    "\n",
    "assert tokenizer.vocab_size == vocab_size"
   ],
   "metadata": {
    "collapsed": false,
    "pycharm": {
     "name": "#%%\n"
    }
   }
  },
  {
   "cell_type": "code",
   "execution_count": 4,
   "outputs": [],
   "source": [
    "class CombinedModel(nn.Module):\n",
    "    def __init__(self, discriminator: PreTrainedModel, generator: PreTrainedModel, tokenizer: PreTrainedTokenizer):\n",
    "        super().__init__()\n",
    "        self.tokenizer = tokenizer\n",
    "        self.discriminator = discriminator\n",
    "        self.generator = generator\n",
    "\n",
    "        # Embeddings are shared\n",
    "        self.discriminator.set_input_embeddings(self.generator.get_input_embeddings())\n",
    "\n",
    "    @staticmethod\n",
    "    def mask_inputs(\n",
    "            input_ids: torch.Tensor,\n",
    "            mask_token_id,\n",
    "            mask_probability,\n",
    "            tokens_to_ignore,\n",
    "            max_predictions_per_seq,\n",
    "            proposal_distribution=1.0\n",
    "    ):\n",
    "        inputs_which_can_be_masked = torch.ones_like(input_ids)\n",
    "        for token in tokens_to_ignore:\n",
    "            inputs_which_can_be_masked -= torch.eq(input_ids, token).long()\n",
    "\n",
    "        total_number_of_tokens = input_ids.shape[-1]\n",
    "\n",
    "        # Identify the number of tokens to be masked, which should be: 1 < num < max_predictions per seq.\n",
    "        # It is set to be: n_tokens * mask_probability, but is truncated if it goes beyond bounds.\n",
    "        number_of_tokens_to_be_masked = torch.max(\n",
    "            torch.tensor(1),\n",
    "            torch.min(\n",
    "                torch.tensor(max_predictions_per_seq),\n",
    "                torch.tensor(total_number_of_tokens * mask_probability, dtype=torch.long)\n",
    "            )\n",
    "        )\n",
    "\n",
    "        # The probability of each token being masked\n",
    "        sample_prob = proposal_distribution * inputs_which_can_be_masked\n",
    "        sample_prob /= torch.sum(sample_prob)\n",
    "        # Should be passed through a log function here\n",
    "\n",
    "        # Weight of each position: 1 the position will be masked, 0 the position won't be masked\n",
    "        masked_lm_weights = torch.tensor([0] * max_predictions_per_seq, dtype=torch.bool)\n",
    "        masked_lm_weights[:number_of_tokens_to_be_masked] = True\n",
    "\n",
    "        # Sample from the probabilities\n",
    "        masked_lm_positions = sample_prob.multinomial(max_predictions_per_seq)\n",
    "\n",
    "        # Apply the weights to the positions\n",
    "        masked_lm_positions *= masked_lm_weights.long()\n",
    "\n",
    "        # Gather the IDs from the positions\n",
    "        masked_lm_ids = input_ids.gather(-1, masked_lm_positions)\n",
    "\n",
    "        # Apply weights to the IDs\n",
    "        masked_lm_ids *= masked_lm_weights.long()\n",
    "\n",
    "        replace_with_mask_positions = masked_lm_positions * (torch.rand(masked_lm_positions.shape) < 0.85)\n",
    "\n",
    "        # Replace the input IDs with masks on given positions\n",
    "        masked_input_ids = input_ids.scatter(-1, replace_with_mask_positions, mask_token_id)\n",
    "\n",
    "        # Updates to index 0 should be ignored\n",
    "        masked_input_ids[..., 0] = input_ids[..., 0]\n",
    "\n",
    "        return masked_input_ids, masked_lm_positions\n",
    "\n",
    "    @staticmethod\n",
    "    def gather_positions(\n",
    "            sequence,\n",
    "            positions\n",
    "    ):\n",
    "        batch_size, sequence_length, dimension = sequence.shape\n",
    "        position_shift = (sequence_length * torch.arange(batch_size)).unsqueeze(-1)\n",
    "        flat_positions = torch.reshape(positions + position_shift, [-1]).long()\n",
    "        flat_sequence = torch.reshape(sequence, [batch_size * sequence_length, dimension])\n",
    "        gathered = flat_sequence.index_select(0, flat_positions)\n",
    "        return torch.reshape(gathered, [batch_size, -1, dimension])\n",
    "\n",
    "    def forward(\n",
    "            self,\n",
    "            input_ids=None,\n",
    "            attention_mask=None,\n",
    "            token_type_ids=None,\n",
    "            position_ids=None,\n",
    "            head_mask=None,\n",
    "            inputs_embeds=None,\n",
    "            labels=None\n",
    "    ):\n",
    "        masked_input_ids, masked_lm_positions = self.mask_inputs(\n",
    "            input_ids,  self.tokenizer.mask_token_id, 0.2,\n",
    "            [self.tokenizer.cls_token_id, self.tokenizer.sep_token_id, self.tokenizer.mask_token_id],\n",
    "            30\n",
    "        )\n",
    "\n",
    "        generator_loss, generator_output = self.generator(\n",
    "            masked_input_ids,\n",
    "            attention_mask,\n",
    "            token_type_ids,\n",
    "            position_ids,\n",
    "            head_mask,\n",
    "            position_ids,\n",
    "            masked_lm_labels=labels\n",
    "        )[:2]\n",
    "\n",
    "        fake_logits = self.gather_positions(generator_output, masked_lm_positions)\n",
    "        fake_argmaxes = fake_logits.argmax(-1)\n",
    "        fake_tokens = masked_input_ids.scatter(-1, masked_lm_positions, fake_argmaxes)\n",
    "        fake_tokens[:, 0] = input_ids[:, 0]\n",
    "\n",
    "        # discriminator_output\n",
    "        discriminator_loss, discriminator_output = self.discriminator(\n",
    "            fake_tokens,\n",
    "            attention_mask,\n",
    "            token_type_ids,\n",
    "            position_ids,\n",
    "            head_mask,\n",
    "            position_ids,\n",
    "            labels=labels\n",
    "        )[:2]\n",
    "\n",
    "        discriminator_predictions = torch.round((torch.sign(discriminator_output) + 1) / 2).int().tolist()\n",
    "\n",
    "        total_loss = discriminator_loss + generator_loss\n",
    "        return (\n",
    "            total_loss,\n",
    "            (discriminator_predictions, generator_output),\n",
    "            (fake_tokens, masked_input_ids)\n",
    "        )\n",
    "\n",
    "    def save_pretrained(self, directory):\n",
    "        generator_path = os.path.join(directory, \"generator\")\n",
    "        discriminator_path = os.path.join(directory, \"discriminator\")\n",
    "\n",
    "        if not os.path.exists(generator_path):\n",
    "            os.makedirs(generator_path)\n",
    "\n",
    "        if not os.path.exists(discriminator_path):\n",
    "            os.makedirs(discriminator_path)\n",
    "\n",
    "        self.generator.save_pretrained(generator_path)\n",
    "        self.discriminator.save_pretrained(discriminator_path)"
   ],
   "metadata": {
    "collapsed": false,
    "pycharm": {
     "name": "#%%\n"
    }
   }
  },
  {
   "cell_type": "code",
   "execution_count": 5,
   "outputs": [],
   "source": [
    "generator_config = ElectraConfig(\n",
    "    embedding_size=128,\n",
    "    hidden_size = 256,\n",
    "    intermediate_size = 1024,\n",
    "    max_position_embeddings=seq_length,\n",
    "    num_attention_heads=4,\n",
    "    num_hidden_layers=12,\n",
    "    vocab_size=vocab_size,\n",
    ")\n",
    "\n",
    "discriminator_config = ElectraConfig(\n",
    "    embedding_size=128,\n",
    "    hidden_size=256,\n",
    "    intermediate_size=1024,\n",
    "    max_position_embeddings=seq_length,\n",
    "    num_attention_heads=4,\n",
    "    num_hidden_layers=12,\n",
    "    vocab_size=vocab_size,\n",
    ")"
   ],
   "metadata": {
    "collapsed": false,
    "pycharm": {
     "name": "#%%\n"
    }
   }
  },
  {
   "cell_type": "code",
   "execution_count": 6,
   "outputs": [],
   "source": [
    "generator = ElectraForMaskedLM(config=generator_config)\n",
    "discriminator = ElectraForPreTraining(config=discriminator_config)\n",
    "model = CombinedModel(discriminator, generator, tokenizer)"
   ],
   "metadata": {
    "collapsed": false,
    "pycharm": {
     "name": "#%%\n"
    }
   }
  },
  {
   "cell_type": "code",
   "execution_count": null,
   "outputs": [
    {
     "name": "stderr",
     "output_type": "stream",
     "text": [
      "/dd_volume/Development/Python/BigHead/venv/lib/python3.8/site-packages/transformers/data/datasets/language_modeling.py:54: FutureWarning: This dataset will be removed from the library soon, preprocessing should be handled with the 🤗 Datasets library. You can have a look at this example script for pointers: https://github.com/huggingface/transformers/blob/master/examples/language-modeling/run_mlm.py\n",
      "  warnings.warn(\n"
     ]
    }
   ],
   "source": [
    "train_ds = TextDataset(file_path=TRAIN_DS, tokenizer=tokenizer,block_size=block_size)\n",
    "test_ds = TextDataset(file_path=TEST_DS, tokenizer=tokenizer, block_size=block_size)\n",
    "\n",
    "data_collator = DataCollatorForLanguageModeling(\n",
    "    tokenizer=tokenizer, mlm=False, mlm_probability=0\n",
    ")"
   ],
   "metadata": {
    "collapsed": false,
    "pycharm": {
     "name": "#%%\n",
     "is_executing": true
    }
   }
  },
  {
   "cell_type": "code",
   "execution_count": 26,
   "outputs": [
    {
     "ename": "NameError",
     "evalue": "name 'data_collator' is not defined",
     "output_type": "error",
     "traceback": [
      "\u001B[0;31m---------------------------------------------------------------------------\u001B[0m",
      "\u001B[0;31mNameError\u001B[0m                                 Traceback (most recent call last)",
      "\u001B[0;32m<ipython-input-26-44a9ab3c4acc>\u001B[0m in \u001B[0;36m<module>\u001B[0;34m\u001B[0m\n\u001B[1;32m      2\u001B[0m trainer = Trainer(\n\u001B[1;32m      3\u001B[0m     \u001B[0mmodel\u001B[0m\u001B[0;34m=\u001B[0m\u001B[0mmodel\u001B[0m\u001B[0;34m,\u001B[0m\u001B[0;34m\u001B[0m\u001B[0;34m\u001B[0m\u001B[0m\n\u001B[0;32m----> 4\u001B[0;31m     \u001B[0mdata_collator\u001B[0m\u001B[0;34m=\u001B[0m\u001B[0mdata_collator\u001B[0m\u001B[0;34m,\u001B[0m\u001B[0;34m\u001B[0m\u001B[0;34m\u001B[0m\u001B[0m\n\u001B[0m\u001B[1;32m      5\u001B[0m     \u001B[0mtrain_dataset\u001B[0m\u001B[0;34m=\u001B[0m\u001B[0mtrain_ds\u001B[0m\u001B[0;34m,\u001B[0m\u001B[0;34m\u001B[0m\u001B[0;34m\u001B[0m\u001B[0m\n\u001B[1;32m      6\u001B[0m     \u001B[0meval_dataset\u001B[0m\u001B[0;34m=\u001B[0m\u001B[0mtest_ds\u001B[0m\u001B[0;34m,\u001B[0m\u001B[0;34m\u001B[0m\u001B[0;34m\u001B[0m\u001B[0m\n",
      "\u001B[0;31mNameError\u001B[0m: name 'data_collator' is not defined"
     ]
    }
   ],
   "source": [
    "# Initialize our Trainer\n",
    "trainer = Trainer(\n",
    "    model=model,\n",
    "    data_collator=data_collator,\n",
    "    train_dataset=train_ds,\n",
    "    eval_dataset=test_ds,\n",
    "    prediction_loss_only=True,\n",
    ")"
   ],
   "metadata": {
    "collapsed": false,
    "pycharm": {
     "name": "#%%\n"
    }
   }
  },
  {
   "cell_type": "code",
   "execution_count": null,
   "outputs": [],
   "source": [
    "# Training\n",
    "trainer.train(model_path=model_path)\n",
    "trainer.save_model()"
   ],
   "metadata": {
    "collapsed": false,
    "pycharm": {
     "name": "#%%\n"
    }
   }
  },
  {
   "cell_type": "code",
   "execution_count": null,
   "outputs": [],
   "source": [
    "# Evaluation\n",
    "results = {}\n",
    "print(\"*** Evaluate ***\")\n",
    "\n",
    "eval_output = trainer.evaluate()\n",
    "\n",
    "perplexity = math.exp(eval_output[\"loss\"])\n",
    "result = {\"perplexity\": perplexity}\n",
    "\n",
    "output_eval_file = \"eval_results_lm.txt\"\n",
    "with open(output_eval_file, \"w\") as writer:\n",
    "    print(\"***** Eval results *****\")\n",
    "    for key in sorted(result.keys()):\n",
    "        print(\"  %s = %s\", key, str(result[key]))\n",
    "        writer.write(\"%s = %s\\n\" % (key, str(result[key])))\n",
    "\n",
    "results.update(result)"
   ],
   "metadata": {
    "collapsed": false,
    "pycharm": {
     "name": "#%%\n"
    }
   }
  }
 ],
 "metadata": {
  "kernelspec": {
   "display_name": "Python 3",
   "language": "python",
   "name": "python3"
  },
  "language_info": {
   "codemirror_mode": {
    "name": "ipython",
    "version": 2
   },
   "file_extension": ".py",
   "mimetype": "text/x-python",
   "name": "python",
   "nbconvert_exporter": "python",
   "pygments_lexer": "ipython2",
   "version": "2.7.6"
  }
 },
 "nbformat": 4,
 "nbformat_minor": 0
}