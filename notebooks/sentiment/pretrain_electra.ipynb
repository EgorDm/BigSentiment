{
 "cells": [
  {
   "cell_type": "code",
   "execution_count": 23,
   "metadata": {
    "collapsed": true
   },
   "outputs": [],
   "source": [
    "import os, math\n",
    "import torch\n",
    "import wandb\n",
    "from torch import nn\n",
    "from datasets import load_dataset\n",
    "from transformers import ElectraTokenizer, TextDataset, ElectraConfig, ElectraForMaskedLM, ElectraForPreTraining, \\\n",
    "    set_seed, DataCollatorForLanguageModeling, PreTrainedModel, PreTrainedTokenizer, Trainer, ElectraTokenizerFast, \\\n",
    "    TrainingArguments, EvaluationStrategy\n",
    "from transformers.tokenization_utils_base import PaddingStrategy"
   ]
  },
  {
   "cell_type": "code",
   "execution_count": 24,
   "outputs": [
    {
     "name": "stderr",
     "output_type": "stream",
     "text": [
      "\u001B[34m\u001B[1mwandb\u001B[0m: Currently logged in as: \u001B[33megordm\u001B[0m (use `wandb login --relogin` to force relogin)\n"
     ]
    },
    {
     "data": {
      "text/plain": "True"
     },
     "execution_count": 24,
     "metadata": {},
     "output_type": "execute_result"
    }
   ],
   "source": [
    "wandb.login()"
   ],
   "metadata": {
    "collapsed": false,
    "pycharm": {
     "name": "#%%\n"
    }
   }
  },
  {
   "cell_type": "code",
   "execution_count": 25,
   "outputs": [],
   "source": [
    "\n",
    "tokenizer_custom = {\n",
    "    '@HTAG': '[HTAG]',\n",
    "    '@USR': '[USR]',\n",
    "    '@CURR': '[CURR]',\n",
    "    '@EMOJI': '[EMOJI]',\n",
    "    '@URL': '[URL]',\n",
    "    '@TIME': '[TIME]',\n",
    "    '@DATE': '[DATE]',\n",
    "    '@NUM': '[NUM]'\n",
    "}\n",
    "\n",
    "DATASET_DIR = '../../data/bitcoin_twitter_corpus'\n",
    "VOCAB_FILE = '../../data/vocab/bitcoin_twitter/bitcoin_twitter-vocab.txt'\n",
    "TRAIN_DS = os.path.join(DATASET_DIR, 'train.tokens')\n",
    "TEST_DS = os.path.join(DATASET_DIR, 'test.tokens')\n",
    "VALIDATE_DS = os.path.join(DATASET_DIR, 'validate.tokens')\n",
    "\n",
    "model_path = './bitcoin_twitter'\n",
    "seq_length = 256\n",
    "accum_multipler = 1\n",
    "batch_size = 128\n",
    "epochs = 1\n",
    "warmup_ratio = 0.06\n",
    "lr = 5e-4\n",
    "vocab_size = 16537\n",
    "block_size = 200\n",
    "seed = 1337\n",
    "\n",
    "set_seed(seed)"
   ],
   "metadata": {
    "collapsed": false,
    "pycharm": {
     "name": "#%%\n"
    }
   }
  },
  {
   "cell_type": "code",
   "execution_count": 26,
   "outputs": [],
   "source": [
    "tokenizer = ElectraTokenizerFast(vocab_file=VOCAB_FILE)\n",
    "tokenizer.add_special_tokens({\n",
    "    'additional_special_tokens': list(tokenizer_custom.values())\n",
    "})\n",
    "\n",
    "assert tokenizer.vocab_size == vocab_size"
   ],
   "metadata": {
    "collapsed": false,
    "pycharm": {
     "name": "#%%\n"
    }
   }
  },
  {
   "cell_type": "code",
   "execution_count": 27,
   "outputs": [],
   "source": [
    "class CombinedModel(nn.Module):\n",
    "    def __init__(self, discriminator: PreTrainedModel, generator: PreTrainedModel, tokenizer: PreTrainedTokenizer):\n",
    "        super().__init__()\n",
    "        self.tokenizer = tokenizer\n",
    "        self.discriminator = discriminator\n",
    "        self.generator = generator\n",
    "\n",
    "        # Embeddings are shared\n",
    "        self.discriminator.set_input_embeddings(self.generator.get_input_embeddings())\n",
    "\n",
    "    @staticmethod\n",
    "    def mask_inputs(\n",
    "            input_ids: torch.Tensor,\n",
    "            mask_token_id, mask_probability,\n",
    "            tokens_to_ignore,\n",
    "            max_predictions_per_seq,\n",
    "            proposal_distribution=1.0\n",
    "    ):\n",
    "        inputs_which_can_be_masked = torch.ones_like(input_ids)\n",
    "        for token in tokens_to_ignore:\n",
    "            inputs_which_can_be_masked -= torch.eq(input_ids, token).long()\n",
    "\n",
    "        total_number_of_tokens = input_ids.shape[-1]\n",
    "\n",
    "        # Identify the number of tokens to be masked, which should be: 1 < num < max_predictions per seq.\n",
    "        # It is set to be: n_tokens * mask_probability, but is truncated if it goes beyond bounds.\n",
    "        number_of_tokens_to_be_masked = torch.max(\n",
    "            torch.tensor(1),\n",
    "            torch.min(\n",
    "                torch.tensor(max_predictions_per_seq),\n",
    "                torch.tensor(total_number_of_tokens * mask_probability, dtype=torch.long)\n",
    "            )\n",
    "        )\n",
    "\n",
    "        # The probability of each token being masked\n",
    "        sample_prob = proposal_distribution * inputs_which_can_be_masked\n",
    "        sample_prob /= torch.sum(sample_prob)\n",
    "        # Should be passed through a log function here\n",
    "\n",
    "        # Weight of each position: 1 the position will be masked, 0 the position won't be masked\n",
    "        masked_lm_weights = torch.tensor([0] * max_predictions_per_seq, dtype=torch.bool)\n",
    "        masked_lm_weights[:number_of_tokens_to_be_masked] = True\n",
    "\n",
    "        # Sample from the probabilities\n",
    "        masked_lm_positions = sample_prob.multinomial(max_predictions_per_seq)\n",
    "\n",
    "        # Apply the weights to the positions\n",
    "        masked_lm_positions *= masked_lm_weights.long()\n",
    "\n",
    "        # Gather the IDs from the positions\n",
    "        masked_lm_ids = input_ids.gather(-1, masked_lm_positions)\n",
    "\n",
    "        # Apply weights to the IDs\n",
    "        masked_lm_ids *= masked_lm_weights.long()\n",
    "\n",
    "        replace_with_mask_positions = masked_lm_positions * (torch.rand(masked_lm_positions.shape) < 0.85)\n",
    "\n",
    "        # Replace the input IDs with masks on given positions\n",
    "        masked_input_ids = input_ids.scatter(-1, replace_with_mask_positions, mask_token_id)\n",
    "\n",
    "        # Updates to index 0 should be ignored\n",
    "        masked_input_ids[..., 0] = input_ids[..., 0]\n",
    "\n",
    "        return masked_input_ids, masked_lm_positions\n",
    "\n",
    "    @staticmethod\n",
    "    def gather_positions(\n",
    "            sequence,\n",
    "            positions\n",
    "    ):\n",
    "        batch_size, sequence_length, dimension = sequence.shape\n",
    "        position_shift = (sequence_length * torch.arange(batch_size)).unsqueeze(-1)\n",
    "        flat_positions = torch.reshape(positions + position_shift, [-1]).long()\n",
    "        flat_sequence = torch.reshape(sequence, [batch_size * sequence_length, dimension])\n",
    "        gathered = flat_sequence.index_select(0, flat_positions)\n",
    "        return torch.reshape(gathered, [batch_size, -1, dimension])\n",
    "\n",
    "    def forward(\n",
    "            self,\n",
    "            input_ids=None,\n",
    "            attention_mask=None,\n",
    "            token_type_ids=None,\n",
    "            position_ids=None,\n",
    "            head_mask=None,\n",
    "            inputs_embeds=None,\n",
    "            labels=None\n",
    "    ):\n",
    "        masked_input_ids, masked_lm_positions = self.mask_inputs(\n",
    "            input_ids,  self.tokenizer.mask_token_id, 0.2,\n",
    "            [self.tokenizer.cls_token_id, self.tokenizer.sep_token_id, self.tokenizer.mask_token_id],\n",
    "            30\n",
    "        )\n",
    "\n",
    "        generator_loss, generator_output = self.generator(\n",
    "            masked_input_ids,\n",
    "            attention_mask,\n",
    "            token_type_ids,\n",
    "            position_ids,\n",
    "            head_mask,\n",
    "            position_ids,\n",
    "            labels=labels\n",
    "        )[:2]\n",
    "\n",
    "        fake_logits = self.gather_positions(generator_output, masked_lm_positions)\n",
    "        fake_argmaxes = fake_logits.argmax(-1)\n",
    "        fake_tokens = masked_input_ids.scatter(-1, masked_lm_positions, fake_argmaxes)\n",
    "        fake_tokens[:, 0] = input_ids[:, 0]\n",
    "\n",
    "        # discriminator_output\n",
    "        discriminator_loss, discriminator_output = self.discriminator(\n",
    "            fake_tokens,\n",
    "            attention_mask,\n",
    "            token_type_ids,\n",
    "            position_ids,\n",
    "            head_mask,\n",
    "            position_ids,\n",
    "            labels=labels\n",
    "        )[:2]\n",
    "\n",
    "        discriminator_predictions = torch.round((torch.sign(discriminator_output) + 1) / 2).int().tolist()\n",
    "\n",
    "        total_loss = discriminator_loss + generator_loss\n",
    "        return (\n",
    "            total_loss,\n",
    "            (discriminator_predictions, generator_output),\n",
    "            (fake_tokens, masked_input_ids)\n",
    "        )\n",
    "\n",
    "    def save_pretrained(self, directory):\n",
    "        generator_path = os.path.join(directory, \"generator\")\n",
    "        discriminator_path = os.path.join(directory, \"discriminator\")\n",
    "\n",
    "        if not os.path.exists(generator_path):\n",
    "            os.makedirs(generator_path)\n",
    "\n",
    "        if not os.path.exists(discriminator_path):\n",
    "            os.makedirs(discriminator_path)\n",
    "\n",
    "        self.generator.save_pretrained(generator_path)\n",
    "        self.discriminator.save_pretrained(discriminator_path)"
   ],
   "metadata": {
    "collapsed": false,
    "pycharm": {
     "name": "#%%\n"
    }
   }
  },
  {
   "cell_type": "code",
   "execution_count": 28,
   "outputs": [],
   "source": [
    "generator_config = ElectraConfig(\n",
    "    embedding_size=128,\n",
    "    hidden_size = 256,\n",
    "    intermediate_size = 1024,\n",
    "    max_position_embeddings=seq_length,\n",
    "    num_attention_heads=4,\n",
    "    num_hidden_layers=12,\n",
    "    vocab_size=vocab_size,\n",
    ")\n",
    "\n",
    "discriminator_config = ElectraConfig(\n",
    "    embedding_size=128,\n",
    "    hidden_size=256,\n",
    "    intermediate_size=1024,\n",
    "    max_position_embeddings=seq_length,\n",
    "    num_attention_heads=4,\n",
    "    num_hidden_layers=12,\n",
    "    vocab_size=vocab_size,\n",
    ")"
   ],
   "metadata": {
    "collapsed": false,
    "pycharm": {
     "name": "#%%\n"
    }
   }
  },
  {
   "cell_type": "code",
   "execution_count": 29,
   "outputs": [],
   "source": [
    "generator = ElectraForMaskedLM(config=generator_config)\n",
    "discriminator = ElectraForPreTraining(config=discriminator_config)\n",
    "model = CombinedModel(discriminator, generator, tokenizer)\n",
    "# wandb.watch(model)"
   ],
   "metadata": {
    "collapsed": false,
    "pycharm": {
     "name": "#%%\n"
    }
   }
  },
  {
   "cell_type": "code",
   "execution_count": 32,
   "outputs": [
    {
     "name": "stderr",
     "output_type": "stream",
     "text": [
      "Using custom data configuration default-73d35a8d0d4c2a4e\n"
     ]
    },
    {
     "name": "stdout",
     "output_type": "stream",
     "text": [
      "Downloading and preparing dataset text/default (download: Unknown size, generated: Unknown size, post-processed: Unknown size, total: Unknown size) to ./cache/text/default-73d35a8d0d4c2a4e/0.0.0/44d63bd03e7e554f16131765a251f2d8333a5fe8a73f6ea3de012dbc49443691...\n",
      "Dataset text downloaded and prepared to ./cache/text/default-73d35a8d0d4c2a4e/0.0.0/44d63bd03e7e554f16131765a251f2d8333a5fe8a73f6ea3de012dbc49443691. Subsequent calls will reuse this data.\n"
     ]
    },
    {
     "data": {
      "text/plain": "HBox(children=(FloatProgress(value=1.0, bar_style='info', layout=Layout(width='20px'), max=1.0), HTML(value=''…",
      "application/vnd.jupyter.widget-view+json": {
       "version_major": 2,
       "version_minor": 0,
       "model_id": "d172d7ffed3f471797ceb1e4ef21f027"
      }
     },
     "metadata": {},
     "output_type": "display_data"
    },
    {
     "data": {
      "text/plain": "HBox(children=(FloatProgress(value=1.0, bar_style='info', layout=Layout(width='20px'), max=1.0), HTML(value=''…",
      "application/vnd.jupyter.widget-view+json": {
       "version_major": 2,
       "version_minor": 0,
       "model_id": "ebde4419155a46008abbd8adf812035e"
      }
     },
     "metadata": {},
     "output_type": "display_data"
    }
   ],
   "source": [
    "dataset = load_dataset(\"text\", data_files={\n",
    "    'train': TEST_DS,\n",
    "    # 'train': TRAIN_DS,\n",
    "    # 'test': TEST_DS,\n",
    "    'validate': VALIDATE_DS\n",
    "}, cache_dir='./cache')"
   ],
   "metadata": {
    "collapsed": false,
    "pycharm": {
     "name": "#%%\n"
    }
   }
  },
  {
   "cell_type": "code",
   "execution_count": 33,
   "outputs": [
    {
     "data": {
      "text/plain": "HBox(children=(FloatProgress(value=0.0, max=1198.0), HTML(value='')))",
      "application/vnd.jupyter.widget-view+json": {
       "version_major": 2,
       "version_minor": 0,
       "model_id": "03a5080a09c64cf9b1c47087e4d9a7f8"
      }
     },
     "metadata": {},
     "output_type": "display_data"
    },
    {
     "name": "stdout",
     "output_type": "stream",
     "text": [
      "\n",
      "\n"
     ]
    },
    {
     "data": {
      "text/plain": "HBox(children=(FloatProgress(value=0.0, max=1198.0), HTML(value='')))",
      "application/vnd.jupyter.widget-view+json": {
       "version_major": 2,
       "version_minor": 0,
       "model_id": "64f203e19a8f4fd78908abc4f0f48d2d"
      }
     },
     "metadata": {},
     "output_type": "display_data"
    }
   ],
   "source": [
    "def tokenize_function(examples):\n",
    "    return tokenizer(\n",
    "        examples['text'], truncation=True,\n",
    "        padding=PaddingStrategy.MAX_LENGTH, max_length=seq_length\n",
    "    )\n",
    "\n",
    "tokenized_datasets = dataset.map(tokenize_function, batched=True)"
   ],
   "metadata": {
    "collapsed": false,
    "pycharm": {
     "name": "#%%\n"
    }
   }
  },
  {
   "cell_type": "code",
   "execution_count": 34,
   "outputs": [],
   "source": [
    "data_collator = DataCollatorForLanguageModeling(\n",
    "    tokenizer=tokenizer, mlm=False, mlm_probability=0\n",
    ")"
   ],
   "metadata": {
    "collapsed": false,
    "pycharm": {
     "name": "#%%\n"
    }
   }
  },
  {
   "cell_type": "code",
   "execution_count": 35,
   "outputs": [],
   "source": [
    "arguments = TrainingArguments(\n",
    "    output_dir=model_path,\n",
    "    do_train=True,\n",
    "    evaluation_strategy=EvaluationStrategy.STEPS,\n",
    "    eval_steps = 50000,\n",
    "    prediction_loss_only=True,\n",
    "    learning_rate=lr,\n",
    "    report_to=[\"wandb\"],\n",
    "    load_best_model_at_end=True,\n",
    "    num_train_epochs=20\n",
    ")\n",
    "\n",
    "# Initialize our Trainer\n",
    "trainer = Trainer(\n",
    "    model=model,\n",
    "    data_collator=data_collator,\n",
    "    train_dataset=tokenized_datasets['train'],\n",
    "    eval_dataset=tokenized_datasets['validate'],\n",
    ")"
   ],
   "metadata": {
    "collapsed": false,
    "pycharm": {
     "name": "#%%\n"
    }
   }
  },
  {
   "cell_type": "code",
   "execution_count": 36,
   "outputs": [
    {
     "name": "stderr",
     "output_type": "stream",
     "text": [
      "/dd_volume/Development/Python/BigHead/venv/lib/python3.8/site-packages/transformers/trainer.py:702: FutureWarning: `model_path` is deprecated and will be removed in a future version. Use `resume_from_checkpoint` instead.\n",
      "  warnings.warn(\n",
      "<ipython-input-27-be178ad5df0f>:31: DeprecationWarning: an integer is required (got type float).  Implicit conversion to integers using __int__ is deprecated, and may be removed in a future version of Python.\n",
      "  torch.tensor(total_number_of_tokens * mask_probability, dtype=torch.long)\n"
     ]
    },
    {
     "data": {
      "text/plain": "<IPython.core.display.HTML object>",
      "text/html": "\n                Tracking run with wandb version 0.10.20<br/>\n                Syncing run <strong style=\"color:#cdcd00\">tmp_trainer</strong> to <a href=\"https://wandb.ai\" target=\"_blank\">Weights & Biases</a> <a href=\"https://docs.wandb.com/integrations/jupyter.html\" target=\"_blank\">(Documentation)</a>.<br/>\n                Project page: <a href=\"https://wandb.ai/egordm/huggingface\" target=\"_blank\">https://wandb.ai/egordm/huggingface</a><br/>\n                Run page: <a href=\"https://wandb.ai/egordm/huggingface/runs/610c4rgz\" target=\"_blank\">https://wandb.ai/egordm/huggingface/runs/610c4rgz</a><br/>\n                Run data is saved locally in <code>/dd_volume/Development/Python/BigHead/notebooks/sentiment/wandb/run-20210224_110415-610c4rgz</code><br/><br/>\n            "
     },
     "metadata": {},
     "output_type": "display_data"
    },
    {
     "data": {
      "text/plain": "<IPython.core.display.HTML object>",
      "text/html": "\n    <div>\n        <style>\n            /* Turns off some styling */\n            progress {\n                /* gets rid of default border in Firefox and Opera. */\n                border: none;\n                /* Needs to be in here for Safari polyfill so background images work as expected. */\n                background-size: auto;\n            }\n        </style>\n      \n      <progress value='2' max='448989' style='width:300px; height:20px; vertical-align: middle;'></progress>\n      [     2/448989 : < :, Epoch 0.00/3]\n    </div>\n    <table border=\"1\" class=\"dataframe\">\n  <thead>\n    <tr style=\"text-align: left;\">\n      <th>Step</th>\n      <th>Training Loss</th>\n    </tr>\n  </thead>\n  <tbody>\n  </tbody>\n</table><p>"
     },
     "metadata": {},
     "output_type": "display_data"
    },
    {
     "ename": "KeyboardInterrupt",
     "evalue": "",
     "output_type": "error",
     "traceback": [
      "\u001B[0;31m---------------------------------------------------------------------------\u001B[0m",
      "\u001B[0;31mKeyboardInterrupt\u001B[0m                         Traceback (most recent call last)",
      "\u001B[0;32m<ipython-input-36-bfcb13728ace>\u001B[0m in \u001B[0;36m<module>\u001B[0;34m\u001B[0m\n\u001B[1;32m      1\u001B[0m \u001B[0;31m# Training\u001B[0m\u001B[0;34m\u001B[0m\u001B[0;34m\u001B[0m\u001B[0;34m\u001B[0m\u001B[0m\n\u001B[0;32m----> 2\u001B[0;31m \u001B[0mtrainer\u001B[0m\u001B[0;34m.\u001B[0m\u001B[0mtrain\u001B[0m\u001B[0;34m(\u001B[0m\u001B[0mmodel_path\u001B[0m\u001B[0;34m=\u001B[0m\u001B[0mmodel_path\u001B[0m\u001B[0;34m)\u001B[0m\u001B[0;34m\u001B[0m\u001B[0;34m\u001B[0m\u001B[0m\n\u001B[0m\u001B[1;32m      3\u001B[0m \u001B[0mtrainer\u001B[0m\u001B[0;34m.\u001B[0m\u001B[0msave_model\u001B[0m\u001B[0;34m(\u001B[0m\u001B[0;34m)\u001B[0m\u001B[0;34m\u001B[0m\u001B[0;34m\u001B[0m\u001B[0m\n\u001B[1;32m      4\u001B[0m \u001B[0;34m\u001B[0m\u001B[0m\n",
      "\u001B[0;32m/dd_volume/Development/Python/BigHead/venv/lib/python3.8/site-packages/transformers/trainer.py\u001B[0m in \u001B[0;36mtrain\u001B[0;34m(self, resume_from_checkpoint, trial, **kwargs)\u001B[0m\n\u001B[1;32m    938\u001B[0m                         \u001B[0mtr_loss\u001B[0m \u001B[0;34m+=\u001B[0m \u001B[0mself\u001B[0m\u001B[0;34m.\u001B[0m\u001B[0mtraining_step\u001B[0m\u001B[0;34m(\u001B[0m\u001B[0mmodel\u001B[0m\u001B[0;34m,\u001B[0m \u001B[0minputs\u001B[0m\u001B[0;34m)\u001B[0m\u001B[0;34m\u001B[0m\u001B[0;34m\u001B[0m\u001B[0m\n\u001B[1;32m    939\u001B[0m                 \u001B[0;32melse\u001B[0m\u001B[0;34m:\u001B[0m\u001B[0;34m\u001B[0m\u001B[0;34m\u001B[0m\u001B[0m\n\u001B[0;32m--> 940\u001B[0;31m                     \u001B[0mtr_loss\u001B[0m \u001B[0;34m+=\u001B[0m \u001B[0mself\u001B[0m\u001B[0;34m.\u001B[0m\u001B[0mtraining_step\u001B[0m\u001B[0;34m(\u001B[0m\u001B[0mmodel\u001B[0m\u001B[0;34m,\u001B[0m \u001B[0minputs\u001B[0m\u001B[0;34m)\u001B[0m\u001B[0;34m\u001B[0m\u001B[0;34m\u001B[0m\u001B[0m\n\u001B[0m\u001B[1;32m    941\u001B[0m                 \u001B[0mself\u001B[0m\u001B[0;34m.\u001B[0m\u001B[0m_total_flos\u001B[0m \u001B[0;34m+=\u001B[0m \u001B[0mself\u001B[0m\u001B[0;34m.\u001B[0m\u001B[0mfloating_point_ops\u001B[0m\u001B[0;34m(\u001B[0m\u001B[0minputs\u001B[0m\u001B[0;34m)\u001B[0m\u001B[0;34m\u001B[0m\u001B[0;34m\u001B[0m\u001B[0m\n\u001B[1;32m    942\u001B[0m \u001B[0;34m\u001B[0m\u001B[0m\n",
      "\u001B[0;32m/dd_volume/Development/Python/BigHead/venv/lib/python3.8/site-packages/transformers/trainer.py\u001B[0m in \u001B[0;36mtraining_step\u001B[0;34m(self, model, inputs)\u001B[0m\n\u001B[1;32m   1318\u001B[0m             \u001B[0mself\u001B[0m\u001B[0;34m.\u001B[0m\u001B[0mdeepspeed\u001B[0m\u001B[0;34m.\u001B[0m\u001B[0mbackward\u001B[0m\u001B[0;34m(\u001B[0m\u001B[0mloss\u001B[0m\u001B[0;34m)\u001B[0m\u001B[0;34m\u001B[0m\u001B[0;34m\u001B[0m\u001B[0m\n\u001B[1;32m   1319\u001B[0m         \u001B[0;32melse\u001B[0m\u001B[0;34m:\u001B[0m\u001B[0;34m\u001B[0m\u001B[0;34m\u001B[0m\u001B[0m\n\u001B[0;32m-> 1320\u001B[0;31m             \u001B[0mloss\u001B[0m\u001B[0;34m.\u001B[0m\u001B[0mbackward\u001B[0m\u001B[0;34m(\u001B[0m\u001B[0;34m)\u001B[0m\u001B[0;34m\u001B[0m\u001B[0;34m\u001B[0m\u001B[0m\n\u001B[0m\u001B[1;32m   1321\u001B[0m \u001B[0;34m\u001B[0m\u001B[0m\n\u001B[1;32m   1322\u001B[0m         \u001B[0;32mreturn\u001B[0m \u001B[0mloss\u001B[0m\u001B[0;34m.\u001B[0m\u001B[0mdetach\u001B[0m\u001B[0;34m(\u001B[0m\u001B[0;34m)\u001B[0m\u001B[0;34m\u001B[0m\u001B[0;34m\u001B[0m\u001B[0m\n",
      "\u001B[0;32m/dd_volume/Development/Python/BigHead/venv/lib/python3.8/site-packages/torch/tensor.py\u001B[0m in \u001B[0;36mbackward\u001B[0;34m(self, gradient, retain_graph, create_graph)\u001B[0m\n\u001B[1;32m    219\u001B[0m                 \u001B[0mretain_graph\u001B[0m\u001B[0;34m=\u001B[0m\u001B[0mretain_graph\u001B[0m\u001B[0;34m,\u001B[0m\u001B[0;34m\u001B[0m\u001B[0;34m\u001B[0m\u001B[0m\n\u001B[1;32m    220\u001B[0m                 create_graph=create_graph)\n\u001B[0;32m--> 221\u001B[0;31m         \u001B[0mtorch\u001B[0m\u001B[0;34m.\u001B[0m\u001B[0mautograd\u001B[0m\u001B[0;34m.\u001B[0m\u001B[0mbackward\u001B[0m\u001B[0;34m(\u001B[0m\u001B[0mself\u001B[0m\u001B[0;34m,\u001B[0m \u001B[0mgradient\u001B[0m\u001B[0;34m,\u001B[0m \u001B[0mretain_graph\u001B[0m\u001B[0;34m,\u001B[0m \u001B[0mcreate_graph\u001B[0m\u001B[0;34m)\u001B[0m\u001B[0;34m\u001B[0m\u001B[0;34m\u001B[0m\u001B[0m\n\u001B[0m\u001B[1;32m    222\u001B[0m \u001B[0;34m\u001B[0m\u001B[0m\n\u001B[1;32m    223\u001B[0m     \u001B[0;32mdef\u001B[0m \u001B[0mregister_hook\u001B[0m\u001B[0;34m(\u001B[0m\u001B[0mself\u001B[0m\u001B[0;34m,\u001B[0m \u001B[0mhook\u001B[0m\u001B[0;34m)\u001B[0m\u001B[0;34m:\u001B[0m\u001B[0;34m\u001B[0m\u001B[0;34m\u001B[0m\u001B[0m\n",
      "\u001B[0;32m/dd_volume/Development/Python/BigHead/venv/lib/python3.8/site-packages/torch/autograd/__init__.py\u001B[0m in \u001B[0;36mbackward\u001B[0;34m(tensors, grad_tensors, retain_graph, create_graph, grad_variables)\u001B[0m\n\u001B[1;32m    128\u001B[0m         \u001B[0mretain_graph\u001B[0m \u001B[0;34m=\u001B[0m \u001B[0mcreate_graph\u001B[0m\u001B[0;34m\u001B[0m\u001B[0;34m\u001B[0m\u001B[0m\n\u001B[1;32m    129\u001B[0m \u001B[0;34m\u001B[0m\u001B[0m\n\u001B[0;32m--> 130\u001B[0;31m     Variable._execution_engine.run_backward(\n\u001B[0m\u001B[1;32m    131\u001B[0m         \u001B[0mtensors\u001B[0m\u001B[0;34m,\u001B[0m \u001B[0mgrad_tensors_\u001B[0m\u001B[0;34m,\u001B[0m \u001B[0mretain_graph\u001B[0m\u001B[0;34m,\u001B[0m \u001B[0mcreate_graph\u001B[0m\u001B[0;34m,\u001B[0m\u001B[0;34m\u001B[0m\u001B[0;34m\u001B[0m\u001B[0m\n\u001B[1;32m    132\u001B[0m         allow_unreachable=True)  # allow_unreachable flag\n",
      "\u001B[0;32m/dd_volume/Development/Python/BigHead/venv/lib/python3.8/site-packages/wandb/wandb_torch.py\u001B[0m in \u001B[0;36m<lambda>\u001B[0;34m(grad)\u001B[0m\n\u001B[1;32m    283\u001B[0m             \u001B[0mself\u001B[0m\u001B[0;34m.\u001B[0m\u001B[0mlog_tensor_stats\u001B[0m\u001B[0;34m(\u001B[0m\u001B[0mgrad\u001B[0m\u001B[0;34m.\u001B[0m\u001B[0mdata\u001B[0m\u001B[0;34m,\u001B[0m \u001B[0mname\u001B[0m\u001B[0;34m)\u001B[0m\u001B[0;34m\u001B[0m\u001B[0;34m\u001B[0m\u001B[0m\n\u001B[1;32m    284\u001B[0m \u001B[0;34m\u001B[0m\u001B[0m\n\u001B[0;32m--> 285\u001B[0;31m         \u001B[0mhandle\u001B[0m \u001B[0;34m=\u001B[0m \u001B[0mvar\u001B[0m\u001B[0;34m.\u001B[0m\u001B[0mregister_hook\u001B[0m\u001B[0;34m(\u001B[0m\u001B[0;32mlambda\u001B[0m \u001B[0mgrad\u001B[0m\u001B[0;34m:\u001B[0m \u001B[0m_callback\u001B[0m\u001B[0;34m(\u001B[0m\u001B[0mgrad\u001B[0m\u001B[0;34m,\u001B[0m \u001B[0mlog_track\u001B[0m\u001B[0;34m)\u001B[0m\u001B[0;34m)\u001B[0m\u001B[0;34m\u001B[0m\u001B[0;34m\u001B[0m\u001B[0m\n\u001B[0m\u001B[1;32m    286\u001B[0m         \u001B[0mself\u001B[0m\u001B[0;34m.\u001B[0m\u001B[0m_hook_handles\u001B[0m\u001B[0;34m[\u001B[0m\u001B[0mname\u001B[0m\u001B[0;34m]\u001B[0m \u001B[0;34m=\u001B[0m \u001B[0mhandle\u001B[0m\u001B[0;34m\u001B[0m\u001B[0;34m\u001B[0m\u001B[0m\n\u001B[1;32m    287\u001B[0m         \u001B[0;32mreturn\u001B[0m \u001B[0mhandle\u001B[0m\u001B[0;34m\u001B[0m\u001B[0;34m\u001B[0m\u001B[0m\n",
      "\u001B[0;31mKeyboardInterrupt\u001B[0m: "
     ]
    }
   ],
   "source": [
    "# Training\n",
    "trainer.train(model_path=model_path)\n",
    "trainer.save_model()"
   ],
   "metadata": {
    "collapsed": false,
    "pycharm": {
     "name": "#%%\n"
    }
   }
  },
  {
   "cell_type": "code",
   "execution_count": null,
   "outputs": [],
   "source": [
    "# Evaluation\n",
    "results = {}\n",
    "print(\"*** Evaluate ***\")\n",
    "\n",
    "eval_output = trainer.evaluate()\n",
    "\n",
    "perplexity = math.exp(eval_output[\"loss\"])\n",
    "result = {\"perplexity\": perplexity}\n",
    "\n",
    "output_eval_file = \"eval_results_lm.txt\"\n",
    "with open(output_eval_file, \"w\") as writer:\n",
    "    print(\"***** Eval results *****\")\n",
    "    for key in sorted(result.keys()):\n",
    "        print(\"  %s = %s\", key, str(result[key]))\n",
    "        writer.write(\"%s = %s\\n\" % (key, str(result[key])))\n",
    "\n",
    "results.update(result)"
   ],
   "metadata": {
    "collapsed": false,
    "pycharm": {
     "name": "#%%\n"
    }
   }
  },
  {
   "cell_type": "code",
   "execution_count": null,
   "outputs": [],
   "source": [],
   "metadata": {
    "collapsed": false,
    "pycharm": {
     "name": "#%%\n"
    }
   }
  }
 ],
 "metadata": {
  "kernelspec": {
   "display_name": "Python 3",
   "language": "python",
   "name": "python3"
  },
  "language_info": {
   "codemirror_mode": {
    "name": "ipython",
    "version": 2
   },
   "file_extension": ".py",
   "mimetype": "text/x-python",
   "name": "python",
   "nbconvert_exporter": "python",
   "pygments_lexer": "ipython2",
   "version": "2.7.6"
  }
 },
 "nbformat": 4,
 "nbformat_minor": 0
}