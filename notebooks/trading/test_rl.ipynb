{
 "cells": [
  {
   "cell_type": "code",
   "execution_count": 2,
   "metadata": {
    "collapsed": true
   },
   "outputs": [],
   "source": [
    "import pandas as pd\n",
    "import tensortrade.env.default as default\n",
    "\n",
    "from tensortrade.data.cdd import CryptoDataDownload\n",
    "from tensortrade.feed.core import Stream, DataFeed\n",
    "from tensortrade.oms.exchanges import Exchange\n",
    "from tensortrade.oms.services.execution.simulated import execute_order\n",
    "from tensortrade.oms.instruments import USD, BTC, ETH\n",
    "from tensortrade.oms.wallets import Wallet, Portfolio\n",
    "from tensortrade.agents import DQNAgent"
   ]
  },
  {
   "cell_type": "code",
   "execution_count": 3,
   "outputs": [
    {
     "ename": "HTTPError",
     "evalue": "HTTP Error 404: Not Found",
     "output_type": "error",
     "traceback": [
      "\u001B[0;31m---------------------------------------------------------------------------\u001B[0m",
      "\u001B[0;31mHTTPError\u001B[0m                                 Traceback (most recent call last)",
      "\u001B[0;32m<ipython-input-3-6f198f020f9a>\u001B[0m in \u001B[0;36m<module>\u001B[0;34m\u001B[0m\n\u001B[1;32m      1\u001B[0m \u001B[0mcdd\u001B[0m \u001B[0;34m=\u001B[0m \u001B[0mCryptoDataDownload\u001B[0m\u001B[0;34m(\u001B[0m\u001B[0;34m)\u001B[0m\u001B[0;34m\u001B[0m\u001B[0;34m\u001B[0m\u001B[0m\n\u001B[0;32m----> 2\u001B[0;31m \u001B[0mdata\u001B[0m \u001B[0;34m=\u001B[0m \u001B[0mcdd\u001B[0m\u001B[0;34m.\u001B[0m\u001B[0mfetch\u001B[0m\u001B[0;34m(\u001B[0m\u001B[0;34m\"Bitstamp\"\u001B[0m\u001B[0;34m,\u001B[0m \u001B[0;34m\"USD\"\u001B[0m\u001B[0;34m,\u001B[0m \u001B[0;34m\"BTC\"\u001B[0m\u001B[0;34m,\u001B[0m \u001B[0;34m\"5m\"\u001B[0m\u001B[0;34m)\u001B[0m\u001B[0;34m\u001B[0m\u001B[0;34m\u001B[0m\u001B[0m\n\u001B[0m\u001B[1;32m      3\u001B[0m \u001B[0mdata\u001B[0m\u001B[0;34m.\u001B[0m\u001B[0mtail\u001B[0m\u001B[0;34m(\u001B[0m\u001B[0;34m)\u001B[0m\u001B[0;34m\u001B[0m\u001B[0;34m\u001B[0m\u001B[0m\n\u001B[1;32m      4\u001B[0m \u001B[0;34m\u001B[0m\u001B[0m\n",
      "\u001B[0;32m/dd_volume/Development/Python/BigHead/venv/lib/python3.8/site-packages/tensortrade/data/cdd.py\u001B[0m in \u001B[0;36mfetch\u001B[0;34m(self, exchange_name, base_symbol, quote_symbol, timeframe, include_all_volumes)\u001B[0m\n\u001B[1;32m    145\u001B[0m         \u001B[0;32mif\u001B[0m \u001B[0mexchange_name\u001B[0m\u001B[0;34m.\u001B[0m\u001B[0mlower\u001B[0m\u001B[0;34m(\u001B[0m\u001B[0;34m)\u001B[0m \u001B[0;34m==\u001B[0m \u001B[0;34m\"gemini\"\u001B[0m\u001B[0;34m:\u001B[0m\u001B[0;34m\u001B[0m\u001B[0;34m\u001B[0m\u001B[0m\n\u001B[1;32m    146\u001B[0m             \u001B[0;32mreturn\u001B[0m \u001B[0mself\u001B[0m\u001B[0;34m.\u001B[0m\u001B[0mfetch_gemini\u001B[0m\u001B[0;34m(\u001B[0m\u001B[0mbase_symbol\u001B[0m\u001B[0;34m,\u001B[0m \u001B[0mquote_symbol\u001B[0m\u001B[0;34m,\u001B[0m \u001B[0mtimeframe\u001B[0m\u001B[0;34m)\u001B[0m\u001B[0;34m\u001B[0m\u001B[0;34m\u001B[0m\u001B[0m\n\u001B[0;32m--> 147\u001B[0;31m         return self.fetch_default(exchange_name,\n\u001B[0m\u001B[1;32m    148\u001B[0m                                   \u001B[0mbase_symbol\u001B[0m\u001B[0;34m,\u001B[0m\u001B[0;34m\u001B[0m\u001B[0;34m\u001B[0m\u001B[0m\n\u001B[1;32m    149\u001B[0m                                   \u001B[0mquote_symbol\u001B[0m\u001B[0;34m,\u001B[0m\u001B[0;34m\u001B[0m\u001B[0;34m\u001B[0m\u001B[0m\n",
      "\u001B[0;32m/dd_volume/Development/Python/BigHead/venv/lib/python3.8/site-packages/tensortrade/data/cdd.py\u001B[0m in \u001B[0;36mfetch_default\u001B[0;34m(self, exchange_name, base_symbol, quote_symbol, timeframe, include_all_volumes)\u001B[0m\n\u001B[1;32m     64\u001B[0m         \u001B[0mnew_quote_vc\u001B[0m \u001B[0;34m=\u001B[0m \u001B[0;34m\"volume_quote\"\u001B[0m\u001B[0;34m\u001B[0m\u001B[0;34m\u001B[0m\u001B[0m\n\u001B[1;32m     65\u001B[0m \u001B[0;34m\u001B[0m\u001B[0m\n\u001B[0;32m---> 66\u001B[0;31m         \u001B[0mdf\u001B[0m \u001B[0;34m=\u001B[0m \u001B[0mpd\u001B[0m\u001B[0;34m.\u001B[0m\u001B[0mread_csv\u001B[0m\u001B[0;34m(\u001B[0m\u001B[0mself\u001B[0m\u001B[0;34m.\u001B[0m\u001B[0murl\u001B[0m \u001B[0;34m+\u001B[0m \u001B[0mfilename\u001B[0m\u001B[0;34m,\u001B[0m \u001B[0mskiprows\u001B[0m\u001B[0;34m=\u001B[0m\u001B[0;36m1\u001B[0m\u001B[0;34m)\u001B[0m\u001B[0;34m\u001B[0m\u001B[0;34m\u001B[0m\u001B[0m\n\u001B[0m\u001B[1;32m     67\u001B[0m         \u001B[0mdf\u001B[0m \u001B[0;34m=\u001B[0m \u001B[0mdf\u001B[0m\u001B[0;34m[\u001B[0m\u001B[0;34m:\u001B[0m\u001B[0;34m:\u001B[0m\u001B[0;34m-\u001B[0m\u001B[0;36m1\u001B[0m\u001B[0;34m]\u001B[0m\u001B[0;34m\u001B[0m\u001B[0;34m\u001B[0m\u001B[0m\n\u001B[1;32m     68\u001B[0m         \u001B[0mdf\u001B[0m \u001B[0;34m=\u001B[0m \u001B[0mdf\u001B[0m\u001B[0;34m.\u001B[0m\u001B[0mdrop\u001B[0m\u001B[0;34m(\u001B[0m\u001B[0;34m[\u001B[0m\u001B[0;34m\"symbol\"\u001B[0m\u001B[0;34m]\u001B[0m\u001B[0;34m,\u001B[0m \u001B[0maxis\u001B[0m\u001B[0;34m=\u001B[0m\u001B[0;36m1\u001B[0m\u001B[0;34m)\u001B[0m\u001B[0;34m\u001B[0m\u001B[0;34m\u001B[0m\u001B[0m\n",
      "\u001B[0;32m/dd_volume/Development/Python/BigHead/venv/lib/python3.8/site-packages/pandas/io/parsers.py\u001B[0m in \u001B[0;36mread_csv\u001B[0;34m(filepath_or_buffer, sep, delimiter, header, names, index_col, usecols, squeeze, prefix, mangle_dupe_cols, dtype, engine, converters, true_values, false_values, skipinitialspace, skiprows, skipfooter, nrows, na_values, keep_default_na, na_filter, verbose, skip_blank_lines, parse_dates, infer_datetime_format, keep_date_col, date_parser, dayfirst, cache_dates, iterator, chunksize, compression, thousands, decimal, lineterminator, quotechar, quoting, doublequote, escapechar, comment, encoding, dialect, error_bad_lines, warn_bad_lines, delim_whitespace, low_memory, memory_map, float_precision, storage_options)\u001B[0m\n\u001B[1;32m    608\u001B[0m     \u001B[0mkwds\u001B[0m\u001B[0;34m.\u001B[0m\u001B[0mupdate\u001B[0m\u001B[0;34m(\u001B[0m\u001B[0mkwds_defaults\u001B[0m\u001B[0;34m)\u001B[0m\u001B[0;34m\u001B[0m\u001B[0;34m\u001B[0m\u001B[0m\n\u001B[1;32m    609\u001B[0m \u001B[0;34m\u001B[0m\u001B[0m\n\u001B[0;32m--> 610\u001B[0;31m     \u001B[0;32mreturn\u001B[0m \u001B[0m_read\u001B[0m\u001B[0;34m(\u001B[0m\u001B[0mfilepath_or_buffer\u001B[0m\u001B[0;34m,\u001B[0m \u001B[0mkwds\u001B[0m\u001B[0;34m)\u001B[0m\u001B[0;34m\u001B[0m\u001B[0;34m\u001B[0m\u001B[0m\n\u001B[0m\u001B[1;32m    611\u001B[0m \u001B[0;34m\u001B[0m\u001B[0m\n\u001B[1;32m    612\u001B[0m \u001B[0;34m\u001B[0m\u001B[0m\n",
      "\u001B[0;32m/dd_volume/Development/Python/BigHead/venv/lib/python3.8/site-packages/pandas/io/parsers.py\u001B[0m in \u001B[0;36m_read\u001B[0;34m(filepath_or_buffer, kwds)\u001B[0m\n\u001B[1;32m    460\u001B[0m \u001B[0;34m\u001B[0m\u001B[0m\n\u001B[1;32m    461\u001B[0m     \u001B[0;31m# Create the parser.\u001B[0m\u001B[0;34m\u001B[0m\u001B[0;34m\u001B[0m\u001B[0;34m\u001B[0m\u001B[0m\n\u001B[0;32m--> 462\u001B[0;31m     \u001B[0mparser\u001B[0m \u001B[0;34m=\u001B[0m \u001B[0mTextFileReader\u001B[0m\u001B[0;34m(\u001B[0m\u001B[0mfilepath_or_buffer\u001B[0m\u001B[0;34m,\u001B[0m \u001B[0;34m**\u001B[0m\u001B[0mkwds\u001B[0m\u001B[0;34m)\u001B[0m\u001B[0;34m\u001B[0m\u001B[0;34m\u001B[0m\u001B[0m\n\u001B[0m\u001B[1;32m    463\u001B[0m \u001B[0;34m\u001B[0m\u001B[0m\n\u001B[1;32m    464\u001B[0m     \u001B[0;32mif\u001B[0m \u001B[0mchunksize\u001B[0m \u001B[0;32mor\u001B[0m \u001B[0miterator\u001B[0m\u001B[0;34m:\u001B[0m\u001B[0;34m\u001B[0m\u001B[0;34m\u001B[0m\u001B[0m\n",
      "\u001B[0;32m/dd_volume/Development/Python/BigHead/venv/lib/python3.8/site-packages/pandas/io/parsers.py\u001B[0m in \u001B[0;36m__init__\u001B[0;34m(self, f, engine, **kwds)\u001B[0m\n\u001B[1;32m    817\u001B[0m             \u001B[0mself\u001B[0m\u001B[0;34m.\u001B[0m\u001B[0moptions\u001B[0m\u001B[0;34m[\u001B[0m\u001B[0;34m\"has_index_names\"\u001B[0m\u001B[0;34m]\u001B[0m \u001B[0;34m=\u001B[0m \u001B[0mkwds\u001B[0m\u001B[0;34m[\u001B[0m\u001B[0;34m\"has_index_names\"\u001B[0m\u001B[0;34m]\u001B[0m\u001B[0;34m\u001B[0m\u001B[0;34m\u001B[0m\u001B[0m\n\u001B[1;32m    818\u001B[0m \u001B[0;34m\u001B[0m\u001B[0m\n\u001B[0;32m--> 819\u001B[0;31m         \u001B[0mself\u001B[0m\u001B[0;34m.\u001B[0m\u001B[0m_engine\u001B[0m \u001B[0;34m=\u001B[0m \u001B[0mself\u001B[0m\u001B[0;34m.\u001B[0m\u001B[0m_make_engine\u001B[0m\u001B[0;34m(\u001B[0m\u001B[0mself\u001B[0m\u001B[0;34m.\u001B[0m\u001B[0mengine\u001B[0m\u001B[0;34m)\u001B[0m\u001B[0;34m\u001B[0m\u001B[0;34m\u001B[0m\u001B[0m\n\u001B[0m\u001B[1;32m    820\u001B[0m \u001B[0;34m\u001B[0m\u001B[0m\n\u001B[1;32m    821\u001B[0m     \u001B[0;32mdef\u001B[0m \u001B[0mclose\u001B[0m\u001B[0;34m(\u001B[0m\u001B[0mself\u001B[0m\u001B[0;34m)\u001B[0m\u001B[0;34m:\u001B[0m\u001B[0;34m\u001B[0m\u001B[0;34m\u001B[0m\u001B[0m\n",
      "\u001B[0;32m/dd_volume/Development/Python/BigHead/venv/lib/python3.8/site-packages/pandas/io/parsers.py\u001B[0m in \u001B[0;36m_make_engine\u001B[0;34m(self, engine)\u001B[0m\n\u001B[1;32m   1048\u001B[0m             )\n\u001B[1;32m   1049\u001B[0m         \u001B[0;31m# error: Too many arguments for \"ParserBase\"\u001B[0m\u001B[0;34m\u001B[0m\u001B[0;34m\u001B[0m\u001B[0;34m\u001B[0m\u001B[0m\n\u001B[0;32m-> 1050\u001B[0;31m         \u001B[0;32mreturn\u001B[0m \u001B[0mmapping\u001B[0m\u001B[0;34m[\u001B[0m\u001B[0mengine\u001B[0m\u001B[0;34m]\u001B[0m\u001B[0;34m(\u001B[0m\u001B[0mself\u001B[0m\u001B[0;34m.\u001B[0m\u001B[0mf\u001B[0m\u001B[0;34m,\u001B[0m \u001B[0;34m**\u001B[0m\u001B[0mself\u001B[0m\u001B[0;34m.\u001B[0m\u001B[0moptions\u001B[0m\u001B[0;34m)\u001B[0m  \u001B[0;31m# type: ignore[call-arg]\u001B[0m\u001B[0;34m\u001B[0m\u001B[0;34m\u001B[0m\u001B[0m\n\u001B[0m\u001B[1;32m   1051\u001B[0m \u001B[0;34m\u001B[0m\u001B[0m\n\u001B[1;32m   1052\u001B[0m     \u001B[0;32mdef\u001B[0m \u001B[0m_failover_to_python\u001B[0m\u001B[0;34m(\u001B[0m\u001B[0mself\u001B[0m\u001B[0;34m)\u001B[0m\u001B[0;34m:\u001B[0m\u001B[0;34m\u001B[0m\u001B[0;34m\u001B[0m\u001B[0m\n",
      "\u001B[0;32m/dd_volume/Development/Python/BigHead/venv/lib/python3.8/site-packages/pandas/io/parsers.py\u001B[0m in \u001B[0;36m__init__\u001B[0;34m(self, src, **kwds)\u001B[0m\n\u001B[1;32m   1865\u001B[0m \u001B[0;34m\u001B[0m\u001B[0m\n\u001B[1;32m   1866\u001B[0m         \u001B[0;31m# open handles\u001B[0m\u001B[0;34m\u001B[0m\u001B[0;34m\u001B[0m\u001B[0;34m\u001B[0m\u001B[0m\n\u001B[0;32m-> 1867\u001B[0;31m         \u001B[0mself\u001B[0m\u001B[0;34m.\u001B[0m\u001B[0m_open_handles\u001B[0m\u001B[0;34m(\u001B[0m\u001B[0msrc\u001B[0m\u001B[0;34m,\u001B[0m \u001B[0mkwds\u001B[0m\u001B[0;34m)\u001B[0m\u001B[0;34m\u001B[0m\u001B[0;34m\u001B[0m\u001B[0m\n\u001B[0m\u001B[1;32m   1868\u001B[0m         \u001B[0;32massert\u001B[0m \u001B[0mself\u001B[0m\u001B[0;34m.\u001B[0m\u001B[0mhandles\u001B[0m \u001B[0;32mis\u001B[0m \u001B[0;32mnot\u001B[0m \u001B[0;32mNone\u001B[0m\u001B[0;34m\u001B[0m\u001B[0;34m\u001B[0m\u001B[0m\n\u001B[1;32m   1869\u001B[0m         \u001B[0;32mfor\u001B[0m \u001B[0mkey\u001B[0m \u001B[0;32min\u001B[0m \u001B[0;34m(\u001B[0m\u001B[0;34m\"storage_options\"\u001B[0m\u001B[0;34m,\u001B[0m \u001B[0;34m\"encoding\"\u001B[0m\u001B[0;34m,\u001B[0m \u001B[0;34m\"memory_map\"\u001B[0m\u001B[0;34m,\u001B[0m \u001B[0;34m\"compression\"\u001B[0m\u001B[0;34m)\u001B[0m\u001B[0;34m:\u001B[0m\u001B[0;34m\u001B[0m\u001B[0;34m\u001B[0m\u001B[0m\n",
      "\u001B[0;32m/dd_volume/Development/Python/BigHead/venv/lib/python3.8/site-packages/pandas/io/parsers.py\u001B[0m in \u001B[0;36m_open_handles\u001B[0;34m(self, src, kwds)\u001B[0m\n\u001B[1;32m   1360\u001B[0m         \u001B[0mLet\u001B[0m \u001B[0mthe\u001B[0m \u001B[0mreaders\u001B[0m \u001B[0mopen\u001B[0m \u001B[0mIOHanldes\u001B[0m \u001B[0mafter\u001B[0m \u001B[0mthey\u001B[0m \u001B[0mare\u001B[0m \u001B[0mdone\u001B[0m \u001B[0;32mwith\u001B[0m \u001B[0mtheir\u001B[0m \u001B[0mpotential\u001B[0m \u001B[0mraises\u001B[0m\u001B[0;34m.\u001B[0m\u001B[0;34m\u001B[0m\u001B[0;34m\u001B[0m\u001B[0m\n\u001B[1;32m   1361\u001B[0m         \"\"\"\n\u001B[0;32m-> 1362\u001B[0;31m         self.handles = get_handle(\n\u001B[0m\u001B[1;32m   1363\u001B[0m             \u001B[0msrc\u001B[0m\u001B[0;34m,\u001B[0m\u001B[0;34m\u001B[0m\u001B[0;34m\u001B[0m\u001B[0m\n\u001B[1;32m   1364\u001B[0m             \u001B[0;34m\"r\"\u001B[0m\u001B[0;34m,\u001B[0m\u001B[0;34m\u001B[0m\u001B[0;34m\u001B[0m\u001B[0m\n",
      "\u001B[0;32m/dd_volume/Development/Python/BigHead/venv/lib/python3.8/site-packages/pandas/io/common.py\u001B[0m in \u001B[0;36mget_handle\u001B[0;34m(path_or_buf, mode, encoding, compression, memory_map, is_text, errors, storage_options)\u001B[0m\n\u001B[1;32m    556\u001B[0m \u001B[0;34m\u001B[0m\u001B[0m\n\u001B[1;32m    557\u001B[0m     \u001B[0;31m# open URLs\u001B[0m\u001B[0;34m\u001B[0m\u001B[0;34m\u001B[0m\u001B[0;34m\u001B[0m\u001B[0m\n\u001B[0;32m--> 558\u001B[0;31m     ioargs = _get_filepath_or_buffer(\n\u001B[0m\u001B[1;32m    559\u001B[0m         \u001B[0mpath_or_buf\u001B[0m\u001B[0;34m,\u001B[0m\u001B[0;34m\u001B[0m\u001B[0;34m\u001B[0m\u001B[0m\n\u001B[1;32m    560\u001B[0m         \u001B[0mencoding\u001B[0m\u001B[0;34m=\u001B[0m\u001B[0mencoding\u001B[0m\u001B[0;34m,\u001B[0m\u001B[0;34m\u001B[0m\u001B[0;34m\u001B[0m\u001B[0m\n",
      "\u001B[0;32m/dd_volume/Development/Python/BigHead/venv/lib/python3.8/site-packages/pandas/io/common.py\u001B[0m in \u001B[0;36m_get_filepath_or_buffer\u001B[0;34m(filepath_or_buffer, encoding, compression, mode, storage_options)\u001B[0m\n\u001B[1;32m    287\u001B[0m                 \u001B[0;34m\"storage_options passed with file object or non-fsspec file path\"\u001B[0m\u001B[0;34m\u001B[0m\u001B[0;34m\u001B[0m\u001B[0m\n\u001B[1;32m    288\u001B[0m             )\n\u001B[0;32m--> 289\u001B[0;31m         \u001B[0mreq\u001B[0m \u001B[0;34m=\u001B[0m \u001B[0murlopen\u001B[0m\u001B[0;34m(\u001B[0m\u001B[0mfilepath_or_buffer\u001B[0m\u001B[0;34m)\u001B[0m\u001B[0;34m\u001B[0m\u001B[0;34m\u001B[0m\u001B[0m\n\u001B[0m\u001B[1;32m    290\u001B[0m         \u001B[0mcontent_encoding\u001B[0m \u001B[0;34m=\u001B[0m \u001B[0mreq\u001B[0m\u001B[0;34m.\u001B[0m\u001B[0mheaders\u001B[0m\u001B[0;34m.\u001B[0m\u001B[0mget\u001B[0m\u001B[0;34m(\u001B[0m\u001B[0;34m\"Content-Encoding\"\u001B[0m\u001B[0;34m,\u001B[0m \u001B[0;32mNone\u001B[0m\u001B[0;34m)\u001B[0m\u001B[0;34m\u001B[0m\u001B[0;34m\u001B[0m\u001B[0m\n\u001B[1;32m    291\u001B[0m         \u001B[0;32mif\u001B[0m \u001B[0mcontent_encoding\u001B[0m \u001B[0;34m==\u001B[0m \u001B[0;34m\"gzip\"\u001B[0m\u001B[0;34m:\u001B[0m\u001B[0;34m\u001B[0m\u001B[0;34m\u001B[0m\u001B[0m\n",
      "\u001B[0;32m/dd_volume/Development/Python/BigHead/venv/lib/python3.8/site-packages/pandas/io/common.py\u001B[0m in \u001B[0;36murlopen\u001B[0;34m(*args, **kwargs)\u001B[0m\n\u001B[1;32m    193\u001B[0m     \u001B[0;32mimport\u001B[0m \u001B[0murllib\u001B[0m\u001B[0;34m.\u001B[0m\u001B[0mrequest\u001B[0m\u001B[0;34m\u001B[0m\u001B[0;34m\u001B[0m\u001B[0m\n\u001B[1;32m    194\u001B[0m \u001B[0;34m\u001B[0m\u001B[0m\n\u001B[0;32m--> 195\u001B[0;31m     \u001B[0;32mreturn\u001B[0m \u001B[0murllib\u001B[0m\u001B[0;34m.\u001B[0m\u001B[0mrequest\u001B[0m\u001B[0;34m.\u001B[0m\u001B[0murlopen\u001B[0m\u001B[0;34m(\u001B[0m\u001B[0;34m*\u001B[0m\u001B[0margs\u001B[0m\u001B[0;34m,\u001B[0m \u001B[0;34m**\u001B[0m\u001B[0mkwargs\u001B[0m\u001B[0;34m)\u001B[0m\u001B[0;34m\u001B[0m\u001B[0;34m\u001B[0m\u001B[0m\n\u001B[0m\u001B[1;32m    196\u001B[0m \u001B[0;34m\u001B[0m\u001B[0m\n\u001B[1;32m    197\u001B[0m \u001B[0;34m\u001B[0m\u001B[0m\n",
      "\u001B[0;32m~/programs/anaconda/lib/python3.8/urllib/request.py\u001B[0m in \u001B[0;36murlopen\u001B[0;34m(url, data, timeout, cafile, capath, cadefault, context)\u001B[0m\n\u001B[1;32m    220\u001B[0m     \u001B[0;32melse\u001B[0m\u001B[0;34m:\u001B[0m\u001B[0;34m\u001B[0m\u001B[0;34m\u001B[0m\u001B[0m\n\u001B[1;32m    221\u001B[0m         \u001B[0mopener\u001B[0m \u001B[0;34m=\u001B[0m \u001B[0m_opener\u001B[0m\u001B[0;34m\u001B[0m\u001B[0;34m\u001B[0m\u001B[0m\n\u001B[0;32m--> 222\u001B[0;31m     \u001B[0;32mreturn\u001B[0m \u001B[0mopener\u001B[0m\u001B[0;34m.\u001B[0m\u001B[0mopen\u001B[0m\u001B[0;34m(\u001B[0m\u001B[0murl\u001B[0m\u001B[0;34m,\u001B[0m \u001B[0mdata\u001B[0m\u001B[0;34m,\u001B[0m \u001B[0mtimeout\u001B[0m\u001B[0;34m)\u001B[0m\u001B[0;34m\u001B[0m\u001B[0;34m\u001B[0m\u001B[0m\n\u001B[0m\u001B[1;32m    223\u001B[0m \u001B[0;34m\u001B[0m\u001B[0m\n\u001B[1;32m    224\u001B[0m \u001B[0;32mdef\u001B[0m \u001B[0minstall_opener\u001B[0m\u001B[0;34m(\u001B[0m\u001B[0mopener\u001B[0m\u001B[0;34m)\u001B[0m\u001B[0;34m:\u001B[0m\u001B[0;34m\u001B[0m\u001B[0;34m\u001B[0m\u001B[0m\n",
      "\u001B[0;32m~/programs/anaconda/lib/python3.8/urllib/request.py\u001B[0m in \u001B[0;36mopen\u001B[0;34m(self, fullurl, data, timeout)\u001B[0m\n\u001B[1;32m    529\u001B[0m         \u001B[0;32mfor\u001B[0m \u001B[0mprocessor\u001B[0m \u001B[0;32min\u001B[0m \u001B[0mself\u001B[0m\u001B[0;34m.\u001B[0m\u001B[0mprocess_response\u001B[0m\u001B[0;34m.\u001B[0m\u001B[0mget\u001B[0m\u001B[0;34m(\u001B[0m\u001B[0mprotocol\u001B[0m\u001B[0;34m,\u001B[0m \u001B[0;34m[\u001B[0m\u001B[0;34m]\u001B[0m\u001B[0;34m)\u001B[0m\u001B[0;34m:\u001B[0m\u001B[0;34m\u001B[0m\u001B[0;34m\u001B[0m\u001B[0m\n\u001B[1;32m    530\u001B[0m             \u001B[0mmeth\u001B[0m \u001B[0;34m=\u001B[0m \u001B[0mgetattr\u001B[0m\u001B[0;34m(\u001B[0m\u001B[0mprocessor\u001B[0m\u001B[0;34m,\u001B[0m \u001B[0mmeth_name\u001B[0m\u001B[0;34m)\u001B[0m\u001B[0;34m\u001B[0m\u001B[0;34m\u001B[0m\u001B[0m\n\u001B[0;32m--> 531\u001B[0;31m             \u001B[0mresponse\u001B[0m \u001B[0;34m=\u001B[0m \u001B[0mmeth\u001B[0m\u001B[0;34m(\u001B[0m\u001B[0mreq\u001B[0m\u001B[0;34m,\u001B[0m \u001B[0mresponse\u001B[0m\u001B[0;34m)\u001B[0m\u001B[0;34m\u001B[0m\u001B[0;34m\u001B[0m\u001B[0m\n\u001B[0m\u001B[1;32m    532\u001B[0m \u001B[0;34m\u001B[0m\u001B[0m\n\u001B[1;32m    533\u001B[0m         \u001B[0;32mreturn\u001B[0m \u001B[0mresponse\u001B[0m\u001B[0;34m\u001B[0m\u001B[0;34m\u001B[0m\u001B[0m\n",
      "\u001B[0;32m~/programs/anaconda/lib/python3.8/urllib/request.py\u001B[0m in \u001B[0;36mhttp_response\u001B[0;34m(self, request, response)\u001B[0m\n\u001B[1;32m    638\u001B[0m         \u001B[0;31m# request was successfully received, understood, and accepted.\u001B[0m\u001B[0;34m\u001B[0m\u001B[0;34m\u001B[0m\u001B[0;34m\u001B[0m\u001B[0m\n\u001B[1;32m    639\u001B[0m         \u001B[0;32mif\u001B[0m \u001B[0;32mnot\u001B[0m \u001B[0;34m(\u001B[0m\u001B[0;36m200\u001B[0m \u001B[0;34m<=\u001B[0m \u001B[0mcode\u001B[0m \u001B[0;34m<\u001B[0m \u001B[0;36m300\u001B[0m\u001B[0;34m)\u001B[0m\u001B[0;34m:\u001B[0m\u001B[0;34m\u001B[0m\u001B[0;34m\u001B[0m\u001B[0m\n\u001B[0;32m--> 640\u001B[0;31m             response = self.parent.error(\n\u001B[0m\u001B[1;32m    641\u001B[0m                 'http', request, response, code, msg, hdrs)\n\u001B[1;32m    642\u001B[0m \u001B[0;34m\u001B[0m\u001B[0m\n",
      "\u001B[0;32m~/programs/anaconda/lib/python3.8/urllib/request.py\u001B[0m in \u001B[0;36merror\u001B[0;34m(self, proto, *args)\u001B[0m\n\u001B[1;32m    567\u001B[0m         \u001B[0;32mif\u001B[0m \u001B[0mhttp_err\u001B[0m\u001B[0;34m:\u001B[0m\u001B[0;34m\u001B[0m\u001B[0;34m\u001B[0m\u001B[0m\n\u001B[1;32m    568\u001B[0m             \u001B[0margs\u001B[0m \u001B[0;34m=\u001B[0m \u001B[0;34m(\u001B[0m\u001B[0mdict\u001B[0m\u001B[0;34m,\u001B[0m \u001B[0;34m'default'\u001B[0m\u001B[0;34m,\u001B[0m \u001B[0;34m'http_error_default'\u001B[0m\u001B[0;34m)\u001B[0m \u001B[0;34m+\u001B[0m \u001B[0morig_args\u001B[0m\u001B[0;34m\u001B[0m\u001B[0;34m\u001B[0m\u001B[0m\n\u001B[0;32m--> 569\u001B[0;31m             \u001B[0;32mreturn\u001B[0m \u001B[0mself\u001B[0m\u001B[0;34m.\u001B[0m\u001B[0m_call_chain\u001B[0m\u001B[0;34m(\u001B[0m\u001B[0;34m*\u001B[0m\u001B[0margs\u001B[0m\u001B[0;34m)\u001B[0m\u001B[0;34m\u001B[0m\u001B[0;34m\u001B[0m\u001B[0m\n\u001B[0m\u001B[1;32m    570\u001B[0m \u001B[0;34m\u001B[0m\u001B[0m\n\u001B[1;32m    571\u001B[0m \u001B[0;31m# XXX probably also want an abstract factory that knows when it makes\u001B[0m\u001B[0;34m\u001B[0m\u001B[0;34m\u001B[0m\u001B[0;34m\u001B[0m\u001B[0m\n",
      "\u001B[0;32m~/programs/anaconda/lib/python3.8/urllib/request.py\u001B[0m in \u001B[0;36m_call_chain\u001B[0;34m(self, chain, kind, meth_name, *args)\u001B[0m\n\u001B[1;32m    500\u001B[0m         \u001B[0;32mfor\u001B[0m \u001B[0mhandler\u001B[0m \u001B[0;32min\u001B[0m \u001B[0mhandlers\u001B[0m\u001B[0;34m:\u001B[0m\u001B[0;34m\u001B[0m\u001B[0;34m\u001B[0m\u001B[0m\n\u001B[1;32m    501\u001B[0m             \u001B[0mfunc\u001B[0m \u001B[0;34m=\u001B[0m \u001B[0mgetattr\u001B[0m\u001B[0;34m(\u001B[0m\u001B[0mhandler\u001B[0m\u001B[0;34m,\u001B[0m \u001B[0mmeth_name\u001B[0m\u001B[0;34m)\u001B[0m\u001B[0;34m\u001B[0m\u001B[0;34m\u001B[0m\u001B[0m\n\u001B[0;32m--> 502\u001B[0;31m             \u001B[0mresult\u001B[0m \u001B[0;34m=\u001B[0m \u001B[0mfunc\u001B[0m\u001B[0;34m(\u001B[0m\u001B[0;34m*\u001B[0m\u001B[0margs\u001B[0m\u001B[0;34m)\u001B[0m\u001B[0;34m\u001B[0m\u001B[0;34m\u001B[0m\u001B[0m\n\u001B[0m\u001B[1;32m    503\u001B[0m             \u001B[0;32mif\u001B[0m \u001B[0mresult\u001B[0m \u001B[0;32mis\u001B[0m \u001B[0;32mnot\u001B[0m \u001B[0;32mNone\u001B[0m\u001B[0;34m:\u001B[0m\u001B[0;34m\u001B[0m\u001B[0;34m\u001B[0m\u001B[0m\n\u001B[1;32m    504\u001B[0m                 \u001B[0;32mreturn\u001B[0m \u001B[0mresult\u001B[0m\u001B[0;34m\u001B[0m\u001B[0;34m\u001B[0m\u001B[0m\n",
      "\u001B[0;32m~/programs/anaconda/lib/python3.8/urllib/request.py\u001B[0m in \u001B[0;36mhttp_error_default\u001B[0;34m(self, req, fp, code, msg, hdrs)\u001B[0m\n\u001B[1;32m    647\u001B[0m \u001B[0;32mclass\u001B[0m \u001B[0mHTTPDefaultErrorHandler\u001B[0m\u001B[0;34m(\u001B[0m\u001B[0mBaseHandler\u001B[0m\u001B[0;34m)\u001B[0m\u001B[0;34m:\u001B[0m\u001B[0;34m\u001B[0m\u001B[0;34m\u001B[0m\u001B[0m\n\u001B[1;32m    648\u001B[0m     \u001B[0;32mdef\u001B[0m \u001B[0mhttp_error_default\u001B[0m\u001B[0;34m(\u001B[0m\u001B[0mself\u001B[0m\u001B[0;34m,\u001B[0m \u001B[0mreq\u001B[0m\u001B[0;34m,\u001B[0m \u001B[0mfp\u001B[0m\u001B[0;34m,\u001B[0m \u001B[0mcode\u001B[0m\u001B[0;34m,\u001B[0m \u001B[0mmsg\u001B[0m\u001B[0;34m,\u001B[0m \u001B[0mhdrs\u001B[0m\u001B[0;34m)\u001B[0m\u001B[0;34m:\u001B[0m\u001B[0;34m\u001B[0m\u001B[0;34m\u001B[0m\u001B[0m\n\u001B[0;32m--> 649\u001B[0;31m         \u001B[0;32mraise\u001B[0m \u001B[0mHTTPError\u001B[0m\u001B[0;34m(\u001B[0m\u001B[0mreq\u001B[0m\u001B[0;34m.\u001B[0m\u001B[0mfull_url\u001B[0m\u001B[0;34m,\u001B[0m \u001B[0mcode\u001B[0m\u001B[0;34m,\u001B[0m \u001B[0mmsg\u001B[0m\u001B[0;34m,\u001B[0m \u001B[0mhdrs\u001B[0m\u001B[0;34m,\u001B[0m \u001B[0mfp\u001B[0m\u001B[0;34m)\u001B[0m\u001B[0;34m\u001B[0m\u001B[0;34m\u001B[0m\u001B[0m\n\u001B[0m\u001B[1;32m    650\u001B[0m \u001B[0;34m\u001B[0m\u001B[0m\n\u001B[1;32m    651\u001B[0m \u001B[0;32mclass\u001B[0m \u001B[0mHTTPRedirectHandler\u001B[0m\u001B[0;34m(\u001B[0m\u001B[0mBaseHandler\u001B[0m\u001B[0;34m)\u001B[0m\u001B[0;34m:\u001B[0m\u001B[0;34m\u001B[0m\u001B[0;34m\u001B[0m\u001B[0m\n",
      "\u001B[0;31mHTTPError\u001B[0m: HTTP Error 404: Not Found"
     ]
    }
   ],
   "source": [
    "cdd = CryptoDataDownload()\n",
    "data = cdd.fetch(\"Bitstamp\", \"USD\", \"BTC\", \"5m\")\n",
    "data.tail()"
   ],
   "metadata": {
    "collapsed": false,
    "pycharm": {
     "name": "#%%\n"
    }
   }
  },
  {
   "cell_type": "code",
   "execution_count": 4,
   "outputs": [],
   "source": [
    "def rsi(price: Stream[float], period: float) -> Stream[float]:\n",
    "    r = price.diff()\n",
    "    upside = r.clamp_min(0).abs()\n",
    "    downside = r.clamp_max(0).abs()\n",
    "    rs = upside.ewm(alpha=1 / period).mean() / downside.ewm(alpha=1 / period).mean()\n",
    "    return 100*(1 - (1 + rs) ** -1)\n",
    "\n",
    "\n",
    "def macd(price: Stream[float], fast: float, slow: float, signal: float) -> Stream[float]:\n",
    "    fm = price.ewm(span=fast, adjust=False).mean()\n",
    "    sm = price.ewm(span=slow, adjust=False).mean()\n",
    "    md = fm - sm\n",
    "    signal = md - md.ewm(span=signal, adjust=False).mean()\n",
    "    return signal\n",
    "\n",
    "\n",
    "features = []\n",
    "for c in data.columns[1:]:\n",
    "    s = Stream.source(list(data[c]), dtype=\"float\").rename(data[c].name)\n",
    "    features += [s]\n",
    "\n",
    "cp = Stream.select(features, lambda s: s.name == \"close\")\n",
    "\n",
    "features = [\n",
    "    cp.log().diff().rename(\"lr\"),\n",
    "    rsi(cp, period=20).rename(\"rsi\"),\n",
    "    macd(cp, fast=10, slow=50, signal=5).rename(\"macd\")\n",
    "]\n",
    "\n",
    "feed = DataFeed(features)\n",
    "feed.compile()"
   ],
   "metadata": {
    "collapsed": false,
    "pycharm": {
     "name": "#%%\n"
    }
   }
  },
  {
   "cell_type": "code",
   "execution_count": 5,
   "outputs": [
    {
     "name": "stdout",
     "output_type": "stream",
     "text": [
      "{'lr': nan, 'rsi': nan, 'macd': 0.0}\n",
      "{'lr': -0.00022768891842694927, 'rsi': 0.0, 'macd': -0.1891859774210995}\n",
      "{'lr': -0.0012033785355889393, 'rsi': 0.0, 'macd': -1.2726616061000744}\n",
      "{'lr': -0.0023134975946028646, 'rsi': 0.0, 'macd': -3.6577343503541435}\n",
      "{'lr': 0.01000681330867259, 'rsi': 74.26253567956897, 'macd': 3.7087743627464844}\n"
     ]
    }
   ],
   "source": [
    "for i in range(5):\n",
    "    print(feed.next())"
   ],
   "metadata": {
    "collapsed": false,
    "pycharm": {
     "name": "#%%\n"
    }
   }
  },
  {
   "cell_type": "code",
   "execution_count": 9,
   "outputs": [],
   "source": [
    "bitstamp = Exchange(\"bitstamp\", service=execute_order)(\n",
    "    Stream.source(list(data[\"close\"]), dtype=\"float\").rename(\"USD-BTC\")\n",
    ")\n",
    "\n",
    "portfolio = Portfolio(USD, [\n",
    "    Wallet(bitstamp, 10000 * USD),\n",
    "    Wallet(bitstamp, 10 * BTC)\n",
    "])\n",
    "\n",
    "\n",
    "renderer_feed = DataFeed([\n",
    "    Stream.source(list(data[\"date\"])).rename(\"date\"),\n",
    "    Stream.source(list(data[\"open\"]), dtype=\"float\").rename(\"open\"),\n",
    "    Stream.source(list(data[\"high\"]), dtype=\"float\").rename(\"high\"),\n",
    "    Stream.source(list(data[\"low\"]), dtype=\"float\").rename(\"low\"),\n",
    "    Stream.source(list(data[\"close\"]), dtype=\"float\").rename(\"close\"),\n",
    "    Stream.source(list(data[\"volume\"]), dtype=\"float\").rename(\"volume\")\n",
    "])\n",
    "\n",
    "\n",
    "env = default.create(\n",
    "    portfolio=portfolio,\n",
    "    action_scheme=\"managed-risk\",\n",
    "    reward_scheme=\"risk-adjusted\",\n",
    "    feed=feed,\n",
    "    renderer_feed=renderer_feed,\n",
    "    renderer=default.renderers.PlotlyTradingChart(),\n",
    "    window_size=20\n",
    ")"
   ],
   "metadata": {
    "collapsed": false,
    "pycharm": {
     "name": "#%%\n"
    }
   }
  },
  {
   "cell_type": "code",
   "execution_count": 10,
   "outputs": [
    {
     "data": {
      "text/plain": "{'internal': {'bitstamp:/USD-BTC': 8740.99,\n  'bitstamp:/USD:/free': 10000.0,\n  'bitstamp:/USD:/locked': 0.0,\n  'bitstamp:/USD:/total': 10000.0,\n  'bitstamp:/BTC:/free': 10.0,\n  'bitstamp:/BTC:/locked': 0.0,\n  'bitstamp:/BTC:/total': 10.0,\n  'bitstamp:/BTC:/worth': 87409.9,\n  'net_worth': 97409.9},\n 'external': {'lr': nan, 'rsi': nan, 'macd': 0.0},\n 'renderer': {'date': Timestamp('2018-05-15 06:00:00'),\n  'open': 8733.86,\n  'high': 8796.68,\n  'low': 8707.28,\n  'close': 8740.99,\n  'volume': 559.93}}"
     },
     "execution_count": 10,
     "metadata": {},
     "output_type": "execute_result"
    }
   ],
   "source": [
    "env.observer.feed.next()"
   ],
   "metadata": {
    "collapsed": false,
    "pycharm": {
     "name": "#%%\n"
    }
   }
  },
  {
   "cell_type": "code",
   "execution_count": 11,
   "outputs": [
    {
     "data": {
      "text/plain": "FigureWidget({\n    'data': [{'close': array([8740.99, 8739.  , 8728.49, ..., 7911.83, 7901.01, 7887.  ]),\n    …",
      "application/vnd.jupyter.widget-view+json": {
       "version_major": 2,
       "version_minor": 0,
       "model_id": "35109358a15c4531b5fa2e466014de08"
      }
     },
     "metadata": {},
     "output_type": "display_data"
    },
    {
     "data": {
      "application/vnd.plotly.v1+json": {
       "config": {
        "plotlyServerURL": "https://plot.ly"
       },
       "data": [
        {
         "close": [
          8740.99,
          8739.0,
          8728.49,
          8708.32,
          8795.9,
          8760.0,
          8760.0,
          8759.23,
          8517.77,
          8520.3,
          8535.23,
          8546.34,
          8526.65,
          8555.6,
          8512.1,
          8492.28,
          8460.0,
          8474.99,
          8455.92,
          8326.28,
          8133.43,
          8164.79,
          8229.38,
          8220.4,
          8238.8,
          8232.99,
          8207.48,
          8243.45,
          8371.13,
          8373.0,
          8365.08,
          8179.99,
          8225.0,
          8285.8,
          8273.4,
          8297.4,
          8279.89,
          8252.72,
          8302.18,
          8295.85,
          8277.25,
          8346.59,
          8358.3,
          8375.1,
          8368.62,
          8366.72,
          8314.77,
          8363.7,
          8344.16,
          8247.4,
          8277.4
         ],
         "high": [
          8796.68,
          8766.0,
          8750.27,
          8754.4,
          8865.0,
          8821.19,
          8798.6,
          8771.02,
          8761.7,
          8553.67,
          8589.1,
          8579.48,
          8555.51,
          8583.6,
          8569.92,
          8555.54,
          8557.51,
          8505.0,
          8505.33,
          8478.29,
          8339.81,
          8217.44,
          8252.72,
          8248.63,
          8267.12,
          8255.0,
          8261.24,
          8263.93,
          8455.66,
          8439.44,
          8399.1,
          8381.73,
          8229.91,
          8377.29,
          8329.1,
          8350.0,
          8346.95,
          8377.29,
          8311.35,
          8319.96,
          8398.24,
          8372.58,
          8399.99,
          8386.53,
          8400.0,
          8500.0,
          8381.0,
          8371.3,
          8382.41,
          8351.0,
          8292.99
         ],
         "low": [
          8707.28,
          8721.11,
          8660.53,
          8701.35,
          8695.11,
          8740.54,
          8741.52,
          8700.0,
          8467.42,
          8477.89,
          8500.78,
          8500.0,
          8400.0,
          8451.05,
          8461.38,
          8481.24,
          8420.37,
          8450.0,
          8430.94,
          8275.02,
          8100.01,
          8122.56,
          8157.01,
          8166.25,
          8176.91,
          8213.79,
          8200.0,
          8207.48,
          8237.1,
          8370.0,
          8356.4,
          8145.1,
          8173.6,
          8211.8,
          8201.0,
          8250.9,
          8266.46,
          8252.72,
          8232.14,
          8268.37,
          8277.25,
          8277.25,
          8314.78,
          8314.77,
          8350.07,
          8331.39,
          8314.77,
          8275.45,
          8335.49,
          8191.14,
          8227.7
         ],
         "name": "Price",
         "open": [
          8733.86,
          8740.99,
          8739.0,
          8728.49,
          8708.32,
          8795.9,
          8760.0,
          8760.0,
          8759.23,
          8517.77,
          8520.3,
          8535.23,
          8546.34,
          8526.65,
          8555.6,
          8512.1,
          8492.28,
          8460.0,
          8474.99,
          8455.92,
          8326.28,
          8133.43,
          8164.79,
          8229.38,
          8220.4,
          8238.8,
          8232.99,
          8207.48,
          8243.45,
          8371.13,
          8373.0,
          8365.08,
          8179.99,
          8225.0,
          8285.8,
          8273.4,
          8297.4,
          8279.89,
          8252.72,
          8302.18,
          8295.85,
          8277.25,
          8346.59,
          8358.3,
          8375.1,
          8368.62,
          8366.72,
          8314.77,
          8363.7,
          8344.16,
          8247.4
         ],
         "showlegend": false,
         "type": "candlestick",
         "uid": "5d9cbee0-de77-4557-a546-4573fc3c95e9",
         "xaxis": "x",
         "yaxis": "y"
        },
        {
         "marker": {
          "color": "DodgerBlue"
         },
         "name": "Volume",
         "showlegend": false,
         "type": "bar",
         "uid": "14a86980-c226-4a52-ae75-2f3d7c02334f",
         "xaxis": "x2",
         "y": [
          559.93,
          273.58,
          917.79,
          182.62,
          1260.69,
          324.11,
          324.2,
          730.67,
          1341.75,
          792.07,
          385.69,
          475.08,
          877.26,
          670.49,
          610.97,
          168.99,
          305.92,
          136.05,
          154.26,
          1070.93,
          1710.2,
          492.8,
          630.72,
          620.93,
          586.34,
          304.52,
          450.97,
          182.36,
          915.32,
          319.29,
          362.01,
          1046.38,
          357.91,
          561.2,
          322.53,
          1073.71,
          237.21,
          251.2,
          359.73,
          117.23,
          363.17,
          214.18,
          171.64,
          258.58,
          299.52,
          718.98,
          119.7,
          405.25,
          210.77,
          714.82,
          215.97
         ],
         "yaxis": "y2"
        },
        {
         "mode": "lines",
         "name": "bitstamp:/USD-BTC",
         "type": "scatter",
         "uid": "574af33e-2e53-4600-af77-543cc2191f5e",
         "xaxis": "x3",
         "y": [
          8740.99,
          8739.0,
          8728.49,
          8708.32,
          8795.9,
          8760.0,
          8760.0,
          8759.23,
          8517.77,
          8520.3,
          8535.23,
          8546.34,
          8526.65,
          8555.6,
          8512.1,
          8492.28,
          8460.0,
          8474.99,
          8455.92,
          8326.28,
          8133.43,
          8164.79,
          8229.38,
          8220.4,
          8238.8,
          8232.99,
          8207.48,
          8243.45,
          8371.13,
          8373.0,
          8365.08,
          8179.99,
          8225.0,
          8285.8,
          8273.4,
          8297.4,
          8279.89,
          8252.72,
          8302.18,
          8295.85,
          8277.25,
          8346.59,
          8358.3,
          8375.1,
          8368.62,
          8366.72,
          8314.77,
          8363.7,
          8344.16,
          8247.4,
          8277.4
         ],
         "yaxis": "y3"
        },
        {
         "mode": "lines",
         "name": "bitstamp:/USD:/free",
         "type": "scatter",
         "uid": "ff5fe72f-8fec-4094-8d5a-9b1db2e631dc",
         "xaxis": "x3",
         "y": [
          10000.0,
          10000.0,
          10000.0,
          5000.0,
          4000.0,
          4000.0,
          4000.0,
          4000.0,
          3200.0,
          3200.0,
          3200.0,
          3200.0,
          3200.0,
          320.0,
          320.0,
          320.0,
          320.0,
          288.0,
          288.0,
          0.0,
          0.0,
          5644.96,
          6576.93,
          6576.93,
          6576.93,
          6576.93,
          6576.93,
          6576.93,
          6576.93,
          2630.77,
          0.0,
          0.0,
          6579.31,
          6579.31,
          6579.31,
          6579.31,
          6579.31,
          6579.31,
          6579.31,
          6579.31,
          6579.31,
          6579.31,
          3289.65,
          3289.65,
          3289.65,
          3289.65,
          0.0,
          0.0,
          0.0,
          0.0,
          0.0
         ],
         "yaxis": "y3"
        },
        {
         "mode": "lines",
         "name": "bitstamp:/USD:/locked",
         "type": "scatter",
         "uid": "b65b6550-ac6d-4f1e-8514-e0d91d4a02fa",
         "xaxis": "x3",
         "y": [
          0.0,
          8714.77,
          16556.27,
          16556.27,
          16556.27,
          87589.32,
          87589.32,
          87589.32,
          87589.32,
          79747.82,
          87544.66,
          87544.66,
          87544.66,
          87544.66,
          87544.66,
          87544.66,
          87544.66,
          87544.66,
          87544.66,
          87544.66,
          0.0,
          0.0,
          8533.24,
          37173.72,
          42045.02,
          46439.0,
          50390.8,
          53936.4,
          57141.42,
          57141.42,
          57141.42,
          62995.58,
          65285.43,
          67357.64,
          74872.73,
          86128.49,
          86128.49,
          86128.49,
          86128.49,
          86128.49,
          86128.49,
          86128.49,
          86128.49,
          86128.49,
          78693.53,
          78693.53,
          78693.53,
          78693.53,
          78693.53,
          78693.53,
          78693.53
         ],
         "yaxis": "y3"
        },
        {
         "mode": "lines",
         "name": "bitstamp:/USD:/total",
         "type": "scatter",
         "uid": "0fb84544-fd88-49af-9140-fc69fc077cb0",
         "xaxis": "x3",
         "y": [
          10000.0,
          18714.77,
          26556.27,
          21556.27,
          20556.27,
          91589.32,
          91589.32,
          91589.32,
          90789.32,
          82947.82,
          90744.66,
          90744.66,
          90744.66,
          87864.66,
          87864.66,
          87864.66,
          87864.66,
          87832.66,
          87832.66,
          87544.66,
          0.0,
          5644.96,
          15110.17,
          43750.65,
          48621.95,
          53015.93,
          56967.73,
          60513.33,
          63718.35,
          59772.19,
          57141.42,
          62995.58,
          71864.74,
          73936.95,
          81452.04,
          92707.8,
          92707.8,
          92707.8,
          92707.8,
          92707.8,
          92707.8,
          92707.8,
          89418.14,
          89418.14,
          81983.18,
          81983.18,
          78693.53,
          78693.53,
          78693.53,
          78693.53,
          78693.53
         ],
         "yaxis": "y3"
        },
        {
         "mode": "lines",
         "name": "bitstamp:/BTC:/free",
         "type": "scatter",
         "uid": "1a8e0fb8-1bbf-4b27-8697-5e130693893c",
         "xaxis": "x3",
         "y": [
          10.0,
          9.0,
          8.1,
          8.1,
          8.1,
          0.0,
          0.0,
          0.0,
          0.0,
          0.91784352,
          0.0,
          0.0,
          0.0,
          0.0,
          0.0,
          0.0,
          0.0,
          0.0,
          0.0,
          0.0,
          10.48271616,
          9.43444454,
          8.49100009,
          5.94370006,
          5.34933005,
          4.81439705,
          4.33295734,
          3.89966161,
          3.50969545,
          3.50969545,
          3.50969545,
          2.80775636,
          2.52698072,
          2.27428265,
          1.36456959,
          0.0,
          0.0,
          0.0,
          0.0,
          0.0,
          0.0,
          0.0,
          0.0,
          0.0,
          0.0,
          0.0,
          0.0,
          0.0,
          0.0,
          0.0,
          0.0
         ],
         "yaxis": "y3"
        },
        {
         "mode": "lines",
         "name": "bitstamp:/BTC:/locked",
         "type": "scatter",
         "uid": "a0ffd6f4-bd1f-401d-ad90-0c192ed97e4c",
         "xaxis": "x3",
         "y": [
          0.0,
          0.0,
          0.0,
          0.57111826,
          0.68560647,
          0.68560647,
          0.68560647,
          0.68560647,
          0.7766647,
          0.7766647,
          0.7766647,
          0.7766647,
          0.7766647,
          1.11341594,
          1.11341594,
          1.11341594,
          1.11341594,
          1.11718663,
          1.11718663,
          1.1511439,
          1.1511439,
          1.50328176,
          1.28396638,
          0.34052193,
          0.34052193,
          0.34052193,
          0.34052193,
          0.34052193,
          0.34052193,
          0.81050866,
          1.12376317,
          1.12376317,
          0.3170252,
          0.3170252,
          0.3170252,
          0.3170252,
          0.3170252,
          0.3170252,
          0.3170252,
          0.3170252,
          0.3170252,
          0.3170252,
          0.7099749,
          0.7099749,
          1.59505806,
          1.59505806,
          1.98706114,
          1.98706114,
          1.98706114,
          1.98706114,
          1.98706114
         ],
         "yaxis": "y3"
        },
        {
         "mode": "lines",
         "name": "bitstamp:/BTC:/total",
         "type": "scatter",
         "uid": "075f3401-b1c4-4304-8095-019669793920",
         "xaxis": "x3",
         "y": [
          10.0,
          9.0,
          8.1,
          8.67111826,
          8.78560647,
          0.68560647,
          0.68560647,
          0.68560647,
          0.7766647,
          1.69450822,
          0.7766647,
          0.7766647,
          0.7766647,
          1.11341594,
          1.11341594,
          1.11341594,
          1.11341594,
          1.11718663,
          1.11718663,
          1.1511439,
          11.63386006,
          10.9377263,
          9.77496647,
          6.28422199,
          5.68985198,
          5.15491898,
          4.67347927,
          4.24018354,
          3.85021738,
          4.32020411,
          4.63345862,
          3.93151953,
          2.84400592,
          2.59130785,
          1.68159479,
          0.3170252,
          0.3170252,
          0.3170252,
          0.3170252,
          0.3170252,
          0.3170252,
          0.3170252,
          0.7099749,
          0.7099749,
          1.59505806,
          1.59505806,
          1.98706114,
          1.98706114,
          1.98706114,
          1.98706114,
          1.98706114
         ],
         "yaxis": "y3"
        },
        {
         "mode": "lines",
         "name": "bitstamp:/BTC:/worth",
         "type": "scatter",
         "uid": "bcac39b0-0c7a-4c53-83ec-a9a65f0688f9",
         "xaxis": "x3",
         "y": [
          87409.9,
          78651.0,
          70700.769,
          75510.8725659232,
          77277.31594947299,
          6005.9126772,
          6005.9126772,
          6005.3847602180995,
          6615.451281719,
          14437.718386865998,
          6629.011847381,
          6637.640592198,
          6622.348064254999,
          9525.941416264,
          9477.507822874002,
          9455.439918943202,
          9419.4988524,
          9468.1455173837,
          9446.840768349599,
          9584.746431692001,
          94623.1864278058,
          89304.23831697699,
          80441.9135688886,
          51658.81844659599,
          46877.552492824,
          42440.3964131502,
          38357.487638939594,
          34953.741002813,
          32230.6702162394,
          36173.06901303,
          38759.2520329896,
          32159.7904402047,
          23391.948691999998,
          21471.05858353,
          13912.506335585998,
          2630.48489448,
          2624.933783228,
          2616.320208544,
          2632.000274936,
          2629.99350542,
          2624.0968367,
          2646.079364068,
          5934.183206669999,
          5946.11078499,
          13348.4347820772,
          13345.404171763199,
          16521.9563550378,
          16619.183256618002,
          16580.3560819424,
          16388.088046036,
          16447.699880236
         ],
         "yaxis": "y3"
        },
        {
         "mode": "lines",
         "name": "net_worth",
         "type": "scatter",
         "uid": "3740a7ea-6a47-479f-80bb-1b8efa8d6c51",
         "xaxis": "x3",
         "y": [
          97409.9,
          97365.77,
          97257.039,
          97067.1425659232,
          97833.585949473,
          97595.23267720001,
          97595.23267720001,
          97594.70476021811,
          97404.771281719,
          97385.538386866,
          97373.671847381,
          97382.30059219801,
          97367.008064255,
          97390.601416264,
          97342.167822874,
          97320.0999189432,
          97284.1588524,
          97300.8055173837,
          97279.50076834961,
          97129.40643169201,
          94623.1864278058,
          94949.198316977,
          95552.0835688886,
          95409.468446596,
          95499.50249282399,
          95456.32641315021,
          95325.21763893959,
          95467.071002813,
          95949.0202162394,
          95945.25901303001,
          95900.67203298959,
          95155.3704402047,
          95256.688692,
          95408.00858353,
          95364.546335586,
          95338.28489448,
          95332.733783228,
          95324.120208544,
          95339.800274936,
          95337.79350542,
          95331.8968367,
          95353.87936406801,
          95352.32320667,
          95364.25078499,
          95331.61478207719,
          95328.58417176318,
          95215.4863550378,
          95312.71325661801,
          95273.8860819424,
          95081.61804603599,
          95141.229880236
         ],
         "yaxis": "y3"
        },
        {
         "marker": {
          "color": "DarkGreen"
         },
         "mode": "lines",
         "name": "Net Worth",
         "type": "scatter",
         "uid": "603f0991-97d2-427c-afd5-1ceb071c6a05",
         "xaxis": "x4",
         "y": [
          97409.9,
          97365.77,
          97257.039,
          97067.1425659232,
          97833.585949473,
          97595.23267720001,
          97595.23267720001,
          97594.70476021811,
          97404.771281719,
          97385.538386866,
          97373.671847381,
          97382.30059219801,
          97367.008064255,
          97390.601416264,
          97342.167822874,
          97320.0999189432,
          97284.1588524,
          97300.8055173837,
          97279.50076834961,
          97129.40643169201,
          94623.1864278058,
          94949.198316977,
          95552.0835688886,
          95409.468446596,
          95499.50249282399,
          95456.32641315021,
          95325.21763893959,
          95467.071002813,
          95949.0202162394,
          95945.25901303001,
          95900.67203298959,
          95155.3704402047,
          95256.688692,
          95408.00858353,
          95364.546335586,
          95338.28489448,
          95332.733783228,
          95324.120208544,
          95339.800274936,
          95337.79350542,
          95331.8968367,
          95353.87936406801,
          95352.32320667,
          95364.25078499,
          95331.61478207719,
          95328.58417176318,
          95215.4863550378,
          95312.71325661801,
          95273.8860819424,
          95081.61804603599,
          95141.229880236
         ],
         "yaxis": "y4"
        }
       ],
       "layout": {
        "annotations": [
         {
          "arrowcolor": "DarkGreen",
          "arrowhead": 2,
          "arrowsize": 0.8,
          "arrowwidth": 4,
          "ax": 0,
          "ay": 15,
          "hoverlabel": {
           "bgcolor": "DarkGreen"
          },
          "hovertext": "Step 46 [2018-05-17 03:00:00]<br>BUY 0.39200308 BTC @ 8366.72 USD MARKET<br>Total: 3279.78 USD - Comm.: 9.87 USD",
          "opacity": 0.6,
          "showarrow": true,
          "x": 45,
          "xref": "x",
          "y": 8366.72,
          "yref": "y"
         },
         {
          "arrowcolor": "DarkGreen",
          "arrowhead": 2,
          "arrowsize": 0.8,
          "arrowwidth": 4,
          "ax": 0,
          "ay": 15,
          "hoverlabel": {
           "bgcolor": "DarkGreen"
          },
          "hovertext": "Step 44 [2018-05-17 01:00:00]<br>BUY 0.88508316 BTC @ 8375.1 USD MARKET<br>Total: 7412.66 USD - Comm.: 22.30 USD",
          "opacity": 0.6,
          "showarrow": true,
          "x": 43,
          "xref": "x",
          "y": 8375.1,
          "yref": "y"
         },
         {
          "arrowcolor": "DarkGreen",
          "arrowhead": 2,
          "arrowsize": 0.8,
          "arrowwidth": 4,
          "ax": 0,
          "ay": 15,
          "hoverlabel": {
           "bgcolor": "DarkGreen"
          },
          "hovertext": "Step 42 [2018-05-16 23:00:00]<br>BUY 0.3929497 BTC @ 8346.59 USD MARKET<br>Total: 3279.79 USD - Comm.: 9.87 USD",
          "opacity": 0.6,
          "showarrow": true,
          "x": 41,
          "xref": "x",
          "y": 8346.59,
          "yref": "y"
         },
         {
          "arrowcolor": "FireBrick",
          "arrowhead": 2,
          "arrowsize": 0.8,
          "arrowwidth": 4,
          "ax": 0,
          "ay": -15,
          "hoverlabel": {
           "bgcolor": "FireBrick"
          },
          "hovertext": "Step 35 [2018-05-16 16:00:00]<br>SELL 1.36047588 BTC @ 8273.4 USD MARKET<br>Total: 11255.76 USD - Comm.: 0.00409371 BTC",
          "opacity": 0.6,
          "showarrow": true,
          "x": 34,
          "xref": "x",
          "y": 8273.4,
          "yref": "y"
         },
         {
          "arrowcolor": "FireBrick",
          "arrowhead": 2,
          "arrowsize": 0.8,
          "arrowwidth": 4,
          "ax": 0,
          "ay": -15,
          "hoverlabel": {
           "bgcolor": "FireBrick"
          },
          "hovertext": "Step 34 [2018-05-16 15:00:00]<br>SELL 0.90698392 BTC @ 8285.8 USD MARKET<br>Total: 7515.09 USD - Comm.: 0.00272914 BTC",
          "opacity": 0.6,
          "showarrow": true,
          "x": 33,
          "xref": "x",
          "y": 8285.8,
          "yref": "y"
         },
         {
          "arrowcolor": "FireBrick",
          "arrowhead": 2,
          "arrowsize": 0.8,
          "arrowwidth": 4,
          "ax": 0,
          "ay": -15,
          "hoverlabel": {
           "bgcolor": "FireBrick"
          },
          "hovertext": "Step 33 [2018-05-16 14:00:00]<br>SELL 0.25193998 BTC @ 8225.0 USD MARKET<br>Total: 2072.21 USD - Comm.: 0.00075809 BTC",
          "opacity": 0.6,
          "showarrow": true,
          "x": 32,
          "xref": "x",
          "y": 8225.0,
          "yref": "y"
         },
         {
          "arrowcolor": "FireBrick",
          "arrowhead": 2,
          "arrowsize": 0.8,
          "arrowwidth": 4,
          "ax": 0,
          "ay": -15,
          "hoverlabel": {
           "bgcolor": "FireBrick"
          },
          "hovertext": "Step 32 [2018-05-16 13:00:00]<br>SELL 0.27993331 BTC @ 8179.99 USD MARKET<br>Total: 2289.85 USD - Comm.: 0.00084233 BTC",
          "opacity": 0.6,
          "showarrow": true,
          "x": 31,
          "xref": "x",
          "y": 8179.99,
          "yref": "y"
         },
         {
          "arrowcolor": "FireBrick",
          "arrowhead": 2,
          "arrowsize": 0.8,
          "arrowwidth": 4,
          "ax": 0,
          "ay": -15,
          "hoverlabel": {
           "bgcolor": "FireBrick"
          },
          "hovertext": "Step 32 [2018-05-16 13:00:00]<br>SELL 0.46857677 BTC @ 8179.99 USD MARKET<br>Total: 3832.95 USD - Comm.: 0.00140996 BTC",
          "opacity": 0.6,
          "showarrow": true,
          "x": 31,
          "xref": "x",
          "y": 8179.99,
          "yref": "y"
         },
         {
          "arrowcolor": "FireBrick",
          "arrowhead": 2,
          "arrowsize": 0.8,
          "arrowwidth": 4,
          "ax": 0,
          "ay": -15,
          "hoverlabel": {
           "bgcolor": "FireBrick"
          },
          "hovertext": "Step 32 [2018-05-16 13:00:00]<br>SELL 0.33574099 BTC @ 8179.99 USD MARKET<br>Total: 2746.36 USD - Comm.: 0.00101025 BTC",
          "opacity": 0.6,
          "showarrow": true,
          "x": 31,
          "xref": "x",
          "y": 8179.99,
          "yref": "y"
         },
         {
          "arrowcolor": "FireBrick",
          "arrowhead": 2,
          "arrowsize": 0.8,
          "arrowwidth": 4,
          "ax": 0,
          "ay": -15,
          "hoverlabel": {
           "bgcolor": "FireBrick"
          },
          "hovertext": "Step 31 [2018-05-16 12:00:00]<br>SELL 0.69983327 BTC @ 8365.08 USD MARKET<br>Total: 5854.16 USD - Comm.: 0.00210582 BTC",
          "opacity": 0.6,
          "showarrow": true,
          "x": 30,
          "xref": "x",
          "y": 8365.08,
          "yref": "y"
         },
         {
          "arrowcolor": "DarkGreen",
          "arrowhead": 2,
          "arrowsize": 0.8,
          "arrowwidth": 4,
          "ax": 0,
          "ay": 15,
          "hoverlabel": {
           "bgcolor": "DarkGreen"
          },
          "hovertext": "Step 30 [2018-05-16 11:00:00]<br>BUY 0.31325451 BTC @ 8373.0 USD MARKET<br>Total: 2622.88 USD - Comm.: 7.89 USD",
          "opacity": 0.6,
          "showarrow": true,
          "x": 29,
          "xref": "x",
          "y": 8373.0,
          "yref": "y"
         },
         {
          "arrowcolor": "DarkGreen",
          "arrowhead": 2,
          "arrowsize": 0.8,
          "arrowwidth": 4,
          "ax": 0,
          "ay": 15,
          "hoverlabel": {
           "bgcolor": "DarkGreen"
          },
          "hovertext": "Step 29 [2018-05-16 10:00:00]<br>BUY 0.46998673 BTC @ 8371.13 USD MARKET<br>Total: 3934.32 USD - Comm.: 11.84 USD",
          "opacity": 0.6,
          "showarrow": true,
          "x": 28,
          "xref": "x",
          "y": 8371.13,
          "yref": "y"
         },
         {
          "arrowcolor": "FireBrick",
          "arrowhead": 2,
          "arrowsize": 0.8,
          "arrowwidth": 4,
          "ax": 0,
          "ay": -15,
          "hoverlabel": {
           "bgcolor": "FireBrick"
          },
          "hovertext": "Step 28 [2018-05-16 09:00:00]<br>SELL 0.38879626 BTC @ 8243.45 USD MARKET<br>Total: 3205.02 USD - Comm.: 0.00116990 BTC",
          "opacity": 0.6,
          "showarrow": true,
          "x": 27,
          "xref": "x",
          "y": 8243.45,
          "yref": "y"
         },
         {
          "arrowcolor": "FireBrick",
          "arrowhead": 2,
          "arrowsize": 0.8,
          "arrowwidth": 4,
          "ax": 0,
          "ay": -15,
          "hoverlabel": {
           "bgcolor": "FireBrick"
          },
          "hovertext": "Step 27 [2018-05-16 08:00:00]<br>SELL 0.43199584 BTC @ 8207.48 USD MARKET<br>Total: 3545.6 USD - Comm.: 0.00129989 BTC",
          "opacity": 0.6,
          "showarrow": true,
          "x": 26,
          "xref": "x",
          "y": 8207.48,
          "yref": "y"
         },
         {
          "arrowcolor": "FireBrick",
          "arrowhead": 2,
          "arrowsize": 0.8,
          "arrowwidth": 4,
          "ax": 0,
          "ay": -15,
          "hoverlabel": {
           "bgcolor": "FireBrick"
          },
          "hovertext": "Step 26 [2018-05-16 07:00:00]<br>SELL 0.47999539 BTC @ 8232.99 USD MARKET<br>Total: 3951.8 USD - Comm.: 0.00144432 BTC",
          "opacity": 0.6,
          "showarrow": true,
          "x": 25,
          "xref": "x",
          "y": 8232.99,
          "yref": "y"
         },
         {
          "arrowcolor": "FireBrick",
          "arrowhead": 2,
          "arrowsize": 0.8,
          "arrowwidth": 4,
          "ax": 0,
          "ay": -15,
          "hoverlabel": {
           "bgcolor": "FireBrick"
          },
          "hovertext": "Step 25 [2018-05-16 06:00:00]<br>SELL 0.5333282 BTC @ 8238.8 USD MARKET<br>Total: 4393.98 USD - Comm.: 0.00160480 BTC",
          "opacity": 0.6,
          "showarrow": true,
          "x": 24,
          "xref": "x",
          "y": 8238.8,
          "yref": "y"
         },
         {
          "arrowcolor": "FireBrick",
          "arrowhead": 2,
          "arrowsize": 0.8,
          "arrowwidth": 4,
          "ax": 0,
          "ay": -15,
          "hoverlabel": {
           "bgcolor": "FireBrick"
          },
          "hovertext": "Step 24 [2018-05-16 05:00:00]<br>SELL 0.5925869 BTC @ 8220.4 USD MARKET<br>Total: 4871.3 USD - Comm.: 0.00178311 BTC",
          "opacity": 0.6,
          "showarrow": true,
          "x": 23,
          "xref": "x",
          "y": 8220.4,
          "yref": "y"
         },
         {
          "arrowcolor": "FireBrick",
          "arrowhead": 2,
          "arrowsize": 0.8,
          "arrowwidth": 4,
          "ax": 0,
          "ay": -15,
          "hoverlabel": {
           "bgcolor": "FireBrick"
          },
          "hovertext": "Step 23 [2018-05-16 04:00:00]<br>SELL 2.53965813 BTC @ 8229.38 USD MARKET<br>Total: 20899.81 USD - Comm.: 0.00764190 BTC",
          "opacity": 0.6,
          "showarrow": true,
          "x": 22,
          "xref": "x",
          "y": 8229.38,
          "yref": "y"
         },
         {
          "arrowcolor": "FireBrick",
          "arrowhead": 2,
          "arrowsize": 0.8,
          "arrowwidth": 4,
          "ax": 0,
          "ay": -15,
          "hoverlabel": {
           "bgcolor": "FireBrick"
          },
          "hovertext": "Step 23 [2018-05-16 04:00:00]<br>SELL 0.94061412 BTC @ 8229.38 USD MARKET<br>Total: 7740.67 USD - Comm.: 0.00283033 BTC",
          "opacity": 0.6,
          "showarrow": true,
          "x": 22,
          "xref": "x",
          "y": 8229.38,
          "yref": "y"
         },
         {
          "arrowcolor": "FireBrick",
          "arrowhead": 2,
          "arrowsize": 0.8,
          "arrowwidth": 4,
          "ax": 0,
          "ay": -15,
          "hoverlabel": {
           "bgcolor": "FireBrick"
          },
          "hovertext": "Step 22 [2018-05-16 03:00:00]<br>SELL 1.04512681 BTC @ 8164.79 USD MARKET<br>Total: 8533.24 USD - Comm.: 0.00314481 BTC",
          "opacity": 0.6,
          "showarrow": true,
          "x": 21,
          "xref": "x",
          "y": 8164.79,
          "yref": "y"
         },
         {
          "arrowcolor": "FireBrick",
          "arrowhead": 2,
          "arrowsize": 0.8,
          "arrowwidth": 4,
          "ax": 0,
          "ay": -15,
          "hoverlabel": {
           "bgcolor": "FireBrick"
          },
          "hovertext": "Step 22 [2018-05-16 03:00:00]<br>SELL 0.11414475 BTC @ 8164.79 USD MARKET<br>Total: 931.97 USD - Comm.: 0.00034346 BTC",
          "opacity": 0.6,
          "showarrow": true,
          "x": 21,
          "xref": "x",
          "y": 8164.79,
          "yref": "y"
         },
         {
          "arrowcolor": "FireBrick",
          "arrowhead": 2,
          "arrowsize": 0.8,
          "arrowwidth": 4,
          "ax": 0,
          "ay": -15,
          "hoverlabel": {
           "bgcolor": "FireBrick"
          },
          "hovertext": "Step 21 [2018-05-16 02:00:00]<br>SELL 0.0338554 BTC @ 8133.43 USD MARKET<br>Total: 275.36 USD - Comm.: 0.00010187 BTC",
          "opacity": 0.6,
          "showarrow": true,
          "x": 20,
          "xref": "x",
          "y": 8133.43,
          "yref": "y"
         },
         {
          "arrowcolor": "FireBrick",
          "arrowhead": 2,
          "arrowsize": 0.8,
          "arrowwidth": 4,
          "ax": 0,
          "ay": -15,
          "hoverlabel": {
           "bgcolor": "FireBrick"
          },
          "hovertext": "Step 21 [2018-05-16 02:00:00]<br>SELL 0.09078506 BTC @ 8133.43 USD MARKET<br>Total: 738.39 USD - Comm.: 0.00027317 BTC",
          "opacity": 0.6,
          "showarrow": true,
          "x": 20,
          "xref": "x",
          "y": 8133.43,
          "yref": "y"
         },
         {
          "arrowcolor": "FireBrick",
          "arrowhead": 2,
          "arrowsize": 0.8,
          "arrowwidth": 4,
          "ax": 0,
          "ay": -15,
          "hoverlabel": {
           "bgcolor": "FireBrick"
          },
          "hovertext": "Step 21 [2018-05-16 02:00:00]<br>SELL 0.56940491 BTC @ 8133.43 USD MARKET<br>Total: 4631.21 USD - Comm.: 0.00171335 BTC",
          "opacity": 0.6,
          "showarrow": true,
          "x": 20,
          "xref": "x",
          "y": 8133.43,
          "yref": "y"
         },
         {
          "arrowcolor": "DarkGreen",
          "arrowhead": 2,
          "arrowsize": 0.8,
          "arrowwidth": 4,
          "ax": 0,
          "ay": 15,
          "hoverlabel": {
           "bgcolor": "DarkGreen"
          },
          "hovertext": "Step 20 [2018-05-16 01:00:00]<br>BUY 0.9336042 BTC @ 8326.28 USD MARKET<br>Total: 7773.45 USD - Comm.: 23.39 USD",
          "opacity": 0.6,
          "showarrow": true,
          "x": 19,
          "xref": "x",
          "y": 8326.28,
          "yref": "y"
         },
         {
          "arrowcolor": "DarkGreen",
          "arrowhead": 2,
          "arrowsize": 0.8,
          "arrowwidth": 4,
          "ax": 0,
          "ay": 15,
          "hoverlabel": {
           "bgcolor": "DarkGreen"
          },
          "hovertext": "Step 20 [2018-05-16 01:00:00]<br>BUY 8.50559313 BTC @ 8326.28 USD MARKET<br>Total: 70819.95 USD - Comm.: 213.10 USD",
          "opacity": 0.6,
          "showarrow": true,
          "x": 19,
          "xref": "x",
          "y": 8326.28,
          "yref": "y"
         },
         {
          "arrowcolor": "DarkGreen",
          "arrowhead": 2,
          "arrowsize": 0.8,
          "arrowwidth": 4,
          "ax": 0,
          "ay": 15,
          "hoverlabel": {
           "bgcolor": "DarkGreen"
          },
          "hovertext": "Step 20 [2018-05-16 01:00:00]<br>BUY 1.04351883 BTC @ 8326.28 USD MARKET<br>Total: 8688.63 USD - Comm.: 26.14 USD",
          "opacity": 0.6,
          "showarrow": true,
          "x": 19,
          "xref": "x",
          "y": 8326.28,
          "yref": "y"
         },
         {
          "arrowcolor": "DarkGreen",
          "arrowhead": 2,
          "arrowsize": 0.8,
          "arrowwidth": 4,
          "ax": 0,
          "ay": 15,
          "hoverlabel": {
           "bgcolor": "DarkGreen"
          },
          "hovertext": "Step 19 [2018-05-16 00:00:00]<br>BUY 0.03395727 BTC @ 8455.92 USD MARKET<br>Total: 287.14 USD - Comm.: 0.86 USD",
          "opacity": 0.6,
          "showarrow": true,
          "x": 18,
          "xref": "x",
          "y": 8455.92,
          "yref": "y"
         },
         {
          "arrowcolor": "DarkGreen",
          "arrowhead": 2,
          "arrowsize": 0.8,
          "arrowwidth": 4,
          "ax": 0,
          "ay": 15,
          "hoverlabel": {
           "bgcolor": "DarkGreen"
          },
          "hovertext": "Step 17 [2018-05-15 22:00:00]<br>BUY 0.00377069 BTC @ 8460.0 USD MARKET<br>Total: 31.9 USD - Comm.: 0.10 USD",
          "opacity": 0.6,
          "showarrow": true,
          "x": 16,
          "xref": "x",
          "y": 8460.0,
          "yref": "y"
         },
         {
          "arrowcolor": "DarkGreen",
          "arrowhead": 2,
          "arrowsize": 0.8,
          "arrowwidth": 4,
          "ax": 0,
          "ay": 15,
          "hoverlabel": {
           "bgcolor": "DarkGreen"
          },
          "hovertext": "Step 13 [2018-05-15 18:00:00]<br>BUY 0.33675124 BTC @ 8526.65 USD MARKET<br>Total: 2871.36 USD - Comm.: 8.64 USD",
          "opacity": 0.6,
          "showarrow": true,
          "x": 12,
          "xref": "x",
          "y": 8526.65,
          "yref": "y"
         },
         {
          "arrowcolor": "FireBrick",
          "arrowhead": 2,
          "arrowsize": 0.8,
          "arrowwidth": 4,
          "ax": 0,
          "ay": -15,
          "hoverlabel": {
           "bgcolor": "FireBrick"
          },
          "hovertext": "Step 10 [2018-05-15 15:00:00]<br>SELL 0.91508999 BTC @ 8520.3 USD MARKET<br>Total: 7796.84 USD - Comm.: 0.00275353 BTC",
          "opacity": 0.6,
          "showarrow": true,
          "x": 9,
          "xref": "x",
          "y": 8520.3,
          "yref": "y"
         },
         {
          "arrowcolor": "DarkGreen",
          "arrowhead": 2,
          "arrowsize": 0.8,
          "arrowwidth": 4,
          "ax": 0,
          "ay": 15,
          "hoverlabel": {
           "bgcolor": "DarkGreen"
          },
          "hovertext": "Step 9 [2018-05-15 14:00:00]<br>BUY 0.91784352 BTC @ 8517.77 USD MARKET<br>Total: 7817.98 USD - Comm.: 23.52 USD",
          "opacity": 0.6,
          "showarrow": true,
          "x": 8,
          "xref": "x",
          "y": 8517.77,
          "yref": "y"
         },
         {
          "arrowcolor": "DarkGreen",
          "arrowhead": 2,
          "arrowsize": 0.8,
          "arrowwidth": 4,
          "ax": 0,
          "ay": 15,
          "hoverlabel": {
           "bgcolor": "DarkGreen"
          },
          "hovertext": "Step 8 [2018-05-15 13:00:00]<br>BUY 0.09105823 BTC @ 8759.23 USD MARKET<br>Total: 797.6 USD - Comm.: 2.40 USD",
          "opacity": 0.6,
          "showarrow": true,
          "x": 7,
          "xref": "x",
          "y": 8759.23,
          "yref": "y"
         },
         {
          "arrowcolor": "FireBrick",
          "arrowhead": 2,
          "arrowsize": 0.8,
          "arrowwidth": 4,
          "ax": 0,
          "ay": -15,
          "hoverlabel": {
           "bgcolor": "FireBrick"
          },
          "hovertext": "Step 5 [2018-05-15 10:00:00]<br>SELL 8.0757 BTC @ 8795.9 USD MARKET<br>Total: 71033.05 USD - Comm.: 0.02430000 BTC",
          "opacity": 0.6,
          "showarrow": true,
          "x": 4,
          "xref": "x",
          "y": 8795.9,
          "yref": "y"
         },
         {
          "arrowcolor": "DarkGreen",
          "arrowhead": 2,
          "arrowsize": 0.8,
          "arrowwidth": 4,
          "ax": 0,
          "ay": 15,
          "hoverlabel": {
           "bgcolor": "DarkGreen"
          },
          "hovertext": "Step 4 [2018-05-15 09:00:00]<br>BUY 0.11448821 BTC @ 8708.32 USD MARKET<br>Total: 997.0 USD - Comm.: 3.00 USD",
          "opacity": 0.6,
          "showarrow": true,
          "x": 3,
          "xref": "x",
          "y": 8708.32,
          "yref": "y"
         },
         {
          "arrowcolor": "DarkGreen",
          "arrowhead": 2,
          "arrowsize": 0.8,
          "arrowwidth": 4,
          "ax": 0,
          "ay": 15,
          "hoverlabel": {
           "bgcolor": "DarkGreen"
          },
          "hovertext": "Step 3 [2018-05-15 08:00:00]<br>BUY 0.57111826 BTC @ 8728.49 USD MARKET<br>Total: 4985.0 USD - Comm.: 15.00 USD",
          "opacity": 0.6,
          "showarrow": true,
          "x": 2,
          "xref": "x",
          "y": 8728.49,
          "yref": "y"
         },
         {
          "arrowcolor": "FireBrick",
          "arrowhead": 2,
          "arrowsize": 0.8,
          "arrowwidth": 4,
          "ax": 0,
          "ay": -15,
          "hoverlabel": {
           "bgcolor": "FireBrick"
          },
          "hovertext": "Step 2 [2018-05-15 07:00:00]<br>SELL 0.8973 BTC @ 8739.0 USD MARKET<br>Total: 7841.5 USD - Comm.: 0.00270000 BTC",
          "opacity": 0.6,
          "showarrow": true,
          "x": 1,
          "xref": "x",
          "y": 8739.0,
          "yref": "y"
         },
         {
          "arrowcolor": "FireBrick",
          "arrowhead": 2,
          "arrowsize": 0.8,
          "arrowwidth": 4,
          "ax": 0,
          "ay": -15,
          "hoverlabel": {
           "bgcolor": "FireBrick"
          },
          "hovertext": "Step 1 [2018-05-15 06:00:00]<br>SELL 0.997 BTC @ 8740.99 USD MARKET<br>Total: 8714.77 USD - Comm.: 0.00300000 BTC",
          "opacity": 0.6,
          "showarrow": true,
          "x": 0,
          "xref": "x",
          "y": 8740.99,
          "yref": "y"
         }
        ],
        "margin": {
         "t": 50
        },
        "template": {
         "data": {
          "bar": [
           {
            "error_x": {
             "color": "#2a3f5f"
            },
            "error_y": {
             "color": "#2a3f5f"
            },
            "marker": {
             "line": {
              "color": "white",
              "width": 0.5
             }
            },
            "type": "bar"
           }
          ],
          "barpolar": [
           {
            "marker": {
             "line": {
              "color": "white",
              "width": 0.5
             }
            },
            "type": "barpolar"
           }
          ],
          "carpet": [
           {
            "aaxis": {
             "endlinecolor": "#2a3f5f",
             "gridcolor": "#C8D4E3",
             "linecolor": "#C8D4E3",
             "minorgridcolor": "#C8D4E3",
             "startlinecolor": "#2a3f5f"
            },
            "baxis": {
             "endlinecolor": "#2a3f5f",
             "gridcolor": "#C8D4E3",
             "linecolor": "#C8D4E3",
             "minorgridcolor": "#C8D4E3",
             "startlinecolor": "#2a3f5f"
            },
            "type": "carpet"
           }
          ],
          "choropleth": [
           {
            "colorbar": {
             "outlinewidth": 0,
             "ticks": ""
            },
            "type": "choropleth"
           }
          ],
          "contour": [
           {
            "colorbar": {
             "outlinewidth": 0,
             "ticks": ""
            },
            "colorscale": [
             [
              0.0,
              "#0d0887"
             ],
             [
              0.1111111111111111,
              "#46039f"
             ],
             [
              0.2222222222222222,
              "#7201a8"
             ],
             [
              0.3333333333333333,
              "#9c179e"
             ],
             [
              0.4444444444444444,
              "#bd3786"
             ],
             [
              0.5555555555555556,
              "#d8576b"
             ],
             [
              0.6666666666666666,
              "#ed7953"
             ],
             [
              0.7777777777777778,
              "#fb9f3a"
             ],
             [
              0.8888888888888888,
              "#fdca26"
             ],
             [
              1.0,
              "#f0f921"
             ]
            ],
            "type": "contour"
           }
          ],
          "contourcarpet": [
           {
            "colorbar": {
             "outlinewidth": 0,
             "ticks": ""
            },
            "type": "contourcarpet"
           }
          ],
          "heatmap": [
           {
            "colorbar": {
             "outlinewidth": 0,
             "ticks": ""
            },
            "colorscale": [
             [
              0.0,
              "#0d0887"
             ],
             [
              0.1111111111111111,
              "#46039f"
             ],
             [
              0.2222222222222222,
              "#7201a8"
             ],
             [
              0.3333333333333333,
              "#9c179e"
             ],
             [
              0.4444444444444444,
              "#bd3786"
             ],
             [
              0.5555555555555556,
              "#d8576b"
             ],
             [
              0.6666666666666666,
              "#ed7953"
             ],
             [
              0.7777777777777778,
              "#fb9f3a"
             ],
             [
              0.8888888888888888,
              "#fdca26"
             ],
             [
              1.0,
              "#f0f921"
             ]
            ],
            "type": "heatmap"
           }
          ],
          "heatmapgl": [
           {
            "colorbar": {
             "outlinewidth": 0,
             "ticks": ""
            },
            "colorscale": [
             [
              0.0,
              "#0d0887"
             ],
             [
              0.1111111111111111,
              "#46039f"
             ],
             [
              0.2222222222222222,
              "#7201a8"
             ],
             [
              0.3333333333333333,
              "#9c179e"
             ],
             [
              0.4444444444444444,
              "#bd3786"
             ],
             [
              0.5555555555555556,
              "#d8576b"
             ],
             [
              0.6666666666666666,
              "#ed7953"
             ],
             [
              0.7777777777777778,
              "#fb9f3a"
             ],
             [
              0.8888888888888888,
              "#fdca26"
             ],
             [
              1.0,
              "#f0f921"
             ]
            ],
            "type": "heatmapgl"
           }
          ],
          "histogram": [
           {
            "marker": {
             "colorbar": {
              "outlinewidth": 0,
              "ticks": ""
             }
            },
            "type": "histogram"
           }
          ],
          "histogram2d": [
           {
            "colorbar": {
             "outlinewidth": 0,
             "ticks": ""
            },
            "colorscale": [
             [
              0.0,
              "#0d0887"
             ],
             [
              0.1111111111111111,
              "#46039f"
             ],
             [
              0.2222222222222222,
              "#7201a8"
             ],
             [
              0.3333333333333333,
              "#9c179e"
             ],
             [
              0.4444444444444444,
              "#bd3786"
             ],
             [
              0.5555555555555556,
              "#d8576b"
             ],
             [
              0.6666666666666666,
              "#ed7953"
             ],
             [
              0.7777777777777778,
              "#fb9f3a"
             ],
             [
              0.8888888888888888,
              "#fdca26"
             ],
             [
              1.0,
              "#f0f921"
             ]
            ],
            "type": "histogram2d"
           }
          ],
          "histogram2dcontour": [
           {
            "colorbar": {
             "outlinewidth": 0,
             "ticks": ""
            },
            "colorscale": [
             [
              0.0,
              "#0d0887"
             ],
             [
              0.1111111111111111,
              "#46039f"
             ],
             [
              0.2222222222222222,
              "#7201a8"
             ],
             [
              0.3333333333333333,
              "#9c179e"
             ],
             [
              0.4444444444444444,
              "#bd3786"
             ],
             [
              0.5555555555555556,
              "#d8576b"
             ],
             [
              0.6666666666666666,
              "#ed7953"
             ],
             [
              0.7777777777777778,
              "#fb9f3a"
             ],
             [
              0.8888888888888888,
              "#fdca26"
             ],
             [
              1.0,
              "#f0f921"
             ]
            ],
            "type": "histogram2dcontour"
           }
          ],
          "mesh3d": [
           {
            "colorbar": {
             "outlinewidth": 0,
             "ticks": ""
            },
            "type": "mesh3d"
           }
          ],
          "parcoords": [
           {
            "line": {
             "colorbar": {
              "outlinewidth": 0,
              "ticks": ""
             }
            },
            "type": "parcoords"
           }
          ],
          "pie": [
           {
            "automargin": true,
            "type": "pie"
           }
          ],
          "scatter": [
           {
            "marker": {
             "colorbar": {
              "outlinewidth": 0,
              "ticks": ""
             }
            },
            "type": "scatter"
           }
          ],
          "scatter3d": [
           {
            "line": {
             "colorbar": {
              "outlinewidth": 0,
              "ticks": ""
             }
            },
            "marker": {
             "colorbar": {
              "outlinewidth": 0,
              "ticks": ""
             }
            },
            "type": "scatter3d"
           }
          ],
          "scattercarpet": [
           {
            "marker": {
             "colorbar": {
              "outlinewidth": 0,
              "ticks": ""
             }
            },
            "type": "scattercarpet"
           }
          ],
          "scattergeo": [
           {
            "marker": {
             "colorbar": {
              "outlinewidth": 0,
              "ticks": ""
             }
            },
            "type": "scattergeo"
           }
          ],
          "scattergl": [
           {
            "marker": {
             "colorbar": {
              "outlinewidth": 0,
              "ticks": ""
             }
            },
            "type": "scattergl"
           }
          ],
          "scattermapbox": [
           {
            "marker": {
             "colorbar": {
              "outlinewidth": 0,
              "ticks": ""
             }
            },
            "type": "scattermapbox"
           }
          ],
          "scatterpolar": [
           {
            "marker": {
             "colorbar": {
              "outlinewidth": 0,
              "ticks": ""
             }
            },
            "type": "scatterpolar"
           }
          ],
          "scatterpolargl": [
           {
            "marker": {
             "colorbar": {
              "outlinewidth": 0,
              "ticks": ""
             }
            },
            "type": "scatterpolargl"
           }
          ],
          "scatterternary": [
           {
            "marker": {
             "colorbar": {
              "outlinewidth": 0,
              "ticks": ""
             }
            },
            "type": "scatterternary"
           }
          ],
          "surface": [
           {
            "colorbar": {
             "outlinewidth": 0,
             "ticks": ""
            },
            "colorscale": [
             [
              0.0,
              "#0d0887"
             ],
             [
              0.1111111111111111,
              "#46039f"
             ],
             [
              0.2222222222222222,
              "#7201a8"
             ],
             [
              0.3333333333333333,
              "#9c179e"
             ],
             [
              0.4444444444444444,
              "#bd3786"
             ],
             [
              0.5555555555555556,
              "#d8576b"
             ],
             [
              0.6666666666666666,
              "#ed7953"
             ],
             [
              0.7777777777777778,
              "#fb9f3a"
             ],
             [
              0.8888888888888888,
              "#fdca26"
             ],
             [
              1.0,
              "#f0f921"
             ]
            ],
            "type": "surface"
           }
          ],
          "table": [
           {
            "cells": {
             "fill": {
              "color": "#EBF0F8"
             },
             "line": {
              "color": "white"
             }
            },
            "header": {
             "fill": {
              "color": "#C8D4E3"
             },
             "line": {
              "color": "white"
             }
            },
            "type": "table"
           }
          ]
         },
         "layout": {
          "annotationdefaults": {
           "arrowcolor": "#2a3f5f",
           "arrowhead": 0,
           "arrowwidth": 1
          },
          "autotypenumbers": "strict",
          "coloraxis": {
           "colorbar": {
            "outlinewidth": 0,
            "ticks": ""
           }
          },
          "colorscale": {
           "diverging": [
            [
             0,
             "#8e0152"
            ],
            [
             0.1,
             "#c51b7d"
            ],
            [
             0.2,
             "#de77ae"
            ],
            [
             0.3,
             "#f1b6da"
            ],
            [
             0.4,
             "#fde0ef"
            ],
            [
             0.5,
             "#f7f7f7"
            ],
            [
             0.6,
             "#e6f5d0"
            ],
            [
             0.7,
             "#b8e186"
            ],
            [
             0.8,
             "#7fbc41"
            ],
            [
             0.9,
             "#4d9221"
            ],
            [
             1,
             "#276419"
            ]
           ],
           "sequential": [
            [
             0.0,
             "#0d0887"
            ],
            [
             0.1111111111111111,
             "#46039f"
            ],
            [
             0.2222222222222222,
             "#7201a8"
            ],
            [
             0.3333333333333333,
             "#9c179e"
            ],
            [
             0.4444444444444444,
             "#bd3786"
            ],
            [
             0.5555555555555556,
             "#d8576b"
            ],
            [
             0.6666666666666666,
             "#ed7953"
            ],
            [
             0.7777777777777778,
             "#fb9f3a"
            ],
            [
             0.8888888888888888,
             "#fdca26"
            ],
            [
             1.0,
             "#f0f921"
            ]
           ],
           "sequentialminus": [
            [
             0.0,
             "#0d0887"
            ],
            [
             0.1111111111111111,
             "#46039f"
            ],
            [
             0.2222222222222222,
             "#7201a8"
            ],
            [
             0.3333333333333333,
             "#9c179e"
            ],
            [
             0.4444444444444444,
             "#bd3786"
            ],
            [
             0.5555555555555556,
             "#d8576b"
            ],
            [
             0.6666666666666666,
             "#ed7953"
            ],
            [
             0.7777777777777778,
             "#fb9f3a"
            ],
            [
             0.8888888888888888,
             "#fdca26"
            ],
            [
             1.0,
             "#f0f921"
            ]
           ]
          },
          "colorway": [
           "#636efa",
           "#EF553B",
           "#00cc96",
           "#ab63fa",
           "#FFA15A",
           "#19d3f3",
           "#FF6692",
           "#B6E880",
           "#FF97FF",
           "#FECB52"
          ],
          "font": {
           "color": "#2a3f5f"
          },
          "geo": {
           "bgcolor": "white",
           "lakecolor": "white",
           "landcolor": "white",
           "showlakes": true,
           "showland": true,
           "subunitcolor": "#C8D4E3"
          },
          "hoverlabel": {
           "align": "left"
          },
          "hovermode": "closest",
          "mapbox": {
           "style": "light"
          },
          "paper_bgcolor": "white",
          "plot_bgcolor": "white",
          "polar": {
           "angularaxis": {
            "gridcolor": "#EBF0F8",
            "linecolor": "#EBF0F8",
            "ticks": ""
           },
           "bgcolor": "white",
           "radialaxis": {
            "gridcolor": "#EBF0F8",
            "linecolor": "#EBF0F8",
            "ticks": ""
           }
          },
          "scene": {
           "xaxis": {
            "backgroundcolor": "white",
            "gridcolor": "#DFE8F3",
            "gridwidth": 2,
            "linecolor": "#EBF0F8",
            "showbackground": true,
            "ticks": "",
            "zerolinecolor": "#EBF0F8"
           },
           "yaxis": {
            "backgroundcolor": "white",
            "gridcolor": "#DFE8F3",
            "gridwidth": 2,
            "linecolor": "#EBF0F8",
            "showbackground": true,
            "ticks": "",
            "zerolinecolor": "#EBF0F8"
           },
           "zaxis": {
            "backgroundcolor": "white",
            "gridcolor": "#DFE8F3",
            "gridwidth": 2,
            "linecolor": "#EBF0F8",
            "showbackground": true,
            "ticks": "",
            "zerolinecolor": "#EBF0F8"
           }
          },
          "shapedefaults": {
           "line": {
            "color": "#2a3f5f"
           }
          },
          "ternary": {
           "aaxis": {
            "gridcolor": "#DFE8F3",
            "linecolor": "#A2B1C6",
            "ticks": ""
           },
           "baxis": {
            "gridcolor": "#DFE8F3",
            "linecolor": "#A2B1C6",
            "ticks": ""
           },
           "bgcolor": "white",
           "caxis": {
            "gridcolor": "#DFE8F3",
            "linecolor": "#A2B1C6",
            "ticks": ""
           }
          },
          "title": {
           "x": 0.05
          },
          "xaxis": {
           "automargin": true,
           "gridcolor": "#EBF0F8",
           "linecolor": "#EBF0F8",
           "ticks": "",
           "title": {
            "standoff": 15
           },
           "zerolinecolor": "#EBF0F8",
           "zerolinewidth": 2
          },
          "yaxis": {
           "automargin": true,
           "gridcolor": "#EBF0F8",
           "linecolor": "#EBF0F8",
           "ticks": "",
           "title": {
            "standoff": 15
           },
           "zerolinecolor": "#EBF0F8",
           "zerolinewidth": 2
          }
         }
        },
        "title": {
         "text": "[2021-02-12 00:08:21 AM] Episode: 2/2 Step: 51/200"
        },
        "xaxis": {
         "anchor": "y",
         "domain": [
          0.0,
          1.0
         ],
         "gridcolor": "Gainsboro",
         "linecolor": "Grey",
         "matches": "x4",
         "rangeslider": {
          "visible": false
         },
         "showticklabels": false,
         "title": {
          "font": {
           "size": 12
          },
          "standoff": 7,
          "text": "Price"
         }
        },
        "xaxis2": {
         "anchor": "y2",
         "domain": [
          0.0,
          1.0
         ],
         "gridcolor": "Gainsboro",
         "linecolor": "Grey",
         "matches": "x4",
         "showticklabels": false,
         "title": {
          "font": {
           "size": 12
          },
          "standoff": 7,
          "text": "Volume"
         }
        },
        "xaxis3": {
         "anchor": "y3",
         "domain": [
          0.0,
          1.0
         ],
         "gridcolor": "Gainsboro",
         "linecolor": "Grey",
         "matches": "x4",
         "showticklabels": false,
         "title": {
          "font": {
           "size": 12
          },
          "standoff": 7,
          "text": "Performance"
         }
        },
        "xaxis4": {
         "anchor": "y4",
         "domain": [
          0.0,
          1.0
         ],
         "gridcolor": "Gainsboro",
         "linecolor": "Grey",
         "title": {
          "font": {
           "size": 12
          },
          "standoff": 7,
          "text": "Net Worth"
         }
        },
        "yaxis": {
         "anchor": "x",
         "domain": [
          0.49950000000000006,
          1.0
         ],
         "gridcolor": "Gainsboro",
         "linecolor": "Grey"
        },
        "yaxis2": {
         "anchor": "x2",
         "domain": [
          0.333,
          0.46950000000000003
         ],
         "gridcolor": "Gainsboro",
         "linecolor": "Grey"
        },
        "yaxis3": {
         "anchor": "x3",
         "domain": [
          0.1665,
          0.30300000000000005
         ],
         "gridcolor": "Gainsboro",
         "linecolor": "Grey"
        },
        "yaxis4": {
         "anchor": "x4",
         "domain": [
          0.0,
          0.1365
         ],
         "gridcolor": "Gainsboro",
         "linecolor": "Grey"
        }
       }
      },
      "text/html": "<div>                            <div id=\"7fe1a5df-2578-40f8-8e8f-b110ceea679e\" class=\"plotly-graph-div\" style=\"height:525px; width:100%;\"></div>            <script type=\"text/javascript\">                require([\"plotly\"], function(Plotly) {                    window.PLOTLYENV=window.PLOTLYENV || {};                                    if (document.getElementById(\"7fe1a5df-2578-40f8-8e8f-b110ceea679e\")) {                    Plotly.newPlot(                        \"7fe1a5df-2578-40f8-8e8f-b110ceea679e\",                        [{\"close\": [8740.99, 8739.0, 8728.49, 8708.32, 8795.9, 8760.0, 8760.0, 8759.23, 8517.77, 8520.3, 8535.23, 8546.34, 8526.65, 8555.6, 8512.1, 8492.28, 8460.0, 8474.99, 8455.92, 8326.28, 8133.43, 8164.79, 8229.38, 8220.4, 8238.8, 8232.99, 8207.48, 8243.45, 8371.13, 8373.0, 8365.08, 8179.99, 8225.0, 8285.8, 8273.4, 8297.4, 8279.89, 8252.72, 8302.18, 8295.85, 8277.25, 8346.59, 8358.3, 8375.1, 8368.62, 8366.72, 8314.77, 8363.7, 8344.16, 8247.4, 8277.4], \"high\": [8796.68, 8766.0, 8750.27, 8754.4, 8865.0, 8821.19, 8798.6, 8771.02, 8761.7, 8553.67, 8589.1, 8579.48, 8555.51, 8583.6, 8569.92, 8555.54, 8557.51, 8505.0, 8505.33, 8478.29, 8339.81, 8217.44, 8252.72, 8248.63, 8267.12, 8255.0, 8261.24, 8263.93, 8455.66, 8439.44, 8399.1, 8381.73, 8229.91, 8377.29, 8329.1, 8350.0, 8346.95, 8377.29, 8311.35, 8319.96, 8398.24, 8372.58, 8399.99, 8386.53, 8400.0, 8500.0, 8381.0, 8371.3, 8382.41, 8351.0, 8292.99], \"low\": [8707.28, 8721.11, 8660.53, 8701.35, 8695.11, 8740.54, 8741.52, 8700.0, 8467.42, 8477.89, 8500.78, 8500.0, 8400.0, 8451.05, 8461.38, 8481.24, 8420.37, 8450.0, 8430.94, 8275.02, 8100.01, 8122.56, 8157.01, 8166.25, 8176.91, 8213.79, 8200.0, 8207.48, 8237.1, 8370.0, 8356.4, 8145.1, 8173.6, 8211.8, 8201.0, 8250.9, 8266.46, 8252.72, 8232.14, 8268.37, 8277.25, 8277.25, 8314.78, 8314.77, 8350.07, 8331.39, 8314.77, 8275.45, 8335.49, 8191.14, 8227.7], \"name\": \"Price\", \"open\": [8733.86, 8740.99, 8739.0, 8728.49, 8708.32, 8795.9, 8760.0, 8760.0, 8759.23, 8517.77, 8520.3, 8535.23, 8546.34, 8526.65, 8555.6, 8512.1, 8492.28, 8460.0, 8474.99, 8455.92, 8326.28, 8133.43, 8164.79, 8229.38, 8220.4, 8238.8, 8232.99, 8207.48, 8243.45, 8371.13, 8373.0, 8365.08, 8179.99, 8225.0, 8285.8, 8273.4, 8297.4, 8279.89, 8252.72, 8302.18, 8295.85, 8277.25, 8346.59, 8358.3, 8375.1, 8368.62, 8366.72, 8314.77, 8363.7, 8344.16, 8247.4], \"showlegend\": false, \"type\": \"candlestick\", \"uid\": \"5d9cbee0-de77-4557-a546-4573fc3c95e9\", \"xaxis\": \"x\", \"yaxis\": \"y\"}, {\"marker\": {\"color\": \"DodgerBlue\"}, \"name\": \"Volume\", \"showlegend\": false, \"type\": \"bar\", \"uid\": \"14a86980-c226-4a52-ae75-2f3d7c02334f\", \"xaxis\": \"x2\", \"y\": [559.93, 273.58, 917.79, 182.62, 1260.69, 324.11, 324.2, 730.67, 1341.75, 792.07, 385.69, 475.08, 877.26, 670.49, 610.97, 168.99, 305.92, 136.05, 154.26, 1070.93, 1710.2, 492.8, 630.72, 620.93, 586.34, 304.52, 450.97, 182.36, 915.32, 319.29, 362.01, 1046.38, 357.91, 561.2, 322.53, 1073.71, 237.21, 251.2, 359.73, 117.23, 363.17, 214.18, 171.64, 258.58, 299.52, 718.98, 119.7, 405.25, 210.77, 714.82, 215.97], \"yaxis\": \"y2\"}, {\"mode\": \"lines\", \"name\": \"bitstamp:/USD-BTC\", \"type\": \"scatter\", \"uid\": \"574af33e-2e53-4600-af77-543cc2191f5e\", \"xaxis\": \"x3\", \"y\": [8740.99, 8739.0, 8728.49, 8708.32, 8795.9, 8760.0, 8760.0, 8759.23, 8517.77, 8520.3, 8535.23, 8546.34, 8526.65, 8555.6, 8512.1, 8492.28, 8460.0, 8474.99, 8455.92, 8326.28, 8133.43, 8164.79, 8229.38, 8220.4, 8238.8, 8232.99, 8207.48, 8243.45, 8371.13, 8373.0, 8365.08, 8179.99, 8225.0, 8285.8, 8273.4, 8297.4, 8279.89, 8252.72, 8302.18, 8295.85, 8277.25, 8346.59, 8358.3, 8375.1, 8368.62, 8366.72, 8314.77, 8363.7, 8344.16, 8247.4, 8277.4], \"yaxis\": \"y3\"}, {\"mode\": \"lines\", \"name\": \"bitstamp:/USD:/free\", \"type\": \"scatter\", \"uid\": \"ff5fe72f-8fec-4094-8d5a-9b1db2e631dc\", \"xaxis\": \"x3\", \"y\": [10000.0, 10000.0, 10000.0, 5000.0, 4000.0, 4000.0, 4000.0, 4000.0, 3200.0, 3200.0, 3200.0, 3200.0, 3200.0, 320.0, 320.0, 320.0, 320.0, 288.0, 288.0, 0.0, 0.0, 5644.96, 6576.93, 6576.93, 6576.93, 6576.93, 6576.93, 6576.93, 6576.93, 2630.77, 0.0, 0.0, 6579.31, 6579.31, 6579.31, 6579.31, 6579.31, 6579.31, 6579.31, 6579.31, 6579.31, 6579.31, 3289.65, 3289.65, 3289.65, 3289.65, 0.0, 0.0, 0.0, 0.0, 0.0], \"yaxis\": \"y3\"}, {\"mode\": \"lines\", \"name\": \"bitstamp:/USD:/locked\", \"type\": \"scatter\", \"uid\": \"b65b6550-ac6d-4f1e-8514-e0d91d4a02fa\", \"xaxis\": \"x3\", \"y\": [0.0, 8714.77, 16556.27, 16556.27, 16556.27, 87589.32, 87589.32, 87589.32, 87589.32, 79747.82, 87544.66, 87544.66, 87544.66, 87544.66, 87544.66, 87544.66, 87544.66, 87544.66, 87544.66, 87544.66, 0.0, 0.0, 8533.24, 37173.72, 42045.02, 46439.0, 50390.8, 53936.4, 57141.42, 57141.42, 57141.42, 62995.58, 65285.43, 67357.64, 74872.73, 86128.49, 86128.49, 86128.49, 86128.49, 86128.49, 86128.49, 86128.49, 86128.49, 86128.49, 78693.53, 78693.53, 78693.53, 78693.53, 78693.53, 78693.53, 78693.53], \"yaxis\": \"y3\"}, {\"mode\": \"lines\", \"name\": \"bitstamp:/USD:/total\", \"type\": \"scatter\", \"uid\": \"0fb84544-fd88-49af-9140-fc69fc077cb0\", \"xaxis\": \"x3\", \"y\": [10000.0, 18714.77, 26556.27, 21556.27, 20556.27, 91589.32, 91589.32, 91589.32, 90789.32, 82947.82, 90744.66, 90744.66, 90744.66, 87864.66, 87864.66, 87864.66, 87864.66, 87832.66, 87832.66, 87544.66, 0.0, 5644.96, 15110.17, 43750.65, 48621.95, 53015.93, 56967.73, 60513.33, 63718.35, 59772.19, 57141.42, 62995.58, 71864.74, 73936.95, 81452.04, 92707.8, 92707.8, 92707.8, 92707.8, 92707.8, 92707.8, 92707.8, 89418.14, 89418.14, 81983.18, 81983.18, 78693.53, 78693.53, 78693.53, 78693.53, 78693.53], \"yaxis\": \"y3\"}, {\"mode\": \"lines\", \"name\": \"bitstamp:/BTC:/free\", \"type\": \"scatter\", \"uid\": \"1a8e0fb8-1bbf-4b27-8697-5e130693893c\", \"xaxis\": \"x3\", \"y\": [10.0, 9.0, 8.1, 8.1, 8.1, 0.0, 0.0, 0.0, 0.0, 0.91784352, 0.0, 0.0, 0.0, 0.0, 0.0, 0.0, 0.0, 0.0, 0.0, 0.0, 10.48271616, 9.43444454, 8.49100009, 5.94370006, 5.34933005, 4.81439705, 4.33295734, 3.89966161, 3.50969545, 3.50969545, 3.50969545, 2.80775636, 2.52698072, 2.27428265, 1.36456959, 0.0, 0.0, 0.0, 0.0, 0.0, 0.0, 0.0, 0.0, 0.0, 0.0, 0.0, 0.0, 0.0, 0.0, 0.0, 0.0], \"yaxis\": \"y3\"}, {\"mode\": \"lines\", \"name\": \"bitstamp:/BTC:/locked\", \"type\": \"scatter\", \"uid\": \"a0ffd6f4-bd1f-401d-ad90-0c192ed97e4c\", \"xaxis\": \"x3\", \"y\": [0.0, 0.0, 0.0, 0.57111826, 0.68560647, 0.68560647, 0.68560647, 0.68560647, 0.7766647, 0.7766647, 0.7766647, 0.7766647, 0.7766647, 1.11341594, 1.11341594, 1.11341594, 1.11341594, 1.11718663, 1.11718663, 1.1511439, 1.1511439, 1.50328176, 1.28396638, 0.34052193, 0.34052193, 0.34052193, 0.34052193, 0.34052193, 0.34052193, 0.81050866, 1.12376317, 1.12376317, 0.3170252, 0.3170252, 0.3170252, 0.3170252, 0.3170252, 0.3170252, 0.3170252, 0.3170252, 0.3170252, 0.3170252, 0.7099749, 0.7099749, 1.59505806, 1.59505806, 1.98706114, 1.98706114, 1.98706114, 1.98706114, 1.98706114], \"yaxis\": \"y3\"}, {\"mode\": \"lines\", \"name\": \"bitstamp:/BTC:/total\", \"type\": \"scatter\", \"uid\": \"075f3401-b1c4-4304-8095-019669793920\", \"xaxis\": \"x3\", \"y\": [10.0, 9.0, 8.1, 8.67111826, 8.78560647, 0.68560647, 0.68560647, 0.68560647, 0.7766647, 1.69450822, 0.7766647, 0.7766647, 0.7766647, 1.11341594, 1.11341594, 1.11341594, 1.11341594, 1.11718663, 1.11718663, 1.1511439, 11.63386006, 10.9377263, 9.77496647, 6.28422199, 5.68985198, 5.15491898, 4.67347927, 4.24018354, 3.85021738, 4.32020411, 4.63345862, 3.93151953, 2.84400592, 2.59130785, 1.68159479, 0.3170252, 0.3170252, 0.3170252, 0.3170252, 0.3170252, 0.3170252, 0.3170252, 0.7099749, 0.7099749, 1.59505806, 1.59505806, 1.98706114, 1.98706114, 1.98706114, 1.98706114, 1.98706114], \"yaxis\": \"y3\"}, {\"mode\": \"lines\", \"name\": \"bitstamp:/BTC:/worth\", \"type\": \"scatter\", \"uid\": \"bcac39b0-0c7a-4c53-83ec-a9a65f0688f9\", \"xaxis\": \"x3\", \"y\": [87409.9, 78651.0, 70700.769, 75510.8725659232, 77277.31594947299, 6005.9126772, 6005.9126772, 6005.3847602180995, 6615.451281719, 14437.718386865998, 6629.011847381, 6637.640592198, 6622.348064254999, 9525.941416264, 9477.507822874002, 9455.439918943202, 9419.4988524, 9468.1455173837, 9446.840768349599, 9584.746431692001, 94623.1864278058, 89304.23831697699, 80441.9135688886, 51658.81844659599, 46877.552492824, 42440.3964131502, 38357.487638939594, 34953.741002813, 32230.6702162394, 36173.06901303, 38759.2520329896, 32159.7904402047, 23391.948691999998, 21471.05858353, 13912.506335585998, 2630.48489448, 2624.933783228, 2616.320208544, 2632.000274936, 2629.99350542, 2624.0968367, 2646.079364068, 5934.183206669999, 5946.11078499, 13348.4347820772, 13345.404171763199, 16521.9563550378, 16619.183256618002, 16580.3560819424, 16388.088046036, 16447.699880236], \"yaxis\": \"y3\"}, {\"mode\": \"lines\", \"name\": \"net_worth\", \"type\": \"scatter\", \"uid\": \"3740a7ea-6a47-479f-80bb-1b8efa8d6c51\", \"xaxis\": \"x3\", \"y\": [97409.9, 97365.77, 97257.039, 97067.1425659232, 97833.585949473, 97595.23267720001, 97595.23267720001, 97594.70476021811, 97404.771281719, 97385.538386866, 97373.671847381, 97382.30059219801, 97367.008064255, 97390.601416264, 97342.167822874, 97320.0999189432, 97284.1588524, 97300.8055173837, 97279.50076834961, 97129.40643169201, 94623.1864278058, 94949.198316977, 95552.0835688886, 95409.468446596, 95499.50249282399, 95456.32641315021, 95325.21763893959, 95467.071002813, 95949.0202162394, 95945.25901303001, 95900.67203298959, 95155.3704402047, 95256.688692, 95408.00858353, 95364.546335586, 95338.28489448, 95332.733783228, 95324.120208544, 95339.800274936, 95337.79350542, 95331.8968367, 95353.87936406801, 95352.32320667, 95364.25078499, 95331.61478207719, 95328.58417176318, 95215.4863550378, 95312.71325661801, 95273.8860819424, 95081.61804603599, 95141.229880236], \"yaxis\": \"y3\"}, {\"marker\": {\"color\": \"DarkGreen\"}, \"mode\": \"lines\", \"name\": \"Net Worth\", \"type\": \"scatter\", \"uid\": \"603f0991-97d2-427c-afd5-1ceb071c6a05\", \"xaxis\": \"x4\", \"y\": [97409.9, 97365.77, 97257.039, 97067.1425659232, 97833.585949473, 97595.23267720001, 97595.23267720001, 97594.70476021811, 97404.771281719, 97385.538386866, 97373.671847381, 97382.30059219801, 97367.008064255, 97390.601416264, 97342.167822874, 97320.0999189432, 97284.1588524, 97300.8055173837, 97279.50076834961, 97129.40643169201, 94623.1864278058, 94949.198316977, 95552.0835688886, 95409.468446596, 95499.50249282399, 95456.32641315021, 95325.21763893959, 95467.071002813, 95949.0202162394, 95945.25901303001, 95900.67203298959, 95155.3704402047, 95256.688692, 95408.00858353, 95364.546335586, 95338.28489448, 95332.733783228, 95324.120208544, 95339.800274936, 95337.79350542, 95331.8968367, 95353.87936406801, 95352.32320667, 95364.25078499, 95331.61478207719, 95328.58417176318, 95215.4863550378, 95312.71325661801, 95273.8860819424, 95081.61804603599, 95141.229880236], \"yaxis\": \"y4\"}],                        {\"annotations\": [{\"arrowcolor\": \"DarkGreen\", \"arrowhead\": 2, \"arrowsize\": 0.8, \"arrowwidth\": 4, \"ax\": 0, \"ay\": 15, \"hoverlabel\": {\"bgcolor\": \"DarkGreen\"}, \"hovertext\": \"Step 46 [2018-05-17 03:00:00]<br>BUY 0.39200308 BTC @ 8366.72 USD MARKET<br>Total: 3279.78 USD - Comm.: 9.87 USD\", \"opacity\": 0.6, \"showarrow\": true, \"x\": 45, \"xref\": \"x\", \"y\": 8366.72, \"yref\": \"y\"}, {\"arrowcolor\": \"DarkGreen\", \"arrowhead\": 2, \"arrowsize\": 0.8, \"arrowwidth\": 4, \"ax\": 0, \"ay\": 15, \"hoverlabel\": {\"bgcolor\": \"DarkGreen\"}, \"hovertext\": \"Step 44 [2018-05-17 01:00:00]<br>BUY 0.88508316 BTC @ 8375.1 USD MARKET<br>Total: 7412.66 USD - Comm.: 22.30 USD\", \"opacity\": 0.6, \"showarrow\": true, \"x\": 43, \"xref\": \"x\", \"y\": 8375.1, \"yref\": \"y\"}, {\"arrowcolor\": \"DarkGreen\", \"arrowhead\": 2, \"arrowsize\": 0.8, \"arrowwidth\": 4, \"ax\": 0, \"ay\": 15, \"hoverlabel\": {\"bgcolor\": \"DarkGreen\"}, \"hovertext\": \"Step 42 [2018-05-16 23:00:00]<br>BUY 0.3929497 BTC @ 8346.59 USD MARKET<br>Total: 3279.79 USD - Comm.: 9.87 USD\", \"opacity\": 0.6, \"showarrow\": true, \"x\": 41, \"xref\": \"x\", \"y\": 8346.59, \"yref\": \"y\"}, {\"arrowcolor\": \"FireBrick\", \"arrowhead\": 2, \"arrowsize\": 0.8, \"arrowwidth\": 4, \"ax\": 0, \"ay\": -15, \"hoverlabel\": {\"bgcolor\": \"FireBrick\"}, \"hovertext\": \"Step 35 [2018-05-16 16:00:00]<br>SELL 1.36047588 BTC @ 8273.4 USD MARKET<br>Total: 11255.76 USD - Comm.: 0.00409371 BTC\", \"opacity\": 0.6, \"showarrow\": true, \"x\": 34, \"xref\": \"x\", \"y\": 8273.4, \"yref\": \"y\"}, {\"arrowcolor\": \"FireBrick\", \"arrowhead\": 2, \"arrowsize\": 0.8, \"arrowwidth\": 4, \"ax\": 0, \"ay\": -15, \"hoverlabel\": {\"bgcolor\": \"FireBrick\"}, \"hovertext\": \"Step 34 [2018-05-16 15:00:00]<br>SELL 0.90698392 BTC @ 8285.8 USD MARKET<br>Total: 7515.09 USD - Comm.: 0.00272914 BTC\", \"opacity\": 0.6, \"showarrow\": true, \"x\": 33, \"xref\": \"x\", \"y\": 8285.8, \"yref\": \"y\"}, {\"arrowcolor\": \"FireBrick\", \"arrowhead\": 2, \"arrowsize\": 0.8, \"arrowwidth\": 4, \"ax\": 0, \"ay\": -15, \"hoverlabel\": {\"bgcolor\": \"FireBrick\"}, \"hovertext\": \"Step 33 [2018-05-16 14:00:00]<br>SELL 0.25193998 BTC @ 8225.0 USD MARKET<br>Total: 2072.21 USD - Comm.: 0.00075809 BTC\", \"opacity\": 0.6, \"showarrow\": true, \"x\": 32, \"xref\": \"x\", \"y\": 8225.0, \"yref\": \"y\"}, {\"arrowcolor\": \"FireBrick\", \"arrowhead\": 2, \"arrowsize\": 0.8, \"arrowwidth\": 4, \"ax\": 0, \"ay\": -15, \"hoverlabel\": {\"bgcolor\": \"FireBrick\"}, \"hovertext\": \"Step 32 [2018-05-16 13:00:00]<br>SELL 0.27993331 BTC @ 8179.99 USD MARKET<br>Total: 2289.85 USD - Comm.: 0.00084233 BTC\", \"opacity\": 0.6, \"showarrow\": true, \"x\": 31, \"xref\": \"x\", \"y\": 8179.99, \"yref\": \"y\"}, {\"arrowcolor\": \"FireBrick\", \"arrowhead\": 2, \"arrowsize\": 0.8, \"arrowwidth\": 4, \"ax\": 0, \"ay\": -15, \"hoverlabel\": {\"bgcolor\": \"FireBrick\"}, \"hovertext\": \"Step 32 [2018-05-16 13:00:00]<br>SELL 0.46857677 BTC @ 8179.99 USD MARKET<br>Total: 3832.95 USD - Comm.: 0.00140996 BTC\", \"opacity\": 0.6, \"showarrow\": true, \"x\": 31, \"xref\": \"x\", \"y\": 8179.99, \"yref\": \"y\"}, {\"arrowcolor\": \"FireBrick\", \"arrowhead\": 2, \"arrowsize\": 0.8, \"arrowwidth\": 4, \"ax\": 0, \"ay\": -15, \"hoverlabel\": {\"bgcolor\": \"FireBrick\"}, \"hovertext\": \"Step 32 [2018-05-16 13:00:00]<br>SELL 0.33574099 BTC @ 8179.99 USD MARKET<br>Total: 2746.36 USD - Comm.: 0.00101025 BTC\", \"opacity\": 0.6, \"showarrow\": true, \"x\": 31, \"xref\": \"x\", \"y\": 8179.99, \"yref\": \"y\"}, {\"arrowcolor\": \"FireBrick\", \"arrowhead\": 2, \"arrowsize\": 0.8, \"arrowwidth\": 4, \"ax\": 0, \"ay\": -15, \"hoverlabel\": {\"bgcolor\": \"FireBrick\"}, \"hovertext\": \"Step 31 [2018-05-16 12:00:00]<br>SELL 0.69983327 BTC @ 8365.08 USD MARKET<br>Total: 5854.16 USD - Comm.: 0.00210582 BTC\", \"opacity\": 0.6, \"showarrow\": true, \"x\": 30, \"xref\": \"x\", \"y\": 8365.08, \"yref\": \"y\"}, {\"arrowcolor\": \"DarkGreen\", \"arrowhead\": 2, \"arrowsize\": 0.8, \"arrowwidth\": 4, \"ax\": 0, \"ay\": 15, \"hoverlabel\": {\"bgcolor\": \"DarkGreen\"}, \"hovertext\": \"Step 30 [2018-05-16 11:00:00]<br>BUY 0.31325451 BTC @ 8373.0 USD MARKET<br>Total: 2622.88 USD - Comm.: 7.89 USD\", \"opacity\": 0.6, \"showarrow\": true, \"x\": 29, \"xref\": \"x\", \"y\": 8373.0, \"yref\": \"y\"}, {\"arrowcolor\": \"DarkGreen\", \"arrowhead\": 2, \"arrowsize\": 0.8, \"arrowwidth\": 4, \"ax\": 0, \"ay\": 15, \"hoverlabel\": {\"bgcolor\": \"DarkGreen\"}, \"hovertext\": \"Step 29 [2018-05-16 10:00:00]<br>BUY 0.46998673 BTC @ 8371.13 USD MARKET<br>Total: 3934.32 USD - Comm.: 11.84 USD\", \"opacity\": 0.6, \"showarrow\": true, \"x\": 28, \"xref\": \"x\", \"y\": 8371.13, \"yref\": \"y\"}, {\"arrowcolor\": \"FireBrick\", \"arrowhead\": 2, \"arrowsize\": 0.8, \"arrowwidth\": 4, \"ax\": 0, \"ay\": -15, \"hoverlabel\": {\"bgcolor\": \"FireBrick\"}, \"hovertext\": \"Step 28 [2018-05-16 09:00:00]<br>SELL 0.38879626 BTC @ 8243.45 USD MARKET<br>Total: 3205.02 USD - Comm.: 0.00116990 BTC\", \"opacity\": 0.6, \"showarrow\": true, \"x\": 27, \"xref\": \"x\", \"y\": 8243.45, \"yref\": \"y\"}, {\"arrowcolor\": \"FireBrick\", \"arrowhead\": 2, \"arrowsize\": 0.8, \"arrowwidth\": 4, \"ax\": 0, \"ay\": -15, \"hoverlabel\": {\"bgcolor\": \"FireBrick\"}, \"hovertext\": \"Step 27 [2018-05-16 08:00:00]<br>SELL 0.43199584 BTC @ 8207.48 USD MARKET<br>Total: 3545.6 USD - Comm.: 0.00129989 BTC\", \"opacity\": 0.6, \"showarrow\": true, \"x\": 26, \"xref\": \"x\", \"y\": 8207.48, \"yref\": \"y\"}, {\"arrowcolor\": \"FireBrick\", \"arrowhead\": 2, \"arrowsize\": 0.8, \"arrowwidth\": 4, \"ax\": 0, \"ay\": -15, \"hoverlabel\": {\"bgcolor\": \"FireBrick\"}, \"hovertext\": \"Step 26 [2018-05-16 07:00:00]<br>SELL 0.47999539 BTC @ 8232.99 USD MARKET<br>Total: 3951.8 USD - Comm.: 0.00144432 BTC\", \"opacity\": 0.6, \"showarrow\": true, \"x\": 25, \"xref\": \"x\", \"y\": 8232.99, \"yref\": \"y\"}, {\"arrowcolor\": \"FireBrick\", \"arrowhead\": 2, \"arrowsize\": 0.8, \"arrowwidth\": 4, \"ax\": 0, \"ay\": -15, \"hoverlabel\": {\"bgcolor\": \"FireBrick\"}, \"hovertext\": \"Step 25 [2018-05-16 06:00:00]<br>SELL 0.5333282 BTC @ 8238.8 USD MARKET<br>Total: 4393.98 USD - Comm.: 0.00160480 BTC\", \"opacity\": 0.6, \"showarrow\": true, \"x\": 24, \"xref\": \"x\", \"y\": 8238.8, \"yref\": \"y\"}, {\"arrowcolor\": \"FireBrick\", \"arrowhead\": 2, \"arrowsize\": 0.8, \"arrowwidth\": 4, \"ax\": 0, \"ay\": -15, \"hoverlabel\": {\"bgcolor\": \"FireBrick\"}, \"hovertext\": \"Step 24 [2018-05-16 05:00:00]<br>SELL 0.5925869 BTC @ 8220.4 USD MARKET<br>Total: 4871.3 USD - Comm.: 0.00178311 BTC\", \"opacity\": 0.6, \"showarrow\": true, \"x\": 23, \"xref\": \"x\", \"y\": 8220.4, \"yref\": \"y\"}, {\"arrowcolor\": \"FireBrick\", \"arrowhead\": 2, \"arrowsize\": 0.8, \"arrowwidth\": 4, \"ax\": 0, \"ay\": -15, \"hoverlabel\": {\"bgcolor\": \"FireBrick\"}, \"hovertext\": \"Step 23 [2018-05-16 04:00:00]<br>SELL 2.53965813 BTC @ 8229.38 USD MARKET<br>Total: 20899.81 USD - Comm.: 0.00764190 BTC\", \"opacity\": 0.6, \"showarrow\": true, \"x\": 22, \"xref\": \"x\", \"y\": 8229.38, \"yref\": \"y\"}, {\"arrowcolor\": \"FireBrick\", \"arrowhead\": 2, \"arrowsize\": 0.8, \"arrowwidth\": 4, \"ax\": 0, \"ay\": -15, \"hoverlabel\": {\"bgcolor\": \"FireBrick\"}, \"hovertext\": \"Step 23 [2018-05-16 04:00:00]<br>SELL 0.94061412 BTC @ 8229.38 USD MARKET<br>Total: 7740.67 USD - Comm.: 0.00283033 BTC\", \"opacity\": 0.6, \"showarrow\": true, \"x\": 22, \"xref\": \"x\", \"y\": 8229.38, \"yref\": \"y\"}, {\"arrowcolor\": \"FireBrick\", \"arrowhead\": 2, \"arrowsize\": 0.8, \"arrowwidth\": 4, \"ax\": 0, \"ay\": -15, \"hoverlabel\": {\"bgcolor\": \"FireBrick\"}, \"hovertext\": \"Step 22 [2018-05-16 03:00:00]<br>SELL 1.04512681 BTC @ 8164.79 USD MARKET<br>Total: 8533.24 USD - Comm.: 0.00314481 BTC\", \"opacity\": 0.6, \"showarrow\": true, \"x\": 21, \"xref\": \"x\", \"y\": 8164.79, \"yref\": \"y\"}, {\"arrowcolor\": \"FireBrick\", \"arrowhead\": 2, \"arrowsize\": 0.8, \"arrowwidth\": 4, \"ax\": 0, \"ay\": -15, \"hoverlabel\": {\"bgcolor\": \"FireBrick\"}, \"hovertext\": \"Step 22 [2018-05-16 03:00:00]<br>SELL 0.11414475 BTC @ 8164.79 USD MARKET<br>Total: 931.97 USD - Comm.: 0.00034346 BTC\", \"opacity\": 0.6, \"showarrow\": true, \"x\": 21, \"xref\": \"x\", \"y\": 8164.79, \"yref\": \"y\"}, {\"arrowcolor\": \"FireBrick\", \"arrowhead\": 2, \"arrowsize\": 0.8, \"arrowwidth\": 4, \"ax\": 0, \"ay\": -15, \"hoverlabel\": {\"bgcolor\": \"FireBrick\"}, \"hovertext\": \"Step 21 [2018-05-16 02:00:00]<br>SELL 0.0338554 BTC @ 8133.43 USD MARKET<br>Total: 275.36 USD - Comm.: 0.00010187 BTC\", \"opacity\": 0.6, \"showarrow\": true, \"x\": 20, \"xref\": \"x\", \"y\": 8133.43, \"yref\": \"y\"}, {\"arrowcolor\": \"FireBrick\", \"arrowhead\": 2, \"arrowsize\": 0.8, \"arrowwidth\": 4, \"ax\": 0, \"ay\": -15, \"hoverlabel\": {\"bgcolor\": \"FireBrick\"}, \"hovertext\": \"Step 21 [2018-05-16 02:00:00]<br>SELL 0.09078506 BTC @ 8133.43 USD MARKET<br>Total: 738.39 USD - Comm.: 0.00027317 BTC\", \"opacity\": 0.6, \"showarrow\": true, \"x\": 20, \"xref\": \"x\", \"y\": 8133.43, \"yref\": \"y\"}, {\"arrowcolor\": \"FireBrick\", \"arrowhead\": 2, \"arrowsize\": 0.8, \"arrowwidth\": 4, \"ax\": 0, \"ay\": -15, \"hoverlabel\": {\"bgcolor\": \"FireBrick\"}, \"hovertext\": \"Step 21 [2018-05-16 02:00:00]<br>SELL 0.56940491 BTC @ 8133.43 USD MARKET<br>Total: 4631.21 USD - Comm.: 0.00171335 BTC\", \"opacity\": 0.6, \"showarrow\": true, \"x\": 20, \"xref\": \"x\", \"y\": 8133.43, \"yref\": \"y\"}, {\"arrowcolor\": \"DarkGreen\", \"arrowhead\": 2, \"arrowsize\": 0.8, \"arrowwidth\": 4, \"ax\": 0, \"ay\": 15, \"hoverlabel\": {\"bgcolor\": \"DarkGreen\"}, \"hovertext\": \"Step 20 [2018-05-16 01:00:00]<br>BUY 0.9336042 BTC @ 8326.28 USD MARKET<br>Total: 7773.45 USD - Comm.: 23.39 USD\", \"opacity\": 0.6, \"showarrow\": true, \"x\": 19, \"xref\": \"x\", \"y\": 8326.28, \"yref\": \"y\"}, {\"arrowcolor\": \"DarkGreen\", \"arrowhead\": 2, \"arrowsize\": 0.8, \"arrowwidth\": 4, \"ax\": 0, \"ay\": 15, \"hoverlabel\": {\"bgcolor\": \"DarkGreen\"}, \"hovertext\": \"Step 20 [2018-05-16 01:00:00]<br>BUY 8.50559313 BTC @ 8326.28 USD MARKET<br>Total: 70819.95 USD - Comm.: 213.10 USD\", \"opacity\": 0.6, \"showarrow\": true, \"x\": 19, \"xref\": \"x\", \"y\": 8326.28, \"yref\": \"y\"}, {\"arrowcolor\": \"DarkGreen\", \"arrowhead\": 2, \"arrowsize\": 0.8, \"arrowwidth\": 4, \"ax\": 0, \"ay\": 15, \"hoverlabel\": {\"bgcolor\": \"DarkGreen\"}, \"hovertext\": \"Step 20 [2018-05-16 01:00:00]<br>BUY 1.04351883 BTC @ 8326.28 USD MARKET<br>Total: 8688.63 USD - Comm.: 26.14 USD\", \"opacity\": 0.6, \"showarrow\": true, \"x\": 19, \"xref\": \"x\", \"y\": 8326.28, \"yref\": \"y\"}, {\"arrowcolor\": \"DarkGreen\", \"arrowhead\": 2, \"arrowsize\": 0.8, \"arrowwidth\": 4, \"ax\": 0, \"ay\": 15, \"hoverlabel\": {\"bgcolor\": \"DarkGreen\"}, \"hovertext\": \"Step 19 [2018-05-16 00:00:00]<br>BUY 0.03395727 BTC @ 8455.92 USD MARKET<br>Total: 287.14 USD - Comm.: 0.86 USD\", \"opacity\": 0.6, \"showarrow\": true, \"x\": 18, \"xref\": \"x\", \"y\": 8455.92, \"yref\": \"y\"}, {\"arrowcolor\": \"DarkGreen\", \"arrowhead\": 2, \"arrowsize\": 0.8, \"arrowwidth\": 4, \"ax\": 0, \"ay\": 15, \"hoverlabel\": {\"bgcolor\": \"DarkGreen\"}, \"hovertext\": \"Step 17 [2018-05-15 22:00:00]<br>BUY 0.00377069 BTC @ 8460.0 USD MARKET<br>Total: 31.9 USD - Comm.: 0.10 USD\", \"opacity\": 0.6, \"showarrow\": true, \"x\": 16, \"xref\": \"x\", \"y\": 8460.0, \"yref\": \"y\"}, {\"arrowcolor\": \"DarkGreen\", \"arrowhead\": 2, \"arrowsize\": 0.8, \"arrowwidth\": 4, \"ax\": 0, \"ay\": 15, \"hoverlabel\": {\"bgcolor\": \"DarkGreen\"}, \"hovertext\": \"Step 13 [2018-05-15 18:00:00]<br>BUY 0.33675124 BTC @ 8526.65 USD MARKET<br>Total: 2871.36 USD - Comm.: 8.64 USD\", \"opacity\": 0.6, \"showarrow\": true, \"x\": 12, \"xref\": \"x\", \"y\": 8526.65, \"yref\": \"y\"}, {\"arrowcolor\": \"FireBrick\", \"arrowhead\": 2, \"arrowsize\": 0.8, \"arrowwidth\": 4, \"ax\": 0, \"ay\": -15, \"hoverlabel\": {\"bgcolor\": \"FireBrick\"}, \"hovertext\": \"Step 10 [2018-05-15 15:00:00]<br>SELL 0.91508999 BTC @ 8520.3 USD MARKET<br>Total: 7796.84 USD - Comm.: 0.00275353 BTC\", \"opacity\": 0.6, \"showarrow\": true, \"x\": 9, \"xref\": \"x\", \"y\": 8520.3, \"yref\": \"y\"}, {\"arrowcolor\": \"DarkGreen\", \"arrowhead\": 2, \"arrowsize\": 0.8, \"arrowwidth\": 4, \"ax\": 0, \"ay\": 15, \"hoverlabel\": {\"bgcolor\": \"DarkGreen\"}, \"hovertext\": \"Step 9 [2018-05-15 14:00:00]<br>BUY 0.91784352 BTC @ 8517.77 USD MARKET<br>Total: 7817.98 USD - Comm.: 23.52 USD\", \"opacity\": 0.6, \"showarrow\": true, \"x\": 8, \"xref\": \"x\", \"y\": 8517.77, \"yref\": \"y\"}, {\"arrowcolor\": \"DarkGreen\", \"arrowhead\": 2, \"arrowsize\": 0.8, \"arrowwidth\": 4, \"ax\": 0, \"ay\": 15, \"hoverlabel\": {\"bgcolor\": \"DarkGreen\"}, \"hovertext\": \"Step 8 [2018-05-15 13:00:00]<br>BUY 0.09105823 BTC @ 8759.23 USD MARKET<br>Total: 797.6 USD - Comm.: 2.40 USD\", \"opacity\": 0.6, \"showarrow\": true, \"x\": 7, \"xref\": \"x\", \"y\": 8759.23, \"yref\": \"y\"}, {\"arrowcolor\": \"FireBrick\", \"arrowhead\": 2, \"arrowsize\": 0.8, \"arrowwidth\": 4, \"ax\": 0, \"ay\": -15, \"hoverlabel\": {\"bgcolor\": \"FireBrick\"}, \"hovertext\": \"Step 5 [2018-05-15 10:00:00]<br>SELL 8.0757 BTC @ 8795.9 USD MARKET<br>Total: 71033.05 USD - Comm.: 0.02430000 BTC\", \"opacity\": 0.6, \"showarrow\": true, \"x\": 4, \"xref\": \"x\", \"y\": 8795.9, \"yref\": \"y\"}, {\"arrowcolor\": \"DarkGreen\", \"arrowhead\": 2, \"arrowsize\": 0.8, \"arrowwidth\": 4, \"ax\": 0, \"ay\": 15, \"hoverlabel\": {\"bgcolor\": \"DarkGreen\"}, \"hovertext\": \"Step 4 [2018-05-15 09:00:00]<br>BUY 0.11448821 BTC @ 8708.32 USD MARKET<br>Total: 997.0 USD - Comm.: 3.00 USD\", \"opacity\": 0.6, \"showarrow\": true, \"x\": 3, \"xref\": \"x\", \"y\": 8708.32, \"yref\": \"y\"}, {\"arrowcolor\": \"DarkGreen\", \"arrowhead\": 2, \"arrowsize\": 0.8, \"arrowwidth\": 4, \"ax\": 0, \"ay\": 15, \"hoverlabel\": {\"bgcolor\": \"DarkGreen\"}, \"hovertext\": \"Step 3 [2018-05-15 08:00:00]<br>BUY 0.57111826 BTC @ 8728.49 USD MARKET<br>Total: 4985.0 USD - Comm.: 15.00 USD\", \"opacity\": 0.6, \"showarrow\": true, \"x\": 2, \"xref\": \"x\", \"y\": 8728.49, \"yref\": \"y\"}, {\"arrowcolor\": \"FireBrick\", \"arrowhead\": 2, \"arrowsize\": 0.8, \"arrowwidth\": 4, \"ax\": 0, \"ay\": -15, \"hoverlabel\": {\"bgcolor\": \"FireBrick\"}, \"hovertext\": \"Step 2 [2018-05-15 07:00:00]<br>SELL 0.8973 BTC @ 8739.0 USD MARKET<br>Total: 7841.5 USD - Comm.: 0.00270000 BTC\", \"opacity\": 0.6, \"showarrow\": true, \"x\": 1, \"xref\": \"x\", \"y\": 8739.0, \"yref\": \"y\"}, {\"arrowcolor\": \"FireBrick\", \"arrowhead\": 2, \"arrowsize\": 0.8, \"arrowwidth\": 4, \"ax\": 0, \"ay\": -15, \"hoverlabel\": {\"bgcolor\": \"FireBrick\"}, \"hovertext\": \"Step 1 [2018-05-15 06:00:00]<br>SELL 0.997 BTC @ 8740.99 USD MARKET<br>Total: 8714.77 USD - Comm.: 0.00300000 BTC\", \"opacity\": 0.6, \"showarrow\": true, \"x\": 0, \"xref\": \"x\", \"y\": 8740.99, \"yref\": \"y\"}], \"margin\": {\"t\": 50}, \"template\": {\"data\": {\"bar\": [{\"error_x\": {\"color\": \"#2a3f5f\"}, \"error_y\": {\"color\": \"#2a3f5f\"}, \"marker\": {\"line\": {\"color\": \"white\", \"width\": 0.5}}, \"type\": \"bar\"}], \"barpolar\": [{\"marker\": {\"line\": {\"color\": \"white\", \"width\": 0.5}}, \"type\": \"barpolar\"}], \"carpet\": [{\"aaxis\": {\"endlinecolor\": \"#2a3f5f\", \"gridcolor\": \"#C8D4E3\", \"linecolor\": \"#C8D4E3\", \"minorgridcolor\": \"#C8D4E3\", \"startlinecolor\": \"#2a3f5f\"}, \"baxis\": {\"endlinecolor\": \"#2a3f5f\", \"gridcolor\": \"#C8D4E3\", \"linecolor\": \"#C8D4E3\", \"minorgridcolor\": \"#C8D4E3\", \"startlinecolor\": \"#2a3f5f\"}, \"type\": \"carpet\"}], \"choropleth\": [{\"colorbar\": {\"outlinewidth\": 0, \"ticks\": \"\"}, \"type\": \"choropleth\"}], \"contour\": [{\"colorbar\": {\"outlinewidth\": 0, \"ticks\": \"\"}, \"colorscale\": [[0.0, \"#0d0887\"], [0.1111111111111111, \"#46039f\"], [0.2222222222222222, \"#7201a8\"], [0.3333333333333333, \"#9c179e\"], [0.4444444444444444, \"#bd3786\"], [0.5555555555555556, \"#d8576b\"], [0.6666666666666666, \"#ed7953\"], [0.7777777777777778, \"#fb9f3a\"], [0.8888888888888888, \"#fdca26\"], [1.0, \"#f0f921\"]], \"type\": \"contour\"}], \"contourcarpet\": [{\"colorbar\": {\"outlinewidth\": 0, \"ticks\": \"\"}, \"type\": \"contourcarpet\"}], \"heatmap\": [{\"colorbar\": {\"outlinewidth\": 0, \"ticks\": \"\"}, \"colorscale\": [[0.0, \"#0d0887\"], [0.1111111111111111, \"#46039f\"], [0.2222222222222222, \"#7201a8\"], [0.3333333333333333, \"#9c179e\"], [0.4444444444444444, \"#bd3786\"], [0.5555555555555556, \"#d8576b\"], [0.6666666666666666, \"#ed7953\"], [0.7777777777777778, \"#fb9f3a\"], [0.8888888888888888, \"#fdca26\"], [1.0, \"#f0f921\"]], \"type\": \"heatmap\"}], \"heatmapgl\": [{\"colorbar\": {\"outlinewidth\": 0, \"ticks\": \"\"}, \"colorscale\": [[0.0, \"#0d0887\"], [0.1111111111111111, \"#46039f\"], [0.2222222222222222, \"#7201a8\"], [0.3333333333333333, \"#9c179e\"], [0.4444444444444444, \"#bd3786\"], [0.5555555555555556, \"#d8576b\"], [0.6666666666666666, \"#ed7953\"], [0.7777777777777778, \"#fb9f3a\"], [0.8888888888888888, \"#fdca26\"], [1.0, \"#f0f921\"]], \"type\": \"heatmapgl\"}], \"histogram\": [{\"marker\": {\"colorbar\": {\"outlinewidth\": 0, \"ticks\": \"\"}}, \"type\": \"histogram\"}], \"histogram2d\": [{\"colorbar\": {\"outlinewidth\": 0, \"ticks\": \"\"}, \"colorscale\": [[0.0, \"#0d0887\"], [0.1111111111111111, \"#46039f\"], [0.2222222222222222, \"#7201a8\"], [0.3333333333333333, \"#9c179e\"], [0.4444444444444444, \"#bd3786\"], [0.5555555555555556, \"#d8576b\"], [0.6666666666666666, \"#ed7953\"], [0.7777777777777778, \"#fb9f3a\"], [0.8888888888888888, \"#fdca26\"], [1.0, \"#f0f921\"]], \"type\": \"histogram2d\"}], \"histogram2dcontour\": [{\"colorbar\": {\"outlinewidth\": 0, \"ticks\": \"\"}, \"colorscale\": [[0.0, \"#0d0887\"], [0.1111111111111111, \"#46039f\"], [0.2222222222222222, \"#7201a8\"], [0.3333333333333333, \"#9c179e\"], [0.4444444444444444, \"#bd3786\"], [0.5555555555555556, \"#d8576b\"], [0.6666666666666666, \"#ed7953\"], [0.7777777777777778, \"#fb9f3a\"], [0.8888888888888888, \"#fdca26\"], [1.0, \"#f0f921\"]], \"type\": \"histogram2dcontour\"}], \"mesh3d\": [{\"colorbar\": {\"outlinewidth\": 0, \"ticks\": \"\"}, \"type\": \"mesh3d\"}], \"parcoords\": [{\"line\": {\"colorbar\": {\"outlinewidth\": 0, \"ticks\": \"\"}}, \"type\": \"parcoords\"}], \"pie\": [{\"automargin\": true, \"type\": \"pie\"}], \"scatter\": [{\"marker\": {\"colorbar\": {\"outlinewidth\": 0, \"ticks\": \"\"}}, \"type\": \"scatter\"}], \"scatter3d\": [{\"line\": {\"colorbar\": {\"outlinewidth\": 0, \"ticks\": \"\"}}, \"marker\": {\"colorbar\": {\"outlinewidth\": 0, \"ticks\": \"\"}}, \"type\": \"scatter3d\"}], \"scattercarpet\": [{\"marker\": {\"colorbar\": {\"outlinewidth\": 0, \"ticks\": \"\"}}, \"type\": \"scattercarpet\"}], \"scattergeo\": [{\"marker\": {\"colorbar\": {\"outlinewidth\": 0, \"ticks\": \"\"}}, \"type\": \"scattergeo\"}], \"scattergl\": [{\"marker\": {\"colorbar\": {\"outlinewidth\": 0, \"ticks\": \"\"}}, \"type\": \"scattergl\"}], \"scattermapbox\": [{\"marker\": {\"colorbar\": {\"outlinewidth\": 0, \"ticks\": \"\"}}, \"type\": \"scattermapbox\"}], \"scatterpolar\": [{\"marker\": {\"colorbar\": {\"outlinewidth\": 0, \"ticks\": \"\"}}, \"type\": \"scatterpolar\"}], \"scatterpolargl\": [{\"marker\": {\"colorbar\": {\"outlinewidth\": 0, \"ticks\": \"\"}}, \"type\": \"scatterpolargl\"}], \"scatterternary\": [{\"marker\": {\"colorbar\": {\"outlinewidth\": 0, \"ticks\": \"\"}}, \"type\": \"scatterternary\"}], \"surface\": [{\"colorbar\": {\"outlinewidth\": 0, \"ticks\": \"\"}, \"colorscale\": [[0.0, \"#0d0887\"], [0.1111111111111111, \"#46039f\"], [0.2222222222222222, \"#7201a8\"], [0.3333333333333333, \"#9c179e\"], [0.4444444444444444, \"#bd3786\"], [0.5555555555555556, \"#d8576b\"], [0.6666666666666666, \"#ed7953\"], [0.7777777777777778, \"#fb9f3a\"], [0.8888888888888888, \"#fdca26\"], [1.0, \"#f0f921\"]], \"type\": \"surface\"}], \"table\": [{\"cells\": {\"fill\": {\"color\": \"#EBF0F8\"}, \"line\": {\"color\": \"white\"}}, \"header\": {\"fill\": {\"color\": \"#C8D4E3\"}, \"line\": {\"color\": \"white\"}}, \"type\": \"table\"}]}, \"layout\": {\"annotationdefaults\": {\"arrowcolor\": \"#2a3f5f\", \"arrowhead\": 0, \"arrowwidth\": 1}, \"autotypenumbers\": \"strict\", \"coloraxis\": {\"colorbar\": {\"outlinewidth\": 0, \"ticks\": \"\"}}, \"colorscale\": {\"diverging\": [[0, \"#8e0152\"], [0.1, \"#c51b7d\"], [0.2, \"#de77ae\"], [0.3, \"#f1b6da\"], [0.4, \"#fde0ef\"], [0.5, \"#f7f7f7\"], [0.6, \"#e6f5d0\"], [0.7, \"#b8e186\"], [0.8, \"#7fbc41\"], [0.9, \"#4d9221\"], [1, \"#276419\"]], \"sequential\": [[0.0, \"#0d0887\"], [0.1111111111111111, \"#46039f\"], [0.2222222222222222, \"#7201a8\"], [0.3333333333333333, \"#9c179e\"], [0.4444444444444444, \"#bd3786\"], [0.5555555555555556, \"#d8576b\"], [0.6666666666666666, \"#ed7953\"], [0.7777777777777778, \"#fb9f3a\"], [0.8888888888888888, \"#fdca26\"], [1.0, \"#f0f921\"]], \"sequentialminus\": [[0.0, \"#0d0887\"], [0.1111111111111111, \"#46039f\"], [0.2222222222222222, \"#7201a8\"], [0.3333333333333333, \"#9c179e\"], [0.4444444444444444, \"#bd3786\"], [0.5555555555555556, \"#d8576b\"], [0.6666666666666666, \"#ed7953\"], [0.7777777777777778, \"#fb9f3a\"], [0.8888888888888888, \"#fdca26\"], [1.0, \"#f0f921\"]]}, \"colorway\": [\"#636efa\", \"#EF553B\", \"#00cc96\", \"#ab63fa\", \"#FFA15A\", \"#19d3f3\", \"#FF6692\", \"#B6E880\", \"#FF97FF\", \"#FECB52\"], \"font\": {\"color\": \"#2a3f5f\"}, \"geo\": {\"bgcolor\": \"white\", \"lakecolor\": \"white\", \"landcolor\": \"white\", \"showlakes\": true, \"showland\": true, \"subunitcolor\": \"#C8D4E3\"}, \"hoverlabel\": {\"align\": \"left\"}, \"hovermode\": \"closest\", \"mapbox\": {\"style\": \"light\"}, \"paper_bgcolor\": \"white\", \"plot_bgcolor\": \"white\", \"polar\": {\"angularaxis\": {\"gridcolor\": \"#EBF0F8\", \"linecolor\": \"#EBF0F8\", \"ticks\": \"\"}, \"bgcolor\": \"white\", \"radialaxis\": {\"gridcolor\": \"#EBF0F8\", \"linecolor\": \"#EBF0F8\", \"ticks\": \"\"}}, \"scene\": {\"xaxis\": {\"backgroundcolor\": \"white\", \"gridcolor\": \"#DFE8F3\", \"gridwidth\": 2, \"linecolor\": \"#EBF0F8\", \"showbackground\": true, \"ticks\": \"\", \"zerolinecolor\": \"#EBF0F8\"}, \"yaxis\": {\"backgroundcolor\": \"white\", \"gridcolor\": \"#DFE8F3\", \"gridwidth\": 2, \"linecolor\": \"#EBF0F8\", \"showbackground\": true, \"ticks\": \"\", \"zerolinecolor\": \"#EBF0F8\"}, \"zaxis\": {\"backgroundcolor\": \"white\", \"gridcolor\": \"#DFE8F3\", \"gridwidth\": 2, \"linecolor\": \"#EBF0F8\", \"showbackground\": true, \"ticks\": \"\", \"zerolinecolor\": \"#EBF0F8\"}}, \"shapedefaults\": {\"line\": {\"color\": \"#2a3f5f\"}}, \"ternary\": {\"aaxis\": {\"gridcolor\": \"#DFE8F3\", \"linecolor\": \"#A2B1C6\", \"ticks\": \"\"}, \"baxis\": {\"gridcolor\": \"#DFE8F3\", \"linecolor\": \"#A2B1C6\", \"ticks\": \"\"}, \"bgcolor\": \"white\", \"caxis\": {\"gridcolor\": \"#DFE8F3\", \"linecolor\": \"#A2B1C6\", \"ticks\": \"\"}}, \"title\": {\"x\": 0.05}, \"xaxis\": {\"automargin\": true, \"gridcolor\": \"#EBF0F8\", \"linecolor\": \"#EBF0F8\", \"ticks\": \"\", \"title\": {\"standoff\": 15}, \"zerolinecolor\": \"#EBF0F8\", \"zerolinewidth\": 2}, \"yaxis\": {\"automargin\": true, \"gridcolor\": \"#EBF0F8\", \"linecolor\": \"#EBF0F8\", \"ticks\": \"\", \"title\": {\"standoff\": 15}, \"zerolinecolor\": \"#EBF0F8\", \"zerolinewidth\": 2}}}, \"title\": {\"text\": \"[2021-02-12 00:08:21 AM] Episode: 2/2 Step: 51/200\"}, \"xaxis\": {\"anchor\": \"y\", \"domain\": [0.0, 1.0], \"gridcolor\": \"Gainsboro\", \"linecolor\": \"Grey\", \"matches\": \"x4\", \"rangeslider\": {\"visible\": false}, \"showticklabels\": false, \"title\": {\"font\": {\"size\": 12}, \"standoff\": 7, \"text\": \"Price\"}}, \"xaxis2\": {\"anchor\": \"y2\", \"domain\": [0.0, 1.0], \"gridcolor\": \"Gainsboro\", \"linecolor\": \"Grey\", \"matches\": \"x4\", \"showticklabels\": false, \"title\": {\"font\": {\"size\": 12}, \"standoff\": 7, \"text\": \"Volume\"}}, \"xaxis3\": {\"anchor\": \"y3\", \"domain\": [0.0, 1.0], \"gridcolor\": \"Gainsboro\", \"linecolor\": \"Grey\", \"matches\": \"x4\", \"showticklabels\": false, \"title\": {\"font\": {\"size\": 12}, \"standoff\": 7, \"text\": \"Performance\"}}, \"xaxis4\": {\"anchor\": \"y4\", \"domain\": [0.0, 1.0], \"gridcolor\": \"Gainsboro\", \"linecolor\": \"Grey\", \"title\": {\"font\": {\"size\": 12}, \"standoff\": 7, \"text\": \"Net Worth\"}}, \"yaxis\": {\"anchor\": \"x\", \"domain\": [0.49950000000000006, 1.0], \"gridcolor\": \"Gainsboro\", \"linecolor\": \"Grey\"}, \"yaxis2\": {\"anchor\": \"x2\", \"domain\": [0.333, 0.46950000000000003], \"gridcolor\": \"Gainsboro\", \"linecolor\": \"Grey\"}, \"yaxis3\": {\"anchor\": \"x3\", \"domain\": [0.1665, 0.30300000000000005], \"gridcolor\": \"Gainsboro\", \"linecolor\": \"Grey\"}, \"yaxis4\": {\"anchor\": \"x4\", \"domain\": [0.0, 0.1365], \"gridcolor\": \"Gainsboro\", \"linecolor\": \"Grey\"}},                        {\"responsive\": true}                    ).then(function(){\n                            \nvar gd = document.getElementById('7fe1a5df-2578-40f8-8e8f-b110ceea679e');\nvar x = new MutationObserver(function (mutations, observer) {{\n        var display = window.getComputedStyle(gd).display;\n        if (!display || display === 'none') {{\n            console.log([gd, 'removed!']);\n            Plotly.purge(gd);\n            observer.disconnect();\n        }}\n}});\n\n// Listen for the removal of the full notebook cells\nvar notebookContainer = gd.closest('#notebook-container');\nif (notebookContainer) {{\n    x.observe(notebookContainer, {childList: true});\n}}\n\n// Listen for the clearing of the current output cell\nvar outputEl = gd.closest('.output');\nif (outputEl) {{\n    x.observe(outputEl, {childList: true});\n}}\n\n                        })                };                });            </script>        </div>"
     },
     "metadata": {},
     "output_type": "display_data"
    },
    {
     "data": {
      "application/vnd.plotly.v1+json": {
       "config": {
        "plotlyServerURL": "https://plot.ly"
       },
       "data": [
        {
         "close": [
          8740.99,
          8739.0,
          8728.49,
          8708.32,
          8795.9,
          8760.0,
          8760.0,
          8759.23,
          8517.77,
          8520.3,
          8535.23,
          8546.34,
          8526.65,
          8555.6,
          8512.1,
          8492.28,
          8460.0,
          8474.99,
          8455.92,
          8326.28,
          8133.43,
          8164.79,
          8229.38,
          8220.4,
          8238.8,
          8232.99,
          8207.48,
          8243.45,
          8371.13,
          8373.0,
          8365.08,
          8179.99,
          8225.0,
          8285.8,
          8273.4,
          8297.4,
          8279.89,
          8252.72,
          8302.18,
          8295.85,
          8277.25,
          8346.59,
          8358.3,
          8375.1,
          8368.62,
          8366.72,
          8314.77,
          8363.7,
          8344.16,
          8247.4,
          8277.4,
          8291.67,
          8307.89,
          8298.9,
          8269.47,
          8300.98,
          8318.49,
          8306.39,
          8276.43,
          8257.69,
          8166.0,
          8176.33,
          8200.7,
          8155.41,
          8080.0,
          8067.03,
          7958.08,
          7974.25,
          7998.5,
          7991.99,
          8022.7,
          8042.97,
          7965.67,
          8088.95,
          8122.19,
          8107.99,
          8137.73,
          8115.0,
          8107.0,
          8094.4,
          8080.01,
          8117.09,
          8126.99,
          8110.95,
          8215.39,
          8231.42,
          8240.13,
          8235.0,
          8219.9,
          8248.87,
          8213.5,
          8200.99,
          8200.0,
          8237.3,
          8228.13,
          8240.83,
          8214.9,
          8170.07,
          8229.87,
          8205.87,
          8252.56
         ],
         "high": [
          8796.68,
          8766.0,
          8750.27,
          8754.4,
          8865.0,
          8821.19,
          8798.6,
          8771.02,
          8761.7,
          8553.67,
          8589.1,
          8579.48,
          8555.51,
          8583.6,
          8569.92,
          8555.54,
          8557.51,
          8505.0,
          8505.33,
          8478.29,
          8339.81,
          8217.44,
          8252.72,
          8248.63,
          8267.12,
          8255.0,
          8261.24,
          8263.93,
          8455.66,
          8439.44,
          8399.1,
          8381.73,
          8229.91,
          8377.29,
          8329.1,
          8350.0,
          8346.95,
          8377.29,
          8311.35,
          8319.96,
          8398.24,
          8372.58,
          8399.99,
          8386.53,
          8400.0,
          8500.0,
          8381.0,
          8371.3,
          8382.41,
          8351.0,
          8292.99,
          8325.8,
          8318.99,
          8324.9,
          8335.56,
          8309.4,
          8377.29,
          8330.41,
          8328.23,
          8284.36,
          8274.83,
          8200.0,
          8232.14,
          8213.97,
          8155.41,
          8108.28,
          8068.92,
          8019.9,
          8026.66,
          8025.0,
          8104.69,
          8061.39,
          8045.99,
          8170.71,
          8144.16,
          8139.99,
          8152.99,
          8137.73,
          8143.72,
          8129.99,
          8106.76,
          8139.0,
          8152.04,
          8146.99,
          8232.14,
          8275.1,
          8256.12,
          8274.1,
          8255.8,
          8253.97,
          8261.09,
          8235.76,
          8227.0,
          8273.36,
          8264.21,
          8250.0,
          8250.86,
          8235.77,
          8232.12,
          8232.14,
          8252.72
         ],
         "low": [
          8707.28,
          8721.11,
          8660.53,
          8701.35,
          8695.11,
          8740.54,
          8741.52,
          8700.0,
          8467.42,
          8477.89,
          8500.78,
          8500.0,
          8400.0,
          8451.05,
          8461.38,
          8481.24,
          8420.37,
          8450.0,
          8430.94,
          8275.02,
          8100.01,
          8122.56,
          8157.01,
          8166.25,
          8176.91,
          8213.79,
          8200.0,
          8207.48,
          8237.1,
          8370.0,
          8356.4,
          8145.1,
          8173.6,
          8211.8,
          8201.0,
          8250.9,
          8266.46,
          8252.72,
          8232.14,
          8268.37,
          8277.25,
          8277.25,
          8314.78,
          8314.77,
          8350.07,
          8331.39,
          8314.77,
          8275.45,
          8335.49,
          8191.14,
          8227.7,
          8264.13,
          8249.93,
          8269.52,
          8219.44,
          8262.68,
          8286.65,
          8289.87,
          8232.14,
          8232.14,
          8110.02,
          8154.95,
          8168.6,
          8151.0,
          7980.0,
          8005.95,
          7929.53,
          7931.03,
          7950.0,
          7980.58,
          7991.99,
          7992.75,
          7953.4,
          7965.67,
          8085.94,
          8078.48,
          8092.9,
          8049.22,
          8079.46,
          8062.12,
          8043.96,
          8063.1,
          8088.46,
          8094.43,
          8088.46,
          8191.14,
          8212.0,
          8224.5,
          8211.0,
          8211.01,
          8210.03,
          8158.27,
          8177.65,
          8179.41,
          8221.92,
          8217.32,
          8213.52,
          8141.08,
          8146.1,
          8186.03,
          8197.09
         ],
         "name": "Price",
         "open": [
          8733.86,
          8740.99,
          8739.0,
          8728.49,
          8708.32,
          8795.9,
          8760.0,
          8760.0,
          8759.23,
          8517.77,
          8520.3,
          8535.23,
          8546.34,
          8526.65,
          8555.6,
          8512.1,
          8492.28,
          8460.0,
          8474.99,
          8455.92,
          8326.28,
          8133.43,
          8164.79,
          8229.38,
          8220.4,
          8238.8,
          8232.99,
          8207.48,
          8243.45,
          8371.13,
          8373.0,
          8365.08,
          8179.99,
          8225.0,
          8285.8,
          8273.4,
          8297.4,
          8279.89,
          8252.72,
          8302.18,
          8295.85,
          8277.25,
          8346.59,
          8358.3,
          8375.1,
          8368.62,
          8366.72,
          8314.77,
          8363.7,
          8344.16,
          8247.4,
          8277.4,
          8291.67,
          8307.89,
          8298.9,
          8269.47,
          8300.98,
          8318.49,
          8306.39,
          8276.43,
          8257.69,
          8166.0,
          8176.33,
          8200.7,
          8155.41,
          8080.0,
          8067.03,
          7958.08,
          7974.25,
          7998.5,
          7991.99,
          8022.7,
          8042.97,
          7965.67,
          8088.95,
          8122.19,
          8107.99,
          8137.73,
          8115.0,
          8107.0,
          8094.4,
          8080.01,
          8117.09,
          8126.99,
          8110.95,
          8215.39,
          8231.42,
          8240.13,
          8235.0,
          8219.9,
          8248.87,
          8213.5,
          8200.99,
          8200.0,
          8237.3,
          8228.13,
          8240.83,
          8214.9,
          8170.07,
          8229.87,
          8205.87
         ],
         "showlegend": false,
         "type": "candlestick",
         "uid": "5d9cbee0-de77-4557-a546-4573fc3c95e9",
         "xaxis": "x",
         "yaxis": "y"
        },
        {
         "marker": {
          "color": "DodgerBlue"
         },
         "name": "Volume",
         "showlegend": false,
         "type": "bar",
         "uid": "14a86980-c226-4a52-ae75-2f3d7c02334f",
         "xaxis": "x2",
         "y": [
          559.93,
          273.58,
          917.79,
          182.62,
          1260.69,
          324.11,
          324.2,
          730.67,
          1341.75,
          792.07,
          385.69,
          475.08,
          877.26,
          670.49,
          610.97,
          168.99,
          305.92,
          136.05,
          154.26,
          1070.93,
          1710.2,
          492.8,
          630.72,
          620.93,
          586.34,
          304.52,
          450.97,
          182.36,
          915.32,
          319.29,
          362.01,
          1046.38,
          357.91,
          561.2,
          322.53,
          1073.71,
          237.21,
          251.2,
          359.73,
          117.23,
          363.17,
          214.18,
          171.64,
          258.58,
          299.52,
          718.98,
          119.7,
          405.25,
          210.77,
          714.82,
          215.97,
          164.2,
          201.55,
          203.41,
          886.82,
          95.49,
          499.67,
          172.77,
          355.39,
          255.27,
          591.06,
          133.1,
          149.13,
          87.55,
          1061.54,
          286.94,
          524.42,
          316.0,
          441.43,
          189.7,
          844.94,
          155.34,
          257.56,
          610.69,
          217.97,
          173.18,
          218.06,
          372.97,
          484.39,
          248.1,
          162.35,
          303.42,
          290.69,
          160.93,
          369.4,
          487.27,
          93.35,
          96.68,
          72.14,
          90.22,
          168.52,
          203.15,
          71.42,
          464.56,
          57.0,
          89.42,
          49.47,
          200.05,
          254.37,
          65.05,
          118.19
         ],
         "yaxis": "y2"
        },
        {
         "mode": "lines",
         "name": "bitstamp:/USD-BTC",
         "type": "scatter",
         "uid": "574af33e-2e53-4600-af77-543cc2191f5e",
         "xaxis": "x3",
         "y": [
          8740.99,
          8739.0,
          8728.49,
          8708.32,
          8795.9,
          8760.0,
          8760.0,
          8759.23,
          8517.77,
          8520.3,
          8535.23,
          8546.34,
          8526.65,
          8555.6,
          8512.1,
          8492.28,
          8460.0,
          8474.99,
          8455.92,
          8326.28,
          8133.43,
          8164.79,
          8229.38,
          8220.4,
          8238.8,
          8232.99,
          8207.48,
          8243.45,
          8371.13,
          8373.0,
          8365.08,
          8179.99,
          8225.0,
          8285.8,
          8273.4,
          8297.4,
          8279.89,
          8252.72,
          8302.18,
          8295.85,
          8277.25,
          8346.59,
          8358.3,
          8375.1,
          8368.62,
          8366.72,
          8314.77,
          8363.7,
          8344.16,
          8247.4,
          8277.4,
          8291.67,
          8307.89,
          8298.9,
          8269.47,
          8300.98,
          8318.49,
          8306.39,
          8276.43,
          8257.69,
          8166.0,
          8176.33,
          8200.7,
          8155.41,
          8080.0,
          8067.03,
          7958.08,
          7974.25,
          7998.5,
          7991.99,
          8022.7,
          8042.97,
          7965.67,
          8088.95,
          8122.19,
          8107.99,
          8137.73,
          8115.0,
          8107.0,
          8094.4,
          8080.01,
          8117.09,
          8126.99,
          8110.95,
          8215.39,
          8231.42,
          8240.13,
          8235.0,
          8219.9,
          8248.87,
          8213.5,
          8200.99,
          8200.0,
          8237.3,
          8228.13,
          8240.83,
          8214.9,
          8170.07,
          8229.87,
          8205.87,
          8252.56
         ],
         "yaxis": "y3"
        },
        {
         "mode": "lines",
         "name": "bitstamp:/USD:/free",
         "type": "scatter",
         "uid": "ff5fe72f-8fec-4094-8d5a-9b1db2e631dc",
         "xaxis": "x3",
         "y": [
          10000.0,
          10000.0,
          10000.0,
          5000.0,
          4000.0,
          4000.0,
          4000.0,
          4000.0,
          3200.0,
          3200.0,
          3200.0,
          3200.0,
          3200.0,
          320.0,
          320.0,
          320.0,
          320.0,
          288.0,
          288.0,
          0.0,
          0.0,
          5644.96,
          6576.93,
          6576.93,
          6576.93,
          6576.93,
          6576.93,
          6576.93,
          6576.93,
          2630.77,
          0.0,
          0.0,
          6579.31,
          6579.31,
          6579.31,
          6579.31,
          6579.31,
          6579.31,
          6579.31,
          6579.31,
          6579.31,
          6579.31,
          3289.65,
          3289.65,
          3289.65,
          3289.65,
          0.0,
          0.0,
          0.0,
          0.0,
          0.0,
          0.0,
          0.0,
          0.0,
          0.0,
          0.0,
          0.0,
          0.0,
          0.0,
          0.0,
          0.0,
          5749.56,
          5749.56,
          2874.78,
          2874.78,
          2874.78,
          287.48,
          287.48,
          287.48,
          287.48,
          287.48,
          287.48,
          287.48,
          287.48,
          287.48,
          287.48,
          287.48,
          287.48,
          287.48,
          287.48,
          287.48,
          287.48,
          258.73,
          258.73,
          258.73,
          258.73,
          77.62,
          77.62,
          77.62,
          23.29,
          23.29,
          0.0,
          0.0,
          0.0,
          0.0,
          0.0,
          0.0,
          0.0,
          0.0,
          0.0,
          0.0
         ],
         "yaxis": "y3"
        },
        {
         "mode": "lines",
         "name": "bitstamp:/USD:/locked",
         "type": "scatter",
         "uid": "b65b6550-ac6d-4f1e-8514-e0d91d4a02fa",
         "xaxis": "x3",
         "y": [
          0.0,
          8714.77,
          16556.27,
          16556.27,
          16556.27,
          87589.32,
          87589.32,
          87589.32,
          87589.32,
          79747.82,
          87544.66,
          87544.66,
          87544.66,
          87544.66,
          87544.66,
          87544.66,
          87544.66,
          87544.66,
          87544.66,
          87544.66,
          0.0,
          0.0,
          8533.24,
          37173.72,
          42045.02,
          46439.0,
          50390.8,
          53936.4,
          57141.42,
          57141.42,
          57141.42,
          62995.58,
          65285.43,
          67357.64,
          74872.73,
          86128.49,
          86128.49,
          86128.49,
          86128.49,
          86128.49,
          86128.49,
          86128.49,
          86128.49,
          86128.49,
          78693.53,
          78693.53,
          78693.53,
          78693.53,
          78693.53,
          78693.53,
          78693.53,
          78693.53,
          78693.53,
          78693.53,
          78693.53,
          78693.53,
          78693.53,
          78693.53,
          78693.53,
          78693.53,
          78693.53,
          78693.53,
          78693.53,
          78693.53,
          78693.53,
          67437.77,
          67437.77,
          78457.27,
          78457.27,
          78457.27,
          78457.27,
          78457.27,
          78457.27,
          78457.27,
          78457.27,
          67660.42,
          67660.42,
          67660.42,
          67660.42,
          67660.42,
          67660.42,
          67660.42,
          67660.42,
          67660.42,
          67660.42,
          67660.42,
          67660.42,
          67660.42,
          67660.42,
          67660.42,
          67660.42,
          67660.42,
          67660.42,
          67660.42,
          67660.42,
          67660.42,
          67660.42,
          67660.42,
          67660.42,
          67660.42,
          67660.42
         ],
         "yaxis": "y3"
        },
        {
         "mode": "lines",
         "name": "bitstamp:/USD:/total",
         "type": "scatter",
         "uid": "0fb84544-fd88-49af-9140-fc69fc077cb0",
         "xaxis": "x3",
         "y": [
          10000.0,
          18714.77,
          26556.27,
          21556.27,
          20556.27,
          91589.32,
          91589.32,
          91589.32,
          90789.32,
          82947.82,
          90744.66,
          90744.66,
          90744.66,
          87864.66,
          87864.66,
          87864.66,
          87864.66,
          87832.66,
          87832.66,
          87544.66,
          0.0,
          5644.96,
          15110.17,
          43750.65,
          48621.95,
          53015.93,
          56967.73,
          60513.33,
          63718.35,
          59772.19,
          57141.42,
          62995.58,
          71864.74,
          73936.95,
          81452.04,
          92707.8,
          92707.8,
          92707.8,
          92707.8,
          92707.8,
          92707.8,
          92707.8,
          89418.14,
          89418.14,
          81983.18,
          81983.18,
          78693.53,
          78693.53,
          78693.53,
          78693.53,
          78693.53,
          78693.53,
          78693.53,
          78693.53,
          78693.53,
          78693.53,
          78693.53,
          78693.53,
          78693.53,
          78693.53,
          78693.53,
          84443.09,
          84443.09,
          81568.31,
          81568.31,
          70312.55,
          67725.25,
          78744.75,
          78744.75,
          78744.75,
          78744.75,
          78744.75,
          78744.75,
          78744.75,
          78744.75,
          67947.9,
          67947.9,
          67947.9,
          67947.9,
          67947.9,
          67947.9,
          67947.9,
          67919.15,
          67919.15,
          67919.15,
          67919.15,
          67738.04,
          67738.04,
          67738.04,
          67683.71,
          67683.71,
          67660.42,
          67660.42,
          67660.42,
          67660.42,
          67660.42,
          67660.42,
          67660.42,
          67660.42,
          67660.42,
          67660.42
         ],
         "yaxis": "y3"
        },
        {
         "mode": "lines",
         "name": "bitstamp:/BTC:/free",
         "type": "scatter",
         "uid": "1a8e0fb8-1bbf-4b27-8697-5e130693893c",
         "xaxis": "x3",
         "y": [
          10.0,
          9.0,
          8.1,
          8.1,
          8.1,
          0.0,
          0.0,
          0.0,
          0.0,
          0.91784352,
          0.0,
          0.0,
          0.0,
          0.0,
          0.0,
          0.0,
          0.0,
          0.0,
          0.0,
          0.0,
          10.48271616,
          9.43444454,
          8.49100009,
          5.94370006,
          5.34933005,
          4.81439705,
          4.33295734,
          3.89966161,
          3.50969545,
          3.50969545,
          3.50969545,
          2.80775636,
          2.52698072,
          2.27428265,
          1.36456959,
          0.0,
          0.0,
          0.0,
          0.0,
          0.0,
          0.0,
          0.0,
          0.0,
          0.0,
          0.0,
          0.0,
          0.0,
          0.0,
          0.0,
          0.0,
          0.0,
          0.0,
          0.0,
          0.0,
          0.0,
          0.0,
          0.0,
          0.0,
          0.0,
          0.0,
          0.0,
          0.0,
          0.0,
          0.0,
          0.0,
          1.38886015,
          1.38886015,
          0.0,
          0.0,
          0.0,
          0.0,
          0.0,
          0.0,
          0.0,
          0.0,
          0.0,
          0.0,
          0.0,
          0.0,
          0.0,
          0.0,
          0.0,
          0.0,
          0.0,
          0.0,
          0.0,
          0.0,
          0.0,
          0.0,
          0.0,
          0.0,
          0.0,
          0.0,
          0.0,
          0.0,
          0.0,
          0.0,
          0.0,
          0.0,
          0.0,
          0.0
         ],
         "yaxis": "y3"
        },
        {
         "mode": "lines",
         "name": "bitstamp:/BTC:/locked",
         "type": "scatter",
         "uid": "a0ffd6f4-bd1f-401d-ad90-0c192ed97e4c",
         "xaxis": "x3",
         "y": [
          0.0,
          0.0,
          0.0,
          0.57111826,
          0.68560647,
          0.68560647,
          0.68560647,
          0.68560647,
          0.7766647,
          0.7766647,
          0.7766647,
          0.7766647,
          0.7766647,
          1.11341594,
          1.11341594,
          1.11341594,
          1.11341594,
          1.11718663,
          1.11718663,
          1.1511439,
          1.1511439,
          1.50328176,
          1.28396638,
          0.34052193,
          0.34052193,
          0.34052193,
          0.34052193,
          0.34052193,
          0.34052193,
          0.81050866,
          1.12376317,
          1.12376317,
          0.3170252,
          0.3170252,
          0.3170252,
          0.3170252,
          0.3170252,
          0.3170252,
          0.3170252,
          0.3170252,
          0.3170252,
          0.3170252,
          0.7099749,
          0.7099749,
          1.59505806,
          1.59505806,
          1.98706114,
          1.98706114,
          1.98706114,
          1.98706114,
          1.98706114,
          1.98706114,
          1.98706114,
          1.98706114,
          1.98706114,
          1.98706114,
          1.98706114,
          1.98706114,
          1.98706114,
          1.98706114,
          1.98706114,
          1.28085693,
          1.28085693,
          1.6303588,
          1.6303588,
          1.6303588,
          1.95012208,
          1.95012208,
          1.95012208,
          1.95012208,
          1.95012208,
          1.95012208,
          1.95012208,
          1.95012208,
          1.95012208,
          3.27543705,
          3.27543705,
          3.27543705,
          3.27543705,
          3.27543705,
          3.27543705,
          3.27543705,
          3.27896787,
          3.27896787,
          3.27896787,
          3.27896787,
          3.30090455,
          3.30090455,
          3.30090455,
          3.30749465,
          3.30749465,
          3.3103217,
          3.3103217,
          3.3103217,
          3.3103217,
          3.3103217,
          3.3103217,
          3.3103217,
          3.3103217,
          3.3103217,
          3.3103217
         ],
         "yaxis": "y3"
        },
        {
         "mode": "lines",
         "name": "bitstamp:/BTC:/total",
         "type": "scatter",
         "uid": "075f3401-b1c4-4304-8095-019669793920",
         "xaxis": "x3",
         "y": [
          10.0,
          9.0,
          8.1,
          8.67111826,
          8.78560647,
          0.68560647,
          0.68560647,
          0.68560647,
          0.7766647,
          1.69450822,
          0.7766647,
          0.7766647,
          0.7766647,
          1.11341594,
          1.11341594,
          1.11341594,
          1.11341594,
          1.11718663,
          1.11718663,
          1.1511439,
          11.63386006,
          10.9377263,
          9.77496647,
          6.28422199,
          5.68985198,
          5.15491898,
          4.67347927,
          4.24018354,
          3.85021738,
          4.32020411,
          4.63345862,
          3.93151953,
          2.84400592,
          2.59130785,
          1.68159479,
          0.3170252,
          0.3170252,
          0.3170252,
          0.3170252,
          0.3170252,
          0.3170252,
          0.3170252,
          0.7099749,
          0.7099749,
          1.59505806,
          1.59505806,
          1.98706114,
          1.98706114,
          1.98706114,
          1.98706114,
          1.98706114,
          1.98706114,
          1.98706114,
          1.98706114,
          1.98706114,
          1.98706114,
          1.98706114,
          1.98706114,
          1.98706114,
          1.98706114,
          1.98706114,
          1.28085693,
          1.28085693,
          1.6303588,
          1.6303588,
          3.01921895,
          3.33898223,
          1.95012208,
          1.95012208,
          1.95012208,
          1.95012208,
          1.95012208,
          1.95012208,
          1.95012208,
          1.95012208,
          3.27543705,
          3.27543705,
          3.27543705,
          3.27543705,
          3.27543705,
          3.27543705,
          3.27543705,
          3.27896787,
          3.27896787,
          3.27896787,
          3.27896787,
          3.30090455,
          3.30090455,
          3.30090455,
          3.30749465,
          3.30749465,
          3.3103217,
          3.3103217,
          3.3103217,
          3.3103217,
          3.3103217,
          3.3103217,
          3.3103217,
          3.3103217,
          3.3103217,
          3.3103217
         ],
         "yaxis": "y3"
        },
        {
         "mode": "lines",
         "name": "bitstamp:/BTC:/worth",
         "type": "scatter",
         "uid": "bcac39b0-0c7a-4c53-83ec-a9a65f0688f9",
         "xaxis": "x3",
         "y": [
          87409.9,
          78651.0,
          70700.769,
          75510.8725659232,
          77277.31594947299,
          6005.9126772,
          6005.9126772,
          6005.3847602180995,
          6615.451281719,
          14437.718386865998,
          6629.011847381,
          6637.640592198,
          6622.348064254999,
          9525.941416264,
          9477.507822874002,
          9455.439918943202,
          9419.4988524,
          9468.1455173837,
          9446.840768349599,
          9584.746431692001,
          94623.1864278058,
          89304.23831697699,
          80441.9135688886,
          51658.81844659599,
          46877.552492824,
          42440.3964131502,
          38357.487638939594,
          34953.741002813,
          32230.6702162394,
          36173.06901303,
          38759.2520329896,
          32159.7904402047,
          23391.948691999998,
          21471.05858353,
          13912.506335585998,
          2630.48489448,
          2624.933783228,
          2616.320208544,
          2632.000274936,
          2629.99350542,
          2624.0968367,
          2646.079364068,
          5934.183206669999,
          5946.11078499,
          13348.4347820772,
          13345.404171763199,
          16521.9563550378,
          16619.183256618002,
          16580.3560819424,
          16388.088046036,
          16447.699880236,
          16476.055242703802,
          16508.2853743946,
          16490.421694746,
          16431.942485395797,
          16494.5547819172,
          16529.3482224786,
          16505.304782684598,
          16445.7724309302,
          16408.5349051666,
          16226.34126924,
          10472.7089424669,
          10503.923425851,
          13296.244461107999,
          13173.299104,
          24356.1298462185,
          26571.8877049184,
          15550.76099644,
          15598.05145688,
          15585.3561621392,
          15645.244411216001,
          15684.773385777602,
          15534.0289489936,
          15774.439999016,
          15839.2620569552,
          26557.2108470295,
          26654.622344896496,
          26580.17166075,
          26553.968164349997,
          26512.69765752,
          26465.5641183705,
          26587.0173241845,
          26648.1390898113,
          26595.544445176496,
          26937.999849519296,
          26990.5617044754,
          27199.882609591496,
          27182.94896925,
          27133.105310544997,
          27283.093393545503,
          27166.107307775,
          27147.915158482996,
          27144.637939999997,
          27268.112939409995,
          27237.757289420995,
          27279.798375011,
          27193.961733329998,
          27045.560011519,
          27243.517249179,
          27164.069528379,
          27318.628448551997
         ],
         "yaxis": "y3"
        },
        {
         "mode": "lines",
         "name": "net_worth",
         "type": "scatter",
         "uid": "3740a7ea-6a47-479f-80bb-1b8efa8d6c51",
         "xaxis": "x3",
         "y": [
          97409.9,
          97365.77,
          97257.039,
          97067.1425659232,
          97833.585949473,
          97595.23267720001,
          97595.23267720001,
          97594.70476021811,
          97404.771281719,
          97385.538386866,
          97373.671847381,
          97382.30059219801,
          97367.008064255,
          97390.601416264,
          97342.167822874,
          97320.0999189432,
          97284.1588524,
          97300.8055173837,
          97279.50076834961,
          97129.40643169201,
          94623.1864278058,
          94949.198316977,
          95552.0835688886,
          95409.468446596,
          95499.50249282399,
          95456.32641315021,
          95325.21763893959,
          95467.071002813,
          95949.0202162394,
          95945.25901303001,
          95900.67203298959,
          95155.3704402047,
          95256.688692,
          95408.00858353,
          95364.546335586,
          95338.28489448,
          95332.733783228,
          95324.120208544,
          95339.800274936,
          95337.79350542,
          95331.8968367,
          95353.87936406801,
          95352.32320667,
          95364.25078499,
          95331.61478207719,
          95328.58417176318,
          95215.4863550378,
          95312.71325661801,
          95273.8860819424,
          95081.61804603599,
          95141.229880236,
          95169.5852427038,
          95201.8153743946,
          95183.951694746,
          95125.47248539579,
          95188.08478191719,
          95222.8782224786,
          95198.8347826846,
          95139.3024309302,
          95102.0649051666,
          94919.87126924,
          94915.79894246689,
          94947.013425851,
          94864.554461108,
          94741.609104,
          94668.6798462185,
          94297.1377049184,
          94295.51099644,
          94342.80145688,
          94330.1061621392,
          94389.994411216,
          94429.5233857776,
          94278.7789489936,
          94519.189999016,
          94584.0120569552,
          94505.11084702949,
          94602.52234489648,
          94528.07166074999,
          94501.86816434999,
          94460.59765751999,
          94413.4641183705,
          94534.9173241845,
          94567.2890898113,
          94514.69444517649,
          94857.1498495193,
          94909.7117044754,
          94937.9226095915,
          94920.98896925,
          94871.14531054499,
          94966.8033935455,
          94849.81730777501,
          94808.335158483,
          94805.05794,
          94928.53293941,
          94898.177289421,
          94940.218375011,
          94854.38173333,
          94705.980011519,
          94903.937249179,
          94824.489528379,
          94979.048448552
         ],
         "yaxis": "y3"
        },
        {
         "marker": {
          "color": "DarkGreen"
         },
         "mode": "lines",
         "name": "Net Worth",
         "type": "scatter",
         "uid": "603f0991-97d2-427c-afd5-1ceb071c6a05",
         "xaxis": "x4",
         "y": [
          97409.9,
          97365.77,
          97257.039,
          97067.1425659232,
          97833.585949473,
          97595.23267720001,
          97595.23267720001,
          97594.70476021811,
          97404.771281719,
          97385.538386866,
          97373.671847381,
          97382.30059219801,
          97367.008064255,
          97390.601416264,
          97342.167822874,
          97320.0999189432,
          97284.1588524,
          97300.8055173837,
          97279.50076834961,
          97129.40643169201,
          94623.1864278058,
          94949.198316977,
          95552.0835688886,
          95409.468446596,
          95499.50249282399,
          95456.32641315021,
          95325.21763893959,
          95467.071002813,
          95949.0202162394,
          95945.25901303001,
          95900.67203298959,
          95155.3704402047,
          95256.688692,
          95408.00858353,
          95364.546335586,
          95338.28489448,
          95332.733783228,
          95324.120208544,
          95339.800274936,
          95337.79350542,
          95331.8968367,
          95353.87936406801,
          95352.32320667,
          95364.25078499,
          95331.61478207719,
          95328.58417176318,
          95215.4863550378,
          95312.71325661801,
          95273.8860819424,
          95081.61804603599,
          95141.229880236,
          95169.5852427038,
          95201.8153743946,
          95183.951694746,
          95125.47248539579,
          95188.08478191719,
          95222.8782224786,
          95198.8347826846,
          95139.3024309302,
          95102.0649051666,
          94919.87126924,
          94915.79894246689,
          94947.013425851,
          94864.554461108,
          94741.609104,
          94668.6798462185,
          94297.1377049184,
          94295.51099644,
          94342.80145688,
          94330.1061621392,
          94389.994411216,
          94429.5233857776,
          94278.7789489936,
          94519.189999016,
          94584.0120569552,
          94505.11084702949,
          94602.52234489648,
          94528.07166074999,
          94501.86816434999,
          94460.59765751999,
          94413.4641183705,
          94534.9173241845,
          94567.2890898113,
          94514.69444517649,
          94857.1498495193,
          94909.7117044754,
          94937.9226095915,
          94920.98896925,
          94871.14531054499,
          94966.8033935455,
          94849.81730777501,
          94808.335158483,
          94805.05794,
          94928.53293941,
          94898.177289421,
          94940.218375011,
          94854.38173333,
          94705.980011519,
          94903.937249179,
          94824.489528379,
          94979.048448552
         ],
         "yaxis": "y4"
        }
       ],
       "layout": {
        "annotations": [
         {
          "arrowcolor": "DarkGreen",
          "arrowhead": 2,
          "arrowsize": 0.8,
          "arrowwidth": 4,
          "ax": 0,
          "ay": 15,
          "hoverlabel": {
           "bgcolor": "DarkGreen"
          },
          "hovertext": "Step 46 [2018-05-17 03:00:00]<br>BUY 0.39200308 BTC @ 8366.72 USD MARKET<br>Total: 3279.78 USD - Comm.: 9.87 USD",
          "opacity": 0.6,
          "showarrow": true,
          "x": 45,
          "xref": "x",
          "y": 8366.72,
          "yref": "y"
         },
         {
          "arrowcolor": "DarkGreen",
          "arrowhead": 2,
          "arrowsize": 0.8,
          "arrowwidth": 4,
          "ax": 0,
          "ay": 15,
          "hoverlabel": {
           "bgcolor": "DarkGreen"
          },
          "hovertext": "Step 44 [2018-05-17 01:00:00]<br>BUY 0.88508316 BTC @ 8375.1 USD MARKET<br>Total: 7412.66 USD - Comm.: 22.30 USD",
          "opacity": 0.6,
          "showarrow": true,
          "x": 43,
          "xref": "x",
          "y": 8375.1,
          "yref": "y"
         },
         {
          "arrowcolor": "DarkGreen",
          "arrowhead": 2,
          "arrowsize": 0.8,
          "arrowwidth": 4,
          "ax": 0,
          "ay": 15,
          "hoverlabel": {
           "bgcolor": "DarkGreen"
          },
          "hovertext": "Step 42 [2018-05-16 23:00:00]<br>BUY 0.3929497 BTC @ 8346.59 USD MARKET<br>Total: 3279.79 USD - Comm.: 9.87 USD",
          "opacity": 0.6,
          "showarrow": true,
          "x": 41,
          "xref": "x",
          "y": 8346.59,
          "yref": "y"
         },
         {
          "arrowcolor": "FireBrick",
          "arrowhead": 2,
          "arrowsize": 0.8,
          "arrowwidth": 4,
          "ax": 0,
          "ay": -15,
          "hoverlabel": {
           "bgcolor": "FireBrick"
          },
          "hovertext": "Step 35 [2018-05-16 16:00:00]<br>SELL 1.36047588 BTC @ 8273.4 USD MARKET<br>Total: 11255.76 USD - Comm.: 0.00409371 BTC",
          "opacity": 0.6,
          "showarrow": true,
          "x": 34,
          "xref": "x",
          "y": 8273.4,
          "yref": "y"
         },
         {
          "arrowcolor": "FireBrick",
          "arrowhead": 2,
          "arrowsize": 0.8,
          "arrowwidth": 4,
          "ax": 0,
          "ay": -15,
          "hoverlabel": {
           "bgcolor": "FireBrick"
          },
          "hovertext": "Step 34 [2018-05-16 15:00:00]<br>SELL 0.90698392 BTC @ 8285.8 USD MARKET<br>Total: 7515.09 USD - Comm.: 0.00272914 BTC",
          "opacity": 0.6,
          "showarrow": true,
          "x": 33,
          "xref": "x",
          "y": 8285.8,
          "yref": "y"
         },
         {
          "arrowcolor": "FireBrick",
          "arrowhead": 2,
          "arrowsize": 0.8,
          "arrowwidth": 4,
          "ax": 0,
          "ay": -15,
          "hoverlabel": {
           "bgcolor": "FireBrick"
          },
          "hovertext": "Step 33 [2018-05-16 14:00:00]<br>SELL 0.25193998 BTC @ 8225.0 USD MARKET<br>Total: 2072.21 USD - Comm.: 0.00075809 BTC",
          "opacity": 0.6,
          "showarrow": true,
          "x": 32,
          "xref": "x",
          "y": 8225.0,
          "yref": "y"
         },
         {
          "arrowcolor": "FireBrick",
          "arrowhead": 2,
          "arrowsize": 0.8,
          "arrowwidth": 4,
          "ax": 0,
          "ay": -15,
          "hoverlabel": {
           "bgcolor": "FireBrick"
          },
          "hovertext": "Step 32 [2018-05-16 13:00:00]<br>SELL 0.27993331 BTC @ 8179.99 USD MARKET<br>Total: 2289.85 USD - Comm.: 0.00084233 BTC",
          "opacity": 0.6,
          "showarrow": true,
          "x": 31,
          "xref": "x",
          "y": 8179.99,
          "yref": "y"
         },
         {
          "arrowcolor": "FireBrick",
          "arrowhead": 2,
          "arrowsize": 0.8,
          "arrowwidth": 4,
          "ax": 0,
          "ay": -15,
          "hoverlabel": {
           "bgcolor": "FireBrick"
          },
          "hovertext": "Step 32 [2018-05-16 13:00:00]<br>SELL 0.46857677 BTC @ 8179.99 USD MARKET<br>Total: 3832.95 USD - Comm.: 0.00140996 BTC",
          "opacity": 0.6,
          "showarrow": true,
          "x": 31,
          "xref": "x",
          "y": 8179.99,
          "yref": "y"
         },
         {
          "arrowcolor": "FireBrick",
          "arrowhead": 2,
          "arrowsize": 0.8,
          "arrowwidth": 4,
          "ax": 0,
          "ay": -15,
          "hoverlabel": {
           "bgcolor": "FireBrick"
          },
          "hovertext": "Step 32 [2018-05-16 13:00:00]<br>SELL 0.33574099 BTC @ 8179.99 USD MARKET<br>Total: 2746.36 USD - Comm.: 0.00101025 BTC",
          "opacity": 0.6,
          "showarrow": true,
          "x": 31,
          "xref": "x",
          "y": 8179.99,
          "yref": "y"
         },
         {
          "arrowcolor": "FireBrick",
          "arrowhead": 2,
          "arrowsize": 0.8,
          "arrowwidth": 4,
          "ax": 0,
          "ay": -15,
          "hoverlabel": {
           "bgcolor": "FireBrick"
          },
          "hovertext": "Step 31 [2018-05-16 12:00:00]<br>SELL 0.69983327 BTC @ 8365.08 USD MARKET<br>Total: 5854.16 USD - Comm.: 0.00210582 BTC",
          "opacity": 0.6,
          "showarrow": true,
          "x": 30,
          "xref": "x",
          "y": 8365.08,
          "yref": "y"
         },
         {
          "arrowcolor": "DarkGreen",
          "arrowhead": 2,
          "arrowsize": 0.8,
          "arrowwidth": 4,
          "ax": 0,
          "ay": 15,
          "hoverlabel": {
           "bgcolor": "DarkGreen"
          },
          "hovertext": "Step 30 [2018-05-16 11:00:00]<br>BUY 0.31325451 BTC @ 8373.0 USD MARKET<br>Total: 2622.88 USD - Comm.: 7.89 USD",
          "opacity": 0.6,
          "showarrow": true,
          "x": 29,
          "xref": "x",
          "y": 8373.0,
          "yref": "y"
         },
         {
          "arrowcolor": "DarkGreen",
          "arrowhead": 2,
          "arrowsize": 0.8,
          "arrowwidth": 4,
          "ax": 0,
          "ay": 15,
          "hoverlabel": {
           "bgcolor": "DarkGreen"
          },
          "hovertext": "Step 29 [2018-05-16 10:00:00]<br>BUY 0.46998673 BTC @ 8371.13 USD MARKET<br>Total: 3934.32 USD - Comm.: 11.84 USD",
          "opacity": 0.6,
          "showarrow": true,
          "x": 28,
          "xref": "x",
          "y": 8371.13,
          "yref": "y"
         },
         {
          "arrowcolor": "FireBrick",
          "arrowhead": 2,
          "arrowsize": 0.8,
          "arrowwidth": 4,
          "ax": 0,
          "ay": -15,
          "hoverlabel": {
           "bgcolor": "FireBrick"
          },
          "hovertext": "Step 28 [2018-05-16 09:00:00]<br>SELL 0.38879626 BTC @ 8243.45 USD MARKET<br>Total: 3205.02 USD - Comm.: 0.00116990 BTC",
          "opacity": 0.6,
          "showarrow": true,
          "x": 27,
          "xref": "x",
          "y": 8243.45,
          "yref": "y"
         },
         {
          "arrowcolor": "FireBrick",
          "arrowhead": 2,
          "arrowsize": 0.8,
          "arrowwidth": 4,
          "ax": 0,
          "ay": -15,
          "hoverlabel": {
           "bgcolor": "FireBrick"
          },
          "hovertext": "Step 27 [2018-05-16 08:00:00]<br>SELL 0.43199584 BTC @ 8207.48 USD MARKET<br>Total: 3545.6 USD - Comm.: 0.00129989 BTC",
          "opacity": 0.6,
          "showarrow": true,
          "x": 26,
          "xref": "x",
          "y": 8207.48,
          "yref": "y"
         },
         {
          "arrowcolor": "FireBrick",
          "arrowhead": 2,
          "arrowsize": 0.8,
          "arrowwidth": 4,
          "ax": 0,
          "ay": -15,
          "hoverlabel": {
           "bgcolor": "FireBrick"
          },
          "hovertext": "Step 26 [2018-05-16 07:00:00]<br>SELL 0.47999539 BTC @ 8232.99 USD MARKET<br>Total: 3951.8 USD - Comm.: 0.00144432 BTC",
          "opacity": 0.6,
          "showarrow": true,
          "x": 25,
          "xref": "x",
          "y": 8232.99,
          "yref": "y"
         },
         {
          "arrowcolor": "FireBrick",
          "arrowhead": 2,
          "arrowsize": 0.8,
          "arrowwidth": 4,
          "ax": 0,
          "ay": -15,
          "hoverlabel": {
           "bgcolor": "FireBrick"
          },
          "hovertext": "Step 25 [2018-05-16 06:00:00]<br>SELL 0.5333282 BTC @ 8238.8 USD MARKET<br>Total: 4393.98 USD - Comm.: 0.00160480 BTC",
          "opacity": 0.6,
          "showarrow": true,
          "x": 24,
          "xref": "x",
          "y": 8238.8,
          "yref": "y"
         },
         {
          "arrowcolor": "FireBrick",
          "arrowhead": 2,
          "arrowsize": 0.8,
          "arrowwidth": 4,
          "ax": 0,
          "ay": -15,
          "hoverlabel": {
           "bgcolor": "FireBrick"
          },
          "hovertext": "Step 24 [2018-05-16 05:00:00]<br>SELL 0.5925869 BTC @ 8220.4 USD MARKET<br>Total: 4871.3 USD - Comm.: 0.00178311 BTC",
          "opacity": 0.6,
          "showarrow": true,
          "x": 23,
          "xref": "x",
          "y": 8220.4,
          "yref": "y"
         },
         {
          "arrowcolor": "FireBrick",
          "arrowhead": 2,
          "arrowsize": 0.8,
          "arrowwidth": 4,
          "ax": 0,
          "ay": -15,
          "hoverlabel": {
           "bgcolor": "FireBrick"
          },
          "hovertext": "Step 23 [2018-05-16 04:00:00]<br>SELL 2.53965813 BTC @ 8229.38 USD MARKET<br>Total: 20899.81 USD - Comm.: 0.00764190 BTC",
          "opacity": 0.6,
          "showarrow": true,
          "x": 22,
          "xref": "x",
          "y": 8229.38,
          "yref": "y"
         },
         {
          "arrowcolor": "FireBrick",
          "arrowhead": 2,
          "arrowsize": 0.8,
          "arrowwidth": 4,
          "ax": 0,
          "ay": -15,
          "hoverlabel": {
           "bgcolor": "FireBrick"
          },
          "hovertext": "Step 23 [2018-05-16 04:00:00]<br>SELL 0.94061412 BTC @ 8229.38 USD MARKET<br>Total: 7740.67 USD - Comm.: 0.00283033 BTC",
          "opacity": 0.6,
          "showarrow": true,
          "x": 22,
          "xref": "x",
          "y": 8229.38,
          "yref": "y"
         },
         {
          "arrowcolor": "FireBrick",
          "arrowhead": 2,
          "arrowsize": 0.8,
          "arrowwidth": 4,
          "ax": 0,
          "ay": -15,
          "hoverlabel": {
           "bgcolor": "FireBrick"
          },
          "hovertext": "Step 22 [2018-05-16 03:00:00]<br>SELL 1.04512681 BTC @ 8164.79 USD MARKET<br>Total: 8533.24 USD - Comm.: 0.00314481 BTC",
          "opacity": 0.6,
          "showarrow": true,
          "x": 21,
          "xref": "x",
          "y": 8164.79,
          "yref": "y"
         },
         {
          "arrowcolor": "FireBrick",
          "arrowhead": 2,
          "arrowsize": 0.8,
          "arrowwidth": 4,
          "ax": 0,
          "ay": -15,
          "hoverlabel": {
           "bgcolor": "FireBrick"
          },
          "hovertext": "Step 22 [2018-05-16 03:00:00]<br>SELL 0.11414475 BTC @ 8164.79 USD MARKET<br>Total: 931.97 USD - Comm.: 0.00034346 BTC",
          "opacity": 0.6,
          "showarrow": true,
          "x": 21,
          "xref": "x",
          "y": 8164.79,
          "yref": "y"
         },
         {
          "arrowcolor": "FireBrick",
          "arrowhead": 2,
          "arrowsize": 0.8,
          "arrowwidth": 4,
          "ax": 0,
          "ay": -15,
          "hoverlabel": {
           "bgcolor": "FireBrick"
          },
          "hovertext": "Step 21 [2018-05-16 02:00:00]<br>SELL 0.0338554 BTC @ 8133.43 USD MARKET<br>Total: 275.36 USD - Comm.: 0.00010187 BTC",
          "opacity": 0.6,
          "showarrow": true,
          "x": 20,
          "xref": "x",
          "y": 8133.43,
          "yref": "y"
         },
         {
          "arrowcolor": "FireBrick",
          "arrowhead": 2,
          "arrowsize": 0.8,
          "arrowwidth": 4,
          "ax": 0,
          "ay": -15,
          "hoverlabel": {
           "bgcolor": "FireBrick"
          },
          "hovertext": "Step 21 [2018-05-16 02:00:00]<br>SELL 0.09078506 BTC @ 8133.43 USD MARKET<br>Total: 738.39 USD - Comm.: 0.00027317 BTC",
          "opacity": 0.6,
          "showarrow": true,
          "x": 20,
          "xref": "x",
          "y": 8133.43,
          "yref": "y"
         },
         {
          "arrowcolor": "FireBrick",
          "arrowhead": 2,
          "arrowsize": 0.8,
          "arrowwidth": 4,
          "ax": 0,
          "ay": -15,
          "hoverlabel": {
           "bgcolor": "FireBrick"
          },
          "hovertext": "Step 21 [2018-05-16 02:00:00]<br>SELL 0.56940491 BTC @ 8133.43 USD MARKET<br>Total: 4631.21 USD - Comm.: 0.00171335 BTC",
          "opacity": 0.6,
          "showarrow": true,
          "x": 20,
          "xref": "x",
          "y": 8133.43,
          "yref": "y"
         },
         {
          "arrowcolor": "DarkGreen",
          "arrowhead": 2,
          "arrowsize": 0.8,
          "arrowwidth": 4,
          "ax": 0,
          "ay": 15,
          "hoverlabel": {
           "bgcolor": "DarkGreen"
          },
          "hovertext": "Step 20 [2018-05-16 01:00:00]<br>BUY 0.9336042 BTC @ 8326.28 USD MARKET<br>Total: 7773.45 USD - Comm.: 23.39 USD",
          "opacity": 0.6,
          "showarrow": true,
          "x": 19,
          "xref": "x",
          "y": 8326.28,
          "yref": "y"
         },
         {
          "arrowcolor": "DarkGreen",
          "arrowhead": 2,
          "arrowsize": 0.8,
          "arrowwidth": 4,
          "ax": 0,
          "ay": 15,
          "hoverlabel": {
           "bgcolor": "DarkGreen"
          },
          "hovertext": "Step 20 [2018-05-16 01:00:00]<br>BUY 8.50559313 BTC @ 8326.28 USD MARKET<br>Total: 70819.95 USD - Comm.: 213.10 USD",
          "opacity": 0.6,
          "showarrow": true,
          "x": 19,
          "xref": "x",
          "y": 8326.28,
          "yref": "y"
         },
         {
          "arrowcolor": "DarkGreen",
          "arrowhead": 2,
          "arrowsize": 0.8,
          "arrowwidth": 4,
          "ax": 0,
          "ay": 15,
          "hoverlabel": {
           "bgcolor": "DarkGreen"
          },
          "hovertext": "Step 20 [2018-05-16 01:00:00]<br>BUY 1.04351883 BTC @ 8326.28 USD MARKET<br>Total: 8688.63 USD - Comm.: 26.14 USD",
          "opacity": 0.6,
          "showarrow": true,
          "x": 19,
          "xref": "x",
          "y": 8326.28,
          "yref": "y"
         },
         {
          "arrowcolor": "DarkGreen",
          "arrowhead": 2,
          "arrowsize": 0.8,
          "arrowwidth": 4,
          "ax": 0,
          "ay": 15,
          "hoverlabel": {
           "bgcolor": "DarkGreen"
          },
          "hovertext": "Step 19 [2018-05-16 00:00:00]<br>BUY 0.03395727 BTC @ 8455.92 USD MARKET<br>Total: 287.14 USD - Comm.: 0.86 USD",
          "opacity": 0.6,
          "showarrow": true,
          "x": 18,
          "xref": "x",
          "y": 8455.92,
          "yref": "y"
         },
         {
          "arrowcolor": "DarkGreen",
          "arrowhead": 2,
          "arrowsize": 0.8,
          "arrowwidth": 4,
          "ax": 0,
          "ay": 15,
          "hoverlabel": {
           "bgcolor": "DarkGreen"
          },
          "hovertext": "Step 17 [2018-05-15 22:00:00]<br>BUY 0.00377069 BTC @ 8460.0 USD MARKET<br>Total: 31.9 USD - Comm.: 0.10 USD",
          "opacity": 0.6,
          "showarrow": true,
          "x": 16,
          "xref": "x",
          "y": 8460.0,
          "yref": "y"
         },
         {
          "arrowcolor": "DarkGreen",
          "arrowhead": 2,
          "arrowsize": 0.8,
          "arrowwidth": 4,
          "ax": 0,
          "ay": 15,
          "hoverlabel": {
           "bgcolor": "DarkGreen"
          },
          "hovertext": "Step 13 [2018-05-15 18:00:00]<br>BUY 0.33675124 BTC @ 8526.65 USD MARKET<br>Total: 2871.36 USD - Comm.: 8.64 USD",
          "opacity": 0.6,
          "showarrow": true,
          "x": 12,
          "xref": "x",
          "y": 8526.65,
          "yref": "y"
         },
         {
          "arrowcolor": "FireBrick",
          "arrowhead": 2,
          "arrowsize": 0.8,
          "arrowwidth": 4,
          "ax": 0,
          "ay": -15,
          "hoverlabel": {
           "bgcolor": "FireBrick"
          },
          "hovertext": "Step 10 [2018-05-15 15:00:00]<br>SELL 0.91508999 BTC @ 8520.3 USD MARKET<br>Total: 7796.84 USD - Comm.: 0.00275353 BTC",
          "opacity": 0.6,
          "showarrow": true,
          "x": 9,
          "xref": "x",
          "y": 8520.3,
          "yref": "y"
         },
         {
          "arrowcolor": "DarkGreen",
          "arrowhead": 2,
          "arrowsize": 0.8,
          "arrowwidth": 4,
          "ax": 0,
          "ay": 15,
          "hoverlabel": {
           "bgcolor": "DarkGreen"
          },
          "hovertext": "Step 9 [2018-05-15 14:00:00]<br>BUY 0.91784352 BTC @ 8517.77 USD MARKET<br>Total: 7817.98 USD - Comm.: 23.52 USD",
          "opacity": 0.6,
          "showarrow": true,
          "x": 8,
          "xref": "x",
          "y": 8517.77,
          "yref": "y"
         },
         {
          "arrowcolor": "DarkGreen",
          "arrowhead": 2,
          "arrowsize": 0.8,
          "arrowwidth": 4,
          "ax": 0,
          "ay": 15,
          "hoverlabel": {
           "bgcolor": "DarkGreen"
          },
          "hovertext": "Step 8 [2018-05-15 13:00:00]<br>BUY 0.09105823 BTC @ 8759.23 USD MARKET<br>Total: 797.6 USD - Comm.: 2.40 USD",
          "opacity": 0.6,
          "showarrow": true,
          "x": 7,
          "xref": "x",
          "y": 8759.23,
          "yref": "y"
         },
         {
          "arrowcolor": "FireBrick",
          "arrowhead": 2,
          "arrowsize": 0.8,
          "arrowwidth": 4,
          "ax": 0,
          "ay": -15,
          "hoverlabel": {
           "bgcolor": "FireBrick"
          },
          "hovertext": "Step 5 [2018-05-15 10:00:00]<br>SELL 8.0757 BTC @ 8795.9 USD MARKET<br>Total: 71033.05 USD - Comm.: 0.02430000 BTC",
          "opacity": 0.6,
          "showarrow": true,
          "x": 4,
          "xref": "x",
          "y": 8795.9,
          "yref": "y"
         },
         {
          "arrowcolor": "DarkGreen",
          "arrowhead": 2,
          "arrowsize": 0.8,
          "arrowwidth": 4,
          "ax": 0,
          "ay": 15,
          "hoverlabel": {
           "bgcolor": "DarkGreen"
          },
          "hovertext": "Step 4 [2018-05-15 09:00:00]<br>BUY 0.11448821 BTC @ 8708.32 USD MARKET<br>Total: 997.0 USD - Comm.: 3.00 USD",
          "opacity": 0.6,
          "showarrow": true,
          "x": 3,
          "xref": "x",
          "y": 8708.32,
          "yref": "y"
         },
         {
          "arrowcolor": "DarkGreen",
          "arrowhead": 2,
          "arrowsize": 0.8,
          "arrowwidth": 4,
          "ax": 0,
          "ay": 15,
          "hoverlabel": {
           "bgcolor": "DarkGreen"
          },
          "hovertext": "Step 3 [2018-05-15 08:00:00]<br>BUY 0.57111826 BTC @ 8728.49 USD MARKET<br>Total: 4985.0 USD - Comm.: 15.00 USD",
          "opacity": 0.6,
          "showarrow": true,
          "x": 2,
          "xref": "x",
          "y": 8728.49,
          "yref": "y"
         },
         {
          "arrowcolor": "FireBrick",
          "arrowhead": 2,
          "arrowsize": 0.8,
          "arrowwidth": 4,
          "ax": 0,
          "ay": -15,
          "hoverlabel": {
           "bgcolor": "FireBrick"
          },
          "hovertext": "Step 2 [2018-05-15 07:00:00]<br>SELL 0.8973 BTC @ 8739.0 USD MARKET<br>Total: 7841.5 USD - Comm.: 0.00270000 BTC",
          "opacity": 0.6,
          "showarrow": true,
          "x": 1,
          "xref": "x",
          "y": 8739.0,
          "yref": "y"
         },
         {
          "arrowcolor": "FireBrick",
          "arrowhead": 2,
          "arrowsize": 0.8,
          "arrowwidth": 4,
          "ax": 0,
          "ay": -15,
          "hoverlabel": {
           "bgcolor": "FireBrick"
          },
          "hovertext": "Step 1 [2018-05-15 06:00:00]<br>SELL 0.997 BTC @ 8740.99 USD MARKET<br>Total: 8714.77 USD - Comm.: 0.00300000 BTC",
          "opacity": 0.6,
          "showarrow": true,
          "x": 0,
          "xref": "x",
          "y": 8740.99,
          "yref": "y"
         },
         {
          "arrowcolor": "DarkGreen",
          "arrowhead": 2,
          "arrowsize": 0.8,
          "arrowwidth": 4,
          "ax": 0,
          "ay": 15,
          "hoverlabel": {
           "bgcolor": "DarkGreen"
          },
          "hovertext": "Step 91 [2018-05-19 00:00:00]<br>BUY 0.00282705 BTC @ 8213.5 USD MARKET<br>Total: 23.22 USD - Comm.: 0.07 USD",
          "opacity": 0.6,
          "showarrow": true,
          "x": 90,
          "xref": "x",
          "y": 8213.5,
          "yref": "y"
         },
         {
          "arrowcolor": "DarkGreen",
          "arrowhead": 2,
          "arrowsize": 0.8,
          "arrowwidth": 4,
          "ax": 0,
          "ay": 15,
          "hoverlabel": {
           "bgcolor": "DarkGreen"
          },
          "hovertext": "Step 89 [2018-05-18 22:00:00]<br>BUY 0.0065901 BTC @ 8219.9 USD MARKET<br>Total: 54.17 USD - Comm.: 0.16 USD",
          "opacity": 0.6,
          "showarrow": true,
          "x": 88,
          "xref": "x",
          "y": 8219.9,
          "yref": "y"
         },
         {
          "arrowcolor": "DarkGreen",
          "arrowhead": 2,
          "arrowsize": 0.8,
          "arrowwidth": 4,
          "ax": 0,
          "ay": 15,
          "hoverlabel": {
           "bgcolor": "DarkGreen"
          },
          "hovertext": "Step 86 [2018-05-18 19:00:00]<br>BUY 0.02193668 BTC @ 8231.42 USD MARKET<br>Total: 180.57 USD - Comm.: 0.54 USD",
          "opacity": 0.6,
          "showarrow": true,
          "x": 85,
          "xref": "x",
          "y": 8231.42,
          "yref": "y"
         },
         {
          "arrowcolor": "DarkGreen",
          "arrowhead": 2,
          "arrowsize": 0.8,
          "arrowwidth": 4,
          "ax": 0,
          "ay": 15,
          "hoverlabel": {
           "bgcolor": "DarkGreen"
          },
          "hovertext": "Step 82 [2018-05-18 15:00:00]<br>BUY 0.00353082 BTC @ 8117.09 USD MARKET<br>Total: 28.66 USD - Comm.: 0.09 USD",
          "opacity": 0.6,
          "showarrow": true,
          "x": 81,
          "xref": "x",
          "y": 8117.09,
          "yref": "y"
         },
         {
          "arrowcolor": "DarkGreen",
          "arrowhead": 2,
          "arrowsize": 0.8,
          "arrowwidth": 4,
          "ax": 0,
          "ay": 15,
          "hoverlabel": {
           "bgcolor": "DarkGreen"
          },
          "hovertext": "Step 75 [2018-05-18 08:00:00]<br>BUY 1.32531497 BTC @ 8122.19 USD MARKET<br>Total: 10764.46 USD - Comm.: 32.39 USD",
          "opacity": 0.6,
          "showarrow": true,
          "x": 74,
          "xref": "x",
          "y": 8122.19,
          "yref": "y"
         },
         {
          "arrowcolor": "FireBrick",
          "arrowhead": 2,
          "arrowsize": 0.8,
          "arrowwidth": 4,
          "ax": 0,
          "ay": -15,
          "hoverlabel": {
           "bgcolor": "FireBrick"
          },
          "hovertext": "Step 67 [2018-05-18 00:00:00]<br>SELL 1.38469357 BTC @ 7958.08 USD MARKET<br>Total: 11019.5 USD - Comm.: 0.00416658 BTC",
          "opacity": 0.6,
          "showarrow": true,
          "x": 66,
          "xref": "x",
          "y": 7958.08,
          "yref": "y"
         },
         {
          "arrowcolor": "DarkGreen",
          "arrowhead": 2,
          "arrowsize": 0.8,
          "arrowwidth": 4,
          "ax": 0,
          "ay": 15,
          "hoverlabel": {
           "bgcolor": "DarkGreen"
          },
          "hovertext": "Step 66 [2018-05-17 23:00:00]<br>BUY 0.31976328 BTC @ 8067.03 USD MARKET<br>Total: 2579.54 USD - Comm.: 7.76 USD",
          "opacity": 0.6,
          "showarrow": true,
          "x": 65,
          "xref": "x",
          "y": 8067.03,
          "yref": "y"
         },
         {
          "arrowcolor": "DarkGreen",
          "arrowhead": 2,
          "arrowsize": 0.8,
          "arrowwidth": 4,
          "ax": 0,
          "ay": 15,
          "hoverlabel": {
           "bgcolor": "DarkGreen"
          },
          "hovertext": "Step 65 [2018-05-17 22:00:00]<br>BUY 1.38886015 BTC @ 8080.0 USD MARKET<br>Total: 11221.99 USD - Comm.: 33.77 USD",
          "opacity": 0.6,
          "showarrow": true,
          "x": 64,
          "xref": "x",
          "y": 8080.0,
          "yref": "y"
         },
         {
          "arrowcolor": "DarkGreen",
          "arrowhead": 2,
          "arrowsize": 0.8,
          "arrowwidth": 4,
          "ax": 0,
          "ay": 15,
          "hoverlabel": {
           "bgcolor": "DarkGreen"
          },
          "hovertext": "Step 63 [2018-05-17 20:00:00]<br>BUY 0.34950187 BTC @ 8200.7 USD MARKET<br>Total: 2866.16 USD - Comm.: 8.62 USD",
          "opacity": 0.6,
          "showarrow": true,
          "x": 62,
          "xref": "x",
          "y": 8200.7,
          "yref": "y"
         },
         {
          "arrowcolor": "FireBrick",
          "arrowhead": 2,
          "arrowsize": 0.8,
          "arrowwidth": 4,
          "ax": 0,
          "ay": -15,
          "hoverlabel": {
           "bgcolor": "FireBrick"
          },
          "hovertext": "Step 61 [2018-05-17 18:00:00]<br>SELL 0.39177085 BTC @ 8166.0 USD MARKET<br>Total: 3199.2 USD - Comm.: 0.00117885 BTC",
          "opacity": 0.6,
          "showarrow": true,
          "x": 60,
          "xref": "x",
          "y": 8166.0,
          "yref": "y"
         },
         {
          "arrowcolor": "FireBrick",
          "arrowhead": 2,
          "arrowsize": 0.8,
          "arrowwidth": 4,
          "ax": 0,
          "ay": -15,
          "hoverlabel": {
           "bgcolor": "FireBrick"
          },
          "hovertext": "Step 61 [2018-05-17 18:00:00]<br>SELL 0.31231475 BTC @ 8166.0 USD MARKET<br>Total: 2550.36 USD - Comm.: 0.00093976 BTC",
          "opacity": 0.6,
          "showarrow": true,
          "x": 60,
          "xref": "x",
          "y": 8166.0,
          "yref": "y"
         }
        ],
        "margin": {
         "t": 50
        },
        "template": {
         "data": {
          "bar": [
           {
            "error_x": {
             "color": "#2a3f5f"
            },
            "error_y": {
             "color": "#2a3f5f"
            },
            "marker": {
             "line": {
              "color": "white",
              "width": 0.5
             }
            },
            "type": "bar"
           }
          ],
          "barpolar": [
           {
            "marker": {
             "line": {
              "color": "white",
              "width": 0.5
             }
            },
            "type": "barpolar"
           }
          ],
          "carpet": [
           {
            "aaxis": {
             "endlinecolor": "#2a3f5f",
             "gridcolor": "#C8D4E3",
             "linecolor": "#C8D4E3",
             "minorgridcolor": "#C8D4E3",
             "startlinecolor": "#2a3f5f"
            },
            "baxis": {
             "endlinecolor": "#2a3f5f",
             "gridcolor": "#C8D4E3",
             "linecolor": "#C8D4E3",
             "minorgridcolor": "#C8D4E3",
             "startlinecolor": "#2a3f5f"
            },
            "type": "carpet"
           }
          ],
          "choropleth": [
           {
            "colorbar": {
             "outlinewidth": 0,
             "ticks": ""
            },
            "type": "choropleth"
           }
          ],
          "contour": [
           {
            "colorbar": {
             "outlinewidth": 0,
             "ticks": ""
            },
            "colorscale": [
             [
              0.0,
              "#0d0887"
             ],
             [
              0.1111111111111111,
              "#46039f"
             ],
             [
              0.2222222222222222,
              "#7201a8"
             ],
             [
              0.3333333333333333,
              "#9c179e"
             ],
             [
              0.4444444444444444,
              "#bd3786"
             ],
             [
              0.5555555555555556,
              "#d8576b"
             ],
             [
              0.6666666666666666,
              "#ed7953"
             ],
             [
              0.7777777777777778,
              "#fb9f3a"
             ],
             [
              0.8888888888888888,
              "#fdca26"
             ],
             [
              1.0,
              "#f0f921"
             ]
            ],
            "type": "contour"
           }
          ],
          "contourcarpet": [
           {
            "colorbar": {
             "outlinewidth": 0,
             "ticks": ""
            },
            "type": "contourcarpet"
           }
          ],
          "heatmap": [
           {
            "colorbar": {
             "outlinewidth": 0,
             "ticks": ""
            },
            "colorscale": [
             [
              0.0,
              "#0d0887"
             ],
             [
              0.1111111111111111,
              "#46039f"
             ],
             [
              0.2222222222222222,
              "#7201a8"
             ],
             [
              0.3333333333333333,
              "#9c179e"
             ],
             [
              0.4444444444444444,
              "#bd3786"
             ],
             [
              0.5555555555555556,
              "#d8576b"
             ],
             [
              0.6666666666666666,
              "#ed7953"
             ],
             [
              0.7777777777777778,
              "#fb9f3a"
             ],
             [
              0.8888888888888888,
              "#fdca26"
             ],
             [
              1.0,
              "#f0f921"
             ]
            ],
            "type": "heatmap"
           }
          ],
          "heatmapgl": [
           {
            "colorbar": {
             "outlinewidth": 0,
             "ticks": ""
            },
            "colorscale": [
             [
              0.0,
              "#0d0887"
             ],
             [
              0.1111111111111111,
              "#46039f"
             ],
             [
              0.2222222222222222,
              "#7201a8"
             ],
             [
              0.3333333333333333,
              "#9c179e"
             ],
             [
              0.4444444444444444,
              "#bd3786"
             ],
             [
              0.5555555555555556,
              "#d8576b"
             ],
             [
              0.6666666666666666,
              "#ed7953"
             ],
             [
              0.7777777777777778,
              "#fb9f3a"
             ],
             [
              0.8888888888888888,
              "#fdca26"
             ],
             [
              1.0,
              "#f0f921"
             ]
            ],
            "type": "heatmapgl"
           }
          ],
          "histogram": [
           {
            "marker": {
             "colorbar": {
              "outlinewidth": 0,
              "ticks": ""
             }
            },
            "type": "histogram"
           }
          ],
          "histogram2d": [
           {
            "colorbar": {
             "outlinewidth": 0,
             "ticks": ""
            },
            "colorscale": [
             [
              0.0,
              "#0d0887"
             ],
             [
              0.1111111111111111,
              "#46039f"
             ],
             [
              0.2222222222222222,
              "#7201a8"
             ],
             [
              0.3333333333333333,
              "#9c179e"
             ],
             [
              0.4444444444444444,
              "#bd3786"
             ],
             [
              0.5555555555555556,
              "#d8576b"
             ],
             [
              0.6666666666666666,
              "#ed7953"
             ],
             [
              0.7777777777777778,
              "#fb9f3a"
             ],
             [
              0.8888888888888888,
              "#fdca26"
             ],
             [
              1.0,
              "#f0f921"
             ]
            ],
            "type": "histogram2d"
           }
          ],
          "histogram2dcontour": [
           {
            "colorbar": {
             "outlinewidth": 0,
             "ticks": ""
            },
            "colorscale": [
             [
              0.0,
              "#0d0887"
             ],
             [
              0.1111111111111111,
              "#46039f"
             ],
             [
              0.2222222222222222,
              "#7201a8"
             ],
             [
              0.3333333333333333,
              "#9c179e"
             ],
             [
              0.4444444444444444,
              "#bd3786"
             ],
             [
              0.5555555555555556,
              "#d8576b"
             ],
             [
              0.6666666666666666,
              "#ed7953"
             ],
             [
              0.7777777777777778,
              "#fb9f3a"
             ],
             [
              0.8888888888888888,
              "#fdca26"
             ],
             [
              1.0,
              "#f0f921"
             ]
            ],
            "type": "histogram2dcontour"
           }
          ],
          "mesh3d": [
           {
            "colorbar": {
             "outlinewidth": 0,
             "ticks": ""
            },
            "type": "mesh3d"
           }
          ],
          "parcoords": [
           {
            "line": {
             "colorbar": {
              "outlinewidth": 0,
              "ticks": ""
             }
            },
            "type": "parcoords"
           }
          ],
          "pie": [
           {
            "automargin": true,
            "type": "pie"
           }
          ],
          "scatter": [
           {
            "marker": {
             "colorbar": {
              "outlinewidth": 0,
              "ticks": ""
             }
            },
            "type": "scatter"
           }
          ],
          "scatter3d": [
           {
            "line": {
             "colorbar": {
              "outlinewidth": 0,
              "ticks": ""
             }
            },
            "marker": {
             "colorbar": {
              "outlinewidth": 0,
              "ticks": ""
             }
            },
            "type": "scatter3d"
           }
          ],
          "scattercarpet": [
           {
            "marker": {
             "colorbar": {
              "outlinewidth": 0,
              "ticks": ""
             }
            },
            "type": "scattercarpet"
           }
          ],
          "scattergeo": [
           {
            "marker": {
             "colorbar": {
              "outlinewidth": 0,
              "ticks": ""
             }
            },
            "type": "scattergeo"
           }
          ],
          "scattergl": [
           {
            "marker": {
             "colorbar": {
              "outlinewidth": 0,
              "ticks": ""
             }
            },
            "type": "scattergl"
           }
          ],
          "scattermapbox": [
           {
            "marker": {
             "colorbar": {
              "outlinewidth": 0,
              "ticks": ""
             }
            },
            "type": "scattermapbox"
           }
          ],
          "scatterpolar": [
           {
            "marker": {
             "colorbar": {
              "outlinewidth": 0,
              "ticks": ""
             }
            },
            "type": "scatterpolar"
           }
          ],
          "scatterpolargl": [
           {
            "marker": {
             "colorbar": {
              "outlinewidth": 0,
              "ticks": ""
             }
            },
            "type": "scatterpolargl"
           }
          ],
          "scatterternary": [
           {
            "marker": {
             "colorbar": {
              "outlinewidth": 0,
              "ticks": ""
             }
            },
            "type": "scatterternary"
           }
          ],
          "surface": [
           {
            "colorbar": {
             "outlinewidth": 0,
             "ticks": ""
            },
            "colorscale": [
             [
              0.0,
              "#0d0887"
             ],
             [
              0.1111111111111111,
              "#46039f"
             ],
             [
              0.2222222222222222,
              "#7201a8"
             ],
             [
              0.3333333333333333,
              "#9c179e"
             ],
             [
              0.4444444444444444,
              "#bd3786"
             ],
             [
              0.5555555555555556,
              "#d8576b"
             ],
             [
              0.6666666666666666,
              "#ed7953"
             ],
             [
              0.7777777777777778,
              "#fb9f3a"
             ],
             [
              0.8888888888888888,
              "#fdca26"
             ],
             [
              1.0,
              "#f0f921"
             ]
            ],
            "type": "surface"
           }
          ],
          "table": [
           {
            "cells": {
             "fill": {
              "color": "#EBF0F8"
             },
             "line": {
              "color": "white"
             }
            },
            "header": {
             "fill": {
              "color": "#C8D4E3"
             },
             "line": {
              "color": "white"
             }
            },
            "type": "table"
           }
          ]
         },
         "layout": {
          "annotationdefaults": {
           "arrowcolor": "#2a3f5f",
           "arrowhead": 0,
           "arrowwidth": 1
          },
          "autotypenumbers": "strict",
          "coloraxis": {
           "colorbar": {
            "outlinewidth": 0,
            "ticks": ""
           }
          },
          "colorscale": {
           "diverging": [
            [
             0,
             "#8e0152"
            ],
            [
             0.1,
             "#c51b7d"
            ],
            [
             0.2,
             "#de77ae"
            ],
            [
             0.3,
             "#f1b6da"
            ],
            [
             0.4,
             "#fde0ef"
            ],
            [
             0.5,
             "#f7f7f7"
            ],
            [
             0.6,
             "#e6f5d0"
            ],
            [
             0.7,
             "#b8e186"
            ],
            [
             0.8,
             "#7fbc41"
            ],
            [
             0.9,
             "#4d9221"
            ],
            [
             1,
             "#276419"
            ]
           ],
           "sequential": [
            [
             0.0,
             "#0d0887"
            ],
            [
             0.1111111111111111,
             "#46039f"
            ],
            [
             0.2222222222222222,
             "#7201a8"
            ],
            [
             0.3333333333333333,
             "#9c179e"
            ],
            [
             0.4444444444444444,
             "#bd3786"
            ],
            [
             0.5555555555555556,
             "#d8576b"
            ],
            [
             0.6666666666666666,
             "#ed7953"
            ],
            [
             0.7777777777777778,
             "#fb9f3a"
            ],
            [
             0.8888888888888888,
             "#fdca26"
            ],
            [
             1.0,
             "#f0f921"
            ]
           ],
           "sequentialminus": [
            [
             0.0,
             "#0d0887"
            ],
            [
             0.1111111111111111,
             "#46039f"
            ],
            [
             0.2222222222222222,
             "#7201a8"
            ],
            [
             0.3333333333333333,
             "#9c179e"
            ],
            [
             0.4444444444444444,
             "#bd3786"
            ],
            [
             0.5555555555555556,
             "#d8576b"
            ],
            [
             0.6666666666666666,
             "#ed7953"
            ],
            [
             0.7777777777777778,
             "#fb9f3a"
            ],
            [
             0.8888888888888888,
             "#fdca26"
            ],
            [
             1.0,
             "#f0f921"
            ]
           ]
          },
          "colorway": [
           "#636efa",
           "#EF553B",
           "#00cc96",
           "#ab63fa",
           "#FFA15A",
           "#19d3f3",
           "#FF6692",
           "#B6E880",
           "#FF97FF",
           "#FECB52"
          ],
          "font": {
           "color": "#2a3f5f"
          },
          "geo": {
           "bgcolor": "white",
           "lakecolor": "white",
           "landcolor": "white",
           "showlakes": true,
           "showland": true,
           "subunitcolor": "#C8D4E3"
          },
          "hoverlabel": {
           "align": "left"
          },
          "hovermode": "closest",
          "mapbox": {
           "style": "light"
          },
          "paper_bgcolor": "white",
          "plot_bgcolor": "white",
          "polar": {
           "angularaxis": {
            "gridcolor": "#EBF0F8",
            "linecolor": "#EBF0F8",
            "ticks": ""
           },
           "bgcolor": "white",
           "radialaxis": {
            "gridcolor": "#EBF0F8",
            "linecolor": "#EBF0F8",
            "ticks": ""
           }
          },
          "scene": {
           "xaxis": {
            "backgroundcolor": "white",
            "gridcolor": "#DFE8F3",
            "gridwidth": 2,
            "linecolor": "#EBF0F8",
            "showbackground": true,
            "ticks": "",
            "zerolinecolor": "#EBF0F8"
           },
           "yaxis": {
            "backgroundcolor": "white",
            "gridcolor": "#DFE8F3",
            "gridwidth": 2,
            "linecolor": "#EBF0F8",
            "showbackground": true,
            "ticks": "",
            "zerolinecolor": "#EBF0F8"
           },
           "zaxis": {
            "backgroundcolor": "white",
            "gridcolor": "#DFE8F3",
            "gridwidth": 2,
            "linecolor": "#EBF0F8",
            "showbackground": true,
            "ticks": "",
            "zerolinecolor": "#EBF0F8"
           }
          },
          "shapedefaults": {
           "line": {
            "color": "#2a3f5f"
           }
          },
          "ternary": {
           "aaxis": {
            "gridcolor": "#DFE8F3",
            "linecolor": "#A2B1C6",
            "ticks": ""
           },
           "baxis": {
            "gridcolor": "#DFE8F3",
            "linecolor": "#A2B1C6",
            "ticks": ""
           },
           "bgcolor": "white",
           "caxis": {
            "gridcolor": "#DFE8F3",
            "linecolor": "#A2B1C6",
            "ticks": ""
           }
          },
          "title": {
           "x": 0.05
          },
          "xaxis": {
           "automargin": true,
           "gridcolor": "#EBF0F8",
           "linecolor": "#EBF0F8",
           "ticks": "",
           "title": {
            "standoff": 15
           },
           "zerolinecolor": "#EBF0F8",
           "zerolinewidth": 2
          },
          "yaxis": {
           "automargin": true,
           "gridcolor": "#EBF0F8",
           "linecolor": "#EBF0F8",
           "ticks": "",
           "title": {
            "standoff": 15
           },
           "zerolinecolor": "#EBF0F8",
           "zerolinewidth": 2
          }
         }
        },
        "title": {
         "text": "[2021-02-12 00:08:24 AM] Episode: 2/2 Step: 101/200"
        },
        "xaxis": {
         "anchor": "y",
         "domain": [
          0.0,
          1.0
         ],
         "gridcolor": "Gainsboro",
         "linecolor": "Grey",
         "matches": "x4",
         "rangeslider": {
          "visible": false
         },
         "showticklabels": false,
         "title": {
          "font": {
           "size": 12
          },
          "standoff": 7,
          "text": "Price"
         }
        },
        "xaxis2": {
         "anchor": "y2",
         "domain": [
          0.0,
          1.0
         ],
         "gridcolor": "Gainsboro",
         "linecolor": "Grey",
         "matches": "x4",
         "showticklabels": false,
         "title": {
          "font": {
           "size": 12
          },
          "standoff": 7,
          "text": "Volume"
         }
        },
        "xaxis3": {
         "anchor": "y3",
         "domain": [
          0.0,
          1.0
         ],
         "gridcolor": "Gainsboro",
         "linecolor": "Grey",
         "matches": "x4",
         "showticklabels": false,
         "title": {
          "font": {
           "size": 12
          },
          "standoff": 7,
          "text": "Performance"
         }
        },
        "xaxis4": {
         "anchor": "y4",
         "domain": [
          0.0,
          1.0
         ],
         "gridcolor": "Gainsboro",
         "linecolor": "Grey",
         "title": {
          "font": {
           "size": 12
          },
          "standoff": 7,
          "text": "Net Worth"
         }
        },
        "yaxis": {
         "anchor": "x",
         "domain": [
          0.49950000000000006,
          1.0
         ],
         "gridcolor": "Gainsboro",
         "linecolor": "Grey"
        },
        "yaxis2": {
         "anchor": "x2",
         "domain": [
          0.333,
          0.46950000000000003
         ],
         "gridcolor": "Gainsboro",
         "linecolor": "Grey"
        },
        "yaxis3": {
         "anchor": "x3",
         "domain": [
          0.1665,
          0.30300000000000005
         ],
         "gridcolor": "Gainsboro",
         "linecolor": "Grey"
        },
        "yaxis4": {
         "anchor": "x4",
         "domain": [
          0.0,
          0.1365
         ],
         "gridcolor": "Gainsboro",
         "linecolor": "Grey"
        }
       }
      },
      "text/html": "<div>                            <div id=\"a76fd335-715b-485c-821a-03be9279e6d2\" class=\"plotly-graph-div\" style=\"height:525px; width:100%;\"></div>            <script type=\"text/javascript\">                require([\"plotly\"], function(Plotly) {                    window.PLOTLYENV=window.PLOTLYENV || {};                                    if (document.getElementById(\"a76fd335-715b-485c-821a-03be9279e6d2\")) {                    Plotly.newPlot(                        \"a76fd335-715b-485c-821a-03be9279e6d2\",                        [{\"close\": [8740.99, 8739.0, 8728.49, 8708.32, 8795.9, 8760.0, 8760.0, 8759.23, 8517.77, 8520.3, 8535.23, 8546.34, 8526.65, 8555.6, 8512.1, 8492.28, 8460.0, 8474.99, 8455.92, 8326.28, 8133.43, 8164.79, 8229.38, 8220.4, 8238.8, 8232.99, 8207.48, 8243.45, 8371.13, 8373.0, 8365.08, 8179.99, 8225.0, 8285.8, 8273.4, 8297.4, 8279.89, 8252.72, 8302.18, 8295.85, 8277.25, 8346.59, 8358.3, 8375.1, 8368.62, 8366.72, 8314.77, 8363.7, 8344.16, 8247.4, 8277.4, 8291.67, 8307.89, 8298.9, 8269.47, 8300.98, 8318.49, 8306.39, 8276.43, 8257.69, 8166.0, 8176.33, 8200.7, 8155.41, 8080.0, 8067.03, 7958.08, 7974.25, 7998.5, 7991.99, 8022.7, 8042.97, 7965.67, 8088.95, 8122.19, 8107.99, 8137.73, 8115.0, 8107.0, 8094.4, 8080.01, 8117.09, 8126.99, 8110.95, 8215.39, 8231.42, 8240.13, 8235.0, 8219.9, 8248.87, 8213.5, 8200.99, 8200.0, 8237.3, 8228.13, 8240.83, 8214.9, 8170.07, 8229.87, 8205.87, 8252.56], \"high\": [8796.68, 8766.0, 8750.27, 8754.4, 8865.0, 8821.19, 8798.6, 8771.02, 8761.7, 8553.67, 8589.1, 8579.48, 8555.51, 8583.6, 8569.92, 8555.54, 8557.51, 8505.0, 8505.33, 8478.29, 8339.81, 8217.44, 8252.72, 8248.63, 8267.12, 8255.0, 8261.24, 8263.93, 8455.66, 8439.44, 8399.1, 8381.73, 8229.91, 8377.29, 8329.1, 8350.0, 8346.95, 8377.29, 8311.35, 8319.96, 8398.24, 8372.58, 8399.99, 8386.53, 8400.0, 8500.0, 8381.0, 8371.3, 8382.41, 8351.0, 8292.99, 8325.8, 8318.99, 8324.9, 8335.56, 8309.4, 8377.29, 8330.41, 8328.23, 8284.36, 8274.83, 8200.0, 8232.14, 8213.97, 8155.41, 8108.28, 8068.92, 8019.9, 8026.66, 8025.0, 8104.69, 8061.39, 8045.99, 8170.71, 8144.16, 8139.99, 8152.99, 8137.73, 8143.72, 8129.99, 8106.76, 8139.0, 8152.04, 8146.99, 8232.14, 8275.1, 8256.12, 8274.1, 8255.8, 8253.97, 8261.09, 8235.76, 8227.0, 8273.36, 8264.21, 8250.0, 8250.86, 8235.77, 8232.12, 8232.14, 8252.72], \"low\": [8707.28, 8721.11, 8660.53, 8701.35, 8695.11, 8740.54, 8741.52, 8700.0, 8467.42, 8477.89, 8500.78, 8500.0, 8400.0, 8451.05, 8461.38, 8481.24, 8420.37, 8450.0, 8430.94, 8275.02, 8100.01, 8122.56, 8157.01, 8166.25, 8176.91, 8213.79, 8200.0, 8207.48, 8237.1, 8370.0, 8356.4, 8145.1, 8173.6, 8211.8, 8201.0, 8250.9, 8266.46, 8252.72, 8232.14, 8268.37, 8277.25, 8277.25, 8314.78, 8314.77, 8350.07, 8331.39, 8314.77, 8275.45, 8335.49, 8191.14, 8227.7, 8264.13, 8249.93, 8269.52, 8219.44, 8262.68, 8286.65, 8289.87, 8232.14, 8232.14, 8110.02, 8154.95, 8168.6, 8151.0, 7980.0, 8005.95, 7929.53, 7931.03, 7950.0, 7980.58, 7991.99, 7992.75, 7953.4, 7965.67, 8085.94, 8078.48, 8092.9, 8049.22, 8079.46, 8062.12, 8043.96, 8063.1, 8088.46, 8094.43, 8088.46, 8191.14, 8212.0, 8224.5, 8211.0, 8211.01, 8210.03, 8158.27, 8177.65, 8179.41, 8221.92, 8217.32, 8213.52, 8141.08, 8146.1, 8186.03, 8197.09], \"name\": \"Price\", \"open\": [8733.86, 8740.99, 8739.0, 8728.49, 8708.32, 8795.9, 8760.0, 8760.0, 8759.23, 8517.77, 8520.3, 8535.23, 8546.34, 8526.65, 8555.6, 8512.1, 8492.28, 8460.0, 8474.99, 8455.92, 8326.28, 8133.43, 8164.79, 8229.38, 8220.4, 8238.8, 8232.99, 8207.48, 8243.45, 8371.13, 8373.0, 8365.08, 8179.99, 8225.0, 8285.8, 8273.4, 8297.4, 8279.89, 8252.72, 8302.18, 8295.85, 8277.25, 8346.59, 8358.3, 8375.1, 8368.62, 8366.72, 8314.77, 8363.7, 8344.16, 8247.4, 8277.4, 8291.67, 8307.89, 8298.9, 8269.47, 8300.98, 8318.49, 8306.39, 8276.43, 8257.69, 8166.0, 8176.33, 8200.7, 8155.41, 8080.0, 8067.03, 7958.08, 7974.25, 7998.5, 7991.99, 8022.7, 8042.97, 7965.67, 8088.95, 8122.19, 8107.99, 8137.73, 8115.0, 8107.0, 8094.4, 8080.01, 8117.09, 8126.99, 8110.95, 8215.39, 8231.42, 8240.13, 8235.0, 8219.9, 8248.87, 8213.5, 8200.99, 8200.0, 8237.3, 8228.13, 8240.83, 8214.9, 8170.07, 8229.87, 8205.87], \"showlegend\": false, \"type\": \"candlestick\", \"uid\": \"5d9cbee0-de77-4557-a546-4573fc3c95e9\", \"xaxis\": \"x\", \"yaxis\": \"y\"}, {\"marker\": {\"color\": \"DodgerBlue\"}, \"name\": \"Volume\", \"showlegend\": false, \"type\": \"bar\", \"uid\": \"14a86980-c226-4a52-ae75-2f3d7c02334f\", \"xaxis\": \"x2\", \"y\": [559.93, 273.58, 917.79, 182.62, 1260.69, 324.11, 324.2, 730.67, 1341.75, 792.07, 385.69, 475.08, 877.26, 670.49, 610.97, 168.99, 305.92, 136.05, 154.26, 1070.93, 1710.2, 492.8, 630.72, 620.93, 586.34, 304.52, 450.97, 182.36, 915.32, 319.29, 362.01, 1046.38, 357.91, 561.2, 322.53, 1073.71, 237.21, 251.2, 359.73, 117.23, 363.17, 214.18, 171.64, 258.58, 299.52, 718.98, 119.7, 405.25, 210.77, 714.82, 215.97, 164.2, 201.55, 203.41, 886.82, 95.49, 499.67, 172.77, 355.39, 255.27, 591.06, 133.1, 149.13, 87.55, 1061.54, 286.94, 524.42, 316.0, 441.43, 189.7, 844.94, 155.34, 257.56, 610.69, 217.97, 173.18, 218.06, 372.97, 484.39, 248.1, 162.35, 303.42, 290.69, 160.93, 369.4, 487.27, 93.35, 96.68, 72.14, 90.22, 168.52, 203.15, 71.42, 464.56, 57.0, 89.42, 49.47, 200.05, 254.37, 65.05, 118.19], \"yaxis\": \"y2\"}, {\"mode\": \"lines\", \"name\": \"bitstamp:/USD-BTC\", \"type\": \"scatter\", \"uid\": \"574af33e-2e53-4600-af77-543cc2191f5e\", \"xaxis\": \"x3\", \"y\": [8740.99, 8739.0, 8728.49, 8708.32, 8795.9, 8760.0, 8760.0, 8759.23, 8517.77, 8520.3, 8535.23, 8546.34, 8526.65, 8555.6, 8512.1, 8492.28, 8460.0, 8474.99, 8455.92, 8326.28, 8133.43, 8164.79, 8229.38, 8220.4, 8238.8, 8232.99, 8207.48, 8243.45, 8371.13, 8373.0, 8365.08, 8179.99, 8225.0, 8285.8, 8273.4, 8297.4, 8279.89, 8252.72, 8302.18, 8295.85, 8277.25, 8346.59, 8358.3, 8375.1, 8368.62, 8366.72, 8314.77, 8363.7, 8344.16, 8247.4, 8277.4, 8291.67, 8307.89, 8298.9, 8269.47, 8300.98, 8318.49, 8306.39, 8276.43, 8257.69, 8166.0, 8176.33, 8200.7, 8155.41, 8080.0, 8067.03, 7958.08, 7974.25, 7998.5, 7991.99, 8022.7, 8042.97, 7965.67, 8088.95, 8122.19, 8107.99, 8137.73, 8115.0, 8107.0, 8094.4, 8080.01, 8117.09, 8126.99, 8110.95, 8215.39, 8231.42, 8240.13, 8235.0, 8219.9, 8248.87, 8213.5, 8200.99, 8200.0, 8237.3, 8228.13, 8240.83, 8214.9, 8170.07, 8229.87, 8205.87, 8252.56], \"yaxis\": \"y3\"}, {\"mode\": \"lines\", \"name\": \"bitstamp:/USD:/free\", \"type\": \"scatter\", \"uid\": \"ff5fe72f-8fec-4094-8d5a-9b1db2e631dc\", \"xaxis\": \"x3\", \"y\": [10000.0, 10000.0, 10000.0, 5000.0, 4000.0, 4000.0, 4000.0, 4000.0, 3200.0, 3200.0, 3200.0, 3200.0, 3200.0, 320.0, 320.0, 320.0, 320.0, 288.0, 288.0, 0.0, 0.0, 5644.96, 6576.93, 6576.93, 6576.93, 6576.93, 6576.93, 6576.93, 6576.93, 2630.77, 0.0, 0.0, 6579.31, 6579.31, 6579.31, 6579.31, 6579.31, 6579.31, 6579.31, 6579.31, 6579.31, 6579.31, 3289.65, 3289.65, 3289.65, 3289.65, 0.0, 0.0, 0.0, 0.0, 0.0, 0.0, 0.0, 0.0, 0.0, 0.0, 0.0, 0.0, 0.0, 0.0, 0.0, 5749.56, 5749.56, 2874.78, 2874.78, 2874.78, 287.48, 287.48, 287.48, 287.48, 287.48, 287.48, 287.48, 287.48, 287.48, 287.48, 287.48, 287.48, 287.48, 287.48, 287.48, 287.48, 258.73, 258.73, 258.73, 258.73, 77.62, 77.62, 77.62, 23.29, 23.29, 0.0, 0.0, 0.0, 0.0, 0.0, 0.0, 0.0, 0.0, 0.0, 0.0], \"yaxis\": \"y3\"}, {\"mode\": \"lines\", \"name\": \"bitstamp:/USD:/locked\", \"type\": \"scatter\", \"uid\": \"b65b6550-ac6d-4f1e-8514-e0d91d4a02fa\", \"xaxis\": \"x3\", \"y\": [0.0, 8714.77, 16556.27, 16556.27, 16556.27, 87589.32, 87589.32, 87589.32, 87589.32, 79747.82, 87544.66, 87544.66, 87544.66, 87544.66, 87544.66, 87544.66, 87544.66, 87544.66, 87544.66, 87544.66, 0.0, 0.0, 8533.24, 37173.72, 42045.02, 46439.0, 50390.8, 53936.4, 57141.42, 57141.42, 57141.42, 62995.58, 65285.43, 67357.64, 74872.73, 86128.49, 86128.49, 86128.49, 86128.49, 86128.49, 86128.49, 86128.49, 86128.49, 86128.49, 78693.53, 78693.53, 78693.53, 78693.53, 78693.53, 78693.53, 78693.53, 78693.53, 78693.53, 78693.53, 78693.53, 78693.53, 78693.53, 78693.53, 78693.53, 78693.53, 78693.53, 78693.53, 78693.53, 78693.53, 78693.53, 67437.77, 67437.77, 78457.27, 78457.27, 78457.27, 78457.27, 78457.27, 78457.27, 78457.27, 78457.27, 67660.42, 67660.42, 67660.42, 67660.42, 67660.42, 67660.42, 67660.42, 67660.42, 67660.42, 67660.42, 67660.42, 67660.42, 67660.42, 67660.42, 67660.42, 67660.42, 67660.42, 67660.42, 67660.42, 67660.42, 67660.42, 67660.42, 67660.42, 67660.42, 67660.42, 67660.42], \"yaxis\": \"y3\"}, {\"mode\": \"lines\", \"name\": \"bitstamp:/USD:/total\", \"type\": \"scatter\", \"uid\": \"0fb84544-fd88-49af-9140-fc69fc077cb0\", \"xaxis\": \"x3\", \"y\": [10000.0, 18714.77, 26556.27, 21556.27, 20556.27, 91589.32, 91589.32, 91589.32, 90789.32, 82947.82, 90744.66, 90744.66, 90744.66, 87864.66, 87864.66, 87864.66, 87864.66, 87832.66, 87832.66, 87544.66, 0.0, 5644.96, 15110.17, 43750.65, 48621.95, 53015.93, 56967.73, 60513.33, 63718.35, 59772.19, 57141.42, 62995.58, 71864.74, 73936.95, 81452.04, 92707.8, 92707.8, 92707.8, 92707.8, 92707.8, 92707.8, 92707.8, 89418.14, 89418.14, 81983.18, 81983.18, 78693.53, 78693.53, 78693.53, 78693.53, 78693.53, 78693.53, 78693.53, 78693.53, 78693.53, 78693.53, 78693.53, 78693.53, 78693.53, 78693.53, 78693.53, 84443.09, 84443.09, 81568.31, 81568.31, 70312.55, 67725.25, 78744.75, 78744.75, 78744.75, 78744.75, 78744.75, 78744.75, 78744.75, 78744.75, 67947.9, 67947.9, 67947.9, 67947.9, 67947.9, 67947.9, 67947.9, 67919.15, 67919.15, 67919.15, 67919.15, 67738.04, 67738.04, 67738.04, 67683.71, 67683.71, 67660.42, 67660.42, 67660.42, 67660.42, 67660.42, 67660.42, 67660.42, 67660.42, 67660.42, 67660.42], \"yaxis\": \"y3\"}, {\"mode\": \"lines\", \"name\": \"bitstamp:/BTC:/free\", \"type\": \"scatter\", \"uid\": \"1a8e0fb8-1bbf-4b27-8697-5e130693893c\", \"xaxis\": \"x3\", \"y\": [10.0, 9.0, 8.1, 8.1, 8.1, 0.0, 0.0, 0.0, 0.0, 0.91784352, 0.0, 0.0, 0.0, 0.0, 0.0, 0.0, 0.0, 0.0, 0.0, 0.0, 10.48271616, 9.43444454, 8.49100009, 5.94370006, 5.34933005, 4.81439705, 4.33295734, 3.89966161, 3.50969545, 3.50969545, 3.50969545, 2.80775636, 2.52698072, 2.27428265, 1.36456959, 0.0, 0.0, 0.0, 0.0, 0.0, 0.0, 0.0, 0.0, 0.0, 0.0, 0.0, 0.0, 0.0, 0.0, 0.0, 0.0, 0.0, 0.0, 0.0, 0.0, 0.0, 0.0, 0.0, 0.0, 0.0, 0.0, 0.0, 0.0, 0.0, 0.0, 1.38886015, 1.38886015, 0.0, 0.0, 0.0, 0.0, 0.0, 0.0, 0.0, 0.0, 0.0, 0.0, 0.0, 0.0, 0.0, 0.0, 0.0, 0.0, 0.0, 0.0, 0.0, 0.0, 0.0, 0.0, 0.0, 0.0, 0.0, 0.0, 0.0, 0.0, 0.0, 0.0, 0.0, 0.0, 0.0, 0.0], \"yaxis\": \"y3\"}, {\"mode\": \"lines\", \"name\": \"bitstamp:/BTC:/locked\", \"type\": \"scatter\", \"uid\": \"a0ffd6f4-bd1f-401d-ad90-0c192ed97e4c\", \"xaxis\": \"x3\", \"y\": [0.0, 0.0, 0.0, 0.57111826, 0.68560647, 0.68560647, 0.68560647, 0.68560647, 0.7766647, 0.7766647, 0.7766647, 0.7766647, 0.7766647, 1.11341594, 1.11341594, 1.11341594, 1.11341594, 1.11718663, 1.11718663, 1.1511439, 1.1511439, 1.50328176, 1.28396638, 0.34052193, 0.34052193, 0.34052193, 0.34052193, 0.34052193, 0.34052193, 0.81050866, 1.12376317, 1.12376317, 0.3170252, 0.3170252, 0.3170252, 0.3170252, 0.3170252, 0.3170252, 0.3170252, 0.3170252, 0.3170252, 0.3170252, 0.7099749, 0.7099749, 1.59505806, 1.59505806, 1.98706114, 1.98706114, 1.98706114, 1.98706114, 1.98706114, 1.98706114, 1.98706114, 1.98706114, 1.98706114, 1.98706114, 1.98706114, 1.98706114, 1.98706114, 1.98706114, 1.98706114, 1.28085693, 1.28085693, 1.6303588, 1.6303588, 1.6303588, 1.95012208, 1.95012208, 1.95012208, 1.95012208, 1.95012208, 1.95012208, 1.95012208, 1.95012208, 1.95012208, 3.27543705, 3.27543705, 3.27543705, 3.27543705, 3.27543705, 3.27543705, 3.27543705, 3.27896787, 3.27896787, 3.27896787, 3.27896787, 3.30090455, 3.30090455, 3.30090455, 3.30749465, 3.30749465, 3.3103217, 3.3103217, 3.3103217, 3.3103217, 3.3103217, 3.3103217, 3.3103217, 3.3103217, 3.3103217, 3.3103217], \"yaxis\": \"y3\"}, {\"mode\": \"lines\", \"name\": \"bitstamp:/BTC:/total\", \"type\": \"scatter\", \"uid\": \"075f3401-b1c4-4304-8095-019669793920\", \"xaxis\": \"x3\", \"y\": [10.0, 9.0, 8.1, 8.67111826, 8.78560647, 0.68560647, 0.68560647, 0.68560647, 0.7766647, 1.69450822, 0.7766647, 0.7766647, 0.7766647, 1.11341594, 1.11341594, 1.11341594, 1.11341594, 1.11718663, 1.11718663, 1.1511439, 11.63386006, 10.9377263, 9.77496647, 6.28422199, 5.68985198, 5.15491898, 4.67347927, 4.24018354, 3.85021738, 4.32020411, 4.63345862, 3.93151953, 2.84400592, 2.59130785, 1.68159479, 0.3170252, 0.3170252, 0.3170252, 0.3170252, 0.3170252, 0.3170252, 0.3170252, 0.7099749, 0.7099749, 1.59505806, 1.59505806, 1.98706114, 1.98706114, 1.98706114, 1.98706114, 1.98706114, 1.98706114, 1.98706114, 1.98706114, 1.98706114, 1.98706114, 1.98706114, 1.98706114, 1.98706114, 1.98706114, 1.98706114, 1.28085693, 1.28085693, 1.6303588, 1.6303588, 3.01921895, 3.33898223, 1.95012208, 1.95012208, 1.95012208, 1.95012208, 1.95012208, 1.95012208, 1.95012208, 1.95012208, 3.27543705, 3.27543705, 3.27543705, 3.27543705, 3.27543705, 3.27543705, 3.27543705, 3.27896787, 3.27896787, 3.27896787, 3.27896787, 3.30090455, 3.30090455, 3.30090455, 3.30749465, 3.30749465, 3.3103217, 3.3103217, 3.3103217, 3.3103217, 3.3103217, 3.3103217, 3.3103217, 3.3103217, 3.3103217, 3.3103217], \"yaxis\": \"y3\"}, {\"mode\": \"lines\", \"name\": \"bitstamp:/BTC:/worth\", \"type\": \"scatter\", \"uid\": \"bcac39b0-0c7a-4c53-83ec-a9a65f0688f9\", \"xaxis\": \"x3\", \"y\": [87409.9, 78651.0, 70700.769, 75510.8725659232, 77277.31594947299, 6005.9126772, 6005.9126772, 6005.3847602180995, 6615.451281719, 14437.718386865998, 6629.011847381, 6637.640592198, 6622.348064254999, 9525.941416264, 9477.507822874002, 9455.439918943202, 9419.4988524, 9468.1455173837, 9446.840768349599, 9584.746431692001, 94623.1864278058, 89304.23831697699, 80441.9135688886, 51658.81844659599, 46877.552492824, 42440.3964131502, 38357.487638939594, 34953.741002813, 32230.6702162394, 36173.06901303, 38759.2520329896, 32159.7904402047, 23391.948691999998, 21471.05858353, 13912.506335585998, 2630.48489448, 2624.933783228, 2616.320208544, 2632.000274936, 2629.99350542, 2624.0968367, 2646.079364068, 5934.183206669999, 5946.11078499, 13348.4347820772, 13345.404171763199, 16521.9563550378, 16619.183256618002, 16580.3560819424, 16388.088046036, 16447.699880236, 16476.055242703802, 16508.2853743946, 16490.421694746, 16431.942485395797, 16494.5547819172, 16529.3482224786, 16505.304782684598, 16445.7724309302, 16408.5349051666, 16226.34126924, 10472.7089424669, 10503.923425851, 13296.244461107999, 13173.299104, 24356.1298462185, 26571.8877049184, 15550.76099644, 15598.05145688, 15585.3561621392, 15645.244411216001, 15684.773385777602, 15534.0289489936, 15774.439999016, 15839.2620569552, 26557.2108470295, 26654.622344896496, 26580.17166075, 26553.968164349997, 26512.69765752, 26465.5641183705, 26587.0173241845, 26648.1390898113, 26595.544445176496, 26937.999849519296, 26990.5617044754, 27199.882609591496, 27182.94896925, 27133.105310544997, 27283.093393545503, 27166.107307775, 27147.915158482996, 27144.637939999997, 27268.112939409995, 27237.757289420995, 27279.798375011, 27193.961733329998, 27045.560011519, 27243.517249179, 27164.069528379, 27318.628448551997], \"yaxis\": \"y3\"}, {\"mode\": \"lines\", \"name\": \"net_worth\", \"type\": \"scatter\", \"uid\": \"3740a7ea-6a47-479f-80bb-1b8efa8d6c51\", \"xaxis\": \"x3\", \"y\": [97409.9, 97365.77, 97257.039, 97067.1425659232, 97833.585949473, 97595.23267720001, 97595.23267720001, 97594.70476021811, 97404.771281719, 97385.538386866, 97373.671847381, 97382.30059219801, 97367.008064255, 97390.601416264, 97342.167822874, 97320.0999189432, 97284.1588524, 97300.8055173837, 97279.50076834961, 97129.40643169201, 94623.1864278058, 94949.198316977, 95552.0835688886, 95409.468446596, 95499.50249282399, 95456.32641315021, 95325.21763893959, 95467.071002813, 95949.0202162394, 95945.25901303001, 95900.67203298959, 95155.3704402047, 95256.688692, 95408.00858353, 95364.546335586, 95338.28489448, 95332.733783228, 95324.120208544, 95339.800274936, 95337.79350542, 95331.8968367, 95353.87936406801, 95352.32320667, 95364.25078499, 95331.61478207719, 95328.58417176318, 95215.4863550378, 95312.71325661801, 95273.8860819424, 95081.61804603599, 95141.229880236, 95169.5852427038, 95201.8153743946, 95183.951694746, 95125.47248539579, 95188.08478191719, 95222.8782224786, 95198.8347826846, 95139.3024309302, 95102.0649051666, 94919.87126924, 94915.79894246689, 94947.013425851, 94864.554461108, 94741.609104, 94668.6798462185, 94297.1377049184, 94295.51099644, 94342.80145688, 94330.1061621392, 94389.994411216, 94429.5233857776, 94278.7789489936, 94519.189999016, 94584.0120569552, 94505.11084702949, 94602.52234489648, 94528.07166074999, 94501.86816434999, 94460.59765751999, 94413.4641183705, 94534.9173241845, 94567.2890898113, 94514.69444517649, 94857.1498495193, 94909.7117044754, 94937.9226095915, 94920.98896925, 94871.14531054499, 94966.8033935455, 94849.81730777501, 94808.335158483, 94805.05794, 94928.53293941, 94898.177289421, 94940.218375011, 94854.38173333, 94705.980011519, 94903.937249179, 94824.489528379, 94979.048448552], \"yaxis\": \"y3\"}, {\"marker\": {\"color\": \"DarkGreen\"}, \"mode\": \"lines\", \"name\": \"Net Worth\", \"type\": \"scatter\", \"uid\": \"603f0991-97d2-427c-afd5-1ceb071c6a05\", \"xaxis\": \"x4\", \"y\": [97409.9, 97365.77, 97257.039, 97067.1425659232, 97833.585949473, 97595.23267720001, 97595.23267720001, 97594.70476021811, 97404.771281719, 97385.538386866, 97373.671847381, 97382.30059219801, 97367.008064255, 97390.601416264, 97342.167822874, 97320.0999189432, 97284.1588524, 97300.8055173837, 97279.50076834961, 97129.40643169201, 94623.1864278058, 94949.198316977, 95552.0835688886, 95409.468446596, 95499.50249282399, 95456.32641315021, 95325.21763893959, 95467.071002813, 95949.0202162394, 95945.25901303001, 95900.67203298959, 95155.3704402047, 95256.688692, 95408.00858353, 95364.546335586, 95338.28489448, 95332.733783228, 95324.120208544, 95339.800274936, 95337.79350542, 95331.8968367, 95353.87936406801, 95352.32320667, 95364.25078499, 95331.61478207719, 95328.58417176318, 95215.4863550378, 95312.71325661801, 95273.8860819424, 95081.61804603599, 95141.229880236, 95169.5852427038, 95201.8153743946, 95183.951694746, 95125.47248539579, 95188.08478191719, 95222.8782224786, 95198.8347826846, 95139.3024309302, 95102.0649051666, 94919.87126924, 94915.79894246689, 94947.013425851, 94864.554461108, 94741.609104, 94668.6798462185, 94297.1377049184, 94295.51099644, 94342.80145688, 94330.1061621392, 94389.994411216, 94429.5233857776, 94278.7789489936, 94519.189999016, 94584.0120569552, 94505.11084702949, 94602.52234489648, 94528.07166074999, 94501.86816434999, 94460.59765751999, 94413.4641183705, 94534.9173241845, 94567.2890898113, 94514.69444517649, 94857.1498495193, 94909.7117044754, 94937.9226095915, 94920.98896925, 94871.14531054499, 94966.8033935455, 94849.81730777501, 94808.335158483, 94805.05794, 94928.53293941, 94898.177289421, 94940.218375011, 94854.38173333, 94705.980011519, 94903.937249179, 94824.489528379, 94979.048448552], \"yaxis\": \"y4\"}],                        {\"annotations\": [{\"arrowcolor\": \"DarkGreen\", \"arrowhead\": 2, \"arrowsize\": 0.8, \"arrowwidth\": 4, \"ax\": 0, \"ay\": 15, \"hoverlabel\": {\"bgcolor\": \"DarkGreen\"}, \"hovertext\": \"Step 46 [2018-05-17 03:00:00]<br>BUY 0.39200308 BTC @ 8366.72 USD MARKET<br>Total: 3279.78 USD - Comm.: 9.87 USD\", \"opacity\": 0.6, \"showarrow\": true, \"x\": 45, \"xref\": \"x\", \"y\": 8366.72, \"yref\": \"y\"}, {\"arrowcolor\": \"DarkGreen\", \"arrowhead\": 2, \"arrowsize\": 0.8, \"arrowwidth\": 4, \"ax\": 0, \"ay\": 15, \"hoverlabel\": {\"bgcolor\": \"DarkGreen\"}, \"hovertext\": \"Step 44 [2018-05-17 01:00:00]<br>BUY 0.88508316 BTC @ 8375.1 USD MARKET<br>Total: 7412.66 USD - Comm.: 22.30 USD\", \"opacity\": 0.6, \"showarrow\": true, \"x\": 43, \"xref\": \"x\", \"y\": 8375.1, \"yref\": \"y\"}, {\"arrowcolor\": \"DarkGreen\", \"arrowhead\": 2, \"arrowsize\": 0.8, \"arrowwidth\": 4, \"ax\": 0, \"ay\": 15, \"hoverlabel\": {\"bgcolor\": \"DarkGreen\"}, \"hovertext\": \"Step 42 [2018-05-16 23:00:00]<br>BUY 0.3929497 BTC @ 8346.59 USD MARKET<br>Total: 3279.79 USD - Comm.: 9.87 USD\", \"opacity\": 0.6, \"showarrow\": true, \"x\": 41, \"xref\": \"x\", \"y\": 8346.59, \"yref\": \"y\"}, {\"arrowcolor\": \"FireBrick\", \"arrowhead\": 2, \"arrowsize\": 0.8, \"arrowwidth\": 4, \"ax\": 0, \"ay\": -15, \"hoverlabel\": {\"bgcolor\": \"FireBrick\"}, \"hovertext\": \"Step 35 [2018-05-16 16:00:00]<br>SELL 1.36047588 BTC @ 8273.4 USD MARKET<br>Total: 11255.76 USD - Comm.: 0.00409371 BTC\", \"opacity\": 0.6, \"showarrow\": true, \"x\": 34, \"xref\": \"x\", \"y\": 8273.4, \"yref\": \"y\"}, {\"arrowcolor\": \"FireBrick\", \"arrowhead\": 2, \"arrowsize\": 0.8, \"arrowwidth\": 4, \"ax\": 0, \"ay\": -15, \"hoverlabel\": {\"bgcolor\": \"FireBrick\"}, \"hovertext\": \"Step 34 [2018-05-16 15:00:00]<br>SELL 0.90698392 BTC @ 8285.8 USD MARKET<br>Total: 7515.09 USD - Comm.: 0.00272914 BTC\", \"opacity\": 0.6, \"showarrow\": true, \"x\": 33, \"xref\": \"x\", \"y\": 8285.8, \"yref\": \"y\"}, {\"arrowcolor\": \"FireBrick\", \"arrowhead\": 2, \"arrowsize\": 0.8, \"arrowwidth\": 4, \"ax\": 0, \"ay\": -15, \"hoverlabel\": {\"bgcolor\": \"FireBrick\"}, \"hovertext\": \"Step 33 [2018-05-16 14:00:00]<br>SELL 0.25193998 BTC @ 8225.0 USD MARKET<br>Total: 2072.21 USD - Comm.: 0.00075809 BTC\", \"opacity\": 0.6, \"showarrow\": true, \"x\": 32, \"xref\": \"x\", \"y\": 8225.0, \"yref\": \"y\"}, {\"arrowcolor\": \"FireBrick\", \"arrowhead\": 2, \"arrowsize\": 0.8, \"arrowwidth\": 4, \"ax\": 0, \"ay\": -15, \"hoverlabel\": {\"bgcolor\": \"FireBrick\"}, \"hovertext\": \"Step 32 [2018-05-16 13:00:00]<br>SELL 0.27993331 BTC @ 8179.99 USD MARKET<br>Total: 2289.85 USD - Comm.: 0.00084233 BTC\", \"opacity\": 0.6, \"showarrow\": true, \"x\": 31, \"xref\": \"x\", \"y\": 8179.99, \"yref\": \"y\"}, {\"arrowcolor\": \"FireBrick\", \"arrowhead\": 2, \"arrowsize\": 0.8, \"arrowwidth\": 4, \"ax\": 0, \"ay\": -15, \"hoverlabel\": {\"bgcolor\": \"FireBrick\"}, \"hovertext\": \"Step 32 [2018-05-16 13:00:00]<br>SELL 0.46857677 BTC @ 8179.99 USD MARKET<br>Total: 3832.95 USD - Comm.: 0.00140996 BTC\", \"opacity\": 0.6, \"showarrow\": true, \"x\": 31, \"xref\": \"x\", \"y\": 8179.99, \"yref\": \"y\"}, {\"arrowcolor\": \"FireBrick\", \"arrowhead\": 2, \"arrowsize\": 0.8, \"arrowwidth\": 4, \"ax\": 0, \"ay\": -15, \"hoverlabel\": {\"bgcolor\": \"FireBrick\"}, \"hovertext\": \"Step 32 [2018-05-16 13:00:00]<br>SELL 0.33574099 BTC @ 8179.99 USD MARKET<br>Total: 2746.36 USD - Comm.: 0.00101025 BTC\", \"opacity\": 0.6, \"showarrow\": true, \"x\": 31, \"xref\": \"x\", \"y\": 8179.99, \"yref\": \"y\"}, {\"arrowcolor\": \"FireBrick\", \"arrowhead\": 2, \"arrowsize\": 0.8, \"arrowwidth\": 4, \"ax\": 0, \"ay\": -15, \"hoverlabel\": {\"bgcolor\": \"FireBrick\"}, \"hovertext\": \"Step 31 [2018-05-16 12:00:00]<br>SELL 0.69983327 BTC @ 8365.08 USD MARKET<br>Total: 5854.16 USD - Comm.: 0.00210582 BTC\", \"opacity\": 0.6, \"showarrow\": true, \"x\": 30, \"xref\": \"x\", \"y\": 8365.08, \"yref\": \"y\"}, {\"arrowcolor\": \"DarkGreen\", \"arrowhead\": 2, \"arrowsize\": 0.8, \"arrowwidth\": 4, \"ax\": 0, \"ay\": 15, \"hoverlabel\": {\"bgcolor\": \"DarkGreen\"}, \"hovertext\": \"Step 30 [2018-05-16 11:00:00]<br>BUY 0.31325451 BTC @ 8373.0 USD MARKET<br>Total: 2622.88 USD - Comm.: 7.89 USD\", \"opacity\": 0.6, \"showarrow\": true, \"x\": 29, \"xref\": \"x\", \"y\": 8373.0, \"yref\": \"y\"}, {\"arrowcolor\": \"DarkGreen\", \"arrowhead\": 2, \"arrowsize\": 0.8, \"arrowwidth\": 4, \"ax\": 0, \"ay\": 15, \"hoverlabel\": {\"bgcolor\": \"DarkGreen\"}, \"hovertext\": \"Step 29 [2018-05-16 10:00:00]<br>BUY 0.46998673 BTC @ 8371.13 USD MARKET<br>Total: 3934.32 USD - Comm.: 11.84 USD\", \"opacity\": 0.6, \"showarrow\": true, \"x\": 28, \"xref\": \"x\", \"y\": 8371.13, \"yref\": \"y\"}, {\"arrowcolor\": \"FireBrick\", \"arrowhead\": 2, \"arrowsize\": 0.8, \"arrowwidth\": 4, \"ax\": 0, \"ay\": -15, \"hoverlabel\": {\"bgcolor\": \"FireBrick\"}, \"hovertext\": \"Step 28 [2018-05-16 09:00:00]<br>SELL 0.38879626 BTC @ 8243.45 USD MARKET<br>Total: 3205.02 USD - Comm.: 0.00116990 BTC\", \"opacity\": 0.6, \"showarrow\": true, \"x\": 27, \"xref\": \"x\", \"y\": 8243.45, \"yref\": \"y\"}, {\"arrowcolor\": \"FireBrick\", \"arrowhead\": 2, \"arrowsize\": 0.8, \"arrowwidth\": 4, \"ax\": 0, \"ay\": -15, \"hoverlabel\": {\"bgcolor\": \"FireBrick\"}, \"hovertext\": \"Step 27 [2018-05-16 08:00:00]<br>SELL 0.43199584 BTC @ 8207.48 USD MARKET<br>Total: 3545.6 USD - Comm.: 0.00129989 BTC\", \"opacity\": 0.6, \"showarrow\": true, \"x\": 26, \"xref\": \"x\", \"y\": 8207.48, \"yref\": \"y\"}, {\"arrowcolor\": \"FireBrick\", \"arrowhead\": 2, \"arrowsize\": 0.8, \"arrowwidth\": 4, \"ax\": 0, \"ay\": -15, \"hoverlabel\": {\"bgcolor\": \"FireBrick\"}, \"hovertext\": \"Step 26 [2018-05-16 07:00:00]<br>SELL 0.47999539 BTC @ 8232.99 USD MARKET<br>Total: 3951.8 USD - Comm.: 0.00144432 BTC\", \"opacity\": 0.6, \"showarrow\": true, \"x\": 25, \"xref\": \"x\", \"y\": 8232.99, \"yref\": \"y\"}, {\"arrowcolor\": \"FireBrick\", \"arrowhead\": 2, \"arrowsize\": 0.8, \"arrowwidth\": 4, \"ax\": 0, \"ay\": -15, \"hoverlabel\": {\"bgcolor\": \"FireBrick\"}, \"hovertext\": \"Step 25 [2018-05-16 06:00:00]<br>SELL 0.5333282 BTC @ 8238.8 USD MARKET<br>Total: 4393.98 USD - Comm.: 0.00160480 BTC\", \"opacity\": 0.6, \"showarrow\": true, \"x\": 24, \"xref\": \"x\", \"y\": 8238.8, \"yref\": \"y\"}, {\"arrowcolor\": \"FireBrick\", \"arrowhead\": 2, \"arrowsize\": 0.8, \"arrowwidth\": 4, \"ax\": 0, \"ay\": -15, \"hoverlabel\": {\"bgcolor\": \"FireBrick\"}, \"hovertext\": \"Step 24 [2018-05-16 05:00:00]<br>SELL 0.5925869 BTC @ 8220.4 USD MARKET<br>Total: 4871.3 USD - Comm.: 0.00178311 BTC\", \"opacity\": 0.6, \"showarrow\": true, \"x\": 23, \"xref\": \"x\", \"y\": 8220.4, \"yref\": \"y\"}, {\"arrowcolor\": \"FireBrick\", \"arrowhead\": 2, \"arrowsize\": 0.8, \"arrowwidth\": 4, \"ax\": 0, \"ay\": -15, \"hoverlabel\": {\"bgcolor\": \"FireBrick\"}, \"hovertext\": \"Step 23 [2018-05-16 04:00:00]<br>SELL 2.53965813 BTC @ 8229.38 USD MARKET<br>Total: 20899.81 USD - Comm.: 0.00764190 BTC\", \"opacity\": 0.6, \"showarrow\": true, \"x\": 22, \"xref\": \"x\", \"y\": 8229.38, \"yref\": \"y\"}, {\"arrowcolor\": \"FireBrick\", \"arrowhead\": 2, \"arrowsize\": 0.8, \"arrowwidth\": 4, \"ax\": 0, \"ay\": -15, \"hoverlabel\": {\"bgcolor\": \"FireBrick\"}, \"hovertext\": \"Step 23 [2018-05-16 04:00:00]<br>SELL 0.94061412 BTC @ 8229.38 USD MARKET<br>Total: 7740.67 USD - Comm.: 0.00283033 BTC\", \"opacity\": 0.6, \"showarrow\": true, \"x\": 22, \"xref\": \"x\", \"y\": 8229.38, \"yref\": \"y\"}, {\"arrowcolor\": \"FireBrick\", \"arrowhead\": 2, \"arrowsize\": 0.8, \"arrowwidth\": 4, \"ax\": 0, \"ay\": -15, \"hoverlabel\": {\"bgcolor\": \"FireBrick\"}, \"hovertext\": \"Step 22 [2018-05-16 03:00:00]<br>SELL 1.04512681 BTC @ 8164.79 USD MARKET<br>Total: 8533.24 USD - Comm.: 0.00314481 BTC\", \"opacity\": 0.6, \"showarrow\": true, \"x\": 21, \"xref\": \"x\", \"y\": 8164.79, \"yref\": \"y\"}, {\"arrowcolor\": \"FireBrick\", \"arrowhead\": 2, \"arrowsize\": 0.8, \"arrowwidth\": 4, \"ax\": 0, \"ay\": -15, \"hoverlabel\": {\"bgcolor\": \"FireBrick\"}, \"hovertext\": \"Step 22 [2018-05-16 03:00:00]<br>SELL 0.11414475 BTC @ 8164.79 USD MARKET<br>Total: 931.97 USD - Comm.: 0.00034346 BTC\", \"opacity\": 0.6, \"showarrow\": true, \"x\": 21, \"xref\": \"x\", \"y\": 8164.79, \"yref\": \"y\"}, {\"arrowcolor\": \"FireBrick\", \"arrowhead\": 2, \"arrowsize\": 0.8, \"arrowwidth\": 4, \"ax\": 0, \"ay\": -15, \"hoverlabel\": {\"bgcolor\": \"FireBrick\"}, \"hovertext\": \"Step 21 [2018-05-16 02:00:00]<br>SELL 0.0338554 BTC @ 8133.43 USD MARKET<br>Total: 275.36 USD - Comm.: 0.00010187 BTC\", \"opacity\": 0.6, \"showarrow\": true, \"x\": 20, \"xref\": \"x\", \"y\": 8133.43, \"yref\": \"y\"}, {\"arrowcolor\": \"FireBrick\", \"arrowhead\": 2, \"arrowsize\": 0.8, \"arrowwidth\": 4, \"ax\": 0, \"ay\": -15, \"hoverlabel\": {\"bgcolor\": \"FireBrick\"}, \"hovertext\": \"Step 21 [2018-05-16 02:00:00]<br>SELL 0.09078506 BTC @ 8133.43 USD MARKET<br>Total: 738.39 USD - Comm.: 0.00027317 BTC\", \"opacity\": 0.6, \"showarrow\": true, \"x\": 20, \"xref\": \"x\", \"y\": 8133.43, \"yref\": \"y\"}, {\"arrowcolor\": \"FireBrick\", \"arrowhead\": 2, \"arrowsize\": 0.8, \"arrowwidth\": 4, \"ax\": 0, \"ay\": -15, \"hoverlabel\": {\"bgcolor\": \"FireBrick\"}, \"hovertext\": \"Step 21 [2018-05-16 02:00:00]<br>SELL 0.56940491 BTC @ 8133.43 USD MARKET<br>Total: 4631.21 USD - Comm.: 0.00171335 BTC\", \"opacity\": 0.6, \"showarrow\": true, \"x\": 20, \"xref\": \"x\", \"y\": 8133.43, \"yref\": \"y\"}, {\"arrowcolor\": \"DarkGreen\", \"arrowhead\": 2, \"arrowsize\": 0.8, \"arrowwidth\": 4, \"ax\": 0, \"ay\": 15, \"hoverlabel\": {\"bgcolor\": \"DarkGreen\"}, \"hovertext\": \"Step 20 [2018-05-16 01:00:00]<br>BUY 0.9336042 BTC @ 8326.28 USD MARKET<br>Total: 7773.45 USD - Comm.: 23.39 USD\", \"opacity\": 0.6, \"showarrow\": true, \"x\": 19, \"xref\": \"x\", \"y\": 8326.28, \"yref\": \"y\"}, {\"arrowcolor\": \"DarkGreen\", \"arrowhead\": 2, \"arrowsize\": 0.8, \"arrowwidth\": 4, \"ax\": 0, \"ay\": 15, \"hoverlabel\": {\"bgcolor\": \"DarkGreen\"}, \"hovertext\": \"Step 20 [2018-05-16 01:00:00]<br>BUY 8.50559313 BTC @ 8326.28 USD MARKET<br>Total: 70819.95 USD - Comm.: 213.10 USD\", \"opacity\": 0.6, \"showarrow\": true, \"x\": 19, \"xref\": \"x\", \"y\": 8326.28, \"yref\": \"y\"}, {\"arrowcolor\": \"DarkGreen\", \"arrowhead\": 2, \"arrowsize\": 0.8, \"arrowwidth\": 4, \"ax\": 0, \"ay\": 15, \"hoverlabel\": {\"bgcolor\": \"DarkGreen\"}, \"hovertext\": \"Step 20 [2018-05-16 01:00:00]<br>BUY 1.04351883 BTC @ 8326.28 USD MARKET<br>Total: 8688.63 USD - Comm.: 26.14 USD\", \"opacity\": 0.6, \"showarrow\": true, \"x\": 19, \"xref\": \"x\", \"y\": 8326.28, \"yref\": \"y\"}, {\"arrowcolor\": \"DarkGreen\", \"arrowhead\": 2, \"arrowsize\": 0.8, \"arrowwidth\": 4, \"ax\": 0, \"ay\": 15, \"hoverlabel\": {\"bgcolor\": \"DarkGreen\"}, \"hovertext\": \"Step 19 [2018-05-16 00:00:00]<br>BUY 0.03395727 BTC @ 8455.92 USD MARKET<br>Total: 287.14 USD - Comm.: 0.86 USD\", \"opacity\": 0.6, \"showarrow\": true, \"x\": 18, \"xref\": \"x\", \"y\": 8455.92, \"yref\": \"y\"}, {\"arrowcolor\": \"DarkGreen\", \"arrowhead\": 2, \"arrowsize\": 0.8, \"arrowwidth\": 4, \"ax\": 0, \"ay\": 15, \"hoverlabel\": {\"bgcolor\": \"DarkGreen\"}, \"hovertext\": \"Step 17 [2018-05-15 22:00:00]<br>BUY 0.00377069 BTC @ 8460.0 USD MARKET<br>Total: 31.9 USD - Comm.: 0.10 USD\", \"opacity\": 0.6, \"showarrow\": true, \"x\": 16, \"xref\": \"x\", \"y\": 8460.0, \"yref\": \"y\"}, {\"arrowcolor\": \"DarkGreen\", \"arrowhead\": 2, \"arrowsize\": 0.8, \"arrowwidth\": 4, \"ax\": 0, \"ay\": 15, \"hoverlabel\": {\"bgcolor\": \"DarkGreen\"}, \"hovertext\": \"Step 13 [2018-05-15 18:00:00]<br>BUY 0.33675124 BTC @ 8526.65 USD MARKET<br>Total: 2871.36 USD - Comm.: 8.64 USD\", \"opacity\": 0.6, \"showarrow\": true, \"x\": 12, \"xref\": \"x\", \"y\": 8526.65, \"yref\": \"y\"}, {\"arrowcolor\": \"FireBrick\", \"arrowhead\": 2, \"arrowsize\": 0.8, \"arrowwidth\": 4, \"ax\": 0, \"ay\": -15, \"hoverlabel\": {\"bgcolor\": \"FireBrick\"}, \"hovertext\": \"Step 10 [2018-05-15 15:00:00]<br>SELL 0.91508999 BTC @ 8520.3 USD MARKET<br>Total: 7796.84 USD - Comm.: 0.00275353 BTC\", \"opacity\": 0.6, \"showarrow\": true, \"x\": 9, \"xref\": \"x\", \"y\": 8520.3, \"yref\": \"y\"}, {\"arrowcolor\": \"DarkGreen\", \"arrowhead\": 2, \"arrowsize\": 0.8, \"arrowwidth\": 4, \"ax\": 0, \"ay\": 15, \"hoverlabel\": {\"bgcolor\": \"DarkGreen\"}, \"hovertext\": \"Step 9 [2018-05-15 14:00:00]<br>BUY 0.91784352 BTC @ 8517.77 USD MARKET<br>Total: 7817.98 USD - Comm.: 23.52 USD\", \"opacity\": 0.6, \"showarrow\": true, \"x\": 8, \"xref\": \"x\", \"y\": 8517.77, \"yref\": \"y\"}, {\"arrowcolor\": \"DarkGreen\", \"arrowhead\": 2, \"arrowsize\": 0.8, \"arrowwidth\": 4, \"ax\": 0, \"ay\": 15, \"hoverlabel\": {\"bgcolor\": \"DarkGreen\"}, \"hovertext\": \"Step 8 [2018-05-15 13:00:00]<br>BUY 0.09105823 BTC @ 8759.23 USD MARKET<br>Total: 797.6 USD - Comm.: 2.40 USD\", \"opacity\": 0.6, \"showarrow\": true, \"x\": 7, \"xref\": \"x\", \"y\": 8759.23, \"yref\": \"y\"}, {\"arrowcolor\": \"FireBrick\", \"arrowhead\": 2, \"arrowsize\": 0.8, \"arrowwidth\": 4, \"ax\": 0, \"ay\": -15, \"hoverlabel\": {\"bgcolor\": \"FireBrick\"}, \"hovertext\": \"Step 5 [2018-05-15 10:00:00]<br>SELL 8.0757 BTC @ 8795.9 USD MARKET<br>Total: 71033.05 USD - Comm.: 0.02430000 BTC\", \"opacity\": 0.6, \"showarrow\": true, \"x\": 4, \"xref\": \"x\", \"y\": 8795.9, \"yref\": \"y\"}, {\"arrowcolor\": \"DarkGreen\", \"arrowhead\": 2, \"arrowsize\": 0.8, \"arrowwidth\": 4, \"ax\": 0, \"ay\": 15, \"hoverlabel\": {\"bgcolor\": \"DarkGreen\"}, \"hovertext\": \"Step 4 [2018-05-15 09:00:00]<br>BUY 0.11448821 BTC @ 8708.32 USD MARKET<br>Total: 997.0 USD - Comm.: 3.00 USD\", \"opacity\": 0.6, \"showarrow\": true, \"x\": 3, \"xref\": \"x\", \"y\": 8708.32, \"yref\": \"y\"}, {\"arrowcolor\": \"DarkGreen\", \"arrowhead\": 2, \"arrowsize\": 0.8, \"arrowwidth\": 4, \"ax\": 0, \"ay\": 15, \"hoverlabel\": {\"bgcolor\": \"DarkGreen\"}, \"hovertext\": \"Step 3 [2018-05-15 08:00:00]<br>BUY 0.57111826 BTC @ 8728.49 USD MARKET<br>Total: 4985.0 USD - Comm.: 15.00 USD\", \"opacity\": 0.6, \"showarrow\": true, \"x\": 2, \"xref\": \"x\", \"y\": 8728.49, \"yref\": \"y\"}, {\"arrowcolor\": \"FireBrick\", \"arrowhead\": 2, \"arrowsize\": 0.8, \"arrowwidth\": 4, \"ax\": 0, \"ay\": -15, \"hoverlabel\": {\"bgcolor\": \"FireBrick\"}, \"hovertext\": \"Step 2 [2018-05-15 07:00:00]<br>SELL 0.8973 BTC @ 8739.0 USD MARKET<br>Total: 7841.5 USD - Comm.: 0.00270000 BTC\", \"opacity\": 0.6, \"showarrow\": true, \"x\": 1, \"xref\": \"x\", \"y\": 8739.0, \"yref\": \"y\"}, {\"arrowcolor\": \"FireBrick\", \"arrowhead\": 2, \"arrowsize\": 0.8, \"arrowwidth\": 4, \"ax\": 0, \"ay\": -15, \"hoverlabel\": {\"bgcolor\": \"FireBrick\"}, \"hovertext\": \"Step 1 [2018-05-15 06:00:00]<br>SELL 0.997 BTC @ 8740.99 USD MARKET<br>Total: 8714.77 USD - Comm.: 0.00300000 BTC\", \"opacity\": 0.6, \"showarrow\": true, \"x\": 0, \"xref\": \"x\", \"y\": 8740.99, \"yref\": \"y\"}, {\"arrowcolor\": \"DarkGreen\", \"arrowhead\": 2, \"arrowsize\": 0.8, \"arrowwidth\": 4, \"ax\": 0, \"ay\": 15, \"hoverlabel\": {\"bgcolor\": \"DarkGreen\"}, \"hovertext\": \"Step 91 [2018-05-19 00:00:00]<br>BUY 0.00282705 BTC @ 8213.5 USD MARKET<br>Total: 23.22 USD - Comm.: 0.07 USD\", \"opacity\": 0.6, \"showarrow\": true, \"x\": 90, \"xref\": \"x\", \"y\": 8213.5, \"yref\": \"y\"}, {\"arrowcolor\": \"DarkGreen\", \"arrowhead\": 2, \"arrowsize\": 0.8, \"arrowwidth\": 4, \"ax\": 0, \"ay\": 15, \"hoverlabel\": {\"bgcolor\": \"DarkGreen\"}, \"hovertext\": \"Step 89 [2018-05-18 22:00:00]<br>BUY 0.0065901 BTC @ 8219.9 USD MARKET<br>Total: 54.17 USD - Comm.: 0.16 USD\", \"opacity\": 0.6, \"showarrow\": true, \"x\": 88, \"xref\": \"x\", \"y\": 8219.9, \"yref\": \"y\"}, {\"arrowcolor\": \"DarkGreen\", \"arrowhead\": 2, \"arrowsize\": 0.8, \"arrowwidth\": 4, \"ax\": 0, \"ay\": 15, \"hoverlabel\": {\"bgcolor\": \"DarkGreen\"}, \"hovertext\": \"Step 86 [2018-05-18 19:00:00]<br>BUY 0.02193668 BTC @ 8231.42 USD MARKET<br>Total: 180.57 USD - Comm.: 0.54 USD\", \"opacity\": 0.6, \"showarrow\": true, \"x\": 85, \"xref\": \"x\", \"y\": 8231.42, \"yref\": \"y\"}, {\"arrowcolor\": \"DarkGreen\", \"arrowhead\": 2, \"arrowsize\": 0.8, \"arrowwidth\": 4, \"ax\": 0, \"ay\": 15, \"hoverlabel\": {\"bgcolor\": \"DarkGreen\"}, \"hovertext\": \"Step 82 [2018-05-18 15:00:00]<br>BUY 0.00353082 BTC @ 8117.09 USD MARKET<br>Total: 28.66 USD - Comm.: 0.09 USD\", \"opacity\": 0.6, \"showarrow\": true, \"x\": 81, \"xref\": \"x\", \"y\": 8117.09, \"yref\": \"y\"}, {\"arrowcolor\": \"DarkGreen\", \"arrowhead\": 2, \"arrowsize\": 0.8, \"arrowwidth\": 4, \"ax\": 0, \"ay\": 15, \"hoverlabel\": {\"bgcolor\": \"DarkGreen\"}, \"hovertext\": \"Step 75 [2018-05-18 08:00:00]<br>BUY 1.32531497 BTC @ 8122.19 USD MARKET<br>Total: 10764.46 USD - Comm.: 32.39 USD\", \"opacity\": 0.6, \"showarrow\": true, \"x\": 74, \"xref\": \"x\", \"y\": 8122.19, \"yref\": \"y\"}, {\"arrowcolor\": \"FireBrick\", \"arrowhead\": 2, \"arrowsize\": 0.8, \"arrowwidth\": 4, \"ax\": 0, \"ay\": -15, \"hoverlabel\": {\"bgcolor\": \"FireBrick\"}, \"hovertext\": \"Step 67 [2018-05-18 00:00:00]<br>SELL 1.38469357 BTC @ 7958.08 USD MARKET<br>Total: 11019.5 USD - Comm.: 0.00416658 BTC\", \"opacity\": 0.6, \"showarrow\": true, \"x\": 66, \"xref\": \"x\", \"y\": 7958.08, \"yref\": \"y\"}, {\"arrowcolor\": \"DarkGreen\", \"arrowhead\": 2, \"arrowsize\": 0.8, \"arrowwidth\": 4, \"ax\": 0, \"ay\": 15, \"hoverlabel\": {\"bgcolor\": \"DarkGreen\"}, \"hovertext\": \"Step 66 [2018-05-17 23:00:00]<br>BUY 0.31976328 BTC @ 8067.03 USD MARKET<br>Total: 2579.54 USD - Comm.: 7.76 USD\", \"opacity\": 0.6, \"showarrow\": true, \"x\": 65, \"xref\": \"x\", \"y\": 8067.03, \"yref\": \"y\"}, {\"arrowcolor\": \"DarkGreen\", \"arrowhead\": 2, \"arrowsize\": 0.8, \"arrowwidth\": 4, \"ax\": 0, \"ay\": 15, \"hoverlabel\": {\"bgcolor\": \"DarkGreen\"}, \"hovertext\": \"Step 65 [2018-05-17 22:00:00]<br>BUY 1.38886015 BTC @ 8080.0 USD MARKET<br>Total: 11221.99 USD - Comm.: 33.77 USD\", \"opacity\": 0.6, \"showarrow\": true, \"x\": 64, \"xref\": \"x\", \"y\": 8080.0, \"yref\": \"y\"}, {\"arrowcolor\": \"DarkGreen\", \"arrowhead\": 2, \"arrowsize\": 0.8, \"arrowwidth\": 4, \"ax\": 0, \"ay\": 15, \"hoverlabel\": {\"bgcolor\": \"DarkGreen\"}, \"hovertext\": \"Step 63 [2018-05-17 20:00:00]<br>BUY 0.34950187 BTC @ 8200.7 USD MARKET<br>Total: 2866.16 USD - Comm.: 8.62 USD\", \"opacity\": 0.6, \"showarrow\": true, \"x\": 62, \"xref\": \"x\", \"y\": 8200.7, \"yref\": \"y\"}, {\"arrowcolor\": \"FireBrick\", \"arrowhead\": 2, \"arrowsize\": 0.8, \"arrowwidth\": 4, \"ax\": 0, \"ay\": -15, \"hoverlabel\": {\"bgcolor\": \"FireBrick\"}, \"hovertext\": \"Step 61 [2018-05-17 18:00:00]<br>SELL 0.39177085 BTC @ 8166.0 USD MARKET<br>Total: 3199.2 USD - Comm.: 0.00117885 BTC\", \"opacity\": 0.6, \"showarrow\": true, \"x\": 60, \"xref\": \"x\", \"y\": 8166.0, \"yref\": \"y\"}, {\"arrowcolor\": \"FireBrick\", \"arrowhead\": 2, \"arrowsize\": 0.8, \"arrowwidth\": 4, \"ax\": 0, \"ay\": -15, \"hoverlabel\": {\"bgcolor\": \"FireBrick\"}, \"hovertext\": \"Step 61 [2018-05-17 18:00:00]<br>SELL 0.31231475 BTC @ 8166.0 USD MARKET<br>Total: 2550.36 USD - Comm.: 0.00093976 BTC\", \"opacity\": 0.6, \"showarrow\": true, \"x\": 60, \"xref\": \"x\", \"y\": 8166.0, \"yref\": \"y\"}], \"margin\": {\"t\": 50}, \"template\": {\"data\": {\"bar\": [{\"error_x\": {\"color\": \"#2a3f5f\"}, \"error_y\": {\"color\": \"#2a3f5f\"}, \"marker\": {\"line\": {\"color\": \"white\", \"width\": 0.5}}, \"type\": \"bar\"}], \"barpolar\": [{\"marker\": {\"line\": {\"color\": \"white\", \"width\": 0.5}}, \"type\": \"barpolar\"}], \"carpet\": [{\"aaxis\": {\"endlinecolor\": \"#2a3f5f\", \"gridcolor\": \"#C8D4E3\", \"linecolor\": \"#C8D4E3\", \"minorgridcolor\": \"#C8D4E3\", \"startlinecolor\": \"#2a3f5f\"}, \"baxis\": {\"endlinecolor\": \"#2a3f5f\", \"gridcolor\": \"#C8D4E3\", \"linecolor\": \"#C8D4E3\", \"minorgridcolor\": \"#C8D4E3\", \"startlinecolor\": \"#2a3f5f\"}, \"type\": \"carpet\"}], \"choropleth\": [{\"colorbar\": {\"outlinewidth\": 0, \"ticks\": \"\"}, \"type\": \"choropleth\"}], \"contour\": [{\"colorbar\": {\"outlinewidth\": 0, \"ticks\": \"\"}, \"colorscale\": [[0.0, \"#0d0887\"], [0.1111111111111111, \"#46039f\"], [0.2222222222222222, \"#7201a8\"], [0.3333333333333333, \"#9c179e\"], [0.4444444444444444, \"#bd3786\"], [0.5555555555555556, \"#d8576b\"], [0.6666666666666666, \"#ed7953\"], [0.7777777777777778, \"#fb9f3a\"], [0.8888888888888888, \"#fdca26\"], [1.0, \"#f0f921\"]], \"type\": \"contour\"}], \"contourcarpet\": [{\"colorbar\": {\"outlinewidth\": 0, \"ticks\": \"\"}, \"type\": \"contourcarpet\"}], \"heatmap\": [{\"colorbar\": {\"outlinewidth\": 0, \"ticks\": \"\"}, \"colorscale\": [[0.0, \"#0d0887\"], [0.1111111111111111, \"#46039f\"], [0.2222222222222222, \"#7201a8\"], [0.3333333333333333, \"#9c179e\"], [0.4444444444444444, \"#bd3786\"], [0.5555555555555556, \"#d8576b\"], [0.6666666666666666, \"#ed7953\"], [0.7777777777777778, \"#fb9f3a\"], [0.8888888888888888, \"#fdca26\"], [1.0, \"#f0f921\"]], \"type\": \"heatmap\"}], \"heatmapgl\": [{\"colorbar\": {\"outlinewidth\": 0, \"ticks\": \"\"}, \"colorscale\": [[0.0, \"#0d0887\"], [0.1111111111111111, \"#46039f\"], [0.2222222222222222, \"#7201a8\"], [0.3333333333333333, \"#9c179e\"], [0.4444444444444444, \"#bd3786\"], [0.5555555555555556, \"#d8576b\"], [0.6666666666666666, \"#ed7953\"], [0.7777777777777778, \"#fb9f3a\"], [0.8888888888888888, \"#fdca26\"], [1.0, \"#f0f921\"]], \"type\": \"heatmapgl\"}], \"histogram\": [{\"marker\": {\"colorbar\": {\"outlinewidth\": 0, \"ticks\": \"\"}}, \"type\": \"histogram\"}], \"histogram2d\": [{\"colorbar\": {\"outlinewidth\": 0, \"ticks\": \"\"}, \"colorscale\": [[0.0, \"#0d0887\"], [0.1111111111111111, \"#46039f\"], [0.2222222222222222, \"#7201a8\"], [0.3333333333333333, \"#9c179e\"], [0.4444444444444444, \"#bd3786\"], [0.5555555555555556, \"#d8576b\"], [0.6666666666666666, \"#ed7953\"], [0.7777777777777778, \"#fb9f3a\"], [0.8888888888888888, \"#fdca26\"], [1.0, \"#f0f921\"]], \"type\": \"histogram2d\"}], \"histogram2dcontour\": [{\"colorbar\": {\"outlinewidth\": 0, \"ticks\": \"\"}, \"colorscale\": [[0.0, \"#0d0887\"], [0.1111111111111111, \"#46039f\"], [0.2222222222222222, \"#7201a8\"], [0.3333333333333333, \"#9c179e\"], [0.4444444444444444, \"#bd3786\"], [0.5555555555555556, \"#d8576b\"], [0.6666666666666666, \"#ed7953\"], [0.7777777777777778, \"#fb9f3a\"], [0.8888888888888888, \"#fdca26\"], [1.0, \"#f0f921\"]], \"type\": \"histogram2dcontour\"}], \"mesh3d\": [{\"colorbar\": {\"outlinewidth\": 0, \"ticks\": \"\"}, \"type\": \"mesh3d\"}], \"parcoords\": [{\"line\": {\"colorbar\": {\"outlinewidth\": 0, \"ticks\": \"\"}}, \"type\": \"parcoords\"}], \"pie\": [{\"automargin\": true, \"type\": \"pie\"}], \"scatter\": [{\"marker\": {\"colorbar\": {\"outlinewidth\": 0, \"ticks\": \"\"}}, \"type\": \"scatter\"}], \"scatter3d\": [{\"line\": {\"colorbar\": {\"outlinewidth\": 0, \"ticks\": \"\"}}, \"marker\": {\"colorbar\": {\"outlinewidth\": 0, \"ticks\": \"\"}}, \"type\": \"scatter3d\"}], \"scattercarpet\": [{\"marker\": {\"colorbar\": {\"outlinewidth\": 0, \"ticks\": \"\"}}, \"type\": \"scattercarpet\"}], \"scattergeo\": [{\"marker\": {\"colorbar\": {\"outlinewidth\": 0, \"ticks\": \"\"}}, \"type\": \"scattergeo\"}], \"scattergl\": [{\"marker\": {\"colorbar\": {\"outlinewidth\": 0, \"ticks\": \"\"}}, \"type\": \"scattergl\"}], \"scattermapbox\": [{\"marker\": {\"colorbar\": {\"outlinewidth\": 0, \"ticks\": \"\"}}, \"type\": \"scattermapbox\"}], \"scatterpolar\": [{\"marker\": {\"colorbar\": {\"outlinewidth\": 0, \"ticks\": \"\"}}, \"type\": \"scatterpolar\"}], \"scatterpolargl\": [{\"marker\": {\"colorbar\": {\"outlinewidth\": 0, \"ticks\": \"\"}}, \"type\": \"scatterpolargl\"}], \"scatterternary\": [{\"marker\": {\"colorbar\": {\"outlinewidth\": 0, \"ticks\": \"\"}}, \"type\": \"scatterternary\"}], \"surface\": [{\"colorbar\": {\"outlinewidth\": 0, \"ticks\": \"\"}, \"colorscale\": [[0.0, \"#0d0887\"], [0.1111111111111111, \"#46039f\"], [0.2222222222222222, \"#7201a8\"], [0.3333333333333333, \"#9c179e\"], [0.4444444444444444, \"#bd3786\"], [0.5555555555555556, \"#d8576b\"], [0.6666666666666666, \"#ed7953\"], [0.7777777777777778, \"#fb9f3a\"], [0.8888888888888888, \"#fdca26\"], [1.0, \"#f0f921\"]], \"type\": \"surface\"}], \"table\": [{\"cells\": {\"fill\": {\"color\": \"#EBF0F8\"}, \"line\": {\"color\": \"white\"}}, \"header\": {\"fill\": {\"color\": \"#C8D4E3\"}, \"line\": {\"color\": \"white\"}}, \"type\": \"table\"}]}, \"layout\": {\"annotationdefaults\": {\"arrowcolor\": \"#2a3f5f\", \"arrowhead\": 0, \"arrowwidth\": 1}, \"autotypenumbers\": \"strict\", \"coloraxis\": {\"colorbar\": {\"outlinewidth\": 0, \"ticks\": \"\"}}, \"colorscale\": {\"diverging\": [[0, \"#8e0152\"], [0.1, \"#c51b7d\"], [0.2, \"#de77ae\"], [0.3, \"#f1b6da\"], [0.4, \"#fde0ef\"], [0.5, \"#f7f7f7\"], [0.6, \"#e6f5d0\"], [0.7, \"#b8e186\"], [0.8, \"#7fbc41\"], [0.9, \"#4d9221\"], [1, \"#276419\"]], \"sequential\": [[0.0, \"#0d0887\"], [0.1111111111111111, \"#46039f\"], [0.2222222222222222, \"#7201a8\"], [0.3333333333333333, \"#9c179e\"], [0.4444444444444444, \"#bd3786\"], [0.5555555555555556, \"#d8576b\"], [0.6666666666666666, \"#ed7953\"], [0.7777777777777778, \"#fb9f3a\"], [0.8888888888888888, \"#fdca26\"], [1.0, \"#f0f921\"]], \"sequentialminus\": [[0.0, \"#0d0887\"], [0.1111111111111111, \"#46039f\"], [0.2222222222222222, \"#7201a8\"], [0.3333333333333333, \"#9c179e\"], [0.4444444444444444, \"#bd3786\"], [0.5555555555555556, \"#d8576b\"], [0.6666666666666666, \"#ed7953\"], [0.7777777777777778, \"#fb9f3a\"], [0.8888888888888888, \"#fdca26\"], [1.0, \"#f0f921\"]]}, \"colorway\": [\"#636efa\", \"#EF553B\", \"#00cc96\", \"#ab63fa\", \"#FFA15A\", \"#19d3f3\", \"#FF6692\", \"#B6E880\", \"#FF97FF\", \"#FECB52\"], \"font\": {\"color\": \"#2a3f5f\"}, \"geo\": {\"bgcolor\": \"white\", \"lakecolor\": \"white\", \"landcolor\": \"white\", \"showlakes\": true, \"showland\": true, \"subunitcolor\": \"#C8D4E3\"}, \"hoverlabel\": {\"align\": \"left\"}, \"hovermode\": \"closest\", \"mapbox\": {\"style\": \"light\"}, \"paper_bgcolor\": \"white\", \"plot_bgcolor\": \"white\", \"polar\": {\"angularaxis\": {\"gridcolor\": \"#EBF0F8\", \"linecolor\": \"#EBF0F8\", \"ticks\": \"\"}, \"bgcolor\": \"white\", \"radialaxis\": {\"gridcolor\": \"#EBF0F8\", \"linecolor\": \"#EBF0F8\", \"ticks\": \"\"}}, \"scene\": {\"xaxis\": {\"backgroundcolor\": \"white\", \"gridcolor\": \"#DFE8F3\", \"gridwidth\": 2, \"linecolor\": \"#EBF0F8\", \"showbackground\": true, \"ticks\": \"\", \"zerolinecolor\": \"#EBF0F8\"}, \"yaxis\": {\"backgroundcolor\": \"white\", \"gridcolor\": \"#DFE8F3\", \"gridwidth\": 2, \"linecolor\": \"#EBF0F8\", \"showbackground\": true, \"ticks\": \"\", \"zerolinecolor\": \"#EBF0F8\"}, \"zaxis\": {\"backgroundcolor\": \"white\", \"gridcolor\": \"#DFE8F3\", \"gridwidth\": 2, \"linecolor\": \"#EBF0F8\", \"showbackground\": true, \"ticks\": \"\", \"zerolinecolor\": \"#EBF0F8\"}}, \"shapedefaults\": {\"line\": {\"color\": \"#2a3f5f\"}}, \"ternary\": {\"aaxis\": {\"gridcolor\": \"#DFE8F3\", \"linecolor\": \"#A2B1C6\", \"ticks\": \"\"}, \"baxis\": {\"gridcolor\": \"#DFE8F3\", \"linecolor\": \"#A2B1C6\", \"ticks\": \"\"}, \"bgcolor\": \"white\", \"caxis\": {\"gridcolor\": \"#DFE8F3\", \"linecolor\": \"#A2B1C6\", \"ticks\": \"\"}}, \"title\": {\"x\": 0.05}, \"xaxis\": {\"automargin\": true, \"gridcolor\": \"#EBF0F8\", \"linecolor\": \"#EBF0F8\", \"ticks\": \"\", \"title\": {\"standoff\": 15}, \"zerolinecolor\": \"#EBF0F8\", \"zerolinewidth\": 2}, \"yaxis\": {\"automargin\": true, \"gridcolor\": \"#EBF0F8\", \"linecolor\": \"#EBF0F8\", \"ticks\": \"\", \"title\": {\"standoff\": 15}, \"zerolinecolor\": \"#EBF0F8\", \"zerolinewidth\": 2}}}, \"title\": {\"text\": \"[2021-02-12 00:08:24 AM] Episode: 2/2 Step: 101/200\"}, \"xaxis\": {\"anchor\": \"y\", \"domain\": [0.0, 1.0], \"gridcolor\": \"Gainsboro\", \"linecolor\": \"Grey\", \"matches\": \"x4\", \"rangeslider\": {\"visible\": false}, \"showticklabels\": false, \"title\": {\"font\": {\"size\": 12}, \"standoff\": 7, \"text\": \"Price\"}}, \"xaxis2\": {\"anchor\": \"y2\", \"domain\": [0.0, 1.0], \"gridcolor\": \"Gainsboro\", \"linecolor\": \"Grey\", \"matches\": \"x4\", \"showticklabels\": false, \"title\": {\"font\": {\"size\": 12}, \"standoff\": 7, \"text\": \"Volume\"}}, \"xaxis3\": {\"anchor\": \"y3\", \"domain\": [0.0, 1.0], \"gridcolor\": \"Gainsboro\", \"linecolor\": \"Grey\", \"matches\": \"x4\", \"showticklabels\": false, \"title\": {\"font\": {\"size\": 12}, \"standoff\": 7, \"text\": \"Performance\"}}, \"xaxis4\": {\"anchor\": \"y4\", \"domain\": [0.0, 1.0], \"gridcolor\": \"Gainsboro\", \"linecolor\": \"Grey\", \"title\": {\"font\": {\"size\": 12}, \"standoff\": 7, \"text\": \"Net Worth\"}}, \"yaxis\": {\"anchor\": \"x\", \"domain\": [0.49950000000000006, 1.0], \"gridcolor\": \"Gainsboro\", \"linecolor\": \"Grey\"}, \"yaxis2\": {\"anchor\": \"x2\", \"domain\": [0.333, 0.46950000000000003], \"gridcolor\": \"Gainsboro\", \"linecolor\": \"Grey\"}, \"yaxis3\": {\"anchor\": \"x3\", \"domain\": [0.1665, 0.30300000000000005], \"gridcolor\": \"Gainsboro\", \"linecolor\": \"Grey\"}, \"yaxis4\": {\"anchor\": \"x4\", \"domain\": [0.0, 0.1365], \"gridcolor\": \"Gainsboro\", \"linecolor\": \"Grey\"}},                        {\"responsive\": true}                    ).then(function(){\n                            \nvar gd = document.getElementById('a76fd335-715b-485c-821a-03be9279e6d2');\nvar x = new MutationObserver(function (mutations, observer) {{\n        var display = window.getComputedStyle(gd).display;\n        if (!display || display === 'none') {{\n            console.log([gd, 'removed!']);\n            Plotly.purge(gd);\n            observer.disconnect();\n        }}\n}});\n\n// Listen for the removal of the full notebook cells\nvar notebookContainer = gd.closest('#notebook-container');\nif (notebookContainer) {{\n    x.observe(notebookContainer, {childList: true});\n}}\n\n// Listen for the clearing of the current output cell\nvar outputEl = gd.closest('.output');\nif (outputEl) {{\n    x.observe(outputEl, {childList: true});\n}}\n\n                        })                };                });            </script>        </div>"
     },
     "metadata": {},
     "output_type": "display_data"
    },
    {
     "data": {
      "application/vnd.plotly.v1+json": {
       "config": {
        "plotlyServerURL": "https://plot.ly"
       },
       "data": [
        {
         "close": [
          8740.99,
          8739.0,
          8728.49,
          8708.32,
          8795.9,
          8760.0,
          8760.0,
          8759.23,
          8517.77,
          8520.3,
          8535.23,
          8546.34,
          8526.65,
          8555.6,
          8512.1,
          8492.28,
          8460.0,
          8474.99,
          8455.92,
          8326.28,
          8133.43,
          8164.79,
          8229.38,
          8220.4,
          8238.8,
          8232.99,
          8207.48,
          8243.45,
          8371.13,
          8373.0,
          8365.08,
          8179.99,
          8225.0,
          8285.8,
          8273.4,
          8297.4,
          8279.89,
          8252.72,
          8302.18,
          8295.85,
          8277.25,
          8346.59,
          8358.3,
          8375.1,
          8368.62,
          8366.72,
          8314.77,
          8363.7,
          8344.16,
          8247.4,
          8277.4,
          8291.67,
          8307.89,
          8298.9,
          8269.47,
          8300.98,
          8318.49,
          8306.39,
          8276.43,
          8257.69,
          8166.0,
          8176.33,
          8200.7,
          8155.41,
          8080.0,
          8067.03,
          7958.08,
          7974.25,
          7998.5,
          7991.99,
          8022.7,
          8042.97,
          7965.67,
          8088.95,
          8122.19,
          8107.99,
          8137.73,
          8115.0,
          8107.0,
          8094.4,
          8080.01,
          8117.09,
          8126.99,
          8110.95,
          8215.39,
          8231.42,
          8240.13,
          8235.0,
          8219.9,
          8248.87,
          8213.5,
          8200.99,
          8200.0,
          8237.3,
          8228.13,
          8240.83,
          8214.9,
          8170.07,
          8229.87,
          8205.87,
          8252.56,
          8365.0,
          8348.65,
          8303.99,
          8310.48,
          8310.0,
          8289.87,
          8304.99,
          8301.35,
          8313.12,
          8240.07,
          8199.99,
          8226.98,
          8231.2,
          8198.89,
          8215.85,
          8279.99,
          8255.08,
          8270.4,
          8244.24,
          8239.12,
          8267.14,
          8282.27,
          8350.62,
          8336.6,
          8336.91,
          8311.21,
          8312.09,
          8345.19,
          8377.2,
          8481.11,
          8516.36,
          8524.0,
          8517.04,
          8558.5,
          8521.99,
          8484.93,
          8518.48,
          8488.99,
          8466.72,
          8492.55,
          8494.28,
          8510.95,
          8498.64,
          8551.1,
          8524.22,
          8510.11,
          8475.62,
          8476.58,
          8467.13,
          8499.84
         ],
         "high": [
          8796.68,
          8766.0,
          8750.27,
          8754.4,
          8865.0,
          8821.19,
          8798.6,
          8771.02,
          8761.7,
          8553.67,
          8589.1,
          8579.48,
          8555.51,
          8583.6,
          8569.92,
          8555.54,
          8557.51,
          8505.0,
          8505.33,
          8478.29,
          8339.81,
          8217.44,
          8252.72,
          8248.63,
          8267.12,
          8255.0,
          8261.24,
          8263.93,
          8455.66,
          8439.44,
          8399.1,
          8381.73,
          8229.91,
          8377.29,
          8329.1,
          8350.0,
          8346.95,
          8377.29,
          8311.35,
          8319.96,
          8398.24,
          8372.58,
          8399.99,
          8386.53,
          8400.0,
          8500.0,
          8381.0,
          8371.3,
          8382.41,
          8351.0,
          8292.99,
          8325.8,
          8318.99,
          8324.9,
          8335.56,
          8309.4,
          8377.29,
          8330.41,
          8328.23,
          8284.36,
          8274.83,
          8200.0,
          8232.14,
          8213.97,
          8155.41,
          8108.28,
          8068.92,
          8019.9,
          8026.66,
          8025.0,
          8104.69,
          8061.39,
          8045.99,
          8170.71,
          8144.16,
          8139.99,
          8152.99,
          8137.73,
          8143.72,
          8129.99,
          8106.76,
          8139.0,
          8152.04,
          8146.99,
          8232.14,
          8275.1,
          8256.12,
          8274.1,
          8255.8,
          8253.97,
          8261.09,
          8235.76,
          8227.0,
          8273.36,
          8264.21,
          8250.0,
          8250.86,
          8235.77,
          8232.12,
          8232.14,
          8252.72,
          8370.0,
          8395.0,
          8374.48,
          8331.0,
          8319.43,
          8323.4,
          8314.55,
          8330.62,
          8314.8,
          8323.99,
          8263.03,
          8247.78,
          8253.75,
          8237.89,
          8235.0,
          8279.99,
          8290.0,
          8278.71,
          8275.34,
          8279.31,
          8279.98,
          8294.04,
          8356.4,
          8374.94,
          8354.83,
          8360.45,
          8337.14,
          8351.97,
          8377.29,
          8549.0,
          8531.9,
          8551.79,
          8529.9,
          8590.0,
          8576.1,
          8549.89,
          8531.89,
          8550.0,
          8493.29,
          8522.98,
          8517.0,
          8537.29,
          8524.51,
          8589.1,
          8589.07,
          8536.92,
          8524.03,
          8497.8,
          8498.0,
          8513.5
         ],
         "low": [
          8707.28,
          8721.11,
          8660.53,
          8701.35,
          8695.11,
          8740.54,
          8741.52,
          8700.0,
          8467.42,
          8477.89,
          8500.78,
          8500.0,
          8400.0,
          8451.05,
          8461.38,
          8481.24,
          8420.37,
          8450.0,
          8430.94,
          8275.02,
          8100.01,
          8122.56,
          8157.01,
          8166.25,
          8176.91,
          8213.79,
          8200.0,
          8207.48,
          8237.1,
          8370.0,
          8356.4,
          8145.1,
          8173.6,
          8211.8,
          8201.0,
          8250.9,
          8266.46,
          8252.72,
          8232.14,
          8268.37,
          8277.25,
          8277.25,
          8314.78,
          8314.77,
          8350.07,
          8331.39,
          8314.77,
          8275.45,
          8335.49,
          8191.14,
          8227.7,
          8264.13,
          8249.93,
          8269.52,
          8219.44,
          8262.68,
          8286.65,
          8289.87,
          8232.14,
          8232.14,
          8110.02,
          8154.95,
          8168.6,
          8151.0,
          7980.0,
          8005.95,
          7929.53,
          7931.03,
          7950.0,
          7980.58,
          7991.99,
          7992.75,
          7953.4,
          7965.67,
          8085.94,
          8078.48,
          8092.9,
          8049.22,
          8079.46,
          8062.12,
          8043.96,
          8063.1,
          8088.46,
          8094.43,
          8088.46,
          8191.14,
          8212.0,
          8224.5,
          8211.0,
          8211.01,
          8210.03,
          8158.27,
          8177.65,
          8179.41,
          8221.92,
          8217.32,
          8213.52,
          8141.08,
          8146.1,
          8186.03,
          8197.09,
          8231.21,
          8323.82,
          8296.0,
          8296.31,
          8282.65,
          8280.0,
          8273.36,
          8290.08,
          8277.93,
          8240.07,
          8191.14,
          8178.0,
          8193.7,
          8180.0,
          8170.71,
          8215.53,
          8240.02,
          8237.17,
          8237.17,
          8239.12,
          8227.79,
          8247.57,
          8274.24,
          8326.1,
          8320.61,
          8281.31,
          8269.85,
          8311.16,
          8336.11,
          8369.86,
          8471.51,
          8511.0,
          8476.66,
          8507.68,
          8509.24,
          8482.53,
          8484.93,
          8450.0,
          8434.47,
          8461.1,
          8481.0,
          8480.0,
          8488.1,
          8471.09,
          8509.2,
          8482.64,
          8469.0,
          8440.4,
          8440.52,
          8461.8
         ],
         "name": "Price",
         "open": [
          8733.86,
          8740.99,
          8739.0,
          8728.49,
          8708.32,
          8795.9,
          8760.0,
          8760.0,
          8759.23,
          8517.77,
          8520.3,
          8535.23,
          8546.34,
          8526.65,
          8555.6,
          8512.1,
          8492.28,
          8460.0,
          8474.99,
          8455.92,
          8326.28,
          8133.43,
          8164.79,
          8229.38,
          8220.4,
          8238.8,
          8232.99,
          8207.48,
          8243.45,
          8371.13,
          8373.0,
          8365.08,
          8179.99,
          8225.0,
          8285.8,
          8273.4,
          8297.4,
          8279.89,
          8252.72,
          8302.18,
          8295.85,
          8277.25,
          8346.59,
          8358.3,
          8375.1,
          8368.62,
          8366.72,
          8314.77,
          8363.7,
          8344.16,
          8247.4,
          8277.4,
          8291.67,
          8307.89,
          8298.9,
          8269.47,
          8300.98,
          8318.49,
          8306.39,
          8276.43,
          8257.69,
          8166.0,
          8176.33,
          8200.7,
          8155.41,
          8080.0,
          8067.03,
          7958.08,
          7974.25,
          7998.5,
          7991.99,
          8022.7,
          8042.97,
          7965.67,
          8088.95,
          8122.19,
          8107.99,
          8137.73,
          8115.0,
          8107.0,
          8094.4,
          8080.01,
          8117.09,
          8126.99,
          8110.95,
          8215.39,
          8231.42,
          8240.13,
          8235.0,
          8219.9,
          8248.87,
          8213.5,
          8200.99,
          8200.0,
          8237.3,
          8228.13,
          8240.83,
          8214.9,
          8170.07,
          8229.87,
          8205.87,
          8252.56,
          8365.0,
          8348.65,
          8303.99,
          8310.48,
          8310.0,
          8289.87,
          8304.99,
          8301.35,
          8313.12,
          8240.07,
          8199.99,
          8226.98,
          8231.2,
          8198.89,
          8215.85,
          8279.99,
          8255.08,
          8270.4,
          8244.24,
          8239.12,
          8267.14,
          8282.27,
          8350.62,
          8336.6,
          8336.91,
          8311.21,
          8312.09,
          8345.19,
          8377.2,
          8481.11,
          8516.36,
          8524.0,
          8517.04,
          8558.5,
          8521.99,
          8484.93,
          8518.48,
          8488.99,
          8466.72,
          8492.55,
          8494.28,
          8510.95,
          8498.64,
          8551.1,
          8524.22,
          8510.11,
          8475.62,
          8476.58,
          8467.13
         ],
         "showlegend": false,
         "type": "candlestick",
         "uid": "5d9cbee0-de77-4557-a546-4573fc3c95e9",
         "xaxis": "x",
         "yaxis": "y"
        },
        {
         "marker": {
          "color": "DodgerBlue"
         },
         "name": "Volume",
         "showlegend": false,
         "type": "bar",
         "uid": "14a86980-c226-4a52-ae75-2f3d7c02334f",
         "xaxis": "x2",
         "y": [
          559.93,
          273.58,
          917.79,
          182.62,
          1260.69,
          324.11,
          324.2,
          730.67,
          1341.75,
          792.07,
          385.69,
          475.08,
          877.26,
          670.49,
          610.97,
          168.99,
          305.92,
          136.05,
          154.26,
          1070.93,
          1710.2,
          492.8,
          630.72,
          620.93,
          586.34,
          304.52,
          450.97,
          182.36,
          915.32,
          319.29,
          362.01,
          1046.38,
          357.91,
          561.2,
          322.53,
          1073.71,
          237.21,
          251.2,
          359.73,
          117.23,
          363.17,
          214.18,
          171.64,
          258.58,
          299.52,
          718.98,
          119.7,
          405.25,
          210.77,
          714.82,
          215.97,
          164.2,
          201.55,
          203.41,
          886.82,
          95.49,
          499.67,
          172.77,
          355.39,
          255.27,
          591.06,
          133.1,
          149.13,
          87.55,
          1061.54,
          286.94,
          524.42,
          316.0,
          441.43,
          189.7,
          844.94,
          155.34,
          257.56,
          610.69,
          217.97,
          173.18,
          218.06,
          372.97,
          484.39,
          248.1,
          162.35,
          303.42,
          290.69,
          160.93,
          369.4,
          487.27,
          93.35,
          96.68,
          72.14,
          90.22,
          168.52,
          203.15,
          71.42,
          464.56,
          57.0,
          89.42,
          49.47,
          200.05,
          254.37,
          65.05,
          118.19,
          452.4,
          181.03,
          288.04,
          145.78,
          110.14,
          55.48,
          80.87,
          67.01,
          59.16,
          121.26,
          244.37,
          156.87,
          80.48,
          139.32,
          93.52,
          200.23,
          97.4,
          68.08,
          47.0,
          36.65,
          28.75,
          182.85,
          400.18,
          288.1,
          182.94,
          777.81,
          493.59,
          118.63,
          174.37,
          901.75,
          222.45,
          113.8,
          84.2,
          261.44,
          168.78,
          111.07,
          122.12,
          267.32,
          210.39,
          211.36,
          146.22,
          93.39,
          89.04,
          307.59,
          307.2,
          164.24,
          151.21,
          399.77,
          362.01,
          260.85
         ],
         "yaxis": "y2"
        },
        {
         "mode": "lines",
         "name": "bitstamp:/USD-BTC",
         "type": "scatter",
         "uid": "574af33e-2e53-4600-af77-543cc2191f5e",
         "xaxis": "x3",
         "y": [
          8740.99,
          8739.0,
          8728.49,
          8708.32,
          8795.9,
          8760.0,
          8760.0,
          8759.23,
          8517.77,
          8520.3,
          8535.23,
          8546.34,
          8526.65,
          8555.6,
          8512.1,
          8492.28,
          8460.0,
          8474.99,
          8455.92,
          8326.28,
          8133.43,
          8164.79,
          8229.38,
          8220.4,
          8238.8,
          8232.99,
          8207.48,
          8243.45,
          8371.13,
          8373.0,
          8365.08,
          8179.99,
          8225.0,
          8285.8,
          8273.4,
          8297.4,
          8279.89,
          8252.72,
          8302.18,
          8295.85,
          8277.25,
          8346.59,
          8358.3,
          8375.1,
          8368.62,
          8366.72,
          8314.77,
          8363.7,
          8344.16,
          8247.4,
          8277.4,
          8291.67,
          8307.89,
          8298.9,
          8269.47,
          8300.98,
          8318.49,
          8306.39,
          8276.43,
          8257.69,
          8166.0,
          8176.33,
          8200.7,
          8155.41,
          8080.0,
          8067.03,
          7958.08,
          7974.25,
          7998.5,
          7991.99,
          8022.7,
          8042.97,
          7965.67,
          8088.95,
          8122.19,
          8107.99,
          8137.73,
          8115.0,
          8107.0,
          8094.4,
          8080.01,
          8117.09,
          8126.99,
          8110.95,
          8215.39,
          8231.42,
          8240.13,
          8235.0,
          8219.9,
          8248.87,
          8213.5,
          8200.99,
          8200.0,
          8237.3,
          8228.13,
          8240.83,
          8214.9,
          8170.07,
          8229.87,
          8205.87,
          8252.56,
          8365.0,
          8348.65,
          8303.99,
          8310.48,
          8310.0,
          8289.87,
          8304.99,
          8301.35,
          8313.12,
          8240.07,
          8199.99,
          8226.98,
          8231.2,
          8198.89,
          8215.85,
          8279.99,
          8255.08,
          8270.4,
          8244.24,
          8239.12,
          8267.14,
          8282.27,
          8350.62,
          8336.6,
          8336.91,
          8311.21,
          8312.09,
          8345.19,
          8377.2,
          8481.11,
          8516.36,
          8524.0,
          8517.04,
          8558.5,
          8521.99,
          8484.93,
          8518.48,
          8488.99,
          8466.72,
          8492.55,
          8494.28,
          8510.95,
          8498.64,
          8551.1,
          8524.22,
          8510.11,
          8475.62,
          8476.58,
          8467.13,
          8499.84
         ],
         "yaxis": "y3"
        },
        {
         "mode": "lines",
         "name": "bitstamp:/USD:/free",
         "type": "scatter",
         "uid": "ff5fe72f-8fec-4094-8d5a-9b1db2e631dc",
         "xaxis": "x3",
         "y": [
          10000.0,
          10000.0,
          10000.0,
          5000.0,
          4000.0,
          4000.0,
          4000.0,
          4000.0,
          3200.0,
          3200.0,
          3200.0,
          3200.0,
          3200.0,
          320.0,
          320.0,
          320.0,
          320.0,
          288.0,
          288.0,
          0.0,
          0.0,
          5644.96,
          6576.93,
          6576.93,
          6576.93,
          6576.93,
          6576.93,
          6576.93,
          6576.93,
          2630.77,
          0.0,
          0.0,
          6579.31,
          6579.31,
          6579.31,
          6579.31,
          6579.31,
          6579.31,
          6579.31,
          6579.31,
          6579.31,
          6579.31,
          3289.65,
          3289.65,
          3289.65,
          3289.65,
          0.0,
          0.0,
          0.0,
          0.0,
          0.0,
          0.0,
          0.0,
          0.0,
          0.0,
          0.0,
          0.0,
          0.0,
          0.0,
          0.0,
          0.0,
          5749.56,
          5749.56,
          2874.78,
          2874.78,
          2874.78,
          287.48,
          287.48,
          287.48,
          287.48,
          287.48,
          287.48,
          287.48,
          287.48,
          287.48,
          287.48,
          287.48,
          287.48,
          287.48,
          287.48,
          287.48,
          287.48,
          258.73,
          258.73,
          258.73,
          258.73,
          77.62,
          77.62,
          77.62,
          23.29,
          23.29,
          0.0,
          0.0,
          0.0,
          0.0,
          0.0,
          0.0,
          0.0,
          0.0,
          0.0,
          0.0,
          0.0,
          2944.26,
          5605.84,
          5605.84,
          5605.84,
          5605.84,
          5605.84,
          5605.84,
          5605.84,
          5605.84,
          3363.5,
          3363.5,
          3363.5,
          3363.5,
          3363.5,
          3363.5,
          3363.5,
          3363.5,
          3363.5,
          3363.5,
          3363.5,
          3363.5,
          3363.5,
          5622.31,
          5622.31,
          5622.31,
          5622.31,
          5622.31,
          5622.31,
          5622.31,
          4707.24,
          4763.2,
          4763.2,
          4286.88,
          4286.88,
          4286.88,
          4286.88,
          4286.88,
          4286.88,
          4286.88,
          4286.88,
          4286.88,
          4286.88,
          4286.88,
          4286.88,
          4286.88,
          4286.88,
          4286.88,
          4286.88,
          4286.88
         ],
         "yaxis": "y3"
        },
        {
         "mode": "lines",
         "name": "bitstamp:/USD:/locked",
         "type": "scatter",
         "uid": "b65b6550-ac6d-4f1e-8514-e0d91d4a02fa",
         "xaxis": "x3",
         "y": [
          0.0,
          8714.77,
          16556.27,
          16556.27,
          16556.27,
          87589.32,
          87589.32,
          87589.32,
          87589.32,
          79747.82,
          87544.66,
          87544.66,
          87544.66,
          87544.66,
          87544.66,
          87544.66,
          87544.66,
          87544.66,
          87544.66,
          87544.66,
          0.0,
          0.0,
          8533.24,
          37173.72,
          42045.02,
          46439.0,
          50390.8,
          53936.4,
          57141.42,
          57141.42,
          57141.42,
          62995.58,
          65285.43,
          67357.64,
          74872.73,
          86128.49,
          86128.49,
          86128.49,
          86128.49,
          86128.49,
          86128.49,
          86128.49,
          86128.49,
          86128.49,
          78693.53,
          78693.53,
          78693.53,
          78693.53,
          78693.53,
          78693.53,
          78693.53,
          78693.53,
          78693.53,
          78693.53,
          78693.53,
          78693.53,
          78693.53,
          78693.53,
          78693.53,
          78693.53,
          78693.53,
          78693.53,
          78693.53,
          78693.53,
          78693.53,
          67437.77,
          67437.77,
          78457.27,
          78457.27,
          78457.27,
          78457.27,
          78457.27,
          78457.27,
          78457.27,
          78457.27,
          67660.42,
          67660.42,
          67660.42,
          67660.42,
          67660.42,
          67660.42,
          67660.42,
          67660.42,
          67660.42,
          67660.42,
          67660.42,
          67660.42,
          67660.42,
          67660.42,
          67660.42,
          67660.42,
          67660.42,
          67660.42,
          67660.42,
          67660.42,
          67660.42,
          67660.42,
          67660.42,
          67660.42,
          67660.42,
          67660.42,
          67660.42,
          67660.42,
          67660.42,
          67660.42,
          67660.42,
          67660.42,
          67660.42,
          67660.42,
          67660.42,
          67660.42,
          67660.42,
          67660.42,
          67660.42,
          67660.42,
          67660.42,
          67660.42,
          67660.42,
          67660.42,
          67660.42,
          67660.42,
          67660.42,
          67660.42,
          67660.42,
          67660.42,
          67660.42,
          67660.42,
          67660.42,
          67660.42,
          67660.42,
          67660.42,
          34245.69,
          17411.46,
          11594.85,
          8178.12,
          8178.12,
          8178.12,
          8178.12,
          8178.12,
          8178.12,
          8178.12,
          8178.12,
          8178.12,
          8178.12,
          8178.12,
          8178.12,
          8178.12,
          8178.12,
          8178.12,
          8178.12,
          8178.12
         ],
         "yaxis": "y3"
        },
        {
         "mode": "lines",
         "name": "bitstamp:/USD:/total",
         "type": "scatter",
         "uid": "0fb84544-fd88-49af-9140-fc69fc077cb0",
         "xaxis": "x3",
         "y": [
          10000.0,
          18714.77,
          26556.27,
          21556.27,
          20556.27,
          91589.32,
          91589.32,
          91589.32,
          90789.32,
          82947.82,
          90744.66,
          90744.66,
          90744.66,
          87864.66,
          87864.66,
          87864.66,
          87864.66,
          87832.66,
          87832.66,
          87544.66,
          0.0,
          5644.96,
          15110.17,
          43750.65,
          48621.95,
          53015.93,
          56967.73,
          60513.33,
          63718.35,
          59772.19,
          57141.42,
          62995.58,
          71864.74,
          73936.95,
          81452.04,
          92707.8,
          92707.8,
          92707.8,
          92707.8,
          92707.8,
          92707.8,
          92707.8,
          89418.14,
          89418.14,
          81983.18,
          81983.18,
          78693.53,
          78693.53,
          78693.53,
          78693.53,
          78693.53,
          78693.53,
          78693.53,
          78693.53,
          78693.53,
          78693.53,
          78693.53,
          78693.53,
          78693.53,
          78693.53,
          78693.53,
          84443.09,
          84443.09,
          81568.31,
          81568.31,
          70312.55,
          67725.25,
          78744.75,
          78744.75,
          78744.75,
          78744.75,
          78744.75,
          78744.75,
          78744.75,
          78744.75,
          67947.9,
          67947.9,
          67947.9,
          67947.9,
          67947.9,
          67947.9,
          67947.9,
          67919.15,
          67919.15,
          67919.15,
          67919.15,
          67738.04,
          67738.04,
          67738.04,
          67683.71,
          67683.71,
          67660.42,
          67660.42,
          67660.42,
          67660.42,
          67660.42,
          67660.42,
          67660.42,
          67660.42,
          67660.42,
          67660.42,
          67660.42,
          70604.68,
          73266.26,
          73266.26,
          73266.26,
          73266.26,
          73266.26,
          73266.26,
          73266.26,
          73266.26,
          71023.92,
          71023.92,
          71023.92,
          71023.92,
          71023.92,
          71023.92,
          71023.92,
          71023.92,
          71023.92,
          71023.92,
          71023.92,
          71023.92,
          71023.92,
          73282.73,
          73282.73,
          73282.73,
          73282.73,
          73282.73,
          73282.73,
          73282.73,
          38952.93,
          22174.66,
          16358.05,
          12465.0,
          12465.0,
          12465.0,
          12465.0,
          12465.0,
          12465.0,
          12465.0,
          12465.0,
          12465.0,
          12465.0,
          12465.0,
          12465.0,
          12465.0,
          12465.0,
          12465.0,
          12465.0,
          12465.0
         ],
         "yaxis": "y3"
        },
        {
         "mode": "lines",
         "name": "bitstamp:/BTC:/free",
         "type": "scatter",
         "uid": "1a8e0fb8-1bbf-4b27-8697-5e130693893c",
         "xaxis": "x3",
         "y": [
          10.0,
          9.0,
          8.1,
          8.1,
          8.1,
          0.0,
          0.0,
          0.0,
          0.0,
          0.91784352,
          0.0,
          0.0,
          0.0,
          0.0,
          0.0,
          0.0,
          0.0,
          0.0,
          0.0,
          0.0,
          10.48271616,
          9.43444454,
          8.49100009,
          5.94370006,
          5.34933005,
          4.81439705,
          4.33295734,
          3.89966161,
          3.50969545,
          3.50969545,
          3.50969545,
          2.80775636,
          2.52698072,
          2.27428265,
          1.36456959,
          0.0,
          0.0,
          0.0,
          0.0,
          0.0,
          0.0,
          0.0,
          0.0,
          0.0,
          0.0,
          0.0,
          0.0,
          0.0,
          0.0,
          0.0,
          0.0,
          0.0,
          0.0,
          0.0,
          0.0,
          0.0,
          0.0,
          0.0,
          0.0,
          0.0,
          0.0,
          0.0,
          0.0,
          0.0,
          0.0,
          1.38886015,
          1.38886015,
          0.0,
          0.0,
          0.0,
          0.0,
          0.0,
          0.0,
          0.0,
          0.0,
          0.0,
          0.0,
          0.0,
          0.0,
          0.0,
          0.0,
          0.0,
          0.0,
          0.0,
          0.0,
          0.0,
          0.0,
          0.0,
          0.0,
          0.0,
          0.0,
          0.0,
          0.0,
          0.0,
          0.0,
          0.0,
          0.0,
          0.0,
          0.0,
          0.0,
          0.0,
          0.0,
          0.0,
          0.0,
          0.0,
          0.0,
          0.0,
          0.0,
          0.0,
          0.0,
          0.0,
          0.0,
          0.0,
          0.0,
          0.0,
          0.0,
          0.0,
          0.0,
          0.0,
          0.0,
          0.0,
          0.0,
          0.0,
          0.0,
          0.0,
          0.0,
          0.0,
          0.0,
          0.0,
          0.0,
          0.0,
          0.0,
          0.0,
          0.0,
          0.0,
          0.0,
          0.0,
          0.0,
          0.0,
          0.0,
          0.0,
          0.0,
          0.0,
          0.0,
          0.0,
          0.0,
          0.0,
          0.0,
          0.0,
          0.0,
          0.0
         ],
         "yaxis": "y3"
        },
        {
         "mode": "lines",
         "name": "bitstamp:/BTC:/locked",
         "type": "scatter",
         "uid": "a0ffd6f4-bd1f-401d-ad90-0c192ed97e4c",
         "xaxis": "x3",
         "y": [
          0.0,
          0.0,
          0.0,
          0.57111826,
          0.68560647,
          0.68560647,
          0.68560647,
          0.68560647,
          0.7766647,
          0.7766647,
          0.7766647,
          0.7766647,
          0.7766647,
          1.11341594,
          1.11341594,
          1.11341594,
          1.11341594,
          1.11718663,
          1.11718663,
          1.1511439,
          1.1511439,
          1.50328176,
          1.28396638,
          0.34052193,
          0.34052193,
          0.34052193,
          0.34052193,
          0.34052193,
          0.34052193,
          0.81050866,
          1.12376317,
          1.12376317,
          0.3170252,
          0.3170252,
          0.3170252,
          0.3170252,
          0.3170252,
          0.3170252,
          0.3170252,
          0.3170252,
          0.3170252,
          0.3170252,
          0.7099749,
          0.7099749,
          1.59505806,
          1.59505806,
          1.98706114,
          1.98706114,
          1.98706114,
          1.98706114,
          1.98706114,
          1.98706114,
          1.98706114,
          1.98706114,
          1.98706114,
          1.98706114,
          1.98706114,
          1.98706114,
          1.98706114,
          1.98706114,
          1.98706114,
          1.28085693,
          1.28085693,
          1.6303588,
          1.6303588,
          1.6303588,
          1.95012208,
          1.95012208,
          1.95012208,
          1.95012208,
          1.95012208,
          1.95012208,
          1.95012208,
          1.95012208,
          1.95012208,
          3.27543705,
          3.27543705,
          3.27543705,
          3.27543705,
          3.27543705,
          3.27543705,
          3.27543705,
          3.27896787,
          3.27896787,
          3.27896787,
          3.27896787,
          3.30090455,
          3.30090455,
          3.30090455,
          3.30749465,
          3.30749465,
          3.3103217,
          3.3103217,
          3.3103217,
          3.3103217,
          3.3103217,
          3.3103217,
          3.3103217,
          3.3103217,
          3.3103217,
          3.3103217,
          3.3103217,
          2.95728901,
          2.63752573,
          2.63752573,
          2.63752573,
          2.63752573,
          2.63752573,
          2.63752573,
          2.63752573,
          2.63752573,
          2.90883532,
          2.90883532,
          2.90883532,
          2.90883532,
          2.90883532,
          2.90883532,
          2.90883532,
          2.90883532,
          2.90883532,
          2.90883532,
          2.90883532,
          2.90883532,
          2.90883532,
          2.63752573,
          2.63752573,
          2.63752573,
          2.63752573,
          2.63752573,
          2.63752573,
          2.63752573,
          6.67302887,
          8.6372021,
          9.31753527,
          9.77325345,
          9.77325345,
          9.77325345,
          9.77325345,
          9.77325345,
          9.77325345,
          9.77325345,
          9.77325345,
          9.77325345,
          9.77325345,
          9.77325345,
          9.77325345,
          9.77325345,
          9.77325345,
          9.77325345,
          9.77325345,
          9.77325345
         ],
         "yaxis": "y3"
        },
        {
         "mode": "lines",
         "name": "bitstamp:/BTC:/total",
         "type": "scatter",
         "uid": "075f3401-b1c4-4304-8095-019669793920",
         "xaxis": "x3",
         "y": [
          10.0,
          9.0,
          8.1,
          8.67111826,
          8.78560647,
          0.68560647,
          0.68560647,
          0.68560647,
          0.7766647,
          1.69450822,
          0.7766647,
          0.7766647,
          0.7766647,
          1.11341594,
          1.11341594,
          1.11341594,
          1.11341594,
          1.11718663,
          1.11718663,
          1.1511439,
          11.63386006,
          10.9377263,
          9.77496647,
          6.28422199,
          5.68985198,
          5.15491898,
          4.67347927,
          4.24018354,
          3.85021738,
          4.32020411,
          4.63345862,
          3.93151953,
          2.84400592,
          2.59130785,
          1.68159479,
          0.3170252,
          0.3170252,
          0.3170252,
          0.3170252,
          0.3170252,
          0.3170252,
          0.3170252,
          0.7099749,
          0.7099749,
          1.59505806,
          1.59505806,
          1.98706114,
          1.98706114,
          1.98706114,
          1.98706114,
          1.98706114,
          1.98706114,
          1.98706114,
          1.98706114,
          1.98706114,
          1.98706114,
          1.98706114,
          1.98706114,
          1.98706114,
          1.98706114,
          1.98706114,
          1.28085693,
          1.28085693,
          1.6303588,
          1.6303588,
          3.01921895,
          3.33898223,
          1.95012208,
          1.95012208,
          1.95012208,
          1.95012208,
          1.95012208,
          1.95012208,
          1.95012208,
          1.95012208,
          3.27543705,
          3.27543705,
          3.27543705,
          3.27543705,
          3.27543705,
          3.27543705,
          3.27543705,
          3.27896787,
          3.27896787,
          3.27896787,
          3.27896787,
          3.30090455,
          3.30090455,
          3.30090455,
          3.30749465,
          3.30749465,
          3.3103217,
          3.3103217,
          3.3103217,
          3.3103217,
          3.3103217,
          3.3103217,
          3.3103217,
          3.3103217,
          3.3103217,
          3.3103217,
          3.3103217,
          2.95728901,
          2.63752573,
          2.63752573,
          2.63752573,
          2.63752573,
          2.63752573,
          2.63752573,
          2.63752573,
          2.63752573,
          2.90883532,
          2.90883532,
          2.90883532,
          2.90883532,
          2.90883532,
          2.90883532,
          2.90883532,
          2.90883532,
          2.90883532,
          2.90883532,
          2.90883532,
          2.90883532,
          2.90883532,
          2.63752573,
          2.63752573,
          2.63752573,
          2.63752573,
          2.63752573,
          2.63752573,
          2.63752573,
          6.67302887,
          8.6372021,
          9.31753527,
          9.77325345,
          9.77325345,
          9.77325345,
          9.77325345,
          9.77325345,
          9.77325345,
          9.77325345,
          9.77325345,
          9.77325345,
          9.77325345,
          9.77325345,
          9.77325345,
          9.77325345,
          9.77325345,
          9.77325345,
          9.77325345,
          9.77325345
         ],
         "yaxis": "y3"
        },
        {
         "mode": "lines",
         "name": "bitstamp:/BTC:/worth",
         "type": "scatter",
         "uid": "bcac39b0-0c7a-4c53-83ec-a9a65f0688f9",
         "xaxis": "x3",
         "y": [
          87409.9,
          78651.0,
          70700.769,
          75510.8725659232,
          77277.31594947299,
          6005.9126772,
          6005.9126772,
          6005.3847602180995,
          6615.451281719,
          14437.718386865998,
          6629.011847381,
          6637.640592198,
          6622.348064254999,
          9525.941416264,
          9477.507822874002,
          9455.439918943202,
          9419.4988524,
          9468.1455173837,
          9446.840768349599,
          9584.746431692001,
          94623.1864278058,
          89304.23831697699,
          80441.9135688886,
          51658.81844659599,
          46877.552492824,
          42440.3964131502,
          38357.487638939594,
          34953.741002813,
          32230.6702162394,
          36173.06901303,
          38759.2520329896,
          32159.7904402047,
          23391.948691999998,
          21471.05858353,
          13912.506335585998,
          2630.48489448,
          2624.933783228,
          2616.320208544,
          2632.000274936,
          2629.99350542,
          2624.0968367,
          2646.079364068,
          5934.183206669999,
          5946.11078499,
          13348.4347820772,
          13345.404171763199,
          16521.9563550378,
          16619.183256618002,
          16580.3560819424,
          16388.088046036,
          16447.699880236,
          16476.055242703802,
          16508.2853743946,
          16490.421694746,
          16431.942485395797,
          16494.5547819172,
          16529.3482224786,
          16505.304782684598,
          16445.7724309302,
          16408.5349051666,
          16226.34126924,
          10472.7089424669,
          10503.923425851,
          13296.244461107999,
          13173.299104,
          24356.1298462185,
          26571.8877049184,
          15550.76099644,
          15598.05145688,
          15585.3561621392,
          15645.244411216001,
          15684.773385777602,
          15534.0289489936,
          15774.439999016,
          15839.2620569552,
          26557.2108470295,
          26654.622344896496,
          26580.17166075,
          26553.968164349997,
          26512.69765752,
          26465.5641183705,
          26587.0173241845,
          26648.1390898113,
          26595.544445176496,
          26937.999849519296,
          26990.5617044754,
          27199.882609591496,
          27182.94896925,
          27133.105310544997,
          27283.093393545503,
          27166.107307775,
          27147.915158482996,
          27144.637939999997,
          27268.112939409995,
          27237.757289420995,
          27279.798375011,
          27193.961733329998,
          27045.560011519,
          27243.517249179,
          27164.069528379,
          27318.628448551997,
          27690.8410205,
          24689.3708933365,
          21901.9872866627,
          21919.1048286504,
          21917.8388163,
          21864.745423355103,
          21904.6248123927,
          21895.024218735503,
          21926.067896577602,
          21733.396642001102,
          23852.4205356468,
          23930.9300009336,
          23943.205285984004,
          23849.220816794797,
          23898.554663822,
          24085.1273612468,
          24012.6682734256,
          24057.231630528,
          23981.1364985568,
          23966.243261718402,
          24047.7488273848,
          24091.7595057764,
          24290.578399898404,
          21987.997000718,
          21988.8146336943,
          21921.0302224333,
          21923.3512450757,
          22010.6533467387,
          22095.080545356002,
          22369.1458439603,
          56829.9161473132,
          73623.5107004,
          79357.8205960008,
          83644.389651825,
          83287.5681683655,
          82925.37139550851,
          83253.264048756,
          82965.0508045155,
          82747.400450184,
          82999.84358679749,
          83016.75131526601,
          83179.67145027751,
          83059.362700308,
          83572.06757629501,
          83309.362523559,
          83171.4619173795,
          82834.38240588902,
          82843.76472920101,
          82751.4074840985,
          83071.090604448
         ],
         "yaxis": "y3"
        },
        {
         "mode": "lines",
         "name": "net_worth",
         "type": "scatter",
         "uid": "3740a7ea-6a47-479f-80bb-1b8efa8d6c51",
         "xaxis": "x3",
         "y": [
          97409.9,
          97365.77,
          97257.039,
          97067.1425659232,
          97833.585949473,
          97595.23267720001,
          97595.23267720001,
          97594.70476021811,
          97404.771281719,
          97385.538386866,
          97373.671847381,
          97382.30059219801,
          97367.008064255,
          97390.601416264,
          97342.167822874,
          97320.0999189432,
          97284.1588524,
          97300.8055173837,
          97279.50076834961,
          97129.40643169201,
          94623.1864278058,
          94949.198316977,
          95552.0835688886,
          95409.468446596,
          95499.50249282399,
          95456.32641315021,
          95325.21763893959,
          95467.071002813,
          95949.0202162394,
          95945.25901303001,
          95900.67203298959,
          95155.3704402047,
          95256.688692,
          95408.00858353,
          95364.546335586,
          95338.28489448,
          95332.733783228,
          95324.120208544,
          95339.800274936,
          95337.79350542,
          95331.8968367,
          95353.87936406801,
          95352.32320667,
          95364.25078499,
          95331.61478207719,
          95328.58417176318,
          95215.4863550378,
          95312.71325661801,
          95273.8860819424,
          95081.61804603599,
          95141.229880236,
          95169.5852427038,
          95201.8153743946,
          95183.951694746,
          95125.47248539579,
          95188.08478191719,
          95222.8782224786,
          95198.8347826846,
          95139.3024309302,
          95102.0649051666,
          94919.87126924,
          94915.79894246689,
          94947.013425851,
          94864.554461108,
          94741.609104,
          94668.6798462185,
          94297.1377049184,
          94295.51099644,
          94342.80145688,
          94330.1061621392,
          94389.994411216,
          94429.5233857776,
          94278.7789489936,
          94519.189999016,
          94584.0120569552,
          94505.11084702949,
          94602.52234489648,
          94528.07166074999,
          94501.86816434999,
          94460.59765751999,
          94413.4641183705,
          94534.9173241845,
          94567.2890898113,
          94514.69444517649,
          94857.1498495193,
          94909.7117044754,
          94937.9226095915,
          94920.98896925,
          94871.14531054499,
          94966.8033935455,
          94849.81730777501,
          94808.335158483,
          94805.05794,
          94928.53293941,
          94898.177289421,
          94940.218375011,
          94854.38173333,
          94705.980011519,
          94903.937249179,
          94824.489528379,
          94979.048448552,
          95351.2610205,
          95294.05089333649,
          95168.24728666269,
          95185.3648286504,
          95184.0988163,
          95131.00542335509,
          95170.8848123927,
          95161.2842187355,
          95192.3278965776,
          94999.6566420011,
          94876.3405356468,
          94954.8500009336,
          94967.125285984,
          94873.1408167948,
          94922.474663822,
          95109.0473612468,
          95036.5882734256,
          95081.151630528,
          95005.0564985568,
          94990.16326171841,
          95071.6688273848,
          95115.6795057764,
          95314.49839989841,
          95270.727000718,
          95271.5446336943,
          95203.7602224333,
          95206.0812450757,
          95293.3833467387,
          95377.810545356,
          95651.8758439603,
          95782.84614731319,
          95798.1707004,
          95715.87059600081,
          96109.389651825,
          95752.5681683655,
          95390.37139550851,
          95718.264048756,
          95430.0508045155,
          95212.400450184,
          95464.84358679749,
          95481.75131526601,
          95644.67145027751,
          95524.362700308,
          96037.06757629501,
          95774.362523559,
          95636.4619173795,
          95299.38240588902,
          95308.76472920101,
          95216.4074840985,
          95536.090604448
         ],
         "yaxis": "y3"
        },
        {
         "marker": {
          "color": "DarkGreen"
         },
         "mode": "lines",
         "name": "Net Worth",
         "type": "scatter",
         "uid": "603f0991-97d2-427c-afd5-1ceb071c6a05",
         "xaxis": "x4",
         "y": [
          97409.9,
          97365.77,
          97257.039,
          97067.1425659232,
          97833.585949473,
          97595.23267720001,
          97595.23267720001,
          97594.70476021811,
          97404.771281719,
          97385.538386866,
          97373.671847381,
          97382.30059219801,
          97367.008064255,
          97390.601416264,
          97342.167822874,
          97320.0999189432,
          97284.1588524,
          97300.8055173837,
          97279.50076834961,
          97129.40643169201,
          94623.1864278058,
          94949.198316977,
          95552.0835688886,
          95409.468446596,
          95499.50249282399,
          95456.32641315021,
          95325.21763893959,
          95467.071002813,
          95949.0202162394,
          95945.25901303001,
          95900.67203298959,
          95155.3704402047,
          95256.688692,
          95408.00858353,
          95364.546335586,
          95338.28489448,
          95332.733783228,
          95324.120208544,
          95339.800274936,
          95337.79350542,
          95331.8968367,
          95353.87936406801,
          95352.32320667,
          95364.25078499,
          95331.61478207719,
          95328.58417176318,
          95215.4863550378,
          95312.71325661801,
          95273.8860819424,
          95081.61804603599,
          95141.229880236,
          95169.5852427038,
          95201.8153743946,
          95183.951694746,
          95125.47248539579,
          95188.08478191719,
          95222.8782224786,
          95198.8347826846,
          95139.3024309302,
          95102.0649051666,
          94919.87126924,
          94915.79894246689,
          94947.013425851,
          94864.554461108,
          94741.609104,
          94668.6798462185,
          94297.1377049184,
          94295.51099644,
          94342.80145688,
          94330.1061621392,
          94389.994411216,
          94429.5233857776,
          94278.7789489936,
          94519.189999016,
          94584.0120569552,
          94505.11084702949,
          94602.52234489648,
          94528.07166074999,
          94501.86816434999,
          94460.59765751999,
          94413.4641183705,
          94534.9173241845,
          94567.2890898113,
          94514.69444517649,
          94857.1498495193,
          94909.7117044754,
          94937.9226095915,
          94920.98896925,
          94871.14531054499,
          94966.8033935455,
          94849.81730777501,
          94808.335158483,
          94805.05794,
          94928.53293941,
          94898.177289421,
          94940.218375011,
          94854.38173333,
          94705.980011519,
          94903.937249179,
          94824.489528379,
          94979.048448552,
          95351.2610205,
          95294.05089333649,
          95168.24728666269,
          95185.3648286504,
          95184.0988163,
          95131.00542335509,
          95170.8848123927,
          95161.2842187355,
          95192.3278965776,
          94999.6566420011,
          94876.3405356468,
          94954.8500009336,
          94967.125285984,
          94873.1408167948,
          94922.474663822,
          95109.0473612468,
          95036.5882734256,
          95081.151630528,
          95005.0564985568,
          94990.16326171841,
          95071.6688273848,
          95115.6795057764,
          95314.49839989841,
          95270.727000718,
          95271.5446336943,
          95203.7602224333,
          95206.0812450757,
          95293.3833467387,
          95377.810545356,
          95651.8758439603,
          95782.84614731319,
          95798.1707004,
          95715.87059600081,
          96109.389651825,
          95752.5681683655,
          95390.37139550851,
          95718.264048756,
          95430.0508045155,
          95212.400450184,
          95464.84358679749,
          95481.75131526601,
          95644.67145027751,
          95524.362700308,
          96037.06757629501,
          95774.362523559,
          95636.4619173795,
          95299.38240588902,
          95308.76472920101,
          95216.4074840985,
          95536.090604448
         ],
         "yaxis": "y4"
        }
       ],
       "layout": {
        "annotations": [
         {
          "arrowcolor": "DarkGreen",
          "arrowhead": 2,
          "arrowsize": 0.8,
          "arrowwidth": 4,
          "ax": 0,
          "ay": 15,
          "hoverlabel": {
           "bgcolor": "DarkGreen"
          },
          "hovertext": "Step 46 [2018-05-17 03:00:00]<br>BUY 0.39200308 BTC @ 8366.72 USD MARKET<br>Total: 3279.78 USD - Comm.: 9.87 USD",
          "opacity": 0.6,
          "showarrow": true,
          "x": 45,
          "xref": "x",
          "y": 8366.72,
          "yref": "y"
         },
         {
          "arrowcolor": "DarkGreen",
          "arrowhead": 2,
          "arrowsize": 0.8,
          "arrowwidth": 4,
          "ax": 0,
          "ay": 15,
          "hoverlabel": {
           "bgcolor": "DarkGreen"
          },
          "hovertext": "Step 44 [2018-05-17 01:00:00]<br>BUY 0.88508316 BTC @ 8375.1 USD MARKET<br>Total: 7412.66 USD - Comm.: 22.30 USD",
          "opacity": 0.6,
          "showarrow": true,
          "x": 43,
          "xref": "x",
          "y": 8375.1,
          "yref": "y"
         },
         {
          "arrowcolor": "DarkGreen",
          "arrowhead": 2,
          "arrowsize": 0.8,
          "arrowwidth": 4,
          "ax": 0,
          "ay": 15,
          "hoverlabel": {
           "bgcolor": "DarkGreen"
          },
          "hovertext": "Step 42 [2018-05-16 23:00:00]<br>BUY 0.3929497 BTC @ 8346.59 USD MARKET<br>Total: 3279.79 USD - Comm.: 9.87 USD",
          "opacity": 0.6,
          "showarrow": true,
          "x": 41,
          "xref": "x",
          "y": 8346.59,
          "yref": "y"
         },
         {
          "arrowcolor": "FireBrick",
          "arrowhead": 2,
          "arrowsize": 0.8,
          "arrowwidth": 4,
          "ax": 0,
          "ay": -15,
          "hoverlabel": {
           "bgcolor": "FireBrick"
          },
          "hovertext": "Step 35 [2018-05-16 16:00:00]<br>SELL 1.36047588 BTC @ 8273.4 USD MARKET<br>Total: 11255.76 USD - Comm.: 0.00409371 BTC",
          "opacity": 0.6,
          "showarrow": true,
          "x": 34,
          "xref": "x",
          "y": 8273.4,
          "yref": "y"
         },
         {
          "arrowcolor": "FireBrick",
          "arrowhead": 2,
          "arrowsize": 0.8,
          "arrowwidth": 4,
          "ax": 0,
          "ay": -15,
          "hoverlabel": {
           "bgcolor": "FireBrick"
          },
          "hovertext": "Step 34 [2018-05-16 15:00:00]<br>SELL 0.90698392 BTC @ 8285.8 USD MARKET<br>Total: 7515.09 USD - Comm.: 0.00272914 BTC",
          "opacity": 0.6,
          "showarrow": true,
          "x": 33,
          "xref": "x",
          "y": 8285.8,
          "yref": "y"
         },
         {
          "arrowcolor": "FireBrick",
          "arrowhead": 2,
          "arrowsize": 0.8,
          "arrowwidth": 4,
          "ax": 0,
          "ay": -15,
          "hoverlabel": {
           "bgcolor": "FireBrick"
          },
          "hovertext": "Step 33 [2018-05-16 14:00:00]<br>SELL 0.25193998 BTC @ 8225.0 USD MARKET<br>Total: 2072.21 USD - Comm.: 0.00075809 BTC",
          "opacity": 0.6,
          "showarrow": true,
          "x": 32,
          "xref": "x",
          "y": 8225.0,
          "yref": "y"
         },
         {
          "arrowcolor": "FireBrick",
          "arrowhead": 2,
          "arrowsize": 0.8,
          "arrowwidth": 4,
          "ax": 0,
          "ay": -15,
          "hoverlabel": {
           "bgcolor": "FireBrick"
          },
          "hovertext": "Step 32 [2018-05-16 13:00:00]<br>SELL 0.27993331 BTC @ 8179.99 USD MARKET<br>Total: 2289.85 USD - Comm.: 0.00084233 BTC",
          "opacity": 0.6,
          "showarrow": true,
          "x": 31,
          "xref": "x",
          "y": 8179.99,
          "yref": "y"
         },
         {
          "arrowcolor": "FireBrick",
          "arrowhead": 2,
          "arrowsize": 0.8,
          "arrowwidth": 4,
          "ax": 0,
          "ay": -15,
          "hoverlabel": {
           "bgcolor": "FireBrick"
          },
          "hovertext": "Step 32 [2018-05-16 13:00:00]<br>SELL 0.46857677 BTC @ 8179.99 USD MARKET<br>Total: 3832.95 USD - Comm.: 0.00140996 BTC",
          "opacity": 0.6,
          "showarrow": true,
          "x": 31,
          "xref": "x",
          "y": 8179.99,
          "yref": "y"
         },
         {
          "arrowcolor": "FireBrick",
          "arrowhead": 2,
          "arrowsize": 0.8,
          "arrowwidth": 4,
          "ax": 0,
          "ay": -15,
          "hoverlabel": {
           "bgcolor": "FireBrick"
          },
          "hovertext": "Step 32 [2018-05-16 13:00:00]<br>SELL 0.33574099 BTC @ 8179.99 USD MARKET<br>Total: 2746.36 USD - Comm.: 0.00101025 BTC",
          "opacity": 0.6,
          "showarrow": true,
          "x": 31,
          "xref": "x",
          "y": 8179.99,
          "yref": "y"
         },
         {
          "arrowcolor": "FireBrick",
          "arrowhead": 2,
          "arrowsize": 0.8,
          "arrowwidth": 4,
          "ax": 0,
          "ay": -15,
          "hoverlabel": {
           "bgcolor": "FireBrick"
          },
          "hovertext": "Step 31 [2018-05-16 12:00:00]<br>SELL 0.69983327 BTC @ 8365.08 USD MARKET<br>Total: 5854.16 USD - Comm.: 0.00210582 BTC",
          "opacity": 0.6,
          "showarrow": true,
          "x": 30,
          "xref": "x",
          "y": 8365.08,
          "yref": "y"
         },
         {
          "arrowcolor": "DarkGreen",
          "arrowhead": 2,
          "arrowsize": 0.8,
          "arrowwidth": 4,
          "ax": 0,
          "ay": 15,
          "hoverlabel": {
           "bgcolor": "DarkGreen"
          },
          "hovertext": "Step 30 [2018-05-16 11:00:00]<br>BUY 0.31325451 BTC @ 8373.0 USD MARKET<br>Total: 2622.88 USD - Comm.: 7.89 USD",
          "opacity": 0.6,
          "showarrow": true,
          "x": 29,
          "xref": "x",
          "y": 8373.0,
          "yref": "y"
         },
         {
          "arrowcolor": "DarkGreen",
          "arrowhead": 2,
          "arrowsize": 0.8,
          "arrowwidth": 4,
          "ax": 0,
          "ay": 15,
          "hoverlabel": {
           "bgcolor": "DarkGreen"
          },
          "hovertext": "Step 29 [2018-05-16 10:00:00]<br>BUY 0.46998673 BTC @ 8371.13 USD MARKET<br>Total: 3934.32 USD - Comm.: 11.84 USD",
          "opacity": 0.6,
          "showarrow": true,
          "x": 28,
          "xref": "x",
          "y": 8371.13,
          "yref": "y"
         },
         {
          "arrowcolor": "FireBrick",
          "arrowhead": 2,
          "arrowsize": 0.8,
          "arrowwidth": 4,
          "ax": 0,
          "ay": -15,
          "hoverlabel": {
           "bgcolor": "FireBrick"
          },
          "hovertext": "Step 28 [2018-05-16 09:00:00]<br>SELL 0.38879626 BTC @ 8243.45 USD MARKET<br>Total: 3205.02 USD - Comm.: 0.00116990 BTC",
          "opacity": 0.6,
          "showarrow": true,
          "x": 27,
          "xref": "x",
          "y": 8243.45,
          "yref": "y"
         },
         {
          "arrowcolor": "FireBrick",
          "arrowhead": 2,
          "arrowsize": 0.8,
          "arrowwidth": 4,
          "ax": 0,
          "ay": -15,
          "hoverlabel": {
           "bgcolor": "FireBrick"
          },
          "hovertext": "Step 27 [2018-05-16 08:00:00]<br>SELL 0.43199584 BTC @ 8207.48 USD MARKET<br>Total: 3545.6 USD - Comm.: 0.00129989 BTC",
          "opacity": 0.6,
          "showarrow": true,
          "x": 26,
          "xref": "x",
          "y": 8207.48,
          "yref": "y"
         },
         {
          "arrowcolor": "FireBrick",
          "arrowhead": 2,
          "arrowsize": 0.8,
          "arrowwidth": 4,
          "ax": 0,
          "ay": -15,
          "hoverlabel": {
           "bgcolor": "FireBrick"
          },
          "hovertext": "Step 26 [2018-05-16 07:00:00]<br>SELL 0.47999539 BTC @ 8232.99 USD MARKET<br>Total: 3951.8 USD - Comm.: 0.00144432 BTC",
          "opacity": 0.6,
          "showarrow": true,
          "x": 25,
          "xref": "x",
          "y": 8232.99,
          "yref": "y"
         },
         {
          "arrowcolor": "FireBrick",
          "arrowhead": 2,
          "arrowsize": 0.8,
          "arrowwidth": 4,
          "ax": 0,
          "ay": -15,
          "hoverlabel": {
           "bgcolor": "FireBrick"
          },
          "hovertext": "Step 25 [2018-05-16 06:00:00]<br>SELL 0.5333282 BTC @ 8238.8 USD MARKET<br>Total: 4393.98 USD - Comm.: 0.00160480 BTC",
          "opacity": 0.6,
          "showarrow": true,
          "x": 24,
          "xref": "x",
          "y": 8238.8,
          "yref": "y"
         },
         {
          "arrowcolor": "FireBrick",
          "arrowhead": 2,
          "arrowsize": 0.8,
          "arrowwidth": 4,
          "ax": 0,
          "ay": -15,
          "hoverlabel": {
           "bgcolor": "FireBrick"
          },
          "hovertext": "Step 24 [2018-05-16 05:00:00]<br>SELL 0.5925869 BTC @ 8220.4 USD MARKET<br>Total: 4871.3 USD - Comm.: 0.00178311 BTC",
          "opacity": 0.6,
          "showarrow": true,
          "x": 23,
          "xref": "x",
          "y": 8220.4,
          "yref": "y"
         },
         {
          "arrowcolor": "FireBrick",
          "arrowhead": 2,
          "arrowsize": 0.8,
          "arrowwidth": 4,
          "ax": 0,
          "ay": -15,
          "hoverlabel": {
           "bgcolor": "FireBrick"
          },
          "hovertext": "Step 23 [2018-05-16 04:00:00]<br>SELL 2.53965813 BTC @ 8229.38 USD MARKET<br>Total: 20899.81 USD - Comm.: 0.00764190 BTC",
          "opacity": 0.6,
          "showarrow": true,
          "x": 22,
          "xref": "x",
          "y": 8229.38,
          "yref": "y"
         },
         {
          "arrowcolor": "FireBrick",
          "arrowhead": 2,
          "arrowsize": 0.8,
          "arrowwidth": 4,
          "ax": 0,
          "ay": -15,
          "hoverlabel": {
           "bgcolor": "FireBrick"
          },
          "hovertext": "Step 23 [2018-05-16 04:00:00]<br>SELL 0.94061412 BTC @ 8229.38 USD MARKET<br>Total: 7740.67 USD - Comm.: 0.00283033 BTC",
          "opacity": 0.6,
          "showarrow": true,
          "x": 22,
          "xref": "x",
          "y": 8229.38,
          "yref": "y"
         },
         {
          "arrowcolor": "FireBrick",
          "arrowhead": 2,
          "arrowsize": 0.8,
          "arrowwidth": 4,
          "ax": 0,
          "ay": -15,
          "hoverlabel": {
           "bgcolor": "FireBrick"
          },
          "hovertext": "Step 22 [2018-05-16 03:00:00]<br>SELL 1.04512681 BTC @ 8164.79 USD MARKET<br>Total: 8533.24 USD - Comm.: 0.00314481 BTC",
          "opacity": 0.6,
          "showarrow": true,
          "x": 21,
          "xref": "x",
          "y": 8164.79,
          "yref": "y"
         },
         {
          "arrowcolor": "FireBrick",
          "arrowhead": 2,
          "arrowsize": 0.8,
          "arrowwidth": 4,
          "ax": 0,
          "ay": -15,
          "hoverlabel": {
           "bgcolor": "FireBrick"
          },
          "hovertext": "Step 22 [2018-05-16 03:00:00]<br>SELL 0.11414475 BTC @ 8164.79 USD MARKET<br>Total: 931.97 USD - Comm.: 0.00034346 BTC",
          "opacity": 0.6,
          "showarrow": true,
          "x": 21,
          "xref": "x",
          "y": 8164.79,
          "yref": "y"
         },
         {
          "arrowcolor": "FireBrick",
          "arrowhead": 2,
          "arrowsize": 0.8,
          "arrowwidth": 4,
          "ax": 0,
          "ay": -15,
          "hoverlabel": {
           "bgcolor": "FireBrick"
          },
          "hovertext": "Step 21 [2018-05-16 02:00:00]<br>SELL 0.0338554 BTC @ 8133.43 USD MARKET<br>Total: 275.36 USD - Comm.: 0.00010187 BTC",
          "opacity": 0.6,
          "showarrow": true,
          "x": 20,
          "xref": "x",
          "y": 8133.43,
          "yref": "y"
         },
         {
          "arrowcolor": "FireBrick",
          "arrowhead": 2,
          "arrowsize": 0.8,
          "arrowwidth": 4,
          "ax": 0,
          "ay": -15,
          "hoverlabel": {
           "bgcolor": "FireBrick"
          },
          "hovertext": "Step 21 [2018-05-16 02:00:00]<br>SELL 0.09078506 BTC @ 8133.43 USD MARKET<br>Total: 738.39 USD - Comm.: 0.00027317 BTC",
          "opacity": 0.6,
          "showarrow": true,
          "x": 20,
          "xref": "x",
          "y": 8133.43,
          "yref": "y"
         },
         {
          "arrowcolor": "FireBrick",
          "arrowhead": 2,
          "arrowsize": 0.8,
          "arrowwidth": 4,
          "ax": 0,
          "ay": -15,
          "hoverlabel": {
           "bgcolor": "FireBrick"
          },
          "hovertext": "Step 21 [2018-05-16 02:00:00]<br>SELL 0.56940491 BTC @ 8133.43 USD MARKET<br>Total: 4631.21 USD - Comm.: 0.00171335 BTC",
          "opacity": 0.6,
          "showarrow": true,
          "x": 20,
          "xref": "x",
          "y": 8133.43,
          "yref": "y"
         },
         {
          "arrowcolor": "DarkGreen",
          "arrowhead": 2,
          "arrowsize": 0.8,
          "arrowwidth": 4,
          "ax": 0,
          "ay": 15,
          "hoverlabel": {
           "bgcolor": "DarkGreen"
          },
          "hovertext": "Step 20 [2018-05-16 01:00:00]<br>BUY 0.9336042 BTC @ 8326.28 USD MARKET<br>Total: 7773.45 USD - Comm.: 23.39 USD",
          "opacity": 0.6,
          "showarrow": true,
          "x": 19,
          "xref": "x",
          "y": 8326.28,
          "yref": "y"
         },
         {
          "arrowcolor": "DarkGreen",
          "arrowhead": 2,
          "arrowsize": 0.8,
          "arrowwidth": 4,
          "ax": 0,
          "ay": 15,
          "hoverlabel": {
           "bgcolor": "DarkGreen"
          },
          "hovertext": "Step 20 [2018-05-16 01:00:00]<br>BUY 8.50559313 BTC @ 8326.28 USD MARKET<br>Total: 70819.95 USD - Comm.: 213.10 USD",
          "opacity": 0.6,
          "showarrow": true,
          "x": 19,
          "xref": "x",
          "y": 8326.28,
          "yref": "y"
         },
         {
          "arrowcolor": "DarkGreen",
          "arrowhead": 2,
          "arrowsize": 0.8,
          "arrowwidth": 4,
          "ax": 0,
          "ay": 15,
          "hoverlabel": {
           "bgcolor": "DarkGreen"
          },
          "hovertext": "Step 20 [2018-05-16 01:00:00]<br>BUY 1.04351883 BTC @ 8326.28 USD MARKET<br>Total: 8688.63 USD - Comm.: 26.14 USD",
          "opacity": 0.6,
          "showarrow": true,
          "x": 19,
          "xref": "x",
          "y": 8326.28,
          "yref": "y"
         },
         {
          "arrowcolor": "DarkGreen",
          "arrowhead": 2,
          "arrowsize": 0.8,
          "arrowwidth": 4,
          "ax": 0,
          "ay": 15,
          "hoverlabel": {
           "bgcolor": "DarkGreen"
          },
          "hovertext": "Step 19 [2018-05-16 00:00:00]<br>BUY 0.03395727 BTC @ 8455.92 USD MARKET<br>Total: 287.14 USD - Comm.: 0.86 USD",
          "opacity": 0.6,
          "showarrow": true,
          "x": 18,
          "xref": "x",
          "y": 8455.92,
          "yref": "y"
         },
         {
          "arrowcolor": "DarkGreen",
          "arrowhead": 2,
          "arrowsize": 0.8,
          "arrowwidth": 4,
          "ax": 0,
          "ay": 15,
          "hoverlabel": {
           "bgcolor": "DarkGreen"
          },
          "hovertext": "Step 17 [2018-05-15 22:00:00]<br>BUY 0.00377069 BTC @ 8460.0 USD MARKET<br>Total: 31.9 USD - Comm.: 0.10 USD",
          "opacity": 0.6,
          "showarrow": true,
          "x": 16,
          "xref": "x",
          "y": 8460.0,
          "yref": "y"
         },
         {
          "arrowcolor": "DarkGreen",
          "arrowhead": 2,
          "arrowsize": 0.8,
          "arrowwidth": 4,
          "ax": 0,
          "ay": 15,
          "hoverlabel": {
           "bgcolor": "DarkGreen"
          },
          "hovertext": "Step 13 [2018-05-15 18:00:00]<br>BUY 0.33675124 BTC @ 8526.65 USD MARKET<br>Total: 2871.36 USD - Comm.: 8.64 USD",
          "opacity": 0.6,
          "showarrow": true,
          "x": 12,
          "xref": "x",
          "y": 8526.65,
          "yref": "y"
         },
         {
          "arrowcolor": "FireBrick",
          "arrowhead": 2,
          "arrowsize": 0.8,
          "arrowwidth": 4,
          "ax": 0,
          "ay": -15,
          "hoverlabel": {
           "bgcolor": "FireBrick"
          },
          "hovertext": "Step 10 [2018-05-15 15:00:00]<br>SELL 0.91508999 BTC @ 8520.3 USD MARKET<br>Total: 7796.84 USD - Comm.: 0.00275353 BTC",
          "opacity": 0.6,
          "showarrow": true,
          "x": 9,
          "xref": "x",
          "y": 8520.3,
          "yref": "y"
         },
         {
          "arrowcolor": "DarkGreen",
          "arrowhead": 2,
          "arrowsize": 0.8,
          "arrowwidth": 4,
          "ax": 0,
          "ay": 15,
          "hoverlabel": {
           "bgcolor": "DarkGreen"
          },
          "hovertext": "Step 9 [2018-05-15 14:00:00]<br>BUY 0.91784352 BTC @ 8517.77 USD MARKET<br>Total: 7817.98 USD - Comm.: 23.52 USD",
          "opacity": 0.6,
          "showarrow": true,
          "x": 8,
          "xref": "x",
          "y": 8517.77,
          "yref": "y"
         },
         {
          "arrowcolor": "DarkGreen",
          "arrowhead": 2,
          "arrowsize": 0.8,
          "arrowwidth": 4,
          "ax": 0,
          "ay": 15,
          "hoverlabel": {
           "bgcolor": "DarkGreen"
          },
          "hovertext": "Step 8 [2018-05-15 13:00:00]<br>BUY 0.09105823 BTC @ 8759.23 USD MARKET<br>Total: 797.6 USD - Comm.: 2.40 USD",
          "opacity": 0.6,
          "showarrow": true,
          "x": 7,
          "xref": "x",
          "y": 8759.23,
          "yref": "y"
         },
         {
          "arrowcolor": "FireBrick",
          "arrowhead": 2,
          "arrowsize": 0.8,
          "arrowwidth": 4,
          "ax": 0,
          "ay": -15,
          "hoverlabel": {
           "bgcolor": "FireBrick"
          },
          "hovertext": "Step 5 [2018-05-15 10:00:00]<br>SELL 8.0757 BTC @ 8795.9 USD MARKET<br>Total: 71033.05 USD - Comm.: 0.02430000 BTC",
          "opacity": 0.6,
          "showarrow": true,
          "x": 4,
          "xref": "x",
          "y": 8795.9,
          "yref": "y"
         },
         {
          "arrowcolor": "DarkGreen",
          "arrowhead": 2,
          "arrowsize": 0.8,
          "arrowwidth": 4,
          "ax": 0,
          "ay": 15,
          "hoverlabel": {
           "bgcolor": "DarkGreen"
          },
          "hovertext": "Step 4 [2018-05-15 09:00:00]<br>BUY 0.11448821 BTC @ 8708.32 USD MARKET<br>Total: 997.0 USD - Comm.: 3.00 USD",
          "opacity": 0.6,
          "showarrow": true,
          "x": 3,
          "xref": "x",
          "y": 8708.32,
          "yref": "y"
         },
         {
          "arrowcolor": "DarkGreen",
          "arrowhead": 2,
          "arrowsize": 0.8,
          "arrowwidth": 4,
          "ax": 0,
          "ay": 15,
          "hoverlabel": {
           "bgcolor": "DarkGreen"
          },
          "hovertext": "Step 3 [2018-05-15 08:00:00]<br>BUY 0.57111826 BTC @ 8728.49 USD MARKET<br>Total: 4985.0 USD - Comm.: 15.00 USD",
          "opacity": 0.6,
          "showarrow": true,
          "x": 2,
          "xref": "x",
          "y": 8728.49,
          "yref": "y"
         },
         {
          "arrowcolor": "FireBrick",
          "arrowhead": 2,
          "arrowsize": 0.8,
          "arrowwidth": 4,
          "ax": 0,
          "ay": -15,
          "hoverlabel": {
           "bgcolor": "FireBrick"
          },
          "hovertext": "Step 2 [2018-05-15 07:00:00]<br>SELL 0.8973 BTC @ 8739.0 USD MARKET<br>Total: 7841.5 USD - Comm.: 0.00270000 BTC",
          "opacity": 0.6,
          "showarrow": true,
          "x": 1,
          "xref": "x",
          "y": 8739.0,
          "yref": "y"
         },
         {
          "arrowcolor": "FireBrick",
          "arrowhead": 2,
          "arrowsize": 0.8,
          "arrowwidth": 4,
          "ax": 0,
          "ay": -15,
          "hoverlabel": {
           "bgcolor": "FireBrick"
          },
          "hovertext": "Step 1 [2018-05-15 06:00:00]<br>SELL 0.997 BTC @ 8740.99 USD MARKET<br>Total: 8714.77 USD - Comm.: 0.00300000 BTC",
          "opacity": 0.6,
          "showarrow": true,
          "x": 0,
          "xref": "x",
          "y": 8740.99,
          "yref": "y"
         },
         {
          "arrowcolor": "DarkGreen",
          "arrowhead": 2,
          "arrowsize": 0.8,
          "arrowwidth": 4,
          "ax": 0,
          "ay": 15,
          "hoverlabel": {
           "bgcolor": "DarkGreen"
          },
          "hovertext": "Step 91 [2018-05-19 00:00:00]<br>BUY 0.00282705 BTC @ 8213.5 USD MARKET<br>Total: 23.22 USD - Comm.: 0.07 USD",
          "opacity": 0.6,
          "showarrow": true,
          "x": 90,
          "xref": "x",
          "y": 8213.5,
          "yref": "y"
         },
         {
          "arrowcolor": "DarkGreen",
          "arrowhead": 2,
          "arrowsize": 0.8,
          "arrowwidth": 4,
          "ax": 0,
          "ay": 15,
          "hoverlabel": {
           "bgcolor": "DarkGreen"
          },
          "hovertext": "Step 89 [2018-05-18 22:00:00]<br>BUY 0.0065901 BTC @ 8219.9 USD MARKET<br>Total: 54.17 USD - Comm.: 0.16 USD",
          "opacity": 0.6,
          "showarrow": true,
          "x": 88,
          "xref": "x",
          "y": 8219.9,
          "yref": "y"
         },
         {
          "arrowcolor": "DarkGreen",
          "arrowhead": 2,
          "arrowsize": 0.8,
          "arrowwidth": 4,
          "ax": 0,
          "ay": 15,
          "hoverlabel": {
           "bgcolor": "DarkGreen"
          },
          "hovertext": "Step 86 [2018-05-18 19:00:00]<br>BUY 0.02193668 BTC @ 8231.42 USD MARKET<br>Total: 180.57 USD - Comm.: 0.54 USD",
          "opacity": 0.6,
          "showarrow": true,
          "x": 85,
          "xref": "x",
          "y": 8231.42,
          "yref": "y"
         },
         {
          "arrowcolor": "DarkGreen",
          "arrowhead": 2,
          "arrowsize": 0.8,
          "arrowwidth": 4,
          "ax": 0,
          "ay": 15,
          "hoverlabel": {
           "bgcolor": "DarkGreen"
          },
          "hovertext": "Step 82 [2018-05-18 15:00:00]<br>BUY 0.00353082 BTC @ 8117.09 USD MARKET<br>Total: 28.66 USD - Comm.: 0.09 USD",
          "opacity": 0.6,
          "showarrow": true,
          "x": 81,
          "xref": "x",
          "y": 8117.09,
          "yref": "y"
         },
         {
          "arrowcolor": "DarkGreen",
          "arrowhead": 2,
          "arrowsize": 0.8,
          "arrowwidth": 4,
          "ax": 0,
          "ay": 15,
          "hoverlabel": {
           "bgcolor": "DarkGreen"
          },
          "hovertext": "Step 75 [2018-05-18 08:00:00]<br>BUY 1.32531497 BTC @ 8122.19 USD MARKET<br>Total: 10764.46 USD - Comm.: 32.39 USD",
          "opacity": 0.6,
          "showarrow": true,
          "x": 74,
          "xref": "x",
          "y": 8122.19,
          "yref": "y"
         },
         {
          "arrowcolor": "FireBrick",
          "arrowhead": 2,
          "arrowsize": 0.8,
          "arrowwidth": 4,
          "ax": 0,
          "ay": -15,
          "hoverlabel": {
           "bgcolor": "FireBrick"
          },
          "hovertext": "Step 67 [2018-05-18 00:00:00]<br>SELL 1.38469357 BTC @ 7958.08 USD MARKET<br>Total: 11019.5 USD - Comm.: 0.00416658 BTC",
          "opacity": 0.6,
          "showarrow": true,
          "x": 66,
          "xref": "x",
          "y": 7958.08,
          "yref": "y"
         },
         {
          "arrowcolor": "DarkGreen",
          "arrowhead": 2,
          "arrowsize": 0.8,
          "arrowwidth": 4,
          "ax": 0,
          "ay": 15,
          "hoverlabel": {
           "bgcolor": "DarkGreen"
          },
          "hovertext": "Step 66 [2018-05-17 23:00:00]<br>BUY 0.31976328 BTC @ 8067.03 USD MARKET<br>Total: 2579.54 USD - Comm.: 7.76 USD",
          "opacity": 0.6,
          "showarrow": true,
          "x": 65,
          "xref": "x",
          "y": 8067.03,
          "yref": "y"
         },
         {
          "arrowcolor": "DarkGreen",
          "arrowhead": 2,
          "arrowsize": 0.8,
          "arrowwidth": 4,
          "ax": 0,
          "ay": 15,
          "hoverlabel": {
           "bgcolor": "DarkGreen"
          },
          "hovertext": "Step 65 [2018-05-17 22:00:00]<br>BUY 1.38886015 BTC @ 8080.0 USD MARKET<br>Total: 11221.99 USD - Comm.: 33.77 USD",
          "opacity": 0.6,
          "showarrow": true,
          "x": 64,
          "xref": "x",
          "y": 8080.0,
          "yref": "y"
         },
         {
          "arrowcolor": "DarkGreen",
          "arrowhead": 2,
          "arrowsize": 0.8,
          "arrowwidth": 4,
          "ax": 0,
          "ay": 15,
          "hoverlabel": {
           "bgcolor": "DarkGreen"
          },
          "hovertext": "Step 63 [2018-05-17 20:00:00]<br>BUY 0.34950187 BTC @ 8200.7 USD MARKET<br>Total: 2866.16 USD - Comm.: 8.62 USD",
          "opacity": 0.6,
          "showarrow": true,
          "x": 62,
          "xref": "x",
          "y": 8200.7,
          "yref": "y"
         },
         {
          "arrowcolor": "FireBrick",
          "arrowhead": 2,
          "arrowsize": 0.8,
          "arrowwidth": 4,
          "ax": 0,
          "ay": -15,
          "hoverlabel": {
           "bgcolor": "FireBrick"
          },
          "hovertext": "Step 61 [2018-05-17 18:00:00]<br>SELL 0.39177085 BTC @ 8166.0 USD MARKET<br>Total: 3199.2 USD - Comm.: 0.00117885 BTC",
          "opacity": 0.6,
          "showarrow": true,
          "x": 60,
          "xref": "x",
          "y": 8166.0,
          "yref": "y"
         },
         {
          "arrowcolor": "FireBrick",
          "arrowhead": 2,
          "arrowsize": 0.8,
          "arrowwidth": 4,
          "ax": 0,
          "ay": -15,
          "hoverlabel": {
           "bgcolor": "FireBrick"
          },
          "hovertext": "Step 61 [2018-05-17 18:00:00]<br>SELL 0.31231475 BTC @ 8166.0 USD MARKET<br>Total: 2550.36 USD - Comm.: 0.00093976 BTC",
          "opacity": 0.6,
          "showarrow": true,
          "x": 60,
          "xref": "x",
          "y": 8166.0,
          "yref": "y"
         },
         {
          "arrowcolor": "DarkGreen",
          "arrowhead": 2,
          "arrowsize": 0.8,
          "arrowwidth": 4,
          "ax": 0,
          "ay": 15,
          "hoverlabel": {
           "bgcolor": "DarkGreen"
          },
          "hovertext": "Step 134 [2018-05-20 19:00:00]<br>BUY 0.05575763 BTC @ 8517.04 USD MARKET<br>Total: 474.89 USD - Comm.: 1.43 USD",
          "opacity": 0.6,
          "showarrow": true,
          "x": 133,
          "xref": "x",
          "y": 8517.04,
          "yref": "y"
         },
         {
          "arrowcolor": "DarkGreen",
          "arrowhead": 2,
          "arrowsize": 0.8,
          "arrowwidth": 4,
          "ax": 0,
          "ay": 15,
          "hoverlabel": {
           "bgcolor": "DarkGreen"
          },
          "hovertext": "Step 134 [2018-05-20 19:00:00]<br>BUY 0.39996055 BTC @ 8517.04 USD MARKET<br>Total: 3406.48 USD - Comm.: 10.25 USD",
          "opacity": 0.6,
          "showarrow": true,
          "x": 133,
          "xref": "x",
          "y": 8517.04,
          "yref": "y"
         },
         {
          "arrowcolor": "DarkGreen",
          "arrowhead": 2,
          "arrowsize": 0.8,
          "arrowwidth": 4,
          "ax": 0,
          "ay": 15,
          "hoverlabel": {
           "bgcolor": "DarkGreen"
          },
          "hovertext": "Step 133 [2018-05-20 18:00:00]<br>BUY 0.13085992 BTC @ 8524.0 USD MARKET<br>Total: 1115.45 USD - Comm.: 3.36 USD",
          "opacity": 0.6,
          "showarrow": true,
          "x": 132,
          "xref": "x",
          "y": 8524.0,
          "yref": "y"
         },
         {
          "arrowcolor": "DarkGreen",
          "arrowhead": 2,
          "arrowsize": 0.8,
          "arrowwidth": 4,
          "ax": 0,
          "ay": 15,
          "hoverlabel": {
           "bgcolor": "DarkGreen"
          },
          "hovertext": "Step 133 [2018-05-20 18:00:00]<br>BUY 0.54947325 BTC @ 8524.0 USD MARKET<br>Total: 4683.71 USD - Comm.: 14.09 USD",
          "opacity": 0.6,
          "showarrow": true,
          "x": 132,
          "xref": "x",
          "y": 8524.0,
          "yref": "y"
         },
         {
          "arrowcolor": "FireBrick",
          "arrowhead": 2,
          "arrowsize": 0.8,
          "arrowwidth": 4,
          "ax": 0,
          "ay": -15,
          "hoverlabel": {
           "bgcolor": "FireBrick"
          },
          "hovertext": "Step 132 [2018-05-20 17:00:00]<br>SELL 0.00657033 BTC @ 8516.36 USD MARKET<br>Total: 55.96 USD - Comm.: 0.00001977 BTC",
          "opacity": 0.6,
          "showarrow": true,
          "x": 131,
          "xref": "x",
          "y": 8516.36,
          "yref": "y"
         },
         {
          "arrowcolor": "DarkGreen",
          "arrowhead": 2,
          "arrowsize": 0.8,
          "arrowwidth": 4,
          "ax": 0,
          "ay": 15,
          "hoverlabel": {
           "bgcolor": "DarkGreen"
          },
          "hovertext": "Step 132 [2018-05-20 17:00:00]<br>BUY 0.23429141 BTC @ 8516.36 USD MARKET<br>Total: 1995.31 USD - Comm.: 6.00 USD",
          "opacity": 0.6,
          "showarrow": true,
          "x": 131,
          "xref": "x",
          "y": 8516.36,
          "yref": "y"
         },
         {
          "arrowcolor": "DarkGreen",
          "arrowhead": 2,
          "arrowsize": 0.8,
          "arrowwidth": 4,
          "ax": 0,
          "ay": 15,
          "hoverlabel": {
           "bgcolor": "DarkGreen"
          },
          "hovertext": "Step 132 [2018-05-20 17:00:00]<br>BUY 0.36318451 BTC @ 8516.36 USD MARKET<br>Total: 3093.01 USD - Comm.: 9.31 USD",
          "opacity": 0.6,
          "showarrow": true,
          "x": 131,
          "xref": "x",
          "y": 8516.36,
          "yref": "y"
         },
         {
          "arrowcolor": "DarkGreen",
          "arrowhead": 2,
          "arrowsize": 0.8,
          "arrowwidth": 4,
          "ax": 0,
          "ay": 15,
          "hoverlabel": {
           "bgcolor": "DarkGreen"
          },
          "hovertext": "Step 132 [2018-05-20 17:00:00]<br>BUY 0.49763279 BTC @ 8516.36 USD MARKET<br>Total: 4238.02 USD - Comm.: 12.75 USD",
          "opacity": 0.6,
          "showarrow": true,
          "x": 131,
          "xref": "x",
          "y": 8516.36,
          "yref": "y"
         },
         {
          "arrowcolor": "DarkGreen",
          "arrowhead": 2,
          "arrowsize": 0.8,
          "arrowwidth": 4,
          "ax": 0,
          "ay": 15,
          "hoverlabel": {
           "bgcolor": "DarkGreen"
          },
          "hovertext": "Step 132 [2018-05-20 17:00:00]<br>BUY 0.87565462 BTC @ 8516.36 USD MARKET<br>Total: 7457.39 USD - Comm.: 22.44 USD",
          "opacity": 0.6,
          "showarrow": true,
          "x": 131,
          "xref": "x",
          "y": 8516.36,
          "yref": "y"
         },
         {
          "arrowcolor": "FireBrick",
          "arrowhead": 2,
          "arrowsize": 0.8,
          "arrowwidth": 4,
          "ax": 0,
          "ay": -15,
          "hoverlabel": {
           "bgcolor": "FireBrick"
          },
          "hovertext": "Step 131 [2018-05-20 16:00:00]<br>SELL 0.00281857 BTC @ 8481.11 USD MARKET<br>Total: 23.9 USD - Comm.: 0.00000848 BTC",
          "opacity": 0.6,
          "showarrow": true,
          "x": 130,
          "xref": "x",
          "y": 8481.11,
          "yref": "y"
         },
         {
          "arrowcolor": "FireBrick",
          "arrowhead": 2,
          "arrowsize": 0.8,
          "arrowwidth": 4,
          "ax": 0,
          "ay": -15,
          "hoverlabel": {
           "bgcolor": "FireBrick"
          },
          "hovertext": "Step 131 [2018-05-20 16:00:00]<br>SELL 0.02187087 BTC @ 8481.11 USD MARKET<br>Total: 185.49 USD - Comm.: 0.00006581 BTC",
          "opacity": 0.6,
          "showarrow": true,
          "x": 130,
          "xref": "x",
          "y": 8481.11,
          "yref": "y"
         },
         {
          "arrowcolor": "DarkGreen",
          "arrowhead": 2,
          "arrowsize": 0.8,
          "arrowwidth": 4,
          "ax": 0,
          "ay": 15,
          "hoverlabel": {
           "bgcolor": "DarkGreen"
          },
          "hovertext": "Step 131 [2018-05-20 16:00:00]<br>BUY 0.25962639 BTC @ 8481.11 USD MARKET<br>Total: 2201.92 USD - Comm.: 6.63 USD",
          "opacity": 0.6,
          "showarrow": true,
          "x": 130,
          "xref": "x",
          "y": 8481.11,
          "yref": "y"
         },
         {
          "arrowcolor": "DarkGreen",
          "arrowhead": 2,
          "arrowsize": 0.8,
          "arrowwidth": 4,
          "ax": 0,
          "ay": 15,
          "hoverlabel": {
           "bgcolor": "DarkGreen"
          },
          "hovertext": "Step 131 [2018-05-20 16:00:00]<br>BUY 0.45096456 BTC @ 8481.11 USD MARKET<br>Total: 3824.68 USD - Comm.: 11.51 USD",
          "opacity": 0.6,
          "showarrow": true,
          "x": 130,
          "xref": "x",
          "y": 8481.11,
          "yref": "y"
         },
         {
          "arrowcolor": "DarkGreen",
          "arrowhead": 2,
          "arrowsize": 0.8,
          "arrowwidth": 4,
          "ax": 0,
          "ay": 15,
          "hoverlabel": {
           "bgcolor": "DarkGreen"
          },
          "hovertext": "Step 131 [2018-05-20 16:00:00]<br>BUY 2.38396153 BTC @ 8481.11 USD MARKET<br>Total: 20218.64 USD - Comm.: 60.84 USD",
          "opacity": 0.6,
          "showarrow": true,
          "x": 130,
          "xref": "x",
          "y": 8481.11,
          "yref": "y"
         },
         {
          "arrowcolor": "DarkGreen",
          "arrowhead": 2,
          "arrowsize": 0.8,
          "arrowwidth": 4,
          "ax": 0,
          "ay": 15,
          "hoverlabel": {
           "bgcolor": "DarkGreen"
          },
          "hovertext": "Step 131 [2018-05-20 16:00:00]<br>BUY 0.96571439 BTC @ 8481.11 USD MARKET<br>Total: 8190.33 USD - Comm.: 24.64 USD",
          "opacity": 0.6,
          "showarrow": true,
          "x": 130,
          "xref": "x",
          "y": 8481.11,
          "yref": "y"
         },
         {
          "arrowcolor": "FireBrick",
          "arrowhead": 2,
          "arrowsize": 0.8,
          "arrowwidth": 4,
          "ax": 0,
          "ay": -15,
          "hoverlabel": {
           "bgcolor": "FireBrick"
          },
          "hovertext": "Step 124 [2018-05-20 09:00:00]<br>SELL 0.27049566 BTC @ 8350.62 USD MARKET<br>Total: 2258.81 USD - Comm.: 0.00081393 BTC",
          "opacity": 0.6,
          "showarrow": true,
          "x": 123,
          "xref": "x",
          "y": 8350.62,
          "yref": "y"
         },
         {
          "arrowcolor": "DarkGreen",
          "arrowhead": 2,
          "arrowsize": 0.8,
          "arrowwidth": 4,
          "ax": 0,
          "ay": 15,
          "hoverlabel": {
           "bgcolor": "DarkGreen"
          },
          "hovertext": "Step 111 [2018-05-19 20:00:00]<br>BUY 0.27130959 BTC @ 8240.07 USD MARKET<br>Total: 2235.61 USD - Comm.: 6.73 USD",
          "opacity": 0.6,
          "showarrow": true,
          "x": 110,
          "xref": "x",
          "y": 8240.07,
          "yref": "y"
         },
         {
          "arrowcolor": "FireBrick",
          "arrowhead": 2,
          "arrowsize": 0.8,
          "arrowwidth": 4,
          "ax": 0,
          "ay": -15,
          "hoverlabel": {
           "bgcolor": "FireBrick"
          },
          "hovertext": "Step 103 [2018-05-19 12:00:00]<br>SELL 0.31880399 BTC @ 8348.65 USD MARKET<br>Total: 2661.58 USD - Comm.: 0.00095929 BTC",
          "opacity": 0.6,
          "showarrow": true,
          "x": 102,
          "xref": "x",
          "y": 8348.65,
          "yref": "y"
         },
         {
          "arrowcolor": "FireBrick",
          "arrowhead": 2,
          "arrowsize": 0.8,
          "arrowwidth": 4,
          "ax": 0,
          "ay": -15,
          "hoverlabel": {
           "bgcolor": "FireBrick"
          },
          "hovertext": "Step 102 [2018-05-19 11:00:00]<br>SELL 0.00352023 BTC @ 8365.0 USD MARKET<br>Total: 29.45 USD - Comm.: 0.00001059 BTC",
          "opacity": 0.6,
          "showarrow": true,
          "x": 101,
          "xref": "x",
          "y": 8365.0,
          "yref": "y"
         },
         {
          "arrowcolor": "FireBrick",
          "arrowhead": 2,
          "arrowsize": 0.8,
          "arrowwidth": 4,
          "ax": 0,
          "ay": -15,
          "hoverlabel": {
           "bgcolor": "FireBrick"
          },
          "hovertext": "Step 102 [2018-05-19 11:00:00]<br>SELL 0.34845336 BTC @ 8365.0 USD MARKET<br>Total: 2914.81 USD - Comm.: 0.00104851 BTC",
          "opacity": 0.6,
          "showarrow": true,
          "x": 101,
          "xref": "x",
          "y": 8365.0,
          "yref": "y"
         }
        ],
        "margin": {
         "t": 50
        },
        "template": {
         "data": {
          "bar": [
           {
            "error_x": {
             "color": "#2a3f5f"
            },
            "error_y": {
             "color": "#2a3f5f"
            },
            "marker": {
             "line": {
              "color": "white",
              "width": 0.5
             }
            },
            "type": "bar"
           }
          ],
          "barpolar": [
           {
            "marker": {
             "line": {
              "color": "white",
              "width": 0.5
             }
            },
            "type": "barpolar"
           }
          ],
          "carpet": [
           {
            "aaxis": {
             "endlinecolor": "#2a3f5f",
             "gridcolor": "#C8D4E3",
             "linecolor": "#C8D4E3",
             "minorgridcolor": "#C8D4E3",
             "startlinecolor": "#2a3f5f"
            },
            "baxis": {
             "endlinecolor": "#2a3f5f",
             "gridcolor": "#C8D4E3",
             "linecolor": "#C8D4E3",
             "minorgridcolor": "#C8D4E3",
             "startlinecolor": "#2a3f5f"
            },
            "type": "carpet"
           }
          ],
          "choropleth": [
           {
            "colorbar": {
             "outlinewidth": 0,
             "ticks": ""
            },
            "type": "choropleth"
           }
          ],
          "contour": [
           {
            "colorbar": {
             "outlinewidth": 0,
             "ticks": ""
            },
            "colorscale": [
             [
              0.0,
              "#0d0887"
             ],
             [
              0.1111111111111111,
              "#46039f"
             ],
             [
              0.2222222222222222,
              "#7201a8"
             ],
             [
              0.3333333333333333,
              "#9c179e"
             ],
             [
              0.4444444444444444,
              "#bd3786"
             ],
             [
              0.5555555555555556,
              "#d8576b"
             ],
             [
              0.6666666666666666,
              "#ed7953"
             ],
             [
              0.7777777777777778,
              "#fb9f3a"
             ],
             [
              0.8888888888888888,
              "#fdca26"
             ],
             [
              1.0,
              "#f0f921"
             ]
            ],
            "type": "contour"
           }
          ],
          "contourcarpet": [
           {
            "colorbar": {
             "outlinewidth": 0,
             "ticks": ""
            },
            "type": "contourcarpet"
           }
          ],
          "heatmap": [
           {
            "colorbar": {
             "outlinewidth": 0,
             "ticks": ""
            },
            "colorscale": [
             [
              0.0,
              "#0d0887"
             ],
             [
              0.1111111111111111,
              "#46039f"
             ],
             [
              0.2222222222222222,
              "#7201a8"
             ],
             [
              0.3333333333333333,
              "#9c179e"
             ],
             [
              0.4444444444444444,
              "#bd3786"
             ],
             [
              0.5555555555555556,
              "#d8576b"
             ],
             [
              0.6666666666666666,
              "#ed7953"
             ],
             [
              0.7777777777777778,
              "#fb9f3a"
             ],
             [
              0.8888888888888888,
              "#fdca26"
             ],
             [
              1.0,
              "#f0f921"
             ]
            ],
            "type": "heatmap"
           }
          ],
          "heatmapgl": [
           {
            "colorbar": {
             "outlinewidth": 0,
             "ticks": ""
            },
            "colorscale": [
             [
              0.0,
              "#0d0887"
             ],
             [
              0.1111111111111111,
              "#46039f"
             ],
             [
              0.2222222222222222,
              "#7201a8"
             ],
             [
              0.3333333333333333,
              "#9c179e"
             ],
             [
              0.4444444444444444,
              "#bd3786"
             ],
             [
              0.5555555555555556,
              "#d8576b"
             ],
             [
              0.6666666666666666,
              "#ed7953"
             ],
             [
              0.7777777777777778,
              "#fb9f3a"
             ],
             [
              0.8888888888888888,
              "#fdca26"
             ],
             [
              1.0,
              "#f0f921"
             ]
            ],
            "type": "heatmapgl"
           }
          ],
          "histogram": [
           {
            "marker": {
             "colorbar": {
              "outlinewidth": 0,
              "ticks": ""
             }
            },
            "type": "histogram"
           }
          ],
          "histogram2d": [
           {
            "colorbar": {
             "outlinewidth": 0,
             "ticks": ""
            },
            "colorscale": [
             [
              0.0,
              "#0d0887"
             ],
             [
              0.1111111111111111,
              "#46039f"
             ],
             [
              0.2222222222222222,
              "#7201a8"
             ],
             [
              0.3333333333333333,
              "#9c179e"
             ],
             [
              0.4444444444444444,
              "#bd3786"
             ],
             [
              0.5555555555555556,
              "#d8576b"
             ],
             [
              0.6666666666666666,
              "#ed7953"
             ],
             [
              0.7777777777777778,
              "#fb9f3a"
             ],
             [
              0.8888888888888888,
              "#fdca26"
             ],
             [
              1.0,
              "#f0f921"
             ]
            ],
            "type": "histogram2d"
           }
          ],
          "histogram2dcontour": [
           {
            "colorbar": {
             "outlinewidth": 0,
             "ticks": ""
            },
            "colorscale": [
             [
              0.0,
              "#0d0887"
             ],
             [
              0.1111111111111111,
              "#46039f"
             ],
             [
              0.2222222222222222,
              "#7201a8"
             ],
             [
              0.3333333333333333,
              "#9c179e"
             ],
             [
              0.4444444444444444,
              "#bd3786"
             ],
             [
              0.5555555555555556,
              "#d8576b"
             ],
             [
              0.6666666666666666,
              "#ed7953"
             ],
             [
              0.7777777777777778,
              "#fb9f3a"
             ],
             [
              0.8888888888888888,
              "#fdca26"
             ],
             [
              1.0,
              "#f0f921"
             ]
            ],
            "type": "histogram2dcontour"
           }
          ],
          "mesh3d": [
           {
            "colorbar": {
             "outlinewidth": 0,
             "ticks": ""
            },
            "type": "mesh3d"
           }
          ],
          "parcoords": [
           {
            "line": {
             "colorbar": {
              "outlinewidth": 0,
              "ticks": ""
             }
            },
            "type": "parcoords"
           }
          ],
          "pie": [
           {
            "automargin": true,
            "type": "pie"
           }
          ],
          "scatter": [
           {
            "marker": {
             "colorbar": {
              "outlinewidth": 0,
              "ticks": ""
             }
            },
            "type": "scatter"
           }
          ],
          "scatter3d": [
           {
            "line": {
             "colorbar": {
              "outlinewidth": 0,
              "ticks": ""
             }
            },
            "marker": {
             "colorbar": {
              "outlinewidth": 0,
              "ticks": ""
             }
            },
            "type": "scatter3d"
           }
          ],
          "scattercarpet": [
           {
            "marker": {
             "colorbar": {
              "outlinewidth": 0,
              "ticks": ""
             }
            },
            "type": "scattercarpet"
           }
          ],
          "scattergeo": [
           {
            "marker": {
             "colorbar": {
              "outlinewidth": 0,
              "ticks": ""
             }
            },
            "type": "scattergeo"
           }
          ],
          "scattergl": [
           {
            "marker": {
             "colorbar": {
              "outlinewidth": 0,
              "ticks": ""
             }
            },
            "type": "scattergl"
           }
          ],
          "scattermapbox": [
           {
            "marker": {
             "colorbar": {
              "outlinewidth": 0,
              "ticks": ""
             }
            },
            "type": "scattermapbox"
           }
          ],
          "scatterpolar": [
           {
            "marker": {
             "colorbar": {
              "outlinewidth": 0,
              "ticks": ""
             }
            },
            "type": "scatterpolar"
           }
          ],
          "scatterpolargl": [
           {
            "marker": {
             "colorbar": {
              "outlinewidth": 0,
              "ticks": ""
             }
            },
            "type": "scatterpolargl"
           }
          ],
          "scatterternary": [
           {
            "marker": {
             "colorbar": {
              "outlinewidth": 0,
              "ticks": ""
             }
            },
            "type": "scatterternary"
           }
          ],
          "surface": [
           {
            "colorbar": {
             "outlinewidth": 0,
             "ticks": ""
            },
            "colorscale": [
             [
              0.0,
              "#0d0887"
             ],
             [
              0.1111111111111111,
              "#46039f"
             ],
             [
              0.2222222222222222,
              "#7201a8"
             ],
             [
              0.3333333333333333,
              "#9c179e"
             ],
             [
              0.4444444444444444,
              "#bd3786"
             ],
             [
              0.5555555555555556,
              "#d8576b"
             ],
             [
              0.6666666666666666,
              "#ed7953"
             ],
             [
              0.7777777777777778,
              "#fb9f3a"
             ],
             [
              0.8888888888888888,
              "#fdca26"
             ],
             [
              1.0,
              "#f0f921"
             ]
            ],
            "type": "surface"
           }
          ],
          "table": [
           {
            "cells": {
             "fill": {
              "color": "#EBF0F8"
             },
             "line": {
              "color": "white"
             }
            },
            "header": {
             "fill": {
              "color": "#C8D4E3"
             },
             "line": {
              "color": "white"
             }
            },
            "type": "table"
           }
          ]
         },
         "layout": {
          "annotationdefaults": {
           "arrowcolor": "#2a3f5f",
           "arrowhead": 0,
           "arrowwidth": 1
          },
          "autotypenumbers": "strict",
          "coloraxis": {
           "colorbar": {
            "outlinewidth": 0,
            "ticks": ""
           }
          },
          "colorscale": {
           "diverging": [
            [
             0,
             "#8e0152"
            ],
            [
             0.1,
             "#c51b7d"
            ],
            [
             0.2,
             "#de77ae"
            ],
            [
             0.3,
             "#f1b6da"
            ],
            [
             0.4,
             "#fde0ef"
            ],
            [
             0.5,
             "#f7f7f7"
            ],
            [
             0.6,
             "#e6f5d0"
            ],
            [
             0.7,
             "#b8e186"
            ],
            [
             0.8,
             "#7fbc41"
            ],
            [
             0.9,
             "#4d9221"
            ],
            [
             1,
             "#276419"
            ]
           ],
           "sequential": [
            [
             0.0,
             "#0d0887"
            ],
            [
             0.1111111111111111,
             "#46039f"
            ],
            [
             0.2222222222222222,
             "#7201a8"
            ],
            [
             0.3333333333333333,
             "#9c179e"
            ],
            [
             0.4444444444444444,
             "#bd3786"
            ],
            [
             0.5555555555555556,
             "#d8576b"
            ],
            [
             0.6666666666666666,
             "#ed7953"
            ],
            [
             0.7777777777777778,
             "#fb9f3a"
            ],
            [
             0.8888888888888888,
             "#fdca26"
            ],
            [
             1.0,
             "#f0f921"
            ]
           ],
           "sequentialminus": [
            [
             0.0,
             "#0d0887"
            ],
            [
             0.1111111111111111,
             "#46039f"
            ],
            [
             0.2222222222222222,
             "#7201a8"
            ],
            [
             0.3333333333333333,
             "#9c179e"
            ],
            [
             0.4444444444444444,
             "#bd3786"
            ],
            [
             0.5555555555555556,
             "#d8576b"
            ],
            [
             0.6666666666666666,
             "#ed7953"
            ],
            [
             0.7777777777777778,
             "#fb9f3a"
            ],
            [
             0.8888888888888888,
             "#fdca26"
            ],
            [
             1.0,
             "#f0f921"
            ]
           ]
          },
          "colorway": [
           "#636efa",
           "#EF553B",
           "#00cc96",
           "#ab63fa",
           "#FFA15A",
           "#19d3f3",
           "#FF6692",
           "#B6E880",
           "#FF97FF",
           "#FECB52"
          ],
          "font": {
           "color": "#2a3f5f"
          },
          "geo": {
           "bgcolor": "white",
           "lakecolor": "white",
           "landcolor": "white",
           "showlakes": true,
           "showland": true,
           "subunitcolor": "#C8D4E3"
          },
          "hoverlabel": {
           "align": "left"
          },
          "hovermode": "closest",
          "mapbox": {
           "style": "light"
          },
          "paper_bgcolor": "white",
          "plot_bgcolor": "white",
          "polar": {
           "angularaxis": {
            "gridcolor": "#EBF0F8",
            "linecolor": "#EBF0F8",
            "ticks": ""
           },
           "bgcolor": "white",
           "radialaxis": {
            "gridcolor": "#EBF0F8",
            "linecolor": "#EBF0F8",
            "ticks": ""
           }
          },
          "scene": {
           "xaxis": {
            "backgroundcolor": "white",
            "gridcolor": "#DFE8F3",
            "gridwidth": 2,
            "linecolor": "#EBF0F8",
            "showbackground": true,
            "ticks": "",
            "zerolinecolor": "#EBF0F8"
           },
           "yaxis": {
            "backgroundcolor": "white",
            "gridcolor": "#DFE8F3",
            "gridwidth": 2,
            "linecolor": "#EBF0F8",
            "showbackground": true,
            "ticks": "",
            "zerolinecolor": "#EBF0F8"
           },
           "zaxis": {
            "backgroundcolor": "white",
            "gridcolor": "#DFE8F3",
            "gridwidth": 2,
            "linecolor": "#EBF0F8",
            "showbackground": true,
            "ticks": "",
            "zerolinecolor": "#EBF0F8"
           }
          },
          "shapedefaults": {
           "line": {
            "color": "#2a3f5f"
           }
          },
          "ternary": {
           "aaxis": {
            "gridcolor": "#DFE8F3",
            "linecolor": "#A2B1C6",
            "ticks": ""
           },
           "baxis": {
            "gridcolor": "#DFE8F3",
            "linecolor": "#A2B1C6",
            "ticks": ""
           },
           "bgcolor": "white",
           "caxis": {
            "gridcolor": "#DFE8F3",
            "linecolor": "#A2B1C6",
            "ticks": ""
           }
          },
          "title": {
           "x": 0.05
          },
          "xaxis": {
           "automargin": true,
           "gridcolor": "#EBF0F8",
           "linecolor": "#EBF0F8",
           "ticks": "",
           "title": {
            "standoff": 15
           },
           "zerolinecolor": "#EBF0F8",
           "zerolinewidth": 2
          },
          "yaxis": {
           "automargin": true,
           "gridcolor": "#EBF0F8",
           "linecolor": "#EBF0F8",
           "ticks": "",
           "title": {
            "standoff": 15
           },
           "zerolinecolor": "#EBF0F8",
           "zerolinewidth": 2
          }
         }
        },
        "title": {
         "text": "[2021-02-12 00:08:26 AM] Episode: 2/2 Step: 151/200"
        },
        "xaxis": {
         "anchor": "y",
         "domain": [
          0.0,
          1.0
         ],
         "gridcolor": "Gainsboro",
         "linecolor": "Grey",
         "matches": "x4",
         "rangeslider": {
          "visible": false
         },
         "showticklabels": false,
         "title": {
          "font": {
           "size": 12
          },
          "standoff": 7,
          "text": "Price"
         }
        },
        "xaxis2": {
         "anchor": "y2",
         "domain": [
          0.0,
          1.0
         ],
         "gridcolor": "Gainsboro",
         "linecolor": "Grey",
         "matches": "x4",
         "showticklabels": false,
         "title": {
          "font": {
           "size": 12
          },
          "standoff": 7,
          "text": "Volume"
         }
        },
        "xaxis3": {
         "anchor": "y3",
         "domain": [
          0.0,
          1.0
         ],
         "gridcolor": "Gainsboro",
         "linecolor": "Grey",
         "matches": "x4",
         "showticklabels": false,
         "title": {
          "font": {
           "size": 12
          },
          "standoff": 7,
          "text": "Performance"
         }
        },
        "xaxis4": {
         "anchor": "y4",
         "domain": [
          0.0,
          1.0
         ],
         "gridcolor": "Gainsboro",
         "linecolor": "Grey",
         "title": {
          "font": {
           "size": 12
          },
          "standoff": 7,
          "text": "Net Worth"
         }
        },
        "yaxis": {
         "anchor": "x",
         "domain": [
          0.49950000000000006,
          1.0
         ],
         "gridcolor": "Gainsboro",
         "linecolor": "Grey"
        },
        "yaxis2": {
         "anchor": "x2",
         "domain": [
          0.333,
          0.46950000000000003
         ],
         "gridcolor": "Gainsboro",
         "linecolor": "Grey"
        },
        "yaxis3": {
         "anchor": "x3",
         "domain": [
          0.1665,
          0.30300000000000005
         ],
         "gridcolor": "Gainsboro",
         "linecolor": "Grey"
        },
        "yaxis4": {
         "anchor": "x4",
         "domain": [
          0.0,
          0.1365
         ],
         "gridcolor": "Gainsboro",
         "linecolor": "Grey"
        }
       }
      },
      "text/html": "<div>                            <div id=\"d095a009-4616-4978-93ea-a0c13089d6e7\" class=\"plotly-graph-div\" style=\"height:525px; width:100%;\"></div>            <script type=\"text/javascript\">                require([\"plotly\"], function(Plotly) {                    window.PLOTLYENV=window.PLOTLYENV || {};                                    if (document.getElementById(\"d095a009-4616-4978-93ea-a0c13089d6e7\")) {                    Plotly.newPlot(                        \"d095a009-4616-4978-93ea-a0c13089d6e7\",                        [{\"close\": [8740.99, 8739.0, 8728.49, 8708.32, 8795.9, 8760.0, 8760.0, 8759.23, 8517.77, 8520.3, 8535.23, 8546.34, 8526.65, 8555.6, 8512.1, 8492.28, 8460.0, 8474.99, 8455.92, 8326.28, 8133.43, 8164.79, 8229.38, 8220.4, 8238.8, 8232.99, 8207.48, 8243.45, 8371.13, 8373.0, 8365.08, 8179.99, 8225.0, 8285.8, 8273.4, 8297.4, 8279.89, 8252.72, 8302.18, 8295.85, 8277.25, 8346.59, 8358.3, 8375.1, 8368.62, 8366.72, 8314.77, 8363.7, 8344.16, 8247.4, 8277.4, 8291.67, 8307.89, 8298.9, 8269.47, 8300.98, 8318.49, 8306.39, 8276.43, 8257.69, 8166.0, 8176.33, 8200.7, 8155.41, 8080.0, 8067.03, 7958.08, 7974.25, 7998.5, 7991.99, 8022.7, 8042.97, 7965.67, 8088.95, 8122.19, 8107.99, 8137.73, 8115.0, 8107.0, 8094.4, 8080.01, 8117.09, 8126.99, 8110.95, 8215.39, 8231.42, 8240.13, 8235.0, 8219.9, 8248.87, 8213.5, 8200.99, 8200.0, 8237.3, 8228.13, 8240.83, 8214.9, 8170.07, 8229.87, 8205.87, 8252.56, 8365.0, 8348.65, 8303.99, 8310.48, 8310.0, 8289.87, 8304.99, 8301.35, 8313.12, 8240.07, 8199.99, 8226.98, 8231.2, 8198.89, 8215.85, 8279.99, 8255.08, 8270.4, 8244.24, 8239.12, 8267.14, 8282.27, 8350.62, 8336.6, 8336.91, 8311.21, 8312.09, 8345.19, 8377.2, 8481.11, 8516.36, 8524.0, 8517.04, 8558.5, 8521.99, 8484.93, 8518.48, 8488.99, 8466.72, 8492.55, 8494.28, 8510.95, 8498.64, 8551.1, 8524.22, 8510.11, 8475.62, 8476.58, 8467.13, 8499.84], \"high\": [8796.68, 8766.0, 8750.27, 8754.4, 8865.0, 8821.19, 8798.6, 8771.02, 8761.7, 8553.67, 8589.1, 8579.48, 8555.51, 8583.6, 8569.92, 8555.54, 8557.51, 8505.0, 8505.33, 8478.29, 8339.81, 8217.44, 8252.72, 8248.63, 8267.12, 8255.0, 8261.24, 8263.93, 8455.66, 8439.44, 8399.1, 8381.73, 8229.91, 8377.29, 8329.1, 8350.0, 8346.95, 8377.29, 8311.35, 8319.96, 8398.24, 8372.58, 8399.99, 8386.53, 8400.0, 8500.0, 8381.0, 8371.3, 8382.41, 8351.0, 8292.99, 8325.8, 8318.99, 8324.9, 8335.56, 8309.4, 8377.29, 8330.41, 8328.23, 8284.36, 8274.83, 8200.0, 8232.14, 8213.97, 8155.41, 8108.28, 8068.92, 8019.9, 8026.66, 8025.0, 8104.69, 8061.39, 8045.99, 8170.71, 8144.16, 8139.99, 8152.99, 8137.73, 8143.72, 8129.99, 8106.76, 8139.0, 8152.04, 8146.99, 8232.14, 8275.1, 8256.12, 8274.1, 8255.8, 8253.97, 8261.09, 8235.76, 8227.0, 8273.36, 8264.21, 8250.0, 8250.86, 8235.77, 8232.12, 8232.14, 8252.72, 8370.0, 8395.0, 8374.48, 8331.0, 8319.43, 8323.4, 8314.55, 8330.62, 8314.8, 8323.99, 8263.03, 8247.78, 8253.75, 8237.89, 8235.0, 8279.99, 8290.0, 8278.71, 8275.34, 8279.31, 8279.98, 8294.04, 8356.4, 8374.94, 8354.83, 8360.45, 8337.14, 8351.97, 8377.29, 8549.0, 8531.9, 8551.79, 8529.9, 8590.0, 8576.1, 8549.89, 8531.89, 8550.0, 8493.29, 8522.98, 8517.0, 8537.29, 8524.51, 8589.1, 8589.07, 8536.92, 8524.03, 8497.8, 8498.0, 8513.5], \"low\": [8707.28, 8721.11, 8660.53, 8701.35, 8695.11, 8740.54, 8741.52, 8700.0, 8467.42, 8477.89, 8500.78, 8500.0, 8400.0, 8451.05, 8461.38, 8481.24, 8420.37, 8450.0, 8430.94, 8275.02, 8100.01, 8122.56, 8157.01, 8166.25, 8176.91, 8213.79, 8200.0, 8207.48, 8237.1, 8370.0, 8356.4, 8145.1, 8173.6, 8211.8, 8201.0, 8250.9, 8266.46, 8252.72, 8232.14, 8268.37, 8277.25, 8277.25, 8314.78, 8314.77, 8350.07, 8331.39, 8314.77, 8275.45, 8335.49, 8191.14, 8227.7, 8264.13, 8249.93, 8269.52, 8219.44, 8262.68, 8286.65, 8289.87, 8232.14, 8232.14, 8110.02, 8154.95, 8168.6, 8151.0, 7980.0, 8005.95, 7929.53, 7931.03, 7950.0, 7980.58, 7991.99, 7992.75, 7953.4, 7965.67, 8085.94, 8078.48, 8092.9, 8049.22, 8079.46, 8062.12, 8043.96, 8063.1, 8088.46, 8094.43, 8088.46, 8191.14, 8212.0, 8224.5, 8211.0, 8211.01, 8210.03, 8158.27, 8177.65, 8179.41, 8221.92, 8217.32, 8213.52, 8141.08, 8146.1, 8186.03, 8197.09, 8231.21, 8323.82, 8296.0, 8296.31, 8282.65, 8280.0, 8273.36, 8290.08, 8277.93, 8240.07, 8191.14, 8178.0, 8193.7, 8180.0, 8170.71, 8215.53, 8240.02, 8237.17, 8237.17, 8239.12, 8227.79, 8247.57, 8274.24, 8326.1, 8320.61, 8281.31, 8269.85, 8311.16, 8336.11, 8369.86, 8471.51, 8511.0, 8476.66, 8507.68, 8509.24, 8482.53, 8484.93, 8450.0, 8434.47, 8461.1, 8481.0, 8480.0, 8488.1, 8471.09, 8509.2, 8482.64, 8469.0, 8440.4, 8440.52, 8461.8], \"name\": \"Price\", \"open\": [8733.86, 8740.99, 8739.0, 8728.49, 8708.32, 8795.9, 8760.0, 8760.0, 8759.23, 8517.77, 8520.3, 8535.23, 8546.34, 8526.65, 8555.6, 8512.1, 8492.28, 8460.0, 8474.99, 8455.92, 8326.28, 8133.43, 8164.79, 8229.38, 8220.4, 8238.8, 8232.99, 8207.48, 8243.45, 8371.13, 8373.0, 8365.08, 8179.99, 8225.0, 8285.8, 8273.4, 8297.4, 8279.89, 8252.72, 8302.18, 8295.85, 8277.25, 8346.59, 8358.3, 8375.1, 8368.62, 8366.72, 8314.77, 8363.7, 8344.16, 8247.4, 8277.4, 8291.67, 8307.89, 8298.9, 8269.47, 8300.98, 8318.49, 8306.39, 8276.43, 8257.69, 8166.0, 8176.33, 8200.7, 8155.41, 8080.0, 8067.03, 7958.08, 7974.25, 7998.5, 7991.99, 8022.7, 8042.97, 7965.67, 8088.95, 8122.19, 8107.99, 8137.73, 8115.0, 8107.0, 8094.4, 8080.01, 8117.09, 8126.99, 8110.95, 8215.39, 8231.42, 8240.13, 8235.0, 8219.9, 8248.87, 8213.5, 8200.99, 8200.0, 8237.3, 8228.13, 8240.83, 8214.9, 8170.07, 8229.87, 8205.87, 8252.56, 8365.0, 8348.65, 8303.99, 8310.48, 8310.0, 8289.87, 8304.99, 8301.35, 8313.12, 8240.07, 8199.99, 8226.98, 8231.2, 8198.89, 8215.85, 8279.99, 8255.08, 8270.4, 8244.24, 8239.12, 8267.14, 8282.27, 8350.62, 8336.6, 8336.91, 8311.21, 8312.09, 8345.19, 8377.2, 8481.11, 8516.36, 8524.0, 8517.04, 8558.5, 8521.99, 8484.93, 8518.48, 8488.99, 8466.72, 8492.55, 8494.28, 8510.95, 8498.64, 8551.1, 8524.22, 8510.11, 8475.62, 8476.58, 8467.13], \"showlegend\": false, \"type\": \"candlestick\", \"uid\": \"5d9cbee0-de77-4557-a546-4573fc3c95e9\", \"xaxis\": \"x\", \"yaxis\": \"y\"}, {\"marker\": {\"color\": \"DodgerBlue\"}, \"name\": \"Volume\", \"showlegend\": false, \"type\": \"bar\", \"uid\": \"14a86980-c226-4a52-ae75-2f3d7c02334f\", \"xaxis\": \"x2\", \"y\": [559.93, 273.58, 917.79, 182.62, 1260.69, 324.11, 324.2, 730.67, 1341.75, 792.07, 385.69, 475.08, 877.26, 670.49, 610.97, 168.99, 305.92, 136.05, 154.26, 1070.93, 1710.2, 492.8, 630.72, 620.93, 586.34, 304.52, 450.97, 182.36, 915.32, 319.29, 362.01, 1046.38, 357.91, 561.2, 322.53, 1073.71, 237.21, 251.2, 359.73, 117.23, 363.17, 214.18, 171.64, 258.58, 299.52, 718.98, 119.7, 405.25, 210.77, 714.82, 215.97, 164.2, 201.55, 203.41, 886.82, 95.49, 499.67, 172.77, 355.39, 255.27, 591.06, 133.1, 149.13, 87.55, 1061.54, 286.94, 524.42, 316.0, 441.43, 189.7, 844.94, 155.34, 257.56, 610.69, 217.97, 173.18, 218.06, 372.97, 484.39, 248.1, 162.35, 303.42, 290.69, 160.93, 369.4, 487.27, 93.35, 96.68, 72.14, 90.22, 168.52, 203.15, 71.42, 464.56, 57.0, 89.42, 49.47, 200.05, 254.37, 65.05, 118.19, 452.4, 181.03, 288.04, 145.78, 110.14, 55.48, 80.87, 67.01, 59.16, 121.26, 244.37, 156.87, 80.48, 139.32, 93.52, 200.23, 97.4, 68.08, 47.0, 36.65, 28.75, 182.85, 400.18, 288.1, 182.94, 777.81, 493.59, 118.63, 174.37, 901.75, 222.45, 113.8, 84.2, 261.44, 168.78, 111.07, 122.12, 267.32, 210.39, 211.36, 146.22, 93.39, 89.04, 307.59, 307.2, 164.24, 151.21, 399.77, 362.01, 260.85], \"yaxis\": \"y2\"}, {\"mode\": \"lines\", \"name\": \"bitstamp:/USD-BTC\", \"type\": \"scatter\", \"uid\": \"574af33e-2e53-4600-af77-543cc2191f5e\", \"xaxis\": \"x3\", \"y\": [8740.99, 8739.0, 8728.49, 8708.32, 8795.9, 8760.0, 8760.0, 8759.23, 8517.77, 8520.3, 8535.23, 8546.34, 8526.65, 8555.6, 8512.1, 8492.28, 8460.0, 8474.99, 8455.92, 8326.28, 8133.43, 8164.79, 8229.38, 8220.4, 8238.8, 8232.99, 8207.48, 8243.45, 8371.13, 8373.0, 8365.08, 8179.99, 8225.0, 8285.8, 8273.4, 8297.4, 8279.89, 8252.72, 8302.18, 8295.85, 8277.25, 8346.59, 8358.3, 8375.1, 8368.62, 8366.72, 8314.77, 8363.7, 8344.16, 8247.4, 8277.4, 8291.67, 8307.89, 8298.9, 8269.47, 8300.98, 8318.49, 8306.39, 8276.43, 8257.69, 8166.0, 8176.33, 8200.7, 8155.41, 8080.0, 8067.03, 7958.08, 7974.25, 7998.5, 7991.99, 8022.7, 8042.97, 7965.67, 8088.95, 8122.19, 8107.99, 8137.73, 8115.0, 8107.0, 8094.4, 8080.01, 8117.09, 8126.99, 8110.95, 8215.39, 8231.42, 8240.13, 8235.0, 8219.9, 8248.87, 8213.5, 8200.99, 8200.0, 8237.3, 8228.13, 8240.83, 8214.9, 8170.07, 8229.87, 8205.87, 8252.56, 8365.0, 8348.65, 8303.99, 8310.48, 8310.0, 8289.87, 8304.99, 8301.35, 8313.12, 8240.07, 8199.99, 8226.98, 8231.2, 8198.89, 8215.85, 8279.99, 8255.08, 8270.4, 8244.24, 8239.12, 8267.14, 8282.27, 8350.62, 8336.6, 8336.91, 8311.21, 8312.09, 8345.19, 8377.2, 8481.11, 8516.36, 8524.0, 8517.04, 8558.5, 8521.99, 8484.93, 8518.48, 8488.99, 8466.72, 8492.55, 8494.28, 8510.95, 8498.64, 8551.1, 8524.22, 8510.11, 8475.62, 8476.58, 8467.13, 8499.84], \"yaxis\": \"y3\"}, {\"mode\": \"lines\", \"name\": \"bitstamp:/USD:/free\", \"type\": \"scatter\", \"uid\": \"ff5fe72f-8fec-4094-8d5a-9b1db2e631dc\", \"xaxis\": \"x3\", \"y\": [10000.0, 10000.0, 10000.0, 5000.0, 4000.0, 4000.0, 4000.0, 4000.0, 3200.0, 3200.0, 3200.0, 3200.0, 3200.0, 320.0, 320.0, 320.0, 320.0, 288.0, 288.0, 0.0, 0.0, 5644.96, 6576.93, 6576.93, 6576.93, 6576.93, 6576.93, 6576.93, 6576.93, 2630.77, 0.0, 0.0, 6579.31, 6579.31, 6579.31, 6579.31, 6579.31, 6579.31, 6579.31, 6579.31, 6579.31, 6579.31, 3289.65, 3289.65, 3289.65, 3289.65, 0.0, 0.0, 0.0, 0.0, 0.0, 0.0, 0.0, 0.0, 0.0, 0.0, 0.0, 0.0, 0.0, 0.0, 0.0, 5749.56, 5749.56, 2874.78, 2874.78, 2874.78, 287.48, 287.48, 287.48, 287.48, 287.48, 287.48, 287.48, 287.48, 287.48, 287.48, 287.48, 287.48, 287.48, 287.48, 287.48, 287.48, 258.73, 258.73, 258.73, 258.73, 77.62, 77.62, 77.62, 23.29, 23.29, 0.0, 0.0, 0.0, 0.0, 0.0, 0.0, 0.0, 0.0, 0.0, 0.0, 0.0, 2944.26, 5605.84, 5605.84, 5605.84, 5605.84, 5605.84, 5605.84, 5605.84, 5605.84, 3363.5, 3363.5, 3363.5, 3363.5, 3363.5, 3363.5, 3363.5, 3363.5, 3363.5, 3363.5, 3363.5, 3363.5, 3363.5, 5622.31, 5622.31, 5622.31, 5622.31, 5622.31, 5622.31, 5622.31, 4707.24, 4763.2, 4763.2, 4286.88, 4286.88, 4286.88, 4286.88, 4286.88, 4286.88, 4286.88, 4286.88, 4286.88, 4286.88, 4286.88, 4286.88, 4286.88, 4286.88, 4286.88, 4286.88, 4286.88], \"yaxis\": \"y3\"}, {\"mode\": \"lines\", \"name\": \"bitstamp:/USD:/locked\", \"type\": \"scatter\", \"uid\": \"b65b6550-ac6d-4f1e-8514-e0d91d4a02fa\", \"xaxis\": \"x3\", \"y\": [0.0, 8714.77, 16556.27, 16556.27, 16556.27, 87589.32, 87589.32, 87589.32, 87589.32, 79747.82, 87544.66, 87544.66, 87544.66, 87544.66, 87544.66, 87544.66, 87544.66, 87544.66, 87544.66, 87544.66, 0.0, 0.0, 8533.24, 37173.72, 42045.02, 46439.0, 50390.8, 53936.4, 57141.42, 57141.42, 57141.42, 62995.58, 65285.43, 67357.64, 74872.73, 86128.49, 86128.49, 86128.49, 86128.49, 86128.49, 86128.49, 86128.49, 86128.49, 86128.49, 78693.53, 78693.53, 78693.53, 78693.53, 78693.53, 78693.53, 78693.53, 78693.53, 78693.53, 78693.53, 78693.53, 78693.53, 78693.53, 78693.53, 78693.53, 78693.53, 78693.53, 78693.53, 78693.53, 78693.53, 78693.53, 67437.77, 67437.77, 78457.27, 78457.27, 78457.27, 78457.27, 78457.27, 78457.27, 78457.27, 78457.27, 67660.42, 67660.42, 67660.42, 67660.42, 67660.42, 67660.42, 67660.42, 67660.42, 67660.42, 67660.42, 67660.42, 67660.42, 67660.42, 67660.42, 67660.42, 67660.42, 67660.42, 67660.42, 67660.42, 67660.42, 67660.42, 67660.42, 67660.42, 67660.42, 67660.42, 67660.42, 67660.42, 67660.42, 67660.42, 67660.42, 67660.42, 67660.42, 67660.42, 67660.42, 67660.42, 67660.42, 67660.42, 67660.42, 67660.42, 67660.42, 67660.42, 67660.42, 67660.42, 67660.42, 67660.42, 67660.42, 67660.42, 67660.42, 67660.42, 67660.42, 67660.42, 67660.42, 67660.42, 67660.42, 67660.42, 67660.42, 34245.69, 17411.46, 11594.85, 8178.12, 8178.12, 8178.12, 8178.12, 8178.12, 8178.12, 8178.12, 8178.12, 8178.12, 8178.12, 8178.12, 8178.12, 8178.12, 8178.12, 8178.12, 8178.12, 8178.12], \"yaxis\": \"y3\"}, {\"mode\": \"lines\", \"name\": \"bitstamp:/USD:/total\", \"type\": \"scatter\", \"uid\": \"0fb84544-fd88-49af-9140-fc69fc077cb0\", \"xaxis\": \"x3\", \"y\": [10000.0, 18714.77, 26556.27, 21556.27, 20556.27, 91589.32, 91589.32, 91589.32, 90789.32, 82947.82, 90744.66, 90744.66, 90744.66, 87864.66, 87864.66, 87864.66, 87864.66, 87832.66, 87832.66, 87544.66, 0.0, 5644.96, 15110.17, 43750.65, 48621.95, 53015.93, 56967.73, 60513.33, 63718.35, 59772.19, 57141.42, 62995.58, 71864.74, 73936.95, 81452.04, 92707.8, 92707.8, 92707.8, 92707.8, 92707.8, 92707.8, 92707.8, 89418.14, 89418.14, 81983.18, 81983.18, 78693.53, 78693.53, 78693.53, 78693.53, 78693.53, 78693.53, 78693.53, 78693.53, 78693.53, 78693.53, 78693.53, 78693.53, 78693.53, 78693.53, 78693.53, 84443.09, 84443.09, 81568.31, 81568.31, 70312.55, 67725.25, 78744.75, 78744.75, 78744.75, 78744.75, 78744.75, 78744.75, 78744.75, 78744.75, 67947.9, 67947.9, 67947.9, 67947.9, 67947.9, 67947.9, 67947.9, 67919.15, 67919.15, 67919.15, 67919.15, 67738.04, 67738.04, 67738.04, 67683.71, 67683.71, 67660.42, 67660.42, 67660.42, 67660.42, 67660.42, 67660.42, 67660.42, 67660.42, 67660.42, 67660.42, 67660.42, 70604.68, 73266.26, 73266.26, 73266.26, 73266.26, 73266.26, 73266.26, 73266.26, 73266.26, 71023.92, 71023.92, 71023.92, 71023.92, 71023.92, 71023.92, 71023.92, 71023.92, 71023.92, 71023.92, 71023.92, 71023.92, 71023.92, 73282.73, 73282.73, 73282.73, 73282.73, 73282.73, 73282.73, 73282.73, 38952.93, 22174.66, 16358.05, 12465.0, 12465.0, 12465.0, 12465.0, 12465.0, 12465.0, 12465.0, 12465.0, 12465.0, 12465.0, 12465.0, 12465.0, 12465.0, 12465.0, 12465.0, 12465.0, 12465.0], \"yaxis\": \"y3\"}, {\"mode\": \"lines\", \"name\": \"bitstamp:/BTC:/free\", \"type\": \"scatter\", \"uid\": \"1a8e0fb8-1bbf-4b27-8697-5e130693893c\", \"xaxis\": \"x3\", \"y\": [10.0, 9.0, 8.1, 8.1, 8.1, 0.0, 0.0, 0.0, 0.0, 0.91784352, 0.0, 0.0, 0.0, 0.0, 0.0, 0.0, 0.0, 0.0, 0.0, 0.0, 10.48271616, 9.43444454, 8.49100009, 5.94370006, 5.34933005, 4.81439705, 4.33295734, 3.89966161, 3.50969545, 3.50969545, 3.50969545, 2.80775636, 2.52698072, 2.27428265, 1.36456959, 0.0, 0.0, 0.0, 0.0, 0.0, 0.0, 0.0, 0.0, 0.0, 0.0, 0.0, 0.0, 0.0, 0.0, 0.0, 0.0, 0.0, 0.0, 0.0, 0.0, 0.0, 0.0, 0.0, 0.0, 0.0, 0.0, 0.0, 0.0, 0.0, 0.0, 1.38886015, 1.38886015, 0.0, 0.0, 0.0, 0.0, 0.0, 0.0, 0.0, 0.0, 0.0, 0.0, 0.0, 0.0, 0.0, 0.0, 0.0, 0.0, 0.0, 0.0, 0.0, 0.0, 0.0, 0.0, 0.0, 0.0, 0.0, 0.0, 0.0, 0.0, 0.0, 0.0, 0.0, 0.0, 0.0, 0.0, 0.0, 0.0, 0.0, 0.0, 0.0, 0.0, 0.0, 0.0, 0.0, 0.0, 0.0, 0.0, 0.0, 0.0, 0.0, 0.0, 0.0, 0.0, 0.0, 0.0, 0.0, 0.0, 0.0, 0.0, 0.0, 0.0, 0.0, 0.0, 0.0, 0.0, 0.0, 0.0, 0.0, 0.0, 0.0, 0.0, 0.0, 0.0, 0.0, 0.0, 0.0, 0.0, 0.0, 0.0, 0.0, 0.0, 0.0, 0.0, 0.0, 0.0], \"yaxis\": \"y3\"}, {\"mode\": \"lines\", \"name\": \"bitstamp:/BTC:/locked\", \"type\": \"scatter\", \"uid\": \"a0ffd6f4-bd1f-401d-ad90-0c192ed97e4c\", \"xaxis\": \"x3\", \"y\": [0.0, 0.0, 0.0, 0.57111826, 0.68560647, 0.68560647, 0.68560647, 0.68560647, 0.7766647, 0.7766647, 0.7766647, 0.7766647, 0.7766647, 1.11341594, 1.11341594, 1.11341594, 1.11341594, 1.11718663, 1.11718663, 1.1511439, 1.1511439, 1.50328176, 1.28396638, 0.34052193, 0.34052193, 0.34052193, 0.34052193, 0.34052193, 0.34052193, 0.81050866, 1.12376317, 1.12376317, 0.3170252, 0.3170252, 0.3170252, 0.3170252, 0.3170252, 0.3170252, 0.3170252, 0.3170252, 0.3170252, 0.3170252, 0.7099749, 0.7099749, 1.59505806, 1.59505806, 1.98706114, 1.98706114, 1.98706114, 1.98706114, 1.98706114, 1.98706114, 1.98706114, 1.98706114, 1.98706114, 1.98706114, 1.98706114, 1.98706114, 1.98706114, 1.98706114, 1.98706114, 1.28085693, 1.28085693, 1.6303588, 1.6303588, 1.6303588, 1.95012208, 1.95012208, 1.95012208, 1.95012208, 1.95012208, 1.95012208, 1.95012208, 1.95012208, 1.95012208, 3.27543705, 3.27543705, 3.27543705, 3.27543705, 3.27543705, 3.27543705, 3.27543705, 3.27896787, 3.27896787, 3.27896787, 3.27896787, 3.30090455, 3.30090455, 3.30090455, 3.30749465, 3.30749465, 3.3103217, 3.3103217, 3.3103217, 3.3103217, 3.3103217, 3.3103217, 3.3103217, 3.3103217, 3.3103217, 3.3103217, 3.3103217, 2.95728901, 2.63752573, 2.63752573, 2.63752573, 2.63752573, 2.63752573, 2.63752573, 2.63752573, 2.63752573, 2.90883532, 2.90883532, 2.90883532, 2.90883532, 2.90883532, 2.90883532, 2.90883532, 2.90883532, 2.90883532, 2.90883532, 2.90883532, 2.90883532, 2.90883532, 2.63752573, 2.63752573, 2.63752573, 2.63752573, 2.63752573, 2.63752573, 2.63752573, 6.67302887, 8.6372021, 9.31753527, 9.77325345, 9.77325345, 9.77325345, 9.77325345, 9.77325345, 9.77325345, 9.77325345, 9.77325345, 9.77325345, 9.77325345, 9.77325345, 9.77325345, 9.77325345, 9.77325345, 9.77325345, 9.77325345, 9.77325345], \"yaxis\": \"y3\"}, {\"mode\": \"lines\", \"name\": \"bitstamp:/BTC:/total\", \"type\": \"scatter\", \"uid\": \"075f3401-b1c4-4304-8095-019669793920\", \"xaxis\": \"x3\", \"y\": [10.0, 9.0, 8.1, 8.67111826, 8.78560647, 0.68560647, 0.68560647, 0.68560647, 0.7766647, 1.69450822, 0.7766647, 0.7766647, 0.7766647, 1.11341594, 1.11341594, 1.11341594, 1.11341594, 1.11718663, 1.11718663, 1.1511439, 11.63386006, 10.9377263, 9.77496647, 6.28422199, 5.68985198, 5.15491898, 4.67347927, 4.24018354, 3.85021738, 4.32020411, 4.63345862, 3.93151953, 2.84400592, 2.59130785, 1.68159479, 0.3170252, 0.3170252, 0.3170252, 0.3170252, 0.3170252, 0.3170252, 0.3170252, 0.7099749, 0.7099749, 1.59505806, 1.59505806, 1.98706114, 1.98706114, 1.98706114, 1.98706114, 1.98706114, 1.98706114, 1.98706114, 1.98706114, 1.98706114, 1.98706114, 1.98706114, 1.98706114, 1.98706114, 1.98706114, 1.98706114, 1.28085693, 1.28085693, 1.6303588, 1.6303588, 3.01921895, 3.33898223, 1.95012208, 1.95012208, 1.95012208, 1.95012208, 1.95012208, 1.95012208, 1.95012208, 1.95012208, 3.27543705, 3.27543705, 3.27543705, 3.27543705, 3.27543705, 3.27543705, 3.27543705, 3.27896787, 3.27896787, 3.27896787, 3.27896787, 3.30090455, 3.30090455, 3.30090455, 3.30749465, 3.30749465, 3.3103217, 3.3103217, 3.3103217, 3.3103217, 3.3103217, 3.3103217, 3.3103217, 3.3103217, 3.3103217, 3.3103217, 3.3103217, 2.95728901, 2.63752573, 2.63752573, 2.63752573, 2.63752573, 2.63752573, 2.63752573, 2.63752573, 2.63752573, 2.90883532, 2.90883532, 2.90883532, 2.90883532, 2.90883532, 2.90883532, 2.90883532, 2.90883532, 2.90883532, 2.90883532, 2.90883532, 2.90883532, 2.90883532, 2.63752573, 2.63752573, 2.63752573, 2.63752573, 2.63752573, 2.63752573, 2.63752573, 6.67302887, 8.6372021, 9.31753527, 9.77325345, 9.77325345, 9.77325345, 9.77325345, 9.77325345, 9.77325345, 9.77325345, 9.77325345, 9.77325345, 9.77325345, 9.77325345, 9.77325345, 9.77325345, 9.77325345, 9.77325345, 9.77325345, 9.77325345], \"yaxis\": \"y3\"}, {\"mode\": \"lines\", \"name\": \"bitstamp:/BTC:/worth\", \"type\": \"scatter\", \"uid\": \"bcac39b0-0c7a-4c53-83ec-a9a65f0688f9\", \"xaxis\": \"x3\", \"y\": [87409.9, 78651.0, 70700.769, 75510.8725659232, 77277.31594947299, 6005.9126772, 6005.9126772, 6005.3847602180995, 6615.451281719, 14437.718386865998, 6629.011847381, 6637.640592198, 6622.348064254999, 9525.941416264, 9477.507822874002, 9455.439918943202, 9419.4988524, 9468.1455173837, 9446.840768349599, 9584.746431692001, 94623.1864278058, 89304.23831697699, 80441.9135688886, 51658.81844659599, 46877.552492824, 42440.3964131502, 38357.487638939594, 34953.741002813, 32230.6702162394, 36173.06901303, 38759.2520329896, 32159.7904402047, 23391.948691999998, 21471.05858353, 13912.506335585998, 2630.48489448, 2624.933783228, 2616.320208544, 2632.000274936, 2629.99350542, 2624.0968367, 2646.079364068, 5934.183206669999, 5946.11078499, 13348.4347820772, 13345.404171763199, 16521.9563550378, 16619.183256618002, 16580.3560819424, 16388.088046036, 16447.699880236, 16476.055242703802, 16508.2853743946, 16490.421694746, 16431.942485395797, 16494.5547819172, 16529.3482224786, 16505.304782684598, 16445.7724309302, 16408.5349051666, 16226.34126924, 10472.7089424669, 10503.923425851, 13296.244461107999, 13173.299104, 24356.1298462185, 26571.8877049184, 15550.76099644, 15598.05145688, 15585.3561621392, 15645.244411216001, 15684.773385777602, 15534.0289489936, 15774.439999016, 15839.2620569552, 26557.2108470295, 26654.622344896496, 26580.17166075, 26553.968164349997, 26512.69765752, 26465.5641183705, 26587.0173241845, 26648.1390898113, 26595.544445176496, 26937.999849519296, 26990.5617044754, 27199.882609591496, 27182.94896925, 27133.105310544997, 27283.093393545503, 27166.107307775, 27147.915158482996, 27144.637939999997, 27268.112939409995, 27237.757289420995, 27279.798375011, 27193.961733329998, 27045.560011519, 27243.517249179, 27164.069528379, 27318.628448551997, 27690.8410205, 24689.3708933365, 21901.9872866627, 21919.1048286504, 21917.8388163, 21864.745423355103, 21904.6248123927, 21895.024218735503, 21926.067896577602, 21733.396642001102, 23852.4205356468, 23930.9300009336, 23943.205285984004, 23849.220816794797, 23898.554663822, 24085.1273612468, 24012.6682734256, 24057.231630528, 23981.1364985568, 23966.243261718402, 24047.7488273848, 24091.7595057764, 24290.578399898404, 21987.997000718, 21988.8146336943, 21921.0302224333, 21923.3512450757, 22010.6533467387, 22095.080545356002, 22369.1458439603, 56829.9161473132, 73623.5107004, 79357.8205960008, 83644.389651825, 83287.5681683655, 82925.37139550851, 83253.264048756, 82965.0508045155, 82747.400450184, 82999.84358679749, 83016.75131526601, 83179.67145027751, 83059.362700308, 83572.06757629501, 83309.362523559, 83171.4619173795, 82834.38240588902, 82843.76472920101, 82751.4074840985, 83071.090604448], \"yaxis\": \"y3\"}, {\"mode\": \"lines\", \"name\": \"net_worth\", \"type\": \"scatter\", \"uid\": \"3740a7ea-6a47-479f-80bb-1b8efa8d6c51\", \"xaxis\": \"x3\", \"y\": [97409.9, 97365.77, 97257.039, 97067.1425659232, 97833.585949473, 97595.23267720001, 97595.23267720001, 97594.70476021811, 97404.771281719, 97385.538386866, 97373.671847381, 97382.30059219801, 97367.008064255, 97390.601416264, 97342.167822874, 97320.0999189432, 97284.1588524, 97300.8055173837, 97279.50076834961, 97129.40643169201, 94623.1864278058, 94949.198316977, 95552.0835688886, 95409.468446596, 95499.50249282399, 95456.32641315021, 95325.21763893959, 95467.071002813, 95949.0202162394, 95945.25901303001, 95900.67203298959, 95155.3704402047, 95256.688692, 95408.00858353, 95364.546335586, 95338.28489448, 95332.733783228, 95324.120208544, 95339.800274936, 95337.79350542, 95331.8968367, 95353.87936406801, 95352.32320667, 95364.25078499, 95331.61478207719, 95328.58417176318, 95215.4863550378, 95312.71325661801, 95273.8860819424, 95081.61804603599, 95141.229880236, 95169.5852427038, 95201.8153743946, 95183.951694746, 95125.47248539579, 95188.08478191719, 95222.8782224786, 95198.8347826846, 95139.3024309302, 95102.0649051666, 94919.87126924, 94915.79894246689, 94947.013425851, 94864.554461108, 94741.609104, 94668.6798462185, 94297.1377049184, 94295.51099644, 94342.80145688, 94330.1061621392, 94389.994411216, 94429.5233857776, 94278.7789489936, 94519.189999016, 94584.0120569552, 94505.11084702949, 94602.52234489648, 94528.07166074999, 94501.86816434999, 94460.59765751999, 94413.4641183705, 94534.9173241845, 94567.2890898113, 94514.69444517649, 94857.1498495193, 94909.7117044754, 94937.9226095915, 94920.98896925, 94871.14531054499, 94966.8033935455, 94849.81730777501, 94808.335158483, 94805.05794, 94928.53293941, 94898.177289421, 94940.218375011, 94854.38173333, 94705.980011519, 94903.937249179, 94824.489528379, 94979.048448552, 95351.2610205, 95294.05089333649, 95168.24728666269, 95185.3648286504, 95184.0988163, 95131.00542335509, 95170.8848123927, 95161.2842187355, 95192.3278965776, 94999.6566420011, 94876.3405356468, 94954.8500009336, 94967.125285984, 94873.1408167948, 94922.474663822, 95109.0473612468, 95036.5882734256, 95081.151630528, 95005.0564985568, 94990.16326171841, 95071.6688273848, 95115.6795057764, 95314.49839989841, 95270.727000718, 95271.5446336943, 95203.7602224333, 95206.0812450757, 95293.3833467387, 95377.810545356, 95651.8758439603, 95782.84614731319, 95798.1707004, 95715.87059600081, 96109.389651825, 95752.5681683655, 95390.37139550851, 95718.264048756, 95430.0508045155, 95212.400450184, 95464.84358679749, 95481.75131526601, 95644.67145027751, 95524.362700308, 96037.06757629501, 95774.362523559, 95636.4619173795, 95299.38240588902, 95308.76472920101, 95216.4074840985, 95536.090604448], \"yaxis\": \"y3\"}, {\"marker\": {\"color\": \"DarkGreen\"}, \"mode\": \"lines\", \"name\": \"Net Worth\", \"type\": \"scatter\", \"uid\": \"603f0991-97d2-427c-afd5-1ceb071c6a05\", \"xaxis\": \"x4\", \"y\": [97409.9, 97365.77, 97257.039, 97067.1425659232, 97833.585949473, 97595.23267720001, 97595.23267720001, 97594.70476021811, 97404.771281719, 97385.538386866, 97373.671847381, 97382.30059219801, 97367.008064255, 97390.601416264, 97342.167822874, 97320.0999189432, 97284.1588524, 97300.8055173837, 97279.50076834961, 97129.40643169201, 94623.1864278058, 94949.198316977, 95552.0835688886, 95409.468446596, 95499.50249282399, 95456.32641315021, 95325.21763893959, 95467.071002813, 95949.0202162394, 95945.25901303001, 95900.67203298959, 95155.3704402047, 95256.688692, 95408.00858353, 95364.546335586, 95338.28489448, 95332.733783228, 95324.120208544, 95339.800274936, 95337.79350542, 95331.8968367, 95353.87936406801, 95352.32320667, 95364.25078499, 95331.61478207719, 95328.58417176318, 95215.4863550378, 95312.71325661801, 95273.8860819424, 95081.61804603599, 95141.229880236, 95169.5852427038, 95201.8153743946, 95183.951694746, 95125.47248539579, 95188.08478191719, 95222.8782224786, 95198.8347826846, 95139.3024309302, 95102.0649051666, 94919.87126924, 94915.79894246689, 94947.013425851, 94864.554461108, 94741.609104, 94668.6798462185, 94297.1377049184, 94295.51099644, 94342.80145688, 94330.1061621392, 94389.994411216, 94429.5233857776, 94278.7789489936, 94519.189999016, 94584.0120569552, 94505.11084702949, 94602.52234489648, 94528.07166074999, 94501.86816434999, 94460.59765751999, 94413.4641183705, 94534.9173241845, 94567.2890898113, 94514.69444517649, 94857.1498495193, 94909.7117044754, 94937.9226095915, 94920.98896925, 94871.14531054499, 94966.8033935455, 94849.81730777501, 94808.335158483, 94805.05794, 94928.53293941, 94898.177289421, 94940.218375011, 94854.38173333, 94705.980011519, 94903.937249179, 94824.489528379, 94979.048448552, 95351.2610205, 95294.05089333649, 95168.24728666269, 95185.3648286504, 95184.0988163, 95131.00542335509, 95170.8848123927, 95161.2842187355, 95192.3278965776, 94999.6566420011, 94876.3405356468, 94954.8500009336, 94967.125285984, 94873.1408167948, 94922.474663822, 95109.0473612468, 95036.5882734256, 95081.151630528, 95005.0564985568, 94990.16326171841, 95071.6688273848, 95115.6795057764, 95314.49839989841, 95270.727000718, 95271.5446336943, 95203.7602224333, 95206.0812450757, 95293.3833467387, 95377.810545356, 95651.8758439603, 95782.84614731319, 95798.1707004, 95715.87059600081, 96109.389651825, 95752.5681683655, 95390.37139550851, 95718.264048756, 95430.0508045155, 95212.400450184, 95464.84358679749, 95481.75131526601, 95644.67145027751, 95524.362700308, 96037.06757629501, 95774.362523559, 95636.4619173795, 95299.38240588902, 95308.76472920101, 95216.4074840985, 95536.090604448], \"yaxis\": \"y4\"}],                        {\"annotations\": [{\"arrowcolor\": \"DarkGreen\", \"arrowhead\": 2, \"arrowsize\": 0.8, \"arrowwidth\": 4, \"ax\": 0, \"ay\": 15, \"hoverlabel\": {\"bgcolor\": \"DarkGreen\"}, \"hovertext\": \"Step 46 [2018-05-17 03:00:00]<br>BUY 0.39200308 BTC @ 8366.72 USD MARKET<br>Total: 3279.78 USD - Comm.: 9.87 USD\", \"opacity\": 0.6, \"showarrow\": true, \"x\": 45, \"xref\": \"x\", \"y\": 8366.72, \"yref\": \"y\"}, {\"arrowcolor\": \"DarkGreen\", \"arrowhead\": 2, \"arrowsize\": 0.8, \"arrowwidth\": 4, \"ax\": 0, \"ay\": 15, \"hoverlabel\": {\"bgcolor\": \"DarkGreen\"}, \"hovertext\": \"Step 44 [2018-05-17 01:00:00]<br>BUY 0.88508316 BTC @ 8375.1 USD MARKET<br>Total: 7412.66 USD - Comm.: 22.30 USD\", \"opacity\": 0.6, \"showarrow\": true, \"x\": 43, \"xref\": \"x\", \"y\": 8375.1, \"yref\": \"y\"}, {\"arrowcolor\": \"DarkGreen\", \"arrowhead\": 2, \"arrowsize\": 0.8, \"arrowwidth\": 4, \"ax\": 0, \"ay\": 15, \"hoverlabel\": {\"bgcolor\": \"DarkGreen\"}, \"hovertext\": \"Step 42 [2018-05-16 23:00:00]<br>BUY 0.3929497 BTC @ 8346.59 USD MARKET<br>Total: 3279.79 USD - Comm.: 9.87 USD\", \"opacity\": 0.6, \"showarrow\": true, \"x\": 41, \"xref\": \"x\", \"y\": 8346.59, \"yref\": \"y\"}, {\"arrowcolor\": \"FireBrick\", \"arrowhead\": 2, \"arrowsize\": 0.8, \"arrowwidth\": 4, \"ax\": 0, \"ay\": -15, \"hoverlabel\": {\"bgcolor\": \"FireBrick\"}, \"hovertext\": \"Step 35 [2018-05-16 16:00:00]<br>SELL 1.36047588 BTC @ 8273.4 USD MARKET<br>Total: 11255.76 USD - Comm.: 0.00409371 BTC\", \"opacity\": 0.6, \"showarrow\": true, \"x\": 34, \"xref\": \"x\", \"y\": 8273.4, \"yref\": \"y\"}, {\"arrowcolor\": \"FireBrick\", \"arrowhead\": 2, \"arrowsize\": 0.8, \"arrowwidth\": 4, \"ax\": 0, \"ay\": -15, \"hoverlabel\": {\"bgcolor\": \"FireBrick\"}, \"hovertext\": \"Step 34 [2018-05-16 15:00:00]<br>SELL 0.90698392 BTC @ 8285.8 USD MARKET<br>Total: 7515.09 USD - Comm.: 0.00272914 BTC\", \"opacity\": 0.6, \"showarrow\": true, \"x\": 33, \"xref\": \"x\", \"y\": 8285.8, \"yref\": \"y\"}, {\"arrowcolor\": \"FireBrick\", \"arrowhead\": 2, \"arrowsize\": 0.8, \"arrowwidth\": 4, \"ax\": 0, \"ay\": -15, \"hoverlabel\": {\"bgcolor\": \"FireBrick\"}, \"hovertext\": \"Step 33 [2018-05-16 14:00:00]<br>SELL 0.25193998 BTC @ 8225.0 USD MARKET<br>Total: 2072.21 USD - Comm.: 0.00075809 BTC\", \"opacity\": 0.6, \"showarrow\": true, \"x\": 32, \"xref\": \"x\", \"y\": 8225.0, \"yref\": \"y\"}, {\"arrowcolor\": \"FireBrick\", \"arrowhead\": 2, \"arrowsize\": 0.8, \"arrowwidth\": 4, \"ax\": 0, \"ay\": -15, \"hoverlabel\": {\"bgcolor\": \"FireBrick\"}, \"hovertext\": \"Step 32 [2018-05-16 13:00:00]<br>SELL 0.27993331 BTC @ 8179.99 USD MARKET<br>Total: 2289.85 USD - Comm.: 0.00084233 BTC\", \"opacity\": 0.6, \"showarrow\": true, \"x\": 31, \"xref\": \"x\", \"y\": 8179.99, \"yref\": \"y\"}, {\"arrowcolor\": \"FireBrick\", \"arrowhead\": 2, \"arrowsize\": 0.8, \"arrowwidth\": 4, \"ax\": 0, \"ay\": -15, \"hoverlabel\": {\"bgcolor\": \"FireBrick\"}, \"hovertext\": \"Step 32 [2018-05-16 13:00:00]<br>SELL 0.46857677 BTC @ 8179.99 USD MARKET<br>Total: 3832.95 USD - Comm.: 0.00140996 BTC\", \"opacity\": 0.6, \"showarrow\": true, \"x\": 31, \"xref\": \"x\", \"y\": 8179.99, \"yref\": \"y\"}, {\"arrowcolor\": \"FireBrick\", \"arrowhead\": 2, \"arrowsize\": 0.8, \"arrowwidth\": 4, \"ax\": 0, \"ay\": -15, \"hoverlabel\": {\"bgcolor\": \"FireBrick\"}, \"hovertext\": \"Step 32 [2018-05-16 13:00:00]<br>SELL 0.33574099 BTC @ 8179.99 USD MARKET<br>Total: 2746.36 USD - Comm.: 0.00101025 BTC\", \"opacity\": 0.6, \"showarrow\": true, \"x\": 31, \"xref\": \"x\", \"y\": 8179.99, \"yref\": \"y\"}, {\"arrowcolor\": \"FireBrick\", \"arrowhead\": 2, \"arrowsize\": 0.8, \"arrowwidth\": 4, \"ax\": 0, \"ay\": -15, \"hoverlabel\": {\"bgcolor\": \"FireBrick\"}, \"hovertext\": \"Step 31 [2018-05-16 12:00:00]<br>SELL 0.69983327 BTC @ 8365.08 USD MARKET<br>Total: 5854.16 USD - Comm.: 0.00210582 BTC\", \"opacity\": 0.6, \"showarrow\": true, \"x\": 30, \"xref\": \"x\", \"y\": 8365.08, \"yref\": \"y\"}, {\"arrowcolor\": \"DarkGreen\", \"arrowhead\": 2, \"arrowsize\": 0.8, \"arrowwidth\": 4, \"ax\": 0, \"ay\": 15, \"hoverlabel\": {\"bgcolor\": \"DarkGreen\"}, \"hovertext\": \"Step 30 [2018-05-16 11:00:00]<br>BUY 0.31325451 BTC @ 8373.0 USD MARKET<br>Total: 2622.88 USD - Comm.: 7.89 USD\", \"opacity\": 0.6, \"showarrow\": true, \"x\": 29, \"xref\": \"x\", \"y\": 8373.0, \"yref\": \"y\"}, {\"arrowcolor\": \"DarkGreen\", \"arrowhead\": 2, \"arrowsize\": 0.8, \"arrowwidth\": 4, \"ax\": 0, \"ay\": 15, \"hoverlabel\": {\"bgcolor\": \"DarkGreen\"}, \"hovertext\": \"Step 29 [2018-05-16 10:00:00]<br>BUY 0.46998673 BTC @ 8371.13 USD MARKET<br>Total: 3934.32 USD - Comm.: 11.84 USD\", \"opacity\": 0.6, \"showarrow\": true, \"x\": 28, \"xref\": \"x\", \"y\": 8371.13, \"yref\": \"y\"}, {\"arrowcolor\": \"FireBrick\", \"arrowhead\": 2, \"arrowsize\": 0.8, \"arrowwidth\": 4, \"ax\": 0, \"ay\": -15, \"hoverlabel\": {\"bgcolor\": \"FireBrick\"}, \"hovertext\": \"Step 28 [2018-05-16 09:00:00]<br>SELL 0.38879626 BTC @ 8243.45 USD MARKET<br>Total: 3205.02 USD - Comm.: 0.00116990 BTC\", \"opacity\": 0.6, \"showarrow\": true, \"x\": 27, \"xref\": \"x\", \"y\": 8243.45, \"yref\": \"y\"}, {\"arrowcolor\": \"FireBrick\", \"arrowhead\": 2, \"arrowsize\": 0.8, \"arrowwidth\": 4, \"ax\": 0, \"ay\": -15, \"hoverlabel\": {\"bgcolor\": \"FireBrick\"}, \"hovertext\": \"Step 27 [2018-05-16 08:00:00]<br>SELL 0.43199584 BTC @ 8207.48 USD MARKET<br>Total: 3545.6 USD - Comm.: 0.00129989 BTC\", \"opacity\": 0.6, \"showarrow\": true, \"x\": 26, \"xref\": \"x\", \"y\": 8207.48, \"yref\": \"y\"}, {\"arrowcolor\": \"FireBrick\", \"arrowhead\": 2, \"arrowsize\": 0.8, \"arrowwidth\": 4, \"ax\": 0, \"ay\": -15, \"hoverlabel\": {\"bgcolor\": \"FireBrick\"}, \"hovertext\": \"Step 26 [2018-05-16 07:00:00]<br>SELL 0.47999539 BTC @ 8232.99 USD MARKET<br>Total: 3951.8 USD - Comm.: 0.00144432 BTC\", \"opacity\": 0.6, \"showarrow\": true, \"x\": 25, \"xref\": \"x\", \"y\": 8232.99, \"yref\": \"y\"}, {\"arrowcolor\": \"FireBrick\", \"arrowhead\": 2, \"arrowsize\": 0.8, \"arrowwidth\": 4, \"ax\": 0, \"ay\": -15, \"hoverlabel\": {\"bgcolor\": \"FireBrick\"}, \"hovertext\": \"Step 25 [2018-05-16 06:00:00]<br>SELL 0.5333282 BTC @ 8238.8 USD MARKET<br>Total: 4393.98 USD - Comm.: 0.00160480 BTC\", \"opacity\": 0.6, \"showarrow\": true, \"x\": 24, \"xref\": \"x\", \"y\": 8238.8, \"yref\": \"y\"}, {\"arrowcolor\": \"FireBrick\", \"arrowhead\": 2, \"arrowsize\": 0.8, \"arrowwidth\": 4, \"ax\": 0, \"ay\": -15, \"hoverlabel\": {\"bgcolor\": \"FireBrick\"}, \"hovertext\": \"Step 24 [2018-05-16 05:00:00]<br>SELL 0.5925869 BTC @ 8220.4 USD MARKET<br>Total: 4871.3 USD - Comm.: 0.00178311 BTC\", \"opacity\": 0.6, \"showarrow\": true, \"x\": 23, \"xref\": \"x\", \"y\": 8220.4, \"yref\": \"y\"}, {\"arrowcolor\": \"FireBrick\", \"arrowhead\": 2, \"arrowsize\": 0.8, \"arrowwidth\": 4, \"ax\": 0, \"ay\": -15, \"hoverlabel\": {\"bgcolor\": \"FireBrick\"}, \"hovertext\": \"Step 23 [2018-05-16 04:00:00]<br>SELL 2.53965813 BTC @ 8229.38 USD MARKET<br>Total: 20899.81 USD - Comm.: 0.00764190 BTC\", \"opacity\": 0.6, \"showarrow\": true, \"x\": 22, \"xref\": \"x\", \"y\": 8229.38, \"yref\": \"y\"}, {\"arrowcolor\": \"FireBrick\", \"arrowhead\": 2, \"arrowsize\": 0.8, \"arrowwidth\": 4, \"ax\": 0, \"ay\": -15, \"hoverlabel\": {\"bgcolor\": \"FireBrick\"}, \"hovertext\": \"Step 23 [2018-05-16 04:00:00]<br>SELL 0.94061412 BTC @ 8229.38 USD MARKET<br>Total: 7740.67 USD - Comm.: 0.00283033 BTC\", \"opacity\": 0.6, \"showarrow\": true, \"x\": 22, \"xref\": \"x\", \"y\": 8229.38, \"yref\": \"y\"}, {\"arrowcolor\": \"FireBrick\", \"arrowhead\": 2, \"arrowsize\": 0.8, \"arrowwidth\": 4, \"ax\": 0, \"ay\": -15, \"hoverlabel\": {\"bgcolor\": \"FireBrick\"}, \"hovertext\": \"Step 22 [2018-05-16 03:00:00]<br>SELL 1.04512681 BTC @ 8164.79 USD MARKET<br>Total: 8533.24 USD - Comm.: 0.00314481 BTC\", \"opacity\": 0.6, \"showarrow\": true, \"x\": 21, \"xref\": \"x\", \"y\": 8164.79, \"yref\": \"y\"}, {\"arrowcolor\": \"FireBrick\", \"arrowhead\": 2, \"arrowsize\": 0.8, \"arrowwidth\": 4, \"ax\": 0, \"ay\": -15, \"hoverlabel\": {\"bgcolor\": \"FireBrick\"}, \"hovertext\": \"Step 22 [2018-05-16 03:00:00]<br>SELL 0.11414475 BTC @ 8164.79 USD MARKET<br>Total: 931.97 USD - Comm.: 0.00034346 BTC\", \"opacity\": 0.6, \"showarrow\": true, \"x\": 21, \"xref\": \"x\", \"y\": 8164.79, \"yref\": \"y\"}, {\"arrowcolor\": \"FireBrick\", \"arrowhead\": 2, \"arrowsize\": 0.8, \"arrowwidth\": 4, \"ax\": 0, \"ay\": -15, \"hoverlabel\": {\"bgcolor\": \"FireBrick\"}, \"hovertext\": \"Step 21 [2018-05-16 02:00:00]<br>SELL 0.0338554 BTC @ 8133.43 USD MARKET<br>Total: 275.36 USD - Comm.: 0.00010187 BTC\", \"opacity\": 0.6, \"showarrow\": true, \"x\": 20, \"xref\": \"x\", \"y\": 8133.43, \"yref\": \"y\"}, {\"arrowcolor\": \"FireBrick\", \"arrowhead\": 2, \"arrowsize\": 0.8, \"arrowwidth\": 4, \"ax\": 0, \"ay\": -15, \"hoverlabel\": {\"bgcolor\": \"FireBrick\"}, \"hovertext\": \"Step 21 [2018-05-16 02:00:00]<br>SELL 0.09078506 BTC @ 8133.43 USD MARKET<br>Total: 738.39 USD - Comm.: 0.00027317 BTC\", \"opacity\": 0.6, \"showarrow\": true, \"x\": 20, \"xref\": \"x\", \"y\": 8133.43, \"yref\": \"y\"}, {\"arrowcolor\": \"FireBrick\", \"arrowhead\": 2, \"arrowsize\": 0.8, \"arrowwidth\": 4, \"ax\": 0, \"ay\": -15, \"hoverlabel\": {\"bgcolor\": \"FireBrick\"}, \"hovertext\": \"Step 21 [2018-05-16 02:00:00]<br>SELL 0.56940491 BTC @ 8133.43 USD MARKET<br>Total: 4631.21 USD - Comm.: 0.00171335 BTC\", \"opacity\": 0.6, \"showarrow\": true, \"x\": 20, \"xref\": \"x\", \"y\": 8133.43, \"yref\": \"y\"}, {\"arrowcolor\": \"DarkGreen\", \"arrowhead\": 2, \"arrowsize\": 0.8, \"arrowwidth\": 4, \"ax\": 0, \"ay\": 15, \"hoverlabel\": {\"bgcolor\": \"DarkGreen\"}, \"hovertext\": \"Step 20 [2018-05-16 01:00:00]<br>BUY 0.9336042 BTC @ 8326.28 USD MARKET<br>Total: 7773.45 USD - Comm.: 23.39 USD\", \"opacity\": 0.6, \"showarrow\": true, \"x\": 19, \"xref\": \"x\", \"y\": 8326.28, \"yref\": \"y\"}, {\"arrowcolor\": \"DarkGreen\", \"arrowhead\": 2, \"arrowsize\": 0.8, \"arrowwidth\": 4, \"ax\": 0, \"ay\": 15, \"hoverlabel\": {\"bgcolor\": \"DarkGreen\"}, \"hovertext\": \"Step 20 [2018-05-16 01:00:00]<br>BUY 8.50559313 BTC @ 8326.28 USD MARKET<br>Total: 70819.95 USD - Comm.: 213.10 USD\", \"opacity\": 0.6, \"showarrow\": true, \"x\": 19, \"xref\": \"x\", \"y\": 8326.28, \"yref\": \"y\"}, {\"arrowcolor\": \"DarkGreen\", \"arrowhead\": 2, \"arrowsize\": 0.8, \"arrowwidth\": 4, \"ax\": 0, \"ay\": 15, \"hoverlabel\": {\"bgcolor\": \"DarkGreen\"}, \"hovertext\": \"Step 20 [2018-05-16 01:00:00]<br>BUY 1.04351883 BTC @ 8326.28 USD MARKET<br>Total: 8688.63 USD - Comm.: 26.14 USD\", \"opacity\": 0.6, \"showarrow\": true, \"x\": 19, \"xref\": \"x\", \"y\": 8326.28, \"yref\": \"y\"}, {\"arrowcolor\": \"DarkGreen\", \"arrowhead\": 2, \"arrowsize\": 0.8, \"arrowwidth\": 4, \"ax\": 0, \"ay\": 15, \"hoverlabel\": {\"bgcolor\": \"DarkGreen\"}, \"hovertext\": \"Step 19 [2018-05-16 00:00:00]<br>BUY 0.03395727 BTC @ 8455.92 USD MARKET<br>Total: 287.14 USD - Comm.: 0.86 USD\", \"opacity\": 0.6, \"showarrow\": true, \"x\": 18, \"xref\": \"x\", \"y\": 8455.92, \"yref\": \"y\"}, {\"arrowcolor\": \"DarkGreen\", \"arrowhead\": 2, \"arrowsize\": 0.8, \"arrowwidth\": 4, \"ax\": 0, \"ay\": 15, \"hoverlabel\": {\"bgcolor\": \"DarkGreen\"}, \"hovertext\": \"Step 17 [2018-05-15 22:00:00]<br>BUY 0.00377069 BTC @ 8460.0 USD MARKET<br>Total: 31.9 USD - Comm.: 0.10 USD\", \"opacity\": 0.6, \"showarrow\": true, \"x\": 16, \"xref\": \"x\", \"y\": 8460.0, \"yref\": \"y\"}, {\"arrowcolor\": \"DarkGreen\", \"arrowhead\": 2, \"arrowsize\": 0.8, \"arrowwidth\": 4, \"ax\": 0, \"ay\": 15, \"hoverlabel\": {\"bgcolor\": \"DarkGreen\"}, \"hovertext\": \"Step 13 [2018-05-15 18:00:00]<br>BUY 0.33675124 BTC @ 8526.65 USD MARKET<br>Total: 2871.36 USD - Comm.: 8.64 USD\", \"opacity\": 0.6, \"showarrow\": true, \"x\": 12, \"xref\": \"x\", \"y\": 8526.65, \"yref\": \"y\"}, {\"arrowcolor\": \"FireBrick\", \"arrowhead\": 2, \"arrowsize\": 0.8, \"arrowwidth\": 4, \"ax\": 0, \"ay\": -15, \"hoverlabel\": {\"bgcolor\": \"FireBrick\"}, \"hovertext\": \"Step 10 [2018-05-15 15:00:00]<br>SELL 0.91508999 BTC @ 8520.3 USD MARKET<br>Total: 7796.84 USD - Comm.: 0.00275353 BTC\", \"opacity\": 0.6, \"showarrow\": true, \"x\": 9, \"xref\": \"x\", \"y\": 8520.3, \"yref\": \"y\"}, {\"arrowcolor\": \"DarkGreen\", \"arrowhead\": 2, \"arrowsize\": 0.8, \"arrowwidth\": 4, \"ax\": 0, \"ay\": 15, \"hoverlabel\": {\"bgcolor\": \"DarkGreen\"}, \"hovertext\": \"Step 9 [2018-05-15 14:00:00]<br>BUY 0.91784352 BTC @ 8517.77 USD MARKET<br>Total: 7817.98 USD - Comm.: 23.52 USD\", \"opacity\": 0.6, \"showarrow\": true, \"x\": 8, \"xref\": \"x\", \"y\": 8517.77, \"yref\": \"y\"}, {\"arrowcolor\": \"DarkGreen\", \"arrowhead\": 2, \"arrowsize\": 0.8, \"arrowwidth\": 4, \"ax\": 0, \"ay\": 15, \"hoverlabel\": {\"bgcolor\": \"DarkGreen\"}, \"hovertext\": \"Step 8 [2018-05-15 13:00:00]<br>BUY 0.09105823 BTC @ 8759.23 USD MARKET<br>Total: 797.6 USD - Comm.: 2.40 USD\", \"opacity\": 0.6, \"showarrow\": true, \"x\": 7, \"xref\": \"x\", \"y\": 8759.23, \"yref\": \"y\"}, {\"arrowcolor\": \"FireBrick\", \"arrowhead\": 2, \"arrowsize\": 0.8, \"arrowwidth\": 4, \"ax\": 0, \"ay\": -15, \"hoverlabel\": {\"bgcolor\": \"FireBrick\"}, \"hovertext\": \"Step 5 [2018-05-15 10:00:00]<br>SELL 8.0757 BTC @ 8795.9 USD MARKET<br>Total: 71033.05 USD - Comm.: 0.02430000 BTC\", \"opacity\": 0.6, \"showarrow\": true, \"x\": 4, \"xref\": \"x\", \"y\": 8795.9, \"yref\": \"y\"}, {\"arrowcolor\": \"DarkGreen\", \"arrowhead\": 2, \"arrowsize\": 0.8, \"arrowwidth\": 4, \"ax\": 0, \"ay\": 15, \"hoverlabel\": {\"bgcolor\": \"DarkGreen\"}, \"hovertext\": \"Step 4 [2018-05-15 09:00:00]<br>BUY 0.11448821 BTC @ 8708.32 USD MARKET<br>Total: 997.0 USD - Comm.: 3.00 USD\", \"opacity\": 0.6, \"showarrow\": true, \"x\": 3, \"xref\": \"x\", \"y\": 8708.32, \"yref\": \"y\"}, {\"arrowcolor\": \"DarkGreen\", \"arrowhead\": 2, \"arrowsize\": 0.8, \"arrowwidth\": 4, \"ax\": 0, \"ay\": 15, \"hoverlabel\": {\"bgcolor\": \"DarkGreen\"}, \"hovertext\": \"Step 3 [2018-05-15 08:00:00]<br>BUY 0.57111826 BTC @ 8728.49 USD MARKET<br>Total: 4985.0 USD - Comm.: 15.00 USD\", \"opacity\": 0.6, \"showarrow\": true, \"x\": 2, \"xref\": \"x\", \"y\": 8728.49, \"yref\": \"y\"}, {\"arrowcolor\": \"FireBrick\", \"arrowhead\": 2, \"arrowsize\": 0.8, \"arrowwidth\": 4, \"ax\": 0, \"ay\": -15, \"hoverlabel\": {\"bgcolor\": \"FireBrick\"}, \"hovertext\": \"Step 2 [2018-05-15 07:00:00]<br>SELL 0.8973 BTC @ 8739.0 USD MARKET<br>Total: 7841.5 USD - Comm.: 0.00270000 BTC\", \"opacity\": 0.6, \"showarrow\": true, \"x\": 1, \"xref\": \"x\", \"y\": 8739.0, \"yref\": \"y\"}, {\"arrowcolor\": \"FireBrick\", \"arrowhead\": 2, \"arrowsize\": 0.8, \"arrowwidth\": 4, \"ax\": 0, \"ay\": -15, \"hoverlabel\": {\"bgcolor\": \"FireBrick\"}, \"hovertext\": \"Step 1 [2018-05-15 06:00:00]<br>SELL 0.997 BTC @ 8740.99 USD MARKET<br>Total: 8714.77 USD - Comm.: 0.00300000 BTC\", \"opacity\": 0.6, \"showarrow\": true, \"x\": 0, \"xref\": \"x\", \"y\": 8740.99, \"yref\": \"y\"}, {\"arrowcolor\": \"DarkGreen\", \"arrowhead\": 2, \"arrowsize\": 0.8, \"arrowwidth\": 4, \"ax\": 0, \"ay\": 15, \"hoverlabel\": {\"bgcolor\": \"DarkGreen\"}, \"hovertext\": \"Step 91 [2018-05-19 00:00:00]<br>BUY 0.00282705 BTC @ 8213.5 USD MARKET<br>Total: 23.22 USD - Comm.: 0.07 USD\", \"opacity\": 0.6, \"showarrow\": true, \"x\": 90, \"xref\": \"x\", \"y\": 8213.5, \"yref\": \"y\"}, {\"arrowcolor\": \"DarkGreen\", \"arrowhead\": 2, \"arrowsize\": 0.8, \"arrowwidth\": 4, \"ax\": 0, \"ay\": 15, \"hoverlabel\": {\"bgcolor\": \"DarkGreen\"}, \"hovertext\": \"Step 89 [2018-05-18 22:00:00]<br>BUY 0.0065901 BTC @ 8219.9 USD MARKET<br>Total: 54.17 USD - Comm.: 0.16 USD\", \"opacity\": 0.6, \"showarrow\": true, \"x\": 88, \"xref\": \"x\", \"y\": 8219.9, \"yref\": \"y\"}, {\"arrowcolor\": \"DarkGreen\", \"arrowhead\": 2, \"arrowsize\": 0.8, \"arrowwidth\": 4, \"ax\": 0, \"ay\": 15, \"hoverlabel\": {\"bgcolor\": \"DarkGreen\"}, \"hovertext\": \"Step 86 [2018-05-18 19:00:00]<br>BUY 0.02193668 BTC @ 8231.42 USD MARKET<br>Total: 180.57 USD - Comm.: 0.54 USD\", \"opacity\": 0.6, \"showarrow\": true, \"x\": 85, \"xref\": \"x\", \"y\": 8231.42, \"yref\": \"y\"}, {\"arrowcolor\": \"DarkGreen\", \"arrowhead\": 2, \"arrowsize\": 0.8, \"arrowwidth\": 4, \"ax\": 0, \"ay\": 15, \"hoverlabel\": {\"bgcolor\": \"DarkGreen\"}, \"hovertext\": \"Step 82 [2018-05-18 15:00:00]<br>BUY 0.00353082 BTC @ 8117.09 USD MARKET<br>Total: 28.66 USD - Comm.: 0.09 USD\", \"opacity\": 0.6, \"showarrow\": true, \"x\": 81, \"xref\": \"x\", \"y\": 8117.09, \"yref\": \"y\"}, {\"arrowcolor\": \"DarkGreen\", \"arrowhead\": 2, \"arrowsize\": 0.8, \"arrowwidth\": 4, \"ax\": 0, \"ay\": 15, \"hoverlabel\": {\"bgcolor\": \"DarkGreen\"}, \"hovertext\": \"Step 75 [2018-05-18 08:00:00]<br>BUY 1.32531497 BTC @ 8122.19 USD MARKET<br>Total: 10764.46 USD - Comm.: 32.39 USD\", \"opacity\": 0.6, \"showarrow\": true, \"x\": 74, \"xref\": \"x\", \"y\": 8122.19, \"yref\": \"y\"}, {\"arrowcolor\": \"FireBrick\", \"arrowhead\": 2, \"arrowsize\": 0.8, \"arrowwidth\": 4, \"ax\": 0, \"ay\": -15, \"hoverlabel\": {\"bgcolor\": \"FireBrick\"}, \"hovertext\": \"Step 67 [2018-05-18 00:00:00]<br>SELL 1.38469357 BTC @ 7958.08 USD MARKET<br>Total: 11019.5 USD - Comm.: 0.00416658 BTC\", \"opacity\": 0.6, \"showarrow\": true, \"x\": 66, \"xref\": \"x\", \"y\": 7958.08, \"yref\": \"y\"}, {\"arrowcolor\": \"DarkGreen\", \"arrowhead\": 2, \"arrowsize\": 0.8, \"arrowwidth\": 4, \"ax\": 0, \"ay\": 15, \"hoverlabel\": {\"bgcolor\": \"DarkGreen\"}, \"hovertext\": \"Step 66 [2018-05-17 23:00:00]<br>BUY 0.31976328 BTC @ 8067.03 USD MARKET<br>Total: 2579.54 USD - Comm.: 7.76 USD\", \"opacity\": 0.6, \"showarrow\": true, \"x\": 65, \"xref\": \"x\", \"y\": 8067.03, \"yref\": \"y\"}, {\"arrowcolor\": \"DarkGreen\", \"arrowhead\": 2, \"arrowsize\": 0.8, \"arrowwidth\": 4, \"ax\": 0, \"ay\": 15, \"hoverlabel\": {\"bgcolor\": \"DarkGreen\"}, \"hovertext\": \"Step 65 [2018-05-17 22:00:00]<br>BUY 1.38886015 BTC @ 8080.0 USD MARKET<br>Total: 11221.99 USD - Comm.: 33.77 USD\", \"opacity\": 0.6, \"showarrow\": true, \"x\": 64, \"xref\": \"x\", \"y\": 8080.0, \"yref\": \"y\"}, {\"arrowcolor\": \"DarkGreen\", \"arrowhead\": 2, \"arrowsize\": 0.8, \"arrowwidth\": 4, \"ax\": 0, \"ay\": 15, \"hoverlabel\": {\"bgcolor\": \"DarkGreen\"}, \"hovertext\": \"Step 63 [2018-05-17 20:00:00]<br>BUY 0.34950187 BTC @ 8200.7 USD MARKET<br>Total: 2866.16 USD - Comm.: 8.62 USD\", \"opacity\": 0.6, \"showarrow\": true, \"x\": 62, \"xref\": \"x\", \"y\": 8200.7, \"yref\": \"y\"}, {\"arrowcolor\": \"FireBrick\", \"arrowhead\": 2, \"arrowsize\": 0.8, \"arrowwidth\": 4, \"ax\": 0, \"ay\": -15, \"hoverlabel\": {\"bgcolor\": \"FireBrick\"}, \"hovertext\": \"Step 61 [2018-05-17 18:00:00]<br>SELL 0.39177085 BTC @ 8166.0 USD MARKET<br>Total: 3199.2 USD - Comm.: 0.00117885 BTC\", \"opacity\": 0.6, \"showarrow\": true, \"x\": 60, \"xref\": \"x\", \"y\": 8166.0, \"yref\": \"y\"}, {\"arrowcolor\": \"FireBrick\", \"arrowhead\": 2, \"arrowsize\": 0.8, \"arrowwidth\": 4, \"ax\": 0, \"ay\": -15, \"hoverlabel\": {\"bgcolor\": \"FireBrick\"}, \"hovertext\": \"Step 61 [2018-05-17 18:00:00]<br>SELL 0.31231475 BTC @ 8166.0 USD MARKET<br>Total: 2550.36 USD - Comm.: 0.00093976 BTC\", \"opacity\": 0.6, \"showarrow\": true, \"x\": 60, \"xref\": \"x\", \"y\": 8166.0, \"yref\": \"y\"}, {\"arrowcolor\": \"DarkGreen\", \"arrowhead\": 2, \"arrowsize\": 0.8, \"arrowwidth\": 4, \"ax\": 0, \"ay\": 15, \"hoverlabel\": {\"bgcolor\": \"DarkGreen\"}, \"hovertext\": \"Step 134 [2018-05-20 19:00:00]<br>BUY 0.05575763 BTC @ 8517.04 USD MARKET<br>Total: 474.89 USD - Comm.: 1.43 USD\", \"opacity\": 0.6, \"showarrow\": true, \"x\": 133, \"xref\": \"x\", \"y\": 8517.04, \"yref\": \"y\"}, {\"arrowcolor\": \"DarkGreen\", \"arrowhead\": 2, \"arrowsize\": 0.8, \"arrowwidth\": 4, \"ax\": 0, \"ay\": 15, \"hoverlabel\": {\"bgcolor\": \"DarkGreen\"}, \"hovertext\": \"Step 134 [2018-05-20 19:00:00]<br>BUY 0.39996055 BTC @ 8517.04 USD MARKET<br>Total: 3406.48 USD - Comm.: 10.25 USD\", \"opacity\": 0.6, \"showarrow\": true, \"x\": 133, \"xref\": \"x\", \"y\": 8517.04, \"yref\": \"y\"}, {\"arrowcolor\": \"DarkGreen\", \"arrowhead\": 2, \"arrowsize\": 0.8, \"arrowwidth\": 4, \"ax\": 0, \"ay\": 15, \"hoverlabel\": {\"bgcolor\": \"DarkGreen\"}, \"hovertext\": \"Step 133 [2018-05-20 18:00:00]<br>BUY 0.13085992 BTC @ 8524.0 USD MARKET<br>Total: 1115.45 USD - Comm.: 3.36 USD\", \"opacity\": 0.6, \"showarrow\": true, \"x\": 132, \"xref\": \"x\", \"y\": 8524.0, \"yref\": \"y\"}, {\"arrowcolor\": \"DarkGreen\", \"arrowhead\": 2, \"arrowsize\": 0.8, \"arrowwidth\": 4, \"ax\": 0, \"ay\": 15, \"hoverlabel\": {\"bgcolor\": \"DarkGreen\"}, \"hovertext\": \"Step 133 [2018-05-20 18:00:00]<br>BUY 0.54947325 BTC @ 8524.0 USD MARKET<br>Total: 4683.71 USD - Comm.: 14.09 USD\", \"opacity\": 0.6, \"showarrow\": true, \"x\": 132, \"xref\": \"x\", \"y\": 8524.0, \"yref\": \"y\"}, {\"arrowcolor\": \"FireBrick\", \"arrowhead\": 2, \"arrowsize\": 0.8, \"arrowwidth\": 4, \"ax\": 0, \"ay\": -15, \"hoverlabel\": {\"bgcolor\": \"FireBrick\"}, \"hovertext\": \"Step 132 [2018-05-20 17:00:00]<br>SELL 0.00657033 BTC @ 8516.36 USD MARKET<br>Total: 55.96 USD - Comm.: 0.00001977 BTC\", \"opacity\": 0.6, \"showarrow\": true, \"x\": 131, \"xref\": \"x\", \"y\": 8516.36, \"yref\": \"y\"}, {\"arrowcolor\": \"DarkGreen\", \"arrowhead\": 2, \"arrowsize\": 0.8, \"arrowwidth\": 4, \"ax\": 0, \"ay\": 15, \"hoverlabel\": {\"bgcolor\": \"DarkGreen\"}, \"hovertext\": \"Step 132 [2018-05-20 17:00:00]<br>BUY 0.23429141 BTC @ 8516.36 USD MARKET<br>Total: 1995.31 USD - Comm.: 6.00 USD\", \"opacity\": 0.6, \"showarrow\": true, \"x\": 131, \"xref\": \"x\", \"y\": 8516.36, \"yref\": \"y\"}, {\"arrowcolor\": \"DarkGreen\", \"arrowhead\": 2, \"arrowsize\": 0.8, \"arrowwidth\": 4, \"ax\": 0, \"ay\": 15, \"hoverlabel\": {\"bgcolor\": \"DarkGreen\"}, \"hovertext\": \"Step 132 [2018-05-20 17:00:00]<br>BUY 0.36318451 BTC @ 8516.36 USD MARKET<br>Total: 3093.01 USD - Comm.: 9.31 USD\", \"opacity\": 0.6, \"showarrow\": true, \"x\": 131, \"xref\": \"x\", \"y\": 8516.36, \"yref\": \"y\"}, {\"arrowcolor\": \"DarkGreen\", \"arrowhead\": 2, \"arrowsize\": 0.8, \"arrowwidth\": 4, \"ax\": 0, \"ay\": 15, \"hoverlabel\": {\"bgcolor\": \"DarkGreen\"}, \"hovertext\": \"Step 132 [2018-05-20 17:00:00]<br>BUY 0.49763279 BTC @ 8516.36 USD MARKET<br>Total: 4238.02 USD - Comm.: 12.75 USD\", \"opacity\": 0.6, \"showarrow\": true, \"x\": 131, \"xref\": \"x\", \"y\": 8516.36, \"yref\": \"y\"}, {\"arrowcolor\": \"DarkGreen\", \"arrowhead\": 2, \"arrowsize\": 0.8, \"arrowwidth\": 4, \"ax\": 0, \"ay\": 15, \"hoverlabel\": {\"bgcolor\": \"DarkGreen\"}, \"hovertext\": \"Step 132 [2018-05-20 17:00:00]<br>BUY 0.87565462 BTC @ 8516.36 USD MARKET<br>Total: 7457.39 USD - Comm.: 22.44 USD\", \"opacity\": 0.6, \"showarrow\": true, \"x\": 131, \"xref\": \"x\", \"y\": 8516.36, \"yref\": \"y\"}, {\"arrowcolor\": \"FireBrick\", \"arrowhead\": 2, \"arrowsize\": 0.8, \"arrowwidth\": 4, \"ax\": 0, \"ay\": -15, \"hoverlabel\": {\"bgcolor\": \"FireBrick\"}, \"hovertext\": \"Step 131 [2018-05-20 16:00:00]<br>SELL 0.00281857 BTC @ 8481.11 USD MARKET<br>Total: 23.9 USD - Comm.: 0.00000848 BTC\", \"opacity\": 0.6, \"showarrow\": true, \"x\": 130, \"xref\": \"x\", \"y\": 8481.11, \"yref\": \"y\"}, {\"arrowcolor\": \"FireBrick\", \"arrowhead\": 2, \"arrowsize\": 0.8, \"arrowwidth\": 4, \"ax\": 0, \"ay\": -15, \"hoverlabel\": {\"bgcolor\": \"FireBrick\"}, \"hovertext\": \"Step 131 [2018-05-20 16:00:00]<br>SELL 0.02187087 BTC @ 8481.11 USD MARKET<br>Total: 185.49 USD - Comm.: 0.00006581 BTC\", \"opacity\": 0.6, \"showarrow\": true, \"x\": 130, \"xref\": \"x\", \"y\": 8481.11, \"yref\": \"y\"}, {\"arrowcolor\": \"DarkGreen\", \"arrowhead\": 2, \"arrowsize\": 0.8, \"arrowwidth\": 4, \"ax\": 0, \"ay\": 15, \"hoverlabel\": {\"bgcolor\": \"DarkGreen\"}, \"hovertext\": \"Step 131 [2018-05-20 16:00:00]<br>BUY 0.25962639 BTC @ 8481.11 USD MARKET<br>Total: 2201.92 USD - Comm.: 6.63 USD\", \"opacity\": 0.6, \"showarrow\": true, \"x\": 130, \"xref\": \"x\", \"y\": 8481.11, \"yref\": \"y\"}, {\"arrowcolor\": \"DarkGreen\", \"arrowhead\": 2, \"arrowsize\": 0.8, \"arrowwidth\": 4, \"ax\": 0, \"ay\": 15, \"hoverlabel\": {\"bgcolor\": \"DarkGreen\"}, \"hovertext\": \"Step 131 [2018-05-20 16:00:00]<br>BUY 0.45096456 BTC @ 8481.11 USD MARKET<br>Total: 3824.68 USD - Comm.: 11.51 USD\", \"opacity\": 0.6, \"showarrow\": true, \"x\": 130, \"xref\": \"x\", \"y\": 8481.11, \"yref\": \"y\"}, {\"arrowcolor\": \"DarkGreen\", \"arrowhead\": 2, \"arrowsize\": 0.8, \"arrowwidth\": 4, \"ax\": 0, \"ay\": 15, \"hoverlabel\": {\"bgcolor\": \"DarkGreen\"}, \"hovertext\": \"Step 131 [2018-05-20 16:00:00]<br>BUY 2.38396153 BTC @ 8481.11 USD MARKET<br>Total: 20218.64 USD - Comm.: 60.84 USD\", \"opacity\": 0.6, \"showarrow\": true, \"x\": 130, \"xref\": \"x\", \"y\": 8481.11, \"yref\": \"y\"}, {\"arrowcolor\": \"DarkGreen\", \"arrowhead\": 2, \"arrowsize\": 0.8, \"arrowwidth\": 4, \"ax\": 0, \"ay\": 15, \"hoverlabel\": {\"bgcolor\": \"DarkGreen\"}, \"hovertext\": \"Step 131 [2018-05-20 16:00:00]<br>BUY 0.96571439 BTC @ 8481.11 USD MARKET<br>Total: 8190.33 USD - Comm.: 24.64 USD\", \"opacity\": 0.6, \"showarrow\": true, \"x\": 130, \"xref\": \"x\", \"y\": 8481.11, \"yref\": \"y\"}, {\"arrowcolor\": \"FireBrick\", \"arrowhead\": 2, \"arrowsize\": 0.8, \"arrowwidth\": 4, \"ax\": 0, \"ay\": -15, \"hoverlabel\": {\"bgcolor\": \"FireBrick\"}, \"hovertext\": \"Step 124 [2018-05-20 09:00:00]<br>SELL 0.27049566 BTC @ 8350.62 USD MARKET<br>Total: 2258.81 USD - Comm.: 0.00081393 BTC\", \"opacity\": 0.6, \"showarrow\": true, \"x\": 123, \"xref\": \"x\", \"y\": 8350.62, \"yref\": \"y\"}, {\"arrowcolor\": \"DarkGreen\", \"arrowhead\": 2, \"arrowsize\": 0.8, \"arrowwidth\": 4, \"ax\": 0, \"ay\": 15, \"hoverlabel\": {\"bgcolor\": \"DarkGreen\"}, \"hovertext\": \"Step 111 [2018-05-19 20:00:00]<br>BUY 0.27130959 BTC @ 8240.07 USD MARKET<br>Total: 2235.61 USD - Comm.: 6.73 USD\", \"opacity\": 0.6, \"showarrow\": true, \"x\": 110, \"xref\": \"x\", \"y\": 8240.07, \"yref\": \"y\"}, {\"arrowcolor\": \"FireBrick\", \"arrowhead\": 2, \"arrowsize\": 0.8, \"arrowwidth\": 4, \"ax\": 0, \"ay\": -15, \"hoverlabel\": {\"bgcolor\": \"FireBrick\"}, \"hovertext\": \"Step 103 [2018-05-19 12:00:00]<br>SELL 0.31880399 BTC @ 8348.65 USD MARKET<br>Total: 2661.58 USD - Comm.: 0.00095929 BTC\", \"opacity\": 0.6, \"showarrow\": true, \"x\": 102, \"xref\": \"x\", \"y\": 8348.65, \"yref\": \"y\"}, {\"arrowcolor\": \"FireBrick\", \"arrowhead\": 2, \"arrowsize\": 0.8, \"arrowwidth\": 4, \"ax\": 0, \"ay\": -15, \"hoverlabel\": {\"bgcolor\": \"FireBrick\"}, \"hovertext\": \"Step 102 [2018-05-19 11:00:00]<br>SELL 0.00352023 BTC @ 8365.0 USD MARKET<br>Total: 29.45 USD - Comm.: 0.00001059 BTC\", \"opacity\": 0.6, \"showarrow\": true, \"x\": 101, \"xref\": \"x\", \"y\": 8365.0, \"yref\": \"y\"}, {\"arrowcolor\": \"FireBrick\", \"arrowhead\": 2, \"arrowsize\": 0.8, \"arrowwidth\": 4, \"ax\": 0, \"ay\": -15, \"hoverlabel\": {\"bgcolor\": \"FireBrick\"}, \"hovertext\": \"Step 102 [2018-05-19 11:00:00]<br>SELL 0.34845336 BTC @ 8365.0 USD MARKET<br>Total: 2914.81 USD - Comm.: 0.00104851 BTC\", \"opacity\": 0.6, \"showarrow\": true, \"x\": 101, \"xref\": \"x\", \"y\": 8365.0, \"yref\": \"y\"}], \"margin\": {\"t\": 50}, \"template\": {\"data\": {\"bar\": [{\"error_x\": {\"color\": \"#2a3f5f\"}, \"error_y\": {\"color\": \"#2a3f5f\"}, \"marker\": {\"line\": {\"color\": \"white\", \"width\": 0.5}}, \"type\": \"bar\"}], \"barpolar\": [{\"marker\": {\"line\": {\"color\": \"white\", \"width\": 0.5}}, \"type\": \"barpolar\"}], \"carpet\": [{\"aaxis\": {\"endlinecolor\": \"#2a3f5f\", \"gridcolor\": \"#C8D4E3\", \"linecolor\": \"#C8D4E3\", \"minorgridcolor\": \"#C8D4E3\", \"startlinecolor\": \"#2a3f5f\"}, \"baxis\": {\"endlinecolor\": \"#2a3f5f\", \"gridcolor\": \"#C8D4E3\", \"linecolor\": \"#C8D4E3\", \"minorgridcolor\": \"#C8D4E3\", \"startlinecolor\": \"#2a3f5f\"}, \"type\": \"carpet\"}], \"choropleth\": [{\"colorbar\": {\"outlinewidth\": 0, \"ticks\": \"\"}, \"type\": \"choropleth\"}], \"contour\": [{\"colorbar\": {\"outlinewidth\": 0, \"ticks\": \"\"}, \"colorscale\": [[0.0, \"#0d0887\"], [0.1111111111111111, \"#46039f\"], [0.2222222222222222, \"#7201a8\"], [0.3333333333333333, \"#9c179e\"], [0.4444444444444444, \"#bd3786\"], [0.5555555555555556, \"#d8576b\"], [0.6666666666666666, \"#ed7953\"], [0.7777777777777778, \"#fb9f3a\"], [0.8888888888888888, \"#fdca26\"], [1.0, \"#f0f921\"]], \"type\": \"contour\"}], \"contourcarpet\": [{\"colorbar\": {\"outlinewidth\": 0, \"ticks\": \"\"}, \"type\": \"contourcarpet\"}], \"heatmap\": [{\"colorbar\": {\"outlinewidth\": 0, \"ticks\": \"\"}, \"colorscale\": [[0.0, \"#0d0887\"], [0.1111111111111111, \"#46039f\"], [0.2222222222222222, \"#7201a8\"], [0.3333333333333333, \"#9c179e\"], [0.4444444444444444, \"#bd3786\"], [0.5555555555555556, \"#d8576b\"], [0.6666666666666666, \"#ed7953\"], [0.7777777777777778, \"#fb9f3a\"], [0.8888888888888888, \"#fdca26\"], [1.0, \"#f0f921\"]], \"type\": \"heatmap\"}], \"heatmapgl\": [{\"colorbar\": {\"outlinewidth\": 0, \"ticks\": \"\"}, \"colorscale\": [[0.0, \"#0d0887\"], [0.1111111111111111, \"#46039f\"], [0.2222222222222222, \"#7201a8\"], [0.3333333333333333, \"#9c179e\"], [0.4444444444444444, \"#bd3786\"], [0.5555555555555556, \"#d8576b\"], [0.6666666666666666, \"#ed7953\"], [0.7777777777777778, \"#fb9f3a\"], [0.8888888888888888, \"#fdca26\"], [1.0, \"#f0f921\"]], \"type\": \"heatmapgl\"}], \"histogram\": [{\"marker\": {\"colorbar\": {\"outlinewidth\": 0, \"ticks\": \"\"}}, \"type\": \"histogram\"}], \"histogram2d\": [{\"colorbar\": {\"outlinewidth\": 0, \"ticks\": \"\"}, \"colorscale\": [[0.0, \"#0d0887\"], [0.1111111111111111, \"#46039f\"], [0.2222222222222222, \"#7201a8\"], [0.3333333333333333, \"#9c179e\"], [0.4444444444444444, \"#bd3786\"], [0.5555555555555556, \"#d8576b\"], [0.6666666666666666, \"#ed7953\"], [0.7777777777777778, \"#fb9f3a\"], [0.8888888888888888, \"#fdca26\"], [1.0, \"#f0f921\"]], \"type\": \"histogram2d\"}], \"histogram2dcontour\": [{\"colorbar\": {\"outlinewidth\": 0, \"ticks\": \"\"}, \"colorscale\": [[0.0, \"#0d0887\"], [0.1111111111111111, \"#46039f\"], [0.2222222222222222, \"#7201a8\"], [0.3333333333333333, \"#9c179e\"], [0.4444444444444444, \"#bd3786\"], [0.5555555555555556, \"#d8576b\"], [0.6666666666666666, \"#ed7953\"], [0.7777777777777778, \"#fb9f3a\"], [0.8888888888888888, \"#fdca26\"], [1.0, \"#f0f921\"]], \"type\": \"histogram2dcontour\"}], \"mesh3d\": [{\"colorbar\": {\"outlinewidth\": 0, \"ticks\": \"\"}, \"type\": \"mesh3d\"}], \"parcoords\": [{\"line\": {\"colorbar\": {\"outlinewidth\": 0, \"ticks\": \"\"}}, \"type\": \"parcoords\"}], \"pie\": [{\"automargin\": true, \"type\": \"pie\"}], \"scatter\": [{\"marker\": {\"colorbar\": {\"outlinewidth\": 0, \"ticks\": \"\"}}, \"type\": \"scatter\"}], \"scatter3d\": [{\"line\": {\"colorbar\": {\"outlinewidth\": 0, \"ticks\": \"\"}}, \"marker\": {\"colorbar\": {\"outlinewidth\": 0, \"ticks\": \"\"}}, \"type\": \"scatter3d\"}], \"scattercarpet\": [{\"marker\": {\"colorbar\": {\"outlinewidth\": 0, \"ticks\": \"\"}}, \"type\": \"scattercarpet\"}], \"scattergeo\": [{\"marker\": {\"colorbar\": {\"outlinewidth\": 0, \"ticks\": \"\"}}, \"type\": \"scattergeo\"}], \"scattergl\": [{\"marker\": {\"colorbar\": {\"outlinewidth\": 0, \"ticks\": \"\"}}, \"type\": \"scattergl\"}], \"scattermapbox\": [{\"marker\": {\"colorbar\": {\"outlinewidth\": 0, \"ticks\": \"\"}}, \"type\": \"scattermapbox\"}], \"scatterpolar\": [{\"marker\": {\"colorbar\": {\"outlinewidth\": 0, \"ticks\": \"\"}}, \"type\": \"scatterpolar\"}], \"scatterpolargl\": [{\"marker\": {\"colorbar\": {\"outlinewidth\": 0, \"ticks\": \"\"}}, \"type\": \"scatterpolargl\"}], \"scatterternary\": [{\"marker\": {\"colorbar\": {\"outlinewidth\": 0, \"ticks\": \"\"}}, \"type\": \"scatterternary\"}], \"surface\": [{\"colorbar\": {\"outlinewidth\": 0, \"ticks\": \"\"}, \"colorscale\": [[0.0, \"#0d0887\"], [0.1111111111111111, \"#46039f\"], [0.2222222222222222, \"#7201a8\"], [0.3333333333333333, \"#9c179e\"], [0.4444444444444444, \"#bd3786\"], [0.5555555555555556, \"#d8576b\"], [0.6666666666666666, \"#ed7953\"], [0.7777777777777778, \"#fb9f3a\"], [0.8888888888888888, \"#fdca26\"], [1.0, \"#f0f921\"]], \"type\": \"surface\"}], \"table\": [{\"cells\": {\"fill\": {\"color\": \"#EBF0F8\"}, \"line\": {\"color\": \"white\"}}, \"header\": {\"fill\": {\"color\": \"#C8D4E3\"}, \"line\": {\"color\": \"white\"}}, \"type\": \"table\"}]}, \"layout\": {\"annotationdefaults\": {\"arrowcolor\": \"#2a3f5f\", \"arrowhead\": 0, \"arrowwidth\": 1}, \"autotypenumbers\": \"strict\", \"coloraxis\": {\"colorbar\": {\"outlinewidth\": 0, \"ticks\": \"\"}}, \"colorscale\": {\"diverging\": [[0, \"#8e0152\"], [0.1, \"#c51b7d\"], [0.2, \"#de77ae\"], [0.3, \"#f1b6da\"], [0.4, \"#fde0ef\"], [0.5, \"#f7f7f7\"], [0.6, \"#e6f5d0\"], [0.7, \"#b8e186\"], [0.8, \"#7fbc41\"], [0.9, \"#4d9221\"], [1, \"#276419\"]], \"sequential\": [[0.0, \"#0d0887\"], [0.1111111111111111, \"#46039f\"], [0.2222222222222222, \"#7201a8\"], [0.3333333333333333, \"#9c179e\"], [0.4444444444444444, \"#bd3786\"], [0.5555555555555556, \"#d8576b\"], [0.6666666666666666, \"#ed7953\"], [0.7777777777777778, \"#fb9f3a\"], [0.8888888888888888, \"#fdca26\"], [1.0, \"#f0f921\"]], \"sequentialminus\": [[0.0, \"#0d0887\"], [0.1111111111111111, \"#46039f\"], [0.2222222222222222, \"#7201a8\"], [0.3333333333333333, \"#9c179e\"], [0.4444444444444444, \"#bd3786\"], [0.5555555555555556, \"#d8576b\"], [0.6666666666666666, \"#ed7953\"], [0.7777777777777778, \"#fb9f3a\"], [0.8888888888888888, \"#fdca26\"], [1.0, \"#f0f921\"]]}, \"colorway\": [\"#636efa\", \"#EF553B\", \"#00cc96\", \"#ab63fa\", \"#FFA15A\", \"#19d3f3\", \"#FF6692\", \"#B6E880\", \"#FF97FF\", \"#FECB52\"], \"font\": {\"color\": \"#2a3f5f\"}, \"geo\": {\"bgcolor\": \"white\", \"lakecolor\": \"white\", \"landcolor\": \"white\", \"showlakes\": true, \"showland\": true, \"subunitcolor\": \"#C8D4E3\"}, \"hoverlabel\": {\"align\": \"left\"}, \"hovermode\": \"closest\", \"mapbox\": {\"style\": \"light\"}, \"paper_bgcolor\": \"white\", \"plot_bgcolor\": \"white\", \"polar\": {\"angularaxis\": {\"gridcolor\": \"#EBF0F8\", \"linecolor\": \"#EBF0F8\", \"ticks\": \"\"}, \"bgcolor\": \"white\", \"radialaxis\": {\"gridcolor\": \"#EBF0F8\", \"linecolor\": \"#EBF0F8\", \"ticks\": \"\"}}, \"scene\": {\"xaxis\": {\"backgroundcolor\": \"white\", \"gridcolor\": \"#DFE8F3\", \"gridwidth\": 2, \"linecolor\": \"#EBF0F8\", \"showbackground\": true, \"ticks\": \"\", \"zerolinecolor\": \"#EBF0F8\"}, \"yaxis\": {\"backgroundcolor\": \"white\", \"gridcolor\": \"#DFE8F3\", \"gridwidth\": 2, \"linecolor\": \"#EBF0F8\", \"showbackground\": true, \"ticks\": \"\", \"zerolinecolor\": \"#EBF0F8\"}, \"zaxis\": {\"backgroundcolor\": \"white\", \"gridcolor\": \"#DFE8F3\", \"gridwidth\": 2, \"linecolor\": \"#EBF0F8\", \"showbackground\": true, \"ticks\": \"\", \"zerolinecolor\": \"#EBF0F8\"}}, \"shapedefaults\": {\"line\": {\"color\": \"#2a3f5f\"}}, \"ternary\": {\"aaxis\": {\"gridcolor\": \"#DFE8F3\", \"linecolor\": \"#A2B1C6\", \"ticks\": \"\"}, \"baxis\": {\"gridcolor\": \"#DFE8F3\", \"linecolor\": \"#A2B1C6\", \"ticks\": \"\"}, \"bgcolor\": \"white\", \"caxis\": {\"gridcolor\": \"#DFE8F3\", \"linecolor\": \"#A2B1C6\", \"ticks\": \"\"}}, \"title\": {\"x\": 0.05}, \"xaxis\": {\"automargin\": true, \"gridcolor\": \"#EBF0F8\", \"linecolor\": \"#EBF0F8\", \"ticks\": \"\", \"title\": {\"standoff\": 15}, \"zerolinecolor\": \"#EBF0F8\", \"zerolinewidth\": 2}, \"yaxis\": {\"automargin\": true, \"gridcolor\": \"#EBF0F8\", \"linecolor\": \"#EBF0F8\", \"ticks\": \"\", \"title\": {\"standoff\": 15}, \"zerolinecolor\": \"#EBF0F8\", \"zerolinewidth\": 2}}}, \"title\": {\"text\": \"[2021-02-12 00:08:26 AM] Episode: 2/2 Step: 151/200\"}, \"xaxis\": {\"anchor\": \"y\", \"domain\": [0.0, 1.0], \"gridcolor\": \"Gainsboro\", \"linecolor\": \"Grey\", \"matches\": \"x4\", \"rangeslider\": {\"visible\": false}, \"showticklabels\": false, \"title\": {\"font\": {\"size\": 12}, \"standoff\": 7, \"text\": \"Price\"}}, \"xaxis2\": {\"anchor\": \"y2\", \"domain\": [0.0, 1.0], \"gridcolor\": \"Gainsboro\", \"linecolor\": \"Grey\", \"matches\": \"x4\", \"showticklabels\": false, \"title\": {\"font\": {\"size\": 12}, \"standoff\": 7, \"text\": \"Volume\"}}, \"xaxis3\": {\"anchor\": \"y3\", \"domain\": [0.0, 1.0], \"gridcolor\": \"Gainsboro\", \"linecolor\": \"Grey\", \"matches\": \"x4\", \"showticklabels\": false, \"title\": {\"font\": {\"size\": 12}, \"standoff\": 7, \"text\": \"Performance\"}}, \"xaxis4\": {\"anchor\": \"y4\", \"domain\": [0.0, 1.0], \"gridcolor\": \"Gainsboro\", \"linecolor\": \"Grey\", \"title\": {\"font\": {\"size\": 12}, \"standoff\": 7, \"text\": \"Net Worth\"}}, \"yaxis\": {\"anchor\": \"x\", \"domain\": [0.49950000000000006, 1.0], \"gridcolor\": \"Gainsboro\", \"linecolor\": \"Grey\"}, \"yaxis2\": {\"anchor\": \"x2\", \"domain\": [0.333, 0.46950000000000003], \"gridcolor\": \"Gainsboro\", \"linecolor\": \"Grey\"}, \"yaxis3\": {\"anchor\": \"x3\", \"domain\": [0.1665, 0.30300000000000005], \"gridcolor\": \"Gainsboro\", \"linecolor\": \"Grey\"}, \"yaxis4\": {\"anchor\": \"x4\", \"domain\": [0.0, 0.1365], \"gridcolor\": \"Gainsboro\", \"linecolor\": \"Grey\"}},                        {\"responsive\": true}                    ).then(function(){\n                            \nvar gd = document.getElementById('d095a009-4616-4978-93ea-a0c13089d6e7');\nvar x = new MutationObserver(function (mutations, observer) {{\n        var display = window.getComputedStyle(gd).display;\n        if (!display || display === 'none') {{\n            console.log([gd, 'removed!']);\n            Plotly.purge(gd);\n            observer.disconnect();\n        }}\n}});\n\n// Listen for the removal of the full notebook cells\nvar notebookContainer = gd.closest('#notebook-container');\nif (notebookContainer) {{\n    x.observe(notebookContainer, {childList: true});\n}}\n\n// Listen for the clearing of the current output cell\nvar outputEl = gd.closest('.output');\nif (outputEl) {{\n    x.observe(outputEl, {childList: true});\n}}\n\n                        })                };                });            </script>        </div>"
     },
     "metadata": {},
     "output_type": "display_data"
    },
    {
     "data": {
      "application/vnd.plotly.v1+json": {
       "config": {
        "plotlyServerURL": "https://plot.ly"
       },
       "data": [
        {
         "close": [
          8740.99,
          8739.0,
          8728.49,
          8708.32,
          8795.9,
          8760.0,
          8760.0,
          8759.23,
          8517.77,
          8520.3,
          8535.23,
          8546.34,
          8526.65,
          8555.6,
          8512.1,
          8492.28,
          8460.0,
          8474.99,
          8455.92,
          8326.28,
          8133.43,
          8164.79,
          8229.38,
          8220.4,
          8238.8,
          8232.99,
          8207.48,
          8243.45,
          8371.13,
          8373.0,
          8365.08,
          8179.99,
          8225.0,
          8285.8,
          8273.4,
          8297.4,
          8279.89,
          8252.72,
          8302.18,
          8295.85,
          8277.25,
          8346.59,
          8358.3,
          8375.1,
          8368.62,
          8366.72,
          8314.77,
          8363.7,
          8344.16,
          8247.4,
          8277.4,
          8291.67,
          8307.89,
          8298.9,
          8269.47,
          8300.98,
          8318.49,
          8306.39,
          8276.43,
          8257.69,
          8166.0,
          8176.33,
          8200.7,
          8155.41,
          8080.0,
          8067.03,
          7958.08,
          7974.25,
          7998.5,
          7991.99,
          8022.7,
          8042.97,
          7965.67,
          8088.95,
          8122.19,
          8107.99,
          8137.73,
          8115.0,
          8107.0,
          8094.4,
          8080.01,
          8117.09,
          8126.99,
          8110.95,
          8215.39,
          8231.42,
          8240.13,
          8235.0,
          8219.9,
          8248.87,
          8213.5,
          8200.99,
          8200.0,
          8237.3,
          8228.13,
          8240.83,
          8214.9,
          8170.07,
          8229.87,
          8205.87,
          8252.56,
          8365.0,
          8348.65,
          8303.99,
          8310.48,
          8310.0,
          8289.87,
          8304.99,
          8301.35,
          8313.12,
          8240.07,
          8199.99,
          8226.98,
          8231.2,
          8198.89,
          8215.85,
          8279.99,
          8255.08,
          8270.4,
          8244.24,
          8239.12,
          8267.14,
          8282.27,
          8350.62,
          8336.6,
          8336.91,
          8311.21,
          8312.09,
          8345.19,
          8377.2,
          8481.11,
          8516.36,
          8524.0,
          8517.04,
          8558.5,
          8521.99,
          8484.93,
          8518.48,
          8488.99,
          8466.72,
          8492.55,
          8494.28,
          8510.95,
          8498.64,
          8551.1,
          8524.22,
          8510.11,
          8475.62,
          8476.58,
          8467.13,
          8499.84,
          8490.42,
          8407.09,
          8409.42,
          8400.96,
          8383.14,
          8350.0,
          8373.01,
          8412.8,
          8385.57,
          8408.53,
          8391.76,
          8367.36,
          8280.24,
          8297.91,
          8333.99,
          8285.29,
          8280.0,
          8317.02,
          8320.16,
          8295.9,
          8245.47,
          8264.98,
          8200.0,
          8170.0,
          8217.0,
          8231.63,
          8232.8,
          8225.38,
          8200.01,
          8219.98,
          8187.98,
          8100.32,
          8076.99,
          7964.73,
          7984.08,
          7949.35,
          7900.61,
          7895.5,
          7960.0,
          7900.0,
          7921.99,
          7943.07,
          7856.37,
          7848.3,
          7852.68,
          7847.1,
          7849.31,
          7911.83,
          7901.01,
          7887.0
         ],
         "high": [
          8796.68,
          8766.0,
          8750.27,
          8754.4,
          8865.0,
          8821.19,
          8798.6,
          8771.02,
          8761.7,
          8553.67,
          8589.1,
          8579.48,
          8555.51,
          8583.6,
          8569.92,
          8555.54,
          8557.51,
          8505.0,
          8505.33,
          8478.29,
          8339.81,
          8217.44,
          8252.72,
          8248.63,
          8267.12,
          8255.0,
          8261.24,
          8263.93,
          8455.66,
          8439.44,
          8399.1,
          8381.73,
          8229.91,
          8377.29,
          8329.1,
          8350.0,
          8346.95,
          8377.29,
          8311.35,
          8319.96,
          8398.24,
          8372.58,
          8399.99,
          8386.53,
          8400.0,
          8500.0,
          8381.0,
          8371.3,
          8382.41,
          8351.0,
          8292.99,
          8325.8,
          8318.99,
          8324.9,
          8335.56,
          8309.4,
          8377.29,
          8330.41,
          8328.23,
          8284.36,
          8274.83,
          8200.0,
          8232.14,
          8213.97,
          8155.41,
          8108.28,
          8068.92,
          8019.9,
          8026.66,
          8025.0,
          8104.69,
          8061.39,
          8045.99,
          8170.71,
          8144.16,
          8139.99,
          8152.99,
          8137.73,
          8143.72,
          8129.99,
          8106.76,
          8139.0,
          8152.04,
          8146.99,
          8232.14,
          8275.1,
          8256.12,
          8274.1,
          8255.8,
          8253.97,
          8261.09,
          8235.76,
          8227.0,
          8273.36,
          8264.21,
          8250.0,
          8250.86,
          8235.77,
          8232.12,
          8232.14,
          8252.72,
          8370.0,
          8395.0,
          8374.48,
          8331.0,
          8319.43,
          8323.4,
          8314.55,
          8330.62,
          8314.8,
          8323.99,
          8263.03,
          8247.78,
          8253.75,
          8237.89,
          8235.0,
          8279.99,
          8290.0,
          8278.71,
          8275.34,
          8279.31,
          8279.98,
          8294.04,
          8356.4,
          8374.94,
          8354.83,
          8360.45,
          8337.14,
          8351.97,
          8377.29,
          8549.0,
          8531.9,
          8551.79,
          8529.9,
          8590.0,
          8576.1,
          8549.89,
          8531.89,
          8550.0,
          8493.29,
          8522.98,
          8517.0,
          8537.29,
          8524.51,
          8589.1,
          8589.07,
          8536.92,
          8524.03,
          8497.8,
          8498.0,
          8513.5,
          8510.0,
          8494.7,
          8427.29,
          8419.03,
          8415.47,
          8389.99,
          8397.57,
          8455.0,
          8429.66,
          8412.61,
          8424.0,
          8417.65,
          8369.7,
          8326.5,
          8336.65,
          8333.99,
          8314.32,
          8355.97,
          8333.49,
          8325.6,
          8296.01,
          8264.98,
          8271.31,
          8200.0,
          8232.14,
          8246.0,
          8248.94,
          8259.95,
          8242.49,
          8232.04,
          8230.9,
          8205.0,
          8118.98,
          8103.07,
          8040.95,
          8032.01,
          7960.25,
          7920.0,
          7960.0,
          7960.0,
          7935.0,
          7960.99,
          7951.38,
          7888.92,
          7870.0,
          7909.75,
          7882.27,
          7949.27,
          7944.73,
          7916.48
         ],
         "low": [
          8707.28,
          8721.11,
          8660.53,
          8701.35,
          8695.11,
          8740.54,
          8741.52,
          8700.0,
          8467.42,
          8477.89,
          8500.78,
          8500.0,
          8400.0,
          8451.05,
          8461.38,
          8481.24,
          8420.37,
          8450.0,
          8430.94,
          8275.02,
          8100.01,
          8122.56,
          8157.01,
          8166.25,
          8176.91,
          8213.79,
          8200.0,
          8207.48,
          8237.1,
          8370.0,
          8356.4,
          8145.1,
          8173.6,
          8211.8,
          8201.0,
          8250.9,
          8266.46,
          8252.72,
          8232.14,
          8268.37,
          8277.25,
          8277.25,
          8314.78,
          8314.77,
          8350.07,
          8331.39,
          8314.77,
          8275.45,
          8335.49,
          8191.14,
          8227.7,
          8264.13,
          8249.93,
          8269.52,
          8219.44,
          8262.68,
          8286.65,
          8289.87,
          8232.14,
          8232.14,
          8110.02,
          8154.95,
          8168.6,
          8151.0,
          7980.0,
          8005.95,
          7929.53,
          7931.03,
          7950.0,
          7980.58,
          7991.99,
          7992.75,
          7953.4,
          7965.67,
          8085.94,
          8078.48,
          8092.9,
          8049.22,
          8079.46,
          8062.12,
          8043.96,
          8063.1,
          8088.46,
          8094.43,
          8088.46,
          8191.14,
          8212.0,
          8224.5,
          8211.0,
          8211.01,
          8210.03,
          8158.27,
          8177.65,
          8179.41,
          8221.92,
          8217.32,
          8213.52,
          8141.08,
          8146.1,
          8186.03,
          8197.09,
          8231.21,
          8323.82,
          8296.0,
          8296.31,
          8282.65,
          8280.0,
          8273.36,
          8290.08,
          8277.93,
          8240.07,
          8191.14,
          8178.0,
          8193.7,
          8180.0,
          8170.71,
          8215.53,
          8240.02,
          8237.17,
          8237.17,
          8239.12,
          8227.79,
          8247.57,
          8274.24,
          8326.1,
          8320.61,
          8281.31,
          8269.85,
          8311.16,
          8336.11,
          8369.86,
          8471.51,
          8511.0,
          8476.66,
          8507.68,
          8509.24,
          8482.53,
          8484.93,
          8450.0,
          8434.47,
          8461.1,
          8481.0,
          8480.0,
          8488.1,
          8471.09,
          8509.2,
          8482.64,
          8469.0,
          8440.4,
          8440.52,
          8461.8,
          8480.0,
          8358.17,
          8380.73,
          8370.0,
          8383.12,
          8320.0,
          8349.17,
          8357.11,
          8370.58,
          8367.21,
          8376.99,
          8335.6,
          8252.72,
          8264.49,
          8282.59,
          8271.09,
          8261.52,
          8280.0,
          8297.0,
          8290.0,
          8220.0,
          8230.45,
          8180.0,
          8119.38,
          8170.0,
          8189.84,
          8210.76,
          8212.68,
          8200.0,
          8186.0,
          8161.77,
          8063.15,
          8050.01,
          7951.41,
          7964.73,
          7949.35,
          7861.32,
          7865.0,
          7886.48,
          7870.35,
          7885.2,
          7896.41,
          7811.62,
          7808.05,
          7808.0,
          7836.79,
          7801.02,
          7847.36,
          7883.0,
          7850.72
         ],
         "name": "Price",
         "open": [
          8733.86,
          8740.99,
          8739.0,
          8728.49,
          8708.32,
          8795.9,
          8760.0,
          8760.0,
          8759.23,
          8517.77,
          8520.3,
          8535.23,
          8546.34,
          8526.65,
          8555.6,
          8512.1,
          8492.28,
          8460.0,
          8474.99,
          8455.92,
          8326.28,
          8133.43,
          8164.79,
          8229.38,
          8220.4,
          8238.8,
          8232.99,
          8207.48,
          8243.45,
          8371.13,
          8373.0,
          8365.08,
          8179.99,
          8225.0,
          8285.8,
          8273.4,
          8297.4,
          8279.89,
          8252.72,
          8302.18,
          8295.85,
          8277.25,
          8346.59,
          8358.3,
          8375.1,
          8368.62,
          8366.72,
          8314.77,
          8363.7,
          8344.16,
          8247.4,
          8277.4,
          8291.67,
          8307.89,
          8298.9,
          8269.47,
          8300.98,
          8318.49,
          8306.39,
          8276.43,
          8257.69,
          8166.0,
          8176.33,
          8200.7,
          8155.41,
          8080.0,
          8067.03,
          7958.08,
          7974.25,
          7998.5,
          7991.99,
          8022.7,
          8042.97,
          7965.67,
          8088.95,
          8122.19,
          8107.99,
          8137.73,
          8115.0,
          8107.0,
          8094.4,
          8080.01,
          8117.09,
          8126.99,
          8110.95,
          8215.39,
          8231.42,
          8240.13,
          8235.0,
          8219.9,
          8248.87,
          8213.5,
          8200.99,
          8200.0,
          8237.3,
          8228.13,
          8240.83,
          8214.9,
          8170.07,
          8229.87,
          8205.87,
          8252.56,
          8365.0,
          8348.65,
          8303.99,
          8310.48,
          8310.0,
          8289.87,
          8304.99,
          8301.35,
          8313.12,
          8240.07,
          8199.99,
          8226.98,
          8231.2,
          8198.89,
          8215.85,
          8279.99,
          8255.08,
          8270.4,
          8244.24,
          8239.12,
          8267.14,
          8282.27,
          8350.62,
          8336.6,
          8336.91,
          8311.21,
          8312.09,
          8345.19,
          8377.2,
          8481.11,
          8516.36,
          8524.0,
          8517.04,
          8558.5,
          8521.99,
          8484.93,
          8518.48,
          8488.99,
          8466.72,
          8492.55,
          8494.28,
          8510.95,
          8498.64,
          8551.1,
          8524.22,
          8510.11,
          8475.62,
          8476.58,
          8467.13,
          8499.84,
          8490.42,
          8407.09,
          8409.42,
          8400.96,
          8383.14,
          8350.0,
          8373.01,
          8412.8,
          8385.57,
          8408.53,
          8391.76,
          8367.36,
          8280.24,
          8297.91,
          8333.99,
          8285.29,
          8280.0,
          8317.02,
          8320.16,
          8295.9,
          8245.47,
          8264.98,
          8200.0,
          8170.0,
          8217.0,
          8231.63,
          8232.8,
          8225.38,
          8200.01,
          8219.98,
          8187.98,
          8100.32,
          8076.99,
          7964.73,
          7984.08,
          7949.35,
          7900.61,
          7895.5,
          7960.0,
          7900.0,
          7921.99,
          7943.07,
          7856.37,
          7848.3,
          7852.68,
          7847.1,
          7849.31,
          7911.83,
          7901.01
         ],
         "showlegend": false,
         "type": "candlestick",
         "uid": "5d9cbee0-de77-4557-a546-4573fc3c95e9",
         "xaxis": "x",
         "yaxis": "y"
        },
        {
         "marker": {
          "color": "DodgerBlue"
         },
         "name": "Volume",
         "showlegend": false,
         "type": "bar",
         "uid": "14a86980-c226-4a52-ae75-2f3d7c02334f",
         "xaxis": "x2",
         "y": [
          559.93,
          273.58,
          917.79,
          182.62,
          1260.69,
          324.11,
          324.2,
          730.67,
          1341.75,
          792.07,
          385.69,
          475.08,
          877.26,
          670.49,
          610.97,
          168.99,
          305.92,
          136.05,
          154.26,
          1070.93,
          1710.2,
          492.8,
          630.72,
          620.93,
          586.34,
          304.52,
          450.97,
          182.36,
          915.32,
          319.29,
          362.01,
          1046.38,
          357.91,
          561.2,
          322.53,
          1073.71,
          237.21,
          251.2,
          359.73,
          117.23,
          363.17,
          214.18,
          171.64,
          258.58,
          299.52,
          718.98,
          119.7,
          405.25,
          210.77,
          714.82,
          215.97,
          164.2,
          201.55,
          203.41,
          886.82,
          95.49,
          499.67,
          172.77,
          355.39,
          255.27,
          591.06,
          133.1,
          149.13,
          87.55,
          1061.54,
          286.94,
          524.42,
          316.0,
          441.43,
          189.7,
          844.94,
          155.34,
          257.56,
          610.69,
          217.97,
          173.18,
          218.06,
          372.97,
          484.39,
          248.1,
          162.35,
          303.42,
          290.69,
          160.93,
          369.4,
          487.27,
          93.35,
          96.68,
          72.14,
          90.22,
          168.52,
          203.15,
          71.42,
          464.56,
          57.0,
          89.42,
          49.47,
          200.05,
          254.37,
          65.05,
          118.19,
          452.4,
          181.03,
          288.04,
          145.78,
          110.14,
          55.48,
          80.87,
          67.01,
          59.16,
          121.26,
          244.37,
          156.87,
          80.48,
          139.32,
          93.52,
          200.23,
          97.4,
          68.08,
          47.0,
          36.65,
          28.75,
          182.85,
          400.18,
          288.1,
          182.94,
          777.81,
          493.59,
          118.63,
          174.37,
          901.75,
          222.45,
          113.8,
          84.2,
          261.44,
          168.78,
          111.07,
          122.12,
          267.32,
          210.39,
          211.36,
          146.22,
          93.39,
          89.04,
          307.59,
          307.2,
          164.24,
          151.21,
          399.77,
          362.01,
          260.85,
          232.32,
          1109.45,
          348.5,
          210.57,
          274.92,
          277.83,
          99.57,
          273.12,
          129.47,
          113.05,
          87.6,
          159.37,
          433.28,
          133.29,
          200.57,
          210.33,
          206.4,
          357.53,
          107.43,
          116.54,
          479.07,
          290.38,
          812.96,
          1542.87,
          430.36,
          312.54,
          132.75,
          333.64,
          205.86,
          120.33,
          263.1,
          457.64,
          451.55,
          962.22,
          381.04,
          386.95,
          905.87,
          453.48,
          542.31,
          476.48,
          341.79,
          654.23,
          769.1,
          719.94,
          523.05,
          409.37,
          255.12,
          551.86,
          340.62,
          488.69
         ],
         "yaxis": "y2"
        },
        {
         "mode": "lines",
         "name": "bitstamp:/USD-BTC",
         "type": "scatter",
         "uid": "574af33e-2e53-4600-af77-543cc2191f5e",
         "xaxis": "x3",
         "y": [
          8740.99,
          8739.0,
          8728.49,
          8708.32,
          8795.9,
          8760.0,
          8760.0,
          8759.23,
          8517.77,
          8520.3,
          8535.23,
          8546.34,
          8526.65,
          8555.6,
          8512.1,
          8492.28,
          8460.0,
          8474.99,
          8455.92,
          8326.28,
          8133.43,
          8164.79,
          8229.38,
          8220.4,
          8238.8,
          8232.99,
          8207.48,
          8243.45,
          8371.13,
          8373.0,
          8365.08,
          8179.99,
          8225.0,
          8285.8,
          8273.4,
          8297.4,
          8279.89,
          8252.72,
          8302.18,
          8295.85,
          8277.25,
          8346.59,
          8358.3,
          8375.1,
          8368.62,
          8366.72,
          8314.77,
          8363.7,
          8344.16,
          8247.4,
          8277.4,
          8291.67,
          8307.89,
          8298.9,
          8269.47,
          8300.98,
          8318.49,
          8306.39,
          8276.43,
          8257.69,
          8166.0,
          8176.33,
          8200.7,
          8155.41,
          8080.0,
          8067.03,
          7958.08,
          7974.25,
          7998.5,
          7991.99,
          8022.7,
          8042.97,
          7965.67,
          8088.95,
          8122.19,
          8107.99,
          8137.73,
          8115.0,
          8107.0,
          8094.4,
          8080.01,
          8117.09,
          8126.99,
          8110.95,
          8215.39,
          8231.42,
          8240.13,
          8235.0,
          8219.9,
          8248.87,
          8213.5,
          8200.99,
          8200.0,
          8237.3,
          8228.13,
          8240.83,
          8214.9,
          8170.07,
          8229.87,
          8205.87,
          8252.56,
          8365.0,
          8348.65,
          8303.99,
          8310.48,
          8310.0,
          8289.87,
          8304.99,
          8301.35,
          8313.12,
          8240.07,
          8199.99,
          8226.98,
          8231.2,
          8198.89,
          8215.85,
          8279.99,
          8255.08,
          8270.4,
          8244.24,
          8239.12,
          8267.14,
          8282.27,
          8350.62,
          8336.6,
          8336.91,
          8311.21,
          8312.09,
          8345.19,
          8377.2,
          8481.11,
          8516.36,
          8524.0,
          8517.04,
          8558.5,
          8521.99,
          8484.93,
          8518.48,
          8488.99,
          8466.72,
          8492.55,
          8494.28,
          8510.95,
          8498.64,
          8551.1,
          8524.22,
          8510.11,
          8475.62,
          8476.58,
          8467.13,
          8499.84,
          8490.42,
          8407.09,
          8409.42,
          8400.96,
          8383.14,
          8350.0,
          8373.01,
          8412.8,
          8385.57,
          8408.53,
          8391.76,
          8367.36,
          8280.24,
          8297.91,
          8333.99,
          8285.29,
          8280.0,
          8317.02,
          8320.16,
          8295.9,
          8245.47,
          8264.98,
          8200.0,
          8170.0,
          8217.0,
          8231.63,
          8232.8,
          8225.38,
          8200.01,
          8219.98,
          8187.98,
          8100.32,
          8076.99,
          7964.73,
          7984.08,
          7949.35,
          7900.61,
          7895.5,
          7960.0,
          7900.0,
          7921.99,
          7943.07,
          7856.37,
          7848.3,
          7852.68,
          7847.1,
          7849.31,
          7911.83,
          7901.01,
          7887.0
         ],
         "yaxis": "y3"
        },
        {
         "mode": "lines",
         "name": "bitstamp:/USD:/free",
         "type": "scatter",
         "uid": "ff5fe72f-8fec-4094-8d5a-9b1db2e631dc",
         "xaxis": "x3",
         "y": [
          10000.0,
          10000.0,
          10000.0,
          5000.0,
          4000.0,
          4000.0,
          4000.0,
          4000.0,
          3200.0,
          3200.0,
          3200.0,
          3200.0,
          3200.0,
          320.0,
          320.0,
          320.0,
          320.0,
          288.0,
          288.0,
          0.0,
          0.0,
          5644.96,
          6576.93,
          6576.93,
          6576.93,
          6576.93,
          6576.93,
          6576.93,
          6576.93,
          2630.77,
          0.0,
          0.0,
          6579.31,
          6579.31,
          6579.31,
          6579.31,
          6579.31,
          6579.31,
          6579.31,
          6579.31,
          6579.31,
          6579.31,
          3289.65,
          3289.65,
          3289.65,
          3289.65,
          0.0,
          0.0,
          0.0,
          0.0,
          0.0,
          0.0,
          0.0,
          0.0,
          0.0,
          0.0,
          0.0,
          0.0,
          0.0,
          0.0,
          0.0,
          5749.56,
          5749.56,
          2874.78,
          2874.78,
          2874.78,
          287.48,
          287.48,
          287.48,
          287.48,
          287.48,
          287.48,
          287.48,
          287.48,
          287.48,
          287.48,
          287.48,
          287.48,
          287.48,
          287.48,
          287.48,
          287.48,
          258.73,
          258.73,
          258.73,
          258.73,
          77.62,
          77.62,
          77.62,
          23.29,
          23.29,
          0.0,
          0.0,
          0.0,
          0.0,
          0.0,
          0.0,
          0.0,
          0.0,
          0.0,
          0.0,
          0.0,
          2944.26,
          5605.84,
          5605.84,
          5605.84,
          5605.84,
          5605.84,
          5605.84,
          5605.84,
          5605.84,
          3363.5,
          3363.5,
          3363.5,
          3363.5,
          3363.5,
          3363.5,
          3363.5,
          3363.5,
          3363.5,
          3363.5,
          3363.5,
          3363.5,
          3363.5,
          5622.31,
          5622.31,
          5622.31,
          5622.31,
          5622.31,
          5622.31,
          5622.31,
          4707.24,
          4763.2,
          4763.2,
          4286.88,
          4286.88,
          4286.88,
          4286.88,
          4286.88,
          4286.88,
          4286.88,
          4286.88,
          4286.88,
          4286.88,
          4286.88,
          4286.88,
          4286.88,
          4286.88,
          4286.88,
          4286.88,
          4286.88,
          4286.88,
          4286.88,
          0.0,
          0.0,
          0.0,
          0.0,
          0.0,
          0.0,
          0.0,
          0.0,
          0.0,
          0.0,
          0.0,
          0.0,
          0.0,
          0.0,
          0.0,
          0.0,
          0.0,
          0.0,
          0.0,
          0.0,
          0.0,
          0.0,
          454.17,
          136.25,
          136.25,
          136.25,
          136.25,
          136.25,
          136.25,
          136.25,
          136.25,
          27.25,
          4064.23,
          4064.23,
          4094.11,
          4094.11,
          4094.11,
          4094.11,
          4094.11,
          2865.88,
          2579.29,
          2881.44,
          5948.77,
          5948.77,
          5948.77,
          5948.77,
          5948.77,
          5948.77
         ],
         "yaxis": "y3"
        },
        {
         "mode": "lines",
         "name": "bitstamp:/USD:/locked",
         "type": "scatter",
         "uid": "b65b6550-ac6d-4f1e-8514-e0d91d4a02fa",
         "xaxis": "x3",
         "y": [
          0.0,
          8714.77,
          16556.27,
          16556.27,
          16556.27,
          87589.32,
          87589.32,
          87589.32,
          87589.32,
          79747.82,
          87544.66,
          87544.66,
          87544.66,
          87544.66,
          87544.66,
          87544.66,
          87544.66,
          87544.66,
          87544.66,
          87544.66,
          0.0,
          0.0,
          8533.24,
          37173.72,
          42045.02,
          46439.0,
          50390.8,
          53936.4,
          57141.42,
          57141.42,
          57141.42,
          62995.58,
          65285.43,
          67357.64,
          74872.73,
          86128.49,
          86128.49,
          86128.49,
          86128.49,
          86128.49,
          86128.49,
          86128.49,
          86128.49,
          86128.49,
          78693.53,
          78693.53,
          78693.53,
          78693.53,
          78693.53,
          78693.53,
          78693.53,
          78693.53,
          78693.53,
          78693.53,
          78693.53,
          78693.53,
          78693.53,
          78693.53,
          78693.53,
          78693.53,
          78693.53,
          78693.53,
          78693.53,
          78693.53,
          78693.53,
          67437.77,
          67437.77,
          78457.27,
          78457.27,
          78457.27,
          78457.27,
          78457.27,
          78457.27,
          78457.27,
          78457.27,
          67660.42,
          67660.42,
          67660.42,
          67660.42,
          67660.42,
          67660.42,
          67660.42,
          67660.42,
          67660.42,
          67660.42,
          67660.42,
          67660.42,
          67660.42,
          67660.42,
          67660.42,
          67660.42,
          67660.42,
          67660.42,
          67660.42,
          67660.42,
          67660.42,
          67660.42,
          67660.42,
          67660.42,
          67660.42,
          67660.42,
          67660.42,
          67660.42,
          67660.42,
          67660.42,
          67660.42,
          67660.42,
          67660.42,
          67660.42,
          67660.42,
          67660.42,
          67660.42,
          67660.42,
          67660.42,
          67660.42,
          67660.42,
          67660.42,
          67660.42,
          67660.42,
          67660.42,
          67660.42,
          67660.42,
          67660.42,
          67660.42,
          67660.42,
          67660.42,
          67660.42,
          67660.42,
          67660.42,
          67660.42,
          67660.42,
          34245.69,
          17411.46,
          11594.85,
          8178.12,
          8178.12,
          8178.12,
          8178.12,
          8178.12,
          8178.12,
          8178.12,
          8178.12,
          8178.12,
          8178.12,
          8178.12,
          8178.12,
          8178.12,
          8178.12,
          8178.12,
          8178.12,
          8178.12,
          8178.12,
          8178.12,
          8178.12,
          8178.12,
          8178.12,
          8178.12,
          8178.12,
          8178.12,
          8178.12,
          8178.12,
          8178.12,
          8178.12,
          8178.12,
          8178.12,
          8178.12,
          8178.12,
          8178.12,
          8178.12,
          8178.12,
          8178.12,
          8178.12,
          8178.12,
          8178.12,
          8178.12,
          8178.12,
          8178.12,
          8178.12,
          8178.12,
          8178.12,
          8178.12,
          8178.12,
          8178.12,
          8178.12,
          8178.12,
          8178.12,
          8178.12,
          8178.12,
          8178.12,
          8178.12,
          8178.12,
          8178.12,
          8178.12,
          8178.12,
          2323.96,
          2905.27,
          3428.74,
          3899.53,
          4323.36,
          4707.85,
          5053.41
         ],
         "yaxis": "y3"
        },
        {
         "mode": "lines",
         "name": "bitstamp:/USD:/total",
         "type": "scatter",
         "uid": "0fb84544-fd88-49af-9140-fc69fc077cb0",
         "xaxis": "x3",
         "y": [
          10000.0,
          18714.77,
          26556.27,
          21556.27,
          20556.27,
          91589.32,
          91589.32,
          91589.32,
          90789.32,
          82947.82,
          90744.66,
          90744.66,
          90744.66,
          87864.66,
          87864.66,
          87864.66,
          87864.66,
          87832.66,
          87832.66,
          87544.66,
          0.0,
          5644.96,
          15110.17,
          43750.65,
          48621.95,
          53015.93,
          56967.73,
          60513.33,
          63718.35,
          59772.19,
          57141.42,
          62995.58,
          71864.74,
          73936.95,
          81452.04,
          92707.8,
          92707.8,
          92707.8,
          92707.8,
          92707.8,
          92707.8,
          92707.8,
          89418.14,
          89418.14,
          81983.18,
          81983.18,
          78693.53,
          78693.53,
          78693.53,
          78693.53,
          78693.53,
          78693.53,
          78693.53,
          78693.53,
          78693.53,
          78693.53,
          78693.53,
          78693.53,
          78693.53,
          78693.53,
          78693.53,
          84443.09,
          84443.09,
          81568.31,
          81568.31,
          70312.55,
          67725.25,
          78744.75,
          78744.75,
          78744.75,
          78744.75,
          78744.75,
          78744.75,
          78744.75,
          78744.75,
          67947.9,
          67947.9,
          67947.9,
          67947.9,
          67947.9,
          67947.9,
          67947.9,
          67919.15,
          67919.15,
          67919.15,
          67919.15,
          67738.04,
          67738.04,
          67738.04,
          67683.71,
          67683.71,
          67660.42,
          67660.42,
          67660.42,
          67660.42,
          67660.42,
          67660.42,
          67660.42,
          67660.42,
          67660.42,
          67660.42,
          67660.42,
          70604.68,
          73266.26,
          73266.26,
          73266.26,
          73266.26,
          73266.26,
          73266.26,
          73266.26,
          73266.26,
          71023.92,
          71023.92,
          71023.92,
          71023.92,
          71023.92,
          71023.92,
          71023.92,
          71023.92,
          71023.92,
          71023.92,
          71023.92,
          71023.92,
          71023.92,
          73282.73,
          73282.73,
          73282.73,
          73282.73,
          73282.73,
          73282.73,
          73282.73,
          38952.93,
          22174.66,
          16358.05,
          12465.0,
          12465.0,
          12465.0,
          12465.0,
          12465.0,
          12465.0,
          12465.0,
          12465.0,
          12465.0,
          12465.0,
          12465.0,
          12465.0,
          12465.0,
          12465.0,
          12465.0,
          12465.0,
          12465.0,
          12465.0,
          12465.0,
          8178.12,
          8178.12,
          8178.12,
          8178.12,
          8178.12,
          8178.12,
          8178.12,
          8178.12,
          8178.12,
          8178.12,
          8178.12,
          8178.12,
          8178.12,
          8178.12,
          8178.12,
          8178.12,
          8178.12,
          8178.12,
          8178.12,
          8178.12,
          8178.12,
          8178.12,
          8632.29,
          8314.37,
          8314.37,
          8314.37,
          8314.37,
          8314.37,
          8314.37,
          8314.37,
          8314.37,
          8205.37,
          12242.35,
          12242.35,
          12272.23,
          12272.23,
          12272.23,
          12272.23,
          12272.23,
          11044.0,
          10757.41,
          5205.4,
          8854.04,
          9377.51,
          9848.3,
          10272.13,
          10656.62,
          11002.18
         ],
         "yaxis": "y3"
        },
        {
         "mode": "lines",
         "name": "bitstamp:/BTC:/free",
         "type": "scatter",
         "uid": "1a8e0fb8-1bbf-4b27-8697-5e130693893c",
         "xaxis": "x3",
         "y": [
          10.0,
          9.0,
          8.1,
          8.1,
          8.1,
          0.0,
          0.0,
          0.0,
          0.0,
          0.91784352,
          0.0,
          0.0,
          0.0,
          0.0,
          0.0,
          0.0,
          0.0,
          0.0,
          0.0,
          0.0,
          10.48271616,
          9.43444454,
          8.49100009,
          5.94370006,
          5.34933005,
          4.81439705,
          4.33295734,
          3.89966161,
          3.50969545,
          3.50969545,
          3.50969545,
          2.80775636,
          2.52698072,
          2.27428265,
          1.36456959,
          0.0,
          0.0,
          0.0,
          0.0,
          0.0,
          0.0,
          0.0,
          0.0,
          0.0,
          0.0,
          0.0,
          0.0,
          0.0,
          0.0,
          0.0,
          0.0,
          0.0,
          0.0,
          0.0,
          0.0,
          0.0,
          0.0,
          0.0,
          0.0,
          0.0,
          0.0,
          0.0,
          0.0,
          0.0,
          0.0,
          1.38886015,
          1.38886015,
          0.0,
          0.0,
          0.0,
          0.0,
          0.0,
          0.0,
          0.0,
          0.0,
          0.0,
          0.0,
          0.0,
          0.0,
          0.0,
          0.0,
          0.0,
          0.0,
          0.0,
          0.0,
          0.0,
          0.0,
          0.0,
          0.0,
          0.0,
          0.0,
          0.0,
          0.0,
          0.0,
          0.0,
          0.0,
          0.0,
          0.0,
          0.0,
          0.0,
          0.0,
          0.0,
          0.0,
          0.0,
          0.0,
          0.0,
          0.0,
          0.0,
          0.0,
          0.0,
          0.0,
          0.0,
          0.0,
          0.0,
          0.0,
          0.0,
          0.0,
          0.0,
          0.0,
          0.0,
          0.0,
          0.0,
          0.0,
          0.0,
          0.0,
          0.0,
          0.0,
          0.0,
          0.0,
          0.0,
          0.0,
          0.0,
          0.0,
          0.0,
          0.0,
          0.0,
          0.0,
          0.0,
          0.0,
          0.0,
          0.0,
          0.0,
          0.0,
          0.0,
          0.0,
          0.0,
          0.0,
          0.0,
          0.0,
          0.0,
          0.0,
          0.0,
          0.0,
          0.0,
          0.0,
          0.0,
          0.0,
          0.0,
          0.0,
          0.0,
          0.0,
          0.0,
          0.0,
          0.0,
          0.0,
          0.0,
          0.0,
          0.0,
          0.0,
          0.0,
          0.0,
          0.0,
          0.0,
          0.0,
          0.0,
          0.0,
          0.0,
          0.0,
          0.0,
          0.0,
          0.0,
          0.0,
          0.0,
          0.0,
          0.0,
          0.0,
          0.0,
          0.0,
          0.0,
          0.0,
          0.0,
          0.0,
          0.0,
          0.0,
          0.74291308,
          0.66862177,
          0.60175959,
          0.54158363,
          0.48742527,
          0.43868274,
          0.39481447
         ],
         "yaxis": "y3"
        },
        {
         "mode": "lines",
         "name": "bitstamp:/BTC:/locked",
         "type": "scatter",
         "uid": "a0ffd6f4-bd1f-401d-ad90-0c192ed97e4c",
         "xaxis": "x3",
         "y": [
          0.0,
          0.0,
          0.0,
          0.57111826,
          0.68560647,
          0.68560647,
          0.68560647,
          0.68560647,
          0.7766647,
          0.7766647,
          0.7766647,
          0.7766647,
          0.7766647,
          1.11341594,
          1.11341594,
          1.11341594,
          1.11341594,
          1.11718663,
          1.11718663,
          1.1511439,
          1.1511439,
          1.50328176,
          1.28396638,
          0.34052193,
          0.34052193,
          0.34052193,
          0.34052193,
          0.34052193,
          0.34052193,
          0.81050866,
          1.12376317,
          1.12376317,
          0.3170252,
          0.3170252,
          0.3170252,
          0.3170252,
          0.3170252,
          0.3170252,
          0.3170252,
          0.3170252,
          0.3170252,
          0.3170252,
          0.7099749,
          0.7099749,
          1.59505806,
          1.59505806,
          1.98706114,
          1.98706114,
          1.98706114,
          1.98706114,
          1.98706114,
          1.98706114,
          1.98706114,
          1.98706114,
          1.98706114,
          1.98706114,
          1.98706114,
          1.98706114,
          1.98706114,
          1.98706114,
          1.98706114,
          1.28085693,
          1.28085693,
          1.6303588,
          1.6303588,
          1.6303588,
          1.95012208,
          1.95012208,
          1.95012208,
          1.95012208,
          1.95012208,
          1.95012208,
          1.95012208,
          1.95012208,
          1.95012208,
          3.27543705,
          3.27543705,
          3.27543705,
          3.27543705,
          3.27543705,
          3.27543705,
          3.27543705,
          3.27896787,
          3.27896787,
          3.27896787,
          3.27896787,
          3.30090455,
          3.30090455,
          3.30090455,
          3.30749465,
          3.30749465,
          3.3103217,
          3.3103217,
          3.3103217,
          3.3103217,
          3.3103217,
          3.3103217,
          3.3103217,
          3.3103217,
          3.3103217,
          3.3103217,
          3.3103217,
          2.95728901,
          2.63752573,
          2.63752573,
          2.63752573,
          2.63752573,
          2.63752573,
          2.63752573,
          2.63752573,
          2.63752573,
          2.90883532,
          2.90883532,
          2.90883532,
          2.90883532,
          2.90883532,
          2.90883532,
          2.90883532,
          2.90883532,
          2.90883532,
          2.90883532,
          2.90883532,
          2.90883532,
          2.90883532,
          2.63752573,
          2.63752573,
          2.63752573,
          2.63752573,
          2.63752573,
          2.63752573,
          2.63752573,
          6.67302887,
          8.6372021,
          9.31753527,
          9.77325345,
          9.77325345,
          9.77325345,
          9.77325345,
          9.77325345,
          9.77325345,
          9.77325345,
          9.77325345,
          9.77325345,
          9.77325345,
          9.77325345,
          9.77325345,
          9.77325345,
          9.77325345,
          9.77325345,
          9.77325345,
          9.77325345,
          9.77325345,
          9.77325345,
          10.28163626,
          10.28163626,
          10.28163626,
          10.28163626,
          10.28163626,
          10.28163626,
          10.28163626,
          10.28163626,
          10.28163626,
          10.28163626,
          10.28163626,
          10.28163626,
          10.28163626,
          10.28163626,
          10.28163626,
          10.28163626,
          10.28163626,
          10.28163626,
          10.28163626,
          10.28163626,
          10.28163626,
          10.28163626,
          10.22587863,
          10.26445354,
          10.26445354,
          10.26445354,
          10.26445354,
          10.26445354,
          10.26445354,
          10.26445354,
          10.26445354,
          10.27790781,
          9.769525,
          9.769525,
          9.76575431,
          9.76575431,
          9.76575431,
          9.76575431,
          9.76575431,
          9.92033037,
          9.95630261,
          9.9177277,
          9.52572462,
          9.52572462,
          9.52572462,
          9.52572462,
          9.52572462,
          9.52572462
         ],
         "yaxis": "y3"
        },
        {
         "mode": "lines",
         "name": "bitstamp:/BTC:/total",
         "type": "scatter",
         "uid": "075f3401-b1c4-4304-8095-019669793920",
         "xaxis": "x3",
         "y": [
          10.0,
          9.0,
          8.1,
          8.67111826,
          8.78560647,
          0.68560647,
          0.68560647,
          0.68560647,
          0.7766647,
          1.69450822,
          0.7766647,
          0.7766647,
          0.7766647,
          1.11341594,
          1.11341594,
          1.11341594,
          1.11341594,
          1.11718663,
          1.11718663,
          1.1511439,
          11.63386006,
          10.9377263,
          9.77496647,
          6.28422199,
          5.68985198,
          5.15491898,
          4.67347927,
          4.24018354,
          3.85021738,
          4.32020411,
          4.63345862,
          3.93151953,
          2.84400592,
          2.59130785,
          1.68159479,
          0.3170252,
          0.3170252,
          0.3170252,
          0.3170252,
          0.3170252,
          0.3170252,
          0.3170252,
          0.7099749,
          0.7099749,
          1.59505806,
          1.59505806,
          1.98706114,
          1.98706114,
          1.98706114,
          1.98706114,
          1.98706114,
          1.98706114,
          1.98706114,
          1.98706114,
          1.98706114,
          1.98706114,
          1.98706114,
          1.98706114,
          1.98706114,
          1.98706114,
          1.98706114,
          1.28085693,
          1.28085693,
          1.6303588,
          1.6303588,
          3.01921895,
          3.33898223,
          1.95012208,
          1.95012208,
          1.95012208,
          1.95012208,
          1.95012208,
          1.95012208,
          1.95012208,
          1.95012208,
          3.27543705,
          3.27543705,
          3.27543705,
          3.27543705,
          3.27543705,
          3.27543705,
          3.27543705,
          3.27896787,
          3.27896787,
          3.27896787,
          3.27896787,
          3.30090455,
          3.30090455,
          3.30090455,
          3.30749465,
          3.30749465,
          3.3103217,
          3.3103217,
          3.3103217,
          3.3103217,
          3.3103217,
          3.3103217,
          3.3103217,
          3.3103217,
          3.3103217,
          3.3103217,
          3.3103217,
          2.95728901,
          2.63752573,
          2.63752573,
          2.63752573,
          2.63752573,
          2.63752573,
          2.63752573,
          2.63752573,
          2.63752573,
          2.90883532,
          2.90883532,
          2.90883532,
          2.90883532,
          2.90883532,
          2.90883532,
          2.90883532,
          2.90883532,
          2.90883532,
          2.90883532,
          2.90883532,
          2.90883532,
          2.90883532,
          2.63752573,
          2.63752573,
          2.63752573,
          2.63752573,
          2.63752573,
          2.63752573,
          2.63752573,
          6.67302887,
          8.6372021,
          9.31753527,
          9.77325345,
          9.77325345,
          9.77325345,
          9.77325345,
          9.77325345,
          9.77325345,
          9.77325345,
          9.77325345,
          9.77325345,
          9.77325345,
          9.77325345,
          9.77325345,
          9.77325345,
          9.77325345,
          9.77325345,
          9.77325345,
          9.77325345,
          9.77325345,
          9.77325345,
          10.28163626,
          10.28163626,
          10.28163626,
          10.28163626,
          10.28163626,
          10.28163626,
          10.28163626,
          10.28163626,
          10.28163626,
          10.28163626,
          10.28163626,
          10.28163626,
          10.28163626,
          10.28163626,
          10.28163626,
          10.28163626,
          10.28163626,
          10.28163626,
          10.28163626,
          10.28163626,
          10.28163626,
          10.28163626,
          10.22587863,
          10.26445354,
          10.26445354,
          10.26445354,
          10.26445354,
          10.26445354,
          10.26445354,
          10.26445354,
          10.26445354,
          10.27790781,
          9.769525,
          9.769525,
          9.76575431,
          9.76575431,
          9.76575431,
          9.76575431,
          9.76575431,
          9.92033037,
          9.95630261,
          10.66064078,
          10.19434639,
          10.12748421,
          10.06730825,
          10.01314989,
          9.96440736,
          9.92053909
         ],
         "yaxis": "y3"
        },
        {
         "mode": "lines",
         "name": "bitstamp:/BTC:/worth",
         "type": "scatter",
         "uid": "bcac39b0-0c7a-4c53-83ec-a9a65f0688f9",
         "xaxis": "x3",
         "y": [
          87409.9,
          78651.0,
          70700.769,
          75510.8725659232,
          77277.31594947299,
          6005.9126772,
          6005.9126772,
          6005.3847602180995,
          6615.451281719,
          14437.718386865998,
          6629.011847381,
          6637.640592198,
          6622.348064254999,
          9525.941416264,
          9477.507822874002,
          9455.439918943202,
          9419.4988524,
          9468.1455173837,
          9446.840768349599,
          9584.746431692001,
          94623.1864278058,
          89304.23831697699,
          80441.9135688886,
          51658.81844659599,
          46877.552492824,
          42440.3964131502,
          38357.487638939594,
          34953.741002813,
          32230.6702162394,
          36173.06901303,
          38759.2520329896,
          32159.7904402047,
          23391.948691999998,
          21471.05858353,
          13912.506335585998,
          2630.48489448,
          2624.933783228,
          2616.320208544,
          2632.000274936,
          2629.99350542,
          2624.0968367,
          2646.079364068,
          5934.183206669999,
          5946.11078499,
          13348.4347820772,
          13345.404171763199,
          16521.9563550378,
          16619.183256618002,
          16580.3560819424,
          16388.088046036,
          16447.699880236,
          16476.055242703802,
          16508.2853743946,
          16490.421694746,
          16431.942485395797,
          16494.5547819172,
          16529.3482224786,
          16505.304782684598,
          16445.7724309302,
          16408.5349051666,
          16226.34126924,
          10472.7089424669,
          10503.923425851,
          13296.244461107999,
          13173.299104,
          24356.1298462185,
          26571.8877049184,
          15550.76099644,
          15598.05145688,
          15585.3561621392,
          15645.244411216001,
          15684.773385777602,
          15534.0289489936,
          15774.439999016,
          15839.2620569552,
          26557.2108470295,
          26654.622344896496,
          26580.17166075,
          26553.968164349997,
          26512.69765752,
          26465.5641183705,
          26587.0173241845,
          26648.1390898113,
          26595.544445176496,
          26937.999849519296,
          26990.5617044754,
          27199.882609591496,
          27182.94896925,
          27133.105310544997,
          27283.093393545503,
          27166.107307775,
          27147.915158482996,
          27144.637939999997,
          27268.112939409995,
          27237.757289420995,
          27279.798375011,
          27193.961733329998,
          27045.560011519,
          27243.517249179,
          27164.069528379,
          27318.628448551997,
          27690.8410205,
          24689.3708933365,
          21901.9872866627,
          21919.1048286504,
          21917.8388163,
          21864.745423355103,
          21904.6248123927,
          21895.024218735503,
          21926.067896577602,
          21733.396642001102,
          23852.4205356468,
          23930.9300009336,
          23943.205285984004,
          23849.220816794797,
          23898.554663822,
          24085.1273612468,
          24012.6682734256,
          24057.231630528,
          23981.1364985568,
          23966.243261718402,
          24047.7488273848,
          24091.7595057764,
          24290.578399898404,
          21987.997000718,
          21988.8146336943,
          21921.0302224333,
          21923.3512450757,
          22010.6533467387,
          22095.080545356002,
          22369.1458439603,
          56829.9161473132,
          73623.5107004,
          79357.8205960008,
          83644.389651825,
          83287.5681683655,
          82925.37139550851,
          83253.264048756,
          82965.0508045155,
          82747.400450184,
          82999.84358679749,
          83016.75131526601,
          83179.67145027751,
          83059.362700308,
          83572.06757629501,
          83309.362523559,
          83171.4619173795,
          82834.38240588902,
          82843.76472920101,
          82751.4074840985,
          83071.090604448,
          82979.026556949,
          82164.6213469605,
          86462.59759756921,
          86375.6149548096,
          86192.3961966564,
          85851.662771,
          86088.24322134261,
          86497.349528128,
          86217.3805727682,
          86453.4469412978,
          86281.0239012176,
          86030.15197647361,
          85134.41582550241,
          85316.09233821661,
          85687.0537744774,
          85186.33808861542,
          85131.9482328,
          85512.5744071452,
          85544.8587450016,
          85295.426249334,
          84776.9233327422,
          84977.5180561748,
          84309.41733200001,
          84000.9682442,
          84026.04470271,
          84493.18369347019,
          84505.193104112,
          84429.03085884519,
          84168.6216725354,
          84373.6028097292,
          84045.1402964492,
          83145.3582991328,
          82905.88859804459,
          81860.7606715413,
          78000.66916199999,
          77661.37355875,
          77155.4161591291,
          77105.513154605,
          77735.4043076,
          77149.459049,
          77364.2079862769,
          78797.8785520359,
          78220.3971361257,
          83667.907033674,
          80052.94000982521,
          79471.381344291,
          79021.42331980751,
          79222.3396941987,
          78728.8821954336,
          78243.29180283
         ],
         "yaxis": "y3"
        },
        {
         "mode": "lines",
         "name": "net_worth",
         "type": "scatter",
         "uid": "3740a7ea-6a47-479f-80bb-1b8efa8d6c51",
         "xaxis": "x3",
         "y": [
          97409.9,
          97365.77,
          97257.039,
          97067.1425659232,
          97833.585949473,
          97595.23267720001,
          97595.23267720001,
          97594.70476021811,
          97404.771281719,
          97385.538386866,
          97373.671847381,
          97382.30059219801,
          97367.008064255,
          97390.601416264,
          97342.167822874,
          97320.0999189432,
          97284.1588524,
          97300.8055173837,
          97279.50076834961,
          97129.40643169201,
          94623.1864278058,
          94949.198316977,
          95552.0835688886,
          95409.468446596,
          95499.50249282399,
          95456.32641315021,
          95325.21763893959,
          95467.071002813,
          95949.0202162394,
          95945.25901303001,
          95900.67203298959,
          95155.3704402047,
          95256.688692,
          95408.00858353,
          95364.546335586,
          95338.28489448,
          95332.733783228,
          95324.120208544,
          95339.800274936,
          95337.79350542,
          95331.8968367,
          95353.87936406801,
          95352.32320667,
          95364.25078499,
          95331.61478207719,
          95328.58417176318,
          95215.4863550378,
          95312.71325661801,
          95273.8860819424,
          95081.61804603599,
          95141.229880236,
          95169.5852427038,
          95201.8153743946,
          95183.951694746,
          95125.47248539579,
          95188.08478191719,
          95222.8782224786,
          95198.8347826846,
          95139.3024309302,
          95102.0649051666,
          94919.87126924,
          94915.79894246689,
          94947.013425851,
          94864.554461108,
          94741.609104,
          94668.6798462185,
          94297.1377049184,
          94295.51099644,
          94342.80145688,
          94330.1061621392,
          94389.994411216,
          94429.5233857776,
          94278.7789489936,
          94519.189999016,
          94584.0120569552,
          94505.11084702949,
          94602.52234489648,
          94528.07166074999,
          94501.86816434999,
          94460.59765751999,
          94413.4641183705,
          94534.9173241845,
          94567.2890898113,
          94514.69444517649,
          94857.1498495193,
          94909.7117044754,
          94937.9226095915,
          94920.98896925,
          94871.14531054499,
          94966.8033935455,
          94849.81730777501,
          94808.335158483,
          94805.05794,
          94928.53293941,
          94898.177289421,
          94940.218375011,
          94854.38173333,
          94705.980011519,
          94903.937249179,
          94824.489528379,
          94979.048448552,
          95351.2610205,
          95294.05089333649,
          95168.24728666269,
          95185.3648286504,
          95184.0988163,
          95131.00542335509,
          95170.8848123927,
          95161.2842187355,
          95192.3278965776,
          94999.6566420011,
          94876.3405356468,
          94954.8500009336,
          94967.125285984,
          94873.1408167948,
          94922.474663822,
          95109.0473612468,
          95036.5882734256,
          95081.151630528,
          95005.0564985568,
          94990.16326171841,
          95071.6688273848,
          95115.6795057764,
          95314.49839989841,
          95270.727000718,
          95271.5446336943,
          95203.7602224333,
          95206.0812450757,
          95293.3833467387,
          95377.810545356,
          95651.8758439603,
          95782.84614731319,
          95798.1707004,
          95715.87059600081,
          96109.389651825,
          95752.5681683655,
          95390.37139550851,
          95718.264048756,
          95430.0508045155,
          95212.400450184,
          95464.84358679749,
          95481.75131526601,
          95644.67145027751,
          95524.362700308,
          96037.06757629501,
          95774.362523559,
          95636.4619173795,
          95299.38240588902,
          95308.76472920101,
          95216.4074840985,
          95536.090604448,
          95444.026556949,
          94629.6213469605,
          94640.71759756921,
          94553.7349548096,
          94370.51619665639,
          94029.782771,
          94266.3632213426,
          94675.469528128,
          94395.5005727682,
          94631.5669412978,
          94459.1439012176,
          94208.27197647361,
          93312.5358255024,
          93494.2123382166,
          93865.1737744774,
          93364.45808861541,
          93310.0682328,
          93690.6944071452,
          93722.9787450016,
          93473.546249334,
          92955.04333274219,
          93155.6380561748,
          92487.537332,
          92179.0882442,
          92658.33470271001,
          92807.55369347018,
          92819.56310411199,
          92743.40085884518,
          92482.9916725354,
          92687.9728097292,
          92359.5102964492,
          91459.7282991328,
          91220.25859804459,
          90066.1306715413,
          90243.019162,
          89903.72355875,
          89427.6461591291,
          89377.74315460499,
          90007.63430759999,
          89421.689049,
          89636.4379862769,
          89841.8785520359,
          88977.8071361257,
          88873.30703367399,
          88906.9800098252,
          88848.891344291,
          88869.72331980751,
          89494.4696941987,
          89385.5021954336,
          89245.47180283
         ],
         "yaxis": "y3"
        },
        {
         "marker": {
          "color": "DarkGreen"
         },
         "mode": "lines",
         "name": "Net Worth",
         "type": "scatter",
         "uid": "603f0991-97d2-427c-afd5-1ceb071c6a05",
         "xaxis": "x4",
         "y": [
          97409.9,
          97365.77,
          97257.039,
          97067.1425659232,
          97833.585949473,
          97595.23267720001,
          97595.23267720001,
          97594.70476021811,
          97404.771281719,
          97385.538386866,
          97373.671847381,
          97382.30059219801,
          97367.008064255,
          97390.601416264,
          97342.167822874,
          97320.0999189432,
          97284.1588524,
          97300.8055173837,
          97279.50076834961,
          97129.40643169201,
          94623.1864278058,
          94949.198316977,
          95552.0835688886,
          95409.468446596,
          95499.50249282399,
          95456.32641315021,
          95325.21763893959,
          95467.071002813,
          95949.0202162394,
          95945.25901303001,
          95900.67203298959,
          95155.3704402047,
          95256.688692,
          95408.00858353,
          95364.546335586,
          95338.28489448,
          95332.733783228,
          95324.120208544,
          95339.800274936,
          95337.79350542,
          95331.8968367,
          95353.87936406801,
          95352.32320667,
          95364.25078499,
          95331.61478207719,
          95328.58417176318,
          95215.4863550378,
          95312.71325661801,
          95273.8860819424,
          95081.61804603599,
          95141.229880236,
          95169.5852427038,
          95201.8153743946,
          95183.951694746,
          95125.47248539579,
          95188.08478191719,
          95222.8782224786,
          95198.8347826846,
          95139.3024309302,
          95102.0649051666,
          94919.87126924,
          94915.79894246689,
          94947.013425851,
          94864.554461108,
          94741.609104,
          94668.6798462185,
          94297.1377049184,
          94295.51099644,
          94342.80145688,
          94330.1061621392,
          94389.994411216,
          94429.5233857776,
          94278.7789489936,
          94519.189999016,
          94584.0120569552,
          94505.11084702949,
          94602.52234489648,
          94528.07166074999,
          94501.86816434999,
          94460.59765751999,
          94413.4641183705,
          94534.9173241845,
          94567.2890898113,
          94514.69444517649,
          94857.1498495193,
          94909.7117044754,
          94937.9226095915,
          94920.98896925,
          94871.14531054499,
          94966.8033935455,
          94849.81730777501,
          94808.335158483,
          94805.05794,
          94928.53293941,
          94898.177289421,
          94940.218375011,
          94854.38173333,
          94705.980011519,
          94903.937249179,
          94824.489528379,
          94979.048448552,
          95351.2610205,
          95294.05089333649,
          95168.24728666269,
          95185.3648286504,
          95184.0988163,
          95131.00542335509,
          95170.8848123927,
          95161.2842187355,
          95192.3278965776,
          94999.6566420011,
          94876.3405356468,
          94954.8500009336,
          94967.125285984,
          94873.1408167948,
          94922.474663822,
          95109.0473612468,
          95036.5882734256,
          95081.151630528,
          95005.0564985568,
          94990.16326171841,
          95071.6688273848,
          95115.6795057764,
          95314.49839989841,
          95270.727000718,
          95271.5446336943,
          95203.7602224333,
          95206.0812450757,
          95293.3833467387,
          95377.810545356,
          95651.8758439603,
          95782.84614731319,
          95798.1707004,
          95715.87059600081,
          96109.389651825,
          95752.5681683655,
          95390.37139550851,
          95718.264048756,
          95430.0508045155,
          95212.400450184,
          95464.84358679749,
          95481.75131526601,
          95644.67145027751,
          95524.362700308,
          96037.06757629501,
          95774.362523559,
          95636.4619173795,
          95299.38240588902,
          95308.76472920101,
          95216.4074840985,
          95536.090604448,
          95444.026556949,
          94629.6213469605,
          94640.71759756921,
          94553.7349548096,
          94370.51619665639,
          94029.782771,
          94266.3632213426,
          94675.469528128,
          94395.5005727682,
          94631.5669412978,
          94459.1439012176,
          94208.27197647361,
          93312.5358255024,
          93494.2123382166,
          93865.1737744774,
          93364.45808861541,
          93310.0682328,
          93690.6944071452,
          93722.9787450016,
          93473.546249334,
          92955.04333274219,
          93155.6380561748,
          92487.537332,
          92179.0882442,
          92658.33470271001,
          92807.55369347018,
          92819.56310411199,
          92743.40085884518,
          92482.9916725354,
          92687.9728097292,
          92359.5102964492,
          91459.7282991328,
          91220.25859804459,
          90066.1306715413,
          90243.019162,
          89903.72355875,
          89427.6461591291,
          89377.74315460499,
          90007.63430759999,
          89421.689049,
          89636.4379862769,
          89841.8785520359,
          88977.8071361257,
          88873.30703367399,
          88906.9800098252,
          88848.891344291,
          88869.72331980751,
          89494.4696941987,
          89385.5021954336,
          89245.47180283
         ],
         "yaxis": "y4"
        }
       ],
       "layout": {
        "annotations": [
         {
          "arrowcolor": "DarkGreen",
          "arrowhead": 2,
          "arrowsize": 0.8,
          "arrowwidth": 4,
          "ax": 0,
          "ay": 15,
          "hoverlabel": {
           "bgcolor": "DarkGreen"
          },
          "hovertext": "Step 46 [2018-05-17 03:00:00]<br>BUY 0.39200308 BTC @ 8366.72 USD MARKET<br>Total: 3279.78 USD - Comm.: 9.87 USD",
          "opacity": 0.6,
          "showarrow": true,
          "x": 45,
          "xref": "x",
          "y": 8366.72,
          "yref": "y"
         },
         {
          "arrowcolor": "DarkGreen",
          "arrowhead": 2,
          "arrowsize": 0.8,
          "arrowwidth": 4,
          "ax": 0,
          "ay": 15,
          "hoverlabel": {
           "bgcolor": "DarkGreen"
          },
          "hovertext": "Step 44 [2018-05-17 01:00:00]<br>BUY 0.88508316 BTC @ 8375.1 USD MARKET<br>Total: 7412.66 USD - Comm.: 22.30 USD",
          "opacity": 0.6,
          "showarrow": true,
          "x": 43,
          "xref": "x",
          "y": 8375.1,
          "yref": "y"
         },
         {
          "arrowcolor": "DarkGreen",
          "arrowhead": 2,
          "arrowsize": 0.8,
          "arrowwidth": 4,
          "ax": 0,
          "ay": 15,
          "hoverlabel": {
           "bgcolor": "DarkGreen"
          },
          "hovertext": "Step 42 [2018-05-16 23:00:00]<br>BUY 0.3929497 BTC @ 8346.59 USD MARKET<br>Total: 3279.79 USD - Comm.: 9.87 USD",
          "opacity": 0.6,
          "showarrow": true,
          "x": 41,
          "xref": "x",
          "y": 8346.59,
          "yref": "y"
         },
         {
          "arrowcolor": "FireBrick",
          "arrowhead": 2,
          "arrowsize": 0.8,
          "arrowwidth": 4,
          "ax": 0,
          "ay": -15,
          "hoverlabel": {
           "bgcolor": "FireBrick"
          },
          "hovertext": "Step 35 [2018-05-16 16:00:00]<br>SELL 1.36047588 BTC @ 8273.4 USD MARKET<br>Total: 11255.76 USD - Comm.: 0.00409371 BTC",
          "opacity": 0.6,
          "showarrow": true,
          "x": 34,
          "xref": "x",
          "y": 8273.4,
          "yref": "y"
         },
         {
          "arrowcolor": "FireBrick",
          "arrowhead": 2,
          "arrowsize": 0.8,
          "arrowwidth": 4,
          "ax": 0,
          "ay": -15,
          "hoverlabel": {
           "bgcolor": "FireBrick"
          },
          "hovertext": "Step 34 [2018-05-16 15:00:00]<br>SELL 0.90698392 BTC @ 8285.8 USD MARKET<br>Total: 7515.09 USD - Comm.: 0.00272914 BTC",
          "opacity": 0.6,
          "showarrow": true,
          "x": 33,
          "xref": "x",
          "y": 8285.8,
          "yref": "y"
         },
         {
          "arrowcolor": "FireBrick",
          "arrowhead": 2,
          "arrowsize": 0.8,
          "arrowwidth": 4,
          "ax": 0,
          "ay": -15,
          "hoverlabel": {
           "bgcolor": "FireBrick"
          },
          "hovertext": "Step 33 [2018-05-16 14:00:00]<br>SELL 0.25193998 BTC @ 8225.0 USD MARKET<br>Total: 2072.21 USD - Comm.: 0.00075809 BTC",
          "opacity": 0.6,
          "showarrow": true,
          "x": 32,
          "xref": "x",
          "y": 8225.0,
          "yref": "y"
         },
         {
          "arrowcolor": "FireBrick",
          "arrowhead": 2,
          "arrowsize": 0.8,
          "arrowwidth": 4,
          "ax": 0,
          "ay": -15,
          "hoverlabel": {
           "bgcolor": "FireBrick"
          },
          "hovertext": "Step 32 [2018-05-16 13:00:00]<br>SELL 0.27993331 BTC @ 8179.99 USD MARKET<br>Total: 2289.85 USD - Comm.: 0.00084233 BTC",
          "opacity": 0.6,
          "showarrow": true,
          "x": 31,
          "xref": "x",
          "y": 8179.99,
          "yref": "y"
         },
         {
          "arrowcolor": "FireBrick",
          "arrowhead": 2,
          "arrowsize": 0.8,
          "arrowwidth": 4,
          "ax": 0,
          "ay": -15,
          "hoverlabel": {
           "bgcolor": "FireBrick"
          },
          "hovertext": "Step 32 [2018-05-16 13:00:00]<br>SELL 0.46857677 BTC @ 8179.99 USD MARKET<br>Total: 3832.95 USD - Comm.: 0.00140996 BTC",
          "opacity": 0.6,
          "showarrow": true,
          "x": 31,
          "xref": "x",
          "y": 8179.99,
          "yref": "y"
         },
         {
          "arrowcolor": "FireBrick",
          "arrowhead": 2,
          "arrowsize": 0.8,
          "arrowwidth": 4,
          "ax": 0,
          "ay": -15,
          "hoverlabel": {
           "bgcolor": "FireBrick"
          },
          "hovertext": "Step 32 [2018-05-16 13:00:00]<br>SELL 0.33574099 BTC @ 8179.99 USD MARKET<br>Total: 2746.36 USD - Comm.: 0.00101025 BTC",
          "opacity": 0.6,
          "showarrow": true,
          "x": 31,
          "xref": "x",
          "y": 8179.99,
          "yref": "y"
         },
         {
          "arrowcolor": "FireBrick",
          "arrowhead": 2,
          "arrowsize": 0.8,
          "arrowwidth": 4,
          "ax": 0,
          "ay": -15,
          "hoverlabel": {
           "bgcolor": "FireBrick"
          },
          "hovertext": "Step 31 [2018-05-16 12:00:00]<br>SELL 0.69983327 BTC @ 8365.08 USD MARKET<br>Total: 5854.16 USD - Comm.: 0.00210582 BTC",
          "opacity": 0.6,
          "showarrow": true,
          "x": 30,
          "xref": "x",
          "y": 8365.08,
          "yref": "y"
         },
         {
          "arrowcolor": "DarkGreen",
          "arrowhead": 2,
          "arrowsize": 0.8,
          "arrowwidth": 4,
          "ax": 0,
          "ay": 15,
          "hoverlabel": {
           "bgcolor": "DarkGreen"
          },
          "hovertext": "Step 30 [2018-05-16 11:00:00]<br>BUY 0.31325451 BTC @ 8373.0 USD MARKET<br>Total: 2622.88 USD - Comm.: 7.89 USD",
          "opacity": 0.6,
          "showarrow": true,
          "x": 29,
          "xref": "x",
          "y": 8373.0,
          "yref": "y"
         },
         {
          "arrowcolor": "DarkGreen",
          "arrowhead": 2,
          "arrowsize": 0.8,
          "arrowwidth": 4,
          "ax": 0,
          "ay": 15,
          "hoverlabel": {
           "bgcolor": "DarkGreen"
          },
          "hovertext": "Step 29 [2018-05-16 10:00:00]<br>BUY 0.46998673 BTC @ 8371.13 USD MARKET<br>Total: 3934.32 USD - Comm.: 11.84 USD",
          "opacity": 0.6,
          "showarrow": true,
          "x": 28,
          "xref": "x",
          "y": 8371.13,
          "yref": "y"
         },
         {
          "arrowcolor": "FireBrick",
          "arrowhead": 2,
          "arrowsize": 0.8,
          "arrowwidth": 4,
          "ax": 0,
          "ay": -15,
          "hoverlabel": {
           "bgcolor": "FireBrick"
          },
          "hovertext": "Step 28 [2018-05-16 09:00:00]<br>SELL 0.38879626 BTC @ 8243.45 USD MARKET<br>Total: 3205.02 USD - Comm.: 0.00116990 BTC",
          "opacity": 0.6,
          "showarrow": true,
          "x": 27,
          "xref": "x",
          "y": 8243.45,
          "yref": "y"
         },
         {
          "arrowcolor": "FireBrick",
          "arrowhead": 2,
          "arrowsize": 0.8,
          "arrowwidth": 4,
          "ax": 0,
          "ay": -15,
          "hoverlabel": {
           "bgcolor": "FireBrick"
          },
          "hovertext": "Step 27 [2018-05-16 08:00:00]<br>SELL 0.43199584 BTC @ 8207.48 USD MARKET<br>Total: 3545.6 USD - Comm.: 0.00129989 BTC",
          "opacity": 0.6,
          "showarrow": true,
          "x": 26,
          "xref": "x",
          "y": 8207.48,
          "yref": "y"
         },
         {
          "arrowcolor": "FireBrick",
          "arrowhead": 2,
          "arrowsize": 0.8,
          "arrowwidth": 4,
          "ax": 0,
          "ay": -15,
          "hoverlabel": {
           "bgcolor": "FireBrick"
          },
          "hovertext": "Step 26 [2018-05-16 07:00:00]<br>SELL 0.47999539 BTC @ 8232.99 USD MARKET<br>Total: 3951.8 USD - Comm.: 0.00144432 BTC",
          "opacity": 0.6,
          "showarrow": true,
          "x": 25,
          "xref": "x",
          "y": 8232.99,
          "yref": "y"
         },
         {
          "arrowcolor": "FireBrick",
          "arrowhead": 2,
          "arrowsize": 0.8,
          "arrowwidth": 4,
          "ax": 0,
          "ay": -15,
          "hoverlabel": {
           "bgcolor": "FireBrick"
          },
          "hovertext": "Step 25 [2018-05-16 06:00:00]<br>SELL 0.5333282 BTC @ 8238.8 USD MARKET<br>Total: 4393.98 USD - Comm.: 0.00160480 BTC",
          "opacity": 0.6,
          "showarrow": true,
          "x": 24,
          "xref": "x",
          "y": 8238.8,
          "yref": "y"
         },
         {
          "arrowcolor": "FireBrick",
          "arrowhead": 2,
          "arrowsize": 0.8,
          "arrowwidth": 4,
          "ax": 0,
          "ay": -15,
          "hoverlabel": {
           "bgcolor": "FireBrick"
          },
          "hovertext": "Step 24 [2018-05-16 05:00:00]<br>SELL 0.5925869 BTC @ 8220.4 USD MARKET<br>Total: 4871.3 USD - Comm.: 0.00178311 BTC",
          "opacity": 0.6,
          "showarrow": true,
          "x": 23,
          "xref": "x",
          "y": 8220.4,
          "yref": "y"
         },
         {
          "arrowcolor": "FireBrick",
          "arrowhead": 2,
          "arrowsize": 0.8,
          "arrowwidth": 4,
          "ax": 0,
          "ay": -15,
          "hoverlabel": {
           "bgcolor": "FireBrick"
          },
          "hovertext": "Step 23 [2018-05-16 04:00:00]<br>SELL 2.53965813 BTC @ 8229.38 USD MARKET<br>Total: 20899.81 USD - Comm.: 0.00764190 BTC",
          "opacity": 0.6,
          "showarrow": true,
          "x": 22,
          "xref": "x",
          "y": 8229.38,
          "yref": "y"
         },
         {
          "arrowcolor": "FireBrick",
          "arrowhead": 2,
          "arrowsize": 0.8,
          "arrowwidth": 4,
          "ax": 0,
          "ay": -15,
          "hoverlabel": {
           "bgcolor": "FireBrick"
          },
          "hovertext": "Step 23 [2018-05-16 04:00:00]<br>SELL 0.94061412 BTC @ 8229.38 USD MARKET<br>Total: 7740.67 USD - Comm.: 0.00283033 BTC",
          "opacity": 0.6,
          "showarrow": true,
          "x": 22,
          "xref": "x",
          "y": 8229.38,
          "yref": "y"
         },
         {
          "arrowcolor": "FireBrick",
          "arrowhead": 2,
          "arrowsize": 0.8,
          "arrowwidth": 4,
          "ax": 0,
          "ay": -15,
          "hoverlabel": {
           "bgcolor": "FireBrick"
          },
          "hovertext": "Step 22 [2018-05-16 03:00:00]<br>SELL 1.04512681 BTC @ 8164.79 USD MARKET<br>Total: 8533.24 USD - Comm.: 0.00314481 BTC",
          "opacity": 0.6,
          "showarrow": true,
          "x": 21,
          "xref": "x",
          "y": 8164.79,
          "yref": "y"
         },
         {
          "arrowcolor": "FireBrick",
          "arrowhead": 2,
          "arrowsize": 0.8,
          "arrowwidth": 4,
          "ax": 0,
          "ay": -15,
          "hoverlabel": {
           "bgcolor": "FireBrick"
          },
          "hovertext": "Step 22 [2018-05-16 03:00:00]<br>SELL 0.11414475 BTC @ 8164.79 USD MARKET<br>Total: 931.97 USD - Comm.: 0.00034346 BTC",
          "opacity": 0.6,
          "showarrow": true,
          "x": 21,
          "xref": "x",
          "y": 8164.79,
          "yref": "y"
         },
         {
          "arrowcolor": "FireBrick",
          "arrowhead": 2,
          "arrowsize": 0.8,
          "arrowwidth": 4,
          "ax": 0,
          "ay": -15,
          "hoverlabel": {
           "bgcolor": "FireBrick"
          },
          "hovertext": "Step 21 [2018-05-16 02:00:00]<br>SELL 0.0338554 BTC @ 8133.43 USD MARKET<br>Total: 275.36 USD - Comm.: 0.00010187 BTC",
          "opacity": 0.6,
          "showarrow": true,
          "x": 20,
          "xref": "x",
          "y": 8133.43,
          "yref": "y"
         },
         {
          "arrowcolor": "FireBrick",
          "arrowhead": 2,
          "arrowsize": 0.8,
          "arrowwidth": 4,
          "ax": 0,
          "ay": -15,
          "hoverlabel": {
           "bgcolor": "FireBrick"
          },
          "hovertext": "Step 21 [2018-05-16 02:00:00]<br>SELL 0.09078506 BTC @ 8133.43 USD MARKET<br>Total: 738.39 USD - Comm.: 0.00027317 BTC",
          "opacity": 0.6,
          "showarrow": true,
          "x": 20,
          "xref": "x",
          "y": 8133.43,
          "yref": "y"
         },
         {
          "arrowcolor": "FireBrick",
          "arrowhead": 2,
          "arrowsize": 0.8,
          "arrowwidth": 4,
          "ax": 0,
          "ay": -15,
          "hoverlabel": {
           "bgcolor": "FireBrick"
          },
          "hovertext": "Step 21 [2018-05-16 02:00:00]<br>SELL 0.56940491 BTC @ 8133.43 USD MARKET<br>Total: 4631.21 USD - Comm.: 0.00171335 BTC",
          "opacity": 0.6,
          "showarrow": true,
          "x": 20,
          "xref": "x",
          "y": 8133.43,
          "yref": "y"
         },
         {
          "arrowcolor": "DarkGreen",
          "arrowhead": 2,
          "arrowsize": 0.8,
          "arrowwidth": 4,
          "ax": 0,
          "ay": 15,
          "hoverlabel": {
           "bgcolor": "DarkGreen"
          },
          "hovertext": "Step 20 [2018-05-16 01:00:00]<br>BUY 0.9336042 BTC @ 8326.28 USD MARKET<br>Total: 7773.45 USD - Comm.: 23.39 USD",
          "opacity": 0.6,
          "showarrow": true,
          "x": 19,
          "xref": "x",
          "y": 8326.28,
          "yref": "y"
         },
         {
          "arrowcolor": "DarkGreen",
          "arrowhead": 2,
          "arrowsize": 0.8,
          "arrowwidth": 4,
          "ax": 0,
          "ay": 15,
          "hoverlabel": {
           "bgcolor": "DarkGreen"
          },
          "hovertext": "Step 20 [2018-05-16 01:00:00]<br>BUY 8.50559313 BTC @ 8326.28 USD MARKET<br>Total: 70819.95 USD - Comm.: 213.10 USD",
          "opacity": 0.6,
          "showarrow": true,
          "x": 19,
          "xref": "x",
          "y": 8326.28,
          "yref": "y"
         },
         {
          "arrowcolor": "DarkGreen",
          "arrowhead": 2,
          "arrowsize": 0.8,
          "arrowwidth": 4,
          "ax": 0,
          "ay": 15,
          "hoverlabel": {
           "bgcolor": "DarkGreen"
          },
          "hovertext": "Step 20 [2018-05-16 01:00:00]<br>BUY 1.04351883 BTC @ 8326.28 USD MARKET<br>Total: 8688.63 USD - Comm.: 26.14 USD",
          "opacity": 0.6,
          "showarrow": true,
          "x": 19,
          "xref": "x",
          "y": 8326.28,
          "yref": "y"
         },
         {
          "arrowcolor": "DarkGreen",
          "arrowhead": 2,
          "arrowsize": 0.8,
          "arrowwidth": 4,
          "ax": 0,
          "ay": 15,
          "hoverlabel": {
           "bgcolor": "DarkGreen"
          },
          "hovertext": "Step 19 [2018-05-16 00:00:00]<br>BUY 0.03395727 BTC @ 8455.92 USD MARKET<br>Total: 287.14 USD - Comm.: 0.86 USD",
          "opacity": 0.6,
          "showarrow": true,
          "x": 18,
          "xref": "x",
          "y": 8455.92,
          "yref": "y"
         },
         {
          "arrowcolor": "DarkGreen",
          "arrowhead": 2,
          "arrowsize": 0.8,
          "arrowwidth": 4,
          "ax": 0,
          "ay": 15,
          "hoverlabel": {
           "bgcolor": "DarkGreen"
          },
          "hovertext": "Step 17 [2018-05-15 22:00:00]<br>BUY 0.00377069 BTC @ 8460.0 USD MARKET<br>Total: 31.9 USD - Comm.: 0.10 USD",
          "opacity": 0.6,
          "showarrow": true,
          "x": 16,
          "xref": "x",
          "y": 8460.0,
          "yref": "y"
         },
         {
          "arrowcolor": "DarkGreen",
          "arrowhead": 2,
          "arrowsize": 0.8,
          "arrowwidth": 4,
          "ax": 0,
          "ay": 15,
          "hoverlabel": {
           "bgcolor": "DarkGreen"
          },
          "hovertext": "Step 13 [2018-05-15 18:00:00]<br>BUY 0.33675124 BTC @ 8526.65 USD MARKET<br>Total: 2871.36 USD - Comm.: 8.64 USD",
          "opacity": 0.6,
          "showarrow": true,
          "x": 12,
          "xref": "x",
          "y": 8526.65,
          "yref": "y"
         },
         {
          "arrowcolor": "FireBrick",
          "arrowhead": 2,
          "arrowsize": 0.8,
          "arrowwidth": 4,
          "ax": 0,
          "ay": -15,
          "hoverlabel": {
           "bgcolor": "FireBrick"
          },
          "hovertext": "Step 10 [2018-05-15 15:00:00]<br>SELL 0.91508999 BTC @ 8520.3 USD MARKET<br>Total: 7796.84 USD - Comm.: 0.00275353 BTC",
          "opacity": 0.6,
          "showarrow": true,
          "x": 9,
          "xref": "x",
          "y": 8520.3,
          "yref": "y"
         },
         {
          "arrowcolor": "DarkGreen",
          "arrowhead": 2,
          "arrowsize": 0.8,
          "arrowwidth": 4,
          "ax": 0,
          "ay": 15,
          "hoverlabel": {
           "bgcolor": "DarkGreen"
          },
          "hovertext": "Step 9 [2018-05-15 14:00:00]<br>BUY 0.91784352 BTC @ 8517.77 USD MARKET<br>Total: 7817.98 USD - Comm.: 23.52 USD",
          "opacity": 0.6,
          "showarrow": true,
          "x": 8,
          "xref": "x",
          "y": 8517.77,
          "yref": "y"
         },
         {
          "arrowcolor": "DarkGreen",
          "arrowhead": 2,
          "arrowsize": 0.8,
          "arrowwidth": 4,
          "ax": 0,
          "ay": 15,
          "hoverlabel": {
           "bgcolor": "DarkGreen"
          },
          "hovertext": "Step 8 [2018-05-15 13:00:00]<br>BUY 0.09105823 BTC @ 8759.23 USD MARKET<br>Total: 797.6 USD - Comm.: 2.40 USD",
          "opacity": 0.6,
          "showarrow": true,
          "x": 7,
          "xref": "x",
          "y": 8759.23,
          "yref": "y"
         },
         {
          "arrowcolor": "FireBrick",
          "arrowhead": 2,
          "arrowsize": 0.8,
          "arrowwidth": 4,
          "ax": 0,
          "ay": -15,
          "hoverlabel": {
           "bgcolor": "FireBrick"
          },
          "hovertext": "Step 5 [2018-05-15 10:00:00]<br>SELL 8.0757 BTC @ 8795.9 USD MARKET<br>Total: 71033.05 USD - Comm.: 0.02430000 BTC",
          "opacity": 0.6,
          "showarrow": true,
          "x": 4,
          "xref": "x",
          "y": 8795.9,
          "yref": "y"
         },
         {
          "arrowcolor": "DarkGreen",
          "arrowhead": 2,
          "arrowsize": 0.8,
          "arrowwidth": 4,
          "ax": 0,
          "ay": 15,
          "hoverlabel": {
           "bgcolor": "DarkGreen"
          },
          "hovertext": "Step 4 [2018-05-15 09:00:00]<br>BUY 0.11448821 BTC @ 8708.32 USD MARKET<br>Total: 997.0 USD - Comm.: 3.00 USD",
          "opacity": 0.6,
          "showarrow": true,
          "x": 3,
          "xref": "x",
          "y": 8708.32,
          "yref": "y"
         },
         {
          "arrowcolor": "DarkGreen",
          "arrowhead": 2,
          "arrowsize": 0.8,
          "arrowwidth": 4,
          "ax": 0,
          "ay": 15,
          "hoverlabel": {
           "bgcolor": "DarkGreen"
          },
          "hovertext": "Step 3 [2018-05-15 08:00:00]<br>BUY 0.57111826 BTC @ 8728.49 USD MARKET<br>Total: 4985.0 USD - Comm.: 15.00 USD",
          "opacity": 0.6,
          "showarrow": true,
          "x": 2,
          "xref": "x",
          "y": 8728.49,
          "yref": "y"
         },
         {
          "arrowcolor": "FireBrick",
          "arrowhead": 2,
          "arrowsize": 0.8,
          "arrowwidth": 4,
          "ax": 0,
          "ay": -15,
          "hoverlabel": {
           "bgcolor": "FireBrick"
          },
          "hovertext": "Step 2 [2018-05-15 07:00:00]<br>SELL 0.8973 BTC @ 8739.0 USD MARKET<br>Total: 7841.5 USD - Comm.: 0.00270000 BTC",
          "opacity": 0.6,
          "showarrow": true,
          "x": 1,
          "xref": "x",
          "y": 8739.0,
          "yref": "y"
         },
         {
          "arrowcolor": "FireBrick",
          "arrowhead": 2,
          "arrowsize": 0.8,
          "arrowwidth": 4,
          "ax": 0,
          "ay": -15,
          "hoverlabel": {
           "bgcolor": "FireBrick"
          },
          "hovertext": "Step 1 [2018-05-15 06:00:00]<br>SELL 0.997 BTC @ 8740.99 USD MARKET<br>Total: 8714.77 USD - Comm.: 0.00300000 BTC",
          "opacity": 0.6,
          "showarrow": true,
          "x": 0,
          "xref": "x",
          "y": 8740.99,
          "yref": "y"
         },
         {
          "arrowcolor": "DarkGreen",
          "arrowhead": 2,
          "arrowsize": 0.8,
          "arrowwidth": 4,
          "ax": 0,
          "ay": 15,
          "hoverlabel": {
           "bgcolor": "DarkGreen"
          },
          "hovertext": "Step 91 [2018-05-19 00:00:00]<br>BUY 0.00282705 BTC @ 8213.5 USD MARKET<br>Total: 23.22 USD - Comm.: 0.07 USD",
          "opacity": 0.6,
          "showarrow": true,
          "x": 90,
          "xref": "x",
          "y": 8213.5,
          "yref": "y"
         },
         {
          "arrowcolor": "DarkGreen",
          "arrowhead": 2,
          "arrowsize": 0.8,
          "arrowwidth": 4,
          "ax": 0,
          "ay": 15,
          "hoverlabel": {
           "bgcolor": "DarkGreen"
          },
          "hovertext": "Step 89 [2018-05-18 22:00:00]<br>BUY 0.0065901 BTC @ 8219.9 USD MARKET<br>Total: 54.17 USD - Comm.: 0.16 USD",
          "opacity": 0.6,
          "showarrow": true,
          "x": 88,
          "xref": "x",
          "y": 8219.9,
          "yref": "y"
         },
         {
          "arrowcolor": "DarkGreen",
          "arrowhead": 2,
          "arrowsize": 0.8,
          "arrowwidth": 4,
          "ax": 0,
          "ay": 15,
          "hoverlabel": {
           "bgcolor": "DarkGreen"
          },
          "hovertext": "Step 86 [2018-05-18 19:00:00]<br>BUY 0.02193668 BTC @ 8231.42 USD MARKET<br>Total: 180.57 USD - Comm.: 0.54 USD",
          "opacity": 0.6,
          "showarrow": true,
          "x": 85,
          "xref": "x",
          "y": 8231.42,
          "yref": "y"
         },
         {
          "arrowcolor": "DarkGreen",
          "arrowhead": 2,
          "arrowsize": 0.8,
          "arrowwidth": 4,
          "ax": 0,
          "ay": 15,
          "hoverlabel": {
           "bgcolor": "DarkGreen"
          },
          "hovertext": "Step 82 [2018-05-18 15:00:00]<br>BUY 0.00353082 BTC @ 8117.09 USD MARKET<br>Total: 28.66 USD - Comm.: 0.09 USD",
          "opacity": 0.6,
          "showarrow": true,
          "x": 81,
          "xref": "x",
          "y": 8117.09,
          "yref": "y"
         },
         {
          "arrowcolor": "DarkGreen",
          "arrowhead": 2,
          "arrowsize": 0.8,
          "arrowwidth": 4,
          "ax": 0,
          "ay": 15,
          "hoverlabel": {
           "bgcolor": "DarkGreen"
          },
          "hovertext": "Step 75 [2018-05-18 08:00:00]<br>BUY 1.32531497 BTC @ 8122.19 USD MARKET<br>Total: 10764.46 USD - Comm.: 32.39 USD",
          "opacity": 0.6,
          "showarrow": true,
          "x": 74,
          "xref": "x",
          "y": 8122.19,
          "yref": "y"
         },
         {
          "arrowcolor": "FireBrick",
          "arrowhead": 2,
          "arrowsize": 0.8,
          "arrowwidth": 4,
          "ax": 0,
          "ay": -15,
          "hoverlabel": {
           "bgcolor": "FireBrick"
          },
          "hovertext": "Step 67 [2018-05-18 00:00:00]<br>SELL 1.38469357 BTC @ 7958.08 USD MARKET<br>Total: 11019.5 USD - Comm.: 0.00416658 BTC",
          "opacity": 0.6,
          "showarrow": true,
          "x": 66,
          "xref": "x",
          "y": 7958.08,
          "yref": "y"
         },
         {
          "arrowcolor": "DarkGreen",
          "arrowhead": 2,
          "arrowsize": 0.8,
          "arrowwidth": 4,
          "ax": 0,
          "ay": 15,
          "hoverlabel": {
           "bgcolor": "DarkGreen"
          },
          "hovertext": "Step 66 [2018-05-17 23:00:00]<br>BUY 0.31976328 BTC @ 8067.03 USD MARKET<br>Total: 2579.54 USD - Comm.: 7.76 USD",
          "opacity": 0.6,
          "showarrow": true,
          "x": 65,
          "xref": "x",
          "y": 8067.03,
          "yref": "y"
         },
         {
          "arrowcolor": "DarkGreen",
          "arrowhead": 2,
          "arrowsize": 0.8,
          "arrowwidth": 4,
          "ax": 0,
          "ay": 15,
          "hoverlabel": {
           "bgcolor": "DarkGreen"
          },
          "hovertext": "Step 65 [2018-05-17 22:00:00]<br>BUY 1.38886015 BTC @ 8080.0 USD MARKET<br>Total: 11221.99 USD - Comm.: 33.77 USD",
          "opacity": 0.6,
          "showarrow": true,
          "x": 64,
          "xref": "x",
          "y": 8080.0,
          "yref": "y"
         },
         {
          "arrowcolor": "DarkGreen",
          "arrowhead": 2,
          "arrowsize": 0.8,
          "arrowwidth": 4,
          "ax": 0,
          "ay": 15,
          "hoverlabel": {
           "bgcolor": "DarkGreen"
          },
          "hovertext": "Step 63 [2018-05-17 20:00:00]<br>BUY 0.34950187 BTC @ 8200.7 USD MARKET<br>Total: 2866.16 USD - Comm.: 8.62 USD",
          "opacity": 0.6,
          "showarrow": true,
          "x": 62,
          "xref": "x",
          "y": 8200.7,
          "yref": "y"
         },
         {
          "arrowcolor": "FireBrick",
          "arrowhead": 2,
          "arrowsize": 0.8,
          "arrowwidth": 4,
          "ax": 0,
          "ay": -15,
          "hoverlabel": {
           "bgcolor": "FireBrick"
          },
          "hovertext": "Step 61 [2018-05-17 18:00:00]<br>SELL 0.39177085 BTC @ 8166.0 USD MARKET<br>Total: 3199.2 USD - Comm.: 0.00117885 BTC",
          "opacity": 0.6,
          "showarrow": true,
          "x": 60,
          "xref": "x",
          "y": 8166.0,
          "yref": "y"
         },
         {
          "arrowcolor": "FireBrick",
          "arrowhead": 2,
          "arrowsize": 0.8,
          "arrowwidth": 4,
          "ax": 0,
          "ay": -15,
          "hoverlabel": {
           "bgcolor": "FireBrick"
          },
          "hovertext": "Step 61 [2018-05-17 18:00:00]<br>SELL 0.31231475 BTC @ 8166.0 USD MARKET<br>Total: 2550.36 USD - Comm.: 0.00093976 BTC",
          "opacity": 0.6,
          "showarrow": true,
          "x": 60,
          "xref": "x",
          "y": 8166.0,
          "yref": "y"
         },
         {
          "arrowcolor": "DarkGreen",
          "arrowhead": 2,
          "arrowsize": 0.8,
          "arrowwidth": 4,
          "ax": 0,
          "ay": 15,
          "hoverlabel": {
           "bgcolor": "DarkGreen"
          },
          "hovertext": "Step 134 [2018-05-20 19:00:00]<br>BUY 0.05575763 BTC @ 8517.04 USD MARKET<br>Total: 474.89 USD - Comm.: 1.43 USD",
          "opacity": 0.6,
          "showarrow": true,
          "x": 133,
          "xref": "x",
          "y": 8517.04,
          "yref": "y"
         },
         {
          "arrowcolor": "DarkGreen",
          "arrowhead": 2,
          "arrowsize": 0.8,
          "arrowwidth": 4,
          "ax": 0,
          "ay": 15,
          "hoverlabel": {
           "bgcolor": "DarkGreen"
          },
          "hovertext": "Step 134 [2018-05-20 19:00:00]<br>BUY 0.39996055 BTC @ 8517.04 USD MARKET<br>Total: 3406.48 USD - Comm.: 10.25 USD",
          "opacity": 0.6,
          "showarrow": true,
          "x": 133,
          "xref": "x",
          "y": 8517.04,
          "yref": "y"
         },
         {
          "arrowcolor": "DarkGreen",
          "arrowhead": 2,
          "arrowsize": 0.8,
          "arrowwidth": 4,
          "ax": 0,
          "ay": 15,
          "hoverlabel": {
           "bgcolor": "DarkGreen"
          },
          "hovertext": "Step 133 [2018-05-20 18:00:00]<br>BUY 0.13085992 BTC @ 8524.0 USD MARKET<br>Total: 1115.45 USD - Comm.: 3.36 USD",
          "opacity": 0.6,
          "showarrow": true,
          "x": 132,
          "xref": "x",
          "y": 8524.0,
          "yref": "y"
         },
         {
          "arrowcolor": "DarkGreen",
          "arrowhead": 2,
          "arrowsize": 0.8,
          "arrowwidth": 4,
          "ax": 0,
          "ay": 15,
          "hoverlabel": {
           "bgcolor": "DarkGreen"
          },
          "hovertext": "Step 133 [2018-05-20 18:00:00]<br>BUY 0.54947325 BTC @ 8524.0 USD MARKET<br>Total: 4683.71 USD - Comm.: 14.09 USD",
          "opacity": 0.6,
          "showarrow": true,
          "x": 132,
          "xref": "x",
          "y": 8524.0,
          "yref": "y"
         },
         {
          "arrowcolor": "FireBrick",
          "arrowhead": 2,
          "arrowsize": 0.8,
          "arrowwidth": 4,
          "ax": 0,
          "ay": -15,
          "hoverlabel": {
           "bgcolor": "FireBrick"
          },
          "hovertext": "Step 132 [2018-05-20 17:00:00]<br>SELL 0.00657033 BTC @ 8516.36 USD MARKET<br>Total: 55.96 USD - Comm.: 0.00001977 BTC",
          "opacity": 0.6,
          "showarrow": true,
          "x": 131,
          "xref": "x",
          "y": 8516.36,
          "yref": "y"
         },
         {
          "arrowcolor": "DarkGreen",
          "arrowhead": 2,
          "arrowsize": 0.8,
          "arrowwidth": 4,
          "ax": 0,
          "ay": 15,
          "hoverlabel": {
           "bgcolor": "DarkGreen"
          },
          "hovertext": "Step 132 [2018-05-20 17:00:00]<br>BUY 0.23429141 BTC @ 8516.36 USD MARKET<br>Total: 1995.31 USD - Comm.: 6.00 USD",
          "opacity": 0.6,
          "showarrow": true,
          "x": 131,
          "xref": "x",
          "y": 8516.36,
          "yref": "y"
         },
         {
          "arrowcolor": "DarkGreen",
          "arrowhead": 2,
          "arrowsize": 0.8,
          "arrowwidth": 4,
          "ax": 0,
          "ay": 15,
          "hoverlabel": {
           "bgcolor": "DarkGreen"
          },
          "hovertext": "Step 132 [2018-05-20 17:00:00]<br>BUY 0.36318451 BTC @ 8516.36 USD MARKET<br>Total: 3093.01 USD - Comm.: 9.31 USD",
          "opacity": 0.6,
          "showarrow": true,
          "x": 131,
          "xref": "x",
          "y": 8516.36,
          "yref": "y"
         },
         {
          "arrowcolor": "DarkGreen",
          "arrowhead": 2,
          "arrowsize": 0.8,
          "arrowwidth": 4,
          "ax": 0,
          "ay": 15,
          "hoverlabel": {
           "bgcolor": "DarkGreen"
          },
          "hovertext": "Step 132 [2018-05-20 17:00:00]<br>BUY 0.49763279 BTC @ 8516.36 USD MARKET<br>Total: 4238.02 USD - Comm.: 12.75 USD",
          "opacity": 0.6,
          "showarrow": true,
          "x": 131,
          "xref": "x",
          "y": 8516.36,
          "yref": "y"
         },
         {
          "arrowcolor": "DarkGreen",
          "arrowhead": 2,
          "arrowsize": 0.8,
          "arrowwidth": 4,
          "ax": 0,
          "ay": 15,
          "hoverlabel": {
           "bgcolor": "DarkGreen"
          },
          "hovertext": "Step 132 [2018-05-20 17:00:00]<br>BUY 0.87565462 BTC @ 8516.36 USD MARKET<br>Total: 7457.39 USD - Comm.: 22.44 USD",
          "opacity": 0.6,
          "showarrow": true,
          "x": 131,
          "xref": "x",
          "y": 8516.36,
          "yref": "y"
         },
         {
          "arrowcolor": "FireBrick",
          "arrowhead": 2,
          "arrowsize": 0.8,
          "arrowwidth": 4,
          "ax": 0,
          "ay": -15,
          "hoverlabel": {
           "bgcolor": "FireBrick"
          },
          "hovertext": "Step 131 [2018-05-20 16:00:00]<br>SELL 0.00281857 BTC @ 8481.11 USD MARKET<br>Total: 23.9 USD - Comm.: 0.00000848 BTC",
          "opacity": 0.6,
          "showarrow": true,
          "x": 130,
          "xref": "x",
          "y": 8481.11,
          "yref": "y"
         },
         {
          "arrowcolor": "FireBrick",
          "arrowhead": 2,
          "arrowsize": 0.8,
          "arrowwidth": 4,
          "ax": 0,
          "ay": -15,
          "hoverlabel": {
           "bgcolor": "FireBrick"
          },
          "hovertext": "Step 131 [2018-05-20 16:00:00]<br>SELL 0.02187087 BTC @ 8481.11 USD MARKET<br>Total: 185.49 USD - Comm.: 0.00006581 BTC",
          "opacity": 0.6,
          "showarrow": true,
          "x": 130,
          "xref": "x",
          "y": 8481.11,
          "yref": "y"
         },
         {
          "arrowcolor": "DarkGreen",
          "arrowhead": 2,
          "arrowsize": 0.8,
          "arrowwidth": 4,
          "ax": 0,
          "ay": 15,
          "hoverlabel": {
           "bgcolor": "DarkGreen"
          },
          "hovertext": "Step 131 [2018-05-20 16:00:00]<br>BUY 0.25962639 BTC @ 8481.11 USD MARKET<br>Total: 2201.92 USD - Comm.: 6.63 USD",
          "opacity": 0.6,
          "showarrow": true,
          "x": 130,
          "xref": "x",
          "y": 8481.11,
          "yref": "y"
         },
         {
          "arrowcolor": "DarkGreen",
          "arrowhead": 2,
          "arrowsize": 0.8,
          "arrowwidth": 4,
          "ax": 0,
          "ay": 15,
          "hoverlabel": {
           "bgcolor": "DarkGreen"
          },
          "hovertext": "Step 131 [2018-05-20 16:00:00]<br>BUY 0.45096456 BTC @ 8481.11 USD MARKET<br>Total: 3824.68 USD - Comm.: 11.51 USD",
          "opacity": 0.6,
          "showarrow": true,
          "x": 130,
          "xref": "x",
          "y": 8481.11,
          "yref": "y"
         },
         {
          "arrowcolor": "DarkGreen",
          "arrowhead": 2,
          "arrowsize": 0.8,
          "arrowwidth": 4,
          "ax": 0,
          "ay": 15,
          "hoverlabel": {
           "bgcolor": "DarkGreen"
          },
          "hovertext": "Step 131 [2018-05-20 16:00:00]<br>BUY 2.38396153 BTC @ 8481.11 USD MARKET<br>Total: 20218.64 USD - Comm.: 60.84 USD",
          "opacity": 0.6,
          "showarrow": true,
          "x": 130,
          "xref": "x",
          "y": 8481.11,
          "yref": "y"
         },
         {
          "arrowcolor": "DarkGreen",
          "arrowhead": 2,
          "arrowsize": 0.8,
          "arrowwidth": 4,
          "ax": 0,
          "ay": 15,
          "hoverlabel": {
           "bgcolor": "DarkGreen"
          },
          "hovertext": "Step 131 [2018-05-20 16:00:00]<br>BUY 0.96571439 BTC @ 8481.11 USD MARKET<br>Total: 8190.33 USD - Comm.: 24.64 USD",
          "opacity": 0.6,
          "showarrow": true,
          "x": 130,
          "xref": "x",
          "y": 8481.11,
          "yref": "y"
         },
         {
          "arrowcolor": "FireBrick",
          "arrowhead": 2,
          "arrowsize": 0.8,
          "arrowwidth": 4,
          "ax": 0,
          "ay": -15,
          "hoverlabel": {
           "bgcolor": "FireBrick"
          },
          "hovertext": "Step 124 [2018-05-20 09:00:00]<br>SELL 0.27049566 BTC @ 8350.62 USD MARKET<br>Total: 2258.81 USD - Comm.: 0.00081393 BTC",
          "opacity": 0.6,
          "showarrow": true,
          "x": 123,
          "xref": "x",
          "y": 8350.62,
          "yref": "y"
         },
         {
          "arrowcolor": "DarkGreen",
          "arrowhead": 2,
          "arrowsize": 0.8,
          "arrowwidth": 4,
          "ax": 0,
          "ay": 15,
          "hoverlabel": {
           "bgcolor": "DarkGreen"
          },
          "hovertext": "Step 111 [2018-05-19 20:00:00]<br>BUY 0.27130959 BTC @ 8240.07 USD MARKET<br>Total: 2235.61 USD - Comm.: 6.73 USD",
          "opacity": 0.6,
          "showarrow": true,
          "x": 110,
          "xref": "x",
          "y": 8240.07,
          "yref": "y"
         },
         {
          "arrowcolor": "FireBrick",
          "arrowhead": 2,
          "arrowsize": 0.8,
          "arrowwidth": 4,
          "ax": 0,
          "ay": -15,
          "hoverlabel": {
           "bgcolor": "FireBrick"
          },
          "hovertext": "Step 103 [2018-05-19 12:00:00]<br>SELL 0.31880399 BTC @ 8348.65 USD MARKET<br>Total: 2661.58 USD - Comm.: 0.00095929 BTC",
          "opacity": 0.6,
          "showarrow": true,
          "x": 102,
          "xref": "x",
          "y": 8348.65,
          "yref": "y"
         },
         {
          "arrowcolor": "FireBrick",
          "arrowhead": 2,
          "arrowsize": 0.8,
          "arrowwidth": 4,
          "ax": 0,
          "ay": -15,
          "hoverlabel": {
           "bgcolor": "FireBrick"
          },
          "hovertext": "Step 102 [2018-05-19 11:00:00]<br>SELL 0.00352023 BTC @ 8365.0 USD MARKET<br>Total: 29.45 USD - Comm.: 0.00001059 BTC",
          "opacity": 0.6,
          "showarrow": true,
          "x": 101,
          "xref": "x",
          "y": 8365.0,
          "yref": "y"
         },
         {
          "arrowcolor": "FireBrick",
          "arrowhead": 2,
          "arrowsize": 0.8,
          "arrowwidth": 4,
          "ax": 0,
          "ay": -15,
          "hoverlabel": {
           "bgcolor": "FireBrick"
          },
          "hovertext": "Step 102 [2018-05-19 11:00:00]<br>SELL 0.34845336 BTC @ 8365.0 USD MARKET<br>Total: 2914.81 USD - Comm.: 0.00104851 BTC",
          "opacity": 0.6,
          "showarrow": true,
          "x": 101,
          "xref": "x",
          "y": 8365.0,
          "yref": "y"
         },
         {
          "arrowcolor": "FireBrick",
          "arrowhead": 2,
          "arrowsize": 0.8,
          "arrowwidth": 4,
          "ax": 0,
          "ay": -15,
          "hoverlabel": {
           "bgcolor": "FireBrick"
          },
          "hovertext": "Step 200 [2018-05-23 13:00:00]<br>SELL 0.04373667 BTC @ 7901.01 USD MARKET<br>Total: 345.56 USD - Comm.: 0.00013160 BTC",
          "opacity": 0.6,
          "showarrow": true,
          "x": 199,
          "xref": "x",
          "y": 7901.01,
          "yref": "y"
         },
         {
          "arrowcolor": "FireBrick",
          "arrowhead": 2,
          "arrowsize": 0.8,
          "arrowwidth": 4,
          "ax": 0,
          "ay": -15,
          "hoverlabel": {
           "bgcolor": "FireBrick"
          },
          "hovertext": "Step 199 [2018-05-23 12:00:00]<br>SELL 0.0485963 BTC @ 7911.83 USD MARKET<br>Total: 384.49 USD - Comm.: 0.00014623 BTC",
          "opacity": 0.6,
          "showarrow": true,
          "x": 198,
          "xref": "x",
          "y": 7911.83,
          "yref": "y"
         },
         {
          "arrowcolor": "FireBrick",
          "arrowhead": 2,
          "arrowsize": 0.8,
          "arrowwidth": 4,
          "ax": 0,
          "ay": -15,
          "hoverlabel": {
           "bgcolor": "FireBrick"
          },
          "hovertext": "Step 198 [2018-05-23 11:00:00]<br>SELL 0.05399588 BTC @ 7849.31 USD MARKET<br>Total: 423.83 USD - Comm.: 0.00016248 BTC",
          "opacity": 0.6,
          "showarrow": true,
          "x": 197,
          "xref": "x",
          "y": 7849.31,
          "yref": "y"
         },
         {
          "arrowcolor": "FireBrick",
          "arrowhead": 2,
          "arrowsize": 0.8,
          "arrowwidth": 4,
          "ax": 0,
          "ay": -15,
          "hoverlabel": {
           "bgcolor": "FireBrick"
          },
          "hovertext": "Step 197 [2018-05-23 10:00:00]<br>SELL 0.05999543 BTC @ 7847.1 USD MARKET<br>Total: 470.79 USD - Comm.: 0.00018053 BTC",
          "opacity": 0.6,
          "showarrow": true,
          "x": 196,
          "xref": "x",
          "y": 7847.1,
          "yref": "y"
         },
         {
          "arrowcolor": "FireBrick",
          "arrowhead": 2,
          "arrowsize": 0.8,
          "arrowwidth": 4,
          "ax": 0,
          "ay": -15,
          "hoverlabel": {
           "bgcolor": "FireBrick"
          },
          "hovertext": "Step 196 [2018-05-23 09:00:00]<br>SELL 0.06666159 BTC @ 7852.68 USD MARKET<br>Total: 523.47 USD - Comm.: 0.00020059 BTC",
          "opacity": 0.6,
          "showarrow": true,
          "x": 195,
          "xref": "x",
          "y": 7852.68,
          "yref": "y"
         },
         {
          "arrowcolor": "FireBrick",
          "arrowhead": 2,
          "arrowsize": 0.8,
          "arrowwidth": 4,
          "ax": 0,
          "ay": -15,
          "hoverlabel": {
           "bgcolor": "FireBrick"
          },
          "hovertext": "Step 195 [2018-05-23 08:00:00]<br>SELL 0.07406844 BTC @ 7848.3 USD MARKET<br>Total: 581.31 USD - Comm.: 0.00022287 BTC",
          "opacity": 0.6,
          "showarrow": true,
          "x": 194,
          "xref": "x",
          "y": 7848.3,
          "yref": "y"
         },
         {
          "arrowcolor": "FireBrick",
          "arrowhead": 2,
          "arrowsize": 0.8,
          "arrowwidth": 4,
          "ax": 0,
          "ay": -15,
          "hoverlabel": {
           "bgcolor": "FireBrick"
          },
          "hovertext": "Step 195 [2018-05-23 08:00:00]<br>SELL 0.39082707 BTC @ 7848.3 USD MARKET<br>Total: 3067.33 USD - Comm.: 0.00117601 BTC",
          "opacity": 0.6,
          "showarrow": true,
          "x": 194,
          "xref": "x",
          "y": 7848.3,
          "yref": "y"
         },
         {
          "arrowcolor": "FireBrick",
          "arrowhead": 2,
          "arrowsize": 0.8,
          "arrowwidth": 4,
          "ax": 0,
          "ay": -15,
          "hoverlabel": {
           "bgcolor": "FireBrick"
          },
          "hovertext": "Step 194 [2018-05-23 07:00:00]<br>SELL 0.03845919 BTC @ 7856.37 USD MARKET<br>Total: 302.15 USD - Comm.: 0.00011572 BTC",
          "opacity": 0.6,
          "showarrow": true,
          "x": 193,
          "xref": "x",
          "y": 7856.37,
          "yref": "y"
         },
         {
          "arrowcolor": "DarkGreen",
          "arrowhead": 2,
          "arrowsize": 0.8,
          "arrowwidth": 4,
          "ax": 0,
          "ay": 15,
          "hoverlabel": {
           "bgcolor": "DarkGreen"
          },
          "hovertext": "Step 194 [2018-05-23 07:00:00]<br>BUY 0.74291308 BTC @ 7856.37 USD MARKET<br>Total: 5836.6 USD - Comm.: 17.56 USD",
          "opacity": 0.6,
          "showarrow": true,
          "x": 193,
          "xref": "x",
          "y": 7856.37,
          "yref": "y"
         },
         {
          "arrowcolor": "DarkGreen",
          "arrowhead": 2,
          "arrowsize": 0.8,
          "arrowwidth": 4,
          "ax": 0,
          "ay": 15,
          "hoverlabel": {
           "bgcolor": "DarkGreen"
          },
          "hovertext": "Step 193 [2018-05-23 06:00:00]<br>BUY 0.03597224 BTC @ 7943.07 USD MARKET<br>Total: 285.73 USD - Comm.: 0.86 USD",
          "opacity": 0.6,
          "showarrow": true,
          "x": 192,
          "xref": "x",
          "y": 7943.07,
          "yref": "y"
         },
         {
          "arrowcolor": "DarkGreen",
          "arrowhead": 2,
          "arrowsize": 0.8,
          "arrowwidth": 4,
          "ax": 0,
          "ay": 15,
          "hoverlabel": {
           "bgcolor": "DarkGreen"
          },
          "hovertext": "Step 192 [2018-05-23 05:00:00]<br>BUY 0.15457606 BTC @ 7921.99 USD MARKET<br>Total: 1224.55 USD - Comm.: 3.68 USD",
          "opacity": 0.6,
          "showarrow": true,
          "x": 191,
          "xref": "x",
          "y": 7921.99,
          "yref": "y"
         },
         {
          "arrowcolor": "FireBrick",
          "arrowhead": 2,
          "arrowsize": 0.8,
          "arrowwidth": 4,
          "ax": 0,
          "ay": -15,
          "hoverlabel": {
           "bgcolor": "FireBrick"
          },
          "hovertext": "Step 187 [2018-05-23 00:00:00]<br>SELL 0.00375938 BTC @ 7949.35 USD MARKET<br>Total: 29.88 USD - Comm.: 0.00001131 BTC",
          "opacity": 0.6,
          "showarrow": true,
          "x": 186,
          "xref": "x",
          "y": 7949.35,
          "yref": "y"
         },
         {
          "arrowcolor": "FireBrick",
          "arrowhead": 2,
          "arrowsize": 0.8,
          "arrowwidth": 4,
          "ax": 0,
          "ay": -15,
          "hoverlabel": {
           "bgcolor": "FireBrick"
          },
          "hovertext": "Step 185 [2018-05-22 22:00:00]<br>SELL 0.50685766 BTC @ 7964.73 USD MARKET<br>Total: 4036.98 USD - Comm.: 0.00152515 BTC",
          "opacity": 0.6,
          "showarrow": true,
          "x": 184,
          "xref": "x",
          "y": 7964.73,
          "yref": "y"
         },
         {
          "arrowcolor": "DarkGreen",
          "arrowhead": 2,
          "arrowsize": 0.8,
          "arrowwidth": 4,
          "ax": 0,
          "ay": 15,
          "hoverlabel": {
           "bgcolor": "DarkGreen"
          },
          "hovertext": "Step 184 [2018-05-22 21:00:00]<br>BUY 0.01345427 BTC @ 8076.99 USD MARKET<br>Total: 108.67 USD - Comm.: 0.33 USD",
          "opacity": 0.6,
          "showarrow": true,
          "x": 183,
          "xref": "x",
          "y": 8076.99,
          "yref": "y"
         },
         {
          "arrowcolor": "DarkGreen",
          "arrowhead": 2,
          "arrowsize": 0.8,
          "arrowwidth": 4,
          "ax": 0,
          "ay": 15,
          "hoverlabel": {
           "bgcolor": "DarkGreen"
          },
          "hovertext": "Step 176 [2018-05-22 13:00:00]<br>BUY 0.03857491 BTC @ 8217.0 USD MARKET<br>Total: 316.97 USD - Comm.: 0.95 USD",
          "opacity": 0.6,
          "showarrow": true,
          "x": 175,
          "xref": "x",
          "y": 8217.0,
          "yref": "y"
         },
         {
          "arrowcolor": "FireBrick",
          "arrowhead": 2,
          "arrowsize": 0.8,
          "arrowwidth": 4,
          "ax": 0,
          "ay": -15,
          "hoverlabel": {
           "bgcolor": "FireBrick"
          },
          "hovertext": "Step 175 [2018-05-22 12:00:00]<br>SELL 0.05559036 BTC @ 8170.0 USD MARKET<br>Total: 454.17 USD - Comm.: 0.00016727 BTC",
          "opacity": 0.6,
          "showarrow": true,
          "x": 174,
          "xref": "x",
          "y": 8170.0,
          "yref": "y"
         },
         {
          "arrowcolor": "DarkGreen",
          "arrowhead": 2,
          "arrowsize": 0.8,
          "arrowwidth": 4,
          "ax": 0,
          "ay": 15,
          "hoverlabel": {
           "bgcolor": "DarkGreen"
          },
          "hovertext": "Step 153 [2018-05-21 14:00:00]<br>BUY 0.50838281 BTC @ 8407.09 USD MARKET<br>Total: 4274.02 USD - Comm.: 12.86 USD",
          "opacity": 0.6,
          "showarrow": true,
          "x": 152,
          "xref": "x",
          "y": 8407.09,
          "yref": "y"
         }
        ],
        "margin": {
         "t": 50
        },
        "template": {
         "data": {
          "bar": [
           {
            "error_x": {
             "color": "#2a3f5f"
            },
            "error_y": {
             "color": "#2a3f5f"
            },
            "marker": {
             "line": {
              "color": "white",
              "width": 0.5
             }
            },
            "type": "bar"
           }
          ],
          "barpolar": [
           {
            "marker": {
             "line": {
              "color": "white",
              "width": 0.5
             }
            },
            "type": "barpolar"
           }
          ],
          "carpet": [
           {
            "aaxis": {
             "endlinecolor": "#2a3f5f",
             "gridcolor": "#C8D4E3",
             "linecolor": "#C8D4E3",
             "minorgridcolor": "#C8D4E3",
             "startlinecolor": "#2a3f5f"
            },
            "baxis": {
             "endlinecolor": "#2a3f5f",
             "gridcolor": "#C8D4E3",
             "linecolor": "#C8D4E3",
             "minorgridcolor": "#C8D4E3",
             "startlinecolor": "#2a3f5f"
            },
            "type": "carpet"
           }
          ],
          "choropleth": [
           {
            "colorbar": {
             "outlinewidth": 0,
             "ticks": ""
            },
            "type": "choropleth"
           }
          ],
          "contour": [
           {
            "colorbar": {
             "outlinewidth": 0,
             "ticks": ""
            },
            "colorscale": [
             [
              0.0,
              "#0d0887"
             ],
             [
              0.1111111111111111,
              "#46039f"
             ],
             [
              0.2222222222222222,
              "#7201a8"
             ],
             [
              0.3333333333333333,
              "#9c179e"
             ],
             [
              0.4444444444444444,
              "#bd3786"
             ],
             [
              0.5555555555555556,
              "#d8576b"
             ],
             [
              0.6666666666666666,
              "#ed7953"
             ],
             [
              0.7777777777777778,
              "#fb9f3a"
             ],
             [
              0.8888888888888888,
              "#fdca26"
             ],
             [
              1.0,
              "#f0f921"
             ]
            ],
            "type": "contour"
           }
          ],
          "contourcarpet": [
           {
            "colorbar": {
             "outlinewidth": 0,
             "ticks": ""
            },
            "type": "contourcarpet"
           }
          ],
          "heatmap": [
           {
            "colorbar": {
             "outlinewidth": 0,
             "ticks": ""
            },
            "colorscale": [
             [
              0.0,
              "#0d0887"
             ],
             [
              0.1111111111111111,
              "#46039f"
             ],
             [
              0.2222222222222222,
              "#7201a8"
             ],
             [
              0.3333333333333333,
              "#9c179e"
             ],
             [
              0.4444444444444444,
              "#bd3786"
             ],
             [
              0.5555555555555556,
              "#d8576b"
             ],
             [
              0.6666666666666666,
              "#ed7953"
             ],
             [
              0.7777777777777778,
              "#fb9f3a"
             ],
             [
              0.8888888888888888,
              "#fdca26"
             ],
             [
              1.0,
              "#f0f921"
             ]
            ],
            "type": "heatmap"
           }
          ],
          "heatmapgl": [
           {
            "colorbar": {
             "outlinewidth": 0,
             "ticks": ""
            },
            "colorscale": [
             [
              0.0,
              "#0d0887"
             ],
             [
              0.1111111111111111,
              "#46039f"
             ],
             [
              0.2222222222222222,
              "#7201a8"
             ],
             [
              0.3333333333333333,
              "#9c179e"
             ],
             [
              0.4444444444444444,
              "#bd3786"
             ],
             [
              0.5555555555555556,
              "#d8576b"
             ],
             [
              0.6666666666666666,
              "#ed7953"
             ],
             [
              0.7777777777777778,
              "#fb9f3a"
             ],
             [
              0.8888888888888888,
              "#fdca26"
             ],
             [
              1.0,
              "#f0f921"
             ]
            ],
            "type": "heatmapgl"
           }
          ],
          "histogram": [
           {
            "marker": {
             "colorbar": {
              "outlinewidth": 0,
              "ticks": ""
             }
            },
            "type": "histogram"
           }
          ],
          "histogram2d": [
           {
            "colorbar": {
             "outlinewidth": 0,
             "ticks": ""
            },
            "colorscale": [
             [
              0.0,
              "#0d0887"
             ],
             [
              0.1111111111111111,
              "#46039f"
             ],
             [
              0.2222222222222222,
              "#7201a8"
             ],
             [
              0.3333333333333333,
              "#9c179e"
             ],
             [
              0.4444444444444444,
              "#bd3786"
             ],
             [
              0.5555555555555556,
              "#d8576b"
             ],
             [
              0.6666666666666666,
              "#ed7953"
             ],
             [
              0.7777777777777778,
              "#fb9f3a"
             ],
             [
              0.8888888888888888,
              "#fdca26"
             ],
             [
              1.0,
              "#f0f921"
             ]
            ],
            "type": "histogram2d"
           }
          ],
          "histogram2dcontour": [
           {
            "colorbar": {
             "outlinewidth": 0,
             "ticks": ""
            },
            "colorscale": [
             [
              0.0,
              "#0d0887"
             ],
             [
              0.1111111111111111,
              "#46039f"
             ],
             [
              0.2222222222222222,
              "#7201a8"
             ],
             [
              0.3333333333333333,
              "#9c179e"
             ],
             [
              0.4444444444444444,
              "#bd3786"
             ],
             [
              0.5555555555555556,
              "#d8576b"
             ],
             [
              0.6666666666666666,
              "#ed7953"
             ],
             [
              0.7777777777777778,
              "#fb9f3a"
             ],
             [
              0.8888888888888888,
              "#fdca26"
             ],
             [
              1.0,
              "#f0f921"
             ]
            ],
            "type": "histogram2dcontour"
           }
          ],
          "mesh3d": [
           {
            "colorbar": {
             "outlinewidth": 0,
             "ticks": ""
            },
            "type": "mesh3d"
           }
          ],
          "parcoords": [
           {
            "line": {
             "colorbar": {
              "outlinewidth": 0,
              "ticks": ""
             }
            },
            "type": "parcoords"
           }
          ],
          "pie": [
           {
            "automargin": true,
            "type": "pie"
           }
          ],
          "scatter": [
           {
            "marker": {
             "colorbar": {
              "outlinewidth": 0,
              "ticks": ""
             }
            },
            "type": "scatter"
           }
          ],
          "scatter3d": [
           {
            "line": {
             "colorbar": {
              "outlinewidth": 0,
              "ticks": ""
             }
            },
            "marker": {
             "colorbar": {
              "outlinewidth": 0,
              "ticks": ""
             }
            },
            "type": "scatter3d"
           }
          ],
          "scattercarpet": [
           {
            "marker": {
             "colorbar": {
              "outlinewidth": 0,
              "ticks": ""
             }
            },
            "type": "scattercarpet"
           }
          ],
          "scattergeo": [
           {
            "marker": {
             "colorbar": {
              "outlinewidth": 0,
              "ticks": ""
             }
            },
            "type": "scattergeo"
           }
          ],
          "scattergl": [
           {
            "marker": {
             "colorbar": {
              "outlinewidth": 0,
              "ticks": ""
             }
            },
            "type": "scattergl"
           }
          ],
          "scattermapbox": [
           {
            "marker": {
             "colorbar": {
              "outlinewidth": 0,
              "ticks": ""
             }
            },
            "type": "scattermapbox"
           }
          ],
          "scatterpolar": [
           {
            "marker": {
             "colorbar": {
              "outlinewidth": 0,
              "ticks": ""
             }
            },
            "type": "scatterpolar"
           }
          ],
          "scatterpolargl": [
           {
            "marker": {
             "colorbar": {
              "outlinewidth": 0,
              "ticks": ""
             }
            },
            "type": "scatterpolargl"
           }
          ],
          "scatterternary": [
           {
            "marker": {
             "colorbar": {
              "outlinewidth": 0,
              "ticks": ""
             }
            },
            "type": "scatterternary"
           }
          ],
          "surface": [
           {
            "colorbar": {
             "outlinewidth": 0,
             "ticks": ""
            },
            "colorscale": [
             [
              0.0,
              "#0d0887"
             ],
             [
              0.1111111111111111,
              "#46039f"
             ],
             [
              0.2222222222222222,
              "#7201a8"
             ],
             [
              0.3333333333333333,
              "#9c179e"
             ],
             [
              0.4444444444444444,
              "#bd3786"
             ],
             [
              0.5555555555555556,
              "#d8576b"
             ],
             [
              0.6666666666666666,
              "#ed7953"
             ],
             [
              0.7777777777777778,
              "#fb9f3a"
             ],
             [
              0.8888888888888888,
              "#fdca26"
             ],
             [
              1.0,
              "#f0f921"
             ]
            ],
            "type": "surface"
           }
          ],
          "table": [
           {
            "cells": {
             "fill": {
              "color": "#EBF0F8"
             },
             "line": {
              "color": "white"
             }
            },
            "header": {
             "fill": {
              "color": "#C8D4E3"
             },
             "line": {
              "color": "white"
             }
            },
            "type": "table"
           }
          ]
         },
         "layout": {
          "annotationdefaults": {
           "arrowcolor": "#2a3f5f",
           "arrowhead": 0,
           "arrowwidth": 1
          },
          "autotypenumbers": "strict",
          "coloraxis": {
           "colorbar": {
            "outlinewidth": 0,
            "ticks": ""
           }
          },
          "colorscale": {
           "diverging": [
            [
             0,
             "#8e0152"
            ],
            [
             0.1,
             "#c51b7d"
            ],
            [
             0.2,
             "#de77ae"
            ],
            [
             0.3,
             "#f1b6da"
            ],
            [
             0.4,
             "#fde0ef"
            ],
            [
             0.5,
             "#f7f7f7"
            ],
            [
             0.6,
             "#e6f5d0"
            ],
            [
             0.7,
             "#b8e186"
            ],
            [
             0.8,
             "#7fbc41"
            ],
            [
             0.9,
             "#4d9221"
            ],
            [
             1,
             "#276419"
            ]
           ],
           "sequential": [
            [
             0.0,
             "#0d0887"
            ],
            [
             0.1111111111111111,
             "#46039f"
            ],
            [
             0.2222222222222222,
             "#7201a8"
            ],
            [
             0.3333333333333333,
             "#9c179e"
            ],
            [
             0.4444444444444444,
             "#bd3786"
            ],
            [
             0.5555555555555556,
             "#d8576b"
            ],
            [
             0.6666666666666666,
             "#ed7953"
            ],
            [
             0.7777777777777778,
             "#fb9f3a"
            ],
            [
             0.8888888888888888,
             "#fdca26"
            ],
            [
             1.0,
             "#f0f921"
            ]
           ],
           "sequentialminus": [
            [
             0.0,
             "#0d0887"
            ],
            [
             0.1111111111111111,
             "#46039f"
            ],
            [
             0.2222222222222222,
             "#7201a8"
            ],
            [
             0.3333333333333333,
             "#9c179e"
            ],
            [
             0.4444444444444444,
             "#bd3786"
            ],
            [
             0.5555555555555556,
             "#d8576b"
            ],
            [
             0.6666666666666666,
             "#ed7953"
            ],
            [
             0.7777777777777778,
             "#fb9f3a"
            ],
            [
             0.8888888888888888,
             "#fdca26"
            ],
            [
             1.0,
             "#f0f921"
            ]
           ]
          },
          "colorway": [
           "#636efa",
           "#EF553B",
           "#00cc96",
           "#ab63fa",
           "#FFA15A",
           "#19d3f3",
           "#FF6692",
           "#B6E880",
           "#FF97FF",
           "#FECB52"
          ],
          "font": {
           "color": "#2a3f5f"
          },
          "geo": {
           "bgcolor": "white",
           "lakecolor": "white",
           "landcolor": "white",
           "showlakes": true,
           "showland": true,
           "subunitcolor": "#C8D4E3"
          },
          "hoverlabel": {
           "align": "left"
          },
          "hovermode": "closest",
          "mapbox": {
           "style": "light"
          },
          "paper_bgcolor": "white",
          "plot_bgcolor": "white",
          "polar": {
           "angularaxis": {
            "gridcolor": "#EBF0F8",
            "linecolor": "#EBF0F8",
            "ticks": ""
           },
           "bgcolor": "white",
           "radialaxis": {
            "gridcolor": "#EBF0F8",
            "linecolor": "#EBF0F8",
            "ticks": ""
           }
          },
          "scene": {
           "xaxis": {
            "backgroundcolor": "white",
            "gridcolor": "#DFE8F3",
            "gridwidth": 2,
            "linecolor": "#EBF0F8",
            "showbackground": true,
            "ticks": "",
            "zerolinecolor": "#EBF0F8"
           },
           "yaxis": {
            "backgroundcolor": "white",
            "gridcolor": "#DFE8F3",
            "gridwidth": 2,
            "linecolor": "#EBF0F8",
            "showbackground": true,
            "ticks": "",
            "zerolinecolor": "#EBF0F8"
           },
           "zaxis": {
            "backgroundcolor": "white",
            "gridcolor": "#DFE8F3",
            "gridwidth": 2,
            "linecolor": "#EBF0F8",
            "showbackground": true,
            "ticks": "",
            "zerolinecolor": "#EBF0F8"
           }
          },
          "shapedefaults": {
           "line": {
            "color": "#2a3f5f"
           }
          },
          "ternary": {
           "aaxis": {
            "gridcolor": "#DFE8F3",
            "linecolor": "#A2B1C6",
            "ticks": ""
           },
           "baxis": {
            "gridcolor": "#DFE8F3",
            "linecolor": "#A2B1C6",
            "ticks": ""
           },
           "bgcolor": "white",
           "caxis": {
            "gridcolor": "#DFE8F3",
            "linecolor": "#A2B1C6",
            "ticks": ""
           }
          },
          "title": {
           "x": 0.05
          },
          "xaxis": {
           "automargin": true,
           "gridcolor": "#EBF0F8",
           "linecolor": "#EBF0F8",
           "ticks": "",
           "title": {
            "standoff": 15
           },
           "zerolinecolor": "#EBF0F8",
           "zerolinewidth": 2
          },
          "yaxis": {
           "automargin": true,
           "gridcolor": "#EBF0F8",
           "linecolor": "#EBF0F8",
           "ticks": "",
           "title": {
            "standoff": 15
           },
           "zerolinecolor": "#EBF0F8",
           "zerolinewidth": 2
          }
         }
        },
        "title": {
         "text": "[2021-02-12 00:08:29 AM] Episode: 2/2 Step: 201/200"
        },
        "xaxis": {
         "anchor": "y",
         "domain": [
          0.0,
          1.0
         ],
         "gridcolor": "Gainsboro",
         "linecolor": "Grey",
         "matches": "x4",
         "rangeslider": {
          "visible": false
         },
         "showticklabels": false,
         "title": {
          "font": {
           "size": 12
          },
          "standoff": 7,
          "text": "Price"
         }
        },
        "xaxis2": {
         "anchor": "y2",
         "domain": [
          0.0,
          1.0
         ],
         "gridcolor": "Gainsboro",
         "linecolor": "Grey",
         "matches": "x4",
         "showticklabels": false,
         "title": {
          "font": {
           "size": 12
          },
          "standoff": 7,
          "text": "Volume"
         }
        },
        "xaxis3": {
         "anchor": "y3",
         "domain": [
          0.0,
          1.0
         ],
         "gridcolor": "Gainsboro",
         "linecolor": "Grey",
         "matches": "x4",
         "showticklabels": false,
         "title": {
          "font": {
           "size": 12
          },
          "standoff": 7,
          "text": "Performance"
         }
        },
        "xaxis4": {
         "anchor": "y4",
         "domain": [
          0.0,
          1.0
         ],
         "gridcolor": "Gainsboro",
         "linecolor": "Grey",
         "title": {
          "font": {
           "size": 12
          },
          "standoff": 7,
          "text": "Net Worth"
         }
        },
        "yaxis": {
         "anchor": "x",
         "domain": [
          0.49950000000000006,
          1.0
         ],
         "gridcolor": "Gainsboro",
         "linecolor": "Grey"
        },
        "yaxis2": {
         "anchor": "x2",
         "domain": [
          0.333,
          0.46950000000000003
         ],
         "gridcolor": "Gainsboro",
         "linecolor": "Grey"
        },
        "yaxis3": {
         "anchor": "x3",
         "domain": [
          0.1665,
          0.30300000000000005
         ],
         "gridcolor": "Gainsboro",
         "linecolor": "Grey"
        },
        "yaxis4": {
         "anchor": "x4",
         "domain": [
          0.0,
          0.1365
         ],
         "gridcolor": "Gainsboro",
         "linecolor": "Grey"
        }
       }
      },
      "text/html": "<div>                            <div id=\"3c31f543-38b4-4541-98cb-0ca6f79e5525\" class=\"plotly-graph-div\" style=\"height:525px; width:100%;\"></div>            <script type=\"text/javascript\">                require([\"plotly\"], function(Plotly) {                    window.PLOTLYENV=window.PLOTLYENV || {};                                    if (document.getElementById(\"3c31f543-38b4-4541-98cb-0ca6f79e5525\")) {                    Plotly.newPlot(                        \"3c31f543-38b4-4541-98cb-0ca6f79e5525\",                        [{\"close\": [8740.99, 8739.0, 8728.49, 8708.32, 8795.9, 8760.0, 8760.0, 8759.23, 8517.77, 8520.3, 8535.23, 8546.34, 8526.65, 8555.6, 8512.1, 8492.28, 8460.0, 8474.99, 8455.92, 8326.28, 8133.43, 8164.79, 8229.38, 8220.4, 8238.8, 8232.99, 8207.48, 8243.45, 8371.13, 8373.0, 8365.08, 8179.99, 8225.0, 8285.8, 8273.4, 8297.4, 8279.89, 8252.72, 8302.18, 8295.85, 8277.25, 8346.59, 8358.3, 8375.1, 8368.62, 8366.72, 8314.77, 8363.7, 8344.16, 8247.4, 8277.4, 8291.67, 8307.89, 8298.9, 8269.47, 8300.98, 8318.49, 8306.39, 8276.43, 8257.69, 8166.0, 8176.33, 8200.7, 8155.41, 8080.0, 8067.03, 7958.08, 7974.25, 7998.5, 7991.99, 8022.7, 8042.97, 7965.67, 8088.95, 8122.19, 8107.99, 8137.73, 8115.0, 8107.0, 8094.4, 8080.01, 8117.09, 8126.99, 8110.95, 8215.39, 8231.42, 8240.13, 8235.0, 8219.9, 8248.87, 8213.5, 8200.99, 8200.0, 8237.3, 8228.13, 8240.83, 8214.9, 8170.07, 8229.87, 8205.87, 8252.56, 8365.0, 8348.65, 8303.99, 8310.48, 8310.0, 8289.87, 8304.99, 8301.35, 8313.12, 8240.07, 8199.99, 8226.98, 8231.2, 8198.89, 8215.85, 8279.99, 8255.08, 8270.4, 8244.24, 8239.12, 8267.14, 8282.27, 8350.62, 8336.6, 8336.91, 8311.21, 8312.09, 8345.19, 8377.2, 8481.11, 8516.36, 8524.0, 8517.04, 8558.5, 8521.99, 8484.93, 8518.48, 8488.99, 8466.72, 8492.55, 8494.28, 8510.95, 8498.64, 8551.1, 8524.22, 8510.11, 8475.62, 8476.58, 8467.13, 8499.84, 8490.42, 8407.09, 8409.42, 8400.96, 8383.14, 8350.0, 8373.01, 8412.8, 8385.57, 8408.53, 8391.76, 8367.36, 8280.24, 8297.91, 8333.99, 8285.29, 8280.0, 8317.02, 8320.16, 8295.9, 8245.47, 8264.98, 8200.0, 8170.0, 8217.0, 8231.63, 8232.8, 8225.38, 8200.01, 8219.98, 8187.98, 8100.32, 8076.99, 7964.73, 7984.08, 7949.35, 7900.61, 7895.5, 7960.0, 7900.0, 7921.99, 7943.07, 7856.37, 7848.3, 7852.68, 7847.1, 7849.31, 7911.83, 7901.01, 7887.0], \"high\": [8796.68, 8766.0, 8750.27, 8754.4, 8865.0, 8821.19, 8798.6, 8771.02, 8761.7, 8553.67, 8589.1, 8579.48, 8555.51, 8583.6, 8569.92, 8555.54, 8557.51, 8505.0, 8505.33, 8478.29, 8339.81, 8217.44, 8252.72, 8248.63, 8267.12, 8255.0, 8261.24, 8263.93, 8455.66, 8439.44, 8399.1, 8381.73, 8229.91, 8377.29, 8329.1, 8350.0, 8346.95, 8377.29, 8311.35, 8319.96, 8398.24, 8372.58, 8399.99, 8386.53, 8400.0, 8500.0, 8381.0, 8371.3, 8382.41, 8351.0, 8292.99, 8325.8, 8318.99, 8324.9, 8335.56, 8309.4, 8377.29, 8330.41, 8328.23, 8284.36, 8274.83, 8200.0, 8232.14, 8213.97, 8155.41, 8108.28, 8068.92, 8019.9, 8026.66, 8025.0, 8104.69, 8061.39, 8045.99, 8170.71, 8144.16, 8139.99, 8152.99, 8137.73, 8143.72, 8129.99, 8106.76, 8139.0, 8152.04, 8146.99, 8232.14, 8275.1, 8256.12, 8274.1, 8255.8, 8253.97, 8261.09, 8235.76, 8227.0, 8273.36, 8264.21, 8250.0, 8250.86, 8235.77, 8232.12, 8232.14, 8252.72, 8370.0, 8395.0, 8374.48, 8331.0, 8319.43, 8323.4, 8314.55, 8330.62, 8314.8, 8323.99, 8263.03, 8247.78, 8253.75, 8237.89, 8235.0, 8279.99, 8290.0, 8278.71, 8275.34, 8279.31, 8279.98, 8294.04, 8356.4, 8374.94, 8354.83, 8360.45, 8337.14, 8351.97, 8377.29, 8549.0, 8531.9, 8551.79, 8529.9, 8590.0, 8576.1, 8549.89, 8531.89, 8550.0, 8493.29, 8522.98, 8517.0, 8537.29, 8524.51, 8589.1, 8589.07, 8536.92, 8524.03, 8497.8, 8498.0, 8513.5, 8510.0, 8494.7, 8427.29, 8419.03, 8415.47, 8389.99, 8397.57, 8455.0, 8429.66, 8412.61, 8424.0, 8417.65, 8369.7, 8326.5, 8336.65, 8333.99, 8314.32, 8355.97, 8333.49, 8325.6, 8296.01, 8264.98, 8271.31, 8200.0, 8232.14, 8246.0, 8248.94, 8259.95, 8242.49, 8232.04, 8230.9, 8205.0, 8118.98, 8103.07, 8040.95, 8032.01, 7960.25, 7920.0, 7960.0, 7960.0, 7935.0, 7960.99, 7951.38, 7888.92, 7870.0, 7909.75, 7882.27, 7949.27, 7944.73, 7916.48], \"low\": [8707.28, 8721.11, 8660.53, 8701.35, 8695.11, 8740.54, 8741.52, 8700.0, 8467.42, 8477.89, 8500.78, 8500.0, 8400.0, 8451.05, 8461.38, 8481.24, 8420.37, 8450.0, 8430.94, 8275.02, 8100.01, 8122.56, 8157.01, 8166.25, 8176.91, 8213.79, 8200.0, 8207.48, 8237.1, 8370.0, 8356.4, 8145.1, 8173.6, 8211.8, 8201.0, 8250.9, 8266.46, 8252.72, 8232.14, 8268.37, 8277.25, 8277.25, 8314.78, 8314.77, 8350.07, 8331.39, 8314.77, 8275.45, 8335.49, 8191.14, 8227.7, 8264.13, 8249.93, 8269.52, 8219.44, 8262.68, 8286.65, 8289.87, 8232.14, 8232.14, 8110.02, 8154.95, 8168.6, 8151.0, 7980.0, 8005.95, 7929.53, 7931.03, 7950.0, 7980.58, 7991.99, 7992.75, 7953.4, 7965.67, 8085.94, 8078.48, 8092.9, 8049.22, 8079.46, 8062.12, 8043.96, 8063.1, 8088.46, 8094.43, 8088.46, 8191.14, 8212.0, 8224.5, 8211.0, 8211.01, 8210.03, 8158.27, 8177.65, 8179.41, 8221.92, 8217.32, 8213.52, 8141.08, 8146.1, 8186.03, 8197.09, 8231.21, 8323.82, 8296.0, 8296.31, 8282.65, 8280.0, 8273.36, 8290.08, 8277.93, 8240.07, 8191.14, 8178.0, 8193.7, 8180.0, 8170.71, 8215.53, 8240.02, 8237.17, 8237.17, 8239.12, 8227.79, 8247.57, 8274.24, 8326.1, 8320.61, 8281.31, 8269.85, 8311.16, 8336.11, 8369.86, 8471.51, 8511.0, 8476.66, 8507.68, 8509.24, 8482.53, 8484.93, 8450.0, 8434.47, 8461.1, 8481.0, 8480.0, 8488.1, 8471.09, 8509.2, 8482.64, 8469.0, 8440.4, 8440.52, 8461.8, 8480.0, 8358.17, 8380.73, 8370.0, 8383.12, 8320.0, 8349.17, 8357.11, 8370.58, 8367.21, 8376.99, 8335.6, 8252.72, 8264.49, 8282.59, 8271.09, 8261.52, 8280.0, 8297.0, 8290.0, 8220.0, 8230.45, 8180.0, 8119.38, 8170.0, 8189.84, 8210.76, 8212.68, 8200.0, 8186.0, 8161.77, 8063.15, 8050.01, 7951.41, 7964.73, 7949.35, 7861.32, 7865.0, 7886.48, 7870.35, 7885.2, 7896.41, 7811.62, 7808.05, 7808.0, 7836.79, 7801.02, 7847.36, 7883.0, 7850.72], \"name\": \"Price\", \"open\": [8733.86, 8740.99, 8739.0, 8728.49, 8708.32, 8795.9, 8760.0, 8760.0, 8759.23, 8517.77, 8520.3, 8535.23, 8546.34, 8526.65, 8555.6, 8512.1, 8492.28, 8460.0, 8474.99, 8455.92, 8326.28, 8133.43, 8164.79, 8229.38, 8220.4, 8238.8, 8232.99, 8207.48, 8243.45, 8371.13, 8373.0, 8365.08, 8179.99, 8225.0, 8285.8, 8273.4, 8297.4, 8279.89, 8252.72, 8302.18, 8295.85, 8277.25, 8346.59, 8358.3, 8375.1, 8368.62, 8366.72, 8314.77, 8363.7, 8344.16, 8247.4, 8277.4, 8291.67, 8307.89, 8298.9, 8269.47, 8300.98, 8318.49, 8306.39, 8276.43, 8257.69, 8166.0, 8176.33, 8200.7, 8155.41, 8080.0, 8067.03, 7958.08, 7974.25, 7998.5, 7991.99, 8022.7, 8042.97, 7965.67, 8088.95, 8122.19, 8107.99, 8137.73, 8115.0, 8107.0, 8094.4, 8080.01, 8117.09, 8126.99, 8110.95, 8215.39, 8231.42, 8240.13, 8235.0, 8219.9, 8248.87, 8213.5, 8200.99, 8200.0, 8237.3, 8228.13, 8240.83, 8214.9, 8170.07, 8229.87, 8205.87, 8252.56, 8365.0, 8348.65, 8303.99, 8310.48, 8310.0, 8289.87, 8304.99, 8301.35, 8313.12, 8240.07, 8199.99, 8226.98, 8231.2, 8198.89, 8215.85, 8279.99, 8255.08, 8270.4, 8244.24, 8239.12, 8267.14, 8282.27, 8350.62, 8336.6, 8336.91, 8311.21, 8312.09, 8345.19, 8377.2, 8481.11, 8516.36, 8524.0, 8517.04, 8558.5, 8521.99, 8484.93, 8518.48, 8488.99, 8466.72, 8492.55, 8494.28, 8510.95, 8498.64, 8551.1, 8524.22, 8510.11, 8475.62, 8476.58, 8467.13, 8499.84, 8490.42, 8407.09, 8409.42, 8400.96, 8383.14, 8350.0, 8373.01, 8412.8, 8385.57, 8408.53, 8391.76, 8367.36, 8280.24, 8297.91, 8333.99, 8285.29, 8280.0, 8317.02, 8320.16, 8295.9, 8245.47, 8264.98, 8200.0, 8170.0, 8217.0, 8231.63, 8232.8, 8225.38, 8200.01, 8219.98, 8187.98, 8100.32, 8076.99, 7964.73, 7984.08, 7949.35, 7900.61, 7895.5, 7960.0, 7900.0, 7921.99, 7943.07, 7856.37, 7848.3, 7852.68, 7847.1, 7849.31, 7911.83, 7901.01], \"showlegend\": false, \"type\": \"candlestick\", \"uid\": \"5d9cbee0-de77-4557-a546-4573fc3c95e9\", \"xaxis\": \"x\", \"yaxis\": \"y\"}, {\"marker\": {\"color\": \"DodgerBlue\"}, \"name\": \"Volume\", \"showlegend\": false, \"type\": \"bar\", \"uid\": \"14a86980-c226-4a52-ae75-2f3d7c02334f\", \"xaxis\": \"x2\", \"y\": [559.93, 273.58, 917.79, 182.62, 1260.69, 324.11, 324.2, 730.67, 1341.75, 792.07, 385.69, 475.08, 877.26, 670.49, 610.97, 168.99, 305.92, 136.05, 154.26, 1070.93, 1710.2, 492.8, 630.72, 620.93, 586.34, 304.52, 450.97, 182.36, 915.32, 319.29, 362.01, 1046.38, 357.91, 561.2, 322.53, 1073.71, 237.21, 251.2, 359.73, 117.23, 363.17, 214.18, 171.64, 258.58, 299.52, 718.98, 119.7, 405.25, 210.77, 714.82, 215.97, 164.2, 201.55, 203.41, 886.82, 95.49, 499.67, 172.77, 355.39, 255.27, 591.06, 133.1, 149.13, 87.55, 1061.54, 286.94, 524.42, 316.0, 441.43, 189.7, 844.94, 155.34, 257.56, 610.69, 217.97, 173.18, 218.06, 372.97, 484.39, 248.1, 162.35, 303.42, 290.69, 160.93, 369.4, 487.27, 93.35, 96.68, 72.14, 90.22, 168.52, 203.15, 71.42, 464.56, 57.0, 89.42, 49.47, 200.05, 254.37, 65.05, 118.19, 452.4, 181.03, 288.04, 145.78, 110.14, 55.48, 80.87, 67.01, 59.16, 121.26, 244.37, 156.87, 80.48, 139.32, 93.52, 200.23, 97.4, 68.08, 47.0, 36.65, 28.75, 182.85, 400.18, 288.1, 182.94, 777.81, 493.59, 118.63, 174.37, 901.75, 222.45, 113.8, 84.2, 261.44, 168.78, 111.07, 122.12, 267.32, 210.39, 211.36, 146.22, 93.39, 89.04, 307.59, 307.2, 164.24, 151.21, 399.77, 362.01, 260.85, 232.32, 1109.45, 348.5, 210.57, 274.92, 277.83, 99.57, 273.12, 129.47, 113.05, 87.6, 159.37, 433.28, 133.29, 200.57, 210.33, 206.4, 357.53, 107.43, 116.54, 479.07, 290.38, 812.96, 1542.87, 430.36, 312.54, 132.75, 333.64, 205.86, 120.33, 263.1, 457.64, 451.55, 962.22, 381.04, 386.95, 905.87, 453.48, 542.31, 476.48, 341.79, 654.23, 769.1, 719.94, 523.05, 409.37, 255.12, 551.86, 340.62, 488.69], \"yaxis\": \"y2\"}, {\"mode\": \"lines\", \"name\": \"bitstamp:/USD-BTC\", \"type\": \"scatter\", \"uid\": \"574af33e-2e53-4600-af77-543cc2191f5e\", \"xaxis\": \"x3\", \"y\": [8740.99, 8739.0, 8728.49, 8708.32, 8795.9, 8760.0, 8760.0, 8759.23, 8517.77, 8520.3, 8535.23, 8546.34, 8526.65, 8555.6, 8512.1, 8492.28, 8460.0, 8474.99, 8455.92, 8326.28, 8133.43, 8164.79, 8229.38, 8220.4, 8238.8, 8232.99, 8207.48, 8243.45, 8371.13, 8373.0, 8365.08, 8179.99, 8225.0, 8285.8, 8273.4, 8297.4, 8279.89, 8252.72, 8302.18, 8295.85, 8277.25, 8346.59, 8358.3, 8375.1, 8368.62, 8366.72, 8314.77, 8363.7, 8344.16, 8247.4, 8277.4, 8291.67, 8307.89, 8298.9, 8269.47, 8300.98, 8318.49, 8306.39, 8276.43, 8257.69, 8166.0, 8176.33, 8200.7, 8155.41, 8080.0, 8067.03, 7958.08, 7974.25, 7998.5, 7991.99, 8022.7, 8042.97, 7965.67, 8088.95, 8122.19, 8107.99, 8137.73, 8115.0, 8107.0, 8094.4, 8080.01, 8117.09, 8126.99, 8110.95, 8215.39, 8231.42, 8240.13, 8235.0, 8219.9, 8248.87, 8213.5, 8200.99, 8200.0, 8237.3, 8228.13, 8240.83, 8214.9, 8170.07, 8229.87, 8205.87, 8252.56, 8365.0, 8348.65, 8303.99, 8310.48, 8310.0, 8289.87, 8304.99, 8301.35, 8313.12, 8240.07, 8199.99, 8226.98, 8231.2, 8198.89, 8215.85, 8279.99, 8255.08, 8270.4, 8244.24, 8239.12, 8267.14, 8282.27, 8350.62, 8336.6, 8336.91, 8311.21, 8312.09, 8345.19, 8377.2, 8481.11, 8516.36, 8524.0, 8517.04, 8558.5, 8521.99, 8484.93, 8518.48, 8488.99, 8466.72, 8492.55, 8494.28, 8510.95, 8498.64, 8551.1, 8524.22, 8510.11, 8475.62, 8476.58, 8467.13, 8499.84, 8490.42, 8407.09, 8409.42, 8400.96, 8383.14, 8350.0, 8373.01, 8412.8, 8385.57, 8408.53, 8391.76, 8367.36, 8280.24, 8297.91, 8333.99, 8285.29, 8280.0, 8317.02, 8320.16, 8295.9, 8245.47, 8264.98, 8200.0, 8170.0, 8217.0, 8231.63, 8232.8, 8225.38, 8200.01, 8219.98, 8187.98, 8100.32, 8076.99, 7964.73, 7984.08, 7949.35, 7900.61, 7895.5, 7960.0, 7900.0, 7921.99, 7943.07, 7856.37, 7848.3, 7852.68, 7847.1, 7849.31, 7911.83, 7901.01, 7887.0], \"yaxis\": \"y3\"}, {\"mode\": \"lines\", \"name\": \"bitstamp:/USD:/free\", \"type\": \"scatter\", \"uid\": \"ff5fe72f-8fec-4094-8d5a-9b1db2e631dc\", \"xaxis\": \"x3\", \"y\": [10000.0, 10000.0, 10000.0, 5000.0, 4000.0, 4000.0, 4000.0, 4000.0, 3200.0, 3200.0, 3200.0, 3200.0, 3200.0, 320.0, 320.0, 320.0, 320.0, 288.0, 288.0, 0.0, 0.0, 5644.96, 6576.93, 6576.93, 6576.93, 6576.93, 6576.93, 6576.93, 6576.93, 2630.77, 0.0, 0.0, 6579.31, 6579.31, 6579.31, 6579.31, 6579.31, 6579.31, 6579.31, 6579.31, 6579.31, 6579.31, 3289.65, 3289.65, 3289.65, 3289.65, 0.0, 0.0, 0.0, 0.0, 0.0, 0.0, 0.0, 0.0, 0.0, 0.0, 0.0, 0.0, 0.0, 0.0, 0.0, 5749.56, 5749.56, 2874.78, 2874.78, 2874.78, 287.48, 287.48, 287.48, 287.48, 287.48, 287.48, 287.48, 287.48, 287.48, 287.48, 287.48, 287.48, 287.48, 287.48, 287.48, 287.48, 258.73, 258.73, 258.73, 258.73, 77.62, 77.62, 77.62, 23.29, 23.29, 0.0, 0.0, 0.0, 0.0, 0.0, 0.0, 0.0, 0.0, 0.0, 0.0, 0.0, 2944.26, 5605.84, 5605.84, 5605.84, 5605.84, 5605.84, 5605.84, 5605.84, 5605.84, 3363.5, 3363.5, 3363.5, 3363.5, 3363.5, 3363.5, 3363.5, 3363.5, 3363.5, 3363.5, 3363.5, 3363.5, 3363.5, 5622.31, 5622.31, 5622.31, 5622.31, 5622.31, 5622.31, 5622.31, 4707.24, 4763.2, 4763.2, 4286.88, 4286.88, 4286.88, 4286.88, 4286.88, 4286.88, 4286.88, 4286.88, 4286.88, 4286.88, 4286.88, 4286.88, 4286.88, 4286.88, 4286.88, 4286.88, 4286.88, 4286.88, 4286.88, 0.0, 0.0, 0.0, 0.0, 0.0, 0.0, 0.0, 0.0, 0.0, 0.0, 0.0, 0.0, 0.0, 0.0, 0.0, 0.0, 0.0, 0.0, 0.0, 0.0, 0.0, 0.0, 454.17, 136.25, 136.25, 136.25, 136.25, 136.25, 136.25, 136.25, 136.25, 27.25, 4064.23, 4064.23, 4094.11, 4094.11, 4094.11, 4094.11, 4094.11, 2865.88, 2579.29, 2881.44, 5948.77, 5948.77, 5948.77, 5948.77, 5948.77, 5948.77], \"yaxis\": \"y3\"}, {\"mode\": \"lines\", \"name\": \"bitstamp:/USD:/locked\", \"type\": \"scatter\", \"uid\": \"b65b6550-ac6d-4f1e-8514-e0d91d4a02fa\", \"xaxis\": \"x3\", \"y\": [0.0, 8714.77, 16556.27, 16556.27, 16556.27, 87589.32, 87589.32, 87589.32, 87589.32, 79747.82, 87544.66, 87544.66, 87544.66, 87544.66, 87544.66, 87544.66, 87544.66, 87544.66, 87544.66, 87544.66, 0.0, 0.0, 8533.24, 37173.72, 42045.02, 46439.0, 50390.8, 53936.4, 57141.42, 57141.42, 57141.42, 62995.58, 65285.43, 67357.64, 74872.73, 86128.49, 86128.49, 86128.49, 86128.49, 86128.49, 86128.49, 86128.49, 86128.49, 86128.49, 78693.53, 78693.53, 78693.53, 78693.53, 78693.53, 78693.53, 78693.53, 78693.53, 78693.53, 78693.53, 78693.53, 78693.53, 78693.53, 78693.53, 78693.53, 78693.53, 78693.53, 78693.53, 78693.53, 78693.53, 78693.53, 67437.77, 67437.77, 78457.27, 78457.27, 78457.27, 78457.27, 78457.27, 78457.27, 78457.27, 78457.27, 67660.42, 67660.42, 67660.42, 67660.42, 67660.42, 67660.42, 67660.42, 67660.42, 67660.42, 67660.42, 67660.42, 67660.42, 67660.42, 67660.42, 67660.42, 67660.42, 67660.42, 67660.42, 67660.42, 67660.42, 67660.42, 67660.42, 67660.42, 67660.42, 67660.42, 67660.42, 67660.42, 67660.42, 67660.42, 67660.42, 67660.42, 67660.42, 67660.42, 67660.42, 67660.42, 67660.42, 67660.42, 67660.42, 67660.42, 67660.42, 67660.42, 67660.42, 67660.42, 67660.42, 67660.42, 67660.42, 67660.42, 67660.42, 67660.42, 67660.42, 67660.42, 67660.42, 67660.42, 67660.42, 67660.42, 67660.42, 34245.69, 17411.46, 11594.85, 8178.12, 8178.12, 8178.12, 8178.12, 8178.12, 8178.12, 8178.12, 8178.12, 8178.12, 8178.12, 8178.12, 8178.12, 8178.12, 8178.12, 8178.12, 8178.12, 8178.12, 8178.12, 8178.12, 8178.12, 8178.12, 8178.12, 8178.12, 8178.12, 8178.12, 8178.12, 8178.12, 8178.12, 8178.12, 8178.12, 8178.12, 8178.12, 8178.12, 8178.12, 8178.12, 8178.12, 8178.12, 8178.12, 8178.12, 8178.12, 8178.12, 8178.12, 8178.12, 8178.12, 8178.12, 8178.12, 8178.12, 8178.12, 8178.12, 8178.12, 8178.12, 8178.12, 8178.12, 8178.12, 8178.12, 8178.12, 8178.12, 8178.12, 8178.12, 8178.12, 2323.96, 2905.27, 3428.74, 3899.53, 4323.36, 4707.85, 5053.41], \"yaxis\": \"y3\"}, {\"mode\": \"lines\", \"name\": \"bitstamp:/USD:/total\", \"type\": \"scatter\", \"uid\": \"0fb84544-fd88-49af-9140-fc69fc077cb0\", \"xaxis\": \"x3\", \"y\": [10000.0, 18714.77, 26556.27, 21556.27, 20556.27, 91589.32, 91589.32, 91589.32, 90789.32, 82947.82, 90744.66, 90744.66, 90744.66, 87864.66, 87864.66, 87864.66, 87864.66, 87832.66, 87832.66, 87544.66, 0.0, 5644.96, 15110.17, 43750.65, 48621.95, 53015.93, 56967.73, 60513.33, 63718.35, 59772.19, 57141.42, 62995.58, 71864.74, 73936.95, 81452.04, 92707.8, 92707.8, 92707.8, 92707.8, 92707.8, 92707.8, 92707.8, 89418.14, 89418.14, 81983.18, 81983.18, 78693.53, 78693.53, 78693.53, 78693.53, 78693.53, 78693.53, 78693.53, 78693.53, 78693.53, 78693.53, 78693.53, 78693.53, 78693.53, 78693.53, 78693.53, 84443.09, 84443.09, 81568.31, 81568.31, 70312.55, 67725.25, 78744.75, 78744.75, 78744.75, 78744.75, 78744.75, 78744.75, 78744.75, 78744.75, 67947.9, 67947.9, 67947.9, 67947.9, 67947.9, 67947.9, 67947.9, 67919.15, 67919.15, 67919.15, 67919.15, 67738.04, 67738.04, 67738.04, 67683.71, 67683.71, 67660.42, 67660.42, 67660.42, 67660.42, 67660.42, 67660.42, 67660.42, 67660.42, 67660.42, 67660.42, 67660.42, 70604.68, 73266.26, 73266.26, 73266.26, 73266.26, 73266.26, 73266.26, 73266.26, 73266.26, 71023.92, 71023.92, 71023.92, 71023.92, 71023.92, 71023.92, 71023.92, 71023.92, 71023.92, 71023.92, 71023.92, 71023.92, 71023.92, 73282.73, 73282.73, 73282.73, 73282.73, 73282.73, 73282.73, 73282.73, 38952.93, 22174.66, 16358.05, 12465.0, 12465.0, 12465.0, 12465.0, 12465.0, 12465.0, 12465.0, 12465.0, 12465.0, 12465.0, 12465.0, 12465.0, 12465.0, 12465.0, 12465.0, 12465.0, 12465.0, 12465.0, 12465.0, 8178.12, 8178.12, 8178.12, 8178.12, 8178.12, 8178.12, 8178.12, 8178.12, 8178.12, 8178.12, 8178.12, 8178.12, 8178.12, 8178.12, 8178.12, 8178.12, 8178.12, 8178.12, 8178.12, 8178.12, 8178.12, 8178.12, 8632.29, 8314.37, 8314.37, 8314.37, 8314.37, 8314.37, 8314.37, 8314.37, 8314.37, 8205.37, 12242.35, 12242.35, 12272.23, 12272.23, 12272.23, 12272.23, 12272.23, 11044.0, 10757.41, 5205.4, 8854.04, 9377.51, 9848.3, 10272.13, 10656.62, 11002.18], \"yaxis\": \"y3\"}, {\"mode\": \"lines\", \"name\": \"bitstamp:/BTC:/free\", \"type\": \"scatter\", \"uid\": \"1a8e0fb8-1bbf-4b27-8697-5e130693893c\", \"xaxis\": \"x3\", \"y\": [10.0, 9.0, 8.1, 8.1, 8.1, 0.0, 0.0, 0.0, 0.0, 0.91784352, 0.0, 0.0, 0.0, 0.0, 0.0, 0.0, 0.0, 0.0, 0.0, 0.0, 10.48271616, 9.43444454, 8.49100009, 5.94370006, 5.34933005, 4.81439705, 4.33295734, 3.89966161, 3.50969545, 3.50969545, 3.50969545, 2.80775636, 2.52698072, 2.27428265, 1.36456959, 0.0, 0.0, 0.0, 0.0, 0.0, 0.0, 0.0, 0.0, 0.0, 0.0, 0.0, 0.0, 0.0, 0.0, 0.0, 0.0, 0.0, 0.0, 0.0, 0.0, 0.0, 0.0, 0.0, 0.0, 0.0, 0.0, 0.0, 0.0, 0.0, 0.0, 1.38886015, 1.38886015, 0.0, 0.0, 0.0, 0.0, 0.0, 0.0, 0.0, 0.0, 0.0, 0.0, 0.0, 0.0, 0.0, 0.0, 0.0, 0.0, 0.0, 0.0, 0.0, 0.0, 0.0, 0.0, 0.0, 0.0, 0.0, 0.0, 0.0, 0.0, 0.0, 0.0, 0.0, 0.0, 0.0, 0.0, 0.0, 0.0, 0.0, 0.0, 0.0, 0.0, 0.0, 0.0, 0.0, 0.0, 0.0, 0.0, 0.0, 0.0, 0.0, 0.0, 0.0, 0.0, 0.0, 0.0, 0.0, 0.0, 0.0, 0.0, 0.0, 0.0, 0.0, 0.0, 0.0, 0.0, 0.0, 0.0, 0.0, 0.0, 0.0, 0.0, 0.0, 0.0, 0.0, 0.0, 0.0, 0.0, 0.0, 0.0, 0.0, 0.0, 0.0, 0.0, 0.0, 0.0, 0.0, 0.0, 0.0, 0.0, 0.0, 0.0, 0.0, 0.0, 0.0, 0.0, 0.0, 0.0, 0.0, 0.0, 0.0, 0.0, 0.0, 0.0, 0.0, 0.0, 0.0, 0.0, 0.0, 0.0, 0.0, 0.0, 0.0, 0.0, 0.0, 0.0, 0.0, 0.0, 0.0, 0.0, 0.0, 0.0, 0.0, 0.0, 0.0, 0.0, 0.0, 0.0, 0.0, 0.74291308, 0.66862177, 0.60175959, 0.54158363, 0.48742527, 0.43868274, 0.39481447], \"yaxis\": \"y3\"}, {\"mode\": \"lines\", \"name\": \"bitstamp:/BTC:/locked\", \"type\": \"scatter\", \"uid\": \"a0ffd6f4-bd1f-401d-ad90-0c192ed97e4c\", \"xaxis\": \"x3\", \"y\": [0.0, 0.0, 0.0, 0.57111826, 0.68560647, 0.68560647, 0.68560647, 0.68560647, 0.7766647, 0.7766647, 0.7766647, 0.7766647, 0.7766647, 1.11341594, 1.11341594, 1.11341594, 1.11341594, 1.11718663, 1.11718663, 1.1511439, 1.1511439, 1.50328176, 1.28396638, 0.34052193, 0.34052193, 0.34052193, 0.34052193, 0.34052193, 0.34052193, 0.81050866, 1.12376317, 1.12376317, 0.3170252, 0.3170252, 0.3170252, 0.3170252, 0.3170252, 0.3170252, 0.3170252, 0.3170252, 0.3170252, 0.3170252, 0.7099749, 0.7099749, 1.59505806, 1.59505806, 1.98706114, 1.98706114, 1.98706114, 1.98706114, 1.98706114, 1.98706114, 1.98706114, 1.98706114, 1.98706114, 1.98706114, 1.98706114, 1.98706114, 1.98706114, 1.98706114, 1.98706114, 1.28085693, 1.28085693, 1.6303588, 1.6303588, 1.6303588, 1.95012208, 1.95012208, 1.95012208, 1.95012208, 1.95012208, 1.95012208, 1.95012208, 1.95012208, 1.95012208, 3.27543705, 3.27543705, 3.27543705, 3.27543705, 3.27543705, 3.27543705, 3.27543705, 3.27896787, 3.27896787, 3.27896787, 3.27896787, 3.30090455, 3.30090455, 3.30090455, 3.30749465, 3.30749465, 3.3103217, 3.3103217, 3.3103217, 3.3103217, 3.3103217, 3.3103217, 3.3103217, 3.3103217, 3.3103217, 3.3103217, 3.3103217, 2.95728901, 2.63752573, 2.63752573, 2.63752573, 2.63752573, 2.63752573, 2.63752573, 2.63752573, 2.63752573, 2.90883532, 2.90883532, 2.90883532, 2.90883532, 2.90883532, 2.90883532, 2.90883532, 2.90883532, 2.90883532, 2.90883532, 2.90883532, 2.90883532, 2.90883532, 2.63752573, 2.63752573, 2.63752573, 2.63752573, 2.63752573, 2.63752573, 2.63752573, 6.67302887, 8.6372021, 9.31753527, 9.77325345, 9.77325345, 9.77325345, 9.77325345, 9.77325345, 9.77325345, 9.77325345, 9.77325345, 9.77325345, 9.77325345, 9.77325345, 9.77325345, 9.77325345, 9.77325345, 9.77325345, 9.77325345, 9.77325345, 9.77325345, 9.77325345, 10.28163626, 10.28163626, 10.28163626, 10.28163626, 10.28163626, 10.28163626, 10.28163626, 10.28163626, 10.28163626, 10.28163626, 10.28163626, 10.28163626, 10.28163626, 10.28163626, 10.28163626, 10.28163626, 10.28163626, 10.28163626, 10.28163626, 10.28163626, 10.28163626, 10.28163626, 10.22587863, 10.26445354, 10.26445354, 10.26445354, 10.26445354, 10.26445354, 10.26445354, 10.26445354, 10.26445354, 10.27790781, 9.769525, 9.769525, 9.76575431, 9.76575431, 9.76575431, 9.76575431, 9.76575431, 9.92033037, 9.95630261, 9.9177277, 9.52572462, 9.52572462, 9.52572462, 9.52572462, 9.52572462, 9.52572462], \"yaxis\": \"y3\"}, {\"mode\": \"lines\", \"name\": \"bitstamp:/BTC:/total\", \"type\": \"scatter\", \"uid\": \"075f3401-b1c4-4304-8095-019669793920\", \"xaxis\": \"x3\", \"y\": [10.0, 9.0, 8.1, 8.67111826, 8.78560647, 0.68560647, 0.68560647, 0.68560647, 0.7766647, 1.69450822, 0.7766647, 0.7766647, 0.7766647, 1.11341594, 1.11341594, 1.11341594, 1.11341594, 1.11718663, 1.11718663, 1.1511439, 11.63386006, 10.9377263, 9.77496647, 6.28422199, 5.68985198, 5.15491898, 4.67347927, 4.24018354, 3.85021738, 4.32020411, 4.63345862, 3.93151953, 2.84400592, 2.59130785, 1.68159479, 0.3170252, 0.3170252, 0.3170252, 0.3170252, 0.3170252, 0.3170252, 0.3170252, 0.7099749, 0.7099749, 1.59505806, 1.59505806, 1.98706114, 1.98706114, 1.98706114, 1.98706114, 1.98706114, 1.98706114, 1.98706114, 1.98706114, 1.98706114, 1.98706114, 1.98706114, 1.98706114, 1.98706114, 1.98706114, 1.98706114, 1.28085693, 1.28085693, 1.6303588, 1.6303588, 3.01921895, 3.33898223, 1.95012208, 1.95012208, 1.95012208, 1.95012208, 1.95012208, 1.95012208, 1.95012208, 1.95012208, 3.27543705, 3.27543705, 3.27543705, 3.27543705, 3.27543705, 3.27543705, 3.27543705, 3.27896787, 3.27896787, 3.27896787, 3.27896787, 3.30090455, 3.30090455, 3.30090455, 3.30749465, 3.30749465, 3.3103217, 3.3103217, 3.3103217, 3.3103217, 3.3103217, 3.3103217, 3.3103217, 3.3103217, 3.3103217, 3.3103217, 3.3103217, 2.95728901, 2.63752573, 2.63752573, 2.63752573, 2.63752573, 2.63752573, 2.63752573, 2.63752573, 2.63752573, 2.90883532, 2.90883532, 2.90883532, 2.90883532, 2.90883532, 2.90883532, 2.90883532, 2.90883532, 2.90883532, 2.90883532, 2.90883532, 2.90883532, 2.90883532, 2.63752573, 2.63752573, 2.63752573, 2.63752573, 2.63752573, 2.63752573, 2.63752573, 6.67302887, 8.6372021, 9.31753527, 9.77325345, 9.77325345, 9.77325345, 9.77325345, 9.77325345, 9.77325345, 9.77325345, 9.77325345, 9.77325345, 9.77325345, 9.77325345, 9.77325345, 9.77325345, 9.77325345, 9.77325345, 9.77325345, 9.77325345, 9.77325345, 9.77325345, 10.28163626, 10.28163626, 10.28163626, 10.28163626, 10.28163626, 10.28163626, 10.28163626, 10.28163626, 10.28163626, 10.28163626, 10.28163626, 10.28163626, 10.28163626, 10.28163626, 10.28163626, 10.28163626, 10.28163626, 10.28163626, 10.28163626, 10.28163626, 10.28163626, 10.28163626, 10.22587863, 10.26445354, 10.26445354, 10.26445354, 10.26445354, 10.26445354, 10.26445354, 10.26445354, 10.26445354, 10.27790781, 9.769525, 9.769525, 9.76575431, 9.76575431, 9.76575431, 9.76575431, 9.76575431, 9.92033037, 9.95630261, 10.66064078, 10.19434639, 10.12748421, 10.06730825, 10.01314989, 9.96440736, 9.92053909], \"yaxis\": \"y3\"}, {\"mode\": \"lines\", \"name\": \"bitstamp:/BTC:/worth\", \"type\": \"scatter\", \"uid\": \"bcac39b0-0c7a-4c53-83ec-a9a65f0688f9\", \"xaxis\": \"x3\", \"y\": [87409.9, 78651.0, 70700.769, 75510.8725659232, 77277.31594947299, 6005.9126772, 6005.9126772, 6005.3847602180995, 6615.451281719, 14437.718386865998, 6629.011847381, 6637.640592198, 6622.348064254999, 9525.941416264, 9477.507822874002, 9455.439918943202, 9419.4988524, 9468.1455173837, 9446.840768349599, 9584.746431692001, 94623.1864278058, 89304.23831697699, 80441.9135688886, 51658.81844659599, 46877.552492824, 42440.3964131502, 38357.487638939594, 34953.741002813, 32230.6702162394, 36173.06901303, 38759.2520329896, 32159.7904402047, 23391.948691999998, 21471.05858353, 13912.506335585998, 2630.48489448, 2624.933783228, 2616.320208544, 2632.000274936, 2629.99350542, 2624.0968367, 2646.079364068, 5934.183206669999, 5946.11078499, 13348.4347820772, 13345.404171763199, 16521.9563550378, 16619.183256618002, 16580.3560819424, 16388.088046036, 16447.699880236, 16476.055242703802, 16508.2853743946, 16490.421694746, 16431.942485395797, 16494.5547819172, 16529.3482224786, 16505.304782684598, 16445.7724309302, 16408.5349051666, 16226.34126924, 10472.7089424669, 10503.923425851, 13296.244461107999, 13173.299104, 24356.1298462185, 26571.8877049184, 15550.76099644, 15598.05145688, 15585.3561621392, 15645.244411216001, 15684.773385777602, 15534.0289489936, 15774.439999016, 15839.2620569552, 26557.2108470295, 26654.622344896496, 26580.17166075, 26553.968164349997, 26512.69765752, 26465.5641183705, 26587.0173241845, 26648.1390898113, 26595.544445176496, 26937.999849519296, 26990.5617044754, 27199.882609591496, 27182.94896925, 27133.105310544997, 27283.093393545503, 27166.107307775, 27147.915158482996, 27144.637939999997, 27268.112939409995, 27237.757289420995, 27279.798375011, 27193.961733329998, 27045.560011519, 27243.517249179, 27164.069528379, 27318.628448551997, 27690.8410205, 24689.3708933365, 21901.9872866627, 21919.1048286504, 21917.8388163, 21864.745423355103, 21904.6248123927, 21895.024218735503, 21926.067896577602, 21733.396642001102, 23852.4205356468, 23930.9300009336, 23943.205285984004, 23849.220816794797, 23898.554663822, 24085.1273612468, 24012.6682734256, 24057.231630528, 23981.1364985568, 23966.243261718402, 24047.7488273848, 24091.7595057764, 24290.578399898404, 21987.997000718, 21988.8146336943, 21921.0302224333, 21923.3512450757, 22010.6533467387, 22095.080545356002, 22369.1458439603, 56829.9161473132, 73623.5107004, 79357.8205960008, 83644.389651825, 83287.5681683655, 82925.37139550851, 83253.264048756, 82965.0508045155, 82747.400450184, 82999.84358679749, 83016.75131526601, 83179.67145027751, 83059.362700308, 83572.06757629501, 83309.362523559, 83171.4619173795, 82834.38240588902, 82843.76472920101, 82751.4074840985, 83071.090604448, 82979.026556949, 82164.6213469605, 86462.59759756921, 86375.6149548096, 86192.3961966564, 85851.662771, 86088.24322134261, 86497.349528128, 86217.3805727682, 86453.4469412978, 86281.0239012176, 86030.15197647361, 85134.41582550241, 85316.09233821661, 85687.0537744774, 85186.33808861542, 85131.9482328, 85512.5744071452, 85544.8587450016, 85295.426249334, 84776.9233327422, 84977.5180561748, 84309.41733200001, 84000.9682442, 84026.04470271, 84493.18369347019, 84505.193104112, 84429.03085884519, 84168.6216725354, 84373.6028097292, 84045.1402964492, 83145.3582991328, 82905.88859804459, 81860.7606715413, 78000.66916199999, 77661.37355875, 77155.4161591291, 77105.513154605, 77735.4043076, 77149.459049, 77364.2079862769, 78797.8785520359, 78220.3971361257, 83667.907033674, 80052.94000982521, 79471.381344291, 79021.42331980751, 79222.3396941987, 78728.8821954336, 78243.29180283], \"yaxis\": \"y3\"}, {\"mode\": \"lines\", \"name\": \"net_worth\", \"type\": \"scatter\", \"uid\": \"3740a7ea-6a47-479f-80bb-1b8efa8d6c51\", \"xaxis\": \"x3\", \"y\": [97409.9, 97365.77, 97257.039, 97067.1425659232, 97833.585949473, 97595.23267720001, 97595.23267720001, 97594.70476021811, 97404.771281719, 97385.538386866, 97373.671847381, 97382.30059219801, 97367.008064255, 97390.601416264, 97342.167822874, 97320.0999189432, 97284.1588524, 97300.8055173837, 97279.50076834961, 97129.40643169201, 94623.1864278058, 94949.198316977, 95552.0835688886, 95409.468446596, 95499.50249282399, 95456.32641315021, 95325.21763893959, 95467.071002813, 95949.0202162394, 95945.25901303001, 95900.67203298959, 95155.3704402047, 95256.688692, 95408.00858353, 95364.546335586, 95338.28489448, 95332.733783228, 95324.120208544, 95339.800274936, 95337.79350542, 95331.8968367, 95353.87936406801, 95352.32320667, 95364.25078499, 95331.61478207719, 95328.58417176318, 95215.4863550378, 95312.71325661801, 95273.8860819424, 95081.61804603599, 95141.229880236, 95169.5852427038, 95201.8153743946, 95183.951694746, 95125.47248539579, 95188.08478191719, 95222.8782224786, 95198.8347826846, 95139.3024309302, 95102.0649051666, 94919.87126924, 94915.79894246689, 94947.013425851, 94864.554461108, 94741.609104, 94668.6798462185, 94297.1377049184, 94295.51099644, 94342.80145688, 94330.1061621392, 94389.994411216, 94429.5233857776, 94278.7789489936, 94519.189999016, 94584.0120569552, 94505.11084702949, 94602.52234489648, 94528.07166074999, 94501.86816434999, 94460.59765751999, 94413.4641183705, 94534.9173241845, 94567.2890898113, 94514.69444517649, 94857.1498495193, 94909.7117044754, 94937.9226095915, 94920.98896925, 94871.14531054499, 94966.8033935455, 94849.81730777501, 94808.335158483, 94805.05794, 94928.53293941, 94898.177289421, 94940.218375011, 94854.38173333, 94705.980011519, 94903.937249179, 94824.489528379, 94979.048448552, 95351.2610205, 95294.05089333649, 95168.24728666269, 95185.3648286504, 95184.0988163, 95131.00542335509, 95170.8848123927, 95161.2842187355, 95192.3278965776, 94999.6566420011, 94876.3405356468, 94954.8500009336, 94967.125285984, 94873.1408167948, 94922.474663822, 95109.0473612468, 95036.5882734256, 95081.151630528, 95005.0564985568, 94990.16326171841, 95071.6688273848, 95115.6795057764, 95314.49839989841, 95270.727000718, 95271.5446336943, 95203.7602224333, 95206.0812450757, 95293.3833467387, 95377.810545356, 95651.8758439603, 95782.84614731319, 95798.1707004, 95715.87059600081, 96109.389651825, 95752.5681683655, 95390.37139550851, 95718.264048756, 95430.0508045155, 95212.400450184, 95464.84358679749, 95481.75131526601, 95644.67145027751, 95524.362700308, 96037.06757629501, 95774.362523559, 95636.4619173795, 95299.38240588902, 95308.76472920101, 95216.4074840985, 95536.090604448, 95444.026556949, 94629.6213469605, 94640.71759756921, 94553.7349548096, 94370.51619665639, 94029.782771, 94266.3632213426, 94675.469528128, 94395.5005727682, 94631.5669412978, 94459.1439012176, 94208.27197647361, 93312.5358255024, 93494.2123382166, 93865.1737744774, 93364.45808861541, 93310.0682328, 93690.6944071452, 93722.9787450016, 93473.546249334, 92955.04333274219, 93155.6380561748, 92487.537332, 92179.0882442, 92658.33470271001, 92807.55369347018, 92819.56310411199, 92743.40085884518, 92482.9916725354, 92687.9728097292, 92359.5102964492, 91459.7282991328, 91220.25859804459, 90066.1306715413, 90243.019162, 89903.72355875, 89427.6461591291, 89377.74315460499, 90007.63430759999, 89421.689049, 89636.4379862769, 89841.8785520359, 88977.8071361257, 88873.30703367399, 88906.9800098252, 88848.891344291, 88869.72331980751, 89494.4696941987, 89385.5021954336, 89245.47180283], \"yaxis\": \"y3\"}, {\"marker\": {\"color\": \"DarkGreen\"}, \"mode\": \"lines\", \"name\": \"Net Worth\", \"type\": \"scatter\", \"uid\": \"603f0991-97d2-427c-afd5-1ceb071c6a05\", \"xaxis\": \"x4\", \"y\": [97409.9, 97365.77, 97257.039, 97067.1425659232, 97833.585949473, 97595.23267720001, 97595.23267720001, 97594.70476021811, 97404.771281719, 97385.538386866, 97373.671847381, 97382.30059219801, 97367.008064255, 97390.601416264, 97342.167822874, 97320.0999189432, 97284.1588524, 97300.8055173837, 97279.50076834961, 97129.40643169201, 94623.1864278058, 94949.198316977, 95552.0835688886, 95409.468446596, 95499.50249282399, 95456.32641315021, 95325.21763893959, 95467.071002813, 95949.0202162394, 95945.25901303001, 95900.67203298959, 95155.3704402047, 95256.688692, 95408.00858353, 95364.546335586, 95338.28489448, 95332.733783228, 95324.120208544, 95339.800274936, 95337.79350542, 95331.8968367, 95353.87936406801, 95352.32320667, 95364.25078499, 95331.61478207719, 95328.58417176318, 95215.4863550378, 95312.71325661801, 95273.8860819424, 95081.61804603599, 95141.229880236, 95169.5852427038, 95201.8153743946, 95183.951694746, 95125.47248539579, 95188.08478191719, 95222.8782224786, 95198.8347826846, 95139.3024309302, 95102.0649051666, 94919.87126924, 94915.79894246689, 94947.013425851, 94864.554461108, 94741.609104, 94668.6798462185, 94297.1377049184, 94295.51099644, 94342.80145688, 94330.1061621392, 94389.994411216, 94429.5233857776, 94278.7789489936, 94519.189999016, 94584.0120569552, 94505.11084702949, 94602.52234489648, 94528.07166074999, 94501.86816434999, 94460.59765751999, 94413.4641183705, 94534.9173241845, 94567.2890898113, 94514.69444517649, 94857.1498495193, 94909.7117044754, 94937.9226095915, 94920.98896925, 94871.14531054499, 94966.8033935455, 94849.81730777501, 94808.335158483, 94805.05794, 94928.53293941, 94898.177289421, 94940.218375011, 94854.38173333, 94705.980011519, 94903.937249179, 94824.489528379, 94979.048448552, 95351.2610205, 95294.05089333649, 95168.24728666269, 95185.3648286504, 95184.0988163, 95131.00542335509, 95170.8848123927, 95161.2842187355, 95192.3278965776, 94999.6566420011, 94876.3405356468, 94954.8500009336, 94967.125285984, 94873.1408167948, 94922.474663822, 95109.0473612468, 95036.5882734256, 95081.151630528, 95005.0564985568, 94990.16326171841, 95071.6688273848, 95115.6795057764, 95314.49839989841, 95270.727000718, 95271.5446336943, 95203.7602224333, 95206.0812450757, 95293.3833467387, 95377.810545356, 95651.8758439603, 95782.84614731319, 95798.1707004, 95715.87059600081, 96109.389651825, 95752.5681683655, 95390.37139550851, 95718.264048756, 95430.0508045155, 95212.400450184, 95464.84358679749, 95481.75131526601, 95644.67145027751, 95524.362700308, 96037.06757629501, 95774.362523559, 95636.4619173795, 95299.38240588902, 95308.76472920101, 95216.4074840985, 95536.090604448, 95444.026556949, 94629.6213469605, 94640.71759756921, 94553.7349548096, 94370.51619665639, 94029.782771, 94266.3632213426, 94675.469528128, 94395.5005727682, 94631.5669412978, 94459.1439012176, 94208.27197647361, 93312.5358255024, 93494.2123382166, 93865.1737744774, 93364.45808861541, 93310.0682328, 93690.6944071452, 93722.9787450016, 93473.546249334, 92955.04333274219, 93155.6380561748, 92487.537332, 92179.0882442, 92658.33470271001, 92807.55369347018, 92819.56310411199, 92743.40085884518, 92482.9916725354, 92687.9728097292, 92359.5102964492, 91459.7282991328, 91220.25859804459, 90066.1306715413, 90243.019162, 89903.72355875, 89427.6461591291, 89377.74315460499, 90007.63430759999, 89421.689049, 89636.4379862769, 89841.8785520359, 88977.8071361257, 88873.30703367399, 88906.9800098252, 88848.891344291, 88869.72331980751, 89494.4696941987, 89385.5021954336, 89245.47180283], \"yaxis\": \"y4\"}],                        {\"annotations\": [{\"arrowcolor\": \"DarkGreen\", \"arrowhead\": 2, \"arrowsize\": 0.8, \"arrowwidth\": 4, \"ax\": 0, \"ay\": 15, \"hoverlabel\": {\"bgcolor\": \"DarkGreen\"}, \"hovertext\": \"Step 46 [2018-05-17 03:00:00]<br>BUY 0.39200308 BTC @ 8366.72 USD MARKET<br>Total: 3279.78 USD - Comm.: 9.87 USD\", \"opacity\": 0.6, \"showarrow\": true, \"x\": 45, \"xref\": \"x\", \"y\": 8366.72, \"yref\": \"y\"}, {\"arrowcolor\": \"DarkGreen\", \"arrowhead\": 2, \"arrowsize\": 0.8, \"arrowwidth\": 4, \"ax\": 0, \"ay\": 15, \"hoverlabel\": {\"bgcolor\": \"DarkGreen\"}, \"hovertext\": \"Step 44 [2018-05-17 01:00:00]<br>BUY 0.88508316 BTC @ 8375.1 USD MARKET<br>Total: 7412.66 USD - Comm.: 22.30 USD\", \"opacity\": 0.6, \"showarrow\": true, \"x\": 43, \"xref\": \"x\", \"y\": 8375.1, \"yref\": \"y\"}, {\"arrowcolor\": \"DarkGreen\", \"arrowhead\": 2, \"arrowsize\": 0.8, \"arrowwidth\": 4, \"ax\": 0, \"ay\": 15, \"hoverlabel\": {\"bgcolor\": \"DarkGreen\"}, \"hovertext\": \"Step 42 [2018-05-16 23:00:00]<br>BUY 0.3929497 BTC @ 8346.59 USD MARKET<br>Total: 3279.79 USD - Comm.: 9.87 USD\", \"opacity\": 0.6, \"showarrow\": true, \"x\": 41, \"xref\": \"x\", \"y\": 8346.59, \"yref\": \"y\"}, {\"arrowcolor\": \"FireBrick\", \"arrowhead\": 2, \"arrowsize\": 0.8, \"arrowwidth\": 4, \"ax\": 0, \"ay\": -15, \"hoverlabel\": {\"bgcolor\": \"FireBrick\"}, \"hovertext\": \"Step 35 [2018-05-16 16:00:00]<br>SELL 1.36047588 BTC @ 8273.4 USD MARKET<br>Total: 11255.76 USD - Comm.: 0.00409371 BTC\", \"opacity\": 0.6, \"showarrow\": true, \"x\": 34, \"xref\": \"x\", \"y\": 8273.4, \"yref\": \"y\"}, {\"arrowcolor\": \"FireBrick\", \"arrowhead\": 2, \"arrowsize\": 0.8, \"arrowwidth\": 4, \"ax\": 0, \"ay\": -15, \"hoverlabel\": {\"bgcolor\": \"FireBrick\"}, \"hovertext\": \"Step 34 [2018-05-16 15:00:00]<br>SELL 0.90698392 BTC @ 8285.8 USD MARKET<br>Total: 7515.09 USD - Comm.: 0.00272914 BTC\", \"opacity\": 0.6, \"showarrow\": true, \"x\": 33, \"xref\": \"x\", \"y\": 8285.8, \"yref\": \"y\"}, {\"arrowcolor\": \"FireBrick\", \"arrowhead\": 2, \"arrowsize\": 0.8, \"arrowwidth\": 4, \"ax\": 0, \"ay\": -15, \"hoverlabel\": {\"bgcolor\": \"FireBrick\"}, \"hovertext\": \"Step 33 [2018-05-16 14:00:00]<br>SELL 0.25193998 BTC @ 8225.0 USD MARKET<br>Total: 2072.21 USD - Comm.: 0.00075809 BTC\", \"opacity\": 0.6, \"showarrow\": true, \"x\": 32, \"xref\": \"x\", \"y\": 8225.0, \"yref\": \"y\"}, {\"arrowcolor\": \"FireBrick\", \"arrowhead\": 2, \"arrowsize\": 0.8, \"arrowwidth\": 4, \"ax\": 0, \"ay\": -15, \"hoverlabel\": {\"bgcolor\": \"FireBrick\"}, \"hovertext\": \"Step 32 [2018-05-16 13:00:00]<br>SELL 0.27993331 BTC @ 8179.99 USD MARKET<br>Total: 2289.85 USD - Comm.: 0.00084233 BTC\", \"opacity\": 0.6, \"showarrow\": true, \"x\": 31, \"xref\": \"x\", \"y\": 8179.99, \"yref\": \"y\"}, {\"arrowcolor\": \"FireBrick\", \"arrowhead\": 2, \"arrowsize\": 0.8, \"arrowwidth\": 4, \"ax\": 0, \"ay\": -15, \"hoverlabel\": {\"bgcolor\": \"FireBrick\"}, \"hovertext\": \"Step 32 [2018-05-16 13:00:00]<br>SELL 0.46857677 BTC @ 8179.99 USD MARKET<br>Total: 3832.95 USD - Comm.: 0.00140996 BTC\", \"opacity\": 0.6, \"showarrow\": true, \"x\": 31, \"xref\": \"x\", \"y\": 8179.99, \"yref\": \"y\"}, {\"arrowcolor\": \"FireBrick\", \"arrowhead\": 2, \"arrowsize\": 0.8, \"arrowwidth\": 4, \"ax\": 0, \"ay\": -15, \"hoverlabel\": {\"bgcolor\": \"FireBrick\"}, \"hovertext\": \"Step 32 [2018-05-16 13:00:00]<br>SELL 0.33574099 BTC @ 8179.99 USD MARKET<br>Total: 2746.36 USD - Comm.: 0.00101025 BTC\", \"opacity\": 0.6, \"showarrow\": true, \"x\": 31, \"xref\": \"x\", \"y\": 8179.99, \"yref\": \"y\"}, {\"arrowcolor\": \"FireBrick\", \"arrowhead\": 2, \"arrowsize\": 0.8, \"arrowwidth\": 4, \"ax\": 0, \"ay\": -15, \"hoverlabel\": {\"bgcolor\": \"FireBrick\"}, \"hovertext\": \"Step 31 [2018-05-16 12:00:00]<br>SELL 0.69983327 BTC @ 8365.08 USD MARKET<br>Total: 5854.16 USD - Comm.: 0.00210582 BTC\", \"opacity\": 0.6, \"showarrow\": true, \"x\": 30, \"xref\": \"x\", \"y\": 8365.08, \"yref\": \"y\"}, {\"arrowcolor\": \"DarkGreen\", \"arrowhead\": 2, \"arrowsize\": 0.8, \"arrowwidth\": 4, \"ax\": 0, \"ay\": 15, \"hoverlabel\": {\"bgcolor\": \"DarkGreen\"}, \"hovertext\": \"Step 30 [2018-05-16 11:00:00]<br>BUY 0.31325451 BTC @ 8373.0 USD MARKET<br>Total: 2622.88 USD - Comm.: 7.89 USD\", \"opacity\": 0.6, \"showarrow\": true, \"x\": 29, \"xref\": \"x\", \"y\": 8373.0, \"yref\": \"y\"}, {\"arrowcolor\": \"DarkGreen\", \"arrowhead\": 2, \"arrowsize\": 0.8, \"arrowwidth\": 4, \"ax\": 0, \"ay\": 15, \"hoverlabel\": {\"bgcolor\": \"DarkGreen\"}, \"hovertext\": \"Step 29 [2018-05-16 10:00:00]<br>BUY 0.46998673 BTC @ 8371.13 USD MARKET<br>Total: 3934.32 USD - Comm.: 11.84 USD\", \"opacity\": 0.6, \"showarrow\": true, \"x\": 28, \"xref\": \"x\", \"y\": 8371.13, \"yref\": \"y\"}, {\"arrowcolor\": \"FireBrick\", \"arrowhead\": 2, \"arrowsize\": 0.8, \"arrowwidth\": 4, \"ax\": 0, \"ay\": -15, \"hoverlabel\": {\"bgcolor\": \"FireBrick\"}, \"hovertext\": \"Step 28 [2018-05-16 09:00:00]<br>SELL 0.38879626 BTC @ 8243.45 USD MARKET<br>Total: 3205.02 USD - Comm.: 0.00116990 BTC\", \"opacity\": 0.6, \"showarrow\": true, \"x\": 27, \"xref\": \"x\", \"y\": 8243.45, \"yref\": \"y\"}, {\"arrowcolor\": \"FireBrick\", \"arrowhead\": 2, \"arrowsize\": 0.8, \"arrowwidth\": 4, \"ax\": 0, \"ay\": -15, \"hoverlabel\": {\"bgcolor\": \"FireBrick\"}, \"hovertext\": \"Step 27 [2018-05-16 08:00:00]<br>SELL 0.43199584 BTC @ 8207.48 USD MARKET<br>Total: 3545.6 USD - Comm.: 0.00129989 BTC\", \"opacity\": 0.6, \"showarrow\": true, \"x\": 26, \"xref\": \"x\", \"y\": 8207.48, \"yref\": \"y\"}, {\"arrowcolor\": \"FireBrick\", \"arrowhead\": 2, \"arrowsize\": 0.8, \"arrowwidth\": 4, \"ax\": 0, \"ay\": -15, \"hoverlabel\": {\"bgcolor\": \"FireBrick\"}, \"hovertext\": \"Step 26 [2018-05-16 07:00:00]<br>SELL 0.47999539 BTC @ 8232.99 USD MARKET<br>Total: 3951.8 USD - Comm.: 0.00144432 BTC\", \"opacity\": 0.6, \"showarrow\": true, \"x\": 25, \"xref\": \"x\", \"y\": 8232.99, \"yref\": \"y\"}, {\"arrowcolor\": \"FireBrick\", \"arrowhead\": 2, \"arrowsize\": 0.8, \"arrowwidth\": 4, \"ax\": 0, \"ay\": -15, \"hoverlabel\": {\"bgcolor\": \"FireBrick\"}, \"hovertext\": \"Step 25 [2018-05-16 06:00:00]<br>SELL 0.5333282 BTC @ 8238.8 USD MARKET<br>Total: 4393.98 USD - Comm.: 0.00160480 BTC\", \"opacity\": 0.6, \"showarrow\": true, \"x\": 24, \"xref\": \"x\", \"y\": 8238.8, \"yref\": \"y\"}, {\"arrowcolor\": \"FireBrick\", \"arrowhead\": 2, \"arrowsize\": 0.8, \"arrowwidth\": 4, \"ax\": 0, \"ay\": -15, \"hoverlabel\": {\"bgcolor\": \"FireBrick\"}, \"hovertext\": \"Step 24 [2018-05-16 05:00:00]<br>SELL 0.5925869 BTC @ 8220.4 USD MARKET<br>Total: 4871.3 USD - Comm.: 0.00178311 BTC\", \"opacity\": 0.6, \"showarrow\": true, \"x\": 23, \"xref\": \"x\", \"y\": 8220.4, \"yref\": \"y\"}, {\"arrowcolor\": \"FireBrick\", \"arrowhead\": 2, \"arrowsize\": 0.8, \"arrowwidth\": 4, \"ax\": 0, \"ay\": -15, \"hoverlabel\": {\"bgcolor\": \"FireBrick\"}, \"hovertext\": \"Step 23 [2018-05-16 04:00:00]<br>SELL 2.53965813 BTC @ 8229.38 USD MARKET<br>Total: 20899.81 USD - Comm.: 0.00764190 BTC\", \"opacity\": 0.6, \"showarrow\": true, \"x\": 22, \"xref\": \"x\", \"y\": 8229.38, \"yref\": \"y\"}, {\"arrowcolor\": \"FireBrick\", \"arrowhead\": 2, \"arrowsize\": 0.8, \"arrowwidth\": 4, \"ax\": 0, \"ay\": -15, \"hoverlabel\": {\"bgcolor\": \"FireBrick\"}, \"hovertext\": \"Step 23 [2018-05-16 04:00:00]<br>SELL 0.94061412 BTC @ 8229.38 USD MARKET<br>Total: 7740.67 USD - Comm.: 0.00283033 BTC\", \"opacity\": 0.6, \"showarrow\": true, \"x\": 22, \"xref\": \"x\", \"y\": 8229.38, \"yref\": \"y\"}, {\"arrowcolor\": \"FireBrick\", \"arrowhead\": 2, \"arrowsize\": 0.8, \"arrowwidth\": 4, \"ax\": 0, \"ay\": -15, \"hoverlabel\": {\"bgcolor\": \"FireBrick\"}, \"hovertext\": \"Step 22 [2018-05-16 03:00:00]<br>SELL 1.04512681 BTC @ 8164.79 USD MARKET<br>Total: 8533.24 USD - Comm.: 0.00314481 BTC\", \"opacity\": 0.6, \"showarrow\": true, \"x\": 21, \"xref\": \"x\", \"y\": 8164.79, \"yref\": \"y\"}, {\"arrowcolor\": \"FireBrick\", \"arrowhead\": 2, \"arrowsize\": 0.8, \"arrowwidth\": 4, \"ax\": 0, \"ay\": -15, \"hoverlabel\": {\"bgcolor\": \"FireBrick\"}, \"hovertext\": \"Step 22 [2018-05-16 03:00:00]<br>SELL 0.11414475 BTC @ 8164.79 USD MARKET<br>Total: 931.97 USD - Comm.: 0.00034346 BTC\", \"opacity\": 0.6, \"showarrow\": true, \"x\": 21, \"xref\": \"x\", \"y\": 8164.79, \"yref\": \"y\"}, {\"arrowcolor\": \"FireBrick\", \"arrowhead\": 2, \"arrowsize\": 0.8, \"arrowwidth\": 4, \"ax\": 0, \"ay\": -15, \"hoverlabel\": {\"bgcolor\": \"FireBrick\"}, \"hovertext\": \"Step 21 [2018-05-16 02:00:00]<br>SELL 0.0338554 BTC @ 8133.43 USD MARKET<br>Total: 275.36 USD - Comm.: 0.00010187 BTC\", \"opacity\": 0.6, \"showarrow\": true, \"x\": 20, \"xref\": \"x\", \"y\": 8133.43, \"yref\": \"y\"}, {\"arrowcolor\": \"FireBrick\", \"arrowhead\": 2, \"arrowsize\": 0.8, \"arrowwidth\": 4, \"ax\": 0, \"ay\": -15, \"hoverlabel\": {\"bgcolor\": \"FireBrick\"}, \"hovertext\": \"Step 21 [2018-05-16 02:00:00]<br>SELL 0.09078506 BTC @ 8133.43 USD MARKET<br>Total: 738.39 USD - Comm.: 0.00027317 BTC\", \"opacity\": 0.6, \"showarrow\": true, \"x\": 20, \"xref\": \"x\", \"y\": 8133.43, \"yref\": \"y\"}, {\"arrowcolor\": \"FireBrick\", \"arrowhead\": 2, \"arrowsize\": 0.8, \"arrowwidth\": 4, \"ax\": 0, \"ay\": -15, \"hoverlabel\": {\"bgcolor\": \"FireBrick\"}, \"hovertext\": \"Step 21 [2018-05-16 02:00:00]<br>SELL 0.56940491 BTC @ 8133.43 USD MARKET<br>Total: 4631.21 USD - Comm.: 0.00171335 BTC\", \"opacity\": 0.6, \"showarrow\": true, \"x\": 20, \"xref\": \"x\", \"y\": 8133.43, \"yref\": \"y\"}, {\"arrowcolor\": \"DarkGreen\", \"arrowhead\": 2, \"arrowsize\": 0.8, \"arrowwidth\": 4, \"ax\": 0, \"ay\": 15, \"hoverlabel\": {\"bgcolor\": \"DarkGreen\"}, \"hovertext\": \"Step 20 [2018-05-16 01:00:00]<br>BUY 0.9336042 BTC @ 8326.28 USD MARKET<br>Total: 7773.45 USD - Comm.: 23.39 USD\", \"opacity\": 0.6, \"showarrow\": true, \"x\": 19, \"xref\": \"x\", \"y\": 8326.28, \"yref\": \"y\"}, {\"arrowcolor\": \"DarkGreen\", \"arrowhead\": 2, \"arrowsize\": 0.8, \"arrowwidth\": 4, \"ax\": 0, \"ay\": 15, \"hoverlabel\": {\"bgcolor\": \"DarkGreen\"}, \"hovertext\": \"Step 20 [2018-05-16 01:00:00]<br>BUY 8.50559313 BTC @ 8326.28 USD MARKET<br>Total: 70819.95 USD - Comm.: 213.10 USD\", \"opacity\": 0.6, \"showarrow\": true, \"x\": 19, \"xref\": \"x\", \"y\": 8326.28, \"yref\": \"y\"}, {\"arrowcolor\": \"DarkGreen\", \"arrowhead\": 2, \"arrowsize\": 0.8, \"arrowwidth\": 4, \"ax\": 0, \"ay\": 15, \"hoverlabel\": {\"bgcolor\": \"DarkGreen\"}, \"hovertext\": \"Step 20 [2018-05-16 01:00:00]<br>BUY 1.04351883 BTC @ 8326.28 USD MARKET<br>Total: 8688.63 USD - Comm.: 26.14 USD\", \"opacity\": 0.6, \"showarrow\": true, \"x\": 19, \"xref\": \"x\", \"y\": 8326.28, \"yref\": \"y\"}, {\"arrowcolor\": \"DarkGreen\", \"arrowhead\": 2, \"arrowsize\": 0.8, \"arrowwidth\": 4, \"ax\": 0, \"ay\": 15, \"hoverlabel\": {\"bgcolor\": \"DarkGreen\"}, \"hovertext\": \"Step 19 [2018-05-16 00:00:00]<br>BUY 0.03395727 BTC @ 8455.92 USD MARKET<br>Total: 287.14 USD - Comm.: 0.86 USD\", \"opacity\": 0.6, \"showarrow\": true, \"x\": 18, \"xref\": \"x\", \"y\": 8455.92, \"yref\": \"y\"}, {\"arrowcolor\": \"DarkGreen\", \"arrowhead\": 2, \"arrowsize\": 0.8, \"arrowwidth\": 4, \"ax\": 0, \"ay\": 15, \"hoverlabel\": {\"bgcolor\": \"DarkGreen\"}, \"hovertext\": \"Step 17 [2018-05-15 22:00:00]<br>BUY 0.00377069 BTC @ 8460.0 USD MARKET<br>Total: 31.9 USD - Comm.: 0.10 USD\", \"opacity\": 0.6, \"showarrow\": true, \"x\": 16, \"xref\": \"x\", \"y\": 8460.0, \"yref\": \"y\"}, {\"arrowcolor\": \"DarkGreen\", \"arrowhead\": 2, \"arrowsize\": 0.8, \"arrowwidth\": 4, \"ax\": 0, \"ay\": 15, \"hoverlabel\": {\"bgcolor\": \"DarkGreen\"}, \"hovertext\": \"Step 13 [2018-05-15 18:00:00]<br>BUY 0.33675124 BTC @ 8526.65 USD MARKET<br>Total: 2871.36 USD - Comm.: 8.64 USD\", \"opacity\": 0.6, \"showarrow\": true, \"x\": 12, \"xref\": \"x\", \"y\": 8526.65, \"yref\": \"y\"}, {\"arrowcolor\": \"FireBrick\", \"arrowhead\": 2, \"arrowsize\": 0.8, \"arrowwidth\": 4, \"ax\": 0, \"ay\": -15, \"hoverlabel\": {\"bgcolor\": \"FireBrick\"}, \"hovertext\": \"Step 10 [2018-05-15 15:00:00]<br>SELL 0.91508999 BTC @ 8520.3 USD MARKET<br>Total: 7796.84 USD - Comm.: 0.00275353 BTC\", \"opacity\": 0.6, \"showarrow\": true, \"x\": 9, \"xref\": \"x\", \"y\": 8520.3, \"yref\": \"y\"}, {\"arrowcolor\": \"DarkGreen\", \"arrowhead\": 2, \"arrowsize\": 0.8, \"arrowwidth\": 4, \"ax\": 0, \"ay\": 15, \"hoverlabel\": {\"bgcolor\": \"DarkGreen\"}, \"hovertext\": \"Step 9 [2018-05-15 14:00:00]<br>BUY 0.91784352 BTC @ 8517.77 USD MARKET<br>Total: 7817.98 USD - Comm.: 23.52 USD\", \"opacity\": 0.6, \"showarrow\": true, \"x\": 8, \"xref\": \"x\", \"y\": 8517.77, \"yref\": \"y\"}, {\"arrowcolor\": \"DarkGreen\", \"arrowhead\": 2, \"arrowsize\": 0.8, \"arrowwidth\": 4, \"ax\": 0, \"ay\": 15, \"hoverlabel\": {\"bgcolor\": \"DarkGreen\"}, \"hovertext\": \"Step 8 [2018-05-15 13:00:00]<br>BUY 0.09105823 BTC @ 8759.23 USD MARKET<br>Total: 797.6 USD - Comm.: 2.40 USD\", \"opacity\": 0.6, \"showarrow\": true, \"x\": 7, \"xref\": \"x\", \"y\": 8759.23, \"yref\": \"y\"}, {\"arrowcolor\": \"FireBrick\", \"arrowhead\": 2, \"arrowsize\": 0.8, \"arrowwidth\": 4, \"ax\": 0, \"ay\": -15, \"hoverlabel\": {\"bgcolor\": \"FireBrick\"}, \"hovertext\": \"Step 5 [2018-05-15 10:00:00]<br>SELL 8.0757 BTC @ 8795.9 USD MARKET<br>Total: 71033.05 USD - Comm.: 0.02430000 BTC\", \"opacity\": 0.6, \"showarrow\": true, \"x\": 4, \"xref\": \"x\", \"y\": 8795.9, \"yref\": \"y\"}, {\"arrowcolor\": \"DarkGreen\", \"arrowhead\": 2, \"arrowsize\": 0.8, \"arrowwidth\": 4, \"ax\": 0, \"ay\": 15, \"hoverlabel\": {\"bgcolor\": \"DarkGreen\"}, \"hovertext\": \"Step 4 [2018-05-15 09:00:00]<br>BUY 0.11448821 BTC @ 8708.32 USD MARKET<br>Total: 997.0 USD - Comm.: 3.00 USD\", \"opacity\": 0.6, \"showarrow\": true, \"x\": 3, \"xref\": \"x\", \"y\": 8708.32, \"yref\": \"y\"}, {\"arrowcolor\": \"DarkGreen\", \"arrowhead\": 2, \"arrowsize\": 0.8, \"arrowwidth\": 4, \"ax\": 0, \"ay\": 15, \"hoverlabel\": {\"bgcolor\": \"DarkGreen\"}, \"hovertext\": \"Step 3 [2018-05-15 08:00:00]<br>BUY 0.57111826 BTC @ 8728.49 USD MARKET<br>Total: 4985.0 USD - Comm.: 15.00 USD\", \"opacity\": 0.6, \"showarrow\": true, \"x\": 2, \"xref\": \"x\", \"y\": 8728.49, \"yref\": \"y\"}, {\"arrowcolor\": \"FireBrick\", \"arrowhead\": 2, \"arrowsize\": 0.8, \"arrowwidth\": 4, \"ax\": 0, \"ay\": -15, \"hoverlabel\": {\"bgcolor\": \"FireBrick\"}, \"hovertext\": \"Step 2 [2018-05-15 07:00:00]<br>SELL 0.8973 BTC @ 8739.0 USD MARKET<br>Total: 7841.5 USD - Comm.: 0.00270000 BTC\", \"opacity\": 0.6, \"showarrow\": true, \"x\": 1, \"xref\": \"x\", \"y\": 8739.0, \"yref\": \"y\"}, {\"arrowcolor\": \"FireBrick\", \"arrowhead\": 2, \"arrowsize\": 0.8, \"arrowwidth\": 4, \"ax\": 0, \"ay\": -15, \"hoverlabel\": {\"bgcolor\": \"FireBrick\"}, \"hovertext\": \"Step 1 [2018-05-15 06:00:00]<br>SELL 0.997 BTC @ 8740.99 USD MARKET<br>Total: 8714.77 USD - Comm.: 0.00300000 BTC\", \"opacity\": 0.6, \"showarrow\": true, \"x\": 0, \"xref\": \"x\", \"y\": 8740.99, \"yref\": \"y\"}, {\"arrowcolor\": \"DarkGreen\", \"arrowhead\": 2, \"arrowsize\": 0.8, \"arrowwidth\": 4, \"ax\": 0, \"ay\": 15, \"hoverlabel\": {\"bgcolor\": \"DarkGreen\"}, \"hovertext\": \"Step 91 [2018-05-19 00:00:00]<br>BUY 0.00282705 BTC @ 8213.5 USD MARKET<br>Total: 23.22 USD - Comm.: 0.07 USD\", \"opacity\": 0.6, \"showarrow\": true, \"x\": 90, \"xref\": \"x\", \"y\": 8213.5, \"yref\": \"y\"}, {\"arrowcolor\": \"DarkGreen\", \"arrowhead\": 2, \"arrowsize\": 0.8, \"arrowwidth\": 4, \"ax\": 0, \"ay\": 15, \"hoverlabel\": {\"bgcolor\": \"DarkGreen\"}, \"hovertext\": \"Step 89 [2018-05-18 22:00:00]<br>BUY 0.0065901 BTC @ 8219.9 USD MARKET<br>Total: 54.17 USD - Comm.: 0.16 USD\", \"opacity\": 0.6, \"showarrow\": true, \"x\": 88, \"xref\": \"x\", \"y\": 8219.9, \"yref\": \"y\"}, {\"arrowcolor\": \"DarkGreen\", \"arrowhead\": 2, \"arrowsize\": 0.8, \"arrowwidth\": 4, \"ax\": 0, \"ay\": 15, \"hoverlabel\": {\"bgcolor\": \"DarkGreen\"}, \"hovertext\": \"Step 86 [2018-05-18 19:00:00]<br>BUY 0.02193668 BTC @ 8231.42 USD MARKET<br>Total: 180.57 USD - Comm.: 0.54 USD\", \"opacity\": 0.6, \"showarrow\": true, \"x\": 85, \"xref\": \"x\", \"y\": 8231.42, \"yref\": \"y\"}, {\"arrowcolor\": \"DarkGreen\", \"arrowhead\": 2, \"arrowsize\": 0.8, \"arrowwidth\": 4, \"ax\": 0, \"ay\": 15, \"hoverlabel\": {\"bgcolor\": \"DarkGreen\"}, \"hovertext\": \"Step 82 [2018-05-18 15:00:00]<br>BUY 0.00353082 BTC @ 8117.09 USD MARKET<br>Total: 28.66 USD - Comm.: 0.09 USD\", \"opacity\": 0.6, \"showarrow\": true, \"x\": 81, \"xref\": \"x\", \"y\": 8117.09, \"yref\": \"y\"}, {\"arrowcolor\": \"DarkGreen\", \"arrowhead\": 2, \"arrowsize\": 0.8, \"arrowwidth\": 4, \"ax\": 0, \"ay\": 15, \"hoverlabel\": {\"bgcolor\": \"DarkGreen\"}, \"hovertext\": \"Step 75 [2018-05-18 08:00:00]<br>BUY 1.32531497 BTC @ 8122.19 USD MARKET<br>Total: 10764.46 USD - Comm.: 32.39 USD\", \"opacity\": 0.6, \"showarrow\": true, \"x\": 74, \"xref\": \"x\", \"y\": 8122.19, \"yref\": \"y\"}, {\"arrowcolor\": \"FireBrick\", \"arrowhead\": 2, \"arrowsize\": 0.8, \"arrowwidth\": 4, \"ax\": 0, \"ay\": -15, \"hoverlabel\": {\"bgcolor\": \"FireBrick\"}, \"hovertext\": \"Step 67 [2018-05-18 00:00:00]<br>SELL 1.38469357 BTC @ 7958.08 USD MARKET<br>Total: 11019.5 USD - Comm.: 0.00416658 BTC\", \"opacity\": 0.6, \"showarrow\": true, \"x\": 66, \"xref\": \"x\", \"y\": 7958.08, \"yref\": \"y\"}, {\"arrowcolor\": \"DarkGreen\", \"arrowhead\": 2, \"arrowsize\": 0.8, \"arrowwidth\": 4, \"ax\": 0, \"ay\": 15, \"hoverlabel\": {\"bgcolor\": \"DarkGreen\"}, \"hovertext\": \"Step 66 [2018-05-17 23:00:00]<br>BUY 0.31976328 BTC @ 8067.03 USD MARKET<br>Total: 2579.54 USD - Comm.: 7.76 USD\", \"opacity\": 0.6, \"showarrow\": true, \"x\": 65, \"xref\": \"x\", \"y\": 8067.03, \"yref\": \"y\"}, {\"arrowcolor\": \"DarkGreen\", \"arrowhead\": 2, \"arrowsize\": 0.8, \"arrowwidth\": 4, \"ax\": 0, \"ay\": 15, \"hoverlabel\": {\"bgcolor\": \"DarkGreen\"}, \"hovertext\": \"Step 65 [2018-05-17 22:00:00]<br>BUY 1.38886015 BTC @ 8080.0 USD MARKET<br>Total: 11221.99 USD - Comm.: 33.77 USD\", \"opacity\": 0.6, \"showarrow\": true, \"x\": 64, \"xref\": \"x\", \"y\": 8080.0, \"yref\": \"y\"}, {\"arrowcolor\": \"DarkGreen\", \"arrowhead\": 2, \"arrowsize\": 0.8, \"arrowwidth\": 4, \"ax\": 0, \"ay\": 15, \"hoverlabel\": {\"bgcolor\": \"DarkGreen\"}, \"hovertext\": \"Step 63 [2018-05-17 20:00:00]<br>BUY 0.34950187 BTC @ 8200.7 USD MARKET<br>Total: 2866.16 USD - Comm.: 8.62 USD\", \"opacity\": 0.6, \"showarrow\": true, \"x\": 62, \"xref\": \"x\", \"y\": 8200.7, \"yref\": \"y\"}, {\"arrowcolor\": \"FireBrick\", \"arrowhead\": 2, \"arrowsize\": 0.8, \"arrowwidth\": 4, \"ax\": 0, \"ay\": -15, \"hoverlabel\": {\"bgcolor\": \"FireBrick\"}, \"hovertext\": \"Step 61 [2018-05-17 18:00:00]<br>SELL 0.39177085 BTC @ 8166.0 USD MARKET<br>Total: 3199.2 USD - Comm.: 0.00117885 BTC\", \"opacity\": 0.6, \"showarrow\": true, \"x\": 60, \"xref\": \"x\", \"y\": 8166.0, \"yref\": \"y\"}, {\"arrowcolor\": \"FireBrick\", \"arrowhead\": 2, \"arrowsize\": 0.8, \"arrowwidth\": 4, \"ax\": 0, \"ay\": -15, \"hoverlabel\": {\"bgcolor\": \"FireBrick\"}, \"hovertext\": \"Step 61 [2018-05-17 18:00:00]<br>SELL 0.31231475 BTC @ 8166.0 USD MARKET<br>Total: 2550.36 USD - Comm.: 0.00093976 BTC\", \"opacity\": 0.6, \"showarrow\": true, \"x\": 60, \"xref\": \"x\", \"y\": 8166.0, \"yref\": \"y\"}, {\"arrowcolor\": \"DarkGreen\", \"arrowhead\": 2, \"arrowsize\": 0.8, \"arrowwidth\": 4, \"ax\": 0, \"ay\": 15, \"hoverlabel\": {\"bgcolor\": \"DarkGreen\"}, \"hovertext\": \"Step 134 [2018-05-20 19:00:00]<br>BUY 0.05575763 BTC @ 8517.04 USD MARKET<br>Total: 474.89 USD - Comm.: 1.43 USD\", \"opacity\": 0.6, \"showarrow\": true, \"x\": 133, \"xref\": \"x\", \"y\": 8517.04, \"yref\": \"y\"}, {\"arrowcolor\": \"DarkGreen\", \"arrowhead\": 2, \"arrowsize\": 0.8, \"arrowwidth\": 4, \"ax\": 0, \"ay\": 15, \"hoverlabel\": {\"bgcolor\": \"DarkGreen\"}, \"hovertext\": \"Step 134 [2018-05-20 19:00:00]<br>BUY 0.39996055 BTC @ 8517.04 USD MARKET<br>Total: 3406.48 USD - Comm.: 10.25 USD\", \"opacity\": 0.6, \"showarrow\": true, \"x\": 133, \"xref\": \"x\", \"y\": 8517.04, \"yref\": \"y\"}, {\"arrowcolor\": \"DarkGreen\", \"arrowhead\": 2, \"arrowsize\": 0.8, \"arrowwidth\": 4, \"ax\": 0, \"ay\": 15, \"hoverlabel\": {\"bgcolor\": \"DarkGreen\"}, \"hovertext\": \"Step 133 [2018-05-20 18:00:00]<br>BUY 0.13085992 BTC @ 8524.0 USD MARKET<br>Total: 1115.45 USD - Comm.: 3.36 USD\", \"opacity\": 0.6, \"showarrow\": true, \"x\": 132, \"xref\": \"x\", \"y\": 8524.0, \"yref\": \"y\"}, {\"arrowcolor\": \"DarkGreen\", \"arrowhead\": 2, \"arrowsize\": 0.8, \"arrowwidth\": 4, \"ax\": 0, \"ay\": 15, \"hoverlabel\": {\"bgcolor\": \"DarkGreen\"}, \"hovertext\": \"Step 133 [2018-05-20 18:00:00]<br>BUY 0.54947325 BTC @ 8524.0 USD MARKET<br>Total: 4683.71 USD - Comm.: 14.09 USD\", \"opacity\": 0.6, \"showarrow\": true, \"x\": 132, \"xref\": \"x\", \"y\": 8524.0, \"yref\": \"y\"}, {\"arrowcolor\": \"FireBrick\", \"arrowhead\": 2, \"arrowsize\": 0.8, \"arrowwidth\": 4, \"ax\": 0, \"ay\": -15, \"hoverlabel\": {\"bgcolor\": \"FireBrick\"}, \"hovertext\": \"Step 132 [2018-05-20 17:00:00]<br>SELL 0.00657033 BTC @ 8516.36 USD MARKET<br>Total: 55.96 USD - Comm.: 0.00001977 BTC\", \"opacity\": 0.6, \"showarrow\": true, \"x\": 131, \"xref\": \"x\", \"y\": 8516.36, \"yref\": \"y\"}, {\"arrowcolor\": \"DarkGreen\", \"arrowhead\": 2, \"arrowsize\": 0.8, \"arrowwidth\": 4, \"ax\": 0, \"ay\": 15, \"hoverlabel\": {\"bgcolor\": \"DarkGreen\"}, \"hovertext\": \"Step 132 [2018-05-20 17:00:00]<br>BUY 0.23429141 BTC @ 8516.36 USD MARKET<br>Total: 1995.31 USD - Comm.: 6.00 USD\", \"opacity\": 0.6, \"showarrow\": true, \"x\": 131, \"xref\": \"x\", \"y\": 8516.36, \"yref\": \"y\"}, {\"arrowcolor\": \"DarkGreen\", \"arrowhead\": 2, \"arrowsize\": 0.8, \"arrowwidth\": 4, \"ax\": 0, \"ay\": 15, \"hoverlabel\": {\"bgcolor\": \"DarkGreen\"}, \"hovertext\": \"Step 132 [2018-05-20 17:00:00]<br>BUY 0.36318451 BTC @ 8516.36 USD MARKET<br>Total: 3093.01 USD - Comm.: 9.31 USD\", \"opacity\": 0.6, \"showarrow\": true, \"x\": 131, \"xref\": \"x\", \"y\": 8516.36, \"yref\": \"y\"}, {\"arrowcolor\": \"DarkGreen\", \"arrowhead\": 2, \"arrowsize\": 0.8, \"arrowwidth\": 4, \"ax\": 0, \"ay\": 15, \"hoverlabel\": {\"bgcolor\": \"DarkGreen\"}, \"hovertext\": \"Step 132 [2018-05-20 17:00:00]<br>BUY 0.49763279 BTC @ 8516.36 USD MARKET<br>Total: 4238.02 USD - Comm.: 12.75 USD\", \"opacity\": 0.6, \"showarrow\": true, \"x\": 131, \"xref\": \"x\", \"y\": 8516.36, \"yref\": \"y\"}, {\"arrowcolor\": \"DarkGreen\", \"arrowhead\": 2, \"arrowsize\": 0.8, \"arrowwidth\": 4, \"ax\": 0, \"ay\": 15, \"hoverlabel\": {\"bgcolor\": \"DarkGreen\"}, \"hovertext\": \"Step 132 [2018-05-20 17:00:00]<br>BUY 0.87565462 BTC @ 8516.36 USD MARKET<br>Total: 7457.39 USD - Comm.: 22.44 USD\", \"opacity\": 0.6, \"showarrow\": true, \"x\": 131, \"xref\": \"x\", \"y\": 8516.36, \"yref\": \"y\"}, {\"arrowcolor\": \"FireBrick\", \"arrowhead\": 2, \"arrowsize\": 0.8, \"arrowwidth\": 4, \"ax\": 0, \"ay\": -15, \"hoverlabel\": {\"bgcolor\": \"FireBrick\"}, \"hovertext\": \"Step 131 [2018-05-20 16:00:00]<br>SELL 0.00281857 BTC @ 8481.11 USD MARKET<br>Total: 23.9 USD - Comm.: 0.00000848 BTC\", \"opacity\": 0.6, \"showarrow\": true, \"x\": 130, \"xref\": \"x\", \"y\": 8481.11, \"yref\": \"y\"}, {\"arrowcolor\": \"FireBrick\", \"arrowhead\": 2, \"arrowsize\": 0.8, \"arrowwidth\": 4, \"ax\": 0, \"ay\": -15, \"hoverlabel\": {\"bgcolor\": \"FireBrick\"}, \"hovertext\": \"Step 131 [2018-05-20 16:00:00]<br>SELL 0.02187087 BTC @ 8481.11 USD MARKET<br>Total: 185.49 USD - Comm.: 0.00006581 BTC\", \"opacity\": 0.6, \"showarrow\": true, \"x\": 130, \"xref\": \"x\", \"y\": 8481.11, \"yref\": \"y\"}, {\"arrowcolor\": \"DarkGreen\", \"arrowhead\": 2, \"arrowsize\": 0.8, \"arrowwidth\": 4, \"ax\": 0, \"ay\": 15, \"hoverlabel\": {\"bgcolor\": \"DarkGreen\"}, \"hovertext\": \"Step 131 [2018-05-20 16:00:00]<br>BUY 0.25962639 BTC @ 8481.11 USD MARKET<br>Total: 2201.92 USD - Comm.: 6.63 USD\", \"opacity\": 0.6, \"showarrow\": true, \"x\": 130, \"xref\": \"x\", \"y\": 8481.11, \"yref\": \"y\"}, {\"arrowcolor\": \"DarkGreen\", \"arrowhead\": 2, \"arrowsize\": 0.8, \"arrowwidth\": 4, \"ax\": 0, \"ay\": 15, \"hoverlabel\": {\"bgcolor\": \"DarkGreen\"}, \"hovertext\": \"Step 131 [2018-05-20 16:00:00]<br>BUY 0.45096456 BTC @ 8481.11 USD MARKET<br>Total: 3824.68 USD - Comm.: 11.51 USD\", \"opacity\": 0.6, \"showarrow\": true, \"x\": 130, \"xref\": \"x\", \"y\": 8481.11, \"yref\": \"y\"}, {\"arrowcolor\": \"DarkGreen\", \"arrowhead\": 2, \"arrowsize\": 0.8, \"arrowwidth\": 4, \"ax\": 0, \"ay\": 15, \"hoverlabel\": {\"bgcolor\": \"DarkGreen\"}, \"hovertext\": \"Step 131 [2018-05-20 16:00:00]<br>BUY 2.38396153 BTC @ 8481.11 USD MARKET<br>Total: 20218.64 USD - Comm.: 60.84 USD\", \"opacity\": 0.6, \"showarrow\": true, \"x\": 130, \"xref\": \"x\", \"y\": 8481.11, \"yref\": \"y\"}, {\"arrowcolor\": \"DarkGreen\", \"arrowhead\": 2, \"arrowsize\": 0.8, \"arrowwidth\": 4, \"ax\": 0, \"ay\": 15, \"hoverlabel\": {\"bgcolor\": \"DarkGreen\"}, \"hovertext\": \"Step 131 [2018-05-20 16:00:00]<br>BUY 0.96571439 BTC @ 8481.11 USD MARKET<br>Total: 8190.33 USD - Comm.: 24.64 USD\", \"opacity\": 0.6, \"showarrow\": true, \"x\": 130, \"xref\": \"x\", \"y\": 8481.11, \"yref\": \"y\"}, {\"arrowcolor\": \"FireBrick\", \"arrowhead\": 2, \"arrowsize\": 0.8, \"arrowwidth\": 4, \"ax\": 0, \"ay\": -15, \"hoverlabel\": {\"bgcolor\": \"FireBrick\"}, \"hovertext\": \"Step 124 [2018-05-20 09:00:00]<br>SELL 0.27049566 BTC @ 8350.62 USD MARKET<br>Total: 2258.81 USD - Comm.: 0.00081393 BTC\", \"opacity\": 0.6, \"showarrow\": true, \"x\": 123, \"xref\": \"x\", \"y\": 8350.62, \"yref\": \"y\"}, {\"arrowcolor\": \"DarkGreen\", \"arrowhead\": 2, \"arrowsize\": 0.8, \"arrowwidth\": 4, \"ax\": 0, \"ay\": 15, \"hoverlabel\": {\"bgcolor\": \"DarkGreen\"}, \"hovertext\": \"Step 111 [2018-05-19 20:00:00]<br>BUY 0.27130959 BTC @ 8240.07 USD MARKET<br>Total: 2235.61 USD - Comm.: 6.73 USD\", \"opacity\": 0.6, \"showarrow\": true, \"x\": 110, \"xref\": \"x\", \"y\": 8240.07, \"yref\": \"y\"}, {\"arrowcolor\": \"FireBrick\", \"arrowhead\": 2, \"arrowsize\": 0.8, \"arrowwidth\": 4, \"ax\": 0, \"ay\": -15, \"hoverlabel\": {\"bgcolor\": \"FireBrick\"}, \"hovertext\": \"Step 103 [2018-05-19 12:00:00]<br>SELL 0.31880399 BTC @ 8348.65 USD MARKET<br>Total: 2661.58 USD - Comm.: 0.00095929 BTC\", \"opacity\": 0.6, \"showarrow\": true, \"x\": 102, \"xref\": \"x\", \"y\": 8348.65, \"yref\": \"y\"}, {\"arrowcolor\": \"FireBrick\", \"arrowhead\": 2, \"arrowsize\": 0.8, \"arrowwidth\": 4, \"ax\": 0, \"ay\": -15, \"hoverlabel\": {\"bgcolor\": \"FireBrick\"}, \"hovertext\": \"Step 102 [2018-05-19 11:00:00]<br>SELL 0.00352023 BTC @ 8365.0 USD MARKET<br>Total: 29.45 USD - Comm.: 0.00001059 BTC\", \"opacity\": 0.6, \"showarrow\": true, \"x\": 101, \"xref\": \"x\", \"y\": 8365.0, \"yref\": \"y\"}, {\"arrowcolor\": \"FireBrick\", \"arrowhead\": 2, \"arrowsize\": 0.8, \"arrowwidth\": 4, \"ax\": 0, \"ay\": -15, \"hoverlabel\": {\"bgcolor\": \"FireBrick\"}, \"hovertext\": \"Step 102 [2018-05-19 11:00:00]<br>SELL 0.34845336 BTC @ 8365.0 USD MARKET<br>Total: 2914.81 USD - Comm.: 0.00104851 BTC\", \"opacity\": 0.6, \"showarrow\": true, \"x\": 101, \"xref\": \"x\", \"y\": 8365.0, \"yref\": \"y\"}, {\"arrowcolor\": \"FireBrick\", \"arrowhead\": 2, \"arrowsize\": 0.8, \"arrowwidth\": 4, \"ax\": 0, \"ay\": -15, \"hoverlabel\": {\"bgcolor\": \"FireBrick\"}, \"hovertext\": \"Step 200 [2018-05-23 13:00:00]<br>SELL 0.04373667 BTC @ 7901.01 USD MARKET<br>Total: 345.56 USD - Comm.: 0.00013160 BTC\", \"opacity\": 0.6, \"showarrow\": true, \"x\": 199, \"xref\": \"x\", \"y\": 7901.01, \"yref\": \"y\"}, {\"arrowcolor\": \"FireBrick\", \"arrowhead\": 2, \"arrowsize\": 0.8, \"arrowwidth\": 4, \"ax\": 0, \"ay\": -15, \"hoverlabel\": {\"bgcolor\": \"FireBrick\"}, \"hovertext\": \"Step 199 [2018-05-23 12:00:00]<br>SELL 0.0485963 BTC @ 7911.83 USD MARKET<br>Total: 384.49 USD - Comm.: 0.00014623 BTC\", \"opacity\": 0.6, \"showarrow\": true, \"x\": 198, \"xref\": \"x\", \"y\": 7911.83, \"yref\": \"y\"}, {\"arrowcolor\": \"FireBrick\", \"arrowhead\": 2, \"arrowsize\": 0.8, \"arrowwidth\": 4, \"ax\": 0, \"ay\": -15, \"hoverlabel\": {\"bgcolor\": \"FireBrick\"}, \"hovertext\": \"Step 198 [2018-05-23 11:00:00]<br>SELL 0.05399588 BTC @ 7849.31 USD MARKET<br>Total: 423.83 USD - Comm.: 0.00016248 BTC\", \"opacity\": 0.6, \"showarrow\": true, \"x\": 197, \"xref\": \"x\", \"y\": 7849.31, \"yref\": \"y\"}, {\"arrowcolor\": \"FireBrick\", \"arrowhead\": 2, \"arrowsize\": 0.8, \"arrowwidth\": 4, \"ax\": 0, \"ay\": -15, \"hoverlabel\": {\"bgcolor\": \"FireBrick\"}, \"hovertext\": \"Step 197 [2018-05-23 10:00:00]<br>SELL 0.05999543 BTC @ 7847.1 USD MARKET<br>Total: 470.79 USD - Comm.: 0.00018053 BTC\", \"opacity\": 0.6, \"showarrow\": true, \"x\": 196, \"xref\": \"x\", \"y\": 7847.1, \"yref\": \"y\"}, {\"arrowcolor\": \"FireBrick\", \"arrowhead\": 2, \"arrowsize\": 0.8, \"arrowwidth\": 4, \"ax\": 0, \"ay\": -15, \"hoverlabel\": {\"bgcolor\": \"FireBrick\"}, \"hovertext\": \"Step 196 [2018-05-23 09:00:00]<br>SELL 0.06666159 BTC @ 7852.68 USD MARKET<br>Total: 523.47 USD - Comm.: 0.00020059 BTC\", \"opacity\": 0.6, \"showarrow\": true, \"x\": 195, \"xref\": \"x\", \"y\": 7852.68, \"yref\": \"y\"}, {\"arrowcolor\": \"FireBrick\", \"arrowhead\": 2, \"arrowsize\": 0.8, \"arrowwidth\": 4, \"ax\": 0, \"ay\": -15, \"hoverlabel\": {\"bgcolor\": \"FireBrick\"}, \"hovertext\": \"Step 195 [2018-05-23 08:00:00]<br>SELL 0.07406844 BTC @ 7848.3 USD MARKET<br>Total: 581.31 USD - Comm.: 0.00022287 BTC\", \"opacity\": 0.6, \"showarrow\": true, \"x\": 194, \"xref\": \"x\", \"y\": 7848.3, \"yref\": \"y\"}, {\"arrowcolor\": \"FireBrick\", \"arrowhead\": 2, \"arrowsize\": 0.8, \"arrowwidth\": 4, \"ax\": 0, \"ay\": -15, \"hoverlabel\": {\"bgcolor\": \"FireBrick\"}, \"hovertext\": \"Step 195 [2018-05-23 08:00:00]<br>SELL 0.39082707 BTC @ 7848.3 USD MARKET<br>Total: 3067.33 USD - Comm.: 0.00117601 BTC\", \"opacity\": 0.6, \"showarrow\": true, \"x\": 194, \"xref\": \"x\", \"y\": 7848.3, \"yref\": \"y\"}, {\"arrowcolor\": \"FireBrick\", \"arrowhead\": 2, \"arrowsize\": 0.8, \"arrowwidth\": 4, \"ax\": 0, \"ay\": -15, \"hoverlabel\": {\"bgcolor\": \"FireBrick\"}, \"hovertext\": \"Step 194 [2018-05-23 07:00:00]<br>SELL 0.03845919 BTC @ 7856.37 USD MARKET<br>Total: 302.15 USD - Comm.: 0.00011572 BTC\", \"opacity\": 0.6, \"showarrow\": true, \"x\": 193, \"xref\": \"x\", \"y\": 7856.37, \"yref\": \"y\"}, {\"arrowcolor\": \"DarkGreen\", \"arrowhead\": 2, \"arrowsize\": 0.8, \"arrowwidth\": 4, \"ax\": 0, \"ay\": 15, \"hoverlabel\": {\"bgcolor\": \"DarkGreen\"}, \"hovertext\": \"Step 194 [2018-05-23 07:00:00]<br>BUY 0.74291308 BTC @ 7856.37 USD MARKET<br>Total: 5836.6 USD - Comm.: 17.56 USD\", \"opacity\": 0.6, \"showarrow\": true, \"x\": 193, \"xref\": \"x\", \"y\": 7856.37, \"yref\": \"y\"}, {\"arrowcolor\": \"DarkGreen\", \"arrowhead\": 2, \"arrowsize\": 0.8, \"arrowwidth\": 4, \"ax\": 0, \"ay\": 15, \"hoverlabel\": {\"bgcolor\": \"DarkGreen\"}, \"hovertext\": \"Step 193 [2018-05-23 06:00:00]<br>BUY 0.03597224 BTC @ 7943.07 USD MARKET<br>Total: 285.73 USD - Comm.: 0.86 USD\", \"opacity\": 0.6, \"showarrow\": true, \"x\": 192, \"xref\": \"x\", \"y\": 7943.07, \"yref\": \"y\"}, {\"arrowcolor\": \"DarkGreen\", \"arrowhead\": 2, \"arrowsize\": 0.8, \"arrowwidth\": 4, \"ax\": 0, \"ay\": 15, \"hoverlabel\": {\"bgcolor\": \"DarkGreen\"}, \"hovertext\": \"Step 192 [2018-05-23 05:00:00]<br>BUY 0.15457606 BTC @ 7921.99 USD MARKET<br>Total: 1224.55 USD - Comm.: 3.68 USD\", \"opacity\": 0.6, \"showarrow\": true, \"x\": 191, \"xref\": \"x\", \"y\": 7921.99, \"yref\": \"y\"}, {\"arrowcolor\": \"FireBrick\", \"arrowhead\": 2, \"arrowsize\": 0.8, \"arrowwidth\": 4, \"ax\": 0, \"ay\": -15, \"hoverlabel\": {\"bgcolor\": \"FireBrick\"}, \"hovertext\": \"Step 187 [2018-05-23 00:00:00]<br>SELL 0.00375938 BTC @ 7949.35 USD MARKET<br>Total: 29.88 USD - Comm.: 0.00001131 BTC\", \"opacity\": 0.6, \"showarrow\": true, \"x\": 186, \"xref\": \"x\", \"y\": 7949.35, \"yref\": \"y\"}, {\"arrowcolor\": \"FireBrick\", \"arrowhead\": 2, \"arrowsize\": 0.8, \"arrowwidth\": 4, \"ax\": 0, \"ay\": -15, \"hoverlabel\": {\"bgcolor\": \"FireBrick\"}, \"hovertext\": \"Step 185 [2018-05-22 22:00:00]<br>SELL 0.50685766 BTC @ 7964.73 USD MARKET<br>Total: 4036.98 USD - Comm.: 0.00152515 BTC\", \"opacity\": 0.6, \"showarrow\": true, \"x\": 184, \"xref\": \"x\", \"y\": 7964.73, \"yref\": \"y\"}, {\"arrowcolor\": \"DarkGreen\", \"arrowhead\": 2, \"arrowsize\": 0.8, \"arrowwidth\": 4, \"ax\": 0, \"ay\": 15, \"hoverlabel\": {\"bgcolor\": \"DarkGreen\"}, \"hovertext\": \"Step 184 [2018-05-22 21:00:00]<br>BUY 0.01345427 BTC @ 8076.99 USD MARKET<br>Total: 108.67 USD - Comm.: 0.33 USD\", \"opacity\": 0.6, \"showarrow\": true, \"x\": 183, \"xref\": \"x\", \"y\": 8076.99, \"yref\": \"y\"}, {\"arrowcolor\": \"DarkGreen\", \"arrowhead\": 2, \"arrowsize\": 0.8, \"arrowwidth\": 4, \"ax\": 0, \"ay\": 15, \"hoverlabel\": {\"bgcolor\": \"DarkGreen\"}, \"hovertext\": \"Step 176 [2018-05-22 13:00:00]<br>BUY 0.03857491 BTC @ 8217.0 USD MARKET<br>Total: 316.97 USD - Comm.: 0.95 USD\", \"opacity\": 0.6, \"showarrow\": true, \"x\": 175, \"xref\": \"x\", \"y\": 8217.0, \"yref\": \"y\"}, {\"arrowcolor\": \"FireBrick\", \"arrowhead\": 2, \"arrowsize\": 0.8, \"arrowwidth\": 4, \"ax\": 0, \"ay\": -15, \"hoverlabel\": {\"bgcolor\": \"FireBrick\"}, \"hovertext\": \"Step 175 [2018-05-22 12:00:00]<br>SELL 0.05559036 BTC @ 8170.0 USD MARKET<br>Total: 454.17 USD - Comm.: 0.00016727 BTC\", \"opacity\": 0.6, \"showarrow\": true, \"x\": 174, \"xref\": \"x\", \"y\": 8170.0, \"yref\": \"y\"}, {\"arrowcolor\": \"DarkGreen\", \"arrowhead\": 2, \"arrowsize\": 0.8, \"arrowwidth\": 4, \"ax\": 0, \"ay\": 15, \"hoverlabel\": {\"bgcolor\": \"DarkGreen\"}, \"hovertext\": \"Step 153 [2018-05-21 14:00:00]<br>BUY 0.50838281 BTC @ 8407.09 USD MARKET<br>Total: 4274.02 USD - Comm.: 12.86 USD\", \"opacity\": 0.6, \"showarrow\": true, \"x\": 152, \"xref\": \"x\", \"y\": 8407.09, \"yref\": \"y\"}], \"margin\": {\"t\": 50}, \"template\": {\"data\": {\"bar\": [{\"error_x\": {\"color\": \"#2a3f5f\"}, \"error_y\": {\"color\": \"#2a3f5f\"}, \"marker\": {\"line\": {\"color\": \"white\", \"width\": 0.5}}, \"type\": \"bar\"}], \"barpolar\": [{\"marker\": {\"line\": {\"color\": \"white\", \"width\": 0.5}}, \"type\": \"barpolar\"}], \"carpet\": [{\"aaxis\": {\"endlinecolor\": \"#2a3f5f\", \"gridcolor\": \"#C8D4E3\", \"linecolor\": \"#C8D4E3\", \"minorgridcolor\": \"#C8D4E3\", \"startlinecolor\": \"#2a3f5f\"}, \"baxis\": {\"endlinecolor\": \"#2a3f5f\", \"gridcolor\": \"#C8D4E3\", \"linecolor\": \"#C8D4E3\", \"minorgridcolor\": \"#C8D4E3\", \"startlinecolor\": \"#2a3f5f\"}, \"type\": \"carpet\"}], \"choropleth\": [{\"colorbar\": {\"outlinewidth\": 0, \"ticks\": \"\"}, \"type\": \"choropleth\"}], \"contour\": [{\"colorbar\": {\"outlinewidth\": 0, \"ticks\": \"\"}, \"colorscale\": [[0.0, \"#0d0887\"], [0.1111111111111111, \"#46039f\"], [0.2222222222222222, \"#7201a8\"], [0.3333333333333333, \"#9c179e\"], [0.4444444444444444, \"#bd3786\"], [0.5555555555555556, \"#d8576b\"], [0.6666666666666666, \"#ed7953\"], [0.7777777777777778, \"#fb9f3a\"], [0.8888888888888888, \"#fdca26\"], [1.0, \"#f0f921\"]], \"type\": \"contour\"}], \"contourcarpet\": [{\"colorbar\": {\"outlinewidth\": 0, \"ticks\": \"\"}, \"type\": \"contourcarpet\"}], \"heatmap\": [{\"colorbar\": {\"outlinewidth\": 0, \"ticks\": \"\"}, \"colorscale\": [[0.0, \"#0d0887\"], [0.1111111111111111, \"#46039f\"], [0.2222222222222222, \"#7201a8\"], [0.3333333333333333, \"#9c179e\"], [0.4444444444444444, \"#bd3786\"], [0.5555555555555556, \"#d8576b\"], [0.6666666666666666, \"#ed7953\"], [0.7777777777777778, \"#fb9f3a\"], [0.8888888888888888, \"#fdca26\"], [1.0, \"#f0f921\"]], \"type\": \"heatmap\"}], \"heatmapgl\": [{\"colorbar\": {\"outlinewidth\": 0, \"ticks\": \"\"}, \"colorscale\": [[0.0, \"#0d0887\"], [0.1111111111111111, \"#46039f\"], [0.2222222222222222, \"#7201a8\"], [0.3333333333333333, \"#9c179e\"], [0.4444444444444444, \"#bd3786\"], [0.5555555555555556, \"#d8576b\"], [0.6666666666666666, \"#ed7953\"], [0.7777777777777778, \"#fb9f3a\"], [0.8888888888888888, \"#fdca26\"], [1.0, \"#f0f921\"]], \"type\": \"heatmapgl\"}], \"histogram\": [{\"marker\": {\"colorbar\": {\"outlinewidth\": 0, \"ticks\": \"\"}}, \"type\": \"histogram\"}], \"histogram2d\": [{\"colorbar\": {\"outlinewidth\": 0, \"ticks\": \"\"}, \"colorscale\": [[0.0, \"#0d0887\"], [0.1111111111111111, \"#46039f\"], [0.2222222222222222, \"#7201a8\"], [0.3333333333333333, \"#9c179e\"], [0.4444444444444444, \"#bd3786\"], [0.5555555555555556, \"#d8576b\"], [0.6666666666666666, \"#ed7953\"], [0.7777777777777778, \"#fb9f3a\"], [0.8888888888888888, \"#fdca26\"], [1.0, \"#f0f921\"]], \"type\": \"histogram2d\"}], \"histogram2dcontour\": [{\"colorbar\": {\"outlinewidth\": 0, \"ticks\": \"\"}, \"colorscale\": [[0.0, \"#0d0887\"], [0.1111111111111111, \"#46039f\"], [0.2222222222222222, \"#7201a8\"], [0.3333333333333333, \"#9c179e\"], [0.4444444444444444, \"#bd3786\"], [0.5555555555555556, \"#d8576b\"], [0.6666666666666666, \"#ed7953\"], [0.7777777777777778, \"#fb9f3a\"], [0.8888888888888888, \"#fdca26\"], [1.0, \"#f0f921\"]], \"type\": \"histogram2dcontour\"}], \"mesh3d\": [{\"colorbar\": {\"outlinewidth\": 0, \"ticks\": \"\"}, \"type\": \"mesh3d\"}], \"parcoords\": [{\"line\": {\"colorbar\": {\"outlinewidth\": 0, \"ticks\": \"\"}}, \"type\": \"parcoords\"}], \"pie\": [{\"automargin\": true, \"type\": \"pie\"}], \"scatter\": [{\"marker\": {\"colorbar\": {\"outlinewidth\": 0, \"ticks\": \"\"}}, \"type\": \"scatter\"}], \"scatter3d\": [{\"line\": {\"colorbar\": {\"outlinewidth\": 0, \"ticks\": \"\"}}, \"marker\": {\"colorbar\": {\"outlinewidth\": 0, \"ticks\": \"\"}}, \"type\": \"scatter3d\"}], \"scattercarpet\": [{\"marker\": {\"colorbar\": {\"outlinewidth\": 0, \"ticks\": \"\"}}, \"type\": \"scattercarpet\"}], \"scattergeo\": [{\"marker\": {\"colorbar\": {\"outlinewidth\": 0, \"ticks\": \"\"}}, \"type\": \"scattergeo\"}], \"scattergl\": [{\"marker\": {\"colorbar\": {\"outlinewidth\": 0, \"ticks\": \"\"}}, \"type\": \"scattergl\"}], \"scattermapbox\": [{\"marker\": {\"colorbar\": {\"outlinewidth\": 0, \"ticks\": \"\"}}, \"type\": \"scattermapbox\"}], \"scatterpolar\": [{\"marker\": {\"colorbar\": {\"outlinewidth\": 0, \"ticks\": \"\"}}, \"type\": \"scatterpolar\"}], \"scatterpolargl\": [{\"marker\": {\"colorbar\": {\"outlinewidth\": 0, \"ticks\": \"\"}}, \"type\": \"scatterpolargl\"}], \"scatterternary\": [{\"marker\": {\"colorbar\": {\"outlinewidth\": 0, \"ticks\": \"\"}}, \"type\": \"scatterternary\"}], \"surface\": [{\"colorbar\": {\"outlinewidth\": 0, \"ticks\": \"\"}, \"colorscale\": [[0.0, \"#0d0887\"], [0.1111111111111111, \"#46039f\"], [0.2222222222222222, \"#7201a8\"], [0.3333333333333333, \"#9c179e\"], [0.4444444444444444, \"#bd3786\"], [0.5555555555555556, \"#d8576b\"], [0.6666666666666666, \"#ed7953\"], [0.7777777777777778, \"#fb9f3a\"], [0.8888888888888888, \"#fdca26\"], [1.0, \"#f0f921\"]], \"type\": \"surface\"}], \"table\": [{\"cells\": {\"fill\": {\"color\": \"#EBF0F8\"}, \"line\": {\"color\": \"white\"}}, \"header\": {\"fill\": {\"color\": \"#C8D4E3\"}, \"line\": {\"color\": \"white\"}}, \"type\": \"table\"}]}, \"layout\": {\"annotationdefaults\": {\"arrowcolor\": \"#2a3f5f\", \"arrowhead\": 0, \"arrowwidth\": 1}, \"autotypenumbers\": \"strict\", \"coloraxis\": {\"colorbar\": {\"outlinewidth\": 0, \"ticks\": \"\"}}, \"colorscale\": {\"diverging\": [[0, \"#8e0152\"], [0.1, \"#c51b7d\"], [0.2, \"#de77ae\"], [0.3, \"#f1b6da\"], [0.4, \"#fde0ef\"], [0.5, \"#f7f7f7\"], [0.6, \"#e6f5d0\"], [0.7, \"#b8e186\"], [0.8, \"#7fbc41\"], [0.9, \"#4d9221\"], [1, \"#276419\"]], \"sequential\": [[0.0, \"#0d0887\"], [0.1111111111111111, \"#46039f\"], [0.2222222222222222, \"#7201a8\"], [0.3333333333333333, \"#9c179e\"], [0.4444444444444444, \"#bd3786\"], [0.5555555555555556, \"#d8576b\"], [0.6666666666666666, \"#ed7953\"], [0.7777777777777778, \"#fb9f3a\"], [0.8888888888888888, \"#fdca26\"], [1.0, \"#f0f921\"]], \"sequentialminus\": [[0.0, \"#0d0887\"], [0.1111111111111111, \"#46039f\"], [0.2222222222222222, \"#7201a8\"], [0.3333333333333333, \"#9c179e\"], [0.4444444444444444, \"#bd3786\"], [0.5555555555555556, \"#d8576b\"], [0.6666666666666666, \"#ed7953\"], [0.7777777777777778, \"#fb9f3a\"], [0.8888888888888888, \"#fdca26\"], [1.0, \"#f0f921\"]]}, \"colorway\": [\"#636efa\", \"#EF553B\", \"#00cc96\", \"#ab63fa\", \"#FFA15A\", \"#19d3f3\", \"#FF6692\", \"#B6E880\", \"#FF97FF\", \"#FECB52\"], \"font\": {\"color\": \"#2a3f5f\"}, \"geo\": {\"bgcolor\": \"white\", \"lakecolor\": \"white\", \"landcolor\": \"white\", \"showlakes\": true, \"showland\": true, \"subunitcolor\": \"#C8D4E3\"}, \"hoverlabel\": {\"align\": \"left\"}, \"hovermode\": \"closest\", \"mapbox\": {\"style\": \"light\"}, \"paper_bgcolor\": \"white\", \"plot_bgcolor\": \"white\", \"polar\": {\"angularaxis\": {\"gridcolor\": \"#EBF0F8\", \"linecolor\": \"#EBF0F8\", \"ticks\": \"\"}, \"bgcolor\": \"white\", \"radialaxis\": {\"gridcolor\": \"#EBF0F8\", \"linecolor\": \"#EBF0F8\", \"ticks\": \"\"}}, \"scene\": {\"xaxis\": {\"backgroundcolor\": \"white\", \"gridcolor\": \"#DFE8F3\", \"gridwidth\": 2, \"linecolor\": \"#EBF0F8\", \"showbackground\": true, \"ticks\": \"\", \"zerolinecolor\": \"#EBF0F8\"}, \"yaxis\": {\"backgroundcolor\": \"white\", \"gridcolor\": \"#DFE8F3\", \"gridwidth\": 2, \"linecolor\": \"#EBF0F8\", \"showbackground\": true, \"ticks\": \"\", \"zerolinecolor\": \"#EBF0F8\"}, \"zaxis\": {\"backgroundcolor\": \"white\", \"gridcolor\": \"#DFE8F3\", \"gridwidth\": 2, \"linecolor\": \"#EBF0F8\", \"showbackground\": true, \"ticks\": \"\", \"zerolinecolor\": \"#EBF0F8\"}}, \"shapedefaults\": {\"line\": {\"color\": \"#2a3f5f\"}}, \"ternary\": {\"aaxis\": {\"gridcolor\": \"#DFE8F3\", \"linecolor\": \"#A2B1C6\", \"ticks\": \"\"}, \"baxis\": {\"gridcolor\": \"#DFE8F3\", \"linecolor\": \"#A2B1C6\", \"ticks\": \"\"}, \"bgcolor\": \"white\", \"caxis\": {\"gridcolor\": \"#DFE8F3\", \"linecolor\": \"#A2B1C6\", \"ticks\": \"\"}}, \"title\": {\"x\": 0.05}, \"xaxis\": {\"automargin\": true, \"gridcolor\": \"#EBF0F8\", \"linecolor\": \"#EBF0F8\", \"ticks\": \"\", \"title\": {\"standoff\": 15}, \"zerolinecolor\": \"#EBF0F8\", \"zerolinewidth\": 2}, \"yaxis\": {\"automargin\": true, \"gridcolor\": \"#EBF0F8\", \"linecolor\": \"#EBF0F8\", \"ticks\": \"\", \"title\": {\"standoff\": 15}, \"zerolinecolor\": \"#EBF0F8\", \"zerolinewidth\": 2}}}, \"title\": {\"text\": \"[2021-02-12 00:08:29 AM] Episode: 2/2 Step: 201/200\"}, \"xaxis\": {\"anchor\": \"y\", \"domain\": [0.0, 1.0], \"gridcolor\": \"Gainsboro\", \"linecolor\": \"Grey\", \"matches\": \"x4\", \"rangeslider\": {\"visible\": false}, \"showticklabels\": false, \"title\": {\"font\": {\"size\": 12}, \"standoff\": 7, \"text\": \"Price\"}}, \"xaxis2\": {\"anchor\": \"y2\", \"domain\": [0.0, 1.0], \"gridcolor\": \"Gainsboro\", \"linecolor\": \"Grey\", \"matches\": \"x4\", \"showticklabels\": false, \"title\": {\"font\": {\"size\": 12}, \"standoff\": 7, \"text\": \"Volume\"}}, \"xaxis3\": {\"anchor\": \"y3\", \"domain\": [0.0, 1.0], \"gridcolor\": \"Gainsboro\", \"linecolor\": \"Grey\", \"matches\": \"x4\", \"showticklabels\": false, \"title\": {\"font\": {\"size\": 12}, \"standoff\": 7, \"text\": \"Performance\"}}, \"xaxis4\": {\"anchor\": \"y4\", \"domain\": [0.0, 1.0], \"gridcolor\": \"Gainsboro\", \"linecolor\": \"Grey\", \"title\": {\"font\": {\"size\": 12}, \"standoff\": 7, \"text\": \"Net Worth\"}}, \"yaxis\": {\"anchor\": \"x\", \"domain\": [0.49950000000000006, 1.0], \"gridcolor\": \"Gainsboro\", \"linecolor\": \"Grey\"}, \"yaxis2\": {\"anchor\": \"x2\", \"domain\": [0.333, 0.46950000000000003], \"gridcolor\": \"Gainsboro\", \"linecolor\": \"Grey\"}, \"yaxis3\": {\"anchor\": \"x3\", \"domain\": [0.1665, 0.30300000000000005], \"gridcolor\": \"Gainsboro\", \"linecolor\": \"Grey\"}, \"yaxis4\": {\"anchor\": \"x4\", \"domain\": [0.0, 0.1365], \"gridcolor\": \"Gainsboro\", \"linecolor\": \"Grey\"}},                        {\"responsive\": true}                    ).then(function(){\n                            \nvar gd = document.getElementById('3c31f543-38b4-4541-98cb-0ca6f79e5525');\nvar x = new MutationObserver(function (mutations, observer) {{\n        var display = window.getComputedStyle(gd).display;\n        if (!display || display === 'none') {{\n            console.log([gd, 'removed!']);\n            Plotly.purge(gd);\n            observer.disconnect();\n        }}\n}});\n\n// Listen for the removal of the full notebook cells\nvar notebookContainer = gd.closest('#notebook-container');\nif (notebookContainer) {{\n    x.observe(notebookContainer, {childList: true});\n}}\n\n// Listen for the clearing of the current output cell\nvar outputEl = gd.closest('.output');\nif (outputEl) {{\n    x.observe(outputEl, {childList: true});\n}}\n\n                        })                };                });            </script>        </div>"
     },
     "metadata": {},
     "output_type": "display_data"
    },
    {
     "data": {
      "text/plain": "-816711.792945375"
     },
     "execution_count": 11,
     "metadata": {},
     "output_type": "execute_result"
    }
   ],
   "source": [
    "agent = DQNAgent(env)\n",
    "\n",
    "agent.train(n_steps=200, n_episodes=2, save_path=\"agents/\")"
   ],
   "metadata": {
    "collapsed": false,
    "pycharm": {
     "name": "#%%\n"
    }
   }
  },
  {
   "cell_type": "code",
   "execution_count": null,
   "outputs": [],
   "source": [],
   "metadata": {
    "collapsed": false,
    "pycharm": {
     "name": "#%%\n"
    }
   }
  }
 ],
 "metadata": {
  "kernelspec": {
   "display_name": "Python 3",
   "language": "python",
   "name": "python3"
  },
  "language_info": {
   "codemirror_mode": {
    "name": "ipython",
    "version": 2
   },
   "file_extension": ".py",
   "mimetype": "text/x-python",
   "name": "python",
   "nbconvert_exporter": "python",
   "pygments_lexer": "ipython2",
   "version": "2.7.6"
  }
 },
 "nbformat": 4,
 "nbformat_minor": 0
}